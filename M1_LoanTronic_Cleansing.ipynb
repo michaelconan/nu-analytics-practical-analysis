{
 "metadata": {
  "language_info": {
   "codemirror_mode": {
    "name": "ipython",
    "version": 3
   },
   "file_extension": ".py",
   "mimetype": "text/x-python",
   "name": "python",
   "nbconvert_exporter": "python",
   "pygments_lexer": "ipython3",
   "version": "3.8.3"
  },
  "orig_nbformat": 2,
  "kernelspec": {
   "name": "python383jvsc74a57bd041e6209773aa37b74ace5eba6f1445f0bd28eaed78a9306a587800345dc110dd",
   "display_name": "Python 3.8.3 64-bit ('base': conda)"
  }
 },
 "nbformat": 4,
 "nbformat_minor": 2,
 "cells": [
  {
   "source": [
    "# Module 1\n",
    "\n",
    "### LoadTronic Employee Satisfaction Analysis\n",
    "\n",
    "This notebook is to perform initial exploration and cleansing of employee satisfaction survey data.\n",
    "\n",
    "Refer to the main notebook sections below:\n",
    "> [Questions](#Questions)\n",
    "\n",
    "> [Responses](#Responses)"
   ],
   "cell_type": "markdown",
   "metadata": {}
  },
  {
   "cell_type": "code",
   "execution_count": 1,
   "metadata": {},
   "outputs": [],
   "source": [
    "# Load modules for data anlaysis\n",
    "import pandas as pd \n",
    "import matplotlib.pyplot as plt"
   ]
  },
  {
   "source": [
    "## Questions\n",
    "Here we will load the questions data and answer the following questions:\n",
    "- How many “measurement” categories are there?\n",
    "- Do you notice anything strange about the category labels?\n",
    "- Are the measurement categories set up appropriately?"
   ],
   "cell_type": "markdown",
   "metadata": {}
  },
  {
   "cell_type": "code",
   "execution_count": 5,
   "metadata": {},
   "outputs": [
    {
     "output_type": "execute_result",
     "data": {
      "text/plain": [
       "   id   measurement                                           question\n",
       "0   1   engagement                    I am proud to work for [Company]\n",
       "1   2    engagement  I would recommend [Company] as a great place t...\n",
       "2   3    engagement  I rarely think about looking for a job at anot...\n",
       "3   4    engagement  I see myself still working at [Company] in two...\n",
       "4   5   engagement   [Company] motivates me to go beyond what I wou..."
      ],
      "text/html": "<div>\n<style scoped>\n    .dataframe tbody tr th:only-of-type {\n        vertical-align: middle;\n    }\n\n    .dataframe tbody tr th {\n        vertical-align: top;\n    }\n\n    .dataframe thead th {\n        text-align: right;\n    }\n</style>\n<table border=\"1\" class=\"dataframe\">\n  <thead>\n    <tr style=\"text-align: right;\">\n      <th></th>\n      <th>id</th>\n      <th>measurement</th>\n      <th>question</th>\n    </tr>\n  </thead>\n  <tbody>\n    <tr>\n      <th>0</th>\n      <td>1</td>\n      <td>engagement</td>\n      <td>I am proud to work for [Company]</td>\n    </tr>\n    <tr>\n      <th>1</th>\n      <td>2</td>\n      <td>engagement</td>\n      <td>I would recommend [Company] as a great place t...</td>\n    </tr>\n    <tr>\n      <th>2</th>\n      <td>3</td>\n      <td>engagement</td>\n      <td>I rarely think about looking for a job at anot...</td>\n    </tr>\n    <tr>\n      <th>3</th>\n      <td>4</td>\n      <td>engagement</td>\n      <td>I see myself still working at [Company] in two...</td>\n    </tr>\n    <tr>\n      <th>4</th>\n      <td>5</td>\n      <td>engagement</td>\n      <td>[Company] motivates me to go beyond what I wou...</td>\n    </tr>\n  </tbody>\n</table>\n</div>"
     },
     "metadata": {},
     "execution_count": 5
    }
   ],
   "source": [
    "# Read questions dataset from local csv\n",
    "q_df_raw = pd.read_csv('questions.csv')\n",
    "q_df_raw.head()"
   ]
  },
  {
   "cell_type": "code",
   "execution_count": 21,
   "metadata": {},
   "outputs": [
    {
     "output_type": "execute_result",
     "data": {
      "text/plain": [
       "array(['I am proud to work for [Company]',\n",
       "       'I would recommend [Company] as a great place to work',\n",
       "       'I rarely think about looking for a job at another company',\n",
       "       \"I see myself still working at [Company] in two years' time\",\n",
       "       '[Company] motivates me to go beyond what I would in a similar role elsewhere',\n",
       "       'The leaders at [company] keep people informed about what is happening',\n",
       "       'My manager is a great role model for employees',\n",
       "       'The leaders at [Company] have communicated a vision that motivates me',\n",
       "       'I have access to the resources I need to do my job well',\n",
       "       'I have access to the learning and development I need to do my job well',\n",
       "       'Most of the systems and processes here support us getting our work done effectively',\n",
       "       'I know what I need to do to be successful in my role',\n",
       "       'I receive appropriate recognition when I do good work',\n",
       "       'Day-to-day decisions here demonstrate that quality and improvement are top priorities',\n",
       "       'My manager (or someone in management) has shown a genuine interest in my career aspirations',\n",
       "       'I believe there are good career opportunities for me at this company',\n",
       "       'This is a great company for me to make a contribution to my development'],\n",
       "      dtype=object)"
      ]
     },
     "metadata": {},
     "execution_count": 21
    }
   ],
   "source": [
    "q_df_raw['question'].unique()"
   ]
  },
  {
   "cell_type": "code",
   "execution_count": 6,
   "metadata": {},
   "outputs": [
    {
     "output_type": "execute_result",
     "data": {
      "text/plain": [
       "measurement\n",
       " alignment       2\n",
       " development     1\n",
       " enablement      2\n",
       " engagement      2\n",
       "alignment        1\n",
       "development      2\n",
       "enablement       1\n",
       "engagement       3\n",
       "leadership       3\n",
       "Name: question, dtype: int64"
      ]
     },
     "metadata": {},
     "execution_count": 6
    }
   ],
   "source": [
    "# Summary of number of questions by category\n",
    "q_df_raw.groupby('measurement')['question'].count()"
   ]
  },
  {
   "source": [
    "#### Measurements\n",
    "There appear to be `5` categories in total, but we are seeing an `extra 4 labels` in our group because they include *leading spaces*"
   ],
   "cell_type": "markdown",
   "metadata": {}
  },
  {
   "cell_type": "code",
   "execution_count": 7,
   "metadata": {},
   "outputs": [
    {
     "output_type": "execute_result",
     "data": {
      "text/plain": [
       "measurement\n",
       "alignment      3\n",
       "development    3\n",
       "enablement     3\n",
       "engagement     5\n",
       "leadership     3\n",
       "Name: question, dtype: int64"
      ]
     },
     "metadata": {},
     "execution_count": 7
    }
   ],
   "source": [
    "# Copy of dataframe to begin cleaning\n",
    "q_df = q_df_raw.copy()\n",
    "\n",
    "# Remove surround whitespace characters from field\n",
    "q_df['measurement'] = q_df['measurement'].str.strip()\n",
    "q_df.groupby('measurement')['question'].count()"
   ]
  },
  {
   "cell_type": "code",
   "execution_count": 8,
   "metadata": {},
   "outputs": [
    {
     "output_type": "execute_result",
     "data": {
      "text/plain": [
       "id              int64\n",
       "measurement    object\n",
       "question       object\n",
       "dtype: object"
      ]
     },
     "metadata": {},
     "execution_count": 8
    }
   ],
   "source": [
    "# To check column datatypes\n",
    "q_df.dtypes"
   ]
  },
  {
   "source": [
    "#### Measurement Categories\n",
    "We can see that the `measurement` field is set up as an `object` dtype. This is really categorical data and we can use a specific Pandas datatype to represent this."
   ],
   "cell_type": "markdown",
   "metadata": {}
  },
  {
   "cell_type": "code",
   "execution_count": 9,
   "metadata": {},
   "outputs": [
    {
     "output_type": "execute_result",
     "data": {
      "text/plain": [
       "id                int64\n",
       "measurement    category\n",
       "question         object\n",
       "dtype: object"
      ]
     },
     "metadata": {},
     "execution_count": 9
    }
   ],
   "source": [
    "# Convert to categorical\n",
    "q_df['measurement'] = q_df['measurement'].astype('category')\n",
    "q_df.dtypes"
   ]
  },
  {
   "cell_type": "code",
   "execution_count": 10,
   "metadata": {},
   "outputs": [],
   "source": [
    "# Save cleansed data\n",
    "q_df.to_csv('questions_clean.csv')"
   ]
  },
  {
   "source": [
    "## Responses\n",
    "Here we will load the responses data and answer the following questions:\n",
    "- Are any responses outside the expected range?\n",
    "- Do you observe any partial survey completions?\n",
    "- Do you notice anything unexpected with any of the responses?\n",
    "- Are there any partial responses?"
   ],
   "cell_type": "markdown",
   "metadata": {}
  },
  {
   "cell_type": "code",
   "execution_count": 11,
   "metadata": {},
   "outputs": [
    {
     "output_type": "execute_result",
     "data": {
      "text/plain": [
       "   employee_id  question_id  answer\n",
       "0          343            1       4\n",
       "1          343            2       4\n",
       "2          343            3       3\n",
       "3          343            4       3\n",
       "4          343            5       3"
      ],
      "text/html": "<div>\n<style scoped>\n    .dataframe tbody tr th:only-of-type {\n        vertical-align: middle;\n    }\n\n    .dataframe tbody tr th {\n        vertical-align: top;\n    }\n\n    .dataframe thead th {\n        text-align: right;\n    }\n</style>\n<table border=\"1\" class=\"dataframe\">\n  <thead>\n    <tr style=\"text-align: right;\">\n      <th></th>\n      <th>employee_id</th>\n      <th>question_id</th>\n      <th>answer</th>\n    </tr>\n  </thead>\n  <tbody>\n    <tr>\n      <th>0</th>\n      <td>343</td>\n      <td>1</td>\n      <td>4</td>\n    </tr>\n    <tr>\n      <th>1</th>\n      <td>343</td>\n      <td>2</td>\n      <td>4</td>\n    </tr>\n    <tr>\n      <th>2</th>\n      <td>343</td>\n      <td>3</td>\n      <td>3</td>\n    </tr>\n    <tr>\n      <th>3</th>\n      <td>343</td>\n      <td>4</td>\n      <td>3</td>\n    </tr>\n    <tr>\n      <th>4</th>\n      <td>343</td>\n      <td>5</td>\n      <td>3</td>\n    </tr>\n  </tbody>\n</table>\n</div>"
     },
     "metadata": {},
     "execution_count": 11
    }
   ],
   "source": [
    "r_df_raw = pd.read_csv('responses.csv')\n",
    "r_df_raw.head()"
   ]
  },
  {
   "cell_type": "code",
   "execution_count": 12,
   "metadata": {},
   "outputs": [
    {
     "output_type": "execute_result",
     "data": {
      "text/plain": [
       "       employee_id  question_id       answer\n",
       "count  6477.000000  6477.000000  6477.000000\n",
       "mean    391.624672     9.000000     3.865833\n",
       "std     219.857438     4.899358     0.847225\n",
       "min       4.000000     1.000000     1.000000\n",
       "25%     206.000000     5.000000     3.000000\n",
       "50%     396.000000     9.000000     4.000000\n",
       "75%     578.000000    13.000000     5.000000\n",
       "max     769.000000    17.000000     5.000000"
      ],
      "text/html": "<div>\n<style scoped>\n    .dataframe tbody tr th:only-of-type {\n        vertical-align: middle;\n    }\n\n    .dataframe tbody tr th {\n        vertical-align: top;\n    }\n\n    .dataframe thead th {\n        text-align: right;\n    }\n</style>\n<table border=\"1\" class=\"dataframe\">\n  <thead>\n    <tr style=\"text-align: right;\">\n      <th></th>\n      <th>employee_id</th>\n      <th>question_id</th>\n      <th>answer</th>\n    </tr>\n  </thead>\n  <tbody>\n    <tr>\n      <th>count</th>\n      <td>6477.000000</td>\n      <td>6477.000000</td>\n      <td>6477.000000</td>\n    </tr>\n    <tr>\n      <th>mean</th>\n      <td>391.624672</td>\n      <td>9.000000</td>\n      <td>3.865833</td>\n    </tr>\n    <tr>\n      <th>std</th>\n      <td>219.857438</td>\n      <td>4.899358</td>\n      <td>0.847225</td>\n    </tr>\n    <tr>\n      <th>min</th>\n      <td>4.000000</td>\n      <td>1.000000</td>\n      <td>1.000000</td>\n    </tr>\n    <tr>\n      <th>25%</th>\n      <td>206.000000</td>\n      <td>5.000000</td>\n      <td>3.000000</td>\n    </tr>\n    <tr>\n      <th>50%</th>\n      <td>396.000000</td>\n      <td>9.000000</td>\n      <td>4.000000</td>\n    </tr>\n    <tr>\n      <th>75%</th>\n      <td>578.000000</td>\n      <td>13.000000</td>\n      <td>5.000000</td>\n    </tr>\n    <tr>\n      <th>max</th>\n      <td>769.000000</td>\n      <td>17.000000</td>\n      <td>5.000000</td>\n    </tr>\n  </tbody>\n</table>\n</div>"
     },
     "metadata": {},
     "execution_count": 12
    }
   ],
   "source": [
    "# Check min/max answer for 1-5 scale\n",
    "r_df_raw.describe()"
   ]
  },
  {
   "cell_type": "code",
   "execution_count": 13,
   "metadata": {},
   "outputs": [
    {
     "output_type": "execute_result",
     "data": {
      "text/plain": [
       "             employee_id  answer\n",
       "question_id                     \n",
       "1                    381     381\n",
       "2                    381     381\n",
       "3                    381     381\n",
       "4                    381     381\n",
       "5                    381     381\n",
       "6                    381     381\n",
       "7                    381     381\n",
       "8                    381     381\n",
       "9                    381     381\n",
       "10                   381     381\n",
       "11                   381     381\n",
       "12                   381     381\n",
       "13                   381     381\n",
       "14                   381     381\n",
       "15                   381     381\n",
       "16                   381     381\n",
       "17                   381     381"
      ],
      "text/html": "<div>\n<style scoped>\n    .dataframe tbody tr th:only-of-type {\n        vertical-align: middle;\n    }\n\n    .dataframe tbody tr th {\n        vertical-align: top;\n    }\n\n    .dataframe thead th {\n        text-align: right;\n    }\n</style>\n<table border=\"1\" class=\"dataframe\">\n  <thead>\n    <tr style=\"text-align: right;\">\n      <th></th>\n      <th>employee_id</th>\n      <th>answer</th>\n    </tr>\n    <tr>\n      <th>question_id</th>\n      <th></th>\n      <th></th>\n    </tr>\n  </thead>\n  <tbody>\n    <tr>\n      <th>1</th>\n      <td>381</td>\n      <td>381</td>\n    </tr>\n    <tr>\n      <th>2</th>\n      <td>381</td>\n      <td>381</td>\n    </tr>\n    <tr>\n      <th>3</th>\n      <td>381</td>\n      <td>381</td>\n    </tr>\n    <tr>\n      <th>4</th>\n      <td>381</td>\n      <td>381</td>\n    </tr>\n    <tr>\n      <th>5</th>\n      <td>381</td>\n      <td>381</td>\n    </tr>\n    <tr>\n      <th>6</th>\n      <td>381</td>\n      <td>381</td>\n    </tr>\n    <tr>\n      <th>7</th>\n      <td>381</td>\n      <td>381</td>\n    </tr>\n    <tr>\n      <th>8</th>\n      <td>381</td>\n      <td>381</td>\n    </tr>\n    <tr>\n      <th>9</th>\n      <td>381</td>\n      <td>381</td>\n    </tr>\n    <tr>\n      <th>10</th>\n      <td>381</td>\n      <td>381</td>\n    </tr>\n    <tr>\n      <th>11</th>\n      <td>381</td>\n      <td>381</td>\n    </tr>\n    <tr>\n      <th>12</th>\n      <td>381</td>\n      <td>381</td>\n    </tr>\n    <tr>\n      <th>13</th>\n      <td>381</td>\n      <td>381</td>\n    </tr>\n    <tr>\n      <th>14</th>\n      <td>381</td>\n      <td>381</td>\n    </tr>\n    <tr>\n      <th>15</th>\n      <td>381</td>\n      <td>381</td>\n    </tr>\n    <tr>\n      <th>16</th>\n      <td>381</td>\n      <td>381</td>\n    </tr>\n    <tr>\n      <th>17</th>\n      <td>381</td>\n      <td>381</td>\n    </tr>\n  </tbody>\n</table>\n</div>"
     },
     "metadata": {},
     "execution_count": 13
    }
   ],
   "source": [
    "# Check response completeness\n",
    "r_df_raw.groupby('question_id').count()"
   ]
  },
  {
   "cell_type": "code",
   "execution_count": 17,
   "metadata": {},
   "outputs": [
    {
     "output_type": "execute_result",
     "data": {
      "text/plain": [
       "       question_id  answer\n",
       "count        381.0   381.0\n",
       "mean          17.0    17.0\n",
       "std            0.0     0.0\n",
       "min           17.0    17.0\n",
       "25%           17.0    17.0\n",
       "50%           17.0    17.0\n",
       "75%           17.0    17.0\n",
       "max           17.0    17.0"
      ],
      "text/html": "<div>\n<style scoped>\n    .dataframe tbody tr th:only-of-type {\n        vertical-align: middle;\n    }\n\n    .dataframe tbody tr th {\n        vertical-align: top;\n    }\n\n    .dataframe thead th {\n        text-align: right;\n    }\n</style>\n<table border=\"1\" class=\"dataframe\">\n  <thead>\n    <tr style=\"text-align: right;\">\n      <th></th>\n      <th>question_id</th>\n      <th>answer</th>\n    </tr>\n  </thead>\n  <tbody>\n    <tr>\n      <th>count</th>\n      <td>381.0</td>\n      <td>381.0</td>\n    </tr>\n    <tr>\n      <th>mean</th>\n      <td>17.0</td>\n      <td>17.0</td>\n    </tr>\n    <tr>\n      <th>std</th>\n      <td>0.0</td>\n      <td>0.0</td>\n    </tr>\n    <tr>\n      <th>min</th>\n      <td>17.0</td>\n      <td>17.0</td>\n    </tr>\n    <tr>\n      <th>25%</th>\n      <td>17.0</td>\n      <td>17.0</td>\n    </tr>\n    <tr>\n      <th>50%</th>\n      <td>17.0</td>\n      <td>17.0</td>\n    </tr>\n    <tr>\n      <th>75%</th>\n      <td>17.0</td>\n      <td>17.0</td>\n    </tr>\n    <tr>\n      <th>max</th>\n      <td>17.0</td>\n      <td>17.0</td>\n    </tr>\n  </tbody>\n</table>\n</div>"
     },
     "metadata": {},
     "execution_count": 17
    }
   ],
   "source": [
    "# Check for partial surveys\n",
    "r_df_raw.groupby('employee_id').count().describe()"
   ]
  },
  {
   "cell_type": "code",
   "execution_count": 15,
   "metadata": {},
   "outputs": [
    {
     "output_type": "stream",
     "name": "stdout",
     "text": [
      "<class 'pandas.core.frame.DataFrame'>\nRangeIndex: 6477 entries, 0 to 6476\nData columns (total 3 columns):\n #   Column       Non-Null Count  Dtype\n---  ------       --------------  -----\n 0   employee_id  6477 non-null   int64\n 1   question_id  6477 non-null   int64\n 2   answer       6477 non-null   int64\ndtypes: int64(3)\nmemory usage: 151.9 KB\n"
     ]
    }
   ],
   "source": [
    "# Confirm no null values\n",
    "r_df_raw.info()"
   ]
  },
  {
   "source": [
    "#### Response Evaluation\n",
    "Based on my initial evaluation, the response data appears to be in good shape. All answer values follow the `1-5 likert scale`, all survey responses appear to be `complete`, and no surveys appear to be `missing answers`."
   ],
   "cell_type": "markdown",
   "metadata": {}
  },
  {
   "cell_type": "code",
   "execution_count": 19,
   "metadata": {},
   "outputs": [
    {
     "output_type": "execute_result",
     "data": {
      "text/plain": [
       "   employee_id  question_id  answer  score\n",
       "0          343            1       4    0.8"
      ],
      "text/html": "<div>\n<style scoped>\n    .dataframe tbody tr th:only-of-type {\n        vertical-align: middle;\n    }\n\n    .dataframe tbody tr th {\n        vertical-align: top;\n    }\n\n    .dataframe thead th {\n        text-align: right;\n    }\n</style>\n<table border=\"1\" class=\"dataframe\">\n  <thead>\n    <tr style=\"text-align: right;\">\n      <th></th>\n      <th>employee_id</th>\n      <th>question_id</th>\n      <th>answer</th>\n      <th>score</th>\n    </tr>\n  </thead>\n  <tbody>\n    <tr>\n      <th>0</th>\n      <td>343</td>\n      <td>1</td>\n      <td>4</td>\n      <td>0.8</td>\n    </tr>\n  </tbody>\n</table>\n</div>"
     },
     "metadata": {},
     "execution_count": 19
    }
   ],
   "source": [
    "# Copy of dataframe for cleansing\n",
    "r_df = r_df_raw.copy()\n",
    "\n",
    "# Calculate score based on answer\n",
    "r_df['score'] = r_df['answer'] / 5\n",
    "r_df.head(1)"
   ]
  },
  {
   "cell_type": "code",
   "execution_count": 20,
   "metadata": {},
   "outputs": [
    {
     "output_type": "execute_result",
     "data": {
      "text/plain": [
       "       employee_id  question_id       answer        score\n",
       "count  6477.000000  6477.000000  6477.000000  6477.000000\n",
       "mean    391.624672     9.000000     3.865833     0.773167\n",
       "std     219.857438     4.899358     0.847225     0.169445\n",
       "min       4.000000     1.000000     1.000000     0.200000\n",
       "25%     206.000000     5.000000     3.000000     0.600000\n",
       "50%     396.000000     9.000000     4.000000     0.800000\n",
       "75%     578.000000    13.000000     5.000000     1.000000\n",
       "max     769.000000    17.000000     5.000000     1.000000"
      ],
      "text/html": "<div>\n<style scoped>\n    .dataframe tbody tr th:only-of-type {\n        vertical-align: middle;\n    }\n\n    .dataframe tbody tr th {\n        vertical-align: top;\n    }\n\n    .dataframe thead th {\n        text-align: right;\n    }\n</style>\n<table border=\"1\" class=\"dataframe\">\n  <thead>\n    <tr style=\"text-align: right;\">\n      <th></th>\n      <th>employee_id</th>\n      <th>question_id</th>\n      <th>answer</th>\n      <th>score</th>\n    </tr>\n  </thead>\n  <tbody>\n    <tr>\n      <th>count</th>\n      <td>6477.000000</td>\n      <td>6477.000000</td>\n      <td>6477.000000</td>\n      <td>6477.000000</td>\n    </tr>\n    <tr>\n      <th>mean</th>\n      <td>391.624672</td>\n      <td>9.000000</td>\n      <td>3.865833</td>\n      <td>0.773167</td>\n    </tr>\n    <tr>\n      <th>std</th>\n      <td>219.857438</td>\n      <td>4.899358</td>\n      <td>0.847225</td>\n      <td>0.169445</td>\n    </tr>\n    <tr>\n      <th>min</th>\n      <td>4.000000</td>\n      <td>1.000000</td>\n      <td>1.000000</td>\n      <td>0.200000</td>\n    </tr>\n    <tr>\n      <th>25%</th>\n      <td>206.000000</td>\n      <td>5.000000</td>\n      <td>3.000000</td>\n      <td>0.600000</td>\n    </tr>\n    <tr>\n      <th>50%</th>\n      <td>396.000000</td>\n      <td>9.000000</td>\n      <td>4.000000</td>\n      <td>0.800000</td>\n    </tr>\n    <tr>\n      <th>75%</th>\n      <td>578.000000</td>\n      <td>13.000000</td>\n      <td>5.000000</td>\n      <td>1.000000</td>\n    </tr>\n    <tr>\n      <th>max</th>\n      <td>769.000000</td>\n      <td>17.000000</td>\n      <td>5.000000</td>\n      <td>1.000000</td>\n    </tr>\n  </tbody>\n</table>\n</div>"
     },
     "metadata": {},
     "execution_count": 20
    }
   ],
   "source": [
    "r_df.describe()"
   ]
  },
  {
   "cell_type": "code",
   "execution_count": 24,
   "metadata": {},
   "outputs": [
    {
     "output_type": "execute_result",
     "data": {
      "text/plain": [
       "           answer       score\n",
       "count  381.000000  381.000000\n",
       "mean     3.865833    0.773167\n",
       "std      0.337335    0.067467\n",
       "min      2.882353    0.576471\n",
       "25%      3.705882    0.741176\n",
       "50%      3.882353    0.776471\n",
       "75%      4.058824    0.811765\n",
       "max      4.705882    0.941176"
      ],
      "text/html": "<div>\n<style scoped>\n    .dataframe tbody tr th:only-of-type {\n        vertical-align: middle;\n    }\n\n    .dataframe tbody tr th {\n        vertical-align: top;\n    }\n\n    .dataframe thead th {\n        text-align: right;\n    }\n</style>\n<table border=\"1\" class=\"dataframe\">\n  <thead>\n    <tr style=\"text-align: right;\">\n      <th></th>\n      <th>answer</th>\n      <th>score</th>\n    </tr>\n  </thead>\n  <tbody>\n    <tr>\n      <th>count</th>\n      <td>381.000000</td>\n      <td>381.000000</td>\n    </tr>\n    <tr>\n      <th>mean</th>\n      <td>3.865833</td>\n      <td>0.773167</td>\n    </tr>\n    <tr>\n      <th>std</th>\n      <td>0.337335</td>\n      <td>0.067467</td>\n    </tr>\n    <tr>\n      <th>min</th>\n      <td>2.882353</td>\n      <td>0.576471</td>\n    </tr>\n    <tr>\n      <th>25%</th>\n      <td>3.705882</td>\n      <td>0.741176</td>\n    </tr>\n    <tr>\n      <th>50%</th>\n      <td>3.882353</td>\n      <td>0.776471</td>\n    </tr>\n    <tr>\n      <th>75%</th>\n      <td>4.058824</td>\n      <td>0.811765</td>\n    </tr>\n    <tr>\n      <th>max</th>\n      <td>4.705882</td>\n      <td>0.941176</td>\n    </tr>\n  </tbody>\n</table>\n</div>"
     },
     "metadata": {},
     "execution_count": 24
    }
   ],
   "source": [
    "r_df.groupby('employee_id')[['answer','score']].mean().describe()"
   ]
  },
  {
   "cell_type": "code",
   "execution_count": 32,
   "metadata": {},
   "outputs": [
    {
     "output_type": "execute_result",
     "data": {
      "text/plain": [
       "                score                    \n",
       "                 mean  min  max       std\n",
       "measurement                              \n",
       "alignment    0.780402  0.4  1.0  0.155351\n",
       "development  0.671391  0.2  1.0  0.158845\n",
       "enablement   0.781627  0.2  1.0  0.177288\n",
       "engagement   0.794646  0.4  1.0  0.159413\n",
       "leadership   0.823447  0.2  1.0  0.160809"
      ],
      "text/html": "<div>\n<style scoped>\n    .dataframe tbody tr th:only-of-type {\n        vertical-align: middle;\n    }\n\n    .dataframe tbody tr th {\n        vertical-align: top;\n    }\n\n    .dataframe thead tr th {\n        text-align: left;\n    }\n\n    .dataframe thead tr:last-of-type th {\n        text-align: right;\n    }\n</style>\n<table border=\"1\" class=\"dataframe\">\n  <thead>\n    <tr>\n      <th></th>\n      <th colspan=\"4\" halign=\"left\">score</th>\n    </tr>\n    <tr>\n      <th></th>\n      <th>mean</th>\n      <th>min</th>\n      <th>max</th>\n      <th>std</th>\n    </tr>\n    <tr>\n      <th>measurement</th>\n      <th></th>\n      <th></th>\n      <th></th>\n      <th></th>\n    </tr>\n  </thead>\n  <tbody>\n    <tr>\n      <th>alignment</th>\n      <td>0.780402</td>\n      <td>0.4</td>\n      <td>1.0</td>\n      <td>0.155351</td>\n    </tr>\n    <tr>\n      <th>development</th>\n      <td>0.671391</td>\n      <td>0.2</td>\n      <td>1.0</td>\n      <td>0.158845</td>\n    </tr>\n    <tr>\n      <th>enablement</th>\n      <td>0.781627</td>\n      <td>0.2</td>\n      <td>1.0</td>\n      <td>0.177288</td>\n    </tr>\n    <tr>\n      <th>engagement</th>\n      <td>0.794646</td>\n      <td>0.4</td>\n      <td>1.0</td>\n      <td>0.159413</td>\n    </tr>\n    <tr>\n      <th>leadership</th>\n      <td>0.823447</td>\n      <td>0.2</td>\n      <td>1.0</td>\n      <td>0.160809</td>\n    </tr>\n  </tbody>\n</table>\n</div>"
     },
     "metadata": {},
     "execution_count": 32
    }
   ],
   "source": [
    "# Merge questions measurement (categories)\n",
    "q_r_df = r_df.merge(q_df, left_on='question_id', right_on='id')\n",
    "q_r_df.groupby('measurement').agg({'score':['mean','min','max','std']})"
   ]
  },
  {
   "source": [
    "#### Response Ananlysis\n",
    "Based on the summary of responses above, we can see that the `mean score is 0.77`, which trends above average (toward 'agree') on the responses. Because the questions are framed positively (i.e. 'I am proud to work at [company]'), a higher score suggests higher employee satisfaction.\n",
    "\n",
    "The minimum and maximum values at the individual repsonse level does not mean much to us, but when we aggregate by employee we can see the high and low average scores across all sections. Better yet, by bringing in the categorical measurement labels from the questions data we can look at the average across categories, and see that the `leadership` questions scored the highest, while `development` had the lowest scores on average."
   ],
   "cell_type": "markdown",
   "metadata": {}
  },
  {
   "cell_type": "code",
   "execution_count": 33,
   "metadata": {},
   "outputs": [],
   "source": [
    "r_df.to_csv('responses_clean.csv')"
   ]
  },
  {
   "cell_type": "code",
   "execution_count": 34,
   "metadata": {},
   "outputs": [
    {
     "output_type": "stream",
     "name": "stderr",
     "text": [
      "[NbConvertApp] Converting notebook LoanTronic_Cleansing.ipynb to html\n[NbConvertApp] Writing 679196 bytes to LoanTronic_Cleansing.html\n"
     ]
    }
   ],
   "source": [
    "!jupyter nbconvert --to html LoanTronic_Cleansing.ipynb"
   ]
  }
 ]
}