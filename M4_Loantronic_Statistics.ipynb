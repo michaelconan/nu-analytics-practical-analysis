{
 "cells": [
  {
   "cell_type": "markdown",
   "metadata": {},
   "source": [
    "# Week 4 -- Statistical Analysis\n",
    "\n",
    "\n",
    "There is significant debate among academics as to how a Likert scale responses should be interpreted --\n",
    "[Likert items and scales of measurement? by James Dean Brown](https://hosted.jalt.org/test/PDF/Brown34.pdf).  Should the responses be score as we did in **Q4** of week 2?  Or should we look at the proporption of responses assigned to each choice for each respondent (or question)?\n",
    "\n",
    "This week, we will perform the latter and work from the dataset created in **Q4** last week:\n",
    "\n",
    "```roster_with_score.csv```\n",
    "\n",
    "We will compare the survey results by department to the overall survey results to understand which departments may have better or worse morale.  To do this, we will use a $\\chi^2$ Test to compare the responses on the Likert scale from each department to the firm's overall responses."
   ]
  },
  {
   "cell_type": "code",
   "execution_count": 1,
   "metadata": {},
   "outputs": [],
   "source": [
    "import pandas as pd"
   ]
  },
  {
   "cell_type": "code",
   "execution_count": 2,
   "metadata": {},
   "outputs": [
    {
     "output_type": "execute_result",
     "data": {
      "text/plain": [
       "   employee_id title   last     first  manager_id function  department  \\\n",
       "0          343   CEO  Duran  Veronica         NaN      CEO  Leadership   \n",
       "\n",
       "            location      age sex  ... employment_status  \\\n",
       "0  Mountain View, CA  35 - 44   F  ...         Full time   \n",
       "\n",
       "                   tenure tenure_id  seniority  alignment  development  \\\n",
       "0  1 to less than 2 years         2          4        0.8     0.666667   \n",
       "\n",
       "   enablement  engagement  leadership   overall  \n",
       "0    0.733333        0.68    0.733333  0.722667  \n",
       "\n",
       "[1 rows x 21 columns]"
      ],
      "text/html": "<div>\n<style scoped>\n    .dataframe tbody tr th:only-of-type {\n        vertical-align: middle;\n    }\n\n    .dataframe tbody tr th {\n        vertical-align: top;\n    }\n\n    .dataframe thead th {\n        text-align: right;\n    }\n</style>\n<table border=\"1\" class=\"dataframe\">\n  <thead>\n    <tr style=\"text-align: right;\">\n      <th></th>\n      <th>employee_id</th>\n      <th>title</th>\n      <th>last</th>\n      <th>first</th>\n      <th>manager_id</th>\n      <th>function</th>\n      <th>department</th>\n      <th>location</th>\n      <th>age</th>\n      <th>sex</th>\n      <th>...</th>\n      <th>employment_status</th>\n      <th>tenure</th>\n      <th>tenure_id</th>\n      <th>seniority</th>\n      <th>alignment</th>\n      <th>development</th>\n      <th>enablement</th>\n      <th>engagement</th>\n      <th>leadership</th>\n      <th>overall</th>\n    </tr>\n  </thead>\n  <tbody>\n    <tr>\n      <th>0</th>\n      <td>343</td>\n      <td>CEO</td>\n      <td>Duran</td>\n      <td>Veronica</td>\n      <td>NaN</td>\n      <td>CEO</td>\n      <td>Leadership</td>\n      <td>Mountain View, CA</td>\n      <td>35 - 44</td>\n      <td>F</td>\n      <td>...</td>\n      <td>Full time</td>\n      <td>1 to less than 2 years</td>\n      <td>2</td>\n      <td>4</td>\n      <td>0.8</td>\n      <td>0.666667</td>\n      <td>0.733333</td>\n      <td>0.68</td>\n      <td>0.733333</td>\n      <td>0.722667</td>\n    </tr>\n  </tbody>\n</table>\n<p>1 rows × 21 columns</p>\n</div>"
     },
     "metadata": {},
     "execution_count": 2
    }
   ],
   "source": [
    "df = pd.read_csv('roster_with_score.csv')\n",
    "df = df.drop(columns=['Unnamed: 0'])\n",
    "df.head(1)"
   ]
  },
  {
   "cell_type": "markdown",
   "metadata": {},
   "source": [
    "## Q1: Compute the Expected Proportions\n",
    "\n",
    "Let's assume we have labeled each response of the Likert scale as follows:\n",
    "\n",
    "Label |  Description\n",
    "--|--\n",
    "1|strongly disagree\n",
    "2| disagree\n",
    "3| neutral\n",
    "4| agree\n",
    "5| strongly agree\n",
    "\n",
    "Compute the expected proportion for each label (1 through 5) by respondent.\n",
    "\n",
    "- Load the responses.csv dataset for your calculations\n",
    "- Compute the expected proportion for each label on the Likert scale by respondent based on the overall population of respondents at LoanTronic."
   ]
  },
  {
   "cell_type": "code",
   "execution_count": 3,
   "metadata": {},
   "outputs": [
    {
     "output_type": "execute_result",
     "data": {
      "text/plain": [
       "   employee_id  question_id  answer  score\n",
       "0          343            1       4    0.8"
      ],
      "text/html": "<div>\n<style scoped>\n    .dataframe tbody tr th:only-of-type {\n        vertical-align: middle;\n    }\n\n    .dataframe tbody tr th {\n        vertical-align: top;\n    }\n\n    .dataframe thead th {\n        text-align: right;\n    }\n</style>\n<table border=\"1\" class=\"dataframe\">\n  <thead>\n    <tr style=\"text-align: right;\">\n      <th></th>\n      <th>employee_id</th>\n      <th>question_id</th>\n      <th>answer</th>\n      <th>score</th>\n    </tr>\n  </thead>\n  <tbody>\n    <tr>\n      <th>0</th>\n      <td>343</td>\n      <td>1</td>\n      <td>4</td>\n      <td>0.8</td>\n    </tr>\n  </tbody>\n</table>\n</div>"
     },
     "metadata": {},
     "execution_count": 3
    }
   ],
   "source": [
    "# Load responses data\n",
    "r_df = pd.read_csv('responses_clean.csv')\n",
    "r_df.head(1)"
   ]
  },
  {
   "cell_type": "code",
   "execution_count": 107,
   "metadata": {},
   "outputs": [
    {
     "output_type": "display_data",
     "data": {
      "text/plain": "<Figure size 432x288 with 1 Axes>",
      "image/svg+xml": "<?xml version=\"1.0\" encoding=\"utf-8\" standalone=\"no\"?>\r\n<!DOCTYPE svg PUBLIC \"-//W3C//DTD SVG 1.1//EN\"\r\n  \"http://www.w3.org/Graphics/SVG/1.1/DTD/svg11.dtd\">\r\n<!-- Created with matplotlib (https://matplotlib.org/) -->\r\n<svg height=\"248.518125pt\" version=\"1.1\" viewBox=\"0 0 381.65 248.518125\" width=\"381.65pt\" xmlns=\"http://www.w3.org/2000/svg\" xmlns:xlink=\"http://www.w3.org/1999/xlink\">\r\n <metadata>\r\n  <rdf:RDF xmlns:cc=\"http://creativecommons.org/ns#\" xmlns:dc=\"http://purl.org/dc/elements/1.1/\" xmlns:rdf=\"http://www.w3.org/1999/02/22-rdf-syntax-ns#\">\r\n   <cc:Work>\r\n    <dc:type rdf:resource=\"http://purl.org/dc/dcmitype/StillImage\"/>\r\n    <dc:date>2021-06-03T18:31:57.644777</dc:date>\r\n    <dc:format>image/svg+xml</dc:format>\r\n    <dc:creator>\r\n     <cc:Agent>\r\n      <dc:title>Matplotlib v3.3.2, https://matplotlib.org/</dc:title>\r\n     </cc:Agent>\r\n    </dc:creator>\r\n   </cc:Work>\r\n  </rdf:RDF>\r\n </metadata>\r\n <defs>\r\n  <style type=\"text/css\">*{stroke-linecap:butt;stroke-linejoin:round;}</style>\r\n </defs>\r\n <g id=\"figure_1\">\r\n  <g id=\"patch_1\">\r\n   <path d=\"M -0 248.518125 \r\nL 381.65 248.518125 \r\nL 381.65 0 \r\nL -0 0 \r\nz\r\n\" style=\"fill:none;\"/>\r\n  </g>\r\n  <g id=\"axes_1\">\r\n   <g id=\"patch_2\">\r\n    <path d=\"M 39.65 224.64 \r\nL 374.45 224.64 \r\nL 374.45 7.2 \r\nL 39.65 7.2 \r\nz\r\n\" style=\"fill:#ffffff;\"/>\r\n   </g>\r\n   <g id=\"patch_3\">\r\n    <path clip-path=\"url(#p0f6c6377cd)\" d=\"M 54.868182 224.64 \r\nL 85.304545 224.64 \r\nL 85.304545 223.166908 \r\nL 54.868182 223.166908 \r\nz\r\n\" style=\"fill:#1f77b4;\"/>\r\n   </g>\r\n   <g id=\"patch_4\">\r\n    <path clip-path=\"url(#p0f6c6377cd)\" d=\"M 85.304545 224.64 \r\nL 115.740909 224.64 \r\nL 115.740909 224.64 \r\nL 85.304545 224.64 \r\nz\r\n\" style=\"fill:#1f77b4;\"/>\r\n   </g>\r\n   <g id=\"patch_5\">\r\n    <path clip-path=\"url(#p0f6c6377cd)\" d=\"M 115.740909 224.64 \r\nL 146.177273 224.64 \r\nL 146.177273 203.784119 \r\nL 115.740909 203.784119 \r\nz\r\n\" style=\"fill:#1f77b4;\"/>\r\n   </g>\r\n   <g id=\"patch_6\">\r\n    <path clip-path=\"url(#p0f6c6377cd)\" d=\"M 146.177273 224.64 \r\nL 176.613636 224.64 \r\nL 176.613636 224.64 \r\nL 146.177273 224.64 \r\nz\r\n\" style=\"fill:#1f77b4;\"/>\r\n   </g>\r\n   <g id=\"patch_7\">\r\n    <path clip-path=\"url(#p0f6c6377cd)\" d=\"M 176.613636 224.64 \r\nL 207.05 224.64 \r\nL 207.05 224.64 \r\nL 176.613636 224.64 \r\nz\r\n\" style=\"fill:#1f77b4;\"/>\r\n   </g>\r\n   <g id=\"patch_8\">\r\n    <path clip-path=\"url(#p0f6c6377cd)\" d=\"M 207.05 224.64 \r\nL 237.486364 224.64 \r\nL 237.486364 77.640931 \r\nL 207.05 77.640931 \r\nz\r\n\" style=\"fill:#1f77b4;\"/>\r\n   </g>\r\n   <g id=\"patch_9\">\r\n    <path clip-path=\"url(#p0f6c6377cd)\" d=\"M 237.486364 224.64 \r\nL 267.922727 224.64 \r\nL 267.922727 224.64 \r\nL 237.486364 224.64 \r\nz\r\n\" style=\"fill:#1f77b4;\"/>\r\n   </g>\r\n   <g id=\"patch_10\">\r\n    <path clip-path=\"url(#p0f6c6377cd)\" d=\"M 267.922727 224.64 \r\nL 298.359091 224.64 \r\nL 298.359091 17.554286 \r\nL 267.922727 17.554286 \r\nz\r\n\" style=\"fill:#1f77b4;\"/>\r\n   </g>\r\n   <g id=\"patch_11\">\r\n    <path clip-path=\"url(#p0f6c6377cd)\" d=\"M 298.359091 224.64 \r\nL 328.795455 224.64 \r\nL 328.795455 224.64 \r\nL 298.359091 224.64 \r\nz\r\n\" style=\"fill:#1f77b4;\"/>\r\n   </g>\r\n   <g id=\"patch_12\">\r\n    <path clip-path=\"url(#p0f6c6377cd)\" d=\"M 328.795455 224.64 \r\nL 359.231818 224.64 \r\nL 359.231818 98.884467 \r\nL 328.795455 98.884467 \r\nz\r\n\" style=\"fill:#1f77b4;\"/>\r\n   </g>\r\n   <g id=\"matplotlib.axis_1\">\r\n    <g id=\"xtick_1\">\r\n     <g id=\"line2d_1\">\r\n      <path clip-path=\"url(#p0f6c6377cd)\" d=\"M 54.868182 224.64 \r\nL 54.868182 7.2 \r\n\" style=\"fill:none;stroke:#b0b0b0;stroke-linecap:square;stroke-width:0.8;\"/>\r\n     </g>\r\n     <g id=\"line2d_2\">\r\n      <defs>\r\n       <path d=\"M 0 0 \r\nL 0 3.5 \r\n\" id=\"m88db47b766\" style=\"stroke:#000000;stroke-width:0.8;\"/>\r\n      </defs>\r\n      <g>\r\n       <use style=\"stroke:#000000;stroke-width:0.8;\" x=\"54.868182\" xlink:href=\"#m88db47b766\" y=\"224.64\"/>\r\n      </g>\r\n     </g>\r\n     <g id=\"text_1\">\r\n      <!-- 1.0 -->\r\n      <g transform=\"translate(46.916619 239.238437)scale(0.1 -0.1)\">\r\n       <defs>\r\n        <path d=\"M 12.40625 8.296875 \r\nL 28.515625 8.296875 \r\nL 28.515625 63.921875 \r\nL 10.984375 60.40625 \r\nL 10.984375 69.390625 \r\nL 28.421875 72.90625 \r\nL 38.28125 72.90625 \r\nL 38.28125 8.296875 \r\nL 54.390625 8.296875 \r\nL 54.390625 0 \r\nL 12.40625 0 \r\nz\r\n\" id=\"DejaVuSans-49\"/>\r\n        <path d=\"M 10.6875 12.40625 \r\nL 21 12.40625 \r\nL 21 0 \r\nL 10.6875 0 \r\nz\r\n\" id=\"DejaVuSans-46\"/>\r\n        <path d=\"M 31.78125 66.40625 \r\nQ 24.171875 66.40625 20.328125 58.90625 \r\nQ 16.5 51.421875 16.5 36.375 \r\nQ 16.5 21.390625 20.328125 13.890625 \r\nQ 24.171875 6.390625 31.78125 6.390625 \r\nQ 39.453125 6.390625 43.28125 13.890625 \r\nQ 47.125 21.390625 47.125 36.375 \r\nQ 47.125 51.421875 43.28125 58.90625 \r\nQ 39.453125 66.40625 31.78125 66.40625 \r\nz\r\nM 31.78125 74.21875 \r\nQ 44.046875 74.21875 50.515625 64.515625 \r\nQ 56.984375 54.828125 56.984375 36.375 \r\nQ 56.984375 17.96875 50.515625 8.265625 \r\nQ 44.046875 -1.421875 31.78125 -1.421875 \r\nQ 19.53125 -1.421875 13.0625 8.265625 \r\nQ 6.59375 17.96875 6.59375 36.375 \r\nQ 6.59375 54.828125 13.0625 64.515625 \r\nQ 19.53125 74.21875 31.78125 74.21875 \r\nz\r\n\" id=\"DejaVuSans-48\"/>\r\n       </defs>\r\n       <use xlink:href=\"#DejaVuSans-49\"/>\r\n       <use x=\"63.623047\" xlink:href=\"#DejaVuSans-46\"/>\r\n       <use x=\"95.410156\" xlink:href=\"#DejaVuSans-48\"/>\r\n      </g>\r\n     </g>\r\n    </g>\r\n    <g id=\"xtick_2\">\r\n     <g id=\"line2d_3\">\r\n      <path clip-path=\"url(#p0f6c6377cd)\" d=\"M 92.913636 224.64 \r\nL 92.913636 7.2 \r\n\" style=\"fill:none;stroke:#b0b0b0;stroke-linecap:square;stroke-width:0.8;\"/>\r\n     </g>\r\n     <g id=\"line2d_4\">\r\n      <g>\r\n       <use style=\"stroke:#000000;stroke-width:0.8;\" x=\"92.913636\" xlink:href=\"#m88db47b766\" y=\"224.64\"/>\r\n      </g>\r\n     </g>\r\n     <g id=\"text_2\">\r\n      <!-- 1.5 -->\r\n      <g transform=\"translate(84.962074 239.238437)scale(0.1 -0.1)\">\r\n       <defs>\r\n        <path d=\"M 10.796875 72.90625 \r\nL 49.515625 72.90625 \r\nL 49.515625 64.59375 \r\nL 19.828125 64.59375 \r\nL 19.828125 46.734375 \r\nQ 21.96875 47.46875 24.109375 47.828125 \r\nQ 26.265625 48.1875 28.421875 48.1875 \r\nQ 40.625 48.1875 47.75 41.5 \r\nQ 54.890625 34.8125 54.890625 23.390625 \r\nQ 54.890625 11.625 47.5625 5.09375 \r\nQ 40.234375 -1.421875 26.90625 -1.421875 \r\nQ 22.3125 -1.421875 17.546875 -0.640625 \r\nQ 12.796875 0.140625 7.71875 1.703125 \r\nL 7.71875 11.625 \r\nQ 12.109375 9.234375 16.796875 8.0625 \r\nQ 21.484375 6.890625 26.703125 6.890625 \r\nQ 35.15625 6.890625 40.078125 11.328125 \r\nQ 45.015625 15.765625 45.015625 23.390625 \r\nQ 45.015625 31 40.078125 35.4375 \r\nQ 35.15625 39.890625 26.703125 39.890625 \r\nQ 22.75 39.890625 18.8125 39.015625 \r\nQ 14.890625 38.140625 10.796875 36.28125 \r\nz\r\n\" id=\"DejaVuSans-53\"/>\r\n       </defs>\r\n       <use xlink:href=\"#DejaVuSans-49\"/>\r\n       <use x=\"63.623047\" xlink:href=\"#DejaVuSans-46\"/>\r\n       <use x=\"95.410156\" xlink:href=\"#DejaVuSans-53\"/>\r\n      </g>\r\n     </g>\r\n    </g>\r\n    <g id=\"xtick_3\">\r\n     <g id=\"line2d_5\">\r\n      <path clip-path=\"url(#p0f6c6377cd)\" d=\"M 130.959091 224.64 \r\nL 130.959091 7.2 \r\n\" style=\"fill:none;stroke:#b0b0b0;stroke-linecap:square;stroke-width:0.8;\"/>\r\n     </g>\r\n     <g id=\"line2d_6\">\r\n      <g>\r\n       <use style=\"stroke:#000000;stroke-width:0.8;\" x=\"130.959091\" xlink:href=\"#m88db47b766\" y=\"224.64\"/>\r\n      </g>\r\n     </g>\r\n     <g id=\"text_3\">\r\n      <!-- 2.0 -->\r\n      <g transform=\"translate(123.007528 239.238437)scale(0.1 -0.1)\">\r\n       <defs>\r\n        <path d=\"M 19.1875 8.296875 \r\nL 53.609375 8.296875 \r\nL 53.609375 0 \r\nL 7.328125 0 \r\nL 7.328125 8.296875 \r\nQ 12.9375 14.109375 22.625 23.890625 \r\nQ 32.328125 33.6875 34.8125 36.53125 \r\nQ 39.546875 41.84375 41.421875 45.53125 \r\nQ 43.3125 49.21875 43.3125 52.78125 \r\nQ 43.3125 58.59375 39.234375 62.25 \r\nQ 35.15625 65.921875 28.609375 65.921875 \r\nQ 23.96875 65.921875 18.8125 64.3125 \r\nQ 13.671875 62.703125 7.8125 59.421875 \r\nL 7.8125 69.390625 \r\nQ 13.765625 71.78125 18.9375 73 \r\nQ 24.125 74.21875 28.421875 74.21875 \r\nQ 39.75 74.21875 46.484375 68.546875 \r\nQ 53.21875 62.890625 53.21875 53.421875 \r\nQ 53.21875 48.921875 51.53125 44.890625 \r\nQ 49.859375 40.875 45.40625 35.40625 \r\nQ 44.1875 33.984375 37.640625 27.21875 \r\nQ 31.109375 20.453125 19.1875 8.296875 \r\nz\r\n\" id=\"DejaVuSans-50\"/>\r\n       </defs>\r\n       <use xlink:href=\"#DejaVuSans-50\"/>\r\n       <use x=\"63.623047\" xlink:href=\"#DejaVuSans-46\"/>\r\n       <use x=\"95.410156\" xlink:href=\"#DejaVuSans-48\"/>\r\n      </g>\r\n     </g>\r\n    </g>\r\n    <g id=\"xtick_4\">\r\n     <g id=\"line2d_7\">\r\n      <path clip-path=\"url(#p0f6c6377cd)\" d=\"M 169.004545 224.64 \r\nL 169.004545 7.2 \r\n\" style=\"fill:none;stroke:#b0b0b0;stroke-linecap:square;stroke-width:0.8;\"/>\r\n     </g>\r\n     <g id=\"line2d_8\">\r\n      <g>\r\n       <use style=\"stroke:#000000;stroke-width:0.8;\" x=\"169.004545\" xlink:href=\"#m88db47b766\" y=\"224.64\"/>\r\n      </g>\r\n     </g>\r\n     <g id=\"text_4\">\r\n      <!-- 2.5 -->\r\n      <g transform=\"translate(161.052983 239.238437)scale(0.1 -0.1)\">\r\n       <use xlink:href=\"#DejaVuSans-50\"/>\r\n       <use x=\"63.623047\" xlink:href=\"#DejaVuSans-46\"/>\r\n       <use x=\"95.410156\" xlink:href=\"#DejaVuSans-53\"/>\r\n      </g>\r\n     </g>\r\n    </g>\r\n    <g id=\"xtick_5\">\r\n     <g id=\"line2d_9\">\r\n      <path clip-path=\"url(#p0f6c6377cd)\" d=\"M 207.05 224.64 \r\nL 207.05 7.2 \r\n\" style=\"fill:none;stroke:#b0b0b0;stroke-linecap:square;stroke-width:0.8;\"/>\r\n     </g>\r\n     <g id=\"line2d_10\">\r\n      <g>\r\n       <use style=\"stroke:#000000;stroke-width:0.8;\" x=\"207.05\" xlink:href=\"#m88db47b766\" y=\"224.64\"/>\r\n      </g>\r\n     </g>\r\n     <g id=\"text_5\">\r\n      <!-- 3.0 -->\r\n      <g transform=\"translate(199.098438 239.238437)scale(0.1 -0.1)\">\r\n       <defs>\r\n        <path d=\"M 40.578125 39.3125 \r\nQ 47.65625 37.796875 51.625 33 \r\nQ 55.609375 28.21875 55.609375 21.1875 \r\nQ 55.609375 10.40625 48.1875 4.484375 \r\nQ 40.765625 -1.421875 27.09375 -1.421875 \r\nQ 22.515625 -1.421875 17.65625 -0.515625 \r\nQ 12.796875 0.390625 7.625 2.203125 \r\nL 7.625 11.71875 \r\nQ 11.71875 9.328125 16.59375 8.109375 \r\nQ 21.484375 6.890625 26.8125 6.890625 \r\nQ 36.078125 6.890625 40.9375 10.546875 \r\nQ 45.796875 14.203125 45.796875 21.1875 \r\nQ 45.796875 27.640625 41.28125 31.265625 \r\nQ 36.765625 34.90625 28.71875 34.90625 \r\nL 20.21875 34.90625 \r\nL 20.21875 43.015625 \r\nL 29.109375 43.015625 \r\nQ 36.375 43.015625 40.234375 45.921875 \r\nQ 44.09375 48.828125 44.09375 54.296875 \r\nQ 44.09375 59.90625 40.109375 62.90625 \r\nQ 36.140625 65.921875 28.71875 65.921875 \r\nQ 24.65625 65.921875 20.015625 65.03125 \r\nQ 15.375 64.15625 9.8125 62.3125 \r\nL 9.8125 71.09375 \r\nQ 15.4375 72.65625 20.34375 73.4375 \r\nQ 25.25 74.21875 29.59375 74.21875 \r\nQ 40.828125 74.21875 47.359375 69.109375 \r\nQ 53.90625 64.015625 53.90625 55.328125 \r\nQ 53.90625 49.265625 50.4375 45.09375 \r\nQ 46.96875 40.921875 40.578125 39.3125 \r\nz\r\n\" id=\"DejaVuSans-51\"/>\r\n       </defs>\r\n       <use xlink:href=\"#DejaVuSans-51\"/>\r\n       <use x=\"63.623047\" xlink:href=\"#DejaVuSans-46\"/>\r\n       <use x=\"95.410156\" xlink:href=\"#DejaVuSans-48\"/>\r\n      </g>\r\n     </g>\r\n    </g>\r\n    <g id=\"xtick_6\">\r\n     <g id=\"line2d_11\">\r\n      <path clip-path=\"url(#p0f6c6377cd)\" d=\"M 245.095455 224.64 \r\nL 245.095455 7.2 \r\n\" style=\"fill:none;stroke:#b0b0b0;stroke-linecap:square;stroke-width:0.8;\"/>\r\n     </g>\r\n     <g id=\"line2d_12\">\r\n      <g>\r\n       <use style=\"stroke:#000000;stroke-width:0.8;\" x=\"245.095455\" xlink:href=\"#m88db47b766\" y=\"224.64\"/>\r\n      </g>\r\n     </g>\r\n     <g id=\"text_6\">\r\n      <!-- 3.5 -->\r\n      <g transform=\"translate(237.143892 239.238437)scale(0.1 -0.1)\">\r\n       <use xlink:href=\"#DejaVuSans-51\"/>\r\n       <use x=\"63.623047\" xlink:href=\"#DejaVuSans-46\"/>\r\n       <use x=\"95.410156\" xlink:href=\"#DejaVuSans-53\"/>\r\n      </g>\r\n     </g>\r\n    </g>\r\n    <g id=\"xtick_7\">\r\n     <g id=\"line2d_13\">\r\n      <path clip-path=\"url(#p0f6c6377cd)\" d=\"M 283.140909 224.64 \r\nL 283.140909 7.2 \r\n\" style=\"fill:none;stroke:#b0b0b0;stroke-linecap:square;stroke-width:0.8;\"/>\r\n     </g>\r\n     <g id=\"line2d_14\">\r\n      <g>\r\n       <use style=\"stroke:#000000;stroke-width:0.8;\" x=\"283.140909\" xlink:href=\"#m88db47b766\" y=\"224.64\"/>\r\n      </g>\r\n     </g>\r\n     <g id=\"text_7\">\r\n      <!-- 4.0 -->\r\n      <g transform=\"translate(275.189347 239.238437)scale(0.1 -0.1)\">\r\n       <defs>\r\n        <path d=\"M 37.796875 64.3125 \r\nL 12.890625 25.390625 \r\nL 37.796875 25.390625 \r\nz\r\nM 35.203125 72.90625 \r\nL 47.609375 72.90625 \r\nL 47.609375 25.390625 \r\nL 58.015625 25.390625 \r\nL 58.015625 17.1875 \r\nL 47.609375 17.1875 \r\nL 47.609375 0 \r\nL 37.796875 0 \r\nL 37.796875 17.1875 \r\nL 4.890625 17.1875 \r\nL 4.890625 26.703125 \r\nz\r\n\" id=\"DejaVuSans-52\"/>\r\n       </defs>\r\n       <use xlink:href=\"#DejaVuSans-52\"/>\r\n       <use x=\"63.623047\" xlink:href=\"#DejaVuSans-46\"/>\r\n       <use x=\"95.410156\" xlink:href=\"#DejaVuSans-48\"/>\r\n      </g>\r\n     </g>\r\n    </g>\r\n    <g id=\"xtick_8\">\r\n     <g id=\"line2d_15\">\r\n      <path clip-path=\"url(#p0f6c6377cd)\" d=\"M 321.186364 224.64 \r\nL 321.186364 7.2 \r\n\" style=\"fill:none;stroke:#b0b0b0;stroke-linecap:square;stroke-width:0.8;\"/>\r\n     </g>\r\n     <g id=\"line2d_16\">\r\n      <g>\r\n       <use style=\"stroke:#000000;stroke-width:0.8;\" x=\"321.186364\" xlink:href=\"#m88db47b766\" y=\"224.64\"/>\r\n      </g>\r\n     </g>\r\n     <g id=\"text_8\">\r\n      <!-- 4.5 -->\r\n      <g transform=\"translate(313.234801 239.238437)scale(0.1 -0.1)\">\r\n       <use xlink:href=\"#DejaVuSans-52\"/>\r\n       <use x=\"63.623047\" xlink:href=\"#DejaVuSans-46\"/>\r\n       <use x=\"95.410156\" xlink:href=\"#DejaVuSans-53\"/>\r\n      </g>\r\n     </g>\r\n    </g>\r\n    <g id=\"xtick_9\">\r\n     <g id=\"line2d_17\">\r\n      <path clip-path=\"url(#p0f6c6377cd)\" d=\"M 359.231818 224.64 \r\nL 359.231818 7.2 \r\n\" style=\"fill:none;stroke:#b0b0b0;stroke-linecap:square;stroke-width:0.8;\"/>\r\n     </g>\r\n     <g id=\"line2d_18\">\r\n      <g>\r\n       <use style=\"stroke:#000000;stroke-width:0.8;\" x=\"359.231818\" xlink:href=\"#m88db47b766\" y=\"224.64\"/>\r\n      </g>\r\n     </g>\r\n     <g id=\"text_9\">\r\n      <!-- 5.0 -->\r\n      <g transform=\"translate(351.280256 239.238437)scale(0.1 -0.1)\">\r\n       <use xlink:href=\"#DejaVuSans-53\"/>\r\n       <use x=\"63.623047\" xlink:href=\"#DejaVuSans-46\"/>\r\n       <use x=\"95.410156\" xlink:href=\"#DejaVuSans-48\"/>\r\n      </g>\r\n     </g>\r\n    </g>\r\n   </g>\r\n   <g id=\"matplotlib.axis_2\">\r\n    <g id=\"ytick_1\">\r\n     <g id=\"line2d_19\">\r\n      <path clip-path=\"url(#p0f6c6377cd)\" d=\"M 39.65 224.64 \r\nL 374.45 224.64 \r\n\" style=\"fill:none;stroke:#b0b0b0;stroke-linecap:square;stroke-width:0.8;\"/>\r\n     </g>\r\n     <g id=\"line2d_20\">\r\n      <defs>\r\n       <path d=\"M 0 0 \r\nL -3.5 0 \r\n\" id=\"m6046c8dfc8\" style=\"stroke:#000000;stroke-width:0.8;\"/>\r\n      </defs>\r\n      <g>\r\n       <use style=\"stroke:#000000;stroke-width:0.8;\" x=\"39.65\" xlink:href=\"#m6046c8dfc8\" y=\"224.64\"/>\r\n      </g>\r\n     </g>\r\n     <g id=\"text_10\">\r\n      <!-- 0 -->\r\n      <g transform=\"translate(26.2875 228.439219)scale(0.1 -0.1)\">\r\n       <use xlink:href=\"#DejaVuSans-48\"/>\r\n      </g>\r\n     </g>\r\n    </g>\r\n    <g id=\"ytick_2\">\r\n     <g id=\"line2d_21\">\r\n      <path clip-path=\"url(#p0f6c6377cd)\" d=\"M 39.65 185.874423 \r\nL 374.45 185.874423 \r\n\" style=\"fill:none;stroke:#b0b0b0;stroke-linecap:square;stroke-width:0.8;\"/>\r\n     </g>\r\n     <g id=\"line2d_22\">\r\n      <g>\r\n       <use style=\"stroke:#000000;stroke-width:0.8;\" x=\"39.65\" xlink:href=\"#m6046c8dfc8\" y=\"185.874423\"/>\r\n      </g>\r\n     </g>\r\n     <g id=\"text_11\">\r\n      <!-- 500 -->\r\n      <g transform=\"translate(13.5625 189.673641)scale(0.1 -0.1)\">\r\n       <use xlink:href=\"#DejaVuSans-53\"/>\r\n       <use x=\"63.623047\" xlink:href=\"#DejaVuSans-48\"/>\r\n       <use x=\"127.246094\" xlink:href=\"#DejaVuSans-48\"/>\r\n      </g>\r\n     </g>\r\n    </g>\r\n    <g id=\"ytick_3\">\r\n     <g id=\"line2d_23\">\r\n      <path clip-path=\"url(#p0f6c6377cd)\" d=\"M 39.65 147.108845 \r\nL 374.45 147.108845 \r\n\" style=\"fill:none;stroke:#b0b0b0;stroke-linecap:square;stroke-width:0.8;\"/>\r\n     </g>\r\n     <g id=\"line2d_24\">\r\n      <g>\r\n       <use style=\"stroke:#000000;stroke-width:0.8;\" x=\"39.65\" xlink:href=\"#m6046c8dfc8\" y=\"147.108845\"/>\r\n      </g>\r\n     </g>\r\n     <g id=\"text_12\">\r\n      <!-- 1000 -->\r\n      <g transform=\"translate(7.2 150.908064)scale(0.1 -0.1)\">\r\n       <use xlink:href=\"#DejaVuSans-49\"/>\r\n       <use x=\"63.623047\" xlink:href=\"#DejaVuSans-48\"/>\r\n       <use x=\"127.246094\" xlink:href=\"#DejaVuSans-48\"/>\r\n       <use x=\"190.869141\" xlink:href=\"#DejaVuSans-48\"/>\r\n      </g>\r\n     </g>\r\n    </g>\r\n    <g id=\"ytick_4\">\r\n     <g id=\"line2d_25\">\r\n      <path clip-path=\"url(#p0f6c6377cd)\" d=\"M 39.65 108.343268 \r\nL 374.45 108.343268 \r\n\" style=\"fill:none;stroke:#b0b0b0;stroke-linecap:square;stroke-width:0.8;\"/>\r\n     </g>\r\n     <g id=\"line2d_26\">\r\n      <g>\r\n       <use style=\"stroke:#000000;stroke-width:0.8;\" x=\"39.65\" xlink:href=\"#m6046c8dfc8\" y=\"108.343268\"/>\r\n      </g>\r\n     </g>\r\n     <g id=\"text_13\">\r\n      <!-- 1500 -->\r\n      <g transform=\"translate(7.2 112.142487)scale(0.1 -0.1)\">\r\n       <use xlink:href=\"#DejaVuSans-49\"/>\r\n       <use x=\"63.623047\" xlink:href=\"#DejaVuSans-53\"/>\r\n       <use x=\"127.246094\" xlink:href=\"#DejaVuSans-48\"/>\r\n       <use x=\"190.869141\" xlink:href=\"#DejaVuSans-48\"/>\r\n      </g>\r\n     </g>\r\n    </g>\r\n    <g id=\"ytick_5\">\r\n     <g id=\"line2d_27\">\r\n      <path clip-path=\"url(#p0f6c6377cd)\" d=\"M 39.65 69.577691 \r\nL 374.45 69.577691 \r\n\" style=\"fill:none;stroke:#b0b0b0;stroke-linecap:square;stroke-width:0.8;\"/>\r\n     </g>\r\n     <g id=\"line2d_28\">\r\n      <g>\r\n       <use style=\"stroke:#000000;stroke-width:0.8;\" x=\"39.65\" xlink:href=\"#m6046c8dfc8\" y=\"69.577691\"/>\r\n      </g>\r\n     </g>\r\n     <g id=\"text_14\">\r\n      <!-- 2000 -->\r\n      <g transform=\"translate(7.2 73.376909)scale(0.1 -0.1)\">\r\n       <use xlink:href=\"#DejaVuSans-50\"/>\r\n       <use x=\"63.623047\" xlink:href=\"#DejaVuSans-48\"/>\r\n       <use x=\"127.246094\" xlink:href=\"#DejaVuSans-48\"/>\r\n       <use x=\"190.869141\" xlink:href=\"#DejaVuSans-48\"/>\r\n      </g>\r\n     </g>\r\n    </g>\r\n    <g id=\"ytick_6\">\r\n     <g id=\"line2d_29\">\r\n      <path clip-path=\"url(#p0f6c6377cd)\" d=\"M 39.65 30.812113 \r\nL 374.45 30.812113 \r\n\" style=\"fill:none;stroke:#b0b0b0;stroke-linecap:square;stroke-width:0.8;\"/>\r\n     </g>\r\n     <g id=\"line2d_30\">\r\n      <g>\r\n       <use style=\"stroke:#000000;stroke-width:0.8;\" x=\"39.65\" xlink:href=\"#m6046c8dfc8\" y=\"30.812113\"/>\r\n      </g>\r\n     </g>\r\n     <g id=\"text_15\">\r\n      <!-- 2500 -->\r\n      <g transform=\"translate(7.2 34.611332)scale(0.1 -0.1)\">\r\n       <use xlink:href=\"#DejaVuSans-50\"/>\r\n       <use x=\"63.623047\" xlink:href=\"#DejaVuSans-53\"/>\r\n       <use x=\"127.246094\" xlink:href=\"#DejaVuSans-48\"/>\r\n       <use x=\"190.869141\" xlink:href=\"#DejaVuSans-48\"/>\r\n      </g>\r\n     </g>\r\n    </g>\r\n   </g>\r\n   <g id=\"patch_13\">\r\n    <path d=\"M 39.65 224.64 \r\nL 39.65 7.2 \r\n\" style=\"fill:none;stroke:#000000;stroke-linecap:square;stroke-linejoin:miter;stroke-width:0.8;\"/>\r\n   </g>\r\n   <g id=\"patch_14\">\r\n    <path d=\"M 374.45 224.64 \r\nL 374.45 7.2 \r\n\" style=\"fill:none;stroke:#000000;stroke-linecap:square;stroke-linejoin:miter;stroke-width:0.8;\"/>\r\n   </g>\r\n   <g id=\"patch_15\">\r\n    <path d=\"M 39.65 224.64 \r\nL 374.45 224.64 \r\n\" style=\"fill:none;stroke:#000000;stroke-linecap:square;stroke-linejoin:miter;stroke-width:0.8;\"/>\r\n   </g>\r\n   <g id=\"patch_16\">\r\n    <path d=\"M 39.65 7.2 \r\nL 374.45 7.2 \r\n\" style=\"fill:none;stroke:#000000;stroke-linecap:square;stroke-linejoin:miter;stroke-width:0.8;\"/>\r\n   </g>\r\n  </g>\r\n </g>\r\n <defs>\r\n  <clipPath id=\"p0f6c6377cd\">\r\n   <rect height=\"217.44\" width=\"334.8\" x=\"39.65\" y=\"7.2\"/>\r\n  </clipPath>\r\n </defs>\r\n</svg>\r\n",
      "image/png": "[encoded data removed]"
     },
     "metadata": {
      "needs_background": "light"
     }
    }
   ],
   "source": [
    "# Review proportion of responses\n",
    "r_df.answer.hist();"
   ]
  },
  {
   "source": [
    "```As we can see above, the data is clearly not normally distributed - it appears to be left-skewed (negative skew), meaning employees tend to favor higher responses over lower ones.```"
   ],
   "cell_type": "markdown",
   "metadata": {}
  },
  {
   "cell_type": "code",
   "execution_count": 85,
   "metadata": {},
   "outputs": [
    {
     "output_type": "execute_result",
     "data": {
      "text/plain": [
       "   expected\n",
       "1  0.002933\n",
       "2  0.041532\n",
       "3  0.292728\n",
       "4  0.412382\n",
       "5  0.250425"
      ],
      "text/html": "<div>\n<style scoped>\n    .dataframe tbody tr th:only-of-type {\n        vertical-align: middle;\n    }\n\n    .dataframe tbody tr th {\n        vertical-align: top;\n    }\n\n    .dataframe thead th {\n        text-align: right;\n    }\n</style>\n<table border=\"1\" class=\"dataframe\">\n  <thead>\n    <tr style=\"text-align: right;\">\n      <th></th>\n      <th>expected</th>\n    </tr>\n  </thead>\n  <tbody>\n    <tr>\n      <th>1</th>\n      <td>0.002933</td>\n    </tr>\n    <tr>\n      <th>2</th>\n      <td>0.041532</td>\n    </tr>\n    <tr>\n      <th>3</th>\n      <td>0.292728</td>\n    </tr>\n    <tr>\n      <th>4</th>\n      <td>0.412382</td>\n    </tr>\n    <tr>\n      <th>5</th>\n      <td>0.250425</td>\n    </tr>\n  </tbody>\n</table>\n</div>"
     },
     "metadata": {},
     "execution_count": 85
    }
   ],
   "source": [
    "# Create dataframe of expected answer proportions\n",
    "expected = pd.DataFrame(r_df.answer.value_counts())\n",
    "total = expected.answer.sum()\n",
    "expected.answer = expected.answer / total\n",
    "expected.columns = ['expected']\n",
    "expected.sort_index(inplace=True)\n",
    "expected"
   ]
  },
  {
   "cell_type": "markdown",
   "metadata": {},
   "source": [
    "## Q2: Compute the Expected Count by Department\n",
    "\n",
    "Create a new dataframe where you group by department and compute the expected count for each label (1 through 5)."
   ]
  },
  {
   "cell_type": "code",
   "execution_count": 28,
   "metadata": {},
   "outputs": [],
   "source": [
    "# Merge department data to responses and summarize answers\n",
    "m_df = df.merge(r_df, on='employee_id')\n",
    "g_df = m_df.groupby(['department','answer'], as_index=False)['employee_id'].count()\n",
    "g_df.rename(columns={'employee_id':'count'}, inplace=True)"
   ]
  },
  {
   "cell_type": "code",
   "execution_count": 30,
   "metadata": {},
   "outputs": [
    {
     "output_type": "execute_result",
     "data": {
      "text/plain": [
       "                     department  answer  count\n",
       "4           Advanced Technology       1    NaN\n",
       "25  East Coast Lender Relations       2    NaN\n",
       "29  East Coast Lender Relations       1    NaN\n",
       "34           East Coast Lending       1    NaN\n",
       "39                  Engineering       1    NaN"
      ],
      "text/html": "<div>\n<style scoped>\n    .dataframe tbody tr th:only-of-type {\n        vertical-align: middle;\n    }\n\n    .dataframe tbody tr th {\n        vertical-align: top;\n    }\n\n    .dataframe thead th {\n        text-align: right;\n    }\n</style>\n<table border=\"1\" class=\"dataframe\">\n  <thead>\n    <tr style=\"text-align: right;\">\n      <th></th>\n      <th>department</th>\n      <th>answer</th>\n      <th>count</th>\n    </tr>\n  </thead>\n  <tbody>\n    <tr>\n      <th>4</th>\n      <td>Advanced Technology</td>\n      <td>1</td>\n      <td>NaN</td>\n    </tr>\n    <tr>\n      <th>25</th>\n      <td>East Coast Lender Relations</td>\n      <td>2</td>\n      <td>NaN</td>\n    </tr>\n    <tr>\n      <th>29</th>\n      <td>East Coast Lender Relations</td>\n      <td>1</td>\n      <td>NaN</td>\n    </tr>\n    <tr>\n      <th>34</th>\n      <td>East Coast Lending</td>\n      <td>1</td>\n      <td>NaN</td>\n    </tr>\n    <tr>\n      <th>39</th>\n      <td>Engineering</td>\n      <td>1</td>\n      <td>NaN</td>\n    </tr>\n  </tbody>\n</table>\n</div>"
     },
     "metadata": {},
     "execution_count": 30
    }
   ],
   "source": [
    "# Get all iterations of answer / department and merge\n",
    "da_df = pd.DataFrame(list(zip(sorted(g_df['department'].unique().tolist() * 5), g_df['answer'].unique().tolist() * len(g_df['department'].unique()))), columns=['department','answer'])\n",
    "g_df = da_df.merge(g_df, on=['department','answer'], how='left')\n",
    "\n",
    "# Check sample of departments with missing answers\n",
    "g_df[g_df['count'].isna()].head()"
   ]
  },
  {
   "cell_type": "code",
   "execution_count": 31,
   "metadata": {},
   "outputs": [],
   "source": [
    "# Calculate department totals for actual proportions\n",
    "g_df.fillna(0, inplace=True)\n",
    "t_df = g_df.groupby('department')['count'].sum()\n",
    "g_df = g_df.merge(t_df, on='department', suffixes=('','_tot'))\n",
    "g_df['actual'] = g_df['count'] / g_df['count_tot']"
   ]
  },
  {
   "cell_type": "code",
   "execution_count": 32,
   "metadata": {},
   "outputs": [
    {
     "output_type": "execute_result",
     "data": {
      "text/plain": [
       "               department  answer  count  count_tot    actual  expected  \\\n",
       "0     Advanced Technology       2    2.0       34.0  0.058824  0.041532   \n",
       "5   Algorithm Development       2   17.0      782.0  0.021739  0.041532   \n",
       "10               Back End       2   20.0      323.0  0.061920  0.041532   \n",
       "\n",
       "    count_exp  \n",
       "0    1.412073  \n",
       "5   32.477690  \n",
       "10  13.414698  "
      ],
      "text/html": "<div>\n<style scoped>\n    .dataframe tbody tr th:only-of-type {\n        vertical-align: middle;\n    }\n\n    .dataframe tbody tr th {\n        vertical-align: top;\n    }\n\n    .dataframe thead th {\n        text-align: right;\n    }\n</style>\n<table border=\"1\" class=\"dataframe\">\n  <thead>\n    <tr style=\"text-align: right;\">\n      <th></th>\n      <th>department</th>\n      <th>answer</th>\n      <th>count</th>\n      <th>count_tot</th>\n      <th>actual</th>\n      <th>expected</th>\n      <th>count_exp</th>\n    </tr>\n  </thead>\n  <tbody>\n    <tr>\n      <th>0</th>\n      <td>Advanced Technology</td>\n      <td>2</td>\n      <td>2.0</td>\n      <td>34.0</td>\n      <td>0.058824</td>\n      <td>0.041532</td>\n      <td>1.412073</td>\n    </tr>\n    <tr>\n      <th>5</th>\n      <td>Algorithm Development</td>\n      <td>2</td>\n      <td>17.0</td>\n      <td>782.0</td>\n      <td>0.021739</td>\n      <td>0.041532</td>\n      <td>32.477690</td>\n    </tr>\n    <tr>\n      <th>10</th>\n      <td>Back End</td>\n      <td>2</td>\n      <td>20.0</td>\n      <td>323.0</td>\n      <td>0.061920</td>\n      <td>0.041532</td>\n      <td>13.414698</td>\n    </tr>\n  </tbody>\n</table>\n</div>"
     },
     "metadata": {},
     "execution_count": 32
    }
   ],
   "source": [
    "# Merge expected proportions to the summarized data\n",
    "g_df = g_df.merge(expected, left_on='answer', right_index=True)\n",
    "g_df['count_exp'] = g_df['expected'] * g_df['count_tot']\n",
    "g_df.head(3)"
   ]
  },
  {
   "cell_type": "markdown",
   "metadata": {},
   "source": [
    "## Q3: Compute the $\\chi^2$ Test\n",
    "\n",
    "Now let's compute the $\\chi^2$ Test Statistic by department. To do so, let's answer the following:\n",
    "\n",
    "a) What are the degrees of freedom (k and p) to be used for each test (hint: you should keep track of the number of respondents by department)?\n",
    "    \n",
    "```Degrees of freedom would be the number of categories (k) - 1, or 5 - 1 = 4. Respondents by department is not relevant.```\n",
    "\n",
    "```We should use a p-statistic (alpha) of 0.05 as the standard significance level, divided by 2 for a 2-tailed test```\n",
    "\n",
    "b) Build a function to compute the $\\chi^2$ test statistic and apply that function to each user?\n",
    "\n",
    "c) Let's assume our Null Hypothesis $H_0$ is that each department is the same as the overall population.  Identify which department's responses suggest we should reject the Null Hypothesis.\n"
   ]
  },
  {
   "cell_type": "code",
   "execution_count": 66,
   "metadata": {},
   "outputs": [
    {
     "output_type": "stream",
     "name": "stdout",
     "text": [
      "60 observations below threshold\n36 departments with potentially skewed statistics\n"
     ]
    },
    {
     "output_type": "execute_result",
     "data": {
      "text/plain": [
       "answer\n",
       "1    36\n",
       "2    18\n",
       "3     3\n",
       "5     3\n",
       "Name: count, dtype: int64"
      ]
     },
     "metadata": {},
     "execution_count": 66
    }
   ],
   "source": [
    "# Observations with expected counts below chisquare threshold\n",
    "below = g_df[g_df.count_exp < 5]\n",
    "print(f'{len(below)} observations below threshold')\n",
    "print(f'{len(below.department.unique())} departments with potentially skewed statistics')\n",
    "\n",
    "# Summary of answers with expected counts below assumed threshold for chisquare\n",
    "below.groupby('answer')['count'].count()"
   ]
  },
  {
   "source": [
    "### Small Samples\n",
    "\n",
    "```Because the expected count of '1' answers is below the threshold for all departments, I will remove it from the population for calculation of the statistics and compare the p values to avoid the risk of skewed results```"
   ],
   "cell_type": "markdown",
   "metadata": {}
  },
  {
   "cell_type": "code",
   "execution_count": 87,
   "metadata": {},
   "outputs": [
    {
     "output_type": "stream",
     "name": "stdout",
     "text": [
      "Advanced Technology x2 p value = 0.96, conclusion: Fail to reject the null hypothesis\nAdvanced Technology_ex x2 p value = 0.96, conclusion: Fail to reject the null hypothesis\nAlgorithm Development x2 p value = 0.00, conclusion: reject the null hypothesis\nAlgorithm Development_ex x2 p value = 0.00, conclusion: reject the null hypothesis\nBack End x2 p value = 0.12, conclusion: Fail to reject the null hypothesis\nBack End_ex x2 p value = 0.12, conclusion: Fail to reject the null hypothesis\nChannel Marketing x2 p value = 0.48, conclusion: Fail to reject the null hypothesis\nChannel Marketing_ex x2 p value = 0.48, conclusion: Fail to reject the null hypothesis\nCompliance x2 p value = 0.02, conclusion: reject the null hypothesis\nCompliance_ex x2 p value = 0.02, conclusion: reject the null hypothesis\nEast Coast Lender Relations x2 p value = 0.84, conclusion: Fail to reject the null hypothesis\nEast Coast Lender Relations_ex x2 p value = 0.84, conclusion: Fail to reject the null hypothesis\nEast Coast Lending x2 p value = 0.01, conclusion: reject the null hypothesis\nEast Coast Lending_ex x2 p value = 0.01, conclusion: reject the null hypothesis\nEngineering x2 p value = 0.30, conclusion: Fail to reject the null hypothesis\nEngineering_ex x2 p value = 0.30, conclusion: Fail to reject the null hypothesis\nFHA Loans x2 p value = 0.01, conclusion: reject the null hypothesis\nFHA Loans_ex x2 p value = 0.01, conclusion: reject the null hypothesis\nFinance x2 p value = 0.00, conclusion: reject the null hypothesis\nFinance_ex x2 p value = 0.00, conclusion: reject the null hypothesis\nFinance & Admin x2 p value = 0.28, conclusion: Fail to reject the null hypothesis\nFinance & Admin_ex x2 p value = 0.28, conclusion: Fail to reject the null hypothesis\nFinancial Planning & Analysis x2 p value = 0.62, conclusion: Fail to reject the null hypothesis\nFinancial Planning & Analysis_ex x2 p value = 0.62, conclusion: Fail to reject the null hypothesis\nFront End x2 p value = 0.01, conclusion: reject the null hypothesis\nFront End_ex x2 p value = 0.01, conclusion: reject the null hypothesis\nFull Stack x2 p value = 0.00, conclusion: reject the null hypothesis\nFull Stack_ex x2 p value = 0.00, conclusion: reject the null hypothesis\nHuman Resources x2 p value = 0.47, conclusion: Fail to reject the null hypothesis\nHuman Resources_ex x2 p value = 0.47, conclusion: Fail to reject the null hypothesis\nLeadership x2 p value = 0.76, conclusion: Fail to reject the null hypothesis\nLeadership_ex x2 p value = 0.76, conclusion: Fail to reject the null hypothesis\nLender Portal x2 p value = 0.21, conclusion: Fail to reject the null hypothesis\nLender Portal_ex x2 p value = 0.21, conclusion: Fail to reject the null hypothesis\nLoan Officer Portal x2 p value = 0.15, conclusion: Fail to reject the null hypothesis\nLoan Officer Portal_ex x2 p value = 0.15, conclusion: Fail to reject the null hypothesis\nLoan Operations x2 p value = 0.05, conclusion: Fail to reject the null hypothesis\nLoan Operations_ex x2 p value = 0.05, conclusion: Fail to reject the null hypothesis\nMarketing x2 p value = 0.92, conclusion: Fail to reject the null hypothesis\nMarketing_ex x2 p value = 0.92, conclusion: Fail to reject the null hypothesis\nMidwest Lender Relations x2 p value = 0.18, conclusion: Fail to reject the null hypothesis\nMidwest Lender Relations_ex x2 p value = 0.18, conclusion: Fail to reject the null hypothesis\nMidwest Lending x2 p value = 0.00, conclusion: reject the null hypothesis\nMidwest Lending_ex x2 p value = 0.00, conclusion: reject the null hypothesis\nNew Home Purchase x2 p value = 0.59, conclusion: Fail to reject the null hypothesis\nNew Home Purchase_ex x2 p value = 0.59, conclusion: Fail to reject the null hypothesis\nProduct x2 p value = 0.46, conclusion: Fail to reject the null hypothesis\nProduct_ex x2 p value = 0.46, conclusion: Fail to reject the null hypothesis\nProduct Architechture x2 p value = 0.98, conclusion: Fail to reject the null hypothesis\nProduct Architechture_ex x2 p value = 0.98, conclusion: Fail to reject the null hypothesis\nRealtor Portal x2 p value = 0.27, conclusion: Fail to reject the null hypothesis\nRealtor Portal_ex x2 p value = 0.27, conclusion: Fail to reject the null hypothesis\nRefinancing x2 p value = 0.35, conclusion: Fail to reject the null hypothesis\nRefinancing_ex x2 p value = 0.35, conclusion: Fail to reject the null hypothesis\nSecurity x2 p value = 0.13, conclusion: Fail to reject the null hypothesis\nSecurity_ex x2 p value = 0.13, conclusion: Fail to reject the null hypothesis\nSouth Lending x2 p value = 0.00, conclusion: reject the null hypothesis\nSouth Lending_ex x2 p value = 0.00, conclusion: reject the null hypothesis\nSouthwest Lending x2 p value = 0.00, conclusion: reject the null hypothesis\nSouthwest Lending_ex x2 p value = 0.00, conclusion: reject the null hypothesis\nStrategic Marketing x2 p value = 0.72, conclusion: Fail to reject the null hypothesis\nStrategic Marketing_ex x2 p value = 0.72, conclusion: Fail to reject the null hypothesis\nUnderwriting x2 p value = 0.80, conclusion: Fail to reject the null hypothesis\nUnderwriting_ex x2 p value = 0.80, conclusion: Fail to reject the null hypothesis\nUser Experience / User Interface x2 p value = 0.27, conclusion: Fail to reject the null hypothesis\nUser Experience / User Interface_ex x2 p value = 0.27, conclusion: Fail to reject the null hypothesis\nVA Loans x2 p value = 0.00, conclusion: reject the null hypothesis\nVA Loans_ex x2 p value = 0.00, conclusion: reject the null hypothesis\nWest Coast Lender Relations x2 p value = 0.29, conclusion: Fail to reject the null hypothesis\nWest Coast Lender Relations_ex x2 p value = 0.29, conclusion: Fail to reject the null hypothesis\nWest Coast Lending x2 p value = 0.76, conclusion: Fail to reject the null hypothesis\nWest Coast Lending_ex x2 p value = 0.76, conclusion: Fail to reject the null hypothesis\n"
     ]
    }
   ],
   "source": [
    "from scipy.stats import chisquare\n",
    "\n",
    "# Function to apply chi squared test and print results\n",
    "def chi_stat(d, df, a):\n",
    "    stat = chisquare(df['count'], df.count_exp).pvalue\n",
    "    conclusion = ('Fail to ' if stat >= a else '') + 'reject the null hypothesis'\n",
    "    print(f\"{d} x2 p value = {stat:.2f}, conclusion: {conclusion}\")\n",
    "    return stat\n",
    "\n",
    "# Run function for each department and store results\n",
    "a = 0.05 / 2\n",
    "results = {}\n",
    "for d in g_df.department.unique():\n",
    "    d_df = g_df[g_df.department == d]\n",
    "    results[d] = chi_stat(d, d_df, a)\n",
    "    results[d+'_ex'] = chi_stat(d+'_ex', d_df[d_df.answer != 1], a)"
   ]
  },
  {
   "cell_type": "code",
   "execution_count": 98,
   "metadata": {},
   "outputs": [
    {
     "output_type": "stream",
     "name": "stdout",
     "text": [
      "11 of 36 departments significantly differed from the expected distribution\n"
     ]
    },
    {
     "output_type": "execute_result",
     "data": {
      "text/plain": [
       "Algorithm Development    3.508830e-03\n",
       "Compliance               1.806221e-02\n",
       "East Coast Lending       1.070853e-02\n",
       "FHA Loans                9.605091e-03\n",
       "Finance                  1.641344e-04\n",
       "Front End                7.024202e-03\n",
       "Full Stack               4.383692e-03\n",
       "Midwest Lending          1.604690e-05\n",
       "South Lending            2.946857e-06\n",
       "Southwest Lending        5.435609e-07\n",
       "VA Loans                 6.876369e-04\n",
       "dtype: float64"
      ]
     },
     "metadata": {},
     "execution_count": 98
    }
   ],
   "source": [
    "final = pd.Series(results)\n",
    "final2 = final[final.index.str.endswith('_ex')]\n",
    "final = final[~final.index.str.endswith('_ex')]\n",
    "reject = final[final < a]\n",
    "print(f'{len(reject)} of {len(final)} departments significantly differed from the expected distribution')\n",
    "reject"
   ]
  },
  {
   "cell_type": "code",
   "execution_count": 104,
   "metadata": {},
   "outputs": [
    {
     "output_type": "execute_result",
     "data": {
      "text/plain": [
       "                               all      excl  diff\n",
       "Advanced Technology       0.964454  0.964454   0.0\n",
       "Algorithm Development     0.003509  0.003509   0.0\n",
       "Midwest Lender Relations  0.178722  0.178722   0.0\n",
       "Midwest Lending           0.000016  0.000016   0.0\n",
       "New Home Purchase         0.589692  0.589692   0.0"
      ],
      "text/html": "<div>\n<style scoped>\n    .dataframe tbody tr th:only-of-type {\n        vertical-align: middle;\n    }\n\n    .dataframe tbody tr th {\n        vertical-align: top;\n    }\n\n    .dataframe thead th {\n        text-align: right;\n    }\n</style>\n<table border=\"1\" class=\"dataframe\">\n  <thead>\n    <tr style=\"text-align: right;\">\n      <th></th>\n      <th>all</th>\n      <th>excl</th>\n      <th>diff</th>\n    </tr>\n  </thead>\n  <tbody>\n    <tr>\n      <th>Advanced Technology</th>\n      <td>0.964454</td>\n      <td>0.964454</td>\n      <td>0.0</td>\n    </tr>\n    <tr>\n      <th>Algorithm Development</th>\n      <td>0.003509</td>\n      <td>0.003509</td>\n      <td>0.0</td>\n    </tr>\n    <tr>\n      <th>Midwest Lender Relations</th>\n      <td>0.178722</td>\n      <td>0.178722</td>\n      <td>0.0</td>\n    </tr>\n    <tr>\n      <th>Midwest Lending</th>\n      <td>0.000016</td>\n      <td>0.000016</td>\n      <td>0.0</td>\n    </tr>\n    <tr>\n      <th>New Home Purchase</th>\n      <td>0.589692</td>\n      <td>0.589692</td>\n      <td>0.0</td>\n    </tr>\n  </tbody>\n</table>\n</div>"
     },
     "metadata": {},
     "execution_count": 104
    }
   ],
   "source": [
    "# Compare calculation with all answers vs. exclusion of '1'\n",
    "final2.index = final.index\n",
    "comp = pd.DataFrame({'all':final,'excl':final2})\n",
    "comp['diff'] = comp['all'] - comp.excl\n",
    "comp.sort_values('diff', ascending=False).head()"
   ]
  },
  {
   "source": [
    "```It would appear that excluding the '1' responses made no difference on our values! Therefore, we will use them all.```"
   ],
   "cell_type": "markdown",
   "metadata": {}
  },
  {
   "cell_type": "markdown",
   "metadata": {},
   "source": [
    "## Q4: Good and Bad\n",
    "\n",
    "Go through the results from **Q3** to identify:\n",
    "\n",
    "a) which departments are significantly over-performing in terms of the survey metrics, and  \n",
    "\n",
    "b) which ones are significantly under-performing.\n",
    "\n",
    "```To determine under / over performing departments, I will calculate a weighted average of the likert responses by multiplying the answer value by the observed and expected proportions of responses. Over-performing departments will display higher averages than expected, while under-performing departments will display lower averages.```"
   ]
  },
  {
   "cell_type": "code",
   "execution_count": 70,
   "metadata": {},
   "outputs": [
    {
     "output_type": "execute_result",
     "data": {
      "text/plain": [
       "              department   imputed\n",
       "0  Algorithm Development  3.959079"
      ],
      "text/html": "<div>\n<style scoped>\n    .dataframe tbody tr th:only-of-type {\n        vertical-align: middle;\n    }\n\n    .dataframe tbody tr th {\n        vertical-align: top;\n    }\n\n    .dataframe thead th {\n        text-align: right;\n    }\n</style>\n<table border=\"1\" class=\"dataframe\">\n  <thead>\n    <tr style=\"text-align: right;\">\n      <th></th>\n      <th>department</th>\n      <th>imputed</th>\n    </tr>\n  </thead>\n  <tbody>\n    <tr>\n      <th>0</th>\n      <td>Algorithm Development</td>\n      <td>3.959079</td>\n    </tr>\n  </tbody>\n</table>\n</div>"
     },
     "metadata": {},
     "execution_count": 70
    }
   ],
   "source": [
    "# Compute weighted average likert observed\n",
    "rj_df = g_df.merge(pd.DataFrame(reject), left_on='department', right_index=True)\n",
    "rj_df['imputed'] = rj_df.answer * rj_df.actual\n",
    "fnl_df = rj_df.groupby('department', as_index=False)['imputed'].sum()\n",
    "fnl_df.head(1)"
   ]
  },
  {
   "cell_type": "code",
   "execution_count": 74,
   "metadata": {},
   "outputs": [
    {
     "output_type": "stream",
     "name": "stderr",
     "text": [
      "<ipython-input-74-99ac92656205>:3: SettingWithCopyWarning: \nA value is trying to be set on a copy of a slice from a DataFrame.\nTry using .loc[row_indexer,col_indexer] = value instead\n\nSee the caveats in the documentation: https://pandas.pydata.org/pandas-docs/stable/user_guide/indexing.html#returning-a-view-versus-a-copy\n  expected['impute'] = expected.index * expected.expected\n"
     ]
    },
    {
     "output_type": "execute_result",
     "data": {
      "text/plain": [
       "              department   imputed  expected\n",
       "0  Algorithm Development  3.959079  3.862899\n",
       "1             Compliance  3.919786  3.862899\n",
       "2     East Coast Lending  3.730392  3.862899"
      ],
      "text/html": "<div>\n<style scoped>\n    .dataframe tbody tr th:only-of-type {\n        vertical-align: middle;\n    }\n\n    .dataframe tbody tr th {\n        vertical-align: top;\n    }\n\n    .dataframe thead th {\n        text-align: right;\n    }\n</style>\n<table border=\"1\" class=\"dataframe\">\n  <thead>\n    <tr style=\"text-align: right;\">\n      <th></th>\n      <th>department</th>\n      <th>imputed</th>\n      <th>expected</th>\n    </tr>\n  </thead>\n  <tbody>\n    <tr>\n      <th>0</th>\n      <td>Algorithm Development</td>\n      <td>3.959079</td>\n      <td>3.862899</td>\n    </tr>\n    <tr>\n      <th>1</th>\n      <td>Compliance</td>\n      <td>3.919786</td>\n      <td>3.862899</td>\n    </tr>\n    <tr>\n      <th>2</th>\n      <td>East Coast Lending</td>\n      <td>3.730392</td>\n      <td>3.862899</td>\n    </tr>\n  </tbody>\n</table>\n</div>"
     },
     "metadata": {},
     "execution_count": 74
    }
   ],
   "source": [
    "# Weighted average likert expected\n",
    "expected['impute'] = expected.index * expected.expected\n",
    "fnl_df['expected'] = expected.impute.sum()\n",
    "fnl_df.head(3)"
   ]
  },
  {
   "cell_type": "code",
   "execution_count": 72,
   "metadata": {},
   "outputs": [
    {
     "output_type": "stream",
     "name": "stdout",
     "text": [
      "4 departments are considered overperforming\n"
     ]
    },
    {
     "output_type": "execute_result",
     "data": {
      "text/plain": [
       "              department   imputed  expected\n",
       "6             Full Stack  3.985653  3.865833\n",
       "5              Front End  3.983193  3.865833\n",
       "0  Algorithm Development  3.959079  3.865833\n",
       "1             Compliance  3.919786  3.865833"
      ],
      "text/html": "<div>\n<style scoped>\n    .dataframe tbody tr th:only-of-type {\n        vertical-align: middle;\n    }\n\n    .dataframe tbody tr th {\n        vertical-align: top;\n    }\n\n    .dataframe thead th {\n        text-align: right;\n    }\n</style>\n<table border=\"1\" class=\"dataframe\">\n  <thead>\n    <tr style=\"text-align: right;\">\n      <th></th>\n      <th>department</th>\n      <th>imputed</th>\n      <th>expected</th>\n    </tr>\n  </thead>\n  <tbody>\n    <tr>\n      <th>6</th>\n      <td>Full Stack</td>\n      <td>3.985653</td>\n      <td>3.865833</td>\n    </tr>\n    <tr>\n      <th>5</th>\n      <td>Front End</td>\n      <td>3.983193</td>\n      <td>3.865833</td>\n    </tr>\n    <tr>\n      <th>0</th>\n      <td>Algorithm Development</td>\n      <td>3.959079</td>\n      <td>3.865833</td>\n    </tr>\n    <tr>\n      <th>1</th>\n      <td>Compliance</td>\n      <td>3.919786</td>\n      <td>3.865833</td>\n    </tr>\n  </tbody>\n</table>\n</div>"
     },
     "metadata": {},
     "execution_count": 72
    }
   ],
   "source": [
    "# Departments significantly over-performing\n",
    "op_df = fnl_df[fnl_df['imputed'] > fnl_df['expected']].sort_values('imputed', ascending=False)\n",
    "print(f'{len(op_df)} departments are considered overperforming')\n",
    "op_df.head()"
   ]
  },
  {
   "cell_type": "code",
   "execution_count": 73,
   "metadata": {},
   "outputs": [
    {
     "output_type": "stream",
     "name": "stdout",
     "text": [
      "7 departments are considered underperforming\n"
     ]
    },
    {
     "output_type": "execute_result",
     "data": {
      "text/plain": [
       "           department   imputed  expected\n",
       "8       South Lending  3.411765  3.865833\n",
       "7     Midwest Lending  3.463235  3.865833\n",
       "9   Southwest Lending  3.485294  3.865833\n",
       "3           FHA Loans  3.575163  3.865833\n",
       "10           VA Loans  3.578431  3.865833"
      ],
      "text/html": "<div>\n<style scoped>\n    .dataframe tbody tr th:only-of-type {\n        vertical-align: middle;\n    }\n\n    .dataframe tbody tr th {\n        vertical-align: top;\n    }\n\n    .dataframe thead th {\n        text-align: right;\n    }\n</style>\n<table border=\"1\" class=\"dataframe\">\n  <thead>\n    <tr style=\"text-align: right;\">\n      <th></th>\n      <th>department</th>\n      <th>imputed</th>\n      <th>expected</th>\n    </tr>\n  </thead>\n  <tbody>\n    <tr>\n      <th>8</th>\n      <td>South Lending</td>\n      <td>3.411765</td>\n      <td>3.865833</td>\n    </tr>\n    <tr>\n      <th>7</th>\n      <td>Midwest Lending</td>\n      <td>3.463235</td>\n      <td>3.865833</td>\n    </tr>\n    <tr>\n      <th>9</th>\n      <td>Southwest Lending</td>\n      <td>3.485294</td>\n      <td>3.865833</td>\n    </tr>\n    <tr>\n      <th>3</th>\n      <td>FHA Loans</td>\n      <td>3.575163</td>\n      <td>3.865833</td>\n    </tr>\n    <tr>\n      <th>10</th>\n      <td>VA Loans</td>\n      <td>3.578431</td>\n      <td>3.865833</td>\n    </tr>\n  </tbody>\n</table>\n</div>"
     },
     "metadata": {},
     "execution_count": 73
    }
   ],
   "source": [
    "# Departments significantly under-performing\n",
    "up_df = fnl_df[fnl_df['imputed'] < fnl_df['expected']].sort_values('imputed')\n",
    "print(f'{len(up_df)} departments are considered underperforming')\n",
    "up_df.head()"
   ]
  },
  {
   "cell_type": "code",
   "execution_count": null,
   "metadata": {},
   "outputs": [],
   "source": [
    "!jupyter nbconvert --to html --template full LoanTronic_Statistics.ipynb"
   ]
  }
 ],
 "metadata": {
  "kernelspec": {
   "name": "python383jvsc74a57bd041e6209773aa37b74ace5eba6f1445f0bd28eaed78a9306a587800345dc110dd",
   "display_name": "Python 3.8.3 64-bit ('base': conda)"
  },
  "language_info": {
   "codemirror_mode": {
    "name": "ipython",
    "version": 3
   },
   "file_extension": ".py",
   "mimetype": "text/x-python",
   "name": "python",
   "nbconvert_exporter": "python",
   "pygments_lexer": "ipython3",
   "version": "3.8.3"
  }
 },
 "nbformat": 4,
 "nbformat_minor": 4
}