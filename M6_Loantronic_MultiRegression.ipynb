{
 "cells": [
  {
   "cell_type": "markdown",
   "metadata": {},
   "source": [
    "# Week 6 -- Multivariate OLS Regression\n",
    "\n",
    "\n",
    "Let's use the dataset from last week to perform a multi-variate OLS Regression."
   ]
  },
  {
   "cell_type": "code",
   "execution_count": 21,
   "metadata": {},
   "outputs": [],
   "source": [
    "import os\n",
    "import pandas as pd\n",
    "import numpy as np\n",
    "import statsmodels.api as sm\n",
    "import plotly.express as px\n",
    "import plotly.graph_objects as go\n",
    "import plotly.io as pio\n",
    "pio.renderers.default='plotly_mimetype+notebook_connected'\n",
    "from scipy import stats\n",
    "import matplotlib.pyplot as plt "
   ]
  },
  {
   "cell_type": "markdown",
   "metadata": {},
   "source": [
    "## Q1: Regressors\n",
    "\n",
    "Many of the variables available from the ```roster_with_score_2.csv``` file are categorical:\n",
    "\n",
    "Attribute Name | Field Name | Type | Categorical | Restrictions | Description\n",
    "--|--|--|--|--|--\n",
    "Department |```department``` |```str``` | Yes |  | Departmental reporting structure\n",
    "Location  |```location``` |```str``` | Yes | | Office Location\n",
    "Age  |```age``` |```str``` | Yes | | Age by group of 10 years\n",
    "Sex  |```sex``` |```str``` | Yes | | Sex\n",
    "Employment Status  |```employment_status``` |```str``` | Yes | | Employment status (part time, full time)\n",
    "Tenure  |```tenure``` |```str``` | Yes | | Tenure with the company in discrete increments\n",
    "\n",
    "(a) For each categorical variable, create dummy variables that are suitable for use in an OLS regression (hint: please be careful to avoid multi-colinearity).\n",
    "\n",
    "(b) Given the available regressors, would you keep all the categorical variables you identified above?"
   ]
  },
  {
   "cell_type": "code",
   "execution_count": 22,
   "metadata": {},
   "outputs": [
    {
     "output_type": "execute_result",
     "data": {
      "text/plain": [
       "   employee_id title   last     first  manager_id function  department  \\\n",
       "0          343   CEO  Duran  Veronica         NaN      CEO  Leadership   \n",
       "\n",
       "            location      age sex  ... tenure_id seniority alignment  \\\n",
       "0  Mountain View, CA  35 - 44   F  ...         2         4       0.8   \n",
       "\n",
       "   development  enablement  engagement  leadership   overall  year_of_birth  \\\n",
       "0     0.666667    0.733333        0.68    0.733333  0.722667           1978   \n",
       "\n",
       "   time_on_the_job  \n",
       "0        22.885246  \n",
       "\n",
       "[1 rows x 23 columns]"
      ],
      "text/html": "<div>\n<style scoped>\n    .dataframe tbody tr th:only-of-type {\n        vertical-align: middle;\n    }\n\n    .dataframe tbody tr th {\n        vertical-align: top;\n    }\n\n    .dataframe thead th {\n        text-align: right;\n    }\n</style>\n<table border=\"1\" class=\"dataframe\">\n  <thead>\n    <tr style=\"text-align: right;\">\n      <th></th>\n      <th>employee_id</th>\n      <th>title</th>\n      <th>last</th>\n      <th>first</th>\n      <th>manager_id</th>\n      <th>function</th>\n      <th>department</th>\n      <th>location</th>\n      <th>age</th>\n      <th>sex</th>\n      <th>...</th>\n      <th>tenure_id</th>\n      <th>seniority</th>\n      <th>alignment</th>\n      <th>development</th>\n      <th>enablement</th>\n      <th>engagement</th>\n      <th>leadership</th>\n      <th>overall</th>\n      <th>year_of_birth</th>\n      <th>time_on_the_job</th>\n    </tr>\n  </thead>\n  <tbody>\n    <tr>\n      <th>0</th>\n      <td>343</td>\n      <td>CEO</td>\n      <td>Duran</td>\n      <td>Veronica</td>\n      <td>NaN</td>\n      <td>CEO</td>\n      <td>Leadership</td>\n      <td>Mountain View, CA</td>\n      <td>35 - 44</td>\n      <td>F</td>\n      <td>...</td>\n      <td>2</td>\n      <td>4</td>\n      <td>0.8</td>\n      <td>0.666667</td>\n      <td>0.733333</td>\n      <td>0.68</td>\n      <td>0.733333</td>\n      <td>0.722667</td>\n      <td>1978</td>\n      <td>22.885246</td>\n    </tr>\n  </tbody>\n</table>\n<p>1 rows × 23 columns</p>\n</div>"
     },
     "metadata": {},
     "execution_count": 22
    }
   ],
   "source": [
    "# Read data and drop unnamed fields\n",
    "df = pd.read_csv('roster_with_score_2.csv')\n",
    "df.drop([c for c in df.columns if c.startswith('Unnamed')], axis=1, inplace=True)\n",
    "df.head(1)"
   ]
  },
  {
   "cell_type": "code",
   "execution_count": 23,
   "metadata": {},
   "outputs": [
    {
     "output_type": "stream",
     "name": "stdout",
     "text": [
      "36 categories of department\n35 dummy encoded column(s) for department\n6 categories of age\n5 dummy encoded column(s) for age\n5 categories of location\n4 dummy encoded column(s) for location\n2 categories of sex\n1 dummy encoded column(s) for sex\n2 categories of employment_status\n1 dummy encoded column(s) for employment_status\n5 categories of tenure\n5 dummy encoded column(s) for tenure\n"
     ]
    }
   ],
   "source": [
    "# Convert categorical columns to category dtype and dummy-encode\n",
    "categorical = ['department','age','location','sex','employment_status','tenure']\n",
    "df[categorical] = df[categorical].astype('category')\n",
    "dum_df = pd.get_dummies(df, columns=categorical)\n",
    "\n",
    "# Review number of categories for each variable and remove last category of each variable to avoid co-linearity\n",
    "for category in categorical:\n",
    "    print(f'{len(df[category].cat.categories)} categories of {category}')\n",
    "    dum_df.drop([c for c in dum_df.columns if c.startswith(category)][-1], axis=1, inplace=True)\n",
    "    print(f'{len([c for c in dum_df.columns if c.startswith(category)])} dummy encoded column(s) for {category}')"
   ]
  },
  {
   "cell_type": "code",
   "execution_count": 24,
   "metadata": {},
   "outputs": [
    {
     "output_type": "execute_result",
     "data": {
      "text/plain": [
       "               department  employee_id       pct\n",
       "1   Algorithm Development           46  0.120735\n",
       "13             Full Stack           41  0.107612\n",
       "12              Front End           35  0.091864\n",
       "31           Underwriting           30  0.078740\n",
       "2                Back End           19  0.049869"
      ],
      "text/html": "<div>\n<style scoped>\n    .dataframe tbody tr th:only-of-type {\n        vertical-align: middle;\n    }\n\n    .dataframe tbody tr th {\n        vertical-align: top;\n    }\n\n    .dataframe thead th {\n        text-align: right;\n    }\n</style>\n<table border=\"1\" class=\"dataframe\">\n  <thead>\n    <tr style=\"text-align: right;\">\n      <th></th>\n      <th>department</th>\n      <th>employee_id</th>\n      <th>pct</th>\n    </tr>\n  </thead>\n  <tbody>\n    <tr>\n      <th>1</th>\n      <td>Algorithm Development</td>\n      <td>46</td>\n      <td>0.120735</td>\n    </tr>\n    <tr>\n      <th>13</th>\n      <td>Full Stack</td>\n      <td>41</td>\n      <td>0.107612</td>\n    </tr>\n    <tr>\n      <th>12</th>\n      <td>Front End</td>\n      <td>35</td>\n      <td>0.091864</td>\n    </tr>\n    <tr>\n      <th>31</th>\n      <td>Underwriting</td>\n      <td>30</td>\n      <td>0.078740</td>\n    </tr>\n    <tr>\n      <th>2</th>\n      <td>Back End</td>\n      <td>19</td>\n      <td>0.049869</td>\n    </tr>\n  </tbody>\n</table>\n</div>"
     },
     "metadata": {},
     "execution_count": 24
    }
   ],
   "source": [
    "# Review share of employees by department\n",
    "grp = df.groupby('department', as_index=False)['employee_id'].count()\n",
    "grp['pct'] = grp['employee_id'] / len(df)\n",
    "grp.sort_values('employee_id', ascending=False).head()"
   ]
  },
  {
   "source": [
    "### Category Analysis\n",
    "Given that Department has 36 different categories, none of which account for a significant share of the population, it is unlikely to have explanatory power in a regression. We could include the top departments to test for significant, but even the top 5 fair to account for half of the population."
   ],
   "cell_type": "markdown",
   "metadata": {}
  },
  {
   "cell_type": "markdown",
   "metadata": {},
   "source": [
    "## Q2: Run Regressions and Assess Results\n",
    "\n",
    "Let's keep the two regressors we added last week (time on the job, year of birth).  Run multivariate regressions and assess which regressors are significant.\n",
    "\n",
    "(a) Run a \"kitchen sink\" model which includes all possible (or a large number of) regressors\n",
    "\n",
    "(b) Which regressors are worth keeping and why?  Rerun the regression with the reduced complexity model.\n",
    "\n",
    "(c) Inspect the residuals -- are they normally distributed?\n",
    "\n",
    "(d) Compare the results of your regression to the results from last week.  If there is improvement in key metrics, is the increased complexity justified?  Which metric would you use to justify this?"
   ]
  },
  {
   "cell_type": "code",
   "execution_count": 25,
   "metadata": {},
   "outputs": [
    {
     "output_type": "execute_result",
     "data": {
      "text/plain": [
       "   year_of_birth  time_on_the_job  age_18 - 24  age_25 - 34  age_35 - 44  \\\n",
       "0           1978        22.885246            0            0            1   \n",
       "\n",
       "   age_45 - 54  age_55 - 64  location_Atlanta, GA  location_Austin, TX  \\\n",
       "0            0            0                     0                    0   \n",
       "\n",
       "   location_Chicago, IL  location_Mountain View, CA  sex_F  \\\n",
       "0                     0                           1      1   \n",
       "\n",
       "   employment_status_Full time  tenure_id  tenure_1 to less than 2 years  \\\n",
       "0                            1          2                              1   \n",
       "\n",
       "   tenure_2 to less than 4 years  tenure_4 to less than 6 years  \\\n",
       "0                              0                              0   \n",
       "\n",
       "   tenure_6 months to less than 1 year  \n",
       "0                                    0  "
      ],
      "text/html": "<div>\n<style scoped>\n    .dataframe tbody tr th:only-of-type {\n        vertical-align: middle;\n    }\n\n    .dataframe tbody tr th {\n        vertical-align: top;\n    }\n\n    .dataframe thead th {\n        text-align: right;\n    }\n</style>\n<table border=\"1\" class=\"dataframe\">\n  <thead>\n    <tr style=\"text-align: right;\">\n      <th></th>\n      <th>year_of_birth</th>\n      <th>time_on_the_job</th>\n      <th>age_18 - 24</th>\n      <th>age_25 - 34</th>\n      <th>age_35 - 44</th>\n      <th>age_45 - 54</th>\n      <th>age_55 - 64</th>\n      <th>location_Atlanta, GA</th>\n      <th>location_Austin, TX</th>\n      <th>location_Chicago, IL</th>\n      <th>location_Mountain View, CA</th>\n      <th>sex_F</th>\n      <th>employment_status_Full time</th>\n      <th>tenure_id</th>\n      <th>tenure_1 to less than 2 years</th>\n      <th>tenure_2 to less than 4 years</th>\n      <th>tenure_4 to less than 6 years</th>\n      <th>tenure_6 months to less than 1 year</th>\n    </tr>\n  </thead>\n  <tbody>\n    <tr>\n      <th>0</th>\n      <td>1978</td>\n      <td>22.885246</td>\n      <td>0</td>\n      <td>0</td>\n      <td>1</td>\n      <td>0</td>\n      <td>0</td>\n      <td>0</td>\n      <td>0</td>\n      <td>0</td>\n      <td>1</td>\n      <td>1</td>\n      <td>1</td>\n      <td>2</td>\n      <td>1</td>\n      <td>0</td>\n      <td>0</td>\n      <td>0</td>\n    </tr>\n  </tbody>\n</table>\n</div>"
     },
     "metadata": {},
     "execution_count": 25
    }
   ],
   "source": [
    "# Assign numerical and dummy-encoded variables to a list for modeling\n",
    "categorical2 = categorical.copy()\n",
    "categorical2.remove('department')\n",
    "variables = ['year_of_birth', 'time_on_the_job']\n",
    "for category in categorical2:\n",
    "    variables.extend([c for c in dum_df.columns if c.startswith(category)])\n",
    "dum_df[variables].head(1)"
   ]
  },
  {
   "cell_type": "code",
   "execution_count": 26,
   "metadata": {},
   "outputs": [
    {
     "output_type": "stream",
     "name": "stderr",
     "text": [
      "<ipython-input-26-cd1cc23c6827>:3: SettingWithCopyWarning:\n\n\nA value is trying to be set on a copy of a slice from a DataFrame.\nTry using .loc[row_indexer,col_indexer] = value instead\n\nSee the caveats in the documentation: https://pandas.pydata.org/pandas-docs/stable/user_guide/indexing.html#returning-a-view-versus-a-copy\n\n"
     ]
    },
    {
     "output_type": "execute_result",
     "data": {
      "text/plain": [
       "<class 'statsmodels.iolib.summary.Summary'>\n",
       "\"\"\"\n",
       "                            OLS Regression Results                            \n",
       "==============================================================================\n",
       "Dep. Variable:                overall   R-squared:                       0.439\n",
       "Model:                            OLS   Adj. R-squared:                  0.413\n",
       "Method:                 Least Squares   F-statistic:                     16.72\n",
       "Date:                Wed, 16 Jun 2021   Prob (F-statistic):           4.32e-36\n",
       "Time:                        21:53:42   Log-Likelihood:                 587.72\n",
       "No. Observations:                 381   AIC:                            -1139.\n",
       "Df Residuals:                     363   BIC:                            -1068.\n",
       "Df Model:                          17                                         \n",
       "Covariance Type:            nonrobust                                         \n",
       "=======================================================================================================\n",
       "                                          coef    std err          t      P>|t|      [0.025      0.975]\n",
       "-------------------------------------------------------------------------------------------------------\n",
       "year_of_birth                           0.0008      0.001      0.805      0.421      -0.001       0.003\n",
       "time_on_the_job                         0.0030      0.001      5.527      0.000       0.002       0.004\n",
       "age_18 - 24                            -0.0037      0.053     -0.070      0.944      -0.108       0.101\n",
       "age_25 - 34                             0.0078      0.046      0.171      0.865      -0.082       0.098\n",
       "age_35 - 44                             0.0197      0.038      0.516      0.606      -0.055       0.095\n",
       "age_45 - 54                             0.0111      0.032      0.341      0.734      -0.053       0.075\n",
       "age_55 - 64                             0.0229      0.028      0.829      0.407      -0.031       0.077\n",
       "location_Atlanta, GA                   -0.0685      0.026     -2.600      0.010      -0.120      -0.017\n",
       "location_Austin, TX                    -0.0774      0.028     -2.789      0.006      -0.132      -0.023\n",
       "location_Chicago, IL                   -0.0476      0.019     -2.477      0.014      -0.085      -0.010\n",
       "location_Mountain View, CA              0.0365      0.008      4.835      0.000       0.022       0.051\n",
       "sex_F                                  -0.0061      0.006     -1.025      0.306      -0.018       0.006\n",
       "employment_status_Full time             0.0063      0.008      0.821      0.412      -0.009       0.022\n",
       "tenure_id                              -0.0231      0.007     -3.374      0.001      -0.037      -0.010\n",
       "tenure_1 to less than 2 years          -0.0149      0.007     -2.167      0.031      -0.028      -0.001\n",
       "tenure_2 to less than 4 years          -0.0205      0.005     -4.089      0.000      -0.030      -0.011\n",
       "tenure_4 to less than 6 years           0.0205      0.007      2.842      0.005       0.006       0.035\n",
       "tenure_6 months to less than 1 year    -0.0136      0.011     -1.280      0.201      -0.035       0.007\n",
       "intercept                              -0.8574      1.919     -0.447      0.655      -4.631       2.916\n",
       "==============================================================================\n",
       "Omnibus:                       14.424   Durbin-Watson:                   2.069\n",
       "Prob(Omnibus):                  0.001   Jarque-Bera (JB):               15.485\n",
       "Skew:                          -0.490   Prob(JB):                     0.000434\n",
       "Kurtosis:                       2.879   Cond. No.                     1.24e+19\n",
       "==============================================================================\n",
       "\n",
       "Notes:\n",
       "[1] Standard Errors assume that the covariance matrix of the errors is correctly specified.\n",
       "[2] The smallest eigenvalue is 9.72e-30. This might indicate that there are\n",
       "strong multicollinearity problems or that the design matrix is singular.\n",
       "\"\"\""
      ],
      "text/html": "<table class=\"simpletable\">\n<caption>OLS Regression Results</caption>\n<tr>\n  <th>Dep. Variable:</th>         <td>overall</td>     <th>  R-squared:         </th> <td>   0.439</td>\n</tr>\n<tr>\n  <th>Model:</th>                   <td>OLS</td>       <th>  Adj. R-squared:    </th> <td>   0.413</td>\n</tr>\n<tr>\n  <th>Method:</th>             <td>Least Squares</td>  <th>  F-statistic:       </th> <td>   16.72</td>\n</tr>\n<tr>\n  <th>Date:</th>             <td>Wed, 16 Jun 2021</td> <th>  Prob (F-statistic):</th> <td>4.32e-36</td>\n</tr>\n<tr>\n  <th>Time:</th>                 <td>21:53:42</td>     <th>  Log-Likelihood:    </th> <td>  587.72</td>\n</tr>\n<tr>\n  <th>No. Observations:</th>      <td>   381</td>      <th>  AIC:               </th> <td>  -1139.</td>\n</tr>\n<tr>\n  <th>Df Residuals:</th>          <td>   363</td>      <th>  BIC:               </th> <td>  -1068.</td>\n</tr>\n<tr>\n  <th>Df Model:</th>              <td>    17</td>      <th>                     </th>     <td> </td>   \n</tr>\n<tr>\n  <th>Covariance Type:</th>      <td>nonrobust</td>    <th>                     </th>     <td> </td>   \n</tr>\n</table>\n<table class=\"simpletable\">\n<tr>\n                   <td></td>                      <th>coef</th>     <th>std err</th>      <th>t</th>      <th>P>|t|</th>  <th>[0.025</th>    <th>0.975]</th>  \n</tr>\n<tr>\n  <th>year_of_birth</th>                       <td>    0.0008</td> <td>    0.001</td> <td>    0.805</td> <td> 0.421</td> <td>   -0.001</td> <td>    0.003</td>\n</tr>\n<tr>\n  <th>time_on_the_job</th>                     <td>    0.0030</td> <td>    0.001</td> <td>    5.527</td> <td> 0.000</td> <td>    0.002</td> <td>    0.004</td>\n</tr>\n<tr>\n  <th>age_18 - 24</th>                         <td>   -0.0037</td> <td>    0.053</td> <td>   -0.070</td> <td> 0.944</td> <td>   -0.108</td> <td>    0.101</td>\n</tr>\n<tr>\n  <th>age_25 - 34</th>                         <td>    0.0078</td> <td>    0.046</td> <td>    0.171</td> <td> 0.865</td> <td>   -0.082</td> <td>    0.098</td>\n</tr>\n<tr>\n  <th>age_35 - 44</th>                         <td>    0.0197</td> <td>    0.038</td> <td>    0.516</td> <td> 0.606</td> <td>   -0.055</td> <td>    0.095</td>\n</tr>\n<tr>\n  <th>age_45 - 54</th>                         <td>    0.0111</td> <td>    0.032</td> <td>    0.341</td> <td> 0.734</td> <td>   -0.053</td> <td>    0.075</td>\n</tr>\n<tr>\n  <th>age_55 - 64</th>                         <td>    0.0229</td> <td>    0.028</td> <td>    0.829</td> <td> 0.407</td> <td>   -0.031</td> <td>    0.077</td>\n</tr>\n<tr>\n  <th>location_Atlanta, GA</th>                <td>   -0.0685</td> <td>    0.026</td> <td>   -2.600</td> <td> 0.010</td> <td>   -0.120</td> <td>   -0.017</td>\n</tr>\n<tr>\n  <th>location_Austin, TX</th>                 <td>   -0.0774</td> <td>    0.028</td> <td>   -2.789</td> <td> 0.006</td> <td>   -0.132</td> <td>   -0.023</td>\n</tr>\n<tr>\n  <th>location_Chicago, IL</th>                <td>   -0.0476</td> <td>    0.019</td> <td>   -2.477</td> <td> 0.014</td> <td>   -0.085</td> <td>   -0.010</td>\n</tr>\n<tr>\n  <th>location_Mountain View, CA</th>          <td>    0.0365</td> <td>    0.008</td> <td>    4.835</td> <td> 0.000</td> <td>    0.022</td> <td>    0.051</td>\n</tr>\n<tr>\n  <th>sex_F</th>                               <td>   -0.0061</td> <td>    0.006</td> <td>   -1.025</td> <td> 0.306</td> <td>   -0.018</td> <td>    0.006</td>\n</tr>\n<tr>\n  <th>employment_status_Full time</th>         <td>    0.0063</td> <td>    0.008</td> <td>    0.821</td> <td> 0.412</td> <td>   -0.009</td> <td>    0.022</td>\n</tr>\n<tr>\n  <th>tenure_id</th>                           <td>   -0.0231</td> <td>    0.007</td> <td>   -3.374</td> <td> 0.001</td> <td>   -0.037</td> <td>   -0.010</td>\n</tr>\n<tr>\n  <th>tenure_1 to less than 2 years</th>       <td>   -0.0149</td> <td>    0.007</td> <td>   -2.167</td> <td> 0.031</td> <td>   -0.028</td> <td>   -0.001</td>\n</tr>\n<tr>\n  <th>tenure_2 to less than 4 years</th>       <td>   -0.0205</td> <td>    0.005</td> <td>   -4.089</td> <td> 0.000</td> <td>   -0.030</td> <td>   -0.011</td>\n</tr>\n<tr>\n  <th>tenure_4 to less than 6 years</th>       <td>    0.0205</td> <td>    0.007</td> <td>    2.842</td> <td> 0.005</td> <td>    0.006</td> <td>    0.035</td>\n</tr>\n<tr>\n  <th>tenure_6 months to less than 1 year</th> <td>   -0.0136</td> <td>    0.011</td> <td>   -1.280</td> <td> 0.201</td> <td>   -0.035</td> <td>    0.007</td>\n</tr>\n<tr>\n  <th>intercept</th>                           <td>   -0.8574</td> <td>    1.919</td> <td>   -0.447</td> <td> 0.655</td> <td>   -4.631</td> <td>    2.916</td>\n</tr>\n</table>\n<table class=\"simpletable\">\n<tr>\n  <th>Omnibus:</th>       <td>14.424</td> <th>  Durbin-Watson:     </th> <td>   2.069</td>\n</tr>\n<tr>\n  <th>Prob(Omnibus):</th> <td> 0.001</td> <th>  Jarque-Bera (JB):  </th> <td>  15.485</td>\n</tr>\n<tr>\n  <th>Skew:</th>          <td>-0.490</td> <th>  Prob(JB):          </th> <td>0.000434</td>\n</tr>\n<tr>\n  <th>Kurtosis:</th>      <td> 2.879</td> <th>  Cond. No.          </th> <td>1.24e+19</td>\n</tr>\n</table><br/><br/>Notes:<br/>[1] Standard Errors assume that the covariance matrix of the errors is correctly specified.<br/>[2] The smallest eigenvalue is 9.72e-30. This might indicate that there are<br/>strong multicollinearity problems or that the design matrix is singular."
     },
     "metadata": {},
     "execution_count": 26
    }
   ],
   "source": [
    "# Assign subset variables for model inputs\n",
    "X = dum_df[variables]\n",
    "X['intercept'] = 1\n",
    "y = dum_df['overall']\n",
    "\n",
    "# Run OLS model\n",
    "model = sm.OLS(y, X)\n",
    "results = model.fit()\n",
    "results.summary()"
   ]
  },
  {
   "cell_type": "code",
   "execution_count": 27,
   "metadata": {},
   "outputs": [
    {
     "output_type": "display_data",
     "data": {
      "text/html": "        <script type=\"text/javascript\">\n        window.PlotlyConfig = {MathJaxConfig: 'local'};\n        if (window.MathJax) {MathJax.Hub.Config({SVG: {font: \"STIX-Web\"}});}\n        if (typeof require !== 'undefined') {\n        require.undef(\"plotly\");\n        requirejs.config({\n            paths: {\n                'plotly': ['https://cdn.plot.ly/plotly-latest.min']\n            }\n        });\n        require(['plotly'], function(Plotly) {\n            window._Plotly = Plotly;\n        });\n        }\n        </script>\n        "
     },
     "metadata": {}
    },
    {
     "output_type": "display_data",
     "data": {
      "application/vnd.plotly.v1+json": {
       "config": {
        "plotlyServerURL": "https://plot.ly"
       },
       "data": [
        {
         "hovertemplate": "x=%{x}<br>y=%{y}<extra></extra>",
         "legendgroup": "",
         "marker": {
          "color": "#636efa",
          "symbol": "circle"
         },
         "mode": "markers",
         "name": "",
         "orientation": "v",
         "showlegend": false,
         "type": "scatter",
         "x": [
          0,
          1,
          2,
          3,
          4,
          5,
          6,
          7,
          8,
          9,
          10,
          11,
          12,
          13,
          14,
          15,
          16,
          17,
          18,
          19,
          20,
          21,
          22,
          23,
          24,
          25,
          26,
          27,
          28,
          29,
          30,
          31,
          32,
          33,
          34,
          35,
          36,
          37,
          38,
          39,
          40,
          41,
          42,
          43,
          44,
          45,
          46,
          47,
          48,
          49,
          50,
          51,
          52,
          53,
          54,
          55,
          56,
          57,
          58,
          59,
          60,
          61,
          62,
          63,
          64,
          65,
          66,
          67,
          68,
          69,
          70,
          71,
          72,
          73,
          74,
          75,
          76,
          77,
          78,
          79,
          80,
          81,
          82,
          83,
          84,
          85,
          86,
          87,
          88,
          89,
          90,
          91,
          92,
          93,
          94,
          95,
          96,
          97,
          98,
          99,
          100,
          101,
          102,
          103,
          104,
          105,
          106,
          107,
          108,
          109,
          110,
          111,
          112,
          113,
          114,
          115,
          116,
          117,
          118,
          119,
          120,
          121,
          122,
          123,
          124,
          125,
          126,
          127,
          128,
          129,
          130,
          131,
          132,
          133,
          134,
          135,
          136,
          137,
          138,
          139,
          140,
          141,
          142,
          143,
          144,
          145,
          146,
          147,
          148,
          149,
          150,
          151,
          152,
          153,
          154,
          155,
          156,
          157,
          158,
          159,
          160,
          161,
          162,
          163,
          164,
          165,
          166,
          167,
          168,
          169,
          170,
          171,
          172,
          173,
          174,
          175,
          176,
          177,
          178,
          179,
          180,
          181,
          182,
          183,
          184,
          185,
          186,
          187,
          188,
          189,
          190,
          191,
          192,
          193,
          194,
          195,
          196,
          197,
          198,
          199,
          200,
          201,
          202,
          203,
          204,
          205,
          206,
          207,
          208,
          209,
          210,
          211,
          212,
          213,
          214,
          215,
          216,
          217,
          218,
          219,
          220,
          221,
          222,
          223,
          224,
          225,
          226,
          227,
          228,
          229,
          230,
          231,
          232,
          233,
          234,
          235,
          236,
          237,
          238,
          239,
          240,
          241,
          242,
          243,
          244,
          245,
          246,
          247,
          248,
          249,
          250,
          251,
          252,
          253,
          254,
          255,
          256,
          257,
          258,
          259,
          260,
          261,
          262,
          263,
          264,
          265,
          266,
          267,
          268,
          269,
          270,
          271,
          272,
          273,
          274,
          275,
          276,
          277,
          278,
          279,
          280,
          281,
          282,
          283,
          284,
          285,
          286,
          287,
          288,
          289,
          290,
          291,
          292,
          293,
          294,
          295,
          296,
          297,
          298,
          299,
          300,
          301,
          302,
          303,
          304,
          305,
          306,
          307,
          308,
          309,
          310,
          311,
          312,
          313,
          314,
          315,
          316,
          317,
          318,
          319,
          320,
          321,
          322,
          323,
          324,
          325,
          326,
          327,
          328,
          329,
          330,
          331,
          332,
          333,
          334,
          335,
          336,
          337,
          338,
          339,
          340,
          341,
          342,
          343,
          344,
          345,
          346,
          347,
          348,
          349,
          350,
          351,
          352,
          353,
          354,
          355,
          356,
          357,
          358,
          359,
          360,
          361,
          362,
          363,
          364,
          365,
          366,
          367,
          368,
          369,
          370,
          371,
          372,
          373,
          374,
          375,
          376,
          377,
          378,
          379,
          380
         ],
         "xaxis": "x",
         "y": [
          -0.04969724512504037,
          0.08781946177067279,
          0.013340795075842404,
          -0.07676125965252023,
          0.011836270717331954,
          0.002211916509347267,
          0.09612562723785267,
          -0.10289248410500174,
          -0.006434933682981314,
          -0.06533237438725525,
          0.0595333592907743,
          -0.03080857716727492,
          0.011555826787181145,
          0.01080282574621394,
          0.048155345547534645,
          0.03491240582808863,
          0.053218300374436756,
          -0.10944603822929211,
          -0.014349678271691868,
          -0.02206765224053997,
          -0.00777890769712275,
          0.04223165774401294,
          0.015547707656094034,
          0.0693963245948146,
          0.01829214406618207,
          -0.005201334494170373,
          -0.0019575699872580454,
          -0.009913515170759002,
          0.026403739489115785,
          0.05641522754718242,
          0.012130765501958574,
          -0.05854553520897021,
          -0.04582878045854344,
          0.06882004933796826,
          -0.047125510431308304,
          -0.012790345892436661,
          -0.019549404223207167,
          0.014573175051560971,
          -0.04071961535338997,
          -0.0026384791705046373,
          -0.0010241906430407122,
          -0.0022069346786722788,
          -0.06386680591166305,
          -0.04006539468421222,
          -0.049218342085249445,
          -0.012993754230554044,
          -0.04424928314740795,
          0.05648586329312677,
          0.04343486609851843,
          -0.0024671441038175423,
          0.006422225755747135,
          0.0304686209170556,
          -0.09513024281901061,
          -0.10805854041350027,
          0.08031086759542405,
          -0.0625888263927945,
          -0.005384431520993882,
          -0.0844238949104602,
          0.0581630190178557,
          0.00687574692706483,
          0.0019932788373586696,
          0.032484705743961784,
          -0.02824169486827166,
          0.012189943950119964,
          0.03351088619922449,
          -0.06782640855871924,
          -0.065745472583701,
          0.0394981951261687,
          0.038902658914272914,
          -0.09806051199452648,
          -0.08612017858418963,
          0.005448588284887146,
          -0.09360922774218028,
          0.045791841676720346,
          0.07927395245598468,
          0.05752965688902367,
          0.06765479353972015,
          -0.03564234885241424,
          -0.0550411611431314,
          -0.055176814101348004,
          0.023964326398262514,
          -0.10165904788697033,
          0.09196130531505575,
          -0.014266583826480828,
          -0.0789121933286564,
          -0.01325668920820644,
          0.06939450108443124,
          -0.024169816774374908,
          -0.09834601957895472,
          -0.004107578233937259,
          0.06072026916064999,
          0.04794455268286946,
          0.04293906927725977,
          -0.09058527347468315,
          -0.07591726578834401,
          0.10610096704939065,
          -0.01089934190113262,
          -0.1272281067467771,
          -0.04752303286980786,
          -0.015075555803004903,
          0.04852750505453707,
          0.020662668384587413,
          0.025682759715449643,
          0.004914404180141552,
          0.055113663928338164,
          0.04574833414166424,
          -0.015859585645918384,
          -0.03277496241890365,
          -0.024737975072502083,
          0.0856304181523202,
          0.008203082015685537,
          0.07814713038583565,
          -0.013425289937084361,
          0.055637509454255274,
          -0.018406976512639006,
          -0.041953024602573774,
          -0.011450103574220383,
          -0.11119804858191096,
          -0.05142627457098792,
          0.0406081597520892,
          0.06224382874701129,
          -0.12426886099416545,
          0.05539716568439923,
          0.001657256096928461,
          0.014505398508791512,
          -0.016183477419927428,
          -0.09274113791888972,
          0.11232888500277949,
          0.05691398485494292,
          -0.07310560255330467,
          0.002484483797728698,
          0.00008025078780449224,
          0.0085185296142265,
          0.04541088475378319,
          -0.052571154042374335,
          0.01477985508458346,
          0.04925025974843611,
          0.014652404895051374,
          0.03443776214477756,
          -0.04985181262335969,
          0.0007189270181164886,
          -0.047003310261320985,
          -0.015824460172092714,
          -0.006099798886875618,
          0.005834871826562393,
          0.006683511707421652,
          -0.02886283415274815,
          -0.008256203057799949,
          0.04351941733692,
          0.04075657379775588,
          -0.07912016719048953,
          0.08253097459010694,
          0.08113552514734335,
          0.07923020423961802,
          0.05779377753775772,
          0.04239530974519412,
          -0.023509208613227583,
          -0.10191765347461534,
          0.03673211824129996,
          -0.04347757005420039,
          -0.027550760399512098,
          0.02195646493373793,
          -0.0613335455580879,
          0.06565048133048945,
          -0.04753412494547382,
          -0.09947643473420031,
          0.06605739016835976,
          -0.14390134466212812,
          -0.03128184202913198,
          -0.18032994810704905,
          -0.044810071066518464,
          0.041499006061501476,
          -0.004128582595743557,
          -0.09003294114163607,
          0.025641305267429026,
          -0.013757314567033552,
          0.005436148911589611,
          0.023818470822212334,
          -0.02787233164940406,
          0.09400457877137847,
          0.0034098083509318533,
          -0.016515705839464823,
          0.005615772929317808,
          0.037702866861660245,
          0.020169992202977993,
          0.05140022766386987,
          -0.0050777319196868564,
          -0.02408006876145352,
          0.001675512338507712,
          0.01167139954891927,
          0.033303176888689556,
          0.059566296961938936,
          -0.0044132293511229825,
          0.015613981168180024,
          -0.0017956374147231058,
          0.07246536867691722,
          0.030597396390556697,
          0.035708120341228056,
          0.047885245550320366,
          0.01678422466393492,
          -0.04699476097233035,
          0.03607529847260482,
          -0.03330664895730595,
          0.06477292156969483,
          0.027327489658881765,
          -0.06737236421463011,
          0.05454419801110566,
          0.06918188900418354,
          0.03246803683659982,
          -0.08798270502043504,
          0.033266620880691766,
          0.057732572967670426,
          0.05023972747876515,
          0.003037961846334758,
          0.054690407027540355,
          0.0655140368395678,
          -0.0018098327399682645,
          0.05108994610938555,
          -0.01649158309987553,
          0.0783504500058716,
          -0.01396449889738105,
          0.024281915117204567,
          0.042748252954492694,
          -0.03546376159958087,
          0.008004293352304015,
          -0.003637474969632404,
          0.0880934799548958,
          0.064220103034907,
          -0.01312945355468087,
          0.0331246485537634,
          -0.055831561091509,
          0.025947195723198813,
          -0.011509367269549098,
          -0.0013577609820945025,
          -0.0011481933225808705,
          0.04575009557459686,
          -0.05326186303903413,
          0.01583170234873421,
          0.040572498967132664,
          -0.020025576561787717,
          0.037284215308899804,
          0.03596670644435951,
          0.08693682400765312,
          -0.025997855530043856,
          -0.0010725665118673788,
          0.05434841976929794,
          -0.005998974146732783,
          0.02173588124085246,
          -0.0227431479696516,
          -0.04983919750392318,
          0.05502635594691907,
          -0.03838804857402622,
          0.026662072800731185,
          0.03319443687006751,
          0.0030795983333820054,
          0.05820653131744602,
          -0.009562615296211607,
          -0.007409309981482037,
          -0.062196765833283596,
          -0.03462775656149075,
          -0.01500049161917505,
          -0.04935316466640616,
          0.03467103992248388,
          0.06762909353575297,
          -0.010750934949198432,
          -0.013352127943790704,
          -0.0047559676143180685,
          0.02107033843294781,
          0.02209692379632744,
          -0.0013404347812556727,
          -0.0365286648573504,
          -0.02442136160365227,
          0.00915748365852731,
          0.04559360947924784,
          0.0332796309181006,
          0.021736250728657702,
          -0.013227892208773961,
          -0.011574393788384651,
          0.03853550047387033,
          0.0802723236024574,
          0.08861499000311879,
          0.01202790578834223,
          -0.045924967255025484,
          0.0051180048895272945,
          -0.018882439984896027,
          -0.04781802671567337,
          0.01664582530306702,
          0.05311254819762301,
          0.04644276345813936,
          0.0005682710039135452,
          0.03184317830985883,
          -0.028812335556266833,
          0.054573535060730594,
          0.010612003018208416,
          -0.06009624358180232,
          -0.025486175286489,
          -0.05671338109103008,
          0.0031690690548575873,
          -0.1394800888291673,
          0.05590201670338435,
          -0.005977211092453638,
          0.0029920489515644633,
          -0.058140977136476035,
          -0.11226560139495323,
          0.07479341274422246,
          -0.12552965083986922,
          -0.07451039750092947,
          -0.013188956529412432,
          0.01730190969407286,
          0.04272140643172451,
          -0.07413605836255022,
          0.033448252149059,
          0.047440197139318796,
          -0.07670065630064316,
          -0.014044443059290868,
          -0.06650669243657603,
          0.017753067354217777,
          -0.019380559322390356,
          0.03220229872016067,
          0.011997494639943485,
          0.03533048487561441,
          -0.008132558764425868,
          0.009649687323945222,
          -0.003142229949530617,
          -0.1035737796983427,
          -0.10282757835457446,
          0.04915096970237409,
          0.052838398668194286,
          -0.03127274731403029,
          0.03934828818967451,
          -0.07460968349539787,
          -0.0738300834304978,
          -0.054974022245136034,
          -0.0020835520998150336,
          -0.03326886317571609,
          -0.010309510331353855,
          0.005492636764305114,
          -0.08426309833686552,
          -0.03252860430815607,
          0.020979718618452714,
          0.02348969802090517,
          0.044216242662968086,
          0.044386289211524654,
          0.017397291652812785,
          -0.031748773539627684,
          0.0637335946664851,
          0.026407041021622724,
          -0.05330165639590623,
          0.004476052624369342,
          0.018204200382608615,
          -0.04784112596269807,
          -0.06499380153003509,
          0.07742248952275033,
          -0.11850099491778798,
          0.07434118974002757,
          -0.01452660039686493,
          0.0029120873592379803,
          -0.06562627674427712,
          0.02992985202144971,
          -0.07095422593309497,
          0.031118289098266083,
          -0.05323796029819028,
          0.02916246589265692,
          0.03803890573077018,
          0.029367882869612005,
          0.048012312690599246,
          0.03074922362205712,
          -0.07258553636651244,
          -0.10803086110518056,
          0.0670236133848805,
          -0.07423483978591905,
          0.025004146324485554,
          -0.03957939598720295,
          0.06006548307476456,
          0.058328708162012854,
          -0.00524974760075092,
          0.02619766858827588,
          0.07820553055700652,
          0.030883749340994915,
          0.022292137969231685,
          0.07102233720822282
         ],
         "yaxis": "y"
        }
       ],
       "layout": {
        "legend": {
         "tracegroupgap": 0
        },
        "margin": {
         "t": 60
        },
        "template": {
         "data": {
          "bar": [
           {
            "error_x": {
             "color": "#2a3f5f"
            },
            "error_y": {
             "color": "#2a3f5f"
            },
            "marker": {
             "line": {
              "color": "#E5ECF6",
              "width": 0.5
             }
            },
            "type": "bar"
           }
          ],
          "barpolar": [
           {
            "marker": {
             "line": {
              "color": "#E5ECF6",
              "width": 0.5
             }
            },
            "type": "barpolar"
           }
          ],
          "carpet": [
           {
            "aaxis": {
             "endlinecolor": "#2a3f5f",
             "gridcolor": "white",
             "linecolor": "white",
             "minorgridcolor": "white",
             "startlinecolor": "#2a3f5f"
            },
            "baxis": {
             "endlinecolor": "#2a3f5f",
             "gridcolor": "white",
             "linecolor": "white",
             "minorgridcolor": "white",
             "startlinecolor": "#2a3f5f"
            },
            "type": "carpet"
           }
          ],
          "choropleth": [
           {
            "colorbar": {
             "outlinewidth": 0,
             "ticks": ""
            },
            "type": "choropleth"
           }
          ],
          "contour": [
           {
            "colorbar": {
             "outlinewidth": 0,
             "ticks": ""
            },
            "colorscale": [
             [
              0,
              "#0d0887"
             ],
             [
              0.1111111111111111,
              "#46039f"
             ],
             [
              0.2222222222222222,
              "#7201a8"
             ],
             [
              0.3333333333333333,
              "#9c179e"
             ],
             [
              0.4444444444444444,
              "#bd3786"
             ],
             [
              0.5555555555555556,
              "#d8576b"
             ],
             [
              0.6666666666666666,
              "#ed7953"
             ],
             [
              0.7777777777777778,
              "#fb9f3a"
             ],
             [
              0.8888888888888888,
              "#fdca26"
             ],
             [
              1,
              "#f0f921"
             ]
            ],
            "type": "contour"
           }
          ],
          "contourcarpet": [
           {
            "colorbar": {
             "outlinewidth": 0,
             "ticks": ""
            },
            "type": "contourcarpet"
           }
          ],
          "heatmap": [
           {
            "colorbar": {
             "outlinewidth": 0,
             "ticks": ""
            },
            "colorscale": [
             [
              0,
              "#0d0887"
             ],
             [
              0.1111111111111111,
              "#46039f"
             ],
             [
              0.2222222222222222,
              "#7201a8"
             ],
             [
              0.3333333333333333,
              "#9c179e"
             ],
             [
              0.4444444444444444,
              "#bd3786"
             ],
             [
              0.5555555555555556,
              "#d8576b"
             ],
             [
              0.6666666666666666,
              "#ed7953"
             ],
             [
              0.7777777777777778,
              "#fb9f3a"
             ],
             [
              0.8888888888888888,
              "#fdca26"
             ],
             [
              1,
              "#f0f921"
             ]
            ],
            "type": "heatmap"
           }
          ],
          "heatmapgl": [
           {
            "colorbar": {
             "outlinewidth": 0,
             "ticks": ""
            },
            "colorscale": [
             [
              0,
              "#0d0887"
             ],
             [
              0.1111111111111111,
              "#46039f"
             ],
             [
              0.2222222222222222,
              "#7201a8"
             ],
             [
              0.3333333333333333,
              "#9c179e"
             ],
             [
              0.4444444444444444,
              "#bd3786"
             ],
             [
              0.5555555555555556,
              "#d8576b"
             ],
             [
              0.6666666666666666,
              "#ed7953"
             ],
             [
              0.7777777777777778,
              "#fb9f3a"
             ],
             [
              0.8888888888888888,
              "#fdca26"
             ],
             [
              1,
              "#f0f921"
             ]
            ],
            "type": "heatmapgl"
           }
          ],
          "histogram": [
           {
            "marker": {
             "colorbar": {
              "outlinewidth": 0,
              "ticks": ""
             }
            },
            "type": "histogram"
           }
          ],
          "histogram2d": [
           {
            "colorbar": {
             "outlinewidth": 0,
             "ticks": ""
            },
            "colorscale": [
             [
              0,
              "#0d0887"
             ],
             [
              0.1111111111111111,
              "#46039f"
             ],
             [
              0.2222222222222222,
              "#7201a8"
             ],
             [
              0.3333333333333333,
              "#9c179e"
             ],
             [
              0.4444444444444444,
              "#bd3786"
             ],
             [
              0.5555555555555556,
              "#d8576b"
             ],
             [
              0.6666666666666666,
              "#ed7953"
             ],
             [
              0.7777777777777778,
              "#fb9f3a"
             ],
             [
              0.8888888888888888,
              "#fdca26"
             ],
             [
              1,
              "#f0f921"
             ]
            ],
            "type": "histogram2d"
           }
          ],
          "histogram2dcontour": [
           {
            "colorbar": {
             "outlinewidth": 0,
             "ticks": ""
            },
            "colorscale": [
             [
              0,
              "#0d0887"
             ],
             [
              0.1111111111111111,
              "#46039f"
             ],
             [
              0.2222222222222222,
              "#7201a8"
             ],
             [
              0.3333333333333333,
              "#9c179e"
             ],
             [
              0.4444444444444444,
              "#bd3786"
             ],
             [
              0.5555555555555556,
              "#d8576b"
             ],
             [
              0.6666666666666666,
              "#ed7953"
             ],
             [
              0.7777777777777778,
              "#fb9f3a"
             ],
             [
              0.8888888888888888,
              "#fdca26"
             ],
             [
              1,
              "#f0f921"
             ]
            ],
            "type": "histogram2dcontour"
           }
          ],
          "mesh3d": [
           {
            "colorbar": {
             "outlinewidth": 0,
             "ticks": ""
            },
            "type": "mesh3d"
           }
          ],
          "parcoords": [
           {
            "line": {
             "colorbar": {
              "outlinewidth": 0,
              "ticks": ""
             }
            },
            "type": "parcoords"
           }
          ],
          "pie": [
           {
            "automargin": true,
            "type": "pie"
           }
          ],
          "scatter": [
           {
            "marker": {
             "colorbar": {
              "outlinewidth": 0,
              "ticks": ""
             }
            },
            "type": "scatter"
           }
          ],
          "scatter3d": [
           {
            "line": {
             "colorbar": {
              "outlinewidth": 0,
              "ticks": ""
             }
            },
            "marker": {
             "colorbar": {
              "outlinewidth": 0,
              "ticks": ""
             }
            },
            "type": "scatter3d"
           }
          ],
          "scattercarpet": [
           {
            "marker": {
             "colorbar": {
              "outlinewidth": 0,
              "ticks": ""
             }
            },
            "type": "scattercarpet"
           }
          ],
          "scattergeo": [
           {
            "marker": {
             "colorbar": {
              "outlinewidth": 0,
              "ticks": ""
             }
            },
            "type": "scattergeo"
           }
          ],
          "scattergl": [
           {
            "marker": {
             "colorbar": {
              "outlinewidth": 0,
              "ticks": ""
             }
            },
            "type": "scattergl"
           }
          ],
          "scattermapbox": [
           {
            "marker": {
             "colorbar": {
              "outlinewidth": 0,
              "ticks": ""
             }
            },
            "type": "scattermapbox"
           }
          ],
          "scatterpolar": [
           {
            "marker": {
             "colorbar": {
              "outlinewidth": 0,
              "ticks": ""
             }
            },
            "type": "scatterpolar"
           }
          ],
          "scatterpolargl": [
           {
            "marker": {
             "colorbar": {
              "outlinewidth": 0,
              "ticks": ""
             }
            },
            "type": "scatterpolargl"
           }
          ],
          "scatterternary": [
           {
            "marker": {
             "colorbar": {
              "outlinewidth": 0,
              "ticks": ""
             }
            },
            "type": "scatterternary"
           }
          ],
          "surface": [
           {
            "colorbar": {
             "outlinewidth": 0,
             "ticks": ""
            },
            "colorscale": [
             [
              0,
              "#0d0887"
             ],
             [
              0.1111111111111111,
              "#46039f"
             ],
             [
              0.2222222222222222,
              "#7201a8"
             ],
             [
              0.3333333333333333,
              "#9c179e"
             ],
             [
              0.4444444444444444,
              "#bd3786"
             ],
             [
              0.5555555555555556,
              "#d8576b"
             ],
             [
              0.6666666666666666,
              "#ed7953"
             ],
             [
              0.7777777777777778,
              "#fb9f3a"
             ],
             [
              0.8888888888888888,
              "#fdca26"
             ],
             [
              1,
              "#f0f921"
             ]
            ],
            "type": "surface"
           }
          ],
          "table": [
           {
            "cells": {
             "fill": {
              "color": "#EBF0F8"
             },
             "line": {
              "color": "white"
             }
            },
            "header": {
             "fill": {
              "color": "#C8D4E3"
             },
             "line": {
              "color": "white"
             }
            },
            "type": "table"
           }
          ]
         },
         "layout": {
          "annotationdefaults": {
           "arrowcolor": "#2a3f5f",
           "arrowhead": 0,
           "arrowwidth": 1
          },
          "autotypenumbers": "strict",
          "coloraxis": {
           "colorbar": {
            "outlinewidth": 0,
            "ticks": ""
           }
          },
          "colorscale": {
           "diverging": [
            [
             0,
             "#8e0152"
            ],
            [
             0.1,
             "#c51b7d"
            ],
            [
             0.2,
             "#de77ae"
            ],
            [
             0.3,
             "#f1b6da"
            ],
            [
             0.4,
             "#fde0ef"
            ],
            [
             0.5,
             "#f7f7f7"
            ],
            [
             0.6,
             "#e6f5d0"
            ],
            [
             0.7,
             "#b8e186"
            ],
            [
             0.8,
             "#7fbc41"
            ],
            [
             0.9,
             "#4d9221"
            ],
            [
             1,
             "#276419"
            ]
           ],
           "sequential": [
            [
             0,
             "#0d0887"
            ],
            [
             0.1111111111111111,
             "#46039f"
            ],
            [
             0.2222222222222222,
             "#7201a8"
            ],
            [
             0.3333333333333333,
             "#9c179e"
            ],
            [
             0.4444444444444444,
             "#bd3786"
            ],
            [
             0.5555555555555556,
             "#d8576b"
            ],
            [
             0.6666666666666666,
             "#ed7953"
            ],
            [
             0.7777777777777778,
             "#fb9f3a"
            ],
            [
             0.8888888888888888,
             "#fdca26"
            ],
            [
             1,
             "#f0f921"
            ]
           ],
           "sequentialminus": [
            [
             0,
             "#0d0887"
            ],
            [
             0.1111111111111111,
             "#46039f"
            ],
            [
             0.2222222222222222,
             "#7201a8"
            ],
            [
             0.3333333333333333,
             "#9c179e"
            ],
            [
             0.4444444444444444,
             "#bd3786"
            ],
            [
             0.5555555555555556,
             "#d8576b"
            ],
            [
             0.6666666666666666,
             "#ed7953"
            ],
            [
             0.7777777777777778,
             "#fb9f3a"
            ],
            [
             0.8888888888888888,
             "#fdca26"
            ],
            [
             1,
             "#f0f921"
            ]
           ]
          },
          "colorway": [
           "#636efa",
           "#EF553B",
           "#00cc96",
           "#ab63fa",
           "#FFA15A",
           "#19d3f3",
           "#FF6692",
           "#B6E880",
           "#FF97FF",
           "#FECB52"
          ],
          "font": {
           "color": "#2a3f5f"
          },
          "geo": {
           "bgcolor": "white",
           "lakecolor": "white",
           "landcolor": "#E5ECF6",
           "showlakes": true,
           "showland": true,
           "subunitcolor": "white"
          },
          "hoverlabel": {
           "align": "left"
          },
          "hovermode": "closest",
          "mapbox": {
           "style": "light"
          },
          "paper_bgcolor": "white",
          "plot_bgcolor": "#E5ECF6",
          "polar": {
           "angularaxis": {
            "gridcolor": "white",
            "linecolor": "white",
            "ticks": ""
           },
           "bgcolor": "#E5ECF6",
           "radialaxis": {
            "gridcolor": "white",
            "linecolor": "white",
            "ticks": ""
           }
          },
          "scene": {
           "xaxis": {
            "backgroundcolor": "#E5ECF6",
            "gridcolor": "white",
            "gridwidth": 2,
            "linecolor": "white",
            "showbackground": true,
            "ticks": "",
            "zerolinecolor": "white"
           },
           "yaxis": {
            "backgroundcolor": "#E5ECF6",
            "gridcolor": "white",
            "gridwidth": 2,
            "linecolor": "white",
            "showbackground": true,
            "ticks": "",
            "zerolinecolor": "white"
           },
           "zaxis": {
            "backgroundcolor": "#E5ECF6",
            "gridcolor": "white",
            "gridwidth": 2,
            "linecolor": "white",
            "showbackground": true,
            "ticks": "",
            "zerolinecolor": "white"
           }
          },
          "shapedefaults": {
           "line": {
            "color": "#2a3f5f"
           }
          },
          "ternary": {
           "aaxis": {
            "gridcolor": "white",
            "linecolor": "white",
            "ticks": ""
           },
           "baxis": {
            "gridcolor": "white",
            "linecolor": "white",
            "ticks": ""
           },
           "bgcolor": "#E5ECF6",
           "caxis": {
            "gridcolor": "white",
            "linecolor": "white",
            "ticks": ""
           }
          },
          "title": {
           "x": 0.05
          },
          "xaxis": {
           "automargin": true,
           "gridcolor": "white",
           "linecolor": "white",
           "ticks": "",
           "title": {
            "standoff": 15
           },
           "zerolinecolor": "white",
           "zerolinewidth": 2
          },
          "yaxis": {
           "automargin": true,
           "gridcolor": "white",
           "linecolor": "white",
           "ticks": "",
           "title": {
            "standoff": 15
           },
           "zerolinecolor": "white",
           "zerolinewidth": 2
          }
         }
        },
        "xaxis": {
         "anchor": "y",
         "domain": [
          0,
          1
         ],
         "title": {
          "text": "x"
         }
        },
        "yaxis": {
         "anchor": "x",
         "domain": [
          0,
          1
         ],
         "title": {
          "text": "y"
         }
        }
       }
      },
      "text/html": "<div>                            <div id=\"74be6fff-1223-4af8-a507-49c7751d2d7c\" class=\"plotly-graph-div\" style=\"height:525px; width:100%;\"></div>            <script type=\"text/javascript\">                require([\"plotly\"], function(Plotly) {                    window.PLOTLYENV=window.PLOTLYENV || {};                                    if (document.getElementById(\"74be6fff-1223-4af8-a507-49c7751d2d7c\")) {                    Plotly.newPlot(                        \"74be6fff-1223-4af8-a507-49c7751d2d7c\",                        [{\"hovertemplate\": \"x=%{x}<br>y=%{y}<extra></extra>\", \"legendgroup\": \"\", \"marker\": {\"color\": \"#636efa\", \"symbol\": \"circle\"}, \"mode\": \"markers\", \"name\": \"\", \"orientation\": \"v\", \"showlegend\": false, \"type\": \"scatter\", \"x\": [0, 1, 2, 3, 4, 5, 6, 7, 8, 9, 10, 11, 12, 13, 14, 15, 16, 17, 18, 19, 20, 21, 22, 23, 24, 25, 26, 27, 28, 29, 30, 31, 32, 33, 34, 35, 36, 37, 38, 39, 40, 41, 42, 43, 44, 45, 46, 47, 48, 49, 50, 51, 52, 53, 54, 55, 56, 57, 58, 59, 60, 61, 62, 63, 64, 65, 66, 67, 68, 69, 70, 71, 72, 73, 74, 75, 76, 77, 78, 79, 80, 81, 82, 83, 84, 85, 86, 87, 88, 89, 90, 91, 92, 93, 94, 95, 96, 97, 98, 99, 100, 101, 102, 103, 104, 105, 106, 107, 108, 109, 110, 111, 112, 113, 114, 115, 116, 117, 118, 119, 120, 121, 122, 123, 124, 125, 126, 127, 128, 129, 130, 131, 132, 133, 134, 135, 136, 137, 138, 139, 140, 141, 142, 143, 144, 145, 146, 147, 148, 149, 150, 151, 152, 153, 154, 155, 156, 157, 158, 159, 160, 161, 162, 163, 164, 165, 166, 167, 168, 169, 170, 171, 172, 173, 174, 175, 176, 177, 178, 179, 180, 181, 182, 183, 184, 185, 186, 187, 188, 189, 190, 191, 192, 193, 194, 195, 196, 197, 198, 199, 200, 201, 202, 203, 204, 205, 206, 207, 208, 209, 210, 211, 212, 213, 214, 215, 216, 217, 218, 219, 220, 221, 222, 223, 224, 225, 226, 227, 228, 229, 230, 231, 232, 233, 234, 235, 236, 237, 238, 239, 240, 241, 242, 243, 244, 245, 246, 247, 248, 249, 250, 251, 252, 253, 254, 255, 256, 257, 258, 259, 260, 261, 262, 263, 264, 265, 266, 267, 268, 269, 270, 271, 272, 273, 274, 275, 276, 277, 278, 279, 280, 281, 282, 283, 284, 285, 286, 287, 288, 289, 290, 291, 292, 293, 294, 295, 296, 297, 298, 299, 300, 301, 302, 303, 304, 305, 306, 307, 308, 309, 310, 311, 312, 313, 314, 315, 316, 317, 318, 319, 320, 321, 322, 323, 324, 325, 326, 327, 328, 329, 330, 331, 332, 333, 334, 335, 336, 337, 338, 339, 340, 341, 342, 343, 344, 345, 346, 347, 348, 349, 350, 351, 352, 353, 354, 355, 356, 357, 358, 359, 360, 361, 362, 363, 364, 365, 366, 367, 368, 369, 370, 371, 372, 373, 374, 375, 376, 377, 378, 379, 380], \"xaxis\": \"x\", \"y\": [-0.04969724512504037, 0.08781946177067279, 0.013340795075842404, -0.07676125965252023, 0.011836270717331954, 0.002211916509347267, 0.09612562723785267, -0.10289248410500174, -0.006434933682981314, -0.06533237438725525, 0.0595333592907743, -0.03080857716727492, 0.011555826787181145, 0.01080282574621394, 0.048155345547534645, 0.03491240582808863, 0.053218300374436756, -0.10944603822929211, -0.014349678271691868, -0.02206765224053997, -0.00777890769712275, 0.04223165774401294, 0.015547707656094034, 0.0693963245948146, 0.01829214406618207, -0.005201334494170373, -0.0019575699872580454, -0.009913515170759002, 0.026403739489115785, 0.05641522754718242, 0.012130765501958574, -0.05854553520897021, -0.04582878045854344, 0.06882004933796826, -0.047125510431308304, -0.012790345892436661, -0.019549404223207167, 0.014573175051560971, -0.04071961535338997, -0.0026384791705046373, -0.0010241906430407122, -0.0022069346786722788, -0.06386680591166305, -0.04006539468421222, -0.049218342085249445, -0.012993754230554044, -0.04424928314740795, 0.05648586329312677, 0.04343486609851843, -0.0024671441038175423, 0.006422225755747135, 0.0304686209170556, -0.09513024281901061, -0.10805854041350027, 0.08031086759542405, -0.0625888263927945, -0.005384431520993882, -0.0844238949104602, 0.0581630190178557, 0.00687574692706483, 0.0019932788373586696, 0.032484705743961784, -0.02824169486827166, 0.012189943950119964, 0.03351088619922449, -0.06782640855871924, -0.065745472583701, 0.0394981951261687, 0.038902658914272914, -0.09806051199452648, -0.08612017858418963, 0.005448588284887146, -0.09360922774218028, 0.045791841676720346, 0.07927395245598468, 0.05752965688902367, 0.06765479353972015, -0.03564234885241424, -0.0550411611431314, -0.055176814101348004, 0.023964326398262514, -0.10165904788697033, 0.09196130531505575, -0.014266583826480828, -0.0789121933286564, -0.01325668920820644, 0.06939450108443124, -0.024169816774374908, -0.09834601957895472, -0.004107578233937259, 0.06072026916064999, 0.04794455268286946, 0.04293906927725977, -0.09058527347468315, -0.07591726578834401, 0.10610096704939065, -0.01089934190113262, -0.1272281067467771, -0.04752303286980786, -0.015075555803004903, 0.04852750505453707, 0.020662668384587413, 0.025682759715449643, 0.004914404180141552, 0.055113663928338164, 0.04574833414166424, -0.015859585645918384, -0.03277496241890365, -0.024737975072502083, 0.0856304181523202, 0.008203082015685537, 0.07814713038583565, -0.013425289937084361, 0.055637509454255274, -0.018406976512639006, -0.041953024602573774, -0.011450103574220383, -0.11119804858191096, -0.05142627457098792, 0.0406081597520892, 0.06224382874701129, -0.12426886099416545, 0.05539716568439923, 0.001657256096928461, 0.014505398508791512, -0.016183477419927428, -0.09274113791888972, 0.11232888500277949, 0.05691398485494292, -0.07310560255330467, 0.002484483797728698, 8.025078780449224e-05, 0.0085185296142265, 0.04541088475378319, -0.052571154042374335, 0.01477985508458346, 0.04925025974843611, 0.014652404895051374, 0.03443776214477756, -0.04985181262335969, 0.0007189270181164886, -0.047003310261320985, -0.015824460172092714, -0.006099798886875618, 0.005834871826562393, 0.006683511707421652, -0.02886283415274815, -0.008256203057799949, 0.04351941733692, 0.04075657379775588, -0.07912016719048953, 0.08253097459010694, 0.08113552514734335, 0.07923020423961802, 0.05779377753775772, 0.04239530974519412, -0.023509208613227583, -0.10191765347461534, 0.03673211824129996, -0.04347757005420039, -0.027550760399512098, 0.02195646493373793, -0.0613335455580879, 0.06565048133048945, -0.04753412494547382, -0.09947643473420031, 0.06605739016835976, -0.14390134466212812, -0.03128184202913198, -0.18032994810704905, -0.044810071066518464, 0.041499006061501476, -0.004128582595743557, -0.09003294114163607, 0.025641305267429026, -0.013757314567033552, 0.005436148911589611, 0.023818470822212334, -0.02787233164940406, 0.09400457877137847, 0.0034098083509318533, -0.016515705839464823, 0.005615772929317808, 0.037702866861660245, 0.020169992202977993, 0.05140022766386987, -0.0050777319196868564, -0.02408006876145352, 0.001675512338507712, 0.01167139954891927, 0.033303176888689556, 0.059566296961938936, -0.0044132293511229825, 0.015613981168180024, -0.0017956374147231058, 0.07246536867691722, 0.030597396390556697, 0.035708120341228056, 0.047885245550320366, 0.01678422466393492, -0.04699476097233035, 0.03607529847260482, -0.03330664895730595, 0.06477292156969483, 0.027327489658881765, -0.06737236421463011, 0.05454419801110566, 0.06918188900418354, 0.03246803683659982, -0.08798270502043504, 0.033266620880691766, 0.057732572967670426, 0.05023972747876515, 0.003037961846334758, 0.054690407027540355, 0.0655140368395678, -0.0018098327399682645, 0.05108994610938555, -0.01649158309987553, 0.0783504500058716, -0.01396449889738105, 0.024281915117204567, 0.042748252954492694, -0.03546376159958087, 0.008004293352304015, -0.003637474969632404, 0.0880934799548958, 0.064220103034907, -0.01312945355468087, 0.0331246485537634, -0.055831561091509, 0.025947195723198813, -0.011509367269549098, -0.0013577609820945025, -0.0011481933225808705, 0.04575009557459686, -0.05326186303903413, 0.01583170234873421, 0.040572498967132664, -0.020025576561787717, 0.037284215308899804, 0.03596670644435951, 0.08693682400765312, -0.025997855530043856, -0.0010725665118673788, 0.05434841976929794, -0.005998974146732783, 0.02173588124085246, -0.0227431479696516, -0.04983919750392318, 0.05502635594691907, -0.03838804857402622, 0.026662072800731185, 0.03319443687006751, 0.0030795983333820054, 0.05820653131744602, -0.009562615296211607, -0.007409309981482037, -0.062196765833283596, -0.03462775656149075, -0.01500049161917505, -0.04935316466640616, 0.03467103992248388, 0.06762909353575297, -0.010750934949198432, -0.013352127943790704, -0.0047559676143180685, 0.02107033843294781, 0.02209692379632744, -0.0013404347812556727, -0.0365286648573504, -0.02442136160365227, 0.00915748365852731, 0.04559360947924784, 0.0332796309181006, 0.021736250728657702, -0.013227892208773961, -0.011574393788384651, 0.03853550047387033, 0.0802723236024574, 0.08861499000311879, 0.01202790578834223, -0.045924967255025484, 0.0051180048895272945, -0.018882439984896027, -0.04781802671567337, 0.01664582530306702, 0.05311254819762301, 0.04644276345813936, 0.0005682710039135452, 0.03184317830985883, -0.028812335556266833, 0.054573535060730594, 0.010612003018208416, -0.06009624358180232, -0.025486175286489, -0.05671338109103008, 0.0031690690548575873, -0.1394800888291673, 0.05590201670338435, -0.005977211092453638, 0.0029920489515644633, -0.058140977136476035, -0.11226560139495323, 0.07479341274422246, -0.12552965083986922, -0.07451039750092947, -0.013188956529412432, 0.01730190969407286, 0.04272140643172451, -0.07413605836255022, 0.033448252149059, 0.047440197139318796, -0.07670065630064316, -0.014044443059290868, -0.06650669243657603, 0.017753067354217777, -0.019380559322390356, 0.03220229872016067, 0.011997494639943485, 0.03533048487561441, -0.008132558764425868, 0.009649687323945222, -0.003142229949530617, -0.1035737796983427, -0.10282757835457446, 0.04915096970237409, 0.052838398668194286, -0.03127274731403029, 0.03934828818967451, -0.07460968349539787, -0.0738300834304978, -0.054974022245136034, -0.0020835520998150336, -0.03326886317571609, -0.010309510331353855, 0.005492636764305114, -0.08426309833686552, -0.03252860430815607, 0.020979718618452714, 0.02348969802090517, 0.044216242662968086, 0.044386289211524654, 0.017397291652812785, -0.031748773539627684, 0.0637335946664851, 0.026407041021622724, -0.05330165639590623, 0.004476052624369342, 0.018204200382608615, -0.04784112596269807, -0.06499380153003509, 0.07742248952275033, -0.11850099491778798, 0.07434118974002757, -0.01452660039686493, 0.0029120873592379803, -0.06562627674427712, 0.02992985202144971, -0.07095422593309497, 0.031118289098266083, -0.05323796029819028, 0.02916246589265692, 0.03803890573077018, 0.029367882869612005, 0.048012312690599246, 0.03074922362205712, -0.07258553636651244, -0.10803086110518056, 0.0670236133848805, -0.07423483978591905, 0.025004146324485554, -0.03957939598720295, 0.06006548307476456, 0.058328708162012854, -0.00524974760075092, 0.02619766858827588, 0.07820553055700652, 0.030883749340994915, 0.022292137969231685, 0.07102233720822282], \"yaxis\": \"y\"}],                        {\"legend\": {\"tracegroupgap\": 0}, \"margin\": {\"t\": 60}, \"template\": {\"data\": {\"bar\": [{\"error_x\": {\"color\": \"#2a3f5f\"}, \"error_y\": {\"color\": \"#2a3f5f\"}, \"marker\": {\"line\": {\"color\": \"#E5ECF6\", \"width\": 0.5}}, \"type\": \"bar\"}], \"barpolar\": [{\"marker\": {\"line\": {\"color\": \"#E5ECF6\", \"width\": 0.5}}, \"type\": \"barpolar\"}], \"carpet\": [{\"aaxis\": {\"endlinecolor\": \"#2a3f5f\", \"gridcolor\": \"white\", \"linecolor\": \"white\", \"minorgridcolor\": \"white\", \"startlinecolor\": \"#2a3f5f\"}, \"baxis\": {\"endlinecolor\": \"#2a3f5f\", \"gridcolor\": \"white\", \"linecolor\": \"white\", \"minorgridcolor\": \"white\", \"startlinecolor\": \"#2a3f5f\"}, \"type\": \"carpet\"}], \"choropleth\": [{\"colorbar\": {\"outlinewidth\": 0, \"ticks\": \"\"}, \"type\": \"choropleth\"}], \"contour\": [{\"colorbar\": {\"outlinewidth\": 0, \"ticks\": \"\"}, \"colorscale\": [[0.0, \"#0d0887\"], [0.1111111111111111, \"#46039f\"], [0.2222222222222222, \"#7201a8\"], [0.3333333333333333, \"#9c179e\"], [0.4444444444444444, \"#bd3786\"], [0.5555555555555556, \"#d8576b\"], [0.6666666666666666, \"#ed7953\"], [0.7777777777777778, \"#fb9f3a\"], [0.8888888888888888, \"#fdca26\"], [1.0, \"#f0f921\"]], \"type\": \"contour\"}], \"contourcarpet\": [{\"colorbar\": {\"outlinewidth\": 0, \"ticks\": \"\"}, \"type\": \"contourcarpet\"}], \"heatmap\": [{\"colorbar\": {\"outlinewidth\": 0, \"ticks\": \"\"}, \"colorscale\": [[0.0, \"#0d0887\"], [0.1111111111111111, \"#46039f\"], [0.2222222222222222, \"#7201a8\"], [0.3333333333333333, \"#9c179e\"], [0.4444444444444444, \"#bd3786\"], [0.5555555555555556, \"#d8576b\"], [0.6666666666666666, \"#ed7953\"], [0.7777777777777778, \"#fb9f3a\"], [0.8888888888888888, \"#fdca26\"], [1.0, \"#f0f921\"]], \"type\": \"heatmap\"}], \"heatmapgl\": [{\"colorbar\": {\"outlinewidth\": 0, \"ticks\": \"\"}, \"colorscale\": [[0.0, \"#0d0887\"], [0.1111111111111111, \"#46039f\"], [0.2222222222222222, \"#7201a8\"], [0.3333333333333333, \"#9c179e\"], [0.4444444444444444, \"#bd3786\"], [0.5555555555555556, \"#d8576b\"], [0.6666666666666666, \"#ed7953\"], [0.7777777777777778, \"#fb9f3a\"], [0.8888888888888888, \"#fdca26\"], [1.0, \"#f0f921\"]], \"type\": \"heatmapgl\"}], \"histogram\": [{\"marker\": {\"colorbar\": {\"outlinewidth\": 0, \"ticks\": \"\"}}, \"type\": \"histogram\"}], \"histogram2d\": [{\"colorbar\": {\"outlinewidth\": 0, \"ticks\": \"\"}, \"colorscale\": [[0.0, \"#0d0887\"], [0.1111111111111111, \"#46039f\"], [0.2222222222222222, \"#7201a8\"], [0.3333333333333333, \"#9c179e\"], [0.4444444444444444, \"#bd3786\"], [0.5555555555555556, \"#d8576b\"], [0.6666666666666666, \"#ed7953\"], [0.7777777777777778, \"#fb9f3a\"], [0.8888888888888888, \"#fdca26\"], [1.0, \"#f0f921\"]], \"type\": \"histogram2d\"}], \"histogram2dcontour\": [{\"colorbar\": {\"outlinewidth\": 0, \"ticks\": \"\"}, \"colorscale\": [[0.0, \"#0d0887\"], [0.1111111111111111, \"#46039f\"], [0.2222222222222222, \"#7201a8\"], [0.3333333333333333, \"#9c179e\"], [0.4444444444444444, \"#bd3786\"], [0.5555555555555556, \"#d8576b\"], [0.6666666666666666, \"#ed7953\"], [0.7777777777777778, \"#fb9f3a\"], [0.8888888888888888, \"#fdca26\"], [1.0, \"#f0f921\"]], \"type\": \"histogram2dcontour\"}], \"mesh3d\": [{\"colorbar\": {\"outlinewidth\": 0, \"ticks\": \"\"}, \"type\": \"mesh3d\"}], \"parcoords\": [{\"line\": {\"colorbar\": {\"outlinewidth\": 0, \"ticks\": \"\"}}, \"type\": \"parcoords\"}], \"pie\": [{\"automargin\": true, \"type\": \"pie\"}], \"scatter\": [{\"marker\": {\"colorbar\": {\"outlinewidth\": 0, \"ticks\": \"\"}}, \"type\": \"scatter\"}], \"scatter3d\": [{\"line\": {\"colorbar\": {\"outlinewidth\": 0, \"ticks\": \"\"}}, \"marker\": {\"colorbar\": {\"outlinewidth\": 0, \"ticks\": \"\"}}, \"type\": \"scatter3d\"}], \"scattercarpet\": [{\"marker\": {\"colorbar\": {\"outlinewidth\": 0, \"ticks\": \"\"}}, \"type\": \"scattercarpet\"}], \"scattergeo\": [{\"marker\": {\"colorbar\": {\"outlinewidth\": 0, \"ticks\": \"\"}}, \"type\": \"scattergeo\"}], \"scattergl\": [{\"marker\": {\"colorbar\": {\"outlinewidth\": 0, \"ticks\": \"\"}}, \"type\": \"scattergl\"}], \"scattermapbox\": [{\"marker\": {\"colorbar\": {\"outlinewidth\": 0, \"ticks\": \"\"}}, \"type\": \"scattermapbox\"}], \"scatterpolar\": [{\"marker\": {\"colorbar\": {\"outlinewidth\": 0, \"ticks\": \"\"}}, \"type\": \"scatterpolar\"}], \"scatterpolargl\": [{\"marker\": {\"colorbar\": {\"outlinewidth\": 0, \"ticks\": \"\"}}, \"type\": \"scatterpolargl\"}], \"scatterternary\": [{\"marker\": {\"colorbar\": {\"outlinewidth\": 0, \"ticks\": \"\"}}, \"type\": \"scatterternary\"}], \"surface\": [{\"colorbar\": {\"outlinewidth\": 0, \"ticks\": \"\"}, \"colorscale\": [[0.0, \"#0d0887\"], [0.1111111111111111, \"#46039f\"], [0.2222222222222222, \"#7201a8\"], [0.3333333333333333, \"#9c179e\"], [0.4444444444444444, \"#bd3786\"], [0.5555555555555556, \"#d8576b\"], [0.6666666666666666, \"#ed7953\"], [0.7777777777777778, \"#fb9f3a\"], [0.8888888888888888, \"#fdca26\"], [1.0, \"#f0f921\"]], \"type\": \"surface\"}], \"table\": [{\"cells\": {\"fill\": {\"color\": \"#EBF0F8\"}, \"line\": {\"color\": \"white\"}}, \"header\": {\"fill\": {\"color\": \"#C8D4E3\"}, \"line\": {\"color\": \"white\"}}, \"type\": \"table\"}]}, \"layout\": {\"annotationdefaults\": {\"arrowcolor\": \"#2a3f5f\", \"arrowhead\": 0, \"arrowwidth\": 1}, \"autotypenumbers\": \"strict\", \"coloraxis\": {\"colorbar\": {\"outlinewidth\": 0, \"ticks\": \"\"}}, \"colorscale\": {\"diverging\": [[0, \"#8e0152\"], [0.1, \"#c51b7d\"], [0.2, \"#de77ae\"], [0.3, \"#f1b6da\"], [0.4, \"#fde0ef\"], [0.5, \"#f7f7f7\"], [0.6, \"#e6f5d0\"], [0.7, \"#b8e186\"], [0.8, \"#7fbc41\"], [0.9, \"#4d9221\"], [1, \"#276419\"]], \"sequential\": [[0.0, \"#0d0887\"], [0.1111111111111111, \"#46039f\"], [0.2222222222222222, \"#7201a8\"], [0.3333333333333333, \"#9c179e\"], [0.4444444444444444, \"#bd3786\"], [0.5555555555555556, \"#d8576b\"], [0.6666666666666666, \"#ed7953\"], [0.7777777777777778, \"#fb9f3a\"], [0.8888888888888888, \"#fdca26\"], [1.0, \"#f0f921\"]], \"sequentialminus\": [[0.0, \"#0d0887\"], [0.1111111111111111, \"#46039f\"], [0.2222222222222222, \"#7201a8\"], [0.3333333333333333, \"#9c179e\"], [0.4444444444444444, \"#bd3786\"], [0.5555555555555556, \"#d8576b\"], [0.6666666666666666, \"#ed7953\"], [0.7777777777777778, \"#fb9f3a\"], [0.8888888888888888, \"#fdca26\"], [1.0, \"#f0f921\"]]}, \"colorway\": [\"#636efa\", \"#EF553B\", \"#00cc96\", \"#ab63fa\", \"#FFA15A\", \"#19d3f3\", \"#FF6692\", \"#B6E880\", \"#FF97FF\", \"#FECB52\"], \"font\": {\"color\": \"#2a3f5f\"}, \"geo\": {\"bgcolor\": \"white\", \"lakecolor\": \"white\", \"landcolor\": \"#E5ECF6\", \"showlakes\": true, \"showland\": true, \"subunitcolor\": \"white\"}, \"hoverlabel\": {\"align\": \"left\"}, \"hovermode\": \"closest\", \"mapbox\": {\"style\": \"light\"}, \"paper_bgcolor\": \"white\", \"plot_bgcolor\": \"#E5ECF6\", \"polar\": {\"angularaxis\": {\"gridcolor\": \"white\", \"linecolor\": \"white\", \"ticks\": \"\"}, \"bgcolor\": \"#E5ECF6\", \"radialaxis\": {\"gridcolor\": \"white\", \"linecolor\": \"white\", \"ticks\": \"\"}}, \"scene\": {\"xaxis\": {\"backgroundcolor\": \"#E5ECF6\", \"gridcolor\": \"white\", \"gridwidth\": 2, \"linecolor\": \"white\", \"showbackground\": true, \"ticks\": \"\", \"zerolinecolor\": \"white\"}, \"yaxis\": {\"backgroundcolor\": \"#E5ECF6\", \"gridcolor\": \"white\", \"gridwidth\": 2, \"linecolor\": \"white\", \"showbackground\": true, \"ticks\": \"\", \"zerolinecolor\": \"white\"}, \"zaxis\": {\"backgroundcolor\": \"#E5ECF6\", \"gridcolor\": \"white\", \"gridwidth\": 2, \"linecolor\": \"white\", \"showbackground\": true, \"ticks\": \"\", \"zerolinecolor\": \"white\"}}, \"shapedefaults\": {\"line\": {\"color\": \"#2a3f5f\"}}, \"ternary\": {\"aaxis\": {\"gridcolor\": \"white\", \"linecolor\": \"white\", \"ticks\": \"\"}, \"baxis\": {\"gridcolor\": \"white\", \"linecolor\": \"white\", \"ticks\": \"\"}, \"bgcolor\": \"#E5ECF6\", \"caxis\": {\"gridcolor\": \"white\", \"linecolor\": \"white\", \"ticks\": \"\"}}, \"title\": {\"x\": 0.05}, \"xaxis\": {\"automargin\": true, \"gridcolor\": \"white\", \"linecolor\": \"white\", \"ticks\": \"\", \"title\": {\"standoff\": 15}, \"zerolinecolor\": \"white\", \"zerolinewidth\": 2}, \"yaxis\": {\"automargin\": true, \"gridcolor\": \"white\", \"linecolor\": \"white\", \"ticks\": \"\", \"title\": {\"standoff\": 15}, \"zerolinecolor\": \"white\", \"zerolinewidth\": 2}}}, \"xaxis\": {\"anchor\": \"y\", \"domain\": [0.0, 1.0], \"title\": {\"text\": \"x\"}}, \"yaxis\": {\"anchor\": \"x\", \"domain\": [0.0, 1.0], \"title\": {\"text\": \"y\"}}},                        {\"responsive\": true}                    ).then(function(){\n                            \nvar gd = document.getElementById('74be6fff-1223-4af8-a507-49c7751d2d7c');\nvar x = new MutationObserver(function (mutations, observer) {{\n        var display = window.getComputedStyle(gd).display;\n        if (!display || display === 'none') {{\n            console.log([gd, 'removed!']);\n            Plotly.purge(gd);\n            observer.disconnect();\n        }}\n}});\n\n// Listen for the removal of the full notebook cells\nvar notebookContainer = gd.closest('#notebook-container');\nif (notebookContainer) {{\n    x.observe(notebookContainer, {childList: true});\n}}\n\n// Listen for the clearing of the current output cell\nvar outputEl = gd.closest('.output');\nif (outputEl) {{\n    x.observe(outputEl, {childList: true});\n}}\n\n                        })                };                });            </script>        </div>"
     },
     "metadata": {}
    }
   ],
   "source": [
    "fig = px.scatter(y=results.resid)\n",
    "fig.show()"
   ]
  },
  {
   "cell_type": "code",
   "execution_count": 28,
   "metadata": {},
   "outputs": [
    {
     "output_type": "display_data",
     "data": {
      "text/plain": "<Figure size 432x288 with 1 Axes>",
      "image/svg+xml": "<?xml version=\"1.0\" encoding=\"utf-8\" standalone=\"no\"?>\r\n<!DOCTYPE svg PUBLIC \"-//W3C//DTD SVG 1.1//EN\"\r\n  \"http://www.w3.org/Graphics/SVG/1.1/DTD/svg11.dtd\">\r\n<!-- Created with matplotlib (https://matplotlib.org/) -->\r\n<svg height=\"248.518125pt\" version=\"1.1\" viewBox=\"0 0 368.925 248.518125\" width=\"368.925pt\" xmlns=\"http://www.w3.org/2000/svg\" xmlns:xlink=\"http://www.w3.org/1999/xlink\">\r\n <metadata>\r\n  <rdf:RDF xmlns:cc=\"http://creativecommons.org/ns#\" xmlns:dc=\"http://purl.org/dc/elements/1.1/\" xmlns:rdf=\"http://www.w3.org/1999/02/22-rdf-syntax-ns#\">\r\n   <cc:Work>\r\n    <dc:type rdf:resource=\"http://purl.org/dc/dcmitype/StillImage\"/>\r\n    <dc:date>2021-06-16T21:53:42.802838</dc:date>\r\n    <dc:format>image/svg+xml</dc:format>\r\n    <dc:creator>\r\n     <cc:Agent>\r\n      <dc:title>Matplotlib v3.3.2, https://matplotlib.org/</dc:title>\r\n     </cc:Agent>\r\n    </dc:creator>\r\n   </cc:Work>\r\n  </rdf:RDF>\r\n </metadata>\r\n <defs>\r\n  <style type=\"text/css\">*{stroke-linecap:butt;stroke-linejoin:round;}</style>\r\n </defs>\r\n <g id=\"figure_1\">\r\n  <g id=\"patch_1\">\r\n   <path d=\"M -0 248.518125 \r\nL 368.925 248.518125 \r\nL 368.925 0 \r\nL -0 0 \r\nz\r\n\" style=\"fill:none;\"/>\r\n  </g>\r\n  <g id=\"axes_1\">\r\n   <g id=\"patch_2\">\r\n    <path d=\"M 26.925 224.64 \r\nL 361.725 224.64 \r\nL 361.725 7.2 \r\nL 26.925 7.2 \r\nz\r\n\" style=\"fill:#ffffff;\"/>\r\n   </g>\r\n   <g id=\"patch_3\">\r\n    <path clip-path=\"url(#p59e90a9295)\" d=\"M 42.143182 224.64 \r\nL 72.579545 224.64 \r\nL 72.579545 222.174694 \r\nL 42.143182 222.174694 \r\nz\r\n\" style=\"fill:#1f77b4;\"/>\r\n   </g>\r\n   <g id=\"patch_4\">\r\n    <path clip-path=\"url(#p59e90a9295)\" d=\"M 72.579545 224.64 \r\nL 103.015909 224.64 \r\nL 103.015909 212.313469 \r\nL 72.579545 212.313469 \r\nz\r\n\" style=\"fill:#1f77b4;\"/>\r\n   </g>\r\n   <g id=\"patch_5\">\r\n    <path clip-path=\"url(#p59e90a9295)\" d=\"M 103.015909 224.64 \r\nL 133.452273 224.64 \r\nL 133.452273 182.729796 \r\nL 103.015909 182.729796 \r\nz\r\n\" style=\"fill:#1f77b4;\"/>\r\n   </g>\r\n   <g id=\"patch_6\">\r\n    <path clip-path=\"url(#p59e90a9295)\" d=\"M 133.452273 224.64 \r\nL 163.888636 224.64 \r\nL 163.888636 158.076735 \r\nL 133.452273 158.076735 \r\nz\r\n\" style=\"fill:#1f77b4;\"/>\r\n   </g>\r\n   <g id=\"patch_7\">\r\n    <path clip-path=\"url(#p59e90a9295)\" d=\"M 163.888636 224.64 \r\nL 194.325 224.64 \r\nL 194.325 121.097143 \r\nL 163.888636 121.097143 \r\nz\r\n\" style=\"fill:#1f77b4;\"/>\r\n   </g>\r\n   <g id=\"patch_8\">\r\n    <path clip-path=\"url(#p59e90a9295)\" d=\"M 194.325 224.64 \r\nL 224.761364 224.64 \r\nL 224.761364 54.533878 \r\nL 194.325 54.533878 \r\nz\r\n\" style=\"fill:#1f77b4;\"/>\r\n   </g>\r\n   <g id=\"patch_9\">\r\n    <path clip-path=\"url(#p59e90a9295)\" d=\"M 224.761364 224.64 \r\nL 255.197727 224.64 \r\nL 255.197727 17.554286 \r\nL 224.761364 17.554286 \r\nz\r\n\" style=\"fill:#1f77b4;\"/>\r\n   </g>\r\n   <g id=\"patch_10\">\r\n    <path clip-path=\"url(#p59e90a9295)\" d=\"M 255.197727 224.64 \r\nL 285.634091 224.64 \r\nL 285.634091 37.276735 \r\nL 255.197727 37.276735 \r\nz\r\n\" style=\"fill:#1f77b4;\"/>\r\n   </g>\r\n   <g id=\"patch_11\">\r\n    <path clip-path=\"url(#p59e90a9295)\" d=\"M 285.634091 224.64 \r\nL 316.070455 224.64 \r\nL 316.070455 101.374694 \r\nL 285.634091 101.374694 \r\nz\r\n\" style=\"fill:#1f77b4;\"/>\r\n   </g>\r\n   <g id=\"patch_12\">\r\n    <path clip-path=\"url(#p59e90a9295)\" d=\"M 316.070455 224.64 \r\nL 346.506818 224.64 \r\nL 346.506818 199.986939 \r\nL 316.070455 199.986939 \r\nz\r\n\" style=\"fill:#1f77b4;\"/>\r\n   </g>\r\n   <g id=\"matplotlib.axis_1\">\r\n    <g id=\"xtick_1\">\r\n     <g id=\"line2d_1\">\r\n      <path clip-path=\"url(#p59e90a9295)\" d=\"M 73.686167 224.64 \r\nL 73.686167 7.2 \r\n\" style=\"fill:none;stroke:#b0b0b0;stroke-linecap:square;stroke-width:0.8;\"/>\r\n     </g>\r\n     <g id=\"line2d_2\">\r\n      <defs>\r\n       <path d=\"M 0 0 \r\nL 0 3.5 \r\n\" id=\"m9903293586\" style=\"stroke:#000000;stroke-width:0.8;\"/>\r\n      </defs>\r\n      <g>\r\n       <use style=\"stroke:#000000;stroke-width:0.8;\" x=\"73.686167\" xlink:href=\"#m9903293586\" y=\"224.64\"/>\r\n      </g>\r\n     </g>\r\n     <g id=\"text_1\">\r\n      <!-- −0.15 -->\r\n      <g transform=\"translate(58.363511 239.238437)scale(0.1 -0.1)\">\r\n       <defs>\r\n        <path d=\"M 10.59375 35.5 \r\nL 73.1875 35.5 \r\nL 73.1875 27.203125 \r\nL 10.59375 27.203125 \r\nz\r\n\" id=\"DejaVuSans-8722\"/>\r\n        <path d=\"M 31.78125 66.40625 \r\nQ 24.171875 66.40625 20.328125 58.90625 \r\nQ 16.5 51.421875 16.5 36.375 \r\nQ 16.5 21.390625 20.328125 13.890625 \r\nQ 24.171875 6.390625 31.78125 6.390625 \r\nQ 39.453125 6.390625 43.28125 13.890625 \r\nQ 47.125 21.390625 47.125 36.375 \r\nQ 47.125 51.421875 43.28125 58.90625 \r\nQ 39.453125 66.40625 31.78125 66.40625 \r\nz\r\nM 31.78125 74.21875 \r\nQ 44.046875 74.21875 50.515625 64.515625 \r\nQ 56.984375 54.828125 56.984375 36.375 \r\nQ 56.984375 17.96875 50.515625 8.265625 \r\nQ 44.046875 -1.421875 31.78125 -1.421875 \r\nQ 19.53125 -1.421875 13.0625 8.265625 \r\nQ 6.59375 17.96875 6.59375 36.375 \r\nQ 6.59375 54.828125 13.0625 64.515625 \r\nQ 19.53125 74.21875 31.78125 74.21875 \r\nz\r\n\" id=\"DejaVuSans-48\"/>\r\n        <path d=\"M 10.6875 12.40625 \r\nL 21 12.40625 \r\nL 21 0 \r\nL 10.6875 0 \r\nz\r\n\" id=\"DejaVuSans-46\"/>\r\n        <path d=\"M 12.40625 8.296875 \r\nL 28.515625 8.296875 \r\nL 28.515625 63.921875 \r\nL 10.984375 60.40625 \r\nL 10.984375 69.390625 \r\nL 28.421875 72.90625 \r\nL 38.28125 72.90625 \r\nL 38.28125 8.296875 \r\nL 54.390625 8.296875 \r\nL 54.390625 0 \r\nL 12.40625 0 \r\nz\r\n\" id=\"DejaVuSans-49\"/>\r\n        <path d=\"M 10.796875 72.90625 \r\nL 49.515625 72.90625 \r\nL 49.515625 64.59375 \r\nL 19.828125 64.59375 \r\nL 19.828125 46.734375 \r\nQ 21.96875 47.46875 24.109375 47.828125 \r\nQ 26.265625 48.1875 28.421875 48.1875 \r\nQ 40.625 48.1875 47.75 41.5 \r\nQ 54.890625 34.8125 54.890625 23.390625 \r\nQ 54.890625 11.625 47.5625 5.09375 \r\nQ 40.234375 -1.421875 26.90625 -1.421875 \r\nQ 22.3125 -1.421875 17.546875 -0.640625 \r\nQ 12.796875 0.140625 7.71875 1.703125 \r\nL 7.71875 11.625 \r\nQ 12.109375 9.234375 16.796875 8.0625 \r\nQ 21.484375 6.890625 26.703125 6.890625 \r\nQ 35.15625 6.890625 40.078125 11.328125 \r\nQ 45.015625 15.765625 45.015625 23.390625 \r\nQ 45.015625 31 40.078125 35.4375 \r\nQ 35.15625 39.890625 26.703125 39.890625 \r\nQ 22.75 39.890625 18.8125 39.015625 \r\nQ 14.890625 38.140625 10.796875 36.28125 \r\nz\r\n\" id=\"DejaVuSans-53\"/>\r\n       </defs>\r\n       <use xlink:href=\"#DejaVuSans-8722\"/>\r\n       <use x=\"83.789062\" xlink:href=\"#DejaVuSans-48\"/>\r\n       <use x=\"147.412109\" xlink:href=\"#DejaVuSans-46\"/>\r\n       <use x=\"179.199219\" xlink:href=\"#DejaVuSans-49\"/>\r\n       <use x=\"242.822266\" xlink:href=\"#DejaVuSans-53\"/>\r\n      </g>\r\n     </g>\r\n    </g>\r\n    <g id=\"xtick_2\">\r\n     <g id=\"line2d_3\">\r\n      <path clip-path=\"url(#p59e90a9295)\" d=\"M 125.685902 224.64 \r\nL 125.685902 7.2 \r\n\" style=\"fill:none;stroke:#b0b0b0;stroke-linecap:square;stroke-width:0.8;\"/>\r\n     </g>\r\n     <g id=\"line2d_4\">\r\n      <g>\r\n       <use style=\"stroke:#000000;stroke-width:0.8;\" x=\"125.685902\" xlink:href=\"#m9903293586\" y=\"224.64\"/>\r\n      </g>\r\n     </g>\r\n     <g id=\"text_2\">\r\n      <!-- −0.10 -->\r\n      <g transform=\"translate(110.363246 239.238437)scale(0.1 -0.1)\">\r\n       <use xlink:href=\"#DejaVuSans-8722\"/>\r\n       <use x=\"83.789062\" xlink:href=\"#DejaVuSans-48\"/>\r\n       <use x=\"147.412109\" xlink:href=\"#DejaVuSans-46\"/>\r\n       <use x=\"179.199219\" xlink:href=\"#DejaVuSans-49\"/>\r\n       <use x=\"242.822266\" xlink:href=\"#DejaVuSans-48\"/>\r\n      </g>\r\n     </g>\r\n    </g>\r\n    <g id=\"xtick_3\">\r\n     <g id=\"line2d_5\">\r\n      <path clip-path=\"url(#p59e90a9295)\" d=\"M 177.685638 224.64 \r\nL 177.685638 7.2 \r\n\" style=\"fill:none;stroke:#b0b0b0;stroke-linecap:square;stroke-width:0.8;\"/>\r\n     </g>\r\n     <g id=\"line2d_6\">\r\n      <g>\r\n       <use style=\"stroke:#000000;stroke-width:0.8;\" x=\"177.685638\" xlink:href=\"#m9903293586\" y=\"224.64\"/>\r\n      </g>\r\n     </g>\r\n     <g id=\"text_3\">\r\n      <!-- −0.05 -->\r\n      <g transform=\"translate(162.362981 239.238437)scale(0.1 -0.1)\">\r\n       <use xlink:href=\"#DejaVuSans-8722\"/>\r\n       <use x=\"83.789062\" xlink:href=\"#DejaVuSans-48\"/>\r\n       <use x=\"147.412109\" xlink:href=\"#DejaVuSans-46\"/>\r\n       <use x=\"179.199219\" xlink:href=\"#DejaVuSans-48\"/>\r\n       <use x=\"242.822266\" xlink:href=\"#DejaVuSans-53\"/>\r\n      </g>\r\n     </g>\r\n    </g>\r\n    <g id=\"xtick_4\">\r\n     <g id=\"line2d_7\">\r\n      <path clip-path=\"url(#p59e90a9295)\" d=\"M 229.685373 224.64 \r\nL 229.685373 7.2 \r\n\" style=\"fill:none;stroke:#b0b0b0;stroke-linecap:square;stroke-width:0.8;\"/>\r\n     </g>\r\n     <g id=\"line2d_8\">\r\n      <g>\r\n       <use style=\"stroke:#000000;stroke-width:0.8;\" x=\"229.685373\" xlink:href=\"#m9903293586\" y=\"224.64\"/>\r\n      </g>\r\n     </g>\r\n     <g id=\"text_4\">\r\n      <!-- 0.00 -->\r\n      <g transform=\"translate(218.55256 239.238437)scale(0.1 -0.1)\">\r\n       <use xlink:href=\"#DejaVuSans-48\"/>\r\n       <use x=\"63.623047\" xlink:href=\"#DejaVuSans-46\"/>\r\n       <use x=\"95.410156\" xlink:href=\"#DejaVuSans-48\"/>\r\n       <use x=\"159.033203\" xlink:href=\"#DejaVuSans-48\"/>\r\n      </g>\r\n     </g>\r\n    </g>\r\n    <g id=\"xtick_5\">\r\n     <g id=\"line2d_9\">\r\n      <path clip-path=\"url(#p59e90a9295)\" d=\"M 281.685108 224.64 \r\nL 281.685108 7.2 \r\n\" style=\"fill:none;stroke:#b0b0b0;stroke-linecap:square;stroke-width:0.8;\"/>\r\n     </g>\r\n     <g id=\"line2d_10\">\r\n      <g>\r\n       <use style=\"stroke:#000000;stroke-width:0.8;\" x=\"281.685108\" xlink:href=\"#m9903293586\" y=\"224.64\"/>\r\n      </g>\r\n     </g>\r\n     <g id=\"text_5\">\r\n      <!-- 0.05 -->\r\n      <g transform=\"translate(270.552295 239.238437)scale(0.1 -0.1)\">\r\n       <use xlink:href=\"#DejaVuSans-48\"/>\r\n       <use x=\"63.623047\" xlink:href=\"#DejaVuSans-46\"/>\r\n       <use x=\"95.410156\" xlink:href=\"#DejaVuSans-48\"/>\r\n       <use x=\"159.033203\" xlink:href=\"#DejaVuSans-53\"/>\r\n      </g>\r\n     </g>\r\n    </g>\r\n    <g id=\"xtick_6\">\r\n     <g id=\"line2d_11\">\r\n      <path clip-path=\"url(#p59e90a9295)\" d=\"M 333.684843 224.64 \r\nL 333.684843 7.2 \r\n\" style=\"fill:none;stroke:#b0b0b0;stroke-linecap:square;stroke-width:0.8;\"/>\r\n     </g>\r\n     <g id=\"line2d_12\">\r\n      <g>\r\n       <use style=\"stroke:#000000;stroke-width:0.8;\" x=\"333.684843\" xlink:href=\"#m9903293586\" y=\"224.64\"/>\r\n      </g>\r\n     </g>\r\n     <g id=\"text_6\">\r\n      <!-- 0.10 -->\r\n      <g transform=\"translate(322.552031 239.238437)scale(0.1 -0.1)\">\r\n       <use xlink:href=\"#DejaVuSans-48\"/>\r\n       <use x=\"63.623047\" xlink:href=\"#DejaVuSans-46\"/>\r\n       <use x=\"95.410156\" xlink:href=\"#DejaVuSans-49\"/>\r\n       <use x=\"159.033203\" xlink:href=\"#DejaVuSans-48\"/>\r\n      </g>\r\n     </g>\r\n    </g>\r\n   </g>\r\n   <g id=\"matplotlib.axis_2\">\r\n    <g id=\"ytick_1\">\r\n     <g id=\"line2d_13\">\r\n      <path clip-path=\"url(#p59e90a9295)\" d=\"M 26.925 224.64 \r\nL 361.725 224.64 \r\n\" style=\"fill:none;stroke:#b0b0b0;stroke-linecap:square;stroke-width:0.8;\"/>\r\n     </g>\r\n     <g id=\"line2d_14\">\r\n      <defs>\r\n       <path d=\"M 0 0 \r\nL -3.5 0 \r\n\" id=\"mb7a34c2363\" style=\"stroke:#000000;stroke-width:0.8;\"/>\r\n      </defs>\r\n      <g>\r\n       <use style=\"stroke:#000000;stroke-width:0.8;\" x=\"26.925\" xlink:href=\"#mb7a34c2363\" y=\"224.64\"/>\r\n      </g>\r\n     </g>\r\n     <g id=\"text_7\">\r\n      <!-- 0 -->\r\n      <g transform=\"translate(13.5625 228.439219)scale(0.1 -0.1)\">\r\n       <use xlink:href=\"#DejaVuSans-48\"/>\r\n      </g>\r\n     </g>\r\n    </g>\r\n    <g id=\"ytick_2\">\r\n     <g id=\"line2d_15\">\r\n      <path clip-path=\"url(#p59e90a9295)\" d=\"M 26.925 199.986939 \r\nL 361.725 199.986939 \r\n\" style=\"fill:none;stroke:#b0b0b0;stroke-linecap:square;stroke-width:0.8;\"/>\r\n     </g>\r\n     <g id=\"line2d_16\">\r\n      <g>\r\n       <use style=\"stroke:#000000;stroke-width:0.8;\" x=\"26.925\" xlink:href=\"#mb7a34c2363\" y=\"199.986939\"/>\r\n      </g>\r\n     </g>\r\n     <g id=\"text_8\">\r\n      <!-- 10 -->\r\n      <g transform=\"translate(7.2 203.786158)scale(0.1 -0.1)\">\r\n       <use xlink:href=\"#DejaVuSans-49\"/>\r\n       <use x=\"63.623047\" xlink:href=\"#DejaVuSans-48\"/>\r\n      </g>\r\n     </g>\r\n    </g>\r\n    <g id=\"ytick_3\">\r\n     <g id=\"line2d_17\">\r\n      <path clip-path=\"url(#p59e90a9295)\" d=\"M 26.925 175.333878 \r\nL 361.725 175.333878 \r\n\" style=\"fill:none;stroke:#b0b0b0;stroke-linecap:square;stroke-width:0.8;\"/>\r\n     </g>\r\n     <g id=\"line2d_18\">\r\n      <g>\r\n       <use style=\"stroke:#000000;stroke-width:0.8;\" x=\"26.925\" xlink:href=\"#mb7a34c2363\" y=\"175.333878\"/>\r\n      </g>\r\n     </g>\r\n     <g id=\"text_9\">\r\n      <!-- 20 -->\r\n      <g transform=\"translate(7.2 179.133096)scale(0.1 -0.1)\">\r\n       <defs>\r\n        <path d=\"M 19.1875 8.296875 \r\nL 53.609375 8.296875 \r\nL 53.609375 0 \r\nL 7.328125 0 \r\nL 7.328125 8.296875 \r\nQ 12.9375 14.109375 22.625 23.890625 \r\nQ 32.328125 33.6875 34.8125 36.53125 \r\nQ 39.546875 41.84375 41.421875 45.53125 \r\nQ 43.3125 49.21875 43.3125 52.78125 \r\nQ 43.3125 58.59375 39.234375 62.25 \r\nQ 35.15625 65.921875 28.609375 65.921875 \r\nQ 23.96875 65.921875 18.8125 64.3125 \r\nQ 13.671875 62.703125 7.8125 59.421875 \r\nL 7.8125 69.390625 \r\nQ 13.765625 71.78125 18.9375 73 \r\nQ 24.125 74.21875 28.421875 74.21875 \r\nQ 39.75 74.21875 46.484375 68.546875 \r\nQ 53.21875 62.890625 53.21875 53.421875 \r\nQ 53.21875 48.921875 51.53125 44.890625 \r\nQ 49.859375 40.875 45.40625 35.40625 \r\nQ 44.1875 33.984375 37.640625 27.21875 \r\nQ 31.109375 20.453125 19.1875 8.296875 \r\nz\r\n\" id=\"DejaVuSans-50\"/>\r\n       </defs>\r\n       <use xlink:href=\"#DejaVuSans-50\"/>\r\n       <use x=\"63.623047\" xlink:href=\"#DejaVuSans-48\"/>\r\n      </g>\r\n     </g>\r\n    </g>\r\n    <g id=\"ytick_4\">\r\n     <g id=\"line2d_19\">\r\n      <path clip-path=\"url(#p59e90a9295)\" d=\"M 26.925 150.680816 \r\nL 361.725 150.680816 \r\n\" style=\"fill:none;stroke:#b0b0b0;stroke-linecap:square;stroke-width:0.8;\"/>\r\n     </g>\r\n     <g id=\"line2d_20\">\r\n      <g>\r\n       <use style=\"stroke:#000000;stroke-width:0.8;\" x=\"26.925\" xlink:href=\"#mb7a34c2363\" y=\"150.680816\"/>\r\n      </g>\r\n     </g>\r\n     <g id=\"text_10\">\r\n      <!-- 30 -->\r\n      <g transform=\"translate(7.2 154.480035)scale(0.1 -0.1)\">\r\n       <defs>\r\n        <path d=\"M 40.578125 39.3125 \r\nQ 47.65625 37.796875 51.625 33 \r\nQ 55.609375 28.21875 55.609375 21.1875 \r\nQ 55.609375 10.40625 48.1875 4.484375 \r\nQ 40.765625 -1.421875 27.09375 -1.421875 \r\nQ 22.515625 -1.421875 17.65625 -0.515625 \r\nQ 12.796875 0.390625 7.625 2.203125 \r\nL 7.625 11.71875 \r\nQ 11.71875 9.328125 16.59375 8.109375 \r\nQ 21.484375 6.890625 26.8125 6.890625 \r\nQ 36.078125 6.890625 40.9375 10.546875 \r\nQ 45.796875 14.203125 45.796875 21.1875 \r\nQ 45.796875 27.640625 41.28125 31.265625 \r\nQ 36.765625 34.90625 28.71875 34.90625 \r\nL 20.21875 34.90625 \r\nL 20.21875 43.015625 \r\nL 29.109375 43.015625 \r\nQ 36.375 43.015625 40.234375 45.921875 \r\nQ 44.09375 48.828125 44.09375 54.296875 \r\nQ 44.09375 59.90625 40.109375 62.90625 \r\nQ 36.140625 65.921875 28.71875 65.921875 \r\nQ 24.65625 65.921875 20.015625 65.03125 \r\nQ 15.375 64.15625 9.8125 62.3125 \r\nL 9.8125 71.09375 \r\nQ 15.4375 72.65625 20.34375 73.4375 \r\nQ 25.25 74.21875 29.59375 74.21875 \r\nQ 40.828125 74.21875 47.359375 69.109375 \r\nQ 53.90625 64.015625 53.90625 55.328125 \r\nQ 53.90625 49.265625 50.4375 45.09375 \r\nQ 46.96875 40.921875 40.578125 39.3125 \r\nz\r\n\" id=\"DejaVuSans-51\"/>\r\n       </defs>\r\n       <use xlink:href=\"#DejaVuSans-51\"/>\r\n       <use x=\"63.623047\" xlink:href=\"#DejaVuSans-48\"/>\r\n      </g>\r\n     </g>\r\n    </g>\r\n    <g id=\"ytick_5\">\r\n     <g id=\"line2d_21\">\r\n      <path clip-path=\"url(#p59e90a9295)\" d=\"M 26.925 126.027755 \r\nL 361.725 126.027755 \r\n\" style=\"fill:none;stroke:#b0b0b0;stroke-linecap:square;stroke-width:0.8;\"/>\r\n     </g>\r\n     <g id=\"line2d_22\">\r\n      <g>\r\n       <use style=\"stroke:#000000;stroke-width:0.8;\" x=\"26.925\" xlink:href=\"#mb7a34c2363\" y=\"126.027755\"/>\r\n      </g>\r\n     </g>\r\n     <g id=\"text_11\">\r\n      <!-- 40 -->\r\n      <g transform=\"translate(7.2 129.826974)scale(0.1 -0.1)\">\r\n       <defs>\r\n        <path d=\"M 37.796875 64.3125 \r\nL 12.890625 25.390625 \r\nL 37.796875 25.390625 \r\nz\r\nM 35.203125 72.90625 \r\nL 47.609375 72.90625 \r\nL 47.609375 25.390625 \r\nL 58.015625 25.390625 \r\nL 58.015625 17.1875 \r\nL 47.609375 17.1875 \r\nL 47.609375 0 \r\nL 37.796875 0 \r\nL 37.796875 17.1875 \r\nL 4.890625 17.1875 \r\nL 4.890625 26.703125 \r\nz\r\n\" id=\"DejaVuSans-52\"/>\r\n       </defs>\r\n       <use xlink:href=\"#DejaVuSans-52\"/>\r\n       <use x=\"63.623047\" xlink:href=\"#DejaVuSans-48\"/>\r\n      </g>\r\n     </g>\r\n    </g>\r\n    <g id=\"ytick_6\">\r\n     <g id=\"line2d_23\">\r\n      <path clip-path=\"url(#p59e90a9295)\" d=\"M 26.925 101.374694 \r\nL 361.725 101.374694 \r\n\" style=\"fill:none;stroke:#b0b0b0;stroke-linecap:square;stroke-width:0.8;\"/>\r\n     </g>\r\n     <g id=\"line2d_24\">\r\n      <g>\r\n       <use style=\"stroke:#000000;stroke-width:0.8;\" x=\"26.925\" xlink:href=\"#mb7a34c2363\" y=\"101.374694\"/>\r\n      </g>\r\n     </g>\r\n     <g id=\"text_12\">\r\n      <!-- 50 -->\r\n      <g transform=\"translate(7.2 105.173913)scale(0.1 -0.1)\">\r\n       <use xlink:href=\"#DejaVuSans-53\"/>\r\n       <use x=\"63.623047\" xlink:href=\"#DejaVuSans-48\"/>\r\n      </g>\r\n     </g>\r\n    </g>\r\n    <g id=\"ytick_7\">\r\n     <g id=\"line2d_25\">\r\n      <path clip-path=\"url(#p59e90a9295)\" d=\"M 26.925 76.721633 \r\nL 361.725 76.721633 \r\n\" style=\"fill:none;stroke:#b0b0b0;stroke-linecap:square;stroke-width:0.8;\"/>\r\n     </g>\r\n     <g id=\"line2d_26\">\r\n      <g>\r\n       <use style=\"stroke:#000000;stroke-width:0.8;\" x=\"26.925\" xlink:href=\"#mb7a34c2363\" y=\"76.721633\"/>\r\n      </g>\r\n     </g>\r\n     <g id=\"text_13\">\r\n      <!-- 60 -->\r\n      <g transform=\"translate(7.2 80.520851)scale(0.1 -0.1)\">\r\n       <defs>\r\n        <path d=\"M 33.015625 40.375 \r\nQ 26.375 40.375 22.484375 35.828125 \r\nQ 18.609375 31.296875 18.609375 23.390625 \r\nQ 18.609375 15.53125 22.484375 10.953125 \r\nQ 26.375 6.390625 33.015625 6.390625 \r\nQ 39.65625 6.390625 43.53125 10.953125 \r\nQ 47.40625 15.53125 47.40625 23.390625 \r\nQ 47.40625 31.296875 43.53125 35.828125 \r\nQ 39.65625 40.375 33.015625 40.375 \r\nz\r\nM 52.59375 71.296875 \r\nL 52.59375 62.3125 \r\nQ 48.875 64.0625 45.09375 64.984375 \r\nQ 41.3125 65.921875 37.59375 65.921875 \r\nQ 27.828125 65.921875 22.671875 59.328125 \r\nQ 17.53125 52.734375 16.796875 39.40625 \r\nQ 19.671875 43.65625 24.015625 45.921875 \r\nQ 28.375 48.1875 33.59375 48.1875 \r\nQ 44.578125 48.1875 50.953125 41.515625 \r\nQ 57.328125 34.859375 57.328125 23.390625 \r\nQ 57.328125 12.15625 50.6875 5.359375 \r\nQ 44.046875 -1.421875 33.015625 -1.421875 \r\nQ 20.359375 -1.421875 13.671875 8.265625 \r\nQ 6.984375 17.96875 6.984375 36.375 \r\nQ 6.984375 53.65625 15.1875 63.9375 \r\nQ 23.390625 74.21875 37.203125 74.21875 \r\nQ 40.921875 74.21875 44.703125 73.484375 \r\nQ 48.484375 72.75 52.59375 71.296875 \r\nz\r\n\" id=\"DejaVuSans-54\"/>\r\n       </defs>\r\n       <use xlink:href=\"#DejaVuSans-54\"/>\r\n       <use x=\"63.623047\" xlink:href=\"#DejaVuSans-48\"/>\r\n      </g>\r\n     </g>\r\n    </g>\r\n    <g id=\"ytick_8\">\r\n     <g id=\"line2d_27\">\r\n      <path clip-path=\"url(#p59e90a9295)\" d=\"M 26.925 52.068571 \r\nL 361.725 52.068571 \r\n\" style=\"fill:none;stroke:#b0b0b0;stroke-linecap:square;stroke-width:0.8;\"/>\r\n     </g>\r\n     <g id=\"line2d_28\">\r\n      <g>\r\n       <use style=\"stroke:#000000;stroke-width:0.8;\" x=\"26.925\" xlink:href=\"#mb7a34c2363\" y=\"52.068571\"/>\r\n      </g>\r\n     </g>\r\n     <g id=\"text_14\">\r\n      <!-- 70 -->\r\n      <g transform=\"translate(7.2 55.86779)scale(0.1 -0.1)\">\r\n       <defs>\r\n        <path d=\"M 8.203125 72.90625 \r\nL 55.078125 72.90625 \r\nL 55.078125 68.703125 \r\nL 28.609375 0 \r\nL 18.3125 0 \r\nL 43.21875 64.59375 \r\nL 8.203125 64.59375 \r\nz\r\n\" id=\"DejaVuSans-55\"/>\r\n       </defs>\r\n       <use xlink:href=\"#DejaVuSans-55\"/>\r\n       <use x=\"63.623047\" xlink:href=\"#DejaVuSans-48\"/>\r\n      </g>\r\n     </g>\r\n    </g>\r\n    <g id=\"ytick_9\">\r\n     <g id=\"line2d_29\">\r\n      <path clip-path=\"url(#p59e90a9295)\" d=\"M 26.925 27.41551 \r\nL 361.725 27.41551 \r\n\" style=\"fill:none;stroke:#b0b0b0;stroke-linecap:square;stroke-width:0.8;\"/>\r\n     </g>\r\n     <g id=\"line2d_30\">\r\n      <g>\r\n       <use style=\"stroke:#000000;stroke-width:0.8;\" x=\"26.925\" xlink:href=\"#mb7a34c2363\" y=\"27.41551\"/>\r\n      </g>\r\n     </g>\r\n     <g id=\"text_15\">\r\n      <!-- 80 -->\r\n      <g transform=\"translate(7.2 31.214729)scale(0.1 -0.1)\">\r\n       <defs>\r\n        <path d=\"M 31.78125 34.625 \r\nQ 24.75 34.625 20.71875 30.859375 \r\nQ 16.703125 27.09375 16.703125 20.515625 \r\nQ 16.703125 13.921875 20.71875 10.15625 \r\nQ 24.75 6.390625 31.78125 6.390625 \r\nQ 38.8125 6.390625 42.859375 10.171875 \r\nQ 46.921875 13.96875 46.921875 20.515625 \r\nQ 46.921875 27.09375 42.890625 30.859375 \r\nQ 38.875 34.625 31.78125 34.625 \r\nz\r\nM 21.921875 38.8125 \r\nQ 15.578125 40.375 12.03125 44.71875 \r\nQ 8.5 49.078125 8.5 55.328125 \r\nQ 8.5 64.0625 14.71875 69.140625 \r\nQ 20.953125 74.21875 31.78125 74.21875 \r\nQ 42.671875 74.21875 48.875 69.140625 \r\nQ 55.078125 64.0625 55.078125 55.328125 \r\nQ 55.078125 49.078125 51.53125 44.71875 \r\nQ 48 40.375 41.703125 38.8125 \r\nQ 48.828125 37.15625 52.796875 32.3125 \r\nQ 56.78125 27.484375 56.78125 20.515625 \r\nQ 56.78125 9.90625 50.3125 4.234375 \r\nQ 43.84375 -1.421875 31.78125 -1.421875 \r\nQ 19.734375 -1.421875 13.25 4.234375 \r\nQ 6.78125 9.90625 6.78125 20.515625 \r\nQ 6.78125 27.484375 10.78125 32.3125 \r\nQ 14.796875 37.15625 21.921875 38.8125 \r\nz\r\nM 18.3125 54.390625 \r\nQ 18.3125 48.734375 21.84375 45.5625 \r\nQ 25.390625 42.390625 31.78125 42.390625 \r\nQ 38.140625 42.390625 41.71875 45.5625 \r\nQ 45.3125 48.734375 45.3125 54.390625 \r\nQ 45.3125 60.0625 41.71875 63.234375 \r\nQ 38.140625 66.40625 31.78125 66.40625 \r\nQ 25.390625 66.40625 21.84375 63.234375 \r\nQ 18.3125 60.0625 18.3125 54.390625 \r\nz\r\n\" id=\"DejaVuSans-56\"/>\r\n       </defs>\r\n       <use xlink:href=\"#DejaVuSans-56\"/>\r\n       <use x=\"63.623047\" xlink:href=\"#DejaVuSans-48\"/>\r\n      </g>\r\n     </g>\r\n    </g>\r\n   </g>\r\n   <g id=\"patch_13\">\r\n    <path d=\"M 26.925 224.64 \r\nL 26.925 7.2 \r\n\" style=\"fill:none;stroke:#000000;stroke-linecap:square;stroke-linejoin:miter;stroke-width:0.8;\"/>\r\n   </g>\r\n   <g id=\"patch_14\">\r\n    <path d=\"M 361.725 224.64 \r\nL 361.725 7.2 \r\n\" style=\"fill:none;stroke:#000000;stroke-linecap:square;stroke-linejoin:miter;stroke-width:0.8;\"/>\r\n   </g>\r\n   <g id=\"patch_15\">\r\n    <path d=\"M 26.925 224.64 \r\nL 361.725 224.64 \r\n\" style=\"fill:none;stroke:#000000;stroke-linecap:square;stroke-linejoin:miter;stroke-width:0.8;\"/>\r\n   </g>\r\n   <g id=\"patch_16\">\r\n    <path d=\"M 26.925 7.2 \r\nL 361.725 7.2 \r\n\" style=\"fill:none;stroke:#000000;stroke-linecap:square;stroke-linejoin:miter;stroke-width:0.8;\"/>\r\n   </g>\r\n  </g>\r\n </g>\r\n <defs>\r\n  <clipPath id=\"p59e90a9295\">\r\n   <rect height=\"217.44\" width=\"334.8\" x=\"26.925\" y=\"7.2\"/>\r\n  </clipPath>\r\n </defs>\r\n</svg>\r\n",
      "image/png": "[encoded data removed]"
     },
     "metadata": {
      "needs_background": "light"
     }
    }
   ],
   "source": [
    "results.resid.hist();"
   ]
  },
  {
   "source": [
    "### Kitchen Sink Model\n",
    "Our `kitchen sink` model with nearly all regressors performed quite poorly, with an R<sup>2</sup> value of ~0.44. \n",
    "It appears that the following regressors had little to no predictive significance:\n",
    "- Year of Birth\n",
    "- Age\n",
    "- Employment Status\n",
    "\n",
    "For the next attempt, I will remove these values."
   ],
   "cell_type": "markdown",
   "metadata": {}
  },
  {
   "cell_type": "code",
   "execution_count": 29,
   "metadata": {},
   "outputs": [
    {
     "output_type": "execute_result",
     "data": {
      "text/plain": [
       "   time_on_the_job  location_Atlanta, GA  location_Austin, TX  \\\n",
       "0        22.885246                     0                    0   \n",
       "\n",
       "   location_Chicago, IL  location_Mountain View, CA  sex_F  tenure_id  \\\n",
       "0                     0                           1      1          2   \n",
       "\n",
       "   tenure_1 to less than 2 years  tenure_2 to less than 4 years  \\\n",
       "0                              1                              0   \n",
       "\n",
       "   tenure_4 to less than 6 years  tenure_6 months to less than 1 year  \n",
       "0                              0                                    0  "
      ],
      "text/html": "<div>\n<style scoped>\n    .dataframe tbody tr th:only-of-type {\n        vertical-align: middle;\n    }\n\n    .dataframe tbody tr th {\n        vertical-align: top;\n    }\n\n    .dataframe thead th {\n        text-align: right;\n    }\n</style>\n<table border=\"1\" class=\"dataframe\">\n  <thead>\n    <tr style=\"text-align: right;\">\n      <th></th>\n      <th>time_on_the_job</th>\n      <th>location_Atlanta, GA</th>\n      <th>location_Austin, TX</th>\n      <th>location_Chicago, IL</th>\n      <th>location_Mountain View, CA</th>\n      <th>sex_F</th>\n      <th>tenure_id</th>\n      <th>tenure_1 to less than 2 years</th>\n      <th>tenure_2 to less than 4 years</th>\n      <th>tenure_4 to less than 6 years</th>\n      <th>tenure_6 months to less than 1 year</th>\n    </tr>\n  </thead>\n  <tbody>\n    <tr>\n      <th>0</th>\n      <td>22.885246</td>\n      <td>0</td>\n      <td>0</td>\n      <td>0</td>\n      <td>1</td>\n      <td>1</td>\n      <td>2</td>\n      <td>1</td>\n      <td>0</td>\n      <td>0</td>\n      <td>0</td>\n    </tr>\n  </tbody>\n</table>\n</div>"
     },
     "metadata": {},
     "execution_count": 29
    }
   ],
   "source": [
    "# Assign numerical and dummy-encoded variables to a list for modeling\n",
    "categorical3 = categorical.copy()\n",
    "categorical3 = list(set(categorical3) - {'department','age','employment_status'})\n",
    "variables2 = ['time_on_the_job']\n",
    "for category in categorical3:\n",
    "    variables2.extend([c for c in dum_df.columns if c.startswith(category)])\n",
    "dum_df[variables2].head(1)"
   ]
  },
  {
   "cell_type": "code",
   "execution_count": 30,
   "metadata": {},
   "outputs": [
    {
     "output_type": "stream",
     "name": "stderr",
     "text": [
      "<ipython-input-30-8c30f12b0590>:3: SettingWithCopyWarning:\n\n\nA value is trying to be set on a copy of a slice from a DataFrame.\nTry using .loc[row_indexer,col_indexer] = value instead\n\nSee the caveats in the documentation: https://pandas.pydata.org/pandas-docs/stable/user_guide/indexing.html#returning-a-view-versus-a-copy\n\n"
     ]
    },
    {
     "output_type": "execute_result",
     "data": {
      "text/plain": [
       "<class 'statsmodels.iolib.summary.Summary'>\n",
       "\"\"\"\n",
       "                            OLS Regression Results                            \n",
       "==============================================================================\n",
       "Dep. Variable:                overall   R-squared:                       0.427\n",
       "Model:                            OLS   Adj. R-squared:                  0.411\n",
       "Method:                 Least Squares   F-statistic:                     27.52\n",
       "Date:                Wed, 16 Jun 2021   Prob (F-statistic):           3.74e-39\n",
       "Time:                        21:53:43   Log-Likelihood:                 583.49\n",
       "No. Observations:                 381   AIC:                            -1145.\n",
       "Df Residuals:                     370   BIC:                            -1102.\n",
       "Df Model:                          10                                         \n",
       "Covariance Type:            nonrobust                                         \n",
       "=======================================================================================================\n",
       "                                          coef    std err          t      P>|t|      [0.025      0.975]\n",
       "-------------------------------------------------------------------------------------------------------\n",
       "time_on_the_job                         0.0030      0.001      5.524      0.000       0.002       0.004\n",
       "location_Atlanta, GA                   -0.0781      0.025     -3.140      0.002      -0.127      -0.029\n",
       "location_Austin, TX                    -0.0737      0.028     -2.666      0.008      -0.128      -0.019\n",
       "location_Chicago, IL                   -0.0517      0.019     -2.712      0.007      -0.089      -0.014\n",
       "location_Mountain View, CA              0.0371      0.007      4.952      0.000       0.022       0.052\n",
       "sex_F                                  -0.0077      0.006     -1.333      0.183      -0.019       0.004\n",
       "tenure_id                              -0.0224      0.007     -3.280      0.001      -0.036      -0.009\n",
       "tenure_1 to less than 2 years          -0.0139      0.007     -2.020      0.044      -0.027      -0.000\n",
       "tenure_2 to less than 4 years          -0.0215      0.005     -4.318      0.000      -0.031      -0.012\n",
       "tenure_4 to less than 6 years           0.0206      0.007      2.866      0.004       0.006       0.035\n",
       "tenure_6 months to less than 1 year    -0.0125      0.011     -1.185      0.237      -0.033       0.008\n",
       "intercept                               0.7282      0.010     73.055      0.000       0.709       0.748\n",
       "==============================================================================\n",
       "Omnibus:                       14.594   Durbin-Watson:                   1.997\n",
       "Prob(Omnibus):                  0.001   Jarque-Bera (JB):               15.634\n",
       "Skew:                          -0.495   Prob(JB):                     0.000403\n",
       "Kurtosis:                       2.947   Cond. No.                     2.70e+17\n",
       "==============================================================================\n",
       "\n",
       "Notes:\n",
       "[1] Standard Errors assume that the covariance matrix of the errors is correctly specified.\n",
       "[2] The smallest eigenvalue is 5.14e-30. This might indicate that there are\n",
       "strong multicollinearity problems or that the design matrix is singular.\n",
       "\"\"\""
      ],
      "text/html": "<table class=\"simpletable\">\n<caption>OLS Regression Results</caption>\n<tr>\n  <th>Dep. Variable:</th>         <td>overall</td>     <th>  R-squared:         </th> <td>   0.427</td>\n</tr>\n<tr>\n  <th>Model:</th>                   <td>OLS</td>       <th>  Adj. R-squared:    </th> <td>   0.411</td>\n</tr>\n<tr>\n  <th>Method:</th>             <td>Least Squares</td>  <th>  F-statistic:       </th> <td>   27.52</td>\n</tr>\n<tr>\n  <th>Date:</th>             <td>Wed, 16 Jun 2021</td> <th>  Prob (F-statistic):</th> <td>3.74e-39</td>\n</tr>\n<tr>\n  <th>Time:</th>                 <td>21:53:43</td>     <th>  Log-Likelihood:    </th> <td>  583.49</td>\n</tr>\n<tr>\n  <th>No. Observations:</th>      <td>   381</td>      <th>  AIC:               </th> <td>  -1145.</td>\n</tr>\n<tr>\n  <th>Df Residuals:</th>          <td>   370</td>      <th>  BIC:               </th> <td>  -1102.</td>\n</tr>\n<tr>\n  <th>Df Model:</th>              <td>    10</td>      <th>                     </th>     <td> </td>   \n</tr>\n<tr>\n  <th>Covariance Type:</th>      <td>nonrobust</td>    <th>                     </th>     <td> </td>   \n</tr>\n</table>\n<table class=\"simpletable\">\n<tr>\n                   <td></td>                      <th>coef</th>     <th>std err</th>      <th>t</th>      <th>P>|t|</th>  <th>[0.025</th>    <th>0.975]</th>  \n</tr>\n<tr>\n  <th>time_on_the_job</th>                     <td>    0.0030</td> <td>    0.001</td> <td>    5.524</td> <td> 0.000</td> <td>    0.002</td> <td>    0.004</td>\n</tr>\n<tr>\n  <th>location_Atlanta, GA</th>                <td>   -0.0781</td> <td>    0.025</td> <td>   -3.140</td> <td> 0.002</td> <td>   -0.127</td> <td>   -0.029</td>\n</tr>\n<tr>\n  <th>location_Austin, TX</th>                 <td>   -0.0737</td> <td>    0.028</td> <td>   -2.666</td> <td> 0.008</td> <td>   -0.128</td> <td>   -0.019</td>\n</tr>\n<tr>\n  <th>location_Chicago, IL</th>                <td>   -0.0517</td> <td>    0.019</td> <td>   -2.712</td> <td> 0.007</td> <td>   -0.089</td> <td>   -0.014</td>\n</tr>\n<tr>\n  <th>location_Mountain View, CA</th>          <td>    0.0371</td> <td>    0.007</td> <td>    4.952</td> <td> 0.000</td> <td>    0.022</td> <td>    0.052</td>\n</tr>\n<tr>\n  <th>sex_F</th>                               <td>   -0.0077</td> <td>    0.006</td> <td>   -1.333</td> <td> 0.183</td> <td>   -0.019</td> <td>    0.004</td>\n</tr>\n<tr>\n  <th>tenure_id</th>                           <td>   -0.0224</td> <td>    0.007</td> <td>   -3.280</td> <td> 0.001</td> <td>   -0.036</td> <td>   -0.009</td>\n</tr>\n<tr>\n  <th>tenure_1 to less than 2 years</th>       <td>   -0.0139</td> <td>    0.007</td> <td>   -2.020</td> <td> 0.044</td> <td>   -0.027</td> <td>   -0.000</td>\n</tr>\n<tr>\n  <th>tenure_2 to less than 4 years</th>       <td>   -0.0215</td> <td>    0.005</td> <td>   -4.318</td> <td> 0.000</td> <td>   -0.031</td> <td>   -0.012</td>\n</tr>\n<tr>\n  <th>tenure_4 to less than 6 years</th>       <td>    0.0206</td> <td>    0.007</td> <td>    2.866</td> <td> 0.004</td> <td>    0.006</td> <td>    0.035</td>\n</tr>\n<tr>\n  <th>tenure_6 months to less than 1 year</th> <td>   -0.0125</td> <td>    0.011</td> <td>   -1.185</td> <td> 0.237</td> <td>   -0.033</td> <td>    0.008</td>\n</tr>\n<tr>\n  <th>intercept</th>                           <td>    0.7282</td> <td>    0.010</td> <td>   73.055</td> <td> 0.000</td> <td>    0.709</td> <td>    0.748</td>\n</tr>\n</table>\n<table class=\"simpletable\">\n<tr>\n  <th>Omnibus:</th>       <td>14.594</td> <th>  Durbin-Watson:     </th> <td>   1.997</td>\n</tr>\n<tr>\n  <th>Prob(Omnibus):</th> <td> 0.001</td> <th>  Jarque-Bera (JB):  </th> <td>  15.634</td>\n</tr>\n<tr>\n  <th>Skew:</th>          <td>-0.495</td> <th>  Prob(JB):          </th> <td>0.000403</td>\n</tr>\n<tr>\n  <th>Kurtosis:</th>      <td> 2.947</td> <th>  Cond. No.          </th> <td>2.70e+17</td>\n</tr>\n</table><br/><br/>Notes:<br/>[1] Standard Errors assume that the covariance matrix of the errors is correctly specified.<br/>[2] The smallest eigenvalue is 5.14e-30. This might indicate that there are<br/>strong multicollinearity problems or that the design matrix is singular."
     },
     "metadata": {},
     "execution_count": 30
    }
   ],
   "source": [
    "# Assign subset variables for model inputs\n",
    "X = dum_df[variables2]\n",
    "X['intercept'] = 1\n",
    "y = dum_df['overall']\n",
    "\n",
    "# Run OLS model\n",
    "model = sm.OLS(y, X)\n",
    "results = model.fit()\n",
    "results.summary()"
   ]
  },
  {
   "source": [
    "### Reduced Complexity Model\n",
    "The model with seemingly unimportant regressors removed actually performed slightly worse, with an R<sup>2</sup> value of 0.43. While this technically a decrease in model performance, the simpler nature of the model is likely to be worthwhile for explainability and ability to generalize to new data (avoids overfitting)."
   ],
   "cell_type": "markdown",
   "metadata": {}
  },
  {
   "cell_type": "code",
   "execution_count": 31,
   "metadata": {},
   "outputs": [
    {
     "output_type": "display_data",
     "data": {
      "application/vnd.plotly.v1+json": {
       "config": {
        "plotlyServerURL": "https://plot.ly"
       },
       "data": [
        {
         "hovertemplate": "x=%{x}<br>y=%{y}<extra></extra>",
         "legendgroup": "",
         "marker": {
          "color": "#636efa",
          "symbol": "circle"
         },
         "mode": "markers",
         "name": "",
         "orientation": "v",
         "showlegend": false,
         "type": "scatter",
         "x": [
          0,
          1,
          2,
          3,
          4,
          5,
          6,
          7,
          8,
          9,
          10,
          11,
          12,
          13,
          14,
          15,
          16,
          17,
          18,
          19,
          20,
          21,
          22,
          23,
          24,
          25,
          26,
          27,
          28,
          29,
          30,
          31,
          32,
          33,
          34,
          35,
          36,
          37,
          38,
          39,
          40,
          41,
          42,
          43,
          44,
          45,
          46,
          47,
          48,
          49,
          50,
          51,
          52,
          53,
          54,
          55,
          56,
          57,
          58,
          59,
          60,
          61,
          62,
          63,
          64,
          65,
          66,
          67,
          68,
          69,
          70,
          71,
          72,
          73,
          74,
          75,
          76,
          77,
          78,
          79,
          80,
          81,
          82,
          83,
          84,
          85,
          86,
          87,
          88,
          89,
          90,
          91,
          92,
          93,
          94,
          95,
          96,
          97,
          98,
          99,
          100,
          101,
          102,
          103,
          104,
          105,
          106,
          107,
          108,
          109,
          110,
          111,
          112,
          113,
          114,
          115,
          116,
          117,
          118,
          119,
          120,
          121,
          122,
          123,
          124,
          125,
          126,
          127,
          128,
          129,
          130,
          131,
          132,
          133,
          134,
          135,
          136,
          137,
          138,
          139,
          140,
          141,
          142,
          143,
          144,
          145,
          146,
          147,
          148,
          149,
          150,
          151,
          152,
          153,
          154,
          155,
          156,
          157,
          158,
          159,
          160,
          161,
          162,
          163,
          164,
          165,
          166,
          167,
          168,
          169,
          170,
          171,
          172,
          173,
          174,
          175,
          176,
          177,
          178,
          179,
          180,
          181,
          182,
          183,
          184,
          185,
          186,
          187,
          188,
          189,
          190,
          191,
          192,
          193,
          194,
          195,
          196,
          197,
          198,
          199,
          200,
          201,
          202,
          203,
          204,
          205,
          206,
          207,
          208,
          209,
          210,
          211,
          212,
          213,
          214,
          215,
          216,
          217,
          218,
          219,
          220,
          221,
          222,
          223,
          224,
          225,
          226,
          227,
          228,
          229,
          230,
          231,
          232,
          233,
          234,
          235,
          236,
          237,
          238,
          239,
          240,
          241,
          242,
          243,
          244,
          245,
          246,
          247,
          248,
          249,
          250,
          251,
          252,
          253,
          254,
          255,
          256,
          257,
          258,
          259,
          260,
          261,
          262,
          263,
          264,
          265,
          266,
          267,
          268,
          269,
          270,
          271,
          272,
          273,
          274,
          275,
          276,
          277,
          278,
          279,
          280,
          281,
          282,
          283,
          284,
          285,
          286,
          287,
          288,
          289,
          290,
          291,
          292,
          293,
          294,
          295,
          296,
          297,
          298,
          299,
          300,
          301,
          302,
          303,
          304,
          305,
          306,
          307,
          308,
          309,
          310,
          311,
          312,
          313,
          314,
          315,
          316,
          317,
          318,
          319,
          320,
          321,
          322,
          323,
          324,
          325,
          326,
          327,
          328,
          329,
          330,
          331,
          332,
          333,
          334,
          335,
          336,
          337,
          338,
          339,
          340,
          341,
          342,
          343,
          344,
          345,
          346,
          347,
          348,
          349,
          350,
          351,
          352,
          353,
          354,
          355,
          356,
          357,
          358,
          359,
          360,
          361,
          362,
          363,
          364,
          365,
          366,
          367,
          368,
          369,
          370,
          371,
          372,
          373,
          374,
          375,
          376,
          377,
          378,
          379,
          380
         ],
         "xaxis": "x",
         "y": [
          -0.04514240593859287,
          0.08348867699254436,
          0.019994827679305938,
          -0.08484729990414586,
          0.015589780528564967,
          0.003532514462350922,
          0.08997818639349764,
          -0.09623897772031964,
          -0.01066980003433815,
          -0.06321565750426161,
          0.05015488253143641,
          -0.023361226787391942,
          0.003162352181737993,
          0.012135925695063055,
          0.053836092912498246,
          0.04058079389434044,
          0.0582951530297654,
          -0.14204412623785612,
          -0.012532545652101046,
          -0.031967997856734987,
          -0.004833062735933313,
          0.034728373527574075,
          0.01401511649831988,
          0.0636703471629434,
          0.02360534339774678,
          -0.0007107929045228056,
          0.00572133616484205,
          -0.017438895937994525,
          0.03221151829698099,
          0.06407610756573778,
          0.01105693386471196,
          -0.05324590393491224,
          -0.04232929440457456,
          0.07548386056289647,
          -0.04108863060105761,
          -0.02963251140101919,
          -0.03033145751755406,
          0.010348047965718532,
          -0.032427172239376745,
          -0.005261466804094117,
          -0.0006668450550029181,
          -0.010670187838165868,
          -0.0803271638552917,
          -0.04547954027027945,
          -0.06564559122224123,
          -0.0218495898523815,
          -0.036791265017434904,
          0.05893385657794048,
          0.04774158164641795,
          0.00026866728125041206,
          -0.0034218594223280885,
          0.04011482641208908,
          -0.13030676188734758,
          -0.11320796615131601,
          0.06647964324580136,
          -0.06046098013461365,
          -0.0072127421687320226,
          -0.07832913680176201,
          0.045304253929364324,
          0.005939865593574956,
          0.0033455344961237365,
          0.041759836329770095,
          -0.03112062235435109,
          0.010655414498416116,
          0.04000511070930901,
          -0.07273626331775773,
          -0.06371243078989641,
          0.028542198409660435,
          0.044541355063844934,
          -0.11666993978539708,
          -0.08045914805564691,
          0.0055400482124838835,
          -0.08616892918675512,
          0.045438834326609334,
          0.08993201674645279,
          0.0633669469819872,
          0.076854664531944,
          -0.03733523186368182,
          -0.04590246958106303,
          -0.04837374978434883,
          0.018007579652321914,
          -0.10127037383480308,
          0.09715751419806318,
          -0.013894720015585782,
          -0.07782435159677292,
          -0.010308600710426608,
          0.0776586523051307,
          -0.025315987379484817,
          -0.09228246339117552,
          0.004129326023165181,
          0.02729139690720017,
          0.04820698956390779,
          0.05066249529460087,
          -0.09087754633479672,
          -0.06370536300552943,
          0.10426922966258223,
          -0.020857739420517163,
          -0.12057340550331752,
          -0.04087850766947854,
          -0.03457929361750112,
          0.05682880342548757,
          0.026756360431624215,
          0.03240959471223681,
          -0.006932548034474073,
          0.05784530798145748,
          0.04135124917910715,
          -0.012638295003139621,
          -0.03242860908848533,
          -0.01565274275433315,
          0.08915680138129356,
          0.0011502396290030692,
          0.08265541449841629,
          -0.00906610005476216,
          0.06707357142702874,
          -0.01164511929086598,
          -0.043995559205306733,
          -0.003227041620005311,
          -0.1030131710181077,
          -0.055629824404209605,
          0.026949194831893952,
          0.06833073676529489,
          -0.12218224663502297,
          0.059058259565681226,
          0.010146443795876925,
          0.018777239030439374,
          -0.029831200235331368,
          -0.08363861388783056,
          0.11838748679621391,
          0.061411705265607575,
          -0.06644382653700243,
          0.0109627810311137,
          0.005955428462756651,
          0.01275286677773968,
          0.04671041619809335,
          -0.05154120125231265,
          0.006457893762260691,
          0.054427193609235425,
          0.019955451131871138,
          0.022962623428301132,
          -0.04535137860119365,
          -0.0013628580366895626,
          -0.03879769295247182,
          -0.008360191804218098,
          -0.000809762167768735,
          -0.003857568901901698,
          0.011655760015095384,
          -0.034395791368134865,
          -0.015990648254192497,
          0.047591981813755346,
          0.045002179449377455,
          -0.0700492173522611,
          0.09057083144276756,
          0.07758549907983447,
          0.08532660989815621,
          0.05594528110651642,
          0.046894193132216655,
          -0.013605452121650319,
          -0.11161426153502796,
          0.02361942889695212,
          -0.03914884060572077,
          -0.02644382653700239,
          0.018534376962953014,
          -0.06462906410579294,
          0.03210478024265029,
          -0.05981631100425677,
          -0.10756896827049,
          0.06261532469892783,
          -0.1348009527543914,
          -0.039685539355940325,
          -0.1862613129909284,
          -0.04978723267176244,
          0.050742774232404475,
          0.0035367554988495753,
          -0.09234418363564922,
          0.024303406764042523,
          -0.008661033189972023,
          0.011379099178527863,
          0.01956298923172195,
          -0.023545831238943382,
          0.09373265799752506,
          -0.001060288189731362,
          -0.023810011270827047,
          0.00373411863219264,
          0.04137934723129677,
          0.025473500064895127,
          0.04908103816474563,
          -0.011840505754246666,
          -0.03141104396764227,
          -0.006689953919653879,
          0.00435244176509364,
          0.0409710347653911,
          0.049069716332062474,
          -0.01096688273874713,
          0.01917494294557498,
          0.0043197026291861285,
          0.06043197039507764,
          0.03829106959607931,
          0.025709856729346225,
          0.047582699732380385,
          0.017286520098667824,
          -0.04009634753570224,
          0.04691816249855241,
          -0.025055491503991778,
          0.06932010449512072,
          0.020709900162798833,
          -0.06925043266798558,
          0.05169480989545905,
          0.06448894876471678,
          0.038322714378336675,
          -0.08030050376865494,
          0.03703311726125269,
          0.05334820177888422,
          0.04111323859624405,
          0.006701358731946994,
          0.06530833736305064,
          0.07318104543238635,
          -0.011471612404787557,
          0.0603524417650938,
          -0.008971947221164012,
          0.08047083383242382,
          -0.023087939988259087,
          0.023407216176340118,
          0.04323618206576185,
          -0.03417186346790735,
          0.0029559879315038673,
          0.005611332765487309,
          0.08859122039889411,
          0.0702998393656512,
          -0.015692064502883962,
          0.03445154596203792,
          -0.046044182587111404,
          0.02014695983117154,
          -0.015421427134758248,
          0.002359369798401789,
          -0.0016204085055812056,
          0.051054669498175276,
          -0.04800898780171381,
          0.02651091879197609,
          0.03919923894912247,
          -0.020919209888023205,
          0.04018772436263629,
          0.045221135231874876,
          0.07809033989401426,
          -0.02735289558511622,
          0.006315633582152147,
          0.06439838599862435,
          -0.0038507758022917615,
          0.028637452328999724,
          -0.01367767457179514,
          -0.056683408902672205,
          0.053130572465782344,
          -0.029933084834106838,
          0.027154676765816288,
          0.036753848012318735,
          -0.002600431072685927,
          0.05241611982932104,
          -0.0011012781347100598,
          -0.009285055068833148,
          -0.05056885410112977,
          -0.03511421820487315,
          -0.0068158078847647685,
          -0.04088221000156822,
          0.030804856728266272,
          0.056108307997236206,
          -0.001484682568712814,
          -0.0136338371019884,
          -0.006627445868313098,
          0.023752075961673058,
          0.0257808665975926,
          -0.003660205768558855,
          -0.03305378278669613,
          -0.034686976301063654,
          -0.003908199471318374,
          0.04031417294748474,
          0.03832100566104091,
          0.00859663144827938,
          -0.008086077487657328,
          -0.006478448937850101,
          0.0428723928425252,
          0.08315561543138361,
          0.09235111606412438,
          0.018951746895005228,
          -0.04478954047175154,
          0.0032656188307381706,
          -0.031142047506110826,
          -0.04430971883761403,
          0.02254143804508879,
          0.06083122539483676,
          0.03963048277696879,
          -0.0007735886524379287,
          0.034756360431624334,
          -0.02193185847196466,
          0.05328050806181284,
          0.01570934069405161,
          -0.06929879887086554,
          -0.03150120677257651,
          -0.0554078409355383,
          -0.0073114237354036105,
          -0.1301978095042049,
          0.04138387596437021,
          -0.012553519570668192,
          -0.0002857049875367723,
          -0.0641628286708752,
          -0.12672386306844785,
          0.06591174859576265,
          -0.12443754947268715,
          -0.0771401415720564,
          -0.016103196984567303,
          0.013031890899110943,
          0.043238734128873135,
          -0.06898435154198346,
          0.017891369296932802,
          0.051934033828646586,
          -0.07616917647109789,
          -0.016201878551239002,
          -0.07378270393868935,
          0.015632459446931035,
          -0.017289583801906372,
          0.03813991867879274,
          0.006207299929596788,
          0.02460850893020361,
          -0.008577220954478104,
          -0.0008140032042674994,
          0.002703197543004743,
          -0.09906782867195518,
          -0.10721940517457984,
          0.055113435842862324,
          0.05189443739533861,
          -0.040206063238482304,
          0.04779752682902383,
          -0.07772213550154394,
          -0.07961717687055747,
          -0.04670722550613127,
          -0.0024632048573448584,
          -0.037585498408158835,
          -0.013745817171305075,
          -0.0002151207046285908,
          -0.08456419043435848,
          -0.03426881937245119,
          0.029415583029688275,
          0.02068870635835862,
          0.05401534784563922,
          0.03229744006541635,
          0.023315327709278577,
          -0.042149332921611826,
          0.07284465399124385,
          0.029308782662437527,
          -0.05751383163711443,
          0.015137630592852336,
          0.006597109659381428,
          -0.04272319315383244,
          -0.06724911662431343,
          0.07729624747943009,
          -0.11044994972199695,
          0.07542780311570707,
          -0.007345720267465605,
          0.0101461127618645,
          -0.056545405587449804,
          0.04199006387542181,
          -0.06288674839193853,
          0.03511254912974959,
          -0.06155674818447121,
          0.023798134460578768,
          0.044551255875806994,
          0.026833449349141447,
          0.039665543745112886,
          0.030230825911275017,
          -0.08149147566832271,
          -0.1003577698348691,
          0.05794344972727539,
          -0.06894400480085539,
          0.027682932413535033,
          -0.03586662636804805,
          0.06665535814916079,
          0.061850667078388266,
          0.0014499307457788158,
          0.024950380781804116,
          0.05475678669714179,
          0.040706746735838184,
          0.020983907712557426,
          0.07991095787571079
         ],
         "yaxis": "y"
        }
       ],
       "layout": {
        "legend": {
         "tracegroupgap": 0
        },
        "margin": {
         "t": 60
        },
        "template": {
         "data": {
          "bar": [
           {
            "error_x": {
             "color": "#2a3f5f"
            },
            "error_y": {
             "color": "#2a3f5f"
            },
            "marker": {
             "line": {
              "color": "#E5ECF6",
              "width": 0.5
             }
            },
            "type": "bar"
           }
          ],
          "barpolar": [
           {
            "marker": {
             "line": {
              "color": "#E5ECF6",
              "width": 0.5
             }
            },
            "type": "barpolar"
           }
          ],
          "carpet": [
           {
            "aaxis": {
             "endlinecolor": "#2a3f5f",
             "gridcolor": "white",
             "linecolor": "white",
             "minorgridcolor": "white",
             "startlinecolor": "#2a3f5f"
            },
            "baxis": {
             "endlinecolor": "#2a3f5f",
             "gridcolor": "white",
             "linecolor": "white",
             "minorgridcolor": "white",
             "startlinecolor": "#2a3f5f"
            },
            "type": "carpet"
           }
          ],
          "choropleth": [
           {
            "colorbar": {
             "outlinewidth": 0,
             "ticks": ""
            },
            "type": "choropleth"
           }
          ],
          "contour": [
           {
            "colorbar": {
             "outlinewidth": 0,
             "ticks": ""
            },
            "colorscale": [
             [
              0,
              "#0d0887"
             ],
             [
              0.1111111111111111,
              "#46039f"
             ],
             [
              0.2222222222222222,
              "#7201a8"
             ],
             [
              0.3333333333333333,
              "#9c179e"
             ],
             [
              0.4444444444444444,
              "#bd3786"
             ],
             [
              0.5555555555555556,
              "#d8576b"
             ],
             [
              0.6666666666666666,
              "#ed7953"
             ],
             [
              0.7777777777777778,
              "#fb9f3a"
             ],
             [
              0.8888888888888888,
              "#fdca26"
             ],
             [
              1,
              "#f0f921"
             ]
            ],
            "type": "contour"
           }
          ],
          "contourcarpet": [
           {
            "colorbar": {
             "outlinewidth": 0,
             "ticks": ""
            },
            "type": "contourcarpet"
           }
          ],
          "heatmap": [
           {
            "colorbar": {
             "outlinewidth": 0,
             "ticks": ""
            },
            "colorscale": [
             [
              0,
              "#0d0887"
             ],
             [
              0.1111111111111111,
              "#46039f"
             ],
             [
              0.2222222222222222,
              "#7201a8"
             ],
             [
              0.3333333333333333,
              "#9c179e"
             ],
             [
              0.4444444444444444,
              "#bd3786"
             ],
             [
              0.5555555555555556,
              "#d8576b"
             ],
             [
              0.6666666666666666,
              "#ed7953"
             ],
             [
              0.7777777777777778,
              "#fb9f3a"
             ],
             [
              0.8888888888888888,
              "#fdca26"
             ],
             [
              1,
              "#f0f921"
             ]
            ],
            "type": "heatmap"
           }
          ],
          "heatmapgl": [
           {
            "colorbar": {
             "outlinewidth": 0,
             "ticks": ""
            },
            "colorscale": [
             [
              0,
              "#0d0887"
             ],
             [
              0.1111111111111111,
              "#46039f"
             ],
             [
              0.2222222222222222,
              "#7201a8"
             ],
             [
              0.3333333333333333,
              "#9c179e"
             ],
             [
              0.4444444444444444,
              "#bd3786"
             ],
             [
              0.5555555555555556,
              "#d8576b"
             ],
             [
              0.6666666666666666,
              "#ed7953"
             ],
             [
              0.7777777777777778,
              "#fb9f3a"
             ],
             [
              0.8888888888888888,
              "#fdca26"
             ],
             [
              1,
              "#f0f921"
             ]
            ],
            "type": "heatmapgl"
           }
          ],
          "histogram": [
           {
            "marker": {
             "colorbar": {
              "outlinewidth": 0,
              "ticks": ""
             }
            },
            "type": "histogram"
           }
          ],
          "histogram2d": [
           {
            "colorbar": {
             "outlinewidth": 0,
             "ticks": ""
            },
            "colorscale": [
             [
              0,
              "#0d0887"
             ],
             [
              0.1111111111111111,
              "#46039f"
             ],
             [
              0.2222222222222222,
              "#7201a8"
             ],
             [
              0.3333333333333333,
              "#9c179e"
             ],
             [
              0.4444444444444444,
              "#bd3786"
             ],
             [
              0.5555555555555556,
              "#d8576b"
             ],
             [
              0.6666666666666666,
              "#ed7953"
             ],
             [
              0.7777777777777778,
              "#fb9f3a"
             ],
             [
              0.8888888888888888,
              "#fdca26"
             ],
             [
              1,
              "#f0f921"
             ]
            ],
            "type": "histogram2d"
           }
          ],
          "histogram2dcontour": [
           {
            "colorbar": {
             "outlinewidth": 0,
             "ticks": ""
            },
            "colorscale": [
             [
              0,
              "#0d0887"
             ],
             [
              0.1111111111111111,
              "#46039f"
             ],
             [
              0.2222222222222222,
              "#7201a8"
             ],
             [
              0.3333333333333333,
              "#9c179e"
             ],
             [
              0.4444444444444444,
              "#bd3786"
             ],
             [
              0.5555555555555556,
              "#d8576b"
             ],
             [
              0.6666666666666666,
              "#ed7953"
             ],
             [
              0.7777777777777778,
              "#fb9f3a"
             ],
             [
              0.8888888888888888,
              "#fdca26"
             ],
             [
              1,
              "#f0f921"
             ]
            ],
            "type": "histogram2dcontour"
           }
          ],
          "mesh3d": [
           {
            "colorbar": {
             "outlinewidth": 0,
             "ticks": ""
            },
            "type": "mesh3d"
           }
          ],
          "parcoords": [
           {
            "line": {
             "colorbar": {
              "outlinewidth": 0,
              "ticks": ""
             }
            },
            "type": "parcoords"
           }
          ],
          "pie": [
           {
            "automargin": true,
            "type": "pie"
           }
          ],
          "scatter": [
           {
            "marker": {
             "colorbar": {
              "outlinewidth": 0,
              "ticks": ""
             }
            },
            "type": "scatter"
           }
          ],
          "scatter3d": [
           {
            "line": {
             "colorbar": {
              "outlinewidth": 0,
              "ticks": ""
             }
            },
            "marker": {
             "colorbar": {
              "outlinewidth": 0,
              "ticks": ""
             }
            },
            "type": "scatter3d"
           }
          ],
          "scattercarpet": [
           {
            "marker": {
             "colorbar": {
              "outlinewidth": 0,
              "ticks": ""
             }
            },
            "type": "scattercarpet"
           }
          ],
          "scattergeo": [
           {
            "marker": {
             "colorbar": {
              "outlinewidth": 0,
              "ticks": ""
             }
            },
            "type": "scattergeo"
           }
          ],
          "scattergl": [
           {
            "marker": {
             "colorbar": {
              "outlinewidth": 0,
              "ticks": ""
             }
            },
            "type": "scattergl"
           }
          ],
          "scattermapbox": [
           {
            "marker": {
             "colorbar": {
              "outlinewidth": 0,
              "ticks": ""
             }
            },
            "type": "scattermapbox"
           }
          ],
          "scatterpolar": [
           {
            "marker": {
             "colorbar": {
              "outlinewidth": 0,
              "ticks": ""
             }
            },
            "type": "scatterpolar"
           }
          ],
          "scatterpolargl": [
           {
            "marker": {
             "colorbar": {
              "outlinewidth": 0,
              "ticks": ""
             }
            },
            "type": "scatterpolargl"
           }
          ],
          "scatterternary": [
           {
            "marker": {
             "colorbar": {
              "outlinewidth": 0,
              "ticks": ""
             }
            },
            "type": "scatterternary"
           }
          ],
          "surface": [
           {
            "colorbar": {
             "outlinewidth": 0,
             "ticks": ""
            },
            "colorscale": [
             [
              0,
              "#0d0887"
             ],
             [
              0.1111111111111111,
              "#46039f"
             ],
             [
              0.2222222222222222,
              "#7201a8"
             ],
             [
              0.3333333333333333,
              "#9c179e"
             ],
             [
              0.4444444444444444,
              "#bd3786"
             ],
             [
              0.5555555555555556,
              "#d8576b"
             ],
             [
              0.6666666666666666,
              "#ed7953"
             ],
             [
              0.7777777777777778,
              "#fb9f3a"
             ],
             [
              0.8888888888888888,
              "#fdca26"
             ],
             [
              1,
              "#f0f921"
             ]
            ],
            "type": "surface"
           }
          ],
          "table": [
           {
            "cells": {
             "fill": {
              "color": "#EBF0F8"
             },
             "line": {
              "color": "white"
             }
            },
            "header": {
             "fill": {
              "color": "#C8D4E3"
             },
             "line": {
              "color": "white"
             }
            },
            "type": "table"
           }
          ]
         },
         "layout": {
          "annotationdefaults": {
           "arrowcolor": "#2a3f5f",
           "arrowhead": 0,
           "arrowwidth": 1
          },
          "autotypenumbers": "strict",
          "coloraxis": {
           "colorbar": {
            "outlinewidth": 0,
            "ticks": ""
           }
          },
          "colorscale": {
           "diverging": [
            [
             0,
             "#8e0152"
            ],
            [
             0.1,
             "#c51b7d"
            ],
            [
             0.2,
             "#de77ae"
            ],
            [
             0.3,
             "#f1b6da"
            ],
            [
             0.4,
             "#fde0ef"
            ],
            [
             0.5,
             "#f7f7f7"
            ],
            [
             0.6,
             "#e6f5d0"
            ],
            [
             0.7,
             "#b8e186"
            ],
            [
             0.8,
             "#7fbc41"
            ],
            [
             0.9,
             "#4d9221"
            ],
            [
             1,
             "#276419"
            ]
           ],
           "sequential": [
            [
             0,
             "#0d0887"
            ],
            [
             0.1111111111111111,
             "#46039f"
            ],
            [
             0.2222222222222222,
             "#7201a8"
            ],
            [
             0.3333333333333333,
             "#9c179e"
            ],
            [
             0.4444444444444444,
             "#bd3786"
            ],
            [
             0.5555555555555556,
             "#d8576b"
            ],
            [
             0.6666666666666666,
             "#ed7953"
            ],
            [
             0.7777777777777778,
             "#fb9f3a"
            ],
            [
             0.8888888888888888,
             "#fdca26"
            ],
            [
             1,
             "#f0f921"
            ]
           ],
           "sequentialminus": [
            [
             0,
             "#0d0887"
            ],
            [
             0.1111111111111111,
             "#46039f"
            ],
            [
             0.2222222222222222,
             "#7201a8"
            ],
            [
             0.3333333333333333,
             "#9c179e"
            ],
            [
             0.4444444444444444,
             "#bd3786"
            ],
            [
             0.5555555555555556,
             "#d8576b"
            ],
            [
             0.6666666666666666,
             "#ed7953"
            ],
            [
             0.7777777777777778,
             "#fb9f3a"
            ],
            [
             0.8888888888888888,
             "#fdca26"
            ],
            [
             1,
             "#f0f921"
            ]
           ]
          },
          "colorway": [
           "#636efa",
           "#EF553B",
           "#00cc96",
           "#ab63fa",
           "#FFA15A",
           "#19d3f3",
           "#FF6692",
           "#B6E880",
           "#FF97FF",
           "#FECB52"
          ],
          "font": {
           "color": "#2a3f5f"
          },
          "geo": {
           "bgcolor": "white",
           "lakecolor": "white",
           "landcolor": "#E5ECF6",
           "showlakes": true,
           "showland": true,
           "subunitcolor": "white"
          },
          "hoverlabel": {
           "align": "left"
          },
          "hovermode": "closest",
          "mapbox": {
           "style": "light"
          },
          "paper_bgcolor": "white",
          "plot_bgcolor": "#E5ECF6",
          "polar": {
           "angularaxis": {
            "gridcolor": "white",
            "linecolor": "white",
            "ticks": ""
           },
           "bgcolor": "#E5ECF6",
           "radialaxis": {
            "gridcolor": "white",
            "linecolor": "white",
            "ticks": ""
           }
          },
          "scene": {
           "xaxis": {
            "backgroundcolor": "#E5ECF6",
            "gridcolor": "white",
            "gridwidth": 2,
            "linecolor": "white",
            "showbackground": true,
            "ticks": "",
            "zerolinecolor": "white"
           },
           "yaxis": {
            "backgroundcolor": "#E5ECF6",
            "gridcolor": "white",
            "gridwidth": 2,
            "linecolor": "white",
            "showbackground": true,
            "ticks": "",
            "zerolinecolor": "white"
           },
           "zaxis": {
            "backgroundcolor": "#E5ECF6",
            "gridcolor": "white",
            "gridwidth": 2,
            "linecolor": "white",
            "showbackground": true,
            "ticks": "",
            "zerolinecolor": "white"
           }
          },
          "shapedefaults": {
           "line": {
            "color": "#2a3f5f"
           }
          },
          "ternary": {
           "aaxis": {
            "gridcolor": "white",
            "linecolor": "white",
            "ticks": ""
           },
           "baxis": {
            "gridcolor": "white",
            "linecolor": "white",
            "ticks": ""
           },
           "bgcolor": "#E5ECF6",
           "caxis": {
            "gridcolor": "white",
            "linecolor": "white",
            "ticks": ""
           }
          },
          "title": {
           "x": 0.05
          },
          "xaxis": {
           "automargin": true,
           "gridcolor": "white",
           "linecolor": "white",
           "ticks": "",
           "title": {
            "standoff": 15
           },
           "zerolinecolor": "white",
           "zerolinewidth": 2
          },
          "yaxis": {
           "automargin": true,
           "gridcolor": "white",
           "linecolor": "white",
           "ticks": "",
           "title": {
            "standoff": 15
           },
           "zerolinecolor": "white",
           "zerolinewidth": 2
          }
         }
        },
        "xaxis": {
         "anchor": "y",
         "domain": [
          0,
          1
         ],
         "title": {
          "text": "x"
         }
        },
        "yaxis": {
         "anchor": "x",
         "domain": [
          0,
          1
         ],
         "title": {
          "text": "y"
         }
        }
       }
      },
      "text/html": "<div>                            <div id=\"0751d505-a6fa-4e58-b8f4-3605ac24c00b\" class=\"plotly-graph-div\" style=\"height:525px; width:100%;\"></div>            <script type=\"text/javascript\">                require([\"plotly\"], function(Plotly) {                    window.PLOTLYENV=window.PLOTLYENV || {};                                    if (document.getElementById(\"0751d505-a6fa-4e58-b8f4-3605ac24c00b\")) {                    Plotly.newPlot(                        \"0751d505-a6fa-4e58-b8f4-3605ac24c00b\",                        [{\"hovertemplate\": \"x=%{x}<br>y=%{y}<extra></extra>\", \"legendgroup\": \"\", \"marker\": {\"color\": \"#636efa\", \"symbol\": \"circle\"}, \"mode\": \"markers\", \"name\": \"\", \"orientation\": \"v\", \"showlegend\": false, \"type\": \"scatter\", \"x\": [0, 1, 2, 3, 4, 5, 6, 7, 8, 9, 10, 11, 12, 13, 14, 15, 16, 17, 18, 19, 20, 21, 22, 23, 24, 25, 26, 27, 28, 29, 30, 31, 32, 33, 34, 35, 36, 37, 38, 39, 40, 41, 42, 43, 44, 45, 46, 47, 48, 49, 50, 51, 52, 53, 54, 55, 56, 57, 58, 59, 60, 61, 62, 63, 64, 65, 66, 67, 68, 69, 70, 71, 72, 73, 74, 75, 76, 77, 78, 79, 80, 81, 82, 83, 84, 85, 86, 87, 88, 89, 90, 91, 92, 93, 94, 95, 96, 97, 98, 99, 100, 101, 102, 103, 104, 105, 106, 107, 108, 109, 110, 111, 112, 113, 114, 115, 116, 117, 118, 119, 120, 121, 122, 123, 124, 125, 126, 127, 128, 129, 130, 131, 132, 133, 134, 135, 136, 137, 138, 139, 140, 141, 142, 143, 144, 145, 146, 147, 148, 149, 150, 151, 152, 153, 154, 155, 156, 157, 158, 159, 160, 161, 162, 163, 164, 165, 166, 167, 168, 169, 170, 171, 172, 173, 174, 175, 176, 177, 178, 179, 180, 181, 182, 183, 184, 185, 186, 187, 188, 189, 190, 191, 192, 193, 194, 195, 196, 197, 198, 199, 200, 201, 202, 203, 204, 205, 206, 207, 208, 209, 210, 211, 212, 213, 214, 215, 216, 217, 218, 219, 220, 221, 222, 223, 224, 225, 226, 227, 228, 229, 230, 231, 232, 233, 234, 235, 236, 237, 238, 239, 240, 241, 242, 243, 244, 245, 246, 247, 248, 249, 250, 251, 252, 253, 254, 255, 256, 257, 258, 259, 260, 261, 262, 263, 264, 265, 266, 267, 268, 269, 270, 271, 272, 273, 274, 275, 276, 277, 278, 279, 280, 281, 282, 283, 284, 285, 286, 287, 288, 289, 290, 291, 292, 293, 294, 295, 296, 297, 298, 299, 300, 301, 302, 303, 304, 305, 306, 307, 308, 309, 310, 311, 312, 313, 314, 315, 316, 317, 318, 319, 320, 321, 322, 323, 324, 325, 326, 327, 328, 329, 330, 331, 332, 333, 334, 335, 336, 337, 338, 339, 340, 341, 342, 343, 344, 345, 346, 347, 348, 349, 350, 351, 352, 353, 354, 355, 356, 357, 358, 359, 360, 361, 362, 363, 364, 365, 366, 367, 368, 369, 370, 371, 372, 373, 374, 375, 376, 377, 378, 379, 380], \"xaxis\": \"x\", \"y\": [-0.04514240593859287, 0.08348867699254436, 0.019994827679305938, -0.08484729990414586, 0.015589780528564967, 0.003532514462350922, 0.08997818639349764, -0.09623897772031964, -0.01066980003433815, -0.06321565750426161, 0.05015488253143641, -0.023361226787391942, 0.003162352181737993, 0.012135925695063055, 0.053836092912498246, 0.04058079389434044, 0.0582951530297654, -0.14204412623785612, -0.012532545652101046, -0.031967997856734987, -0.004833062735933313, 0.034728373527574075, 0.01401511649831988, 0.0636703471629434, 0.02360534339774678, -0.0007107929045228056, 0.00572133616484205, -0.017438895937994525, 0.03221151829698099, 0.06407610756573778, 0.01105693386471196, -0.05324590393491224, -0.04232929440457456, 0.07548386056289647, -0.04108863060105761, -0.02963251140101919, -0.03033145751755406, 0.010348047965718532, -0.032427172239376745, -0.005261466804094117, -0.0006668450550029181, -0.010670187838165868, -0.0803271638552917, -0.04547954027027945, -0.06564559122224123, -0.0218495898523815, -0.036791265017434904, 0.05893385657794048, 0.04774158164641795, 0.00026866728125041206, -0.0034218594223280885, 0.04011482641208908, -0.13030676188734758, -0.11320796615131601, 0.06647964324580136, -0.06046098013461365, -0.0072127421687320226, -0.07832913680176201, 0.045304253929364324, 0.005939865593574956, 0.0033455344961237365, 0.041759836329770095, -0.03112062235435109, 0.010655414498416116, 0.04000511070930901, -0.07273626331775773, -0.06371243078989641, 0.028542198409660435, 0.044541355063844934, -0.11666993978539708, -0.08045914805564691, 0.0055400482124838835, -0.08616892918675512, 0.045438834326609334, 0.08993201674645279, 0.0633669469819872, 0.076854664531944, -0.03733523186368182, -0.04590246958106303, -0.04837374978434883, 0.018007579652321914, -0.10127037383480308, 0.09715751419806318, -0.013894720015585782, -0.07782435159677292, -0.010308600710426608, 0.0776586523051307, -0.025315987379484817, -0.09228246339117552, 0.004129326023165181, 0.02729139690720017, 0.04820698956390779, 0.05066249529460087, -0.09087754633479672, -0.06370536300552943, 0.10426922966258223, -0.020857739420517163, -0.12057340550331752, -0.04087850766947854, -0.03457929361750112, 0.05682880342548757, 0.026756360431624215, 0.03240959471223681, -0.006932548034474073, 0.05784530798145748, 0.04135124917910715, -0.012638295003139621, -0.03242860908848533, -0.01565274275433315, 0.08915680138129356, 0.0011502396290030692, 0.08265541449841629, -0.00906610005476216, 0.06707357142702874, -0.01164511929086598, -0.043995559205306733, -0.003227041620005311, -0.1030131710181077, -0.055629824404209605, 0.026949194831893952, 0.06833073676529489, -0.12218224663502297, 0.059058259565681226, 0.010146443795876925, 0.018777239030439374, -0.029831200235331368, -0.08363861388783056, 0.11838748679621391, 0.061411705265607575, -0.06644382653700243, 0.0109627810311137, 0.005955428462756651, 0.01275286677773968, 0.04671041619809335, -0.05154120125231265, 0.006457893762260691, 0.054427193609235425, 0.019955451131871138, 0.022962623428301132, -0.04535137860119365, -0.0013628580366895626, -0.03879769295247182, -0.008360191804218098, -0.000809762167768735, -0.003857568901901698, 0.011655760015095384, -0.034395791368134865, -0.015990648254192497, 0.047591981813755346, 0.045002179449377455, -0.0700492173522611, 0.09057083144276756, 0.07758549907983447, 0.08532660989815621, 0.05594528110651642, 0.046894193132216655, -0.013605452121650319, -0.11161426153502796, 0.02361942889695212, -0.03914884060572077, -0.02644382653700239, 0.018534376962953014, -0.06462906410579294, 0.03210478024265029, -0.05981631100425677, -0.10756896827049, 0.06261532469892783, -0.1348009527543914, -0.039685539355940325, -0.1862613129909284, -0.04978723267176244, 0.050742774232404475, 0.0035367554988495753, -0.09234418363564922, 0.024303406764042523, -0.008661033189972023, 0.011379099178527863, 0.01956298923172195, -0.023545831238943382, 0.09373265799752506, -0.001060288189731362, -0.023810011270827047, 0.00373411863219264, 0.04137934723129677, 0.025473500064895127, 0.04908103816474563, -0.011840505754246666, -0.03141104396764227, -0.006689953919653879, 0.00435244176509364, 0.0409710347653911, 0.049069716332062474, -0.01096688273874713, 0.01917494294557498, 0.0043197026291861285, 0.06043197039507764, 0.03829106959607931, 0.025709856729346225, 0.047582699732380385, 0.017286520098667824, -0.04009634753570224, 0.04691816249855241, -0.025055491503991778, 0.06932010449512072, 0.020709900162798833, -0.06925043266798558, 0.05169480989545905, 0.06448894876471678, 0.038322714378336675, -0.08030050376865494, 0.03703311726125269, 0.05334820177888422, 0.04111323859624405, 0.006701358731946994, 0.06530833736305064, 0.07318104543238635, -0.011471612404787557, 0.0603524417650938, -0.008971947221164012, 0.08047083383242382, -0.023087939988259087, 0.023407216176340118, 0.04323618206576185, -0.03417186346790735, 0.0029559879315038673, 0.005611332765487309, 0.08859122039889411, 0.0702998393656512, -0.015692064502883962, 0.03445154596203792, -0.046044182587111404, 0.02014695983117154, -0.015421427134758248, 0.002359369798401789, -0.0016204085055812056, 0.051054669498175276, -0.04800898780171381, 0.02651091879197609, 0.03919923894912247, -0.020919209888023205, 0.04018772436263629, 0.045221135231874876, 0.07809033989401426, -0.02735289558511622, 0.006315633582152147, 0.06439838599862435, -0.0038507758022917615, 0.028637452328999724, -0.01367767457179514, -0.056683408902672205, 0.053130572465782344, -0.029933084834106838, 0.027154676765816288, 0.036753848012318735, -0.002600431072685927, 0.05241611982932104, -0.0011012781347100598, -0.009285055068833148, -0.05056885410112977, -0.03511421820487315, -0.0068158078847647685, -0.04088221000156822, 0.030804856728266272, 0.056108307997236206, -0.001484682568712814, -0.0136338371019884, -0.006627445868313098, 0.023752075961673058, 0.0257808665975926, -0.003660205768558855, -0.03305378278669613, -0.034686976301063654, -0.003908199471318374, 0.04031417294748474, 0.03832100566104091, 0.00859663144827938, -0.008086077487657328, -0.006478448937850101, 0.0428723928425252, 0.08315561543138361, 0.09235111606412438, 0.018951746895005228, -0.04478954047175154, 0.0032656188307381706, -0.031142047506110826, -0.04430971883761403, 0.02254143804508879, 0.06083122539483676, 0.03963048277696879, -0.0007735886524379287, 0.034756360431624334, -0.02193185847196466, 0.05328050806181284, 0.01570934069405161, -0.06929879887086554, -0.03150120677257651, -0.0554078409355383, -0.0073114237354036105, -0.1301978095042049, 0.04138387596437021, -0.012553519570668192, -0.0002857049875367723, -0.0641628286708752, -0.12672386306844785, 0.06591174859576265, -0.12443754947268715, -0.0771401415720564, -0.016103196984567303, 0.013031890899110943, 0.043238734128873135, -0.06898435154198346, 0.017891369296932802, 0.051934033828646586, -0.07616917647109789, -0.016201878551239002, -0.07378270393868935, 0.015632459446931035, -0.017289583801906372, 0.03813991867879274, 0.006207299929596788, 0.02460850893020361, -0.008577220954478104, -0.0008140032042674994, 0.002703197543004743, -0.09906782867195518, -0.10721940517457984, 0.055113435842862324, 0.05189443739533861, -0.040206063238482304, 0.04779752682902383, -0.07772213550154394, -0.07961717687055747, -0.04670722550613127, -0.0024632048573448584, -0.037585498408158835, -0.013745817171305075, -0.0002151207046285908, -0.08456419043435848, -0.03426881937245119, 0.029415583029688275, 0.02068870635835862, 0.05401534784563922, 0.03229744006541635, 0.023315327709278577, -0.042149332921611826, 0.07284465399124385, 0.029308782662437527, -0.05751383163711443, 0.015137630592852336, 0.006597109659381428, -0.04272319315383244, -0.06724911662431343, 0.07729624747943009, -0.11044994972199695, 0.07542780311570707, -0.007345720267465605, 0.0101461127618645, -0.056545405587449804, 0.04199006387542181, -0.06288674839193853, 0.03511254912974959, -0.06155674818447121, 0.023798134460578768, 0.044551255875806994, 0.026833449349141447, 0.039665543745112886, 0.030230825911275017, -0.08149147566832271, -0.1003577698348691, 0.05794344972727539, -0.06894400480085539, 0.027682932413535033, -0.03586662636804805, 0.06665535814916079, 0.061850667078388266, 0.0014499307457788158, 0.024950380781804116, 0.05475678669714179, 0.040706746735838184, 0.020983907712557426, 0.07991095787571079], \"yaxis\": \"y\"}],                        {\"legend\": {\"tracegroupgap\": 0}, \"margin\": {\"t\": 60}, \"template\": {\"data\": {\"bar\": [{\"error_x\": {\"color\": \"#2a3f5f\"}, \"error_y\": {\"color\": \"#2a3f5f\"}, \"marker\": {\"line\": {\"color\": \"#E5ECF6\", \"width\": 0.5}}, \"type\": \"bar\"}], \"barpolar\": [{\"marker\": {\"line\": {\"color\": \"#E5ECF6\", \"width\": 0.5}}, \"type\": \"barpolar\"}], \"carpet\": [{\"aaxis\": {\"endlinecolor\": \"#2a3f5f\", \"gridcolor\": \"white\", \"linecolor\": \"white\", \"minorgridcolor\": \"white\", \"startlinecolor\": \"#2a3f5f\"}, \"baxis\": {\"endlinecolor\": \"#2a3f5f\", \"gridcolor\": \"white\", \"linecolor\": \"white\", \"minorgridcolor\": \"white\", \"startlinecolor\": \"#2a3f5f\"}, \"type\": \"carpet\"}], \"choropleth\": [{\"colorbar\": {\"outlinewidth\": 0, \"ticks\": \"\"}, \"type\": \"choropleth\"}], \"contour\": [{\"colorbar\": {\"outlinewidth\": 0, \"ticks\": \"\"}, \"colorscale\": [[0.0, \"#0d0887\"], [0.1111111111111111, \"#46039f\"], [0.2222222222222222, \"#7201a8\"], [0.3333333333333333, \"#9c179e\"], [0.4444444444444444, \"#bd3786\"], [0.5555555555555556, \"#d8576b\"], [0.6666666666666666, \"#ed7953\"], [0.7777777777777778, \"#fb9f3a\"], [0.8888888888888888, \"#fdca26\"], [1.0, \"#f0f921\"]], \"type\": \"contour\"}], \"contourcarpet\": [{\"colorbar\": {\"outlinewidth\": 0, \"ticks\": \"\"}, \"type\": \"contourcarpet\"}], \"heatmap\": [{\"colorbar\": {\"outlinewidth\": 0, \"ticks\": \"\"}, \"colorscale\": [[0.0, \"#0d0887\"], [0.1111111111111111, \"#46039f\"], [0.2222222222222222, \"#7201a8\"], [0.3333333333333333, \"#9c179e\"], [0.4444444444444444, \"#bd3786\"], [0.5555555555555556, \"#d8576b\"], [0.6666666666666666, \"#ed7953\"], [0.7777777777777778, \"#fb9f3a\"], [0.8888888888888888, \"#fdca26\"], [1.0, \"#f0f921\"]], \"type\": \"heatmap\"}], \"heatmapgl\": [{\"colorbar\": {\"outlinewidth\": 0, \"ticks\": \"\"}, \"colorscale\": [[0.0, \"#0d0887\"], [0.1111111111111111, \"#46039f\"], [0.2222222222222222, \"#7201a8\"], [0.3333333333333333, \"#9c179e\"], [0.4444444444444444, \"#bd3786\"], [0.5555555555555556, \"#d8576b\"], [0.6666666666666666, \"#ed7953\"], [0.7777777777777778, \"#fb9f3a\"], [0.8888888888888888, \"#fdca26\"], [1.0, \"#f0f921\"]], \"type\": \"heatmapgl\"}], \"histogram\": [{\"marker\": {\"colorbar\": {\"outlinewidth\": 0, \"ticks\": \"\"}}, \"type\": \"histogram\"}], \"histogram2d\": [{\"colorbar\": {\"outlinewidth\": 0, \"ticks\": \"\"}, \"colorscale\": [[0.0, \"#0d0887\"], [0.1111111111111111, \"#46039f\"], [0.2222222222222222, \"#7201a8\"], [0.3333333333333333, \"#9c179e\"], [0.4444444444444444, \"#bd3786\"], [0.5555555555555556, \"#d8576b\"], [0.6666666666666666, \"#ed7953\"], [0.7777777777777778, \"#fb9f3a\"], [0.8888888888888888, \"#fdca26\"], [1.0, \"#f0f921\"]], \"type\": \"histogram2d\"}], \"histogram2dcontour\": [{\"colorbar\": {\"outlinewidth\": 0, \"ticks\": \"\"}, \"colorscale\": [[0.0, \"#0d0887\"], [0.1111111111111111, \"#46039f\"], [0.2222222222222222, \"#7201a8\"], [0.3333333333333333, \"#9c179e\"], [0.4444444444444444, \"#bd3786\"], [0.5555555555555556, \"#d8576b\"], [0.6666666666666666, \"#ed7953\"], [0.7777777777777778, \"#fb9f3a\"], [0.8888888888888888, \"#fdca26\"], [1.0, \"#f0f921\"]], \"type\": \"histogram2dcontour\"}], \"mesh3d\": [{\"colorbar\": {\"outlinewidth\": 0, \"ticks\": \"\"}, \"type\": \"mesh3d\"}], \"parcoords\": [{\"line\": {\"colorbar\": {\"outlinewidth\": 0, \"ticks\": \"\"}}, \"type\": \"parcoords\"}], \"pie\": [{\"automargin\": true, \"type\": \"pie\"}], \"scatter\": [{\"marker\": {\"colorbar\": {\"outlinewidth\": 0, \"ticks\": \"\"}}, \"type\": \"scatter\"}], \"scatter3d\": [{\"line\": {\"colorbar\": {\"outlinewidth\": 0, \"ticks\": \"\"}}, \"marker\": {\"colorbar\": {\"outlinewidth\": 0, \"ticks\": \"\"}}, \"type\": \"scatter3d\"}], \"scattercarpet\": [{\"marker\": {\"colorbar\": {\"outlinewidth\": 0, \"ticks\": \"\"}}, \"type\": \"scattercarpet\"}], \"scattergeo\": [{\"marker\": {\"colorbar\": {\"outlinewidth\": 0, \"ticks\": \"\"}}, \"type\": \"scattergeo\"}], \"scattergl\": [{\"marker\": {\"colorbar\": {\"outlinewidth\": 0, \"ticks\": \"\"}}, \"type\": \"scattergl\"}], \"scattermapbox\": [{\"marker\": {\"colorbar\": {\"outlinewidth\": 0, \"ticks\": \"\"}}, \"type\": \"scattermapbox\"}], \"scatterpolar\": [{\"marker\": {\"colorbar\": {\"outlinewidth\": 0, \"ticks\": \"\"}}, \"type\": \"scatterpolar\"}], \"scatterpolargl\": [{\"marker\": {\"colorbar\": {\"outlinewidth\": 0, \"ticks\": \"\"}}, \"type\": \"scatterpolargl\"}], \"scatterternary\": [{\"marker\": {\"colorbar\": {\"outlinewidth\": 0, \"ticks\": \"\"}}, \"type\": \"scatterternary\"}], \"surface\": [{\"colorbar\": {\"outlinewidth\": 0, \"ticks\": \"\"}, \"colorscale\": [[0.0, \"#0d0887\"], [0.1111111111111111, \"#46039f\"], [0.2222222222222222, \"#7201a8\"], [0.3333333333333333, \"#9c179e\"], [0.4444444444444444, \"#bd3786\"], [0.5555555555555556, \"#d8576b\"], [0.6666666666666666, \"#ed7953\"], [0.7777777777777778, \"#fb9f3a\"], [0.8888888888888888, \"#fdca26\"], [1.0, \"#f0f921\"]], \"type\": \"surface\"}], \"table\": [{\"cells\": {\"fill\": {\"color\": \"#EBF0F8\"}, \"line\": {\"color\": \"white\"}}, \"header\": {\"fill\": {\"color\": \"#C8D4E3\"}, \"line\": {\"color\": \"white\"}}, \"type\": \"table\"}]}, \"layout\": {\"annotationdefaults\": {\"arrowcolor\": \"#2a3f5f\", \"arrowhead\": 0, \"arrowwidth\": 1}, \"autotypenumbers\": \"strict\", \"coloraxis\": {\"colorbar\": {\"outlinewidth\": 0, \"ticks\": \"\"}}, \"colorscale\": {\"diverging\": [[0, \"#8e0152\"], [0.1, \"#c51b7d\"], [0.2, \"#de77ae\"], [0.3, \"#f1b6da\"], [0.4, \"#fde0ef\"], [0.5, \"#f7f7f7\"], [0.6, \"#e6f5d0\"], [0.7, \"#b8e186\"], [0.8, \"#7fbc41\"], [0.9, \"#4d9221\"], [1, \"#276419\"]], \"sequential\": [[0.0, \"#0d0887\"], [0.1111111111111111, \"#46039f\"], [0.2222222222222222, \"#7201a8\"], [0.3333333333333333, \"#9c179e\"], [0.4444444444444444, \"#bd3786\"], [0.5555555555555556, \"#d8576b\"], [0.6666666666666666, \"#ed7953\"], [0.7777777777777778, \"#fb9f3a\"], [0.8888888888888888, \"#fdca26\"], [1.0, \"#f0f921\"]], \"sequentialminus\": [[0.0, \"#0d0887\"], [0.1111111111111111, \"#46039f\"], [0.2222222222222222, \"#7201a8\"], [0.3333333333333333, \"#9c179e\"], [0.4444444444444444, \"#bd3786\"], [0.5555555555555556, \"#d8576b\"], [0.6666666666666666, \"#ed7953\"], [0.7777777777777778, \"#fb9f3a\"], [0.8888888888888888, \"#fdca26\"], [1.0, \"#f0f921\"]]}, \"colorway\": [\"#636efa\", \"#EF553B\", \"#00cc96\", \"#ab63fa\", \"#FFA15A\", \"#19d3f3\", \"#FF6692\", \"#B6E880\", \"#FF97FF\", \"#FECB52\"], \"font\": {\"color\": \"#2a3f5f\"}, \"geo\": {\"bgcolor\": \"white\", \"lakecolor\": \"white\", \"landcolor\": \"#E5ECF6\", \"showlakes\": true, \"showland\": true, \"subunitcolor\": \"white\"}, \"hoverlabel\": {\"align\": \"left\"}, \"hovermode\": \"closest\", \"mapbox\": {\"style\": \"light\"}, \"paper_bgcolor\": \"white\", \"plot_bgcolor\": \"#E5ECF6\", \"polar\": {\"angularaxis\": {\"gridcolor\": \"white\", \"linecolor\": \"white\", \"ticks\": \"\"}, \"bgcolor\": \"#E5ECF6\", \"radialaxis\": {\"gridcolor\": \"white\", \"linecolor\": \"white\", \"ticks\": \"\"}}, \"scene\": {\"xaxis\": {\"backgroundcolor\": \"#E5ECF6\", \"gridcolor\": \"white\", \"gridwidth\": 2, \"linecolor\": \"white\", \"showbackground\": true, \"ticks\": \"\", \"zerolinecolor\": \"white\"}, \"yaxis\": {\"backgroundcolor\": \"#E5ECF6\", \"gridcolor\": \"white\", \"gridwidth\": 2, \"linecolor\": \"white\", \"showbackground\": true, \"ticks\": \"\", \"zerolinecolor\": \"white\"}, \"zaxis\": {\"backgroundcolor\": \"#E5ECF6\", \"gridcolor\": \"white\", \"gridwidth\": 2, \"linecolor\": \"white\", \"showbackground\": true, \"ticks\": \"\", \"zerolinecolor\": \"white\"}}, \"shapedefaults\": {\"line\": {\"color\": \"#2a3f5f\"}}, \"ternary\": {\"aaxis\": {\"gridcolor\": \"white\", \"linecolor\": \"white\", \"ticks\": \"\"}, \"baxis\": {\"gridcolor\": \"white\", \"linecolor\": \"white\", \"ticks\": \"\"}, \"bgcolor\": \"#E5ECF6\", \"caxis\": {\"gridcolor\": \"white\", \"linecolor\": \"white\", \"ticks\": \"\"}}, \"title\": {\"x\": 0.05}, \"xaxis\": {\"automargin\": true, \"gridcolor\": \"white\", \"linecolor\": \"white\", \"ticks\": \"\", \"title\": {\"standoff\": 15}, \"zerolinecolor\": \"white\", \"zerolinewidth\": 2}, \"yaxis\": {\"automargin\": true, \"gridcolor\": \"white\", \"linecolor\": \"white\", \"ticks\": \"\", \"title\": {\"standoff\": 15}, \"zerolinecolor\": \"white\", \"zerolinewidth\": 2}}}, \"xaxis\": {\"anchor\": \"y\", \"domain\": [0.0, 1.0], \"title\": {\"text\": \"x\"}}, \"yaxis\": {\"anchor\": \"x\", \"domain\": [0.0, 1.0], \"title\": {\"text\": \"y\"}}},                        {\"responsive\": true}                    ).then(function(){\n                            \nvar gd = document.getElementById('0751d505-a6fa-4e58-b8f4-3605ac24c00b');\nvar x = new MutationObserver(function (mutations, observer) {{\n        var display = window.getComputedStyle(gd).display;\n        if (!display || display === 'none') {{\n            console.log([gd, 'removed!']);\n            Plotly.purge(gd);\n            observer.disconnect();\n        }}\n}});\n\n// Listen for the removal of the full notebook cells\nvar notebookContainer = gd.closest('#notebook-container');\nif (notebookContainer) {{\n    x.observe(notebookContainer, {childList: true});\n}}\n\n// Listen for the clearing of the current output cell\nvar outputEl = gd.closest('.output');\nif (outputEl) {{\n    x.observe(outputEl, {childList: true});\n}}\n\n                        })                };                });            </script>        </div>"
     },
     "metadata": {}
    }
   ],
   "source": [
    "fig = px.scatter(y=results.resid)\n",
    "fig.show()"
   ]
  },
  {
   "cell_type": "code",
   "execution_count": 32,
   "metadata": {},
   "outputs": [
    {
     "output_type": "stream",
     "name": "stderr",
     "text": [
      "<ipython-input-32-7741cb832584>:4: UserWarning:\n\nMatplotlib is currently using module://ipykernel.pylab.backend_inline, which is a non-GUI backend, so cannot show the figure.\n\n"
     ]
    },
    {
     "output_type": "display_data",
     "data": {
      "text/plain": "<Figure size 432x288 with 1 Axes>",
      "image/svg+xml": "<?xml version=\"1.0\" encoding=\"utf-8\" standalone=\"no\"?>\r\n<!DOCTYPE svg PUBLIC \"-//W3C//DTD SVG 1.1//EN\"\r\n  \"http://www.w3.org/Graphics/SVG/1.1/DTD/svg11.dtd\">\r\n<!-- Created with matplotlib (https://matplotlib.org/) -->\r\n<svg height=\"277.314375pt\" version=\"1.1\" viewBox=\"0 0 400.523437 277.314375\" width=\"400.523437pt\" xmlns=\"http://www.w3.org/2000/svg\" xmlns:xlink=\"http://www.w3.org/1999/xlink\">\r\n <metadata>\r\n  <rdf:RDF xmlns:cc=\"http://creativecommons.org/ns#\" xmlns:dc=\"http://purl.org/dc/elements/1.1/\" xmlns:rdf=\"http://www.w3.org/1999/02/22-rdf-syntax-ns#\">\r\n   <cc:Work>\r\n    <dc:type rdf:resource=\"http://purl.org/dc/dcmitype/StillImage\"/>\r\n    <dc:date>2021-06-16T21:53:43.531837</dc:date>\r\n    <dc:format>image/svg+xml</dc:format>\r\n    <dc:creator>\r\n     <cc:Agent>\r\n      <dc:title>Matplotlib v3.3.2, https://matplotlib.org/</dc:title>\r\n     </cc:Agent>\r\n    </dc:creator>\r\n   </cc:Work>\r\n  </rdf:RDF>\r\n </metadata>\r\n <defs>\r\n  <style type=\"text/css\">*{stroke-linecap:butt;stroke-linejoin:round;}</style>\r\n </defs>\r\n <g id=\"figure_1\">\r\n  <g id=\"patch_1\">\r\n   <path d=\"M 0 277.314375 \r\nL 400.523437 277.314375 \r\nL 400.523437 0 \r\nL 0 0 \r\nz\r\n\" style=\"fill:none;\"/>\r\n  </g>\r\n  <g id=\"axes_1\">\r\n   <g id=\"patch_2\">\r\n    <path d=\"M 58.523438 239.758125 \r\nL 393.323438 239.758125 \r\nL 393.323438 22.318125 \r\nL 58.523438 22.318125 \r\nz\r\n\" style=\"fill:#ffffff;\"/>\r\n   </g>\r\n   <g id=\"matplotlib.axis_1\">\r\n    <g id=\"xtick_1\">\r\n     <g id=\"line2d_1\">\r\n      <defs>\r\n       <path d=\"M 0 0 \r\nL 0 3.5 \r\n\" id=\"m119c234283\" style=\"stroke:#000000;stroke-width:0.8;\"/>\r\n      </defs>\r\n      <g>\r\n       <use style=\"stroke:#000000;stroke-width:0.8;\" x=\"68.937385\" xlink:href=\"#m119c234283\" y=\"239.758125\"/>\r\n      </g>\r\n     </g>\r\n     <g id=\"text_1\">\r\n      <!-- −3 -->\r\n      <g transform=\"translate(61.566292 254.356562)scale(0.1 -0.1)\">\r\n       <defs>\r\n        <path d=\"M 10.59375 35.5 \r\nL 73.1875 35.5 \r\nL 73.1875 27.203125 \r\nL 10.59375 27.203125 \r\nz\r\n\" id=\"DejaVuSans-8722\"/>\r\n        <path d=\"M 40.578125 39.3125 \r\nQ 47.65625 37.796875 51.625 33 \r\nQ 55.609375 28.21875 55.609375 21.1875 \r\nQ 55.609375 10.40625 48.1875 4.484375 \r\nQ 40.765625 -1.421875 27.09375 -1.421875 \r\nQ 22.515625 -1.421875 17.65625 -0.515625 \r\nQ 12.796875 0.390625 7.625 2.203125 \r\nL 7.625 11.71875 \r\nQ 11.71875 9.328125 16.59375 8.109375 \r\nQ 21.484375 6.890625 26.8125 6.890625 \r\nQ 36.078125 6.890625 40.9375 10.546875 \r\nQ 45.796875 14.203125 45.796875 21.1875 \r\nQ 45.796875 27.640625 41.28125 31.265625 \r\nQ 36.765625 34.90625 28.71875 34.90625 \r\nL 20.21875 34.90625 \r\nL 20.21875 43.015625 \r\nL 29.109375 43.015625 \r\nQ 36.375 43.015625 40.234375 45.921875 \r\nQ 44.09375 48.828125 44.09375 54.296875 \r\nQ 44.09375 59.90625 40.109375 62.90625 \r\nQ 36.140625 65.921875 28.71875 65.921875 \r\nQ 24.65625 65.921875 20.015625 65.03125 \r\nQ 15.375 64.15625 9.8125 62.3125 \r\nL 9.8125 71.09375 \r\nQ 15.4375 72.65625 20.34375 73.4375 \r\nQ 25.25 74.21875 29.59375 74.21875 \r\nQ 40.828125 74.21875 47.359375 69.109375 \r\nQ 53.90625 64.015625 53.90625 55.328125 \r\nQ 53.90625 49.265625 50.4375 45.09375 \r\nQ 46.96875 40.921875 40.578125 39.3125 \r\nz\r\n\" id=\"DejaVuSans-51\"/>\r\n       </defs>\r\n       <use xlink:href=\"#DejaVuSans-8722\"/>\r\n       <use x=\"83.789062\" xlink:href=\"#DejaVuSans-51\"/>\r\n      </g>\r\n     </g>\r\n    </g>\r\n    <g id=\"xtick_2\">\r\n     <g id=\"line2d_2\">\r\n      <g>\r\n       <use style=\"stroke:#000000;stroke-width:0.8;\" x=\"121.266069\" xlink:href=\"#m119c234283\" y=\"239.758125\"/>\r\n      </g>\r\n     </g>\r\n     <g id=\"text_2\">\r\n      <!-- −2 -->\r\n      <g transform=\"translate(113.894976 254.356562)scale(0.1 -0.1)\">\r\n       <defs>\r\n        <path d=\"M 19.1875 8.296875 \r\nL 53.609375 8.296875 \r\nL 53.609375 0 \r\nL 7.328125 0 \r\nL 7.328125 8.296875 \r\nQ 12.9375 14.109375 22.625 23.890625 \r\nQ 32.328125 33.6875 34.8125 36.53125 \r\nQ 39.546875 41.84375 41.421875 45.53125 \r\nQ 43.3125 49.21875 43.3125 52.78125 \r\nQ 43.3125 58.59375 39.234375 62.25 \r\nQ 35.15625 65.921875 28.609375 65.921875 \r\nQ 23.96875 65.921875 18.8125 64.3125 \r\nQ 13.671875 62.703125 7.8125 59.421875 \r\nL 7.8125 69.390625 \r\nQ 13.765625 71.78125 18.9375 73 \r\nQ 24.125 74.21875 28.421875 74.21875 \r\nQ 39.75 74.21875 46.484375 68.546875 \r\nQ 53.21875 62.890625 53.21875 53.421875 \r\nQ 53.21875 48.921875 51.53125 44.890625 \r\nQ 49.859375 40.875 45.40625 35.40625 \r\nQ 44.1875 33.984375 37.640625 27.21875 \r\nQ 31.109375 20.453125 19.1875 8.296875 \r\nz\r\n\" id=\"DejaVuSans-50\"/>\r\n       </defs>\r\n       <use xlink:href=\"#DejaVuSans-8722\"/>\r\n       <use x=\"83.789062\" xlink:href=\"#DejaVuSans-50\"/>\r\n      </g>\r\n     </g>\r\n    </g>\r\n    <g id=\"xtick_3\">\r\n     <g id=\"line2d_3\">\r\n      <g>\r\n       <use style=\"stroke:#000000;stroke-width:0.8;\" x=\"173.594753\" xlink:href=\"#m119c234283\" y=\"239.758125\"/>\r\n      </g>\r\n     </g>\r\n     <g id=\"text_3\">\r\n      <!-- −1 -->\r\n      <g transform=\"translate(166.22366 254.356562)scale(0.1 -0.1)\">\r\n       <defs>\r\n        <path d=\"M 12.40625 8.296875 \r\nL 28.515625 8.296875 \r\nL 28.515625 63.921875 \r\nL 10.984375 60.40625 \r\nL 10.984375 69.390625 \r\nL 28.421875 72.90625 \r\nL 38.28125 72.90625 \r\nL 38.28125 8.296875 \r\nL 54.390625 8.296875 \r\nL 54.390625 0 \r\nL 12.40625 0 \r\nz\r\n\" id=\"DejaVuSans-49\"/>\r\n       </defs>\r\n       <use xlink:href=\"#DejaVuSans-8722\"/>\r\n       <use x=\"83.789062\" xlink:href=\"#DejaVuSans-49\"/>\r\n      </g>\r\n     </g>\r\n    </g>\r\n    <g id=\"xtick_4\">\r\n     <g id=\"line2d_4\">\r\n      <g>\r\n       <use style=\"stroke:#000000;stroke-width:0.8;\" x=\"225.923438\" xlink:href=\"#m119c234283\" y=\"239.758125\"/>\r\n      </g>\r\n     </g>\r\n     <g id=\"text_4\">\r\n      <!-- 0 -->\r\n      <g transform=\"translate(222.742188 254.356562)scale(0.1 -0.1)\">\r\n       <defs>\r\n        <path d=\"M 31.78125 66.40625 \r\nQ 24.171875 66.40625 20.328125 58.90625 \r\nQ 16.5 51.421875 16.5 36.375 \r\nQ 16.5 21.390625 20.328125 13.890625 \r\nQ 24.171875 6.390625 31.78125 6.390625 \r\nQ 39.453125 6.390625 43.28125 13.890625 \r\nQ 47.125 21.390625 47.125 36.375 \r\nQ 47.125 51.421875 43.28125 58.90625 \r\nQ 39.453125 66.40625 31.78125 66.40625 \r\nz\r\nM 31.78125 74.21875 \r\nQ 44.046875 74.21875 50.515625 64.515625 \r\nQ 56.984375 54.828125 56.984375 36.375 \r\nQ 56.984375 17.96875 50.515625 8.265625 \r\nQ 44.046875 -1.421875 31.78125 -1.421875 \r\nQ 19.53125 -1.421875 13.0625 8.265625 \r\nQ 6.59375 17.96875 6.59375 36.375 \r\nQ 6.59375 54.828125 13.0625 64.515625 \r\nQ 19.53125 74.21875 31.78125 74.21875 \r\nz\r\n\" id=\"DejaVuSans-48\"/>\r\n       </defs>\r\n       <use xlink:href=\"#DejaVuSans-48\"/>\r\n      </g>\r\n     </g>\r\n    </g>\r\n    <g id=\"xtick_5\">\r\n     <g id=\"line2d_5\">\r\n      <g>\r\n       <use style=\"stroke:#000000;stroke-width:0.8;\" x=\"278.252122\" xlink:href=\"#m119c234283\" y=\"239.758125\"/>\r\n      </g>\r\n     </g>\r\n     <g id=\"text_5\">\r\n      <!-- 1 -->\r\n      <g transform=\"translate(275.070872 254.356562)scale(0.1 -0.1)\">\r\n       <use xlink:href=\"#DejaVuSans-49\"/>\r\n      </g>\r\n     </g>\r\n    </g>\r\n    <g id=\"xtick_6\">\r\n     <g id=\"line2d_6\">\r\n      <g>\r\n       <use style=\"stroke:#000000;stroke-width:0.8;\" x=\"330.580806\" xlink:href=\"#m119c234283\" y=\"239.758125\"/>\r\n      </g>\r\n     </g>\r\n     <g id=\"text_6\">\r\n      <!-- 2 -->\r\n      <g transform=\"translate(327.399556 254.356562)scale(0.1 -0.1)\">\r\n       <use xlink:href=\"#DejaVuSans-50\"/>\r\n      </g>\r\n     </g>\r\n    </g>\r\n    <g id=\"xtick_7\">\r\n     <g id=\"line2d_7\">\r\n      <g>\r\n       <use style=\"stroke:#000000;stroke-width:0.8;\" x=\"382.90949\" xlink:href=\"#m119c234283\" y=\"239.758125\"/>\r\n      </g>\r\n     </g>\r\n     <g id=\"text_7\">\r\n      <!-- 3 -->\r\n      <g transform=\"translate(379.72824 254.356562)scale(0.1 -0.1)\">\r\n       <use xlink:href=\"#DejaVuSans-51\"/>\r\n      </g>\r\n     </g>\r\n    </g>\r\n    <g id=\"text_8\">\r\n     <!-- Theoretical quantiles -->\r\n     <g transform=\"translate(173.409375 268.034687)scale(0.1 -0.1)\">\r\n      <defs>\r\n       <path d=\"M -0.296875 72.90625 \r\nL 61.375 72.90625 \r\nL 61.375 64.59375 \r\nL 35.5 64.59375 \r\nL 35.5 0 \r\nL 25.59375 0 \r\nL 25.59375 64.59375 \r\nL -0.296875 64.59375 \r\nz\r\n\" id=\"DejaVuSans-84\"/>\r\n       <path d=\"M 54.890625 33.015625 \r\nL 54.890625 0 \r\nL 45.90625 0 \r\nL 45.90625 32.71875 \r\nQ 45.90625 40.484375 42.875 44.328125 \r\nQ 39.84375 48.1875 33.796875 48.1875 \r\nQ 26.515625 48.1875 22.3125 43.546875 \r\nQ 18.109375 38.921875 18.109375 30.90625 \r\nL 18.109375 0 \r\nL 9.078125 0 \r\nL 9.078125 75.984375 \r\nL 18.109375 75.984375 \r\nL 18.109375 46.1875 \r\nQ 21.34375 51.125 25.703125 53.5625 \r\nQ 30.078125 56 35.796875 56 \r\nQ 45.21875 56 50.046875 50.171875 \r\nQ 54.890625 44.34375 54.890625 33.015625 \r\nz\r\n\" id=\"DejaVuSans-104\"/>\r\n       <path d=\"M 56.203125 29.59375 \r\nL 56.203125 25.203125 \r\nL 14.890625 25.203125 \r\nQ 15.484375 15.921875 20.484375 11.0625 \r\nQ 25.484375 6.203125 34.421875 6.203125 \r\nQ 39.59375 6.203125 44.453125 7.46875 \r\nQ 49.3125 8.734375 54.109375 11.28125 \r\nL 54.109375 2.78125 \r\nQ 49.265625 0.734375 44.1875 -0.34375 \r\nQ 39.109375 -1.421875 33.890625 -1.421875 \r\nQ 20.796875 -1.421875 13.15625 6.1875 \r\nQ 5.515625 13.8125 5.515625 26.8125 \r\nQ 5.515625 40.234375 12.765625 48.109375 \r\nQ 20.015625 56 32.328125 56 \r\nQ 43.359375 56 49.78125 48.890625 \r\nQ 56.203125 41.796875 56.203125 29.59375 \r\nz\r\nM 47.21875 32.234375 \r\nQ 47.125 39.59375 43.09375 43.984375 \r\nQ 39.0625 48.390625 32.421875 48.390625 \r\nQ 24.90625 48.390625 20.390625 44.140625 \r\nQ 15.875 39.890625 15.1875 32.171875 \r\nz\r\n\" id=\"DejaVuSans-101\"/>\r\n       <path d=\"M 30.609375 48.390625 \r\nQ 23.390625 48.390625 19.1875 42.75 \r\nQ 14.984375 37.109375 14.984375 27.296875 \r\nQ 14.984375 17.484375 19.15625 11.84375 \r\nQ 23.34375 6.203125 30.609375 6.203125 \r\nQ 37.796875 6.203125 41.984375 11.859375 \r\nQ 46.1875 17.53125 46.1875 27.296875 \r\nQ 46.1875 37.015625 41.984375 42.703125 \r\nQ 37.796875 48.390625 30.609375 48.390625 \r\nz\r\nM 30.609375 56 \r\nQ 42.328125 56 49.015625 48.375 \r\nQ 55.71875 40.765625 55.71875 27.296875 \r\nQ 55.71875 13.875 49.015625 6.21875 \r\nQ 42.328125 -1.421875 30.609375 -1.421875 \r\nQ 18.84375 -1.421875 12.171875 6.21875 \r\nQ 5.515625 13.875 5.515625 27.296875 \r\nQ 5.515625 40.765625 12.171875 48.375 \r\nQ 18.84375 56 30.609375 56 \r\nz\r\n\" id=\"DejaVuSans-111\"/>\r\n       <path d=\"M 41.109375 46.296875 \r\nQ 39.59375 47.171875 37.8125 47.578125 \r\nQ 36.03125 48 33.890625 48 \r\nQ 26.265625 48 22.1875 43.046875 \r\nQ 18.109375 38.09375 18.109375 28.8125 \r\nL 18.109375 0 \r\nL 9.078125 0 \r\nL 9.078125 54.6875 \r\nL 18.109375 54.6875 \r\nL 18.109375 46.1875 \r\nQ 20.953125 51.171875 25.484375 53.578125 \r\nQ 30.03125 56 36.53125 56 \r\nQ 37.453125 56 38.578125 55.875 \r\nQ 39.703125 55.765625 41.0625 55.515625 \r\nz\r\n\" id=\"DejaVuSans-114\"/>\r\n       <path d=\"M 18.3125 70.21875 \r\nL 18.3125 54.6875 \r\nL 36.8125 54.6875 \r\nL 36.8125 47.703125 \r\nL 18.3125 47.703125 \r\nL 18.3125 18.015625 \r\nQ 18.3125 11.328125 20.140625 9.421875 \r\nQ 21.96875 7.515625 27.59375 7.515625 \r\nL 36.8125 7.515625 \r\nL 36.8125 0 \r\nL 27.59375 0 \r\nQ 17.1875 0 13.234375 3.875 \r\nQ 9.28125 7.765625 9.28125 18.015625 \r\nL 9.28125 47.703125 \r\nL 2.6875 47.703125 \r\nL 2.6875 54.6875 \r\nL 9.28125 54.6875 \r\nL 9.28125 70.21875 \r\nz\r\n\" id=\"DejaVuSans-116\"/>\r\n       <path d=\"M 9.421875 54.6875 \r\nL 18.40625 54.6875 \r\nL 18.40625 0 \r\nL 9.421875 0 \r\nz\r\nM 9.421875 75.984375 \r\nL 18.40625 75.984375 \r\nL 18.40625 64.59375 \r\nL 9.421875 64.59375 \r\nz\r\n\" id=\"DejaVuSans-105\"/>\r\n       <path d=\"M 48.78125 52.59375 \r\nL 48.78125 44.1875 \r\nQ 44.96875 46.296875 41.140625 47.34375 \r\nQ 37.3125 48.390625 33.40625 48.390625 \r\nQ 24.65625 48.390625 19.8125 42.84375 \r\nQ 14.984375 37.3125 14.984375 27.296875 \r\nQ 14.984375 17.28125 19.8125 11.734375 \r\nQ 24.65625 6.203125 33.40625 6.203125 \r\nQ 37.3125 6.203125 41.140625 7.25 \r\nQ 44.96875 8.296875 48.78125 10.40625 \r\nL 48.78125 2.09375 \r\nQ 45.015625 0.34375 40.984375 -0.53125 \r\nQ 36.96875 -1.421875 32.421875 -1.421875 \r\nQ 20.0625 -1.421875 12.78125 6.34375 \r\nQ 5.515625 14.109375 5.515625 27.296875 \r\nQ 5.515625 40.671875 12.859375 48.328125 \r\nQ 20.21875 56 33.015625 56 \r\nQ 37.15625 56 41.109375 55.140625 \r\nQ 45.0625 54.296875 48.78125 52.59375 \r\nz\r\n\" id=\"DejaVuSans-99\"/>\r\n       <path d=\"M 34.28125 27.484375 \r\nQ 23.390625 27.484375 19.1875 25 \r\nQ 14.984375 22.515625 14.984375 16.5 \r\nQ 14.984375 11.71875 18.140625 8.90625 \r\nQ 21.296875 6.109375 26.703125 6.109375 \r\nQ 34.1875 6.109375 38.703125 11.40625 \r\nQ 43.21875 16.703125 43.21875 25.484375 \r\nL 43.21875 27.484375 \r\nz\r\nM 52.203125 31.203125 \r\nL 52.203125 0 \r\nL 43.21875 0 \r\nL 43.21875 8.296875 \r\nQ 40.140625 3.328125 35.546875 0.953125 \r\nQ 30.953125 -1.421875 24.3125 -1.421875 \r\nQ 15.921875 -1.421875 10.953125 3.296875 \r\nQ 6 8.015625 6 15.921875 \r\nQ 6 25.140625 12.171875 29.828125 \r\nQ 18.359375 34.515625 30.609375 34.515625 \r\nL 43.21875 34.515625 \r\nL 43.21875 35.40625 \r\nQ 43.21875 41.609375 39.140625 45 \r\nQ 35.0625 48.390625 27.6875 48.390625 \r\nQ 23 48.390625 18.546875 47.265625 \r\nQ 14.109375 46.140625 10.015625 43.890625 \r\nL 10.015625 52.203125 \r\nQ 14.9375 54.109375 19.578125 55.046875 \r\nQ 24.21875 56 28.609375 56 \r\nQ 40.484375 56 46.34375 49.84375 \r\nQ 52.203125 43.703125 52.203125 31.203125 \r\nz\r\n\" id=\"DejaVuSans-97\"/>\r\n       <path d=\"M 9.421875 75.984375 \r\nL 18.40625 75.984375 \r\nL 18.40625 0 \r\nL 9.421875 0 \r\nz\r\n\" id=\"DejaVuSans-108\"/>\r\n       <path id=\"DejaVuSans-32\"/>\r\n       <path d=\"M 14.796875 27.296875 \r\nQ 14.796875 17.390625 18.875 11.75 \r\nQ 22.953125 6.109375 30.078125 6.109375 \r\nQ 37.203125 6.109375 41.296875 11.75 \r\nQ 45.40625 17.390625 45.40625 27.296875 \r\nQ 45.40625 37.203125 41.296875 42.84375 \r\nQ 37.203125 48.484375 30.078125 48.484375 \r\nQ 22.953125 48.484375 18.875 42.84375 \r\nQ 14.796875 37.203125 14.796875 27.296875 \r\nz\r\nM 45.40625 8.203125 \r\nQ 42.578125 3.328125 38.25 0.953125 \r\nQ 33.9375 -1.421875 27.875 -1.421875 \r\nQ 17.96875 -1.421875 11.734375 6.484375 \r\nQ 5.515625 14.40625 5.515625 27.296875 \r\nQ 5.515625 40.1875 11.734375 48.09375 \r\nQ 17.96875 56 27.875 56 \r\nQ 33.9375 56 38.25 53.625 \r\nQ 42.578125 51.265625 45.40625 46.390625 \r\nL 45.40625 54.6875 \r\nL 54.390625 54.6875 \r\nL 54.390625 -20.796875 \r\nL 45.40625 -20.796875 \r\nz\r\n\" id=\"DejaVuSans-113\"/>\r\n       <path d=\"M 8.5 21.578125 \r\nL 8.5 54.6875 \r\nL 17.484375 54.6875 \r\nL 17.484375 21.921875 \r\nQ 17.484375 14.15625 20.5 10.265625 \r\nQ 23.53125 6.390625 29.59375 6.390625 \r\nQ 36.859375 6.390625 41.078125 11.03125 \r\nQ 45.3125 15.671875 45.3125 23.6875 \r\nL 45.3125 54.6875 \r\nL 54.296875 54.6875 \r\nL 54.296875 0 \r\nL 45.3125 0 \r\nL 45.3125 8.40625 \r\nQ 42.046875 3.421875 37.71875 1 \r\nQ 33.40625 -1.421875 27.6875 -1.421875 \r\nQ 18.265625 -1.421875 13.375 4.4375 \r\nQ 8.5 10.296875 8.5 21.578125 \r\nz\r\nM 31.109375 56 \r\nz\r\n\" id=\"DejaVuSans-117\"/>\r\n       <path d=\"M 54.890625 33.015625 \r\nL 54.890625 0 \r\nL 45.90625 0 \r\nL 45.90625 32.71875 \r\nQ 45.90625 40.484375 42.875 44.328125 \r\nQ 39.84375 48.1875 33.796875 48.1875 \r\nQ 26.515625 48.1875 22.3125 43.546875 \r\nQ 18.109375 38.921875 18.109375 30.90625 \r\nL 18.109375 0 \r\nL 9.078125 0 \r\nL 9.078125 54.6875 \r\nL 18.109375 54.6875 \r\nL 18.109375 46.1875 \r\nQ 21.34375 51.125 25.703125 53.5625 \r\nQ 30.078125 56 35.796875 56 \r\nQ 45.21875 56 50.046875 50.171875 \r\nQ 54.890625 44.34375 54.890625 33.015625 \r\nz\r\n\" id=\"DejaVuSans-110\"/>\r\n       <path d=\"M 44.28125 53.078125 \r\nL 44.28125 44.578125 \r\nQ 40.484375 46.53125 36.375 47.5 \r\nQ 32.28125 48.484375 27.875 48.484375 \r\nQ 21.1875 48.484375 17.84375 46.4375 \r\nQ 14.5 44.390625 14.5 40.28125 \r\nQ 14.5 37.15625 16.890625 35.375 \r\nQ 19.28125 33.59375 26.515625 31.984375 \r\nL 29.59375 31.296875 \r\nQ 39.15625 29.25 43.1875 25.515625 \r\nQ 47.21875 21.78125 47.21875 15.09375 \r\nQ 47.21875 7.46875 41.1875 3.015625 \r\nQ 35.15625 -1.421875 24.609375 -1.421875 \r\nQ 20.21875 -1.421875 15.453125 -0.5625 \r\nQ 10.6875 0.296875 5.421875 2 \r\nL 5.421875 11.28125 \r\nQ 10.40625 8.6875 15.234375 7.390625 \r\nQ 20.0625 6.109375 24.8125 6.109375 \r\nQ 31.15625 6.109375 34.5625 8.28125 \r\nQ 37.984375 10.453125 37.984375 14.40625 \r\nQ 37.984375 18.0625 35.515625 20.015625 \r\nQ 33.0625 21.96875 24.703125 23.78125 \r\nL 21.578125 24.515625 \r\nQ 13.234375 26.265625 9.515625 29.90625 \r\nQ 5.8125 33.546875 5.8125 39.890625 \r\nQ 5.8125 47.609375 11.28125 51.796875 \r\nQ 16.75 56 26.8125 56 \r\nQ 31.78125 56 36.171875 55.265625 \r\nQ 40.578125 54.546875 44.28125 53.078125 \r\nz\r\n\" id=\"DejaVuSans-115\"/>\r\n      </defs>\r\n      <use xlink:href=\"#DejaVuSans-84\"/>\r\n      <use x=\"61.083984\" xlink:href=\"#DejaVuSans-104\"/>\r\n      <use x=\"124.462891\" xlink:href=\"#DejaVuSans-101\"/>\r\n      <use x=\"185.986328\" xlink:href=\"#DejaVuSans-111\"/>\r\n      <use x=\"247.167969\" xlink:href=\"#DejaVuSans-114\"/>\r\n      <use x=\"286.03125\" xlink:href=\"#DejaVuSans-101\"/>\r\n      <use x=\"347.554688\" xlink:href=\"#DejaVuSans-116\"/>\r\n      <use x=\"386.763672\" xlink:href=\"#DejaVuSans-105\"/>\r\n      <use x=\"414.546875\" xlink:href=\"#DejaVuSans-99\"/>\r\n      <use x=\"469.527344\" xlink:href=\"#DejaVuSans-97\"/>\r\n      <use x=\"530.806641\" xlink:href=\"#DejaVuSans-108\"/>\r\n      <use x=\"558.589844\" xlink:href=\"#DejaVuSans-32\"/>\r\n      <use x=\"590.376953\" xlink:href=\"#DejaVuSans-113\"/>\r\n      <use x=\"653.853516\" xlink:href=\"#DejaVuSans-117\"/>\r\n      <use x=\"717.232422\" xlink:href=\"#DejaVuSans-97\"/>\r\n      <use x=\"778.511719\" xlink:href=\"#DejaVuSans-110\"/>\r\n      <use x=\"841.890625\" xlink:href=\"#DejaVuSans-116\"/>\r\n      <use x=\"881.099609\" xlink:href=\"#DejaVuSans-105\"/>\r\n      <use x=\"908.882812\" xlink:href=\"#DejaVuSans-108\"/>\r\n      <use x=\"936.666016\" xlink:href=\"#DejaVuSans-101\"/>\r\n      <use x=\"998.189453\" xlink:href=\"#DejaVuSans-115\"/>\r\n     </g>\r\n    </g>\r\n   </g>\r\n   <g id=\"matplotlib.axis_2\">\r\n    <g id=\"ytick_1\">\r\n     <g id=\"line2d_8\">\r\n      <defs>\r\n       <path d=\"M 0 0 \r\nL -3.5 0 \r\n\" id=\"mc70411f73e\" style=\"stroke:#000000;stroke-width:0.8;\"/>\r\n      </defs>\r\n      <g>\r\n       <use style=\"stroke:#000000;stroke-width:0.8;\" x=\"58.523438\" xlink:href=\"#mc70411f73e\" y=\"237.91007\"/>\r\n      </g>\r\n     </g>\r\n     <g id=\"text_9\">\r\n      <!-- −0.20 -->\r\n      <g transform=\"translate(20.878125 241.709289)scale(0.1 -0.1)\">\r\n       <defs>\r\n        <path d=\"M 10.6875 12.40625 \r\nL 21 12.40625 \r\nL 21 0 \r\nL 10.6875 0 \r\nz\r\n\" id=\"DejaVuSans-46\"/>\r\n       </defs>\r\n       <use xlink:href=\"#DejaVuSans-8722\"/>\r\n       <use x=\"83.789062\" xlink:href=\"#DejaVuSans-48\"/>\r\n       <use x=\"147.412109\" xlink:href=\"#DejaVuSans-46\"/>\r\n       <use x=\"179.199219\" xlink:href=\"#DejaVuSans-50\"/>\r\n       <use x=\"242.822266\" xlink:href=\"#DejaVuSans-48\"/>\r\n      </g>\r\n     </g>\r\n    </g>\r\n    <g id=\"ytick_2\">\r\n     <g id=\"line2d_9\">\r\n      <g>\r\n       <use style=\"stroke:#000000;stroke-width:0.8;\" x=\"58.523438\" xlink:href=\"#mc70411f73e\" y=\"208.665713\"/>\r\n      </g>\r\n     </g>\r\n     <g id=\"text_10\">\r\n      <!-- −0.15 -->\r\n      <g transform=\"translate(20.878125 212.464932)scale(0.1 -0.1)\">\r\n       <defs>\r\n        <path d=\"M 10.796875 72.90625 \r\nL 49.515625 72.90625 \r\nL 49.515625 64.59375 \r\nL 19.828125 64.59375 \r\nL 19.828125 46.734375 \r\nQ 21.96875 47.46875 24.109375 47.828125 \r\nQ 26.265625 48.1875 28.421875 48.1875 \r\nQ 40.625 48.1875 47.75 41.5 \r\nQ 54.890625 34.8125 54.890625 23.390625 \r\nQ 54.890625 11.625 47.5625 5.09375 \r\nQ 40.234375 -1.421875 26.90625 -1.421875 \r\nQ 22.3125 -1.421875 17.546875 -0.640625 \r\nQ 12.796875 0.140625 7.71875 1.703125 \r\nL 7.71875 11.625 \r\nQ 12.109375 9.234375 16.796875 8.0625 \r\nQ 21.484375 6.890625 26.703125 6.890625 \r\nQ 35.15625 6.890625 40.078125 11.328125 \r\nQ 45.015625 15.765625 45.015625 23.390625 \r\nQ 45.015625 31 40.078125 35.4375 \r\nQ 35.15625 39.890625 26.703125 39.890625 \r\nQ 22.75 39.890625 18.8125 39.015625 \r\nQ 14.890625 38.140625 10.796875 36.28125 \r\nz\r\n\" id=\"DejaVuSans-53\"/>\r\n       </defs>\r\n       <use xlink:href=\"#DejaVuSans-8722\"/>\r\n       <use x=\"83.789062\" xlink:href=\"#DejaVuSans-48\"/>\r\n       <use x=\"147.412109\" xlink:href=\"#DejaVuSans-46\"/>\r\n       <use x=\"179.199219\" xlink:href=\"#DejaVuSans-49\"/>\r\n       <use x=\"242.822266\" xlink:href=\"#DejaVuSans-53\"/>\r\n      </g>\r\n     </g>\r\n    </g>\r\n    <g id=\"ytick_3\">\r\n     <g id=\"line2d_10\">\r\n      <g>\r\n       <use style=\"stroke:#000000;stroke-width:0.8;\" x=\"58.523438\" xlink:href=\"#mc70411f73e\" y=\"179.421357\"/>\r\n      </g>\r\n     </g>\r\n     <g id=\"text_11\">\r\n      <!-- −0.10 -->\r\n      <g transform=\"translate(20.878125 183.220575)scale(0.1 -0.1)\">\r\n       <use xlink:href=\"#DejaVuSans-8722\"/>\r\n       <use x=\"83.789062\" xlink:href=\"#DejaVuSans-48\"/>\r\n       <use x=\"147.412109\" xlink:href=\"#DejaVuSans-46\"/>\r\n       <use x=\"179.199219\" xlink:href=\"#DejaVuSans-49\"/>\r\n       <use x=\"242.822266\" xlink:href=\"#DejaVuSans-48\"/>\r\n      </g>\r\n     </g>\r\n    </g>\r\n    <g id=\"ytick_4\">\r\n     <g id=\"line2d_11\">\r\n      <g>\r\n       <use style=\"stroke:#000000;stroke-width:0.8;\" x=\"58.523438\" xlink:href=\"#mc70411f73e\" y=\"150.177\"/>\r\n      </g>\r\n     </g>\r\n     <g id=\"text_12\">\r\n      <!-- −0.05 -->\r\n      <g transform=\"translate(20.878125 153.976219)scale(0.1 -0.1)\">\r\n       <use xlink:href=\"#DejaVuSans-8722\"/>\r\n       <use x=\"83.789062\" xlink:href=\"#DejaVuSans-48\"/>\r\n       <use x=\"147.412109\" xlink:href=\"#DejaVuSans-46\"/>\r\n       <use x=\"179.199219\" xlink:href=\"#DejaVuSans-48\"/>\r\n       <use x=\"242.822266\" xlink:href=\"#DejaVuSans-53\"/>\r\n      </g>\r\n     </g>\r\n    </g>\r\n    <g id=\"ytick_5\">\r\n     <g id=\"line2d_12\">\r\n      <g>\r\n       <use style=\"stroke:#000000;stroke-width:0.8;\" x=\"58.523438\" xlink:href=\"#mc70411f73e\" y=\"120.932643\"/>\r\n      </g>\r\n     </g>\r\n     <g id=\"text_13\">\r\n      <!-- 0.00 -->\r\n      <g transform=\"translate(29.257813 124.731862)scale(0.1 -0.1)\">\r\n       <use xlink:href=\"#DejaVuSans-48\"/>\r\n       <use x=\"63.623047\" xlink:href=\"#DejaVuSans-46\"/>\r\n       <use x=\"95.410156\" xlink:href=\"#DejaVuSans-48\"/>\r\n       <use x=\"159.033203\" xlink:href=\"#DejaVuSans-48\"/>\r\n      </g>\r\n     </g>\r\n    </g>\r\n    <g id=\"ytick_6\">\r\n     <g id=\"line2d_13\">\r\n      <g>\r\n       <use style=\"stroke:#000000;stroke-width:0.8;\" x=\"58.523438\" xlink:href=\"#mc70411f73e\" y=\"91.688287\"/>\r\n      </g>\r\n     </g>\r\n     <g id=\"text_14\">\r\n      <!-- 0.05 -->\r\n      <g transform=\"translate(29.257813 95.487505)scale(0.1 -0.1)\">\r\n       <use xlink:href=\"#DejaVuSans-48\"/>\r\n       <use x=\"63.623047\" xlink:href=\"#DejaVuSans-46\"/>\r\n       <use x=\"95.410156\" xlink:href=\"#DejaVuSans-48\"/>\r\n       <use x=\"159.033203\" xlink:href=\"#DejaVuSans-53\"/>\r\n      </g>\r\n     </g>\r\n    </g>\r\n    <g id=\"ytick_7\">\r\n     <g id=\"line2d_14\">\r\n      <g>\r\n       <use style=\"stroke:#000000;stroke-width:0.8;\" x=\"58.523438\" xlink:href=\"#mc70411f73e\" y=\"62.44393\"/>\r\n      </g>\r\n     </g>\r\n     <g id=\"text_15\">\r\n      <!-- 0.10 -->\r\n      <g transform=\"translate(29.257813 66.243149)scale(0.1 -0.1)\">\r\n       <use xlink:href=\"#DejaVuSans-48\"/>\r\n       <use x=\"63.623047\" xlink:href=\"#DejaVuSans-46\"/>\r\n       <use x=\"95.410156\" xlink:href=\"#DejaVuSans-49\"/>\r\n       <use x=\"159.033203\" xlink:href=\"#DejaVuSans-48\"/>\r\n      </g>\r\n     </g>\r\n    </g>\r\n    <g id=\"ytick_8\">\r\n     <g id=\"line2d_15\">\r\n      <g>\r\n       <use style=\"stroke:#000000;stroke-width:0.8;\" x=\"58.523438\" xlink:href=\"#mc70411f73e\" y=\"33.199573\"/>\r\n      </g>\r\n     </g>\r\n     <g id=\"text_16\">\r\n      <!-- 0.15 -->\r\n      <g transform=\"translate(29.257813 36.998792)scale(0.1 -0.1)\">\r\n       <use xlink:href=\"#DejaVuSans-48\"/>\r\n       <use x=\"63.623047\" xlink:href=\"#DejaVuSans-46\"/>\r\n       <use x=\"95.410156\" xlink:href=\"#DejaVuSans-49\"/>\r\n       <use x=\"159.033203\" xlink:href=\"#DejaVuSans-53\"/>\r\n      </g>\r\n     </g>\r\n    </g>\r\n    <g id=\"text_17\">\r\n     <!-- Ordered Values -->\r\n     <g transform=\"translate(14.798438 169.311562)rotate(-90)scale(0.1 -0.1)\">\r\n      <defs>\r\n       <path d=\"M 39.40625 66.21875 \r\nQ 28.65625 66.21875 22.328125 58.203125 \r\nQ 16.015625 50.203125 16.015625 36.375 \r\nQ 16.015625 22.609375 22.328125 14.59375 \r\nQ 28.65625 6.59375 39.40625 6.59375 \r\nQ 50.140625 6.59375 56.421875 14.59375 \r\nQ 62.703125 22.609375 62.703125 36.375 \r\nQ 62.703125 50.203125 56.421875 58.203125 \r\nQ 50.140625 66.21875 39.40625 66.21875 \r\nz\r\nM 39.40625 74.21875 \r\nQ 54.734375 74.21875 63.90625 63.9375 \r\nQ 73.09375 53.65625 73.09375 36.375 \r\nQ 73.09375 19.140625 63.90625 8.859375 \r\nQ 54.734375 -1.421875 39.40625 -1.421875 \r\nQ 24.03125 -1.421875 14.8125 8.828125 \r\nQ 5.609375 19.09375 5.609375 36.375 \r\nQ 5.609375 53.65625 14.8125 63.9375 \r\nQ 24.03125 74.21875 39.40625 74.21875 \r\nz\r\n\" id=\"DejaVuSans-79\"/>\r\n       <path d=\"M 45.40625 46.390625 \r\nL 45.40625 75.984375 \r\nL 54.390625 75.984375 \r\nL 54.390625 0 \r\nL 45.40625 0 \r\nL 45.40625 8.203125 \r\nQ 42.578125 3.328125 38.25 0.953125 \r\nQ 33.9375 -1.421875 27.875 -1.421875 \r\nQ 17.96875 -1.421875 11.734375 6.484375 \r\nQ 5.515625 14.40625 5.515625 27.296875 \r\nQ 5.515625 40.1875 11.734375 48.09375 \r\nQ 17.96875 56 27.875 56 \r\nQ 33.9375 56 38.25 53.625 \r\nQ 42.578125 51.265625 45.40625 46.390625 \r\nz\r\nM 14.796875 27.296875 \r\nQ 14.796875 17.390625 18.875 11.75 \r\nQ 22.953125 6.109375 30.078125 6.109375 \r\nQ 37.203125 6.109375 41.296875 11.75 \r\nQ 45.40625 17.390625 45.40625 27.296875 \r\nQ 45.40625 37.203125 41.296875 42.84375 \r\nQ 37.203125 48.484375 30.078125 48.484375 \r\nQ 22.953125 48.484375 18.875 42.84375 \r\nQ 14.796875 37.203125 14.796875 27.296875 \r\nz\r\n\" id=\"DejaVuSans-100\"/>\r\n       <path d=\"M 28.609375 0 \r\nL 0.78125 72.90625 \r\nL 11.078125 72.90625 \r\nL 34.1875 11.53125 \r\nL 57.328125 72.90625 \r\nL 67.578125 72.90625 \r\nL 39.796875 0 \r\nz\r\n\" id=\"DejaVuSans-86\"/>\r\n      </defs>\r\n      <use xlink:href=\"#DejaVuSans-79\"/>\r\n      <use x=\"78.710938\" xlink:href=\"#DejaVuSans-114\"/>\r\n      <use x=\"118.074219\" xlink:href=\"#DejaVuSans-100\"/>\r\n      <use x=\"181.550781\" xlink:href=\"#DejaVuSans-101\"/>\r\n      <use x=\"243.074219\" xlink:href=\"#DejaVuSans-114\"/>\r\n      <use x=\"281.9375\" xlink:href=\"#DejaVuSans-101\"/>\r\n      <use x=\"343.460938\" xlink:href=\"#DejaVuSans-100\"/>\r\n      <use x=\"406.9375\" xlink:href=\"#DejaVuSans-32\"/>\r\n      <use x=\"438.724609\" xlink:href=\"#DejaVuSans-86\"/>\r\n      <use x=\"499.382812\" xlink:href=\"#DejaVuSans-97\"/>\r\n      <use x=\"560.662109\" xlink:href=\"#DejaVuSans-108\"/>\r\n      <use x=\"588.445312\" xlink:href=\"#DejaVuSans-117\"/>\r\n      <use x=\"651.824219\" xlink:href=\"#DejaVuSans-101\"/>\r\n      <use x=\"713.347656\" xlink:href=\"#DejaVuSans-115\"/>\r\n     </g>\r\n    </g>\r\n   </g>\r\n   <g id=\"line2d_16\">\r\n    <defs>\r\n     <path d=\"M 0 3 \r\nC 0.795609 3 1.55874 2.683901 2.12132 2.12132 \r\nC 2.683901 1.55874 3 0.795609 3 0 \r\nC 3 -0.795609 2.683901 -1.55874 2.12132 -2.12132 \r\nC 1.55874 -2.683901 0.795609 -3 0 -3 \r\nC -0.795609 -3 -1.55874 -2.683901 -2.12132 -2.12132 \r\nC -2.683901 -1.55874 -3 -0.795609 -3 0 \r\nC -3 0.795609 -2.683901 1.55874 -2.12132 2.12132 \r\nC -1.55874 2.683901 -0.795609 3 0 3 \r\nz\r\n\" id=\"maa035a3b37\" style=\"stroke:#0000ff;\"/>\r\n    </defs>\r\n    <g clip-path=\"url(#p0a3abcdb82)\">\r\n     <use style=\"fill:#0000ff;stroke:#0000ff;\" x=\"73.741619\" xlink:href=\"#maa035a3b37\" y=\"229.874489\"/>\r\n     <use style=\"fill:#0000ff;stroke:#0000ff;\" x=\"88.884273\" xlink:href=\"#maa035a3b37\" y=\"204.012425\"/>\r\n     <use style=\"fill:#0000ff;stroke:#0000ff;\" x=\"97.429034\" xlink:href=\"#maa035a3b37\" y=\"199.775986\"/>\r\n     <use style=\"fill:#0000ff;stroke:#0000ff;\" x=\"103.503149\" xlink:href=\"#maa035a3b37\" y=\"197.147392\"/>\r\n     <use style=\"fill:#0000ff;stroke:#0000ff;\" x=\"108.272414\" xlink:href=\"#maa035a3b37\" y=\"197.083667\"/>\r\n     <use style=\"fill:#0000ff;stroke:#0000ff;\" x=\"112.227476\" xlink:href=\"#maa035a3b37\" y=\"195.0518\"/>\r\n     <use style=\"fill:#0000ff;stroke:#0000ff;\" x=\"115.623147\" xlink:href=\"#maa035a3b37\" y=\"193.714565\"/>\r\n     <use style=\"fill:#0000ff;stroke:#0000ff;\" x=\"118.609415\" xlink:href=\"#maa035a3b37\" y=\"192.395467\"/>\r\n     <use style=\"fill:#0000ff;stroke:#0000ff;\" x=\"121.282319\" xlink:href=\"#maa035a3b37\" y=\"191.454477\"/>\r\n     <use style=\"fill:#0000ff;stroke:#0000ff;\" x=\"123.707198\" xlink:href=\"#maa035a3b37\" y=\"189.17139\"/>\r\n     <use style=\"fill:#0000ff;stroke:#0000ff;\" x=\"125.930596\" xlink:href=\"#maa035a3b37\" y=\"187.146526\"/>\r\n     <use style=\"fill:#0000ff;stroke:#0000ff;\" x=\"127.986887\" xlink:href=\"#maa035a3b37\" y=\"186.214389\"/>\r\n     <use style=\"fill:#0000ff;stroke:#0000ff;\" x=\"129.902208\" xlink:href=\"#maa035a3b37\" y=\"185.533398\"/>\r\n     <use style=\"fill:#0000ff;stroke:#0000ff;\" x=\"131.696911\" xlink:href=\"#maa035a3b37\" y=\"183.848349\"/>\r\n     <use style=\"fill:#0000ff;stroke:#0000ff;\" x=\"133.387168\" xlink:href=\"#maa035a3b37\" y=\"183.643894\"/>\r\n     <use style=\"fill:#0000ff;stroke:#0000ff;\" x=\"134.986052\" xlink:href=\"#maa035a3b37\" y=\"181.183722\"/>\r\n     <use style=\"fill:#0000ff;stroke:#0000ff;\" x=\"136.504284\" xlink:href=\"#maa035a3b37\" y=\"180.164382\"/>\r\n     <use style=\"fill:#0000ff;stroke:#0000ff;\" x=\"137.950774\" xlink:href=\"#maa035a3b37\" y=\"179.630612\"/>\r\n     <use style=\"fill:#0000ff;stroke:#0000ff;\" x=\"139.333007\" xlink:href=\"#maa035a3b37\" y=\"178.876142\"/>\r\n     <use style=\"fill:#0000ff;stroke:#0000ff;\" x=\"140.657337\" xlink:href=\"#maa035a3b37\" y=\"177.221583\"/>\r\n     <use style=\"fill:#0000ff;stroke:#0000ff;\" x=\"141.929203\" xlink:href=\"#maa035a3b37\" y=\"174.943568\"/>\r\n     <use style=\"fill:#0000ff;stroke:#0000ff;\" x=\"143.1533\" xlink:href=\"#maa035a3b37\" y=\"174.907469\"/>\r\n     <use style=\"fill:#0000ff;stroke:#0000ff;\" x=\"144.33371\" xlink:href=\"#maa035a3b37\" y=\"174.085751\"/>\r\n     <use style=\"fill:#0000ff;stroke:#0000ff;\" x=\"145.474006\" xlink:href=\"#maa035a3b37\" y=\"171.331741\"/>\r\n     <use style=\"fill:#0000ff;stroke:#0000ff;\" x=\"146.577332\" xlink:href=\"#maa035a3b37\" y=\"170.558737\"/>\r\n     <use style=\"fill:#0000ff;stroke:#0000ff;\" x=\"147.64647\" xlink:href=\"#maa035a3b37\" y=\"170.39315\"/>\r\n     <use style=\"fill:#0000ff;stroke:#0000ff;\" x=\"148.683896\" xlink:href=\"#maa035a3b37\" y=\"169.851792\"/>\r\n     <use style=\"fill:#0000ff;stroke:#0000ff;\" x=\"149.691823\" xlink:href=\"#maa035a3b37\" y=\"168.595959\"/>\r\n     <use style=\"fill:#0000ff;stroke:#0000ff;\" x=\"150.672235\" xlink:href=\"#maa035a3b37\" y=\"167.992164\"/>\r\n     <use style=\"fill:#0000ff;stroke:#0000ff;\" x=\"151.626921\" xlink:href=\"#maa035a3b37\" y=\"167.914968\"/>\r\n     <use style=\"fill:#0000ff;stroke:#0000ff;\" x=\"152.5575\" xlink:href=\"#maa035a3b37\" y=\"167.899375\"/>\r\n     <use style=\"fill:#0000ff;stroke:#0000ff;\" x=\"153.465438\" xlink:href=\"#maa035a3b37\" y=\"167.499706\"/>\r\n     <use style=\"fill:#0000ff;stroke:#0000ff;\" x=\"154.352073\" xlink:href=\"#maa035a3b37\" y=\"166.746348\"/>\r\n     <use style=\"fill:#0000ff;stroke:#0000ff;\" x=\"155.218623\" xlink:href=\"#maa035a3b37\" y=\"166.451105\"/>\r\n     <use style=\"fill:#0000ff;stroke:#0000ff;\" x=\"156.066207\" xlink:href=\"#maa035a3b37\" y=\"166.39132\"/>\r\n     <use style=\"fill:#0000ff;stroke:#0000ff;\" x=\"156.895849\" xlink:href=\"#maa035a3b37\" y=\"166.05092\"/>\r\n     <use style=\"fill:#0000ff;stroke:#0000ff;\" x=\"157.708495\" xlink:href=\"#maa035a3b37\" y=\"165.483015\"/>\r\n     <use style=\"fill:#0000ff;stroke:#0000ff;\" x=\"158.505014\" xlink:href=\"#maa035a3b37\" y=\"164.087197\"/>\r\n     <use style=\"fill:#0000ff;stroke:#0000ff;\" x=\"159.286212\" xlink:href=\"#maa035a3b37\" y=\"163.475148\"/>\r\n     <use style=\"fill:#0000ff;stroke:#0000ff;\" x=\"160.052834\" xlink:href=\"#maa035a3b37\" y=\"161.903529\"/>\r\n     <use style=\"fill:#0000ff;stroke:#0000ff;\" x=\"160.805574\" xlink:href=\"#maa035a3b37\" y=\"161.464619\"/>\r\n     <use style=\"fill:#0000ff;stroke:#0000ff;\" x=\"161.545075\" xlink:href=\"#maa035a3b37\" y=\"161.43633\"/>\r\n     <use style=\"fill:#0000ff;stroke:#0000ff;\" x=\"162.271939\" xlink:href=\"#maa035a3b37\" y=\"161.280703\"/>\r\n     <use style=\"fill:#0000ff;stroke:#0000ff;\" x=\"162.986724\" xlink:href=\"#maa035a3b37\" y=\"161.257105\"/>\r\n     <use style=\"fill:#0000ff;stroke:#0000ff;\" x=\"163.689955\" xlink:href=\"#maa035a3b37\" y=\"160.265786\"/>\r\n     <use style=\"fill:#0000ff;stroke:#0000ff;\" x=\"164.382124\" xlink:href=\"#maa035a3b37\" y=\"159.794783\"/>\r\n     <use style=\"fill:#0000ff;stroke:#0000ff;\" x=\"165.063689\" xlink:href=\"#maa035a3b37\" y=\"159.327905\"/>\r\n     <use style=\"fill:#0000ff;stroke:#0000ff;\" x=\"165.735083\" xlink:href=\"#maa035a3b37\" y=\"158.733351\"/>\r\n     <use style=\"fill:#0000ff;stroke:#0000ff;\" x=\"166.396713\" xlink:href=\"#maa035a3b37\" y=\"158.460656\"/>\r\n     <use style=\"fill:#0000ff;stroke:#0000ff;\" x=\"167.04896\" xlink:href=\"#maa035a3b37\" y=\"158.197224\"/>\r\n     <use style=\"fill:#0000ff;stroke:#0000ff;\" x=\"167.692188\" xlink:href=\"#maa035a3b37\" y=\"158.19309\"/>\r\n     <use style=\"fill:#0000ff;stroke:#0000ff;\" x=\"168.326734\" xlink:href=\"#maa035a3b37\" y=\"157.906668\"/>\r\n     <use style=\"fill:#0000ff;stroke:#0000ff;\" x=\"168.952923\" xlink:href=\"#maa035a3b37\" y=\"157.714293\"/>\r\n     <use style=\"fill:#0000ff;stroke:#0000ff;\" x=\"169.571058\" xlink:href=\"#maa035a3b37\" y=\"156.936393\"/>\r\n     <use style=\"fill:#0000ff;stroke:#0000ff;\" x=\"170.181429\" xlink:href=\"#maa035a3b37\" y=\"156.295493\"/>\r\n     <use style=\"fill:#0000ff;stroke:#0000ff;\" x=\"170.784308\" xlink:href=\"#maa035a3b37\" y=\"155.918434\"/>\r\n     <use style=\"fill:#0000ff;stroke:#0000ff;\" x=\"171.379956\" xlink:href=\"#maa035a3b37\" y=\"154.571743\"/>\r\n     <use style=\"fill:#0000ff;stroke:#0000ff;\" x=\"171.96862\" xlink:href=\"#maa035a3b37\" y=\"154.08604\"/>\r\n     <use style=\"fill:#0000ff;stroke:#0000ff;\" x=\"172.550533\" xlink:href=\"#maa035a3b37\" y=\"154.005323\"/>\r\n     <use style=\"fill:#0000ff;stroke:#0000ff;\" x=\"173.125921\" xlink:href=\"#maa035a3b37\" y=\"153.469812\"/>\r\n     <use style=\"fill:#0000ff;stroke:#0000ff;\" x=\"173.694994\" xlink:href=\"#maa035a3b37\" y=\"153.339977\"/>\r\n     <use style=\"fill:#0000ff;stroke:#0000ff;\" x=\"174.257957\" xlink:href=\"#maa035a3b37\" y=\"152.075487\"/>\r\n     <use style=\"fill:#0000ff;stroke:#0000ff;\" x=\"174.815003\" xlink:href=\"#maa035a3b37\" y=\"151.078429\"/>\r\n     <use style=\"fill:#0000ff;stroke:#0000ff;\" x=\"175.366316\" xlink:href=\"#maa035a3b37\" y=\"150.509715\"/>\r\n     <use style=\"fill:#0000ff;stroke:#0000ff;\" x=\"175.912074\" xlink:href=\"#maa035a3b37\" y=\"150.052555\"/>\r\n     <use style=\"fill:#0000ff;stroke:#0000ff;\" x=\"176.452446\" xlink:href=\"#maa035a3b37\" y=\"149.225827\"/>\r\n     <use style=\"fill:#0000ff;stroke:#0000ff;\" x=\"176.987593\" xlink:href=\"#maa035a3b37\" y=\"149.012483\"/>\r\n     <use style=\"fill:#0000ff;stroke:#0000ff;\" x=\"177.517671\" xlink:href=\"#maa035a3b37\" y=\"148.251099\"/>\r\n     <use style=\"fill:#0000ff;stroke:#0000ff;\" x=\"178.042827\" xlink:href=\"#maa035a3b37\" y=\"147.863293\"/>\r\n     <use style=\"fill:#0000ff;stroke:#0000ff;\" x=\"178.563205\" xlink:href=\"#maa035a3b37\" y=\"147.780407\"/>\r\n     <use style=\"fill:#0000ff;stroke:#0000ff;\" x=\"179.078941\" xlink:href=\"#maa035a3b37\" y=\"147.533041\"/>\r\n     <use style=\"fill:#0000ff;stroke:#0000ff;\" x=\"179.590166\" xlink:href=\"#maa035a3b37\" y=\"147.458081\"/>\r\n     <use style=\"fill:#0000ff;stroke:#0000ff;\" x=\"180.097007\" xlink:href=\"#maa035a3b37\" y=\"147.335856\"/>\r\n     <use style=\"fill:#0000ff;stroke:#0000ff;\" x=\"180.599585\" xlink:href=\"#maa035a3b37\" y=\"147.129469\"/>\r\n     <use style=\"fill:#0000ff;stroke:#0000ff;\" x=\"181.098017\" xlink:href=\"#maa035a3b37\" y=\"146.848828\"/>\r\n     <use style=\"fill:#0000ff;stroke:#0000ff;\" x=\"181.592414\" xlink:href=\"#maa035a3b37\" y=\"146.66508\"/>\r\n     <use style=\"fill:#0000ff;stroke:#0000ff;\" x=\"182.082886\" xlink:href=\"#maa035a3b37\" y=\"145.920889\"/>\r\n     <use style=\"fill:#0000ff;stroke:#0000ff;\" x=\"182.569536\" xlink:href=\"#maa035a3b37\" y=\"145.690503\"/>\r\n     <use style=\"fill:#0000ff;stroke:#0000ff;\" x=\"183.052465\" xlink:href=\"#maa035a3b37\" y=\"145.585246\"/>\r\n     <use style=\"fill:#0000ff;stroke:#0000ff;\" x=\"183.531771\" xlink:href=\"#maa035a3b37\" y=\"144.964855\"/>\r\n     <use style=\"fill:#0000ff;stroke:#0000ff;\" x=\"184.007545\" xlink:href=\"#maa035a3b37\" y=\"144.844122\"/>\r\n     <use style=\"fill:#0000ff;stroke:#0000ff;\" x=\"184.47988\" xlink:href=\"#maa035a3b37\" y=\"144.841956\"/>\r\n     <use style=\"fill:#0000ff;stroke:#0000ff;\" x=\"184.948862\" xlink:href=\"#maa035a3b37\" y=\"144.448652\"/>\r\n     <use style=\"fill:#0000ff;stroke:#0000ff;\" x=\"185.414576\" xlink:href=\"#maa035a3b37\" y=\"144.384481\"/>\r\n     <use style=\"fill:#0000ff;stroke:#0000ff;\" x=\"185.877103\" xlink:href=\"#maa035a3b37\" y=\"144.144205\"/>\r\n     <use style=\"fill:#0000ff;stroke:#0000ff;\" x=\"186.336522\" xlink:href=\"#maa035a3b37\" y=\"143.830296\"/>\r\n     <use style=\"fill:#0000ff;stroke:#0000ff;\" x=\"186.79291\" xlink:href=\"#maa035a3b37\" y=\"143.624915\"/>\r\n     <use style=\"fill:#0000ff;stroke:#0000ff;\" x=\"187.246341\" xlink:href=\"#maa035a3b37\" y=\"142.915918\"/>\r\n     <use style=\"fill:#0000ff;stroke:#0000ff;\" x=\"187.696886\" xlink:href=\"#maa035a3b37\" y=\"142.76954\"/>\r\n     <use style=\"fill:#0000ff;stroke:#0000ff;\" x=\"188.144615\" xlink:href=\"#maa035a3b37\" y=\"142.451381\"/>\r\n     <use style=\"fill:#0000ff;stroke:#0000ff;\" x=\"188.589596\" xlink:href=\"#maa035a3b37\" y=\"141.910572\"/>\r\n     <use style=\"fill:#0000ff;stroke:#0000ff;\" x=\"189.031893\" xlink:href=\"#maa035a3b37\" y=\"141.470498\"/>\r\n     <use style=\"fill:#0000ff;stroke:#0000ff;\" x=\"189.47157\" xlink:href=\"#maa035a3b37\" y=\"141.220609\"/>\r\n     <use style=\"fill:#0000ff;stroke:#0000ff;\" x=\"189.908688\" xlink:href=\"#maa035a3b37\" y=\"141.157627\"/>\r\n     <use style=\"fill:#0000ff;stroke:#0000ff;\" x=\"190.343308\" xlink:href=\"#maa035a3b37\" y=\"141.050299\"/>\r\n     <use style=\"fill:#0000ff;stroke:#0000ff;\" x=\"190.775487\" xlink:href=\"#maa035a3b37\" y=\"140.976035\"/>\r\n     <use style=\"fill:#0000ff;stroke:#0000ff;\" x=\"191.205282\" xlink:href=\"#maa035a3b37\" y=\"140.919327\"/>\r\n     <use style=\"fill:#0000ff;stroke:#0000ff;\" x=\"191.632747\" xlink:href=\"#maa035a3b37\" y=\"140.265376\"/>\r\n     <use style=\"fill:#0000ff;stroke:#0000ff;\" x=\"192.057936\" xlink:href=\"#maa035a3b37\" y=\"139.89972\"/>\r\n     <use style=\"fill:#0000ff;stroke:#0000ff;\" x=\"192.480901\" xlink:href=\"#maa035a3b37\" y=\"139.898879\"/>\r\n     <use style=\"fill:#0000ff;stroke:#0000ff;\" x=\"192.901693\" xlink:href=\"#maa035a3b37\" y=\"139.630314\"/>\r\n     <use style=\"fill:#0000ff;stroke:#0000ff;\" x=\"193.32036\" xlink:href=\"#maa035a3b37\" y=\"139.357294\"/>\r\n     <use style=\"fill:#0000ff;stroke:#0000ff;\" x=\"193.73695\" xlink:href=\"#maa035a3b37\" y=\"139.304559\"/>\r\n     <use style=\"fill:#0000ff;stroke:#0000ff;\" x=\"194.15151\" xlink:href=\"#maa035a3b37\" y=\"139.147226\"/>\r\n     <use style=\"fill:#0000ff;stroke:#0000ff;\" x=\"194.564086\" xlink:href=\"#maa035a3b37\" y=\"139.134695\"/>\r\n     <use style=\"fill:#0000ff;stroke:#0000ff;\" x=\"194.974721\" xlink:href=\"#maa035a3b37\" y=\"138.673123\"/>\r\n     <use style=\"fill:#0000ff;stroke:#0000ff;\" x=\"195.38346\" xlink:href=\"#maa035a3b37\" y=\"138.440119\"/>\r\n     <use style=\"fill:#0000ff;stroke:#0000ff;\" x=\"195.790343\" xlink:href=\"#maa035a3b37\" y=\"138.380529\"/>\r\n     <use style=\"fill:#0000ff;stroke:#0000ff;\" x=\"196.195413\" xlink:href=\"#maa035a3b37\" y=\"138.264318\"/>\r\n     <use style=\"fill:#0000ff;stroke:#0000ff;\" x=\"196.598709\" xlink:href=\"#maa035a3b37\" y=\"136.931\"/>\r\n     <use style=\"fill:#0000ff;stroke:#0000ff;\" x=\"197.000271\" xlink:href=\"#maa035a3b37\" y=\"136.399297\"/>\r\n     <use style=\"fill:#0000ff;stroke:#0000ff;\" x=\"197.400137\" xlink:href=\"#maa035a3b37\" y=\"135.739639\"/>\r\n     <use style=\"fill:#0000ff;stroke:#0000ff;\" x=\"197.798344\" xlink:href=\"#maa035a3b37\" y=\"135.587278\"/>\r\n     <use style=\"fill:#0000ff;stroke:#0000ff;\" x=\"198.194929\" xlink:href=\"#maa035a3b37\" y=\"134.858813\"/>\r\n     <use style=\"fill:#0000ff;stroke:#0000ff;\" x=\"198.589928\" xlink:href=\"#maa035a3b37\" y=\"134.704297\"/>\r\n     <use style=\"fill:#0000ff;stroke:#0000ff;\" x=\"198.983376\" xlink:href=\"#maa035a3b37\" y=\"134.596324\"/>\r\n     <use style=\"fill:#0000ff;stroke:#0000ff;\" x=\"199.375306\" xlink:href=\"#maa035a3b37\" y=\"134.436482\"/>\r\n     <use style=\"fill:#0000ff;stroke:#0000ff;\" x=\"199.765753\" xlink:href=\"#maa035a3b37\" y=\"133.760305\"/>\r\n     <use style=\"fill:#0000ff;stroke:#0000ff;\" x=\"200.154748\" xlink:href=\"#maa035a3b37\" y=\"133.712187\"/>\r\n     <use style=\"fill:#0000ff;stroke:#0000ff;\" x=\"200.542326\" xlink:href=\"#maa035a3b37\" y=\"133.16802\"/>\r\n     <use style=\"fill:#0000ff;stroke:#0000ff;\" x=\"200.928515\" xlink:href=\"#maa035a3b37\" y=\"133.132067\"/>\r\n     <use style=\"fill:#0000ff;stroke:#0000ff;\" x=\"201.313348\" xlink:href=\"#maa035a3b37\" y=\"131.132429\"/>\r\n     <use style=\"fill:#0000ff;stroke:#0000ff;\" x=\"201.696855\" xlink:href=\"#maa035a3b37\" y=\"131.045098\"/>\r\n     <use style=\"fill:#0000ff;stroke:#0000ff;\" x=\"202.079065\" xlink:href=\"#maa035a3b37\" y=\"130.408914\"/>\r\n     <use style=\"fill:#0000ff;stroke:#0000ff;\" x=\"202.460007\" xlink:href=\"#maa035a3b37\" y=\"130.351196\"/>\r\n     <use style=\"fill:#0000ff;stroke:#0000ff;\" x=\"202.839709\" xlink:href=\"#maa035a3b37\" y=\"130.285368\"/>\r\n     <use style=\"fill:#0000ff;stroke:#0000ff;\" x=\"203.2182\" xlink:href=\"#maa035a3b37\" y=\"130.11073\"/>\r\n     <use style=\"fill:#0000ff;stroke:#0000ff;\" x=\"203.595507\" xlink:href=\"#maa035a3b37\" y=\"130.087731\"/>\r\n     <use style=\"fill:#0000ff;stroke:#0000ff;\" x=\"203.971656\" xlink:href=\"#maa035a3b37\" y=\"129.952438\"/>\r\n     <use style=\"fill:#0000ff;stroke:#0000ff;\" x=\"204.346675\" xlink:href=\"#maa035a3b37\" y=\"129.059486\"/>\r\n     <use style=\"fill:#0000ff;stroke:#0000ff;\" x=\"204.720589\" xlink:href=\"#maa035a3b37\" y=\"128.972395\"/>\r\n     <use style=\"fill:#0000ff;stroke:#0000ff;\" x=\"205.093423\" xlink:href=\"#maa035a3b37\" y=\"128.932539\"/>\r\n     <use style=\"fill:#0000ff;stroke:#0000ff;\" x=\"205.465203\" xlink:href=\"#maa035a3b37\" y=\"128.906899\"/>\r\n     <use style=\"fill:#0000ff;stroke:#0000ff;\" x=\"205.835953\" xlink:href=\"#maa035a3b37\" y=\"128.890297\"/>\r\n     <use style=\"fill:#0000ff;stroke:#0000ff;\" x=\"206.205697\" xlink:href=\"#maa035a3b37\" y=\"128.324619\"/>\r\n     <use style=\"fill:#0000ff;stroke:#0000ff;\" x=\"206.57446\" xlink:href=\"#maa035a3b37\" y=\"128.275035\"/>\r\n     <use style=\"fill:#0000ff;stroke:#0000ff;\" x=\"206.942264\" xlink:href=\"#maa035a3b37\" y=\"128.262768\"/>\r\n     <use style=\"fill:#0000ff;stroke:#0000ff;\" x=\"207.309133\" xlink:href=\"#maa035a3b37\" y=\"127.858003\"/>\r\n     <use style=\"fill:#0000ff;stroke:#0000ff;\" x=\"207.675089\" xlink:href=\"#maa035a3b37\" y=\"127.743724\"/>\r\n     <use style=\"fill:#0000ff;stroke:#0000ff;\" x=\"208.040155\" xlink:href=\"#maa035a3b37\" y=\"127.642242\"/>\r\n     <use style=\"fill:#0000ff;stroke:#0000ff;\" x=\"208.404353\" xlink:href=\"#maa035a3b37\" y=\"127.347032\"/>\r\n     <use style=\"fill:#0000ff;stroke:#0000ff;\" x=\"208.767704\" xlink:href=\"#maa035a3b37\" y=\"127.173499\"/>\r\n     <use style=\"fill:#0000ff;stroke:#0000ff;\" x=\"209.130229\" xlink:href=\"#maa035a3b37\" y=\"127.173272\"/>\r\n     <use style=\"fill:#0000ff;stroke:#0000ff;\" x=\"209.491951\" xlink:href=\"#maa035a3b37\" y=\"126.962011\"/>\r\n     <use style=\"fill:#0000ff;stroke:#0000ff;\" x=\"209.852888\" xlink:href=\"#maa035a3b37\" y=\"126.363353\"/>\r\n     <use style=\"fill:#0000ff;stroke:#0000ff;\" x=\"210.213063\" xlink:href=\"#maa035a3b37\" y=\"126.235289\"/>\r\n     <use style=\"fill:#0000ff;stroke:#0000ff;\" x=\"210.572496\" xlink:href=\"#maa035a3b37\" y=\"126.18022\"/>\r\n     <use style=\"fill:#0000ff;stroke:#0000ff;\" x=\"210.931205\" xlink:href=\"#maa035a3b37\" y=\"125.99837\"/>\r\n     <use style=\"fill:#0000ff;stroke:#0000ff;\" x=\"211.289211\" xlink:href=\"#maa035a3b37\" y=\"125.94935\"/>\r\n     <use style=\"fill:#0000ff;stroke:#0000ff;\" x=\"211.646534\" xlink:href=\"#maa035a3b37\" y=\"125.822412\"/>\r\n     <use style=\"fill:#0000ff;stroke:#0000ff;\" x=\"212.003192\" xlink:href=\"#maa035a3b37\" y=\"125.662086\"/>\r\n     <use style=\"fill:#0000ff;stroke:#0000ff;\" x=\"212.359205\" xlink:href=\"#maa035a3b37\" y=\"125.229061\"/>\r\n     <use style=\"fill:#0000ff;stroke:#0000ff;\" x=\"212.714591\" xlink:href=\"#maa035a3b37\" y=\"125.209001\"/>\r\n     <use style=\"fill:#0000ff;stroke:#0000ff;\" x=\"213.069369\" xlink:href=\"#maa035a3b37\" y=\"125.151283\"/>\r\n     <use style=\"fill:#0000ff;stroke:#0000ff;\" x=\"213.423557\" xlink:href=\"#maa035a3b37\" y=\"124.987401\"/>\r\n     <use style=\"fill:#0000ff;stroke:#0000ff;\" x=\"213.777173\" xlink:href=\"#maa035a3b37\" y=\"124.919122\"/>\r\n     <use style=\"fill:#0000ff;stroke:#0000ff;\" x=\"214.130235\" xlink:href=\"#maa035a3b37\" y=\"124.845511\"/>\r\n     <use style=\"fill:#0000ff;stroke:#0000ff;\" x=\"214.482761\" xlink:href=\"#maa035a3b37\" y=\"124.808951\"/>\r\n     <use style=\"fill:#0000ff;stroke:#0000ff;\" x=\"214.834769\" xlink:href=\"#maa035a3b37\" y=\"124.721805\"/>\r\n     <use style=\"fill:#0000ff;stroke:#0000ff;\" x=\"215.186276\" xlink:href=\"#maa035a3b37\" y=\"124.010008\"/>\r\n     <use style=\"fill:#0000ff;stroke:#0000ff;\" x=\"215.537299\" xlink:href=\"#maa035a3b37\" y=\"123.75944\"/>\r\n     <use style=\"fill:#0000ff;stroke:#0000ff;\" x=\"215.887855\" xlink:href=\"#maa035a3b37\" y=\"123.218499\"/>\r\n     <use style=\"fill:#0000ff;stroke:#0000ff;\" x=\"216.237962\" xlink:href=\"#maa035a3b37\" y=\"123.188886\"/>\r\n     <use style=\"fill:#0000ff;stroke:#0000ff;\" x=\"216.587635\" xlink:href=\"#maa035a3b37\" y=\"123.184913\"/>\r\n     <use style=\"fill:#0000ff;stroke:#0000ff;\" x=\"216.936892\" xlink:href=\"#maa035a3b37\" y=\"123.073451\"/>\r\n     <use style=\"fill:#0000ff;stroke:#0000ff;\" x=\"217.285749\" xlink:href=\"#maa035a3b37\" y=\"122.934045\"/>\r\n     <use style=\"fill:#0000ff;stroke:#0000ff;\" x=\"217.634223\" xlink:href=\"#maa035a3b37\" y=\"122.820098\"/>\r\n     <use style=\"fill:#0000ff;stroke:#0000ff;\" x=\"217.982329\" xlink:href=\"#maa035a3b37\" y=\"122.453602\"/>\r\n     <use style=\"fill:#0000ff;stroke:#0000ff;\" x=\"218.330085\" xlink:href=\"#maa035a3b37\" y=\"122.37334\"/>\r\n     <use style=\"fill:#0000ff;stroke:#0000ff;\" x=\"218.677505\" xlink:href=\"#maa035a3b37\" y=\"121.880399\"/>\r\n     <use style=\"fill:#0000ff;stroke:#0000ff;\" x=\"219.024606\" xlink:href=\"#maa035a3b37\" y=\"121.801015\"/>\r\n     <use style=\"fill:#0000ff;stroke:#0000ff;\" x=\"219.371404\" xlink:href=\"#maa035a3b37\" y=\"121.729761\"/>\r\n     <use style=\"fill:#0000ff;stroke:#0000ff;\" x=\"219.717915\" xlink:href=\"#maa035a3b37\" y=\"121.576767\"/>\r\n     <use style=\"fill:#0000ff;stroke:#0000ff;\" x=\"220.064153\" xlink:href=\"#maa035a3b37\" y=\"121.552792\"/>\r\n     <use style=\"fill:#0000ff;stroke:#0000ff;\" x=\"220.410135\" xlink:href=\"#maa035a3b37\" y=\"121.408743\"/>\r\n     <use style=\"fill:#0000ff;stroke:#0000ff;\" x=\"220.755877\" xlink:href=\"#maa035a3b37\" y=\"121.406263\"/>\r\n     <use style=\"fill:#0000ff;stroke:#0000ff;\" x=\"221.101393\" xlink:href=\"#maa035a3b37\" y=\"121.385105\"/>\r\n     <use style=\"fill:#0000ff;stroke:#0000ff;\" x=\"221.446699\" xlink:href=\"#maa035a3b37\" y=\"121.348377\"/>\r\n     <use style=\"fill:#0000ff;stroke:#0000ff;\" x=\"221.79181\" xlink:href=\"#maa035a3b37\" y=\"121.322672\"/>\r\n     <use style=\"fill:#0000ff;stroke:#0000ff;\" x=\"222.136741\" xlink:href=\"#maa035a3b37\" y=\"121.099749\"/>\r\n     <use style=\"fill:#0000ff;stroke:#0000ff;\" x=\"222.481508\" xlink:href=\"#maa035a3b37\" y=\"121.058465\"/>\r\n     <use style=\"fill:#0000ff;stroke:#0000ff;\" x=\"222.826126\" xlink:href=\"#maa035a3b37\" y=\"120.775503\"/>\r\n     <use style=\"fill:#0000ff;stroke:#0000ff;\" x=\"223.170609\" xlink:href=\"#maa035a3b37\" y=\"120.259883\"/>\r\n     <use style=\"fill:#0000ff;stroke:#0000ff;\" x=\"223.514973\" xlink:href=\"#maa035a3b37\" y=\"120.084597\"/>\r\n     <use style=\"fill:#0000ff;stroke:#0000ff;\" x=\"223.859233\" xlink:href=\"#maa035a3b37\" y=\"119.552678\"/>\r\n     <use style=\"fill:#0000ff;stroke:#0000ff;\" x=\"224.203403\" xlink:href=\"#maa035a3b37\" y=\"119.351578\"/>\r\n     <use style=\"fill:#0000ff;stroke:#0000ff;\" x=\"224.547499\" xlink:href=\"#maa035a3b37\" y=\"119.203724\"/>\r\n     <use style=\"fill:#0000ff;stroke:#0000ff;\" x=\"224.891536\" xlink:href=\"#maa035a3b37\" y=\"119.083024\"/>\r\n     <use style=\"fill:#0000ff;stroke:#0000ff;\" x=\"225.235528\" xlink:href=\"#maa035a3b37\" y=\"119.022625\"/>\r\n     <use style=\"fill:#0000ff;stroke:#0000ff;\" x=\"225.57949\" xlink:href=\"#maa035a3b37\" y=\"118.975883\"/>\r\n     <use style=\"fill:#0000ff;stroke:#0000ff;\" x=\"225.923438\" xlink:href=\"#maa035a3b37\" y=\"118.866521\"/>\r\n     <use style=\"fill:#0000ff;stroke:#0000ff;\" x=\"226.267385\" xlink:href=\"#maa035a3b37\" y=\"118.864041\"/>\r\n     <use style=\"fill:#0000ff;stroke:#0000ff;\" x=\"226.611347\" xlink:href=\"#maa035a3b37\" y=\"118.748605\"/>\r\n     <use style=\"fill:#0000ff;stroke:#0000ff;\" x=\"226.955339\" xlink:href=\"#maa035a3b37\" y=\"118.517454\"/>\r\n     <use style=\"fill:#0000ff;stroke:#0000ff;\" x=\"227.299376\" xlink:href=\"#maa035a3b37\" y=\"118.406105\"/>\r\n     <use style=\"fill:#0000ff;stroke:#0000ff;\" x=\"227.643472\" xlink:href=\"#maa035a3b37\" y=\"118.386956\"/>\r\n     <use style=\"fill:#0000ff;stroke:#0000ff;\" x=\"227.987642\" xlink:href=\"#maa035a3b37\" y=\"117.69234\"/>\r\n     <use style=\"fill:#0000ff;stroke:#0000ff;\" x=\"228.331902\" xlink:href=\"#maa035a3b37\" y=\"117.650647\"/>\r\n     <use style=\"fill:#0000ff;stroke:#0000ff;\" x=\"228.676266\" xlink:href=\"#maa035a3b37\" y=\"117.586307\"/>\r\n     <use style=\"fill:#0000ff;stroke:#0000ff;\" x=\"229.020749\" xlink:href=\"#maa035a3b37\" y=\"117.458492\"/>\r\n     <use style=\"fill:#0000ff;stroke:#0000ff;\" x=\"229.365367\" xlink:href=\"#maa035a3b37\" y=\"117.44939\"/>\r\n     <use style=\"fill:#0000ff;stroke:#0000ff;\" x=\"229.710134\" xlink:href=\"#maa035a3b37\" y=\"117.302073\"/>\r\n     <use style=\"fill:#0000ff;stroke:#0000ff;\" x=\"230.055065\" xlink:href=\"#maa035a3b37\" y=\"117.238711\"/>\r\n     <use style=\"fill:#0000ff;stroke:#0000ff;\" x=\"230.400176\" xlink:href=\"#maa035a3b37\" y=\"117.155504\"/>\r\n     <use style=\"fill:#0000ff;stroke:#0000ff;\" x=\"230.745482\" xlink:href=\"#maa035a3b37\" y=\"117.074079\"/>\r\n     <use style=\"fill:#0000ff;stroke:#0000ff;\" x=\"231.090998\" xlink:href=\"#maa035a3b37\" y=\"117.013105\"/>\r\n     <use style=\"fill:#0000ff;stroke:#0000ff;\" x=\"231.43674\" xlink:href=\"#maa035a3b37\" y=\"115.904584\"/>\r\n     <use style=\"fill:#0000ff;stroke:#0000ff;\" x=\"231.782722\" xlink:href=\"#maa035a3b37\" y=\"114.998313\"/>\r\n     <use style=\"fill:#0000ff;stroke:#0000ff;\" x=\"232.12896\" xlink:href=\"#maa035a3b37\" y=\"114.998119\"/>\r\n     <use style=\"fill:#0000ff;stroke:#0000ff;\" x=\"232.475471\" xlink:href=\"#maa035a3b37\" y=\"114.880203\"/>\r\n     <use style=\"fill:#0000ff;stroke:#0000ff;\" x=\"232.822269\" xlink:href=\"#maa035a3b37\" y=\"114.700429\"/>\r\n     <use style=\"fill:#0000ff;stroke:#0000ff;\" x=\"233.16937\" xlink:href=\"#maa035a3b37\" y=\"114.520654\"/>\r\n     <use style=\"fill:#0000ff;stroke:#0000ff;\" x=\"233.51679\" xlink:href=\"#maa035a3b37\" y=\"114.465585\"/>\r\n     <use style=\"fill:#0000ff;stroke:#0000ff;\" x=\"233.864546\" xlink:href=\"#maa035a3b37\" y=\"114.277155\"/>\r\n     <use style=\"fill:#0000ff;stroke:#0000ff;\" x=\"234.212652\" xlink:href=\"#maa035a3b37\" y=\"114.115339\"/>\r\n     <use style=\"fill:#0000ff;stroke:#0000ff;\" x=\"234.561126\" xlink:href=\"#maa035a3b37\" y=\"113.834497\"/>\r\n     <use style=\"fill:#0000ff;stroke:#0000ff;\" x=\"234.909983\" xlink:href=\"#maa035a3b37\" y=\"113.473656\"/>\r\n     <use style=\"fill:#0000ff;stroke:#0000ff;\" x=\"235.25924\" xlink:href=\"#maa035a3b37\" y=\"113.310458\"/>\r\n     <use style=\"fill:#0000ff;stroke:#0000ff;\" x=\"235.608913\" xlink:href=\"#maa035a3b37\" y=\"112.735382\"/>\r\n     <use style=\"fill:#0000ff;stroke:#0000ff;\" x=\"235.95902\" xlink:href=\"#maa035a3b37\" y=\"112.078838\"/>\r\n     <use style=\"fill:#0000ff;stroke:#0000ff;\" x=\"236.309576\" xlink:href=\"#maa035a3b37\" y=\"111.814381\"/>\r\n     <use style=\"fill:#0000ff;stroke:#0000ff;\" x=\"236.660599\" xlink:href=\"#maa035a3b37\" y=\"111.789419\"/>\r\n     <use style=\"fill:#0000ff;stroke:#0000ff;\" x=\"237.012106\" xlink:href=\"#maa035a3b37\" y=\"111.744452\"/>\r\n     <use style=\"fill:#0000ff;stroke:#0000ff;\" x=\"237.364114\" xlink:href=\"#maa035a3b37\" y=\"110.82198\"/>\r\n     <use style=\"fill:#0000ff;stroke:#0000ff;\" x=\"237.71664\" xlink:href=\"#maa035a3b37\" y=\"110.468212\"/>\r\n     <use style=\"fill:#0000ff;stroke:#0000ff;\" x=\"238.069702\" xlink:href=\"#maa035a3b37\" y=\"110.400242\"/>\r\n     <use style=\"fill:#0000ff;stroke:#0000ff;\" x=\"238.423318\" xlink:href=\"#maa035a3b37\" y=\"110.092125\"/>\r\n     <use style=\"fill:#0000ff;stroke:#0000ff;\" x=\"238.777506\" xlink:href=\"#maa035a3b37\" y=\"109.950078\"/>\r\n     <use style=\"fill:#0000ff;stroke:#0000ff;\" x=\"239.132284\" xlink:href=\"#maa035a3b37\" y=\"109.84801\"/>\r\n     <use style=\"fill:#0000ff;stroke:#0000ff;\" x=\"239.48767\" xlink:href=\"#maa035a3b37\" y=\"109.717466\"/>\r\n     <use style=\"fill:#0000ff;stroke:#0000ff;\" x=\"239.843683\" xlink:href=\"#maa035a3b37\" y=\"109.490503\"/>\r\n     <use style=\"fill:#0000ff;stroke:#0000ff;\" x=\"240.200341\" xlink:href=\"#maa035a3b37\" y=\"109.260957\"/>\r\n     <use style=\"fill:#0000ff;stroke:#0000ff;\" x=\"240.557664\" xlink:href=\"#maa035a3b37\" y=\"109.237926\"/>\r\n     <use style=\"fill:#0000ff;stroke:#0000ff;\" x=\"240.91567\" xlink:href=\"#maa035a3b37\" y=\"109.148946\"/>\r\n     <use style=\"fill:#0000ff;stroke:#0000ff;\" x=\"241.274379\" xlink:href=\"#maa035a3b37\" y=\"108.832085\"/>\r\n     <use style=\"fill:#0000ff;stroke:#0000ff;\" x=\"241.633812\" xlink:href=\"#maa035a3b37\" y=\"108.819689\"/>\r\n     <use style=\"fill:#0000ff;stroke:#0000ff;\" x=\"241.993987\" xlink:href=\"#maa035a3b37\" y=\"108.659426\"/>\r\n     <use style=\"fill:#0000ff;stroke:#0000ff;\" x=\"242.354924\" xlink:href=\"#maa035a3b37\" y=\"107.748446\"/>\r\n     <use style=\"fill:#0000ff;stroke:#0000ff;\" x=\"242.716646\" xlink:href=\"#maa035a3b37\" y=\"107.5021\"/>\r\n     <use style=\"fill:#0000ff;stroke:#0000ff;\" x=\"243.079171\" xlink:href=\"#maa035a3b37\" y=\"107.295808\"/>\r\n     <use style=\"fill:#0000ff;stroke:#0000ff;\" x=\"243.442522\" xlink:href=\"#maa035a3b37\" y=\"107.242064\"/>\r\n     <use style=\"fill:#0000ff;stroke:#0000ff;\" x=\"243.80672\" xlink:href=\"#maa035a3b37\" y=\"107.126182\"/>\r\n     <use style=\"fill:#0000ff;stroke:#0000ff;\" x=\"244.171786\" xlink:href=\"#maa035a3b37\" y=\"107.117943\"/>\r\n     <use style=\"fill:#0000ff;stroke:#0000ff;\" x=\"244.537742\" xlink:href=\"#maa035a3b37\" y=\"107.04036\"/>\r\n     <use style=\"fill:#0000ff;stroke:#0000ff;\" x=\"244.904611\" xlink:href=\"#maa035a3b37\" y=\"107.013421\"/>\r\n     <use style=\"fill:#0000ff;stroke:#0000ff;\" x=\"245.272415\" xlink:href=\"#maa035a3b37\" y=\"106.717893\"/>\r\n     <use style=\"fill:#0000ff;stroke:#0000ff;\" x=\"245.641178\" xlink:href=\"#maa035a3b37\" y=\"106.539443\"/>\r\n     <use style=\"fill:#0000ff;stroke:#0000ff;\" x=\"246.010922\" xlink:href=\"#maa035a3b37\" y=\"106.339487\"/>\r\n     <use style=\"fill:#0000ff;stroke:#0000ff;\" x=\"246.381672\" xlink:href=\"#maa035a3b37\" y=\"106.033521\"/>\r\n     <use style=\"fill:#0000ff;stroke:#0000ff;\" x=\"246.753452\" xlink:href=\"#maa035a3b37\" y=\"105.895279\"/>\r\n     <use style=\"fill:#0000ff;stroke:#0000ff;\" x=\"247.126286\" xlink:href=\"#maa035a3b37\" y=\"105.853746\"/>\r\n     <use style=\"fill:#0000ff;stroke:#0000ff;\" x=\"247.5002\" xlink:href=\"#maa035a3b37\" y=\"105.426748\"/>\r\n     <use style=\"fill:#0000ff;stroke:#0000ff;\" x=\"247.875219\" xlink:href=\"#maa035a3b37\" y=\"105.283192\"/>\r\n     <use style=\"fill:#0000ff;stroke:#0000ff;\" x=\"248.251368\" xlink:href=\"#maa035a3b37\" y=\"105.238104\"/>\r\n     <use style=\"fill:#0000ff;stroke:#0000ff;\" x=\"248.628675\" xlink:href=\"#maa035a3b37\" y=\"105.170406\"/>\r\n     <use style=\"fill:#0000ff;stroke:#0000ff;\" x=\"249.007166\" xlink:href=\"#maa035a3b37\" y=\"105.050222\"/>\r\n     <use style=\"fill:#0000ff;stroke:#0000ff;\" x=\"249.386868\" xlink:href=\"#maa035a3b37\" y=\"104.970256\"/>\r\n     <use style=\"fill:#0000ff;stroke:#0000ff;\" x=\"249.76781\" xlink:href=\"#maa035a3b37\" y=\"104.741252\"/>\r\n     <use style=\"fill:#0000ff;stroke:#0000ff;\" x=\"250.15002\" xlink:href=\"#maa035a3b37\" y=\"104.238679\"/>\r\n     <use style=\"fill:#0000ff;stroke:#0000ff;\" x=\"250.533527\" xlink:href=\"#maa035a3b37\" y=\"104.182966\"/>\r\n     <use style=\"fill:#0000ff;stroke:#0000ff;\" x=\"250.91836\" xlink:href=\"#maa035a3b37\" y=\"103.790313\"/>\r\n     <use style=\"fill:#0000ff;stroke:#0000ff;\" x=\"251.304549\" xlink:href=\"#maa035a3b37\" y=\"103.727847\"/>\r\n     <use style=\"fill:#0000ff;stroke:#0000ff;\" x=\"251.692127\" xlink:href=\"#maa035a3b37\" y=\"103.251022\"/>\r\n     <use style=\"fill:#0000ff;stroke:#0000ff;\" x=\"252.081122\" xlink:href=\"#maa035a3b37\" y=\"102.915279\"/>\r\n     <use style=\"fill:#0000ff;stroke:#0000ff;\" x=\"252.471569\" xlink:href=\"#maa035a3b37\" y=\"102.15497\"/>\r\n     <use style=\"fill:#0000ff;stroke:#0000ff;\" x=\"252.863499\" xlink:href=\"#maa035a3b37\" y=\"102.092541\"/>\r\n     <use style=\"fill:#0000ff;stroke:#0000ff;\" x=\"253.256947\" xlink:href=\"#maa035a3b37\" y=\"102.042286\"/>\r\n     <use style=\"fill:#0000ff;stroke:#0000ff;\" x=\"253.651946\" xlink:href=\"#maa035a3b37\" y=\"101.976688\"/>\r\n     <use style=\"fill:#0000ff;stroke:#0000ff;\" x=\"254.048531\" xlink:href=\"#maa035a3b37\" y=\"100.782377\"/>\r\n     <use style=\"fill:#0000ff;stroke:#0000ff;\" x=\"254.446738\" xlink:href=\"#maa035a3b37\" y=\"100.620465\"/>\r\n     <use style=\"fill:#0000ff;stroke:#0000ff;\" x=\"254.846604\" xlink:href=\"#maa035a3b37\" y=\"100.604095\"/>\r\n     <use style=\"fill:#0000ff;stroke:#0000ff;\" x=\"255.248166\" xlink:href=\"#maa035a3b37\" y=\"100.395765\"/>\r\n     <use style=\"fill:#0000ff;stroke:#0000ff;\" x=\"255.651462\" xlink:href=\"#maa035a3b37\" y=\"99.435791\"/>\r\n     <use style=\"fill:#0000ff;stroke:#0000ff;\" x=\"256.056532\" xlink:href=\"#maa035a3b37\" y=\"99.27245\"/>\r\n     <use style=\"fill:#0000ff;stroke:#0000ff;\" x=\"256.463415\" xlink:href=\"#maa035a3b37\" y=\"98.625096\"/>\r\n     <use style=\"fill:#0000ff;stroke:#0000ff;\" x=\"256.872154\" xlink:href=\"#maa035a3b37\" y=\"98.536689\"/>\r\n     <use style=\"fill:#0000ff;stroke:#0000ff;\" x=\"257.282789\" xlink:href=\"#maa035a3b37\" y=\"98.51918\"/>\r\n     <use style=\"fill:#0000ff;stroke:#0000ff;\" x=\"257.695365\" xlink:href=\"#maa035a3b37\" y=\"98.518181\"/>\r\n     <use style=\"fill:#0000ff;stroke:#0000ff;\" x=\"258.109925\" xlink:href=\"#maa035a3b37\" y=\"98.005513\"/>\r\n     <use style=\"fill:#0000ff;stroke:#0000ff;\" x=\"258.526515\" xlink:href=\"#maa035a3b37\" y=\"97.753284\"/>\r\n     <use style=\"fill:#0000ff;stroke:#0000ff;\" x=\"258.945182\" xlink:href=\"#maa035a3b37\" y=\"97.732777\"/>\r\n     <use style=\"fill:#0000ff;stroke:#0000ff;\" x=\"259.365974\" xlink:href=\"#maa035a3b37\" y=\"97.534169\"/>\r\n     <use style=\"fill:#0000ff;stroke:#0000ff;\" x=\"259.788939\" xlink:href=\"#maa035a3b37\" y=\"97.469998\"/>\r\n     <use style=\"fill:#0000ff;stroke:#0000ff;\" x=\"260.214128\" xlink:href=\"#maa035a3b37\" y=\"97.42736\"/>\r\n     <use style=\"fill:#0000ff;stroke:#0000ff;\" x=\"260.641593\" xlink:href=\"#maa035a3b37\" y=\"97.353402\"/>\r\n     <use style=\"fill:#0000ff;stroke:#0000ff;\" x=\"261.071388\" xlink:href=\"#maa035a3b37\" y=\"97.197459\"/>\r\n     <use style=\"fill:#0000ff;stroke:#0000ff;\" x=\"261.503567\" xlink:href=\"#maa035a3b37\" y=\"97.123791\"/>\r\n     <use style=\"fill:#0000ff;stroke:#0000ff;\" x=\"261.938187\" xlink:href=\"#maa035a3b37\" y=\"96.969212\"/>\r\n     <use style=\"fill:#0000ff;stroke:#0000ff;\" x=\"262.375305\" xlink:href=\"#maa035a3b37\" y=\"96.886039\"/>\r\n     <use style=\"fill:#0000ff;stroke:#0000ff;\" x=\"262.814982\" xlink:href=\"#maa035a3b37\" y=\"96.74683\"/>\r\n     <use style=\"fill:#0000ff;stroke:#0000ff;\" x=\"263.257279\" xlink:href=\"#maa035a3b37\" y=\"96.730396\"/>\r\n     <use style=\"fill:#0000ff;stroke:#0000ff;\" x=\"263.70226\" xlink:href=\"#maa035a3b37\" y=\"96.727747\"/>\r\n     <use style=\"fill:#0000ff;stroke:#0000ff;\" x=\"264.149989\" xlink:href=\"#maa035a3b37\" y=\"96.507852\"/>\r\n     <use style=\"fill:#0000ff;stroke:#0000ff;\" x=\"264.600534\" xlink:href=\"#maa035a3b37\" y=\"96.373195\"/>\r\n     <use style=\"fill:#0000ff;stroke:#0000ff;\" x=\"265.053965\" xlink:href=\"#maa035a3b37\" y=\"95.857132\"/>\r\n     <use style=\"fill:#0000ff;stroke:#0000ff;\" x=\"265.510353\" xlink:href=\"#maa035a3b37\" y=\"95.644357\"/>\r\n     <use style=\"fill:#0000ff;stroke:#0000ff;\" x=\"265.969772\" xlink:href=\"#maa035a3b37\" y=\"95.642864\"/>\r\n     <use style=\"fill:#0000ff;stroke:#0000ff;\" x=\"266.432299\" xlink:href=\"#maa035a3b37\" y=\"94.880978\"/>\r\n     <use style=\"fill:#0000ff;stroke:#0000ff;\" x=\"266.898013\" xlink:href=\"#maa035a3b37\" y=\"94.875187\"/>\r\n     <use style=\"fill:#0000ff;stroke:#0000ff;\" x=\"267.366995\" xlink:href=\"#maa035a3b37\" y=\"94.611448\"/>\r\n     <use style=\"fill:#0000ff;stroke:#0000ff;\" x=\"267.83933\" xlink:href=\"#maa035a3b37\" y=\"94.483383\"/>\r\n     <use style=\"fill:#0000ff;stroke:#0000ff;\" x=\"268.315104\" xlink:href=\"#maa035a3b37\" y=\"94.434768\"/>\r\n     <use style=\"fill:#0000ff;stroke:#0000ff;\" x=\"268.79441\" xlink:href=\"#maa035a3b37\" y=\"94.356054\"/>\r\n     <use style=\"fill:#0000ff;stroke:#0000ff;\" x=\"269.277339\" xlink:href=\"#maa035a3b37\" y=\"93.612322\"/>\r\n     <use style=\"fill:#0000ff;stroke:#0000ff;\" x=\"269.763989\" xlink:href=\"#maa035a3b37\" y=\"93.504833\"/>\r\n     <use style=\"fill:#0000ff;stroke:#0000ff;\" x=\"270.254461\" xlink:href=\"#maa035a3b37\" y=\"93.490814\"/>\r\n     <use style=\"fill:#0000ff;stroke:#0000ff;\" x=\"270.748858\" xlink:href=\"#maa035a3b37\" y=\"93.102135\"/>\r\n     <use style=\"fill:#0000ff;stroke:#0000ff;\" x=\"271.24729\" xlink:href=\"#maa035a3b37\" y=\"93.096706\"/>\r\n     <use style=\"fill:#0000ff;stroke:#0000ff;\" x=\"271.749868\" xlink:href=\"#maa035a3b37\" y=\"93.009207\"/>\r\n     <use style=\"fill:#0000ff;stroke:#0000ff;\" x=\"272.256709\" xlink:href=\"#maa035a3b37\" y=\"92.976485\"/>\r\n     <use style=\"fill:#0000ff;stroke:#0000ff;\" x=\"272.767934\" xlink:href=\"#maa035a3b37\" y=\"92.736995\"/>\r\n     <use style=\"fill:#0000ff;stroke:#0000ff;\" x=\"273.28367\" xlink:href=\"#maa035a3b37\" y=\"92.232398\"/>\r\n     <use style=\"fill:#0000ff;stroke:#0000ff;\" x=\"273.804048\" xlink:href=\"#maa035a3b37\" y=\"92.225776\"/>\r\n     <use style=\"fill:#0000ff;stroke:#0000ff;\" x=\"274.329204\" xlink:href=\"#maa035a3b37\" y=\"91.597698\"/>\r\n     <use style=\"fill:#0000ff;stroke:#0000ff;\" x=\"274.859282\" xlink:href=\"#maa035a3b37\" y=\"91.300802\"/>\r\n     <use style=\"fill:#0000ff;stroke:#0000ff;\" x=\"275.394429\" xlink:href=\"#maa035a3b37\" y=\"91.253848\"/>\r\n     <use style=\"fill:#0000ff;stroke:#0000ff;\" x=\"275.934801\" xlink:href=\"#maa035a3b37\" y=\"91.071424\"/>\r\n     <use style=\"fill:#0000ff;stroke:#0000ff;\" x=\"276.480559\" xlink:href=\"#maa035a3b37\" y=\"90.697014\"/>\r\n     <use style=\"fill:#0000ff;stroke:#0000ff;\" x=\"277.031872\" xlink:href=\"#maa035a3b37\" y=\"90.580255\"/>\r\n     <use style=\"fill:#0000ff;stroke:#0000ff;\" x=\"277.588918\" xlink:href=\"#maa035a3b37\" y=\"90.557095\"/>\r\n     <use style=\"fill:#0000ff;stroke:#0000ff;\" x=\"278.151881\" xlink:href=\"#maa035a3b37\" y=\"90.275129\"/>\r\n     <use style=\"fill:#0000ff;stroke:#0000ff;\" x=\"278.720954\" xlink:href=\"#maa035a3b37\" y=\"89.857255\"/>\r\n     <use style=\"fill:#0000ff;stroke:#0000ff;\" x=\"279.296342\" xlink:href=\"#maa035a3b37\" y=\"89.76956\"/>\r\n     <use style=\"fill:#0000ff;stroke:#0000ff;\" x=\"279.878255\" xlink:href=\"#maa035a3b37\" y=\"89.729967\"/>\r\n     <use style=\"fill:#0000ff;stroke:#0000ff;\" x=\"280.466919\" xlink:href=\"#maa035a3b37\" y=\"89.444605\"/>\r\n     <use style=\"fill:#0000ff;stroke:#0000ff;\" x=\"281.062567\" xlink:href=\"#maa035a3b37\" y=\"89.339761\"/>\r\n     <use style=\"fill:#0000ff;stroke:#0000ff;\" x=\"281.665446\" xlink:href=\"#maa035a3b37\" y=\"89.098878\"/>\r\n     <use style=\"fill:#0000ff;stroke:#0000ff;\" x=\"282.275817\" xlink:href=\"#maa035a3b37\" y=\"88.906103\"/>\r\n     <use style=\"fill:#0000ff;stroke:#0000ff;\" x=\"282.893952\" xlink:href=\"#maa035a3b37\" y=\"88.697504\"/>\r\n     <use style=\"fill:#0000ff;stroke:#0000ff;\" x=\"283.520141\" xlink:href=\"#maa035a3b37\" y=\"88.210968\"/>\r\n     <use style=\"fill:#0000ff;stroke:#0000ff;\" x=\"284.154687\" xlink:href=\"#maa035a3b37\" y=\"88.115616\"/>\r\n     <use style=\"fill:#0000ff;stroke:#0000ff;\" x=\"284.797915\" xlink:href=\"#maa035a3b37\" y=\"87.694207\"/>\r\n     <use style=\"fill:#0000ff;stroke:#0000ff;\" x=\"285.450162\" xlink:href=\"#maa035a3b37\" y=\"87.099667\"/>\r\n     <use style=\"fill:#0000ff;stroke:#0000ff;\" x=\"286.111792\" xlink:href=\"#maa035a3b37\" y=\"87.042265\"/>\r\n     <use style=\"fill:#0000ff;stroke:#0000ff;\" x=\"286.783186\" xlink:href=\"#maa035a3b37\" y=\"86.836558\"/>\r\n     <use style=\"fill:#0000ff;stroke:#0000ff;\" x=\"287.464751\" xlink:href=\"#maa035a3b37\" y=\"86.462989\"/>\r\n     <use style=\"fill:#0000ff;stroke:#0000ff;\" x=\"288.15692\" xlink:href=\"#maa035a3b37\" y=\"86.390227\"/>\r\n     <use style=\"fill:#0000ff;stroke:#0000ff;\" x=\"288.860151\" xlink:href=\"#maa035a3b37\" y=\"85.633277\"/>\r\n     <use style=\"fill:#0000ff;stroke:#0000ff;\" x=\"289.574936\" xlink:href=\"#maa035a3b37\" y=\"85.586761\"/>\r\n     <use style=\"fill:#0000ff;stroke:#0000ff;\" x=\"290.3018\" xlink:href=\"#maa035a3b37\" y=\"85.353242\"/>\r\n     <use style=\"fill:#0000ff;stroke:#0000ff;\" x=\"291.041301\" xlink:href=\"#maa035a3b37\" y=\"85.013727\"/>\r\n     <use style=\"fill:#0000ff;stroke:#0000ff;\" x=\"291.794041\" xlink:href=\"#maa035a3b37\" y=\"84.756984\"/>\r\n     <use style=\"fill:#0000ff;stroke:#0000ff;\" x=\"292.560663\" xlink:href=\"#maa035a3b37\" y=\"84.309746\"/>\r\n     <use style=\"fill:#0000ff;stroke:#0000ff;\" x=\"293.341861\" xlink:href=\"#maa035a3b37\" y=\"83.870131\"/>\r\n     <use style=\"fill:#0000ff;stroke:#0000ff;\" x=\"294.13838\" xlink:href=\"#maa035a3b37\" y=\"83.692677\"/>\r\n     <use style=\"fill:#0000ff;stroke:#0000ff;\" x=\"294.951026\" xlink:href=\"#maa035a3b37\" y=\"83.455353\"/>\r\n     <use style=\"fill:#0000ff;stroke:#0000ff;\" x=\"295.780668\" xlink:href=\"#maa035a3b37\" y=\"83.266856\"/>\r\n     <use style=\"fill:#0000ff;stroke:#0000ff;\" x=\"296.628252\" xlink:href=\"#maa035a3b37\" y=\"83.213887\"/>\r\n     <use style=\"fill:#0000ff;stroke:#0000ff;\" x=\"297.494802\" xlink:href=\"#maa035a3b37\" y=\"82.734637\"/>\r\n     <use style=\"fill:#0000ff;stroke:#0000ff;\" x=\"298.381437\" xlink:href=\"#maa035a3b37\" y=\"82.38171\"/>\r\n     <use style=\"fill:#0000ff;stroke:#0000ff;\" x=\"299.289375\" xlink:href=\"#maa035a3b37\" y=\"82.049555\"/>\r\n     <use style=\"fill:#0000ff;stroke:#0000ff;\" x=\"300.219954\" xlink:href=\"#maa035a3b37\" y=\"81.946782\"/>\r\n     <use style=\"fill:#0000ff;stroke:#0000ff;\" x=\"301.17464\" xlink:href=\"#maa035a3b37\" y=\"81.702174\"/>\r\n     <use style=\"fill:#0000ff;stroke:#0000ff;\" x=\"302.155052\" xlink:href=\"#maa035a3b37\" y=\"80.966875\"/>\r\n     <use style=\"fill:#0000ff;stroke:#0000ff;\" x=\"303.162979\" xlink:href=\"#maa035a3b37\" y=\"80.388206\"/>\r\n     <use style=\"fill:#0000ff;stroke:#0000ff;\" x=\"304.200405\" xlink:href=\"#maa035a3b37\" y=\"79.815172\"/>\r\n     <use style=\"fill:#0000ff;stroke:#0000ff;\" x=\"305.269543\" xlink:href=\"#maa035a3b37\" y=\"78.326743\"/>\r\n     <use style=\"fill:#0000ff;stroke:#0000ff;\" x=\"306.372869\" xlink:href=\"#maa035a3b37\" y=\"78.129991\"/>\r\n     <use style=\"fill:#0000ff;stroke:#0000ff;\" x=\"307.513165\" xlink:href=\"#maa035a3b37\" y=\"76.815892\"/>\r\n     <use style=\"fill:#0000ff;stroke:#0000ff;\" x=\"308.693575\" xlink:href=\"#maa035a3b37\" y=\"76.783105\"/>\r\n     <use style=\"fill:#0000ff;stroke:#0000ff;\" x=\"309.917672\" xlink:href=\"#maa035a3b37\" y=\"75.981339\"/>\r\n     <use style=\"fill:#0000ff;stroke:#0000ff;\" x=\"311.189538\" xlink:href=\"#maa035a3b37\" y=\"75.723063\"/>\r\n     <use style=\"fill:#0000ff;stroke:#0000ff;\" x=\"312.513868\" xlink:href=\"#maa035a3b37\" y=\"75.553883\"/>\r\n     <use style=\"fill:#0000ff;stroke:#0000ff;\" x=\"313.896101\" xlink:href=\"#maa035a3b37\" y=\"75.511097\"/>\r\n     <use style=\"fill:#0000ff;stroke:#0000ff;\" x=\"315.342591\" xlink:href=\"#maa035a3b37\" y=\"75.258608\"/>\r\n     <use style=\"fill:#0000ff;stroke:#0000ff;\" x=\"316.860823\" xlink:href=\"#maa035a3b37\" y=\"74.193752\"/>\r\n     <use style=\"fill:#0000ff;stroke:#0000ff;\" x=\"318.459707\" xlink:href=\"#maa035a3b37\" y=\"73.866288\"/>\r\n     <use style=\"fill:#0000ff;stroke:#0000ff;\" x=\"320.149964\" xlink:href=\"#maa035a3b37\" y=\"72.588555\"/>\r\n     <use style=\"fill:#0000ff;stroke:#0000ff;\" x=\"321.944667\" xlink:href=\"#maa035a3b37\" y=\"72.295994\"/>\r\n     <use style=\"fill:#0000ff;stroke:#0000ff;\" x=\"323.859988\" xlink:href=\"#maa035a3b37\" y=\"72.10119\"/>\r\n     <use style=\"fill:#0000ff;stroke:#0000ff;\" x=\"325.916279\" xlink:href=\"#maa035a3b37\" y=\"71.026207\"/>\r\n     <use style=\"fill:#0000ff;stroke:#0000ff;\" x=\"328.139677\" xlink:href=\"#maa035a3b37\" y=\"69.116778\"/>\r\n     <use style=\"fill:#0000ff;stroke:#0000ff;\" x=\"330.564556\" xlink:href=\"#maa035a3b37\" y=\"68.785977\"/>\r\n     <use style=\"fill:#0000ff;stroke:#0000ff;\" x=\"333.23746\" xlink:href=\"#maa035a3b37\" y=\"68.332564\"/>\r\n     <use style=\"fill:#0000ff;stroke:#0000ff;\" x=\"336.223728\" xlink:href=\"#maa035a3b37\" y=\"68.30556\"/>\r\n     <use style=\"fill:#0000ff;stroke:#0000ff;\" x=\"339.619399\" xlink:href=\"#maa035a3b37\" y=\"67.958929\"/>\r\n     <use style=\"fill:#0000ff;stroke:#0000ff;\" x=\"343.574461\" xlink:href=\"#maa035a3b37\" y=\"66.917664\"/>\r\n     <use style=\"fill:#0000ff;stroke:#0000ff;\" x=\"348.343726\" xlink:href=\"#maa035a3b37\" y=\"66.109618\"/>\r\n     <use style=\"fill:#0000ff;stroke:#0000ff;\" x=\"354.417841\" xlink:href=\"#maa035a3b37\" y=\"64.106463\"/>\r\n     <use style=\"fill:#0000ff;stroke:#0000ff;\" x=\"362.962602\" xlink:href=\"#maa035a3b37\" y=\"59.946913\"/>\r\n     <use style=\"fill:#0000ff;stroke:#0000ff;\" x=\"378.105256\" xlink:href=\"#maa035a3b37\" y=\"51.689326\"/>\r\n    </g>\r\n   </g>\r\n   <g id=\"line2d_17\">\r\n    <path clip-path=\"url(#p0a3abcdb82)\" d=\"M 73.741619 209.663525 \r\nL 378.105256 32.201761 \r\nL 378.105256 32.201761 \r\n\" style=\"fill:none;stroke:#ff0000;stroke-linecap:square;stroke-width:1.5;\"/>\r\n   </g>\r\n   <g id=\"patch_3\">\r\n    <path d=\"M 58.523438 239.758125 \r\nL 58.523438 22.318125 \r\n\" style=\"fill:none;stroke:#000000;stroke-linecap:square;stroke-linejoin:miter;stroke-width:0.8;\"/>\r\n   </g>\r\n   <g id=\"patch_4\">\r\n    <path d=\"M 393.323438 239.758125 \r\nL 393.323438 22.318125 \r\n\" style=\"fill:none;stroke:#000000;stroke-linecap:square;stroke-linejoin:miter;stroke-width:0.8;\"/>\r\n   </g>\r\n   <g id=\"patch_5\">\r\n    <path d=\"M 58.523438 239.758125 \r\nL 393.323438 239.758125 \r\n\" style=\"fill:none;stroke:#000000;stroke-linecap:square;stroke-linejoin:miter;stroke-width:0.8;\"/>\r\n   </g>\r\n   <g id=\"patch_6\">\r\n    <path d=\"M 58.523438 22.318125 \r\nL 393.323438 22.318125 \r\n\" style=\"fill:none;stroke:#000000;stroke-linecap:square;stroke-linejoin:miter;stroke-width:0.8;\"/>\r\n   </g>\r\n   <g id=\"text_18\">\r\n    <!-- Probability Plot -->\r\n    <g transform=\"translate(180.99375 16.318125)scale(0.12 -0.12)\">\r\n     <defs>\r\n      <path d=\"M 19.671875 64.796875 \r\nL 19.671875 37.40625 \r\nL 32.078125 37.40625 \r\nQ 38.96875 37.40625 42.71875 40.96875 \r\nQ 46.484375 44.53125 46.484375 51.125 \r\nQ 46.484375 57.671875 42.71875 61.234375 \r\nQ 38.96875 64.796875 32.078125 64.796875 \r\nz\r\nM 9.8125 72.90625 \r\nL 32.078125 72.90625 \r\nQ 44.34375 72.90625 50.609375 67.359375 \r\nQ 56.890625 61.8125 56.890625 51.125 \r\nQ 56.890625 40.328125 50.609375 34.8125 \r\nQ 44.34375 29.296875 32.078125 29.296875 \r\nL 19.671875 29.296875 \r\nL 19.671875 0 \r\nL 9.8125 0 \r\nz\r\n\" id=\"DejaVuSans-80\"/>\r\n      <path d=\"M 48.6875 27.296875 \r\nQ 48.6875 37.203125 44.609375 42.84375 \r\nQ 40.53125 48.484375 33.40625 48.484375 \r\nQ 26.265625 48.484375 22.1875 42.84375 \r\nQ 18.109375 37.203125 18.109375 27.296875 \r\nQ 18.109375 17.390625 22.1875 11.75 \r\nQ 26.265625 6.109375 33.40625 6.109375 \r\nQ 40.53125 6.109375 44.609375 11.75 \r\nQ 48.6875 17.390625 48.6875 27.296875 \r\nz\r\nM 18.109375 46.390625 \r\nQ 20.953125 51.265625 25.265625 53.625 \r\nQ 29.59375 56 35.59375 56 \r\nQ 45.5625 56 51.78125 48.09375 \r\nQ 58.015625 40.1875 58.015625 27.296875 \r\nQ 58.015625 14.40625 51.78125 6.484375 \r\nQ 45.5625 -1.421875 35.59375 -1.421875 \r\nQ 29.59375 -1.421875 25.265625 0.953125 \r\nQ 20.953125 3.328125 18.109375 8.203125 \r\nL 18.109375 0 \r\nL 9.078125 0 \r\nL 9.078125 75.984375 \r\nL 18.109375 75.984375 \r\nz\r\n\" id=\"DejaVuSans-98\"/>\r\n      <path d=\"M 32.171875 -5.078125 \r\nQ 28.375 -14.84375 24.75 -17.8125 \r\nQ 21.140625 -20.796875 15.09375 -20.796875 \r\nL 7.90625 -20.796875 \r\nL 7.90625 -13.28125 \r\nL 13.1875 -13.28125 \r\nQ 16.890625 -13.28125 18.9375 -11.515625 \r\nQ 21 -9.765625 23.484375 -3.21875 \r\nL 25.09375 0.875 \r\nL 2.984375 54.6875 \r\nL 12.5 54.6875 \r\nL 29.59375 11.921875 \r\nL 46.6875 54.6875 \r\nL 56.203125 54.6875 \r\nz\r\n\" id=\"DejaVuSans-121\"/>\r\n     </defs>\r\n     <use xlink:href=\"#DejaVuSans-80\"/>\r\n     <use x=\"58.552734\" xlink:href=\"#DejaVuSans-114\"/>\r\n     <use x=\"97.416016\" xlink:href=\"#DejaVuSans-111\"/>\r\n     <use x=\"158.597656\" xlink:href=\"#DejaVuSans-98\"/>\r\n     <use x=\"222.074219\" xlink:href=\"#DejaVuSans-97\"/>\r\n     <use x=\"283.353516\" xlink:href=\"#DejaVuSans-98\"/>\r\n     <use x=\"346.830078\" xlink:href=\"#DejaVuSans-105\"/>\r\n     <use x=\"374.613281\" xlink:href=\"#DejaVuSans-108\"/>\r\n     <use x=\"402.396484\" xlink:href=\"#DejaVuSans-105\"/>\r\n     <use x=\"430.179688\" xlink:href=\"#DejaVuSans-116\"/>\r\n     <use x=\"469.388672\" xlink:href=\"#DejaVuSans-121\"/>\r\n     <use x=\"528.568359\" xlink:href=\"#DejaVuSans-32\"/>\r\n     <use x=\"560.355469\" xlink:href=\"#DejaVuSans-80\"/>\r\n     <use x=\"620.658203\" xlink:href=\"#DejaVuSans-108\"/>\r\n     <use x=\"648.441406\" xlink:href=\"#DejaVuSans-111\"/>\r\n     <use x=\"709.623047\" xlink:href=\"#DejaVuSans-116\"/>\r\n    </g>\r\n   </g>\r\n  </g>\r\n </g>\r\n <defs>\r\n  <clipPath id=\"p0a3abcdb82\">\r\n   <rect height=\"217.44\" width=\"334.8\" x=\"58.523438\" y=\"22.318125\"/>\r\n  </clipPath>\r\n </defs>\r\n</svg>\r\n",
      "image/png": "[encoded data removed]"
     },
     "metadata": {
      "needs_background": "light"
     }
    }
   ],
   "source": [
    "fig = plt.figure()\n",
    "ax = fig.add_subplot(111)\n",
    "res = stats.probplot(results.resid, dist='norm', plot=ax)\n",
    "fig.show()"
   ]
  },
  {
   "source": [
    "### Residuals\n",
    "The residuals from both the `kitchen sink` and `simplified` models appear to be generally normally distributed, meaning we are unlikely to have missed a critical explanatory variable in our analysis.\n",
    "\n",
    "### Comparison to Univariate\n",
    "Both multivariate models performed significantly better than the single-variable regression performed last week, which only achieved an R<sup>2</sup> of 0.22 for the best performing category."
   ],
   "cell_type": "markdown",
   "metadata": {}
  },
  {
   "cell_type": "code",
   "execution_count": 33,
   "metadata": {},
   "outputs": [
    {
     "output_type": "display_data",
     "data": {
      "application/vnd.plotly.v1+json": {
       "config": {
        "plotlyServerURL": "https://plot.ly"
       },
       "data": [
        {
         "alignmentgroup": "True",
         "hovertemplate": "tenure=%{x}<br>overall=%{y}<extra></extra>",
         "legendgroup": "",
         "marker": {
          "color": "#636efa"
         },
         "name": "",
         "notched": false,
         "offsetgroup": "",
         "orientation": "v",
         "showlegend": false,
         "type": "box",
         "x": [
          "1 to less than 2 years",
          "2 to less than 4 years",
          "4 to less than 6 years",
          "less than 6 months",
          "1 to less than 2 years",
          "1 to less than 2 years",
          "4 to less than 6 years",
          "less than 6 months",
          "less than 6 months",
          "less than 6 months",
          "4 to less than 6 years",
          "1 to less than 2 years",
          "4 to less than 6 years",
          "1 to less than 2 years",
          "2 to less than 4 years",
          "4 to less than 6 years",
          "2 to less than 4 years",
          "1 to less than 2 years",
          "4 to less than 6 years",
          "4 to less than 6 years",
          "1 to less than 2 years",
          "2 to less than 4 years",
          "1 to less than 2 years",
          "1 to less than 2 years",
          "1 to less than 2 years",
          "1 to less than 2 years",
          "1 to less than 2 years",
          "2 to less than 4 years",
          "2 to less than 4 years",
          "1 to less than 2 years",
          "1 to less than 2 years",
          "1 to less than 2 years",
          "2 to less than 4 years",
          "2 to less than 4 years",
          "less than 6 months",
          "less than 6 months",
          "4 to less than 6 years",
          "1 to less than 2 years",
          "2 to less than 4 years",
          "1 to less than 2 years",
          "6 months to less than 1 year",
          "6 months to less than 1 year",
          "2 to less than 4 years",
          "4 to less than 6 years",
          "2 to less than 4 years",
          "1 to less than 2 years",
          "1 to less than 2 years",
          "2 to less than 4 years",
          "1 to less than 2 years",
          "1 to less than 2 years",
          "2 to less than 4 years",
          "2 to less than 4 years",
          "less than 6 months",
          "less than 6 months",
          "6 months to less than 1 year",
          "1 to less than 2 years",
          "1 to less than 2 years",
          "1 to less than 2 years",
          "1 to less than 2 years",
          "2 to less than 4 years",
          "less than 6 months",
          "less than 6 months",
          "4 to less than 6 years",
          "1 to less than 2 years",
          "2 to less than 4 years",
          "1 to less than 2 years",
          "2 to less than 4 years",
          "2 to less than 4 years",
          "4 to less than 6 years",
          "1 to less than 2 years",
          "2 to less than 4 years",
          "2 to less than 4 years",
          "less than 6 months",
          "4 to less than 6 years",
          "less than 6 months",
          "1 to less than 2 years",
          "2 to less than 4 years",
          "1 to less than 2 years",
          "4 to less than 6 years",
          "4 to less than 6 years",
          "6 months to less than 1 year",
          "2 to less than 4 years",
          "2 to less than 4 years",
          "4 to less than 6 years",
          "2 to less than 4 years",
          "4 to less than 6 years",
          "2 to less than 4 years",
          "6 months to less than 1 year",
          "1 to less than 2 years",
          "6 months to less than 1 year",
          "1 to less than 2 years",
          "2 to less than 4 years",
          "1 to less than 2 years",
          "1 to less than 2 years",
          "2 to less than 4 years",
          "1 to less than 2 years",
          "4 to less than 6 years",
          "2 to less than 4 years",
          "2 to less than 4 years",
          "4 to less than 6 years",
          "2 to less than 4 years",
          "1 to less than 2 years",
          "6 months to less than 1 year",
          "1 to less than 2 years",
          "1 to less than 2 years",
          "less than 6 months",
          "4 to less than 6 years",
          "1 to less than 2 years",
          "1 to less than 2 years",
          "1 to less than 2 years",
          "4 to less than 6 years",
          "1 to less than 2 years",
          "6 months to less than 1 year",
          "2 to less than 4 years",
          "6 months to less than 1 year",
          "2 to less than 4 years",
          "4 to less than 6 years",
          "4 to less than 6 years",
          "1 to less than 2 years",
          "1 to less than 2 years",
          "1 to less than 2 years",
          "1 to less than 2 years",
          "less than 6 months",
          "1 to less than 2 years",
          "2 to less than 4 years",
          "1 to less than 2 years",
          "6 months to less than 1 year",
          "1 to less than 2 years",
          "1 to less than 2 years",
          "2 to less than 4 years",
          "1 to less than 2 years",
          "2 to less than 4 years",
          "4 to less than 6 years",
          "1 to less than 2 years",
          "4 to less than 6 years",
          "2 to less than 4 years",
          "6 months to less than 1 year",
          "less than 6 months",
          "2 to less than 4 years",
          "1 to less than 2 years",
          "2 to less than 4 years",
          "4 to less than 6 years",
          "2 to less than 4 years",
          "1 to less than 2 years",
          "1 to less than 2 years",
          "4 to less than 6 years",
          "4 to less than 6 years",
          "2 to less than 4 years",
          "2 to less than 4 years",
          "less than 6 months",
          "1 to less than 2 years",
          "2 to less than 4 years",
          "less than 6 months",
          "1 to less than 2 years",
          "1 to less than 2 years",
          "1 to less than 2 years",
          "6 months to less than 1 year",
          "1 to less than 2 years",
          "2 to less than 4 years",
          "2 to less than 4 years",
          "2 to less than 4 years",
          "1 to less than 2 years",
          "2 to less than 4 years",
          "6 months to less than 1 year",
          "2 to less than 4 years",
          "less than 6 months",
          "less than 6 months",
          "6 months to less than 1 year",
          "4 to less than 6 years",
          "6 months to less than 1 year",
          "1 to less than 2 years",
          "1 to less than 2 years",
          "1 to less than 2 years",
          "1 to less than 2 years",
          "2 to less than 4 years",
          "4 to less than 6 years",
          "6 months to less than 1 year",
          "less than 6 months",
          "2 to less than 4 years",
          "1 to less than 2 years",
          "4 to less than 6 years",
          "less than 6 months",
          "1 to less than 2 years",
          "1 to less than 2 years",
          "1 to less than 2 years",
          "1 to less than 2 years",
          "6 months to less than 1 year",
          "less than 6 months",
          "4 to less than 6 years",
          "less than 6 months",
          "1 to less than 2 years",
          "1 to less than 2 years",
          "1 to less than 2 years",
          "6 months to less than 1 year",
          "1 to less than 2 years",
          "1 to less than 2 years",
          "1 to less than 2 years",
          "2 to less than 4 years",
          "1 to less than 2 years",
          "less than 6 months",
          "1 to less than 2 years",
          "less than 6 months",
          "2 to less than 4 years",
          "1 to less than 2 years",
          "1 to less than 2 years",
          "1 to less than 2 years",
          "2 to less than 4 years",
          "1 to less than 2 years",
          "4 to less than 6 years",
          "1 to less than 2 years",
          "1 to less than 2 years",
          "6 months to less than 1 year",
          "2 to less than 4 years",
          "1 to less than 2 years",
          "2 to less than 4 years",
          "less than 6 months",
          "1 to less than 2 years",
          "less than 6 months",
          "6 months to less than 1 year",
          "1 to less than 2 years",
          "6 months to less than 1 year",
          "6 months to less than 1 year",
          "1 to less than 2 years",
          "less than 6 months",
          "1 to less than 2 years",
          "1 to less than 2 years",
          "less than 6 months",
          "1 to less than 2 years",
          "2 to less than 4 years",
          "1 to less than 2 years",
          "4 to less than 6 years",
          "1 to less than 2 years",
          "1 to less than 2 years",
          "1 to less than 2 years",
          "2 to less than 4 years",
          "1 to less than 2 years",
          "1 to less than 2 years",
          "2 to less than 4 years",
          "4 to less than 6 years",
          "6 months to less than 1 year",
          "less than 6 months",
          "1 to less than 2 years",
          "2 to less than 4 years",
          "4 to less than 6 years",
          "4 to less than 6 years",
          "less than 6 months",
          "1 to less than 2 years",
          "less than 6 months",
          "2 to less than 4 years",
          "2 to less than 4 years",
          "less than 6 months",
          "less than 6 months",
          "less than 6 months",
          "6 months to less than 1 year",
          "2 to less than 4 years",
          "1 to less than 2 years",
          "1 to less than 2 years",
          "1 to less than 2 years",
          "less than 6 months",
          "2 to less than 4 years",
          "4 to less than 6 years",
          "less than 6 months",
          "1 to less than 2 years",
          "2 to less than 4 years",
          "1 to less than 2 years",
          "1 to less than 2 years",
          "1 to less than 2 years",
          "2 to less than 4 years",
          "1 to less than 2 years",
          "1 to less than 2 years",
          "4 to less than 6 years",
          "1 to less than 2 years",
          "2 to less than 4 years",
          "4 to less than 6 years",
          "2 to less than 4 years",
          "4 to less than 6 years",
          "6 months to less than 1 year",
          "2 to less than 4 years",
          "6 months to less than 1 year",
          "1 to less than 2 years",
          "1 to less than 2 years",
          "1 to less than 2 years",
          "2 to less than 4 years",
          "1 to less than 2 years",
          "2 to less than 4 years",
          "2 to less than 4 years",
          "6 months to less than 1 year",
          "1 to less than 2 years",
          "4 to less than 6 years",
          "4 to less than 6 years",
          "1 to less than 2 years",
          "1 to less than 2 years",
          "2 to less than 4 years",
          "2 to less than 4 years",
          "2 to less than 4 years",
          "2 to less than 4 years",
          "1 to less than 2 years",
          "1 to less than 2 years",
          "1 to less than 2 years",
          "1 to less than 2 years",
          "less than 6 months",
          "6 months to less than 1 year",
          "2 to less than 4 years",
          "1 to less than 2 years",
          "2 to less than 4 years",
          "2 to less than 4 years",
          "1 to less than 2 years",
          "4 to less than 6 years",
          "less than 6 months",
          "1 to less than 2 years",
          "2 to less than 4 years",
          "2 to less than 4 years",
          "1 to less than 2 years",
          "1 to less than 2 years",
          "4 to less than 6 years",
          "1 to less than 2 years",
          "4 to less than 6 years",
          "1 to less than 2 years",
          "6 months to less than 1 year",
          "less than 6 months",
          "2 to less than 4 years",
          "6 months to less than 1 year",
          "1 to less than 2 years",
          "4 to less than 6 years",
          "1 to less than 2 years",
          "2 to less than 4 years",
          "6 months to less than 1 year",
          "2 to less than 4 years",
          "1 to less than 2 years",
          "less than 6 months",
          "less than 6 months",
          "less than 6 months",
          "2 to less than 4 years",
          "6 months to less than 1 year",
          "2 to less than 4 years",
          "1 to less than 2 years",
          "1 to less than 2 years",
          "1 to less than 2 years",
          "2 to less than 4 years",
          "less than 6 months",
          "2 to less than 4 years",
          "4 to less than 6 years",
          "less than 6 months",
          "6 months to less than 1 year",
          "6 months to less than 1 year",
          "2 to less than 4 years",
          "1 to less than 2 years",
          "1 to less than 2 years",
          "2 to less than 4 years",
          "6 months to less than 1 year",
          "1 to less than 2 years",
          "2 to less than 4 years",
          "less than 6 months",
          "2 to less than 4 years",
          "less than 6 months",
          "4 to less than 6 years",
          "4 to less than 6 years",
          "1 to less than 2 years",
          "2 to less than 4 years",
          "2 to less than 4 years",
          "4 to less than 6 years",
          "less than 6 months",
          "4 to less than 6 years",
          "2 to less than 4 years",
          "less than 6 months",
          "1 to less than 2 years",
          "4 to less than 6 years",
          "1 to less than 2 years",
          "1 to less than 2 years",
          "2 to less than 4 years",
          "less than 6 months",
          "4 to less than 6 years",
          "1 to less than 2 years",
          "4 to less than 6 years",
          "6 months to less than 1 year",
          "less than 6 months",
          "1 to less than 2 years",
          "2 to less than 4 years",
          "2 to less than 4 years",
          "4 to less than 6 years",
          "2 to less than 4 years"
         ],
         "x0": " ",
         "xaxis": "x",
         "y": [
          0.7226666666666668,
          0.8666666666666668,
          0.9279999999999999,
          0.6853333333333333,
          0.7733333333333333,
          0.752,
          0.9493333333333333,
          0.6293333333333334,
          0.7599999999999999,
          0.7093333333333333,
          0.8800000000000001,
          0.6853333333333335,
          0.8613333333333333,
          0.7733333333333333,
          0.7999999999999999,
          0.8826666666666666,
          0.8266666666666668,
          0.6106666666666667,
          0.8559999999999999,
          0.8666666666666668,
          0.7733333333333333,
          0.8480000000000001,
          0.7733333333333333,
          0.8,
          0.7946666666666666,
          0.752,
          0.768,
          0.7733333333333334,
          0.7893333333333333,
          0.8079999999999999,
          0.7759999999999999,
          0.7040000000000001,
          0.7466666666666667,
          0.8480000000000001,
          0.7306666666666667,
          0.7413333333333333,
          0.8133333333333332,
          0.7546666666666666,
          0.7866666666666666,
          0.7386666666666667,
          0.7653333333333333,
          0.7173333333333335,
          0.624,
          0.7546666666666666,
          0.7093333333333334,
          0.7173333333333334,
          0.6693333333333333,
          0.7653333333333333,
          0.7466666666666666,
          0.7333333333333334,
          0.7733333333333332,
          0.7946666666666667,
          0.6026666666666667,
          0.6293333333333334,
          0.8160000000000001,
          0.6906666666666668,
          0.76,
          0.6826666666666666,
          0.7866666666666666,
          0.768,
          0.768,
          0.7999999999999999,
          0.8186666666666668,
          0.7679999999999999,
          0.7866666666666667,
          0.6399999999999999,
          0.6666666666666667,
          0.7679999999999999,
          0.8933333333333333,
          0.616,
          0.696,
          0.752,
          0.6346666666666667,
          0.9093333333333332,
          0.8133333333333332,
          0.7813333333333333,
          0.7040000000000001,
          0.5946666666666667,
          0.7013333333333334,
          0.7013333333333334,
          0.6613333333333333,
          0.5866666666666667,
          0.7946666666666667,
          0.752,
          0.624,
          0.76,
          0.8053333333333335,
          0.6319999999999999,
          0.5893333333333333,
          0.6719999999999999,
          0.6773333333333332,
          0.8,
          0.8213333333333335,
          0.664,
          0.6799999999999999,
          0.8480000000000001,
          0.8186666666666665,
          0.6426666666666667,
          0.7120000000000001,
          0.8079999999999998,
          0.8480000000000001,
          0.7866666666666666,
          0.7866666666666666,
          0.7413333333333333,
          0.7866666666666667,
          0.7786666666666666,
          0.8426666666666666,
          0.6986666666666667,
          0.6986666666666668,
          0.8213333333333332,
          0.8160000000000001,
          0.8400000000000001,
          0.752,
          0.8266666666666668,
          0.7413333333333333,
          0.7599999999999999,
          0.8906666666666666,
          0.7520000000000001,
          0.6906666666666668,
          0.7813333333333333,
          0.8213333333333335,
          0.6373333333333334,
          0.8293333333333333,
          0.7546666666666667,
          0.7733333333333332,
          0.736,
          0.672,
          0.8559999999999999,
          0.8079999999999998,
          0.7040000000000001,
          0.7813333333333332,
          0.7813333333333333,
          0.8880000000000001,
          0.8106666666666665,
          0.8213333333333335,
          0.792,
          0.8053333333333335,
          0.8,
          0.8213333333333332,
          0.7040000000000001,
          0.7626666666666666,
          0.8373333333333333,
          0.7733333333333334,
          0.7466666666666668,
          0.76,
          0.8693333333333332,
          0.7866666666666668,
          0.7306666666666666,
          0.768,
          0.7733333333333333,
          0.6666666666666667,
          0.8346666666666668,
          0.8,
          0.8480000000000001,
          0.72,
          0.7946666666666666,
          0.752,
          0.6479999999999999,
          0.7813333333333333,
          0.7733333333333333,
          0.7440000000000001,
          0.7546666666666667,
          0.7493333333333334,
          0.7813333333333332,
          0.7226666666666667,
          0.6559999999999999,
          0.8346666666666666,
          0.6186666666666666,
          0.8426666666666668,
          0.5680000000000001,
          0.7146666666666668,
          0.7946666666666666,
          0.752,
          0.6799999999999999,
          0.7733333333333333,
          0.8880000000000001,
          0.7733333333333333,
          0.8026666666666668,
          0.7866666666666666,
          0.8693333333333332,
          0.8906666666666666,
          0.7466666666666667,
          0.752,
          0.8079999999999999,
          0.7866666666666667,
          0.8133333333333332,
          0.7386666666666668,
          0.7386666666666668,
          0.8799999999999999,
          0.7866666666666666,
          0.792,
          0.7999999999999999,
          0.76,
          0.7733333333333333,
          0.7493333333333333,
          0.8213333333333335,
          0.7786666666666667,
          0.8026666666666665,
          0.7919999999999999,
          0.7946666666666666,
          0.7333333333333333,
          0.8266666666666668,
          0.752,
          0.8293333333333333,
          0.76,
          0.6826666666666666,
          0.8399999999999999,
          0.8293333333333333,
          0.9013333333333332,
          0.6853333333333335,
          0.8079999999999998,
          0.8079999999999999,
          0.8133333333333332,
          0.76,
          0.8346666666666668,
          0.8426666666666666,
          0.7466666666666668,
          0.8426666666666668,
          0.7466666666666666,
          0.8240000000000001,
          0.7413333333333334,
          0.7653333333333333,
          0.7866666666666666,
          0.7413333333333333,
          0.7653333333333333,
          0.7546666666666666,
          0.8613333333333333,
          0.8160000000000001,
          0.7386666666666668,
          0.7893333333333333,
          0.792,
          0.7893333333333333,
          0.7386666666666667,
          0.76,
          0.8079999999999999,
          0.8133333333333332,
          0.7120000000000001,
          0.8213333333333335,
          0.8826666666666668,
          0.7386666666666667,
          0.8079999999999999,
          0.8000000000000002,
          0.8959999999999999,
          0.8346666666666668,
          0.8559999999999999,
          0.8426666666666666,
          0.768,
          0.8026666666666668,
          0.7866666666666666,
          0.6933333333333334,
          0.8213333333333332,
          0.736,
          0.7946666666666669,
          0.7893333333333333,
          0.8160000000000001,
          0.7946666666666666,
          0.752,
          0.76,
          0.7226666666666668,
          0.76,
          0.8480000000000001,
          0.7413333333333333,
          0.7946666666666666,
          0.8079999999999999,
          0.7653333333333333,
          0.752,
          0.752,
          0.8213333333333332,
          0.7999999999999999,
          0.7599999999999999,
          0.8613333333333333,
          0.7120000000000001,
          0.7866666666666666,
          0.9173333333333332,
          0.7839999999999999,
          0.8693333333333332,
          0.7439999999999999,
          0.7813333333333333,
          0.7946666666666666,
          0.8480000000000001,
          0.8693333333333333,
          0.7813333333333333,
          0.7546666666666668,
          0.7813333333333333,
          0.7893333333333333,
          0.7386666666666668,
          0.7866666666666668,
          0.8266666666666668,
          0.9306666666666664,
          0.8746666666666668,
          0.7946666666666667,
          0.7466666666666668,
          0.8480000000000001,
          0.768,
          0.7120000000000001,
          0.72,
          0.7146666666666668,
          0.76,
          0.616,
          0.8133333333333335,
          0.7546666666666666,
          0.7493333333333334,
          0.7173333333333334,
          0.6346666666666667,
          0.8480000000000001,
          0.6293333333333334,
          0.6933333333333332,
          0.8346666666666668,
          0.7813333333333333,
          0.7946666666666666,
          0.7386666666666667,
          0.7759999999999999,
          0.8079999999999998,
          0.6746666666666667,
          0.8346666666666666,
          0.696,
          0.904,
          0.7466666666666668,
          0.7946666666666666,
          0.768,
          0.784,
          0.7466666666666666,
          0.7466666666666667,
          0.9066666666666666,
          0.6693333333333333,
          0.6853333333333333,
          0.7999999999999999,
          0.8426666666666666,
          0.7253333333333333,
          0.8213333333333335,
          0.7040000000000001,
          0.6853333333333332,
          0.7093333333333334,
          0.7466666666666666,
          0.76,
          0.7413333333333333,
          0.7546666666666668,
          0.6613333333333333,
          0.7146666666666668,
          0.7893333333333333,
          0.8213333333333335,
          0.904,
          0.8079999999999999,
          0.7733333333333333,
          0.7226666666666667,
          0.8826666666666666,
          0.7759999999999999,
          0.68,
          0.7919999999999999,
          0.72,
          0.6613333333333333,
          0.6853333333333333,
          0.8080000000000002,
          0.5946666666666667,
          0.8106666666666668,
          0.8,
          0.8346666666666668,
          0.6533333333333334,
          0.8,
          0.7093333333333333,
          0.8346666666666668,
          0.6773333333333333,
          0.8746666666666668,
          0.7946666666666666,
          0.76,
          0.7653333333333333,
          0.9013333333333332,
          0.6773333333333333,
          0.6559999999999999,
          0.8773333333333333,
          0.6986666666666667,
          0.9173333333333332,
          0.7173333333333335,
          0.9093333333333332,
          0.8266666666666668,
          0.7386666666666668,
          0.7466666666666666,
          0.7120000000000001,
          0.7573333333333335,
          0.9306666666666666,
          0.8320000000000001
         ],
         "y0": " ",
         "yaxis": "y"
        }
       ],
       "layout": {
        "boxmode": "group",
        "legend": {
         "tracegroupgap": 0
        },
        "margin": {
         "t": 60
        },
        "template": {
         "data": {
          "bar": [
           {
            "error_x": {
             "color": "#2a3f5f"
            },
            "error_y": {
             "color": "#2a3f5f"
            },
            "marker": {
             "line": {
              "color": "#E5ECF6",
              "width": 0.5
             }
            },
            "type": "bar"
           }
          ],
          "barpolar": [
           {
            "marker": {
             "line": {
              "color": "#E5ECF6",
              "width": 0.5
             }
            },
            "type": "barpolar"
           }
          ],
          "carpet": [
           {
            "aaxis": {
             "endlinecolor": "#2a3f5f",
             "gridcolor": "white",
             "linecolor": "white",
             "minorgridcolor": "white",
             "startlinecolor": "#2a3f5f"
            },
            "baxis": {
             "endlinecolor": "#2a3f5f",
             "gridcolor": "white",
             "linecolor": "white",
             "minorgridcolor": "white",
             "startlinecolor": "#2a3f5f"
            },
            "type": "carpet"
           }
          ],
          "choropleth": [
           {
            "colorbar": {
             "outlinewidth": 0,
             "ticks": ""
            },
            "type": "choropleth"
           }
          ],
          "contour": [
           {
            "colorbar": {
             "outlinewidth": 0,
             "ticks": ""
            },
            "colorscale": [
             [
              0,
              "#0d0887"
             ],
             [
              0.1111111111111111,
              "#46039f"
             ],
             [
              0.2222222222222222,
              "#7201a8"
             ],
             [
              0.3333333333333333,
              "#9c179e"
             ],
             [
              0.4444444444444444,
              "#bd3786"
             ],
             [
              0.5555555555555556,
              "#d8576b"
             ],
             [
              0.6666666666666666,
              "#ed7953"
             ],
             [
              0.7777777777777778,
              "#fb9f3a"
             ],
             [
              0.8888888888888888,
              "#fdca26"
             ],
             [
              1,
              "#f0f921"
             ]
            ],
            "type": "contour"
           }
          ],
          "contourcarpet": [
           {
            "colorbar": {
             "outlinewidth": 0,
             "ticks": ""
            },
            "type": "contourcarpet"
           }
          ],
          "heatmap": [
           {
            "colorbar": {
             "outlinewidth": 0,
             "ticks": ""
            },
            "colorscale": [
             [
              0,
              "#0d0887"
             ],
             [
              0.1111111111111111,
              "#46039f"
             ],
             [
              0.2222222222222222,
              "#7201a8"
             ],
             [
              0.3333333333333333,
              "#9c179e"
             ],
             [
              0.4444444444444444,
              "#bd3786"
             ],
             [
              0.5555555555555556,
              "#d8576b"
             ],
             [
              0.6666666666666666,
              "#ed7953"
             ],
             [
              0.7777777777777778,
              "#fb9f3a"
             ],
             [
              0.8888888888888888,
              "#fdca26"
             ],
             [
              1,
              "#f0f921"
             ]
            ],
            "type": "heatmap"
           }
          ],
          "heatmapgl": [
           {
            "colorbar": {
             "outlinewidth": 0,
             "ticks": ""
            },
            "colorscale": [
             [
              0,
              "#0d0887"
             ],
             [
              0.1111111111111111,
              "#46039f"
             ],
             [
              0.2222222222222222,
              "#7201a8"
             ],
             [
              0.3333333333333333,
              "#9c179e"
             ],
             [
              0.4444444444444444,
              "#bd3786"
             ],
             [
              0.5555555555555556,
              "#d8576b"
             ],
             [
              0.6666666666666666,
              "#ed7953"
             ],
             [
              0.7777777777777778,
              "#fb9f3a"
             ],
             [
              0.8888888888888888,
              "#fdca26"
             ],
             [
              1,
              "#f0f921"
             ]
            ],
            "type": "heatmapgl"
           }
          ],
          "histogram": [
           {
            "marker": {
             "colorbar": {
              "outlinewidth": 0,
              "ticks": ""
             }
            },
            "type": "histogram"
           }
          ],
          "histogram2d": [
           {
            "colorbar": {
             "outlinewidth": 0,
             "ticks": ""
            },
            "colorscale": [
             [
              0,
              "#0d0887"
             ],
             [
              0.1111111111111111,
              "#46039f"
             ],
             [
              0.2222222222222222,
              "#7201a8"
             ],
             [
              0.3333333333333333,
              "#9c179e"
             ],
             [
              0.4444444444444444,
              "#bd3786"
             ],
             [
              0.5555555555555556,
              "#d8576b"
             ],
             [
              0.6666666666666666,
              "#ed7953"
             ],
             [
              0.7777777777777778,
              "#fb9f3a"
             ],
             [
              0.8888888888888888,
              "#fdca26"
             ],
             [
              1,
              "#f0f921"
             ]
            ],
            "type": "histogram2d"
           }
          ],
          "histogram2dcontour": [
           {
            "colorbar": {
             "outlinewidth": 0,
             "ticks": ""
            },
            "colorscale": [
             [
              0,
              "#0d0887"
             ],
             [
              0.1111111111111111,
              "#46039f"
             ],
             [
              0.2222222222222222,
              "#7201a8"
             ],
             [
              0.3333333333333333,
              "#9c179e"
             ],
             [
              0.4444444444444444,
              "#bd3786"
             ],
             [
              0.5555555555555556,
              "#d8576b"
             ],
             [
              0.6666666666666666,
              "#ed7953"
             ],
             [
              0.7777777777777778,
              "#fb9f3a"
             ],
             [
              0.8888888888888888,
              "#fdca26"
             ],
             [
              1,
              "#f0f921"
             ]
            ],
            "type": "histogram2dcontour"
           }
          ],
          "mesh3d": [
           {
            "colorbar": {
             "outlinewidth": 0,
             "ticks": ""
            },
            "type": "mesh3d"
           }
          ],
          "parcoords": [
           {
            "line": {
             "colorbar": {
              "outlinewidth": 0,
              "ticks": ""
             }
            },
            "type": "parcoords"
           }
          ],
          "pie": [
           {
            "automargin": true,
            "type": "pie"
           }
          ],
          "scatter": [
           {
            "marker": {
             "colorbar": {
              "outlinewidth": 0,
              "ticks": ""
             }
            },
            "type": "scatter"
           }
          ],
          "scatter3d": [
           {
            "line": {
             "colorbar": {
              "outlinewidth": 0,
              "ticks": ""
             }
            },
            "marker": {
             "colorbar": {
              "outlinewidth": 0,
              "ticks": ""
             }
            },
            "type": "scatter3d"
           }
          ],
          "scattercarpet": [
           {
            "marker": {
             "colorbar": {
              "outlinewidth": 0,
              "ticks": ""
             }
            },
            "type": "scattercarpet"
           }
          ],
          "scattergeo": [
           {
            "marker": {
             "colorbar": {
              "outlinewidth": 0,
              "ticks": ""
             }
            },
            "type": "scattergeo"
           }
          ],
          "scattergl": [
           {
            "marker": {
             "colorbar": {
              "outlinewidth": 0,
              "ticks": ""
             }
            },
            "type": "scattergl"
           }
          ],
          "scattermapbox": [
           {
            "marker": {
             "colorbar": {
              "outlinewidth": 0,
              "ticks": ""
             }
            },
            "type": "scattermapbox"
           }
          ],
          "scatterpolar": [
           {
            "marker": {
             "colorbar": {
              "outlinewidth": 0,
              "ticks": ""
             }
            },
            "type": "scatterpolar"
           }
          ],
          "scatterpolargl": [
           {
            "marker": {
             "colorbar": {
              "outlinewidth": 0,
              "ticks": ""
             }
            },
            "type": "scatterpolargl"
           }
          ],
          "scatterternary": [
           {
            "marker": {
             "colorbar": {
              "outlinewidth": 0,
              "ticks": ""
             }
            },
            "type": "scatterternary"
           }
          ],
          "surface": [
           {
            "colorbar": {
             "outlinewidth": 0,
             "ticks": ""
            },
            "colorscale": [
             [
              0,
              "#0d0887"
             ],
             [
              0.1111111111111111,
              "#46039f"
             ],
             [
              0.2222222222222222,
              "#7201a8"
             ],
             [
              0.3333333333333333,
              "#9c179e"
             ],
             [
              0.4444444444444444,
              "#bd3786"
             ],
             [
              0.5555555555555556,
              "#d8576b"
             ],
             [
              0.6666666666666666,
              "#ed7953"
             ],
             [
              0.7777777777777778,
              "#fb9f3a"
             ],
             [
              0.8888888888888888,
              "#fdca26"
             ],
             [
              1,
              "#f0f921"
             ]
            ],
            "type": "surface"
           }
          ],
          "table": [
           {
            "cells": {
             "fill": {
              "color": "#EBF0F8"
             },
             "line": {
              "color": "white"
             }
            },
            "header": {
             "fill": {
              "color": "#C8D4E3"
             },
             "line": {
              "color": "white"
             }
            },
            "type": "table"
           }
          ]
         },
         "layout": {
          "annotationdefaults": {
           "arrowcolor": "#2a3f5f",
           "arrowhead": 0,
           "arrowwidth": 1
          },
          "autotypenumbers": "strict",
          "coloraxis": {
           "colorbar": {
            "outlinewidth": 0,
            "ticks": ""
           }
          },
          "colorscale": {
           "diverging": [
            [
             0,
             "#8e0152"
            ],
            [
             0.1,
             "#c51b7d"
            ],
            [
             0.2,
             "#de77ae"
            ],
            [
             0.3,
             "#f1b6da"
            ],
            [
             0.4,
             "#fde0ef"
            ],
            [
             0.5,
             "#f7f7f7"
            ],
            [
             0.6,
             "#e6f5d0"
            ],
            [
             0.7,
             "#b8e186"
            ],
            [
             0.8,
             "#7fbc41"
            ],
            [
             0.9,
             "#4d9221"
            ],
            [
             1,
             "#276419"
            ]
           ],
           "sequential": [
            [
             0,
             "#0d0887"
            ],
            [
             0.1111111111111111,
             "#46039f"
            ],
            [
             0.2222222222222222,
             "#7201a8"
            ],
            [
             0.3333333333333333,
             "#9c179e"
            ],
            [
             0.4444444444444444,
             "#bd3786"
            ],
            [
             0.5555555555555556,
             "#d8576b"
            ],
            [
             0.6666666666666666,
             "#ed7953"
            ],
            [
             0.7777777777777778,
             "#fb9f3a"
            ],
            [
             0.8888888888888888,
             "#fdca26"
            ],
            [
             1,
             "#f0f921"
            ]
           ],
           "sequentialminus": [
            [
             0,
             "#0d0887"
            ],
            [
             0.1111111111111111,
             "#46039f"
            ],
            [
             0.2222222222222222,
             "#7201a8"
            ],
            [
             0.3333333333333333,
             "#9c179e"
            ],
            [
             0.4444444444444444,
             "#bd3786"
            ],
            [
             0.5555555555555556,
             "#d8576b"
            ],
            [
             0.6666666666666666,
             "#ed7953"
            ],
            [
             0.7777777777777778,
             "#fb9f3a"
            ],
            [
             0.8888888888888888,
             "#fdca26"
            ],
            [
             1,
             "#f0f921"
            ]
           ]
          },
          "colorway": [
           "#636efa",
           "#EF553B",
           "#00cc96",
           "#ab63fa",
           "#FFA15A",
           "#19d3f3",
           "#FF6692",
           "#B6E880",
           "#FF97FF",
           "#FECB52"
          ],
          "font": {
           "color": "#2a3f5f"
          },
          "geo": {
           "bgcolor": "white",
           "lakecolor": "white",
           "landcolor": "#E5ECF6",
           "showlakes": true,
           "showland": true,
           "subunitcolor": "white"
          },
          "hoverlabel": {
           "align": "left"
          },
          "hovermode": "closest",
          "mapbox": {
           "style": "light"
          },
          "paper_bgcolor": "white",
          "plot_bgcolor": "#E5ECF6",
          "polar": {
           "angularaxis": {
            "gridcolor": "white",
            "linecolor": "white",
            "ticks": ""
           },
           "bgcolor": "#E5ECF6",
           "radialaxis": {
            "gridcolor": "white",
            "linecolor": "white",
            "ticks": ""
           }
          },
          "scene": {
           "xaxis": {
            "backgroundcolor": "#E5ECF6",
            "gridcolor": "white",
            "gridwidth": 2,
            "linecolor": "white",
            "showbackground": true,
            "ticks": "",
            "zerolinecolor": "white"
           },
           "yaxis": {
            "backgroundcolor": "#E5ECF6",
            "gridcolor": "white",
            "gridwidth": 2,
            "linecolor": "white",
            "showbackground": true,
            "ticks": "",
            "zerolinecolor": "white"
           },
           "zaxis": {
            "backgroundcolor": "#E5ECF6",
            "gridcolor": "white",
            "gridwidth": 2,
            "linecolor": "white",
            "showbackground": true,
            "ticks": "",
            "zerolinecolor": "white"
           }
          },
          "shapedefaults": {
           "line": {
            "color": "#2a3f5f"
           }
          },
          "ternary": {
           "aaxis": {
            "gridcolor": "white",
            "linecolor": "white",
            "ticks": ""
           },
           "baxis": {
            "gridcolor": "white",
            "linecolor": "white",
            "ticks": ""
           },
           "bgcolor": "#E5ECF6",
           "caxis": {
            "gridcolor": "white",
            "linecolor": "white",
            "ticks": ""
           }
          },
          "title": {
           "x": 0.05
          },
          "xaxis": {
           "automargin": true,
           "gridcolor": "white",
           "linecolor": "white",
           "ticks": "",
           "title": {
            "standoff": 15
           },
           "zerolinecolor": "white",
           "zerolinewidth": 2
          },
          "yaxis": {
           "automargin": true,
           "gridcolor": "white",
           "linecolor": "white",
           "ticks": "",
           "title": {
            "standoff": 15
           },
           "zerolinecolor": "white",
           "zerolinewidth": 2
          }
         }
        },
        "xaxis": {
         "anchor": "y",
         "domain": [
          0,
          1
         ],
         "title": {
          "text": "tenure"
         }
        },
        "yaxis": {
         "anchor": "x",
         "domain": [
          0,
          1
         ],
         "title": {
          "text": "overall"
         }
        }
       }
      },
      "text/html": "<div>                            <div id=\"f545dd08-05b1-4943-9e8a-bfa72db8da62\" class=\"plotly-graph-div\" style=\"height:525px; width:100%;\"></div>            <script type=\"text/javascript\">                require([\"plotly\"], function(Plotly) {                    window.PLOTLYENV=window.PLOTLYENV || {};                                    if (document.getElementById(\"f545dd08-05b1-4943-9e8a-bfa72db8da62\")) {                    Plotly.newPlot(                        \"f545dd08-05b1-4943-9e8a-bfa72db8da62\",                        [{\"alignmentgroup\": \"True\", \"hovertemplate\": \"tenure=%{x}<br>overall=%{y}<extra></extra>\", \"legendgroup\": \"\", \"marker\": {\"color\": \"#636efa\"}, \"name\": \"\", \"notched\": false, \"offsetgroup\": \"\", \"orientation\": \"v\", \"showlegend\": false, \"type\": \"box\", \"x\": [\"1 to less than 2 years\", \"2 to less than 4 years\", \"4 to less than 6 years\", \"less than 6 months\", \"1 to less than 2 years\", \"1 to less than 2 years\", \"4 to less than 6 years\", \"less than 6 months\", \"less than 6 months\", \"less than 6 months\", \"4 to less than 6 years\", \"1 to less than 2 years\", \"4 to less than 6 years\", \"1 to less than 2 years\", \"2 to less than 4 years\", \"4 to less than 6 years\", \"2 to less than 4 years\", \"1 to less than 2 years\", \"4 to less than 6 years\", \"4 to less than 6 years\", \"1 to less than 2 years\", \"2 to less than 4 years\", \"1 to less than 2 years\", \"1 to less than 2 years\", \"1 to less than 2 years\", \"1 to less than 2 years\", \"1 to less than 2 years\", \"2 to less than 4 years\", \"2 to less than 4 years\", \"1 to less than 2 years\", \"1 to less than 2 years\", \"1 to less than 2 years\", \"2 to less than 4 years\", \"2 to less than 4 years\", \"less than 6 months\", \"less than 6 months\", \"4 to less than 6 years\", \"1 to less than 2 years\", \"2 to less than 4 years\", \"1 to less than 2 years\", \"6 months to less than 1 year\", \"6 months to less than 1 year\", \"2 to less than 4 years\", \"4 to less than 6 years\", \"2 to less than 4 years\", \"1 to less than 2 years\", \"1 to less than 2 years\", \"2 to less than 4 years\", \"1 to less than 2 years\", \"1 to less than 2 years\", \"2 to less than 4 years\", \"2 to less than 4 years\", \"less than 6 months\", \"less than 6 months\", \"6 months to less than 1 year\", \"1 to less than 2 years\", \"1 to less than 2 years\", \"1 to less than 2 years\", \"1 to less than 2 years\", \"2 to less than 4 years\", \"less than 6 months\", \"less than 6 months\", \"4 to less than 6 years\", \"1 to less than 2 years\", \"2 to less than 4 years\", \"1 to less than 2 years\", \"2 to less than 4 years\", \"2 to less than 4 years\", \"4 to less than 6 years\", \"1 to less than 2 years\", \"2 to less than 4 years\", \"2 to less than 4 years\", \"less than 6 months\", \"4 to less than 6 years\", \"less than 6 months\", \"1 to less than 2 years\", \"2 to less than 4 years\", \"1 to less than 2 years\", \"4 to less than 6 years\", \"4 to less than 6 years\", \"6 months to less than 1 year\", \"2 to less than 4 years\", \"2 to less than 4 years\", \"4 to less than 6 years\", \"2 to less than 4 years\", \"4 to less than 6 years\", \"2 to less than 4 years\", \"6 months to less than 1 year\", \"1 to less than 2 years\", \"6 months to less than 1 year\", \"1 to less than 2 years\", \"2 to less than 4 years\", \"1 to less than 2 years\", \"1 to less than 2 years\", \"2 to less than 4 years\", \"1 to less than 2 years\", \"4 to less than 6 years\", \"2 to less than 4 years\", \"2 to less than 4 years\", \"4 to less than 6 years\", \"2 to less than 4 years\", \"1 to less than 2 years\", \"6 months to less than 1 year\", \"1 to less than 2 years\", \"1 to less than 2 years\", \"less than 6 months\", \"4 to less than 6 years\", \"1 to less than 2 years\", \"1 to less than 2 years\", \"1 to less than 2 years\", \"4 to less than 6 years\", \"1 to less than 2 years\", \"6 months to less than 1 year\", \"2 to less than 4 years\", \"6 months to less than 1 year\", \"2 to less than 4 years\", \"4 to less than 6 years\", \"4 to less than 6 years\", \"1 to less than 2 years\", \"1 to less than 2 years\", \"1 to less than 2 years\", \"1 to less than 2 years\", \"less than 6 months\", \"1 to less than 2 years\", \"2 to less than 4 years\", \"1 to less than 2 years\", \"6 months to less than 1 year\", \"1 to less than 2 years\", \"1 to less than 2 years\", \"2 to less than 4 years\", \"1 to less than 2 years\", \"2 to less than 4 years\", \"4 to less than 6 years\", \"1 to less than 2 years\", \"4 to less than 6 years\", \"2 to less than 4 years\", \"6 months to less than 1 year\", \"less than 6 months\", \"2 to less than 4 years\", \"1 to less than 2 years\", \"2 to less than 4 years\", \"4 to less than 6 years\", \"2 to less than 4 years\", \"1 to less than 2 years\", \"1 to less than 2 years\", \"4 to less than 6 years\", \"4 to less than 6 years\", \"2 to less than 4 years\", \"2 to less than 4 years\", \"less than 6 months\", \"1 to less than 2 years\", \"2 to less than 4 years\", \"less than 6 months\", \"1 to less than 2 years\", \"1 to less than 2 years\", \"1 to less than 2 years\", \"6 months to less than 1 year\", \"1 to less than 2 years\", \"2 to less than 4 years\", \"2 to less than 4 years\", \"2 to less than 4 years\", \"1 to less than 2 years\", \"2 to less than 4 years\", \"6 months to less than 1 year\", \"2 to less than 4 years\", \"less than 6 months\", \"less than 6 months\", \"6 months to less than 1 year\", \"4 to less than 6 years\", \"6 months to less than 1 year\", \"1 to less than 2 years\", \"1 to less than 2 years\", \"1 to less than 2 years\", \"1 to less than 2 years\", \"2 to less than 4 years\", \"4 to less than 6 years\", \"6 months to less than 1 year\", \"less than 6 months\", \"2 to less than 4 years\", \"1 to less than 2 years\", \"4 to less than 6 years\", \"less than 6 months\", \"1 to less than 2 years\", \"1 to less than 2 years\", \"1 to less than 2 years\", \"1 to less than 2 years\", \"6 months to less than 1 year\", \"less than 6 months\", \"4 to less than 6 years\", \"less than 6 months\", \"1 to less than 2 years\", \"1 to less than 2 years\", \"1 to less than 2 years\", \"6 months to less than 1 year\", \"1 to less than 2 years\", \"1 to less than 2 years\", \"1 to less than 2 years\", \"2 to less than 4 years\", \"1 to less than 2 years\", \"less than 6 months\", \"1 to less than 2 years\", \"less than 6 months\", \"2 to less than 4 years\", \"1 to less than 2 years\", \"1 to less than 2 years\", \"1 to less than 2 years\", \"2 to less than 4 years\", \"1 to less than 2 years\", \"4 to less than 6 years\", \"1 to less than 2 years\", \"1 to less than 2 years\", \"6 months to less than 1 year\", \"2 to less than 4 years\", \"1 to less than 2 years\", \"2 to less than 4 years\", \"less than 6 months\", \"1 to less than 2 years\", \"less than 6 months\", \"6 months to less than 1 year\", \"1 to less than 2 years\", \"6 months to less than 1 year\", \"6 months to less than 1 year\", \"1 to less than 2 years\", \"less than 6 months\", \"1 to less than 2 years\", \"1 to less than 2 years\", \"less than 6 months\", \"1 to less than 2 years\", \"2 to less than 4 years\", \"1 to less than 2 years\", \"4 to less than 6 years\", \"1 to less than 2 years\", \"1 to less than 2 years\", \"1 to less than 2 years\", \"2 to less than 4 years\", \"1 to less than 2 years\", \"1 to less than 2 years\", \"2 to less than 4 years\", \"4 to less than 6 years\", \"6 months to less than 1 year\", \"less than 6 months\", \"1 to less than 2 years\", \"2 to less than 4 years\", \"4 to less than 6 years\", \"4 to less than 6 years\", \"less than 6 months\", \"1 to less than 2 years\", \"less than 6 months\", \"2 to less than 4 years\", \"2 to less than 4 years\", \"less than 6 months\", \"less than 6 months\", \"less than 6 months\", \"6 months to less than 1 year\", \"2 to less than 4 years\", \"1 to less than 2 years\", \"1 to less than 2 years\", \"1 to less than 2 years\", \"less than 6 months\", \"2 to less than 4 years\", \"4 to less than 6 years\", \"less than 6 months\", \"1 to less than 2 years\", \"2 to less than 4 years\", \"1 to less than 2 years\", \"1 to less than 2 years\", \"1 to less than 2 years\", \"2 to less than 4 years\", \"1 to less than 2 years\", \"1 to less than 2 years\", \"4 to less than 6 years\", \"1 to less than 2 years\", \"2 to less than 4 years\", \"4 to less than 6 years\", \"2 to less than 4 years\", \"4 to less than 6 years\", \"6 months to less than 1 year\", \"2 to less than 4 years\", \"6 months to less than 1 year\", \"1 to less than 2 years\", \"1 to less than 2 years\", \"1 to less than 2 years\", \"2 to less than 4 years\", \"1 to less than 2 years\", \"2 to less than 4 years\", \"2 to less than 4 years\", \"6 months to less than 1 year\", \"1 to less than 2 years\", \"4 to less than 6 years\", \"4 to less than 6 years\", \"1 to less than 2 years\", \"1 to less than 2 years\", \"2 to less than 4 years\", \"2 to less than 4 years\", \"2 to less than 4 years\", \"2 to less than 4 years\", \"1 to less than 2 years\", \"1 to less than 2 years\", \"1 to less than 2 years\", \"1 to less than 2 years\", \"less than 6 months\", \"6 months to less than 1 year\", \"2 to less than 4 years\", \"1 to less than 2 years\", \"2 to less than 4 years\", \"2 to less than 4 years\", \"1 to less than 2 years\", \"4 to less than 6 years\", \"less than 6 months\", \"1 to less than 2 years\", \"2 to less than 4 years\", \"2 to less than 4 years\", \"1 to less than 2 years\", \"1 to less than 2 years\", \"4 to less than 6 years\", \"1 to less than 2 years\", \"4 to less than 6 years\", \"1 to less than 2 years\", \"6 months to less than 1 year\", \"less than 6 months\", \"2 to less than 4 years\", \"6 months to less than 1 year\", \"1 to less than 2 years\", \"4 to less than 6 years\", \"1 to less than 2 years\", \"2 to less than 4 years\", \"6 months to less than 1 year\", \"2 to less than 4 years\", \"1 to less than 2 years\", \"less than 6 months\", \"less than 6 months\", \"less than 6 months\", \"2 to less than 4 years\", \"6 months to less than 1 year\", \"2 to less than 4 years\", \"1 to less than 2 years\", \"1 to less than 2 years\", \"1 to less than 2 years\", \"2 to less than 4 years\", \"less than 6 months\", \"2 to less than 4 years\", \"4 to less than 6 years\", \"less than 6 months\", \"6 months to less than 1 year\", \"6 months to less than 1 year\", \"2 to less than 4 years\", \"1 to less than 2 years\", \"1 to less than 2 years\", \"2 to less than 4 years\", \"6 months to less than 1 year\", \"1 to less than 2 years\", \"2 to less than 4 years\", \"less than 6 months\", \"2 to less than 4 years\", \"less than 6 months\", \"4 to less than 6 years\", \"4 to less than 6 years\", \"1 to less than 2 years\", \"2 to less than 4 years\", \"2 to less than 4 years\", \"4 to less than 6 years\", \"less than 6 months\", \"4 to less than 6 years\", \"2 to less than 4 years\", \"less than 6 months\", \"1 to less than 2 years\", \"4 to less than 6 years\", \"1 to less than 2 years\", \"1 to less than 2 years\", \"2 to less than 4 years\", \"less than 6 months\", \"4 to less than 6 years\", \"1 to less than 2 years\", \"4 to less than 6 years\", \"6 months to less than 1 year\", \"less than 6 months\", \"1 to less than 2 years\", \"2 to less than 4 years\", \"2 to less than 4 years\", \"4 to less than 6 years\", \"2 to less than 4 years\"], \"x0\": \" \", \"xaxis\": \"x\", \"y\": [0.7226666666666668, 0.8666666666666668, 0.9279999999999999, 0.6853333333333333, 0.7733333333333333, 0.752, 0.9493333333333333, 0.6293333333333334, 0.7599999999999999, 0.7093333333333333, 0.8800000000000001, 0.6853333333333335, 0.8613333333333333, 0.7733333333333333, 0.7999999999999999, 0.8826666666666666, 0.8266666666666668, 0.6106666666666667, 0.8559999999999999, 0.8666666666666668, 0.7733333333333333, 0.8480000000000001, 0.7733333333333333, 0.8, 0.7946666666666666, 0.752, 0.768, 0.7733333333333334, 0.7893333333333333, 0.8079999999999999, 0.7759999999999999, 0.7040000000000001, 0.7466666666666667, 0.8480000000000001, 0.7306666666666667, 0.7413333333333333, 0.8133333333333332, 0.7546666666666666, 0.7866666666666666, 0.7386666666666667, 0.7653333333333333, 0.7173333333333335, 0.624, 0.7546666666666666, 0.7093333333333334, 0.7173333333333334, 0.6693333333333333, 0.7653333333333333, 0.7466666666666666, 0.7333333333333334, 0.7733333333333332, 0.7946666666666667, 0.6026666666666667, 0.6293333333333334, 0.8160000000000001, 0.6906666666666668, 0.76, 0.6826666666666666, 0.7866666666666666, 0.768, 0.768, 0.7999999999999999, 0.8186666666666668, 0.7679999999999999, 0.7866666666666667, 0.6399999999999999, 0.6666666666666667, 0.7679999999999999, 0.8933333333333333, 0.616, 0.696, 0.752, 0.6346666666666667, 0.9093333333333332, 0.8133333333333332, 0.7813333333333333, 0.7040000000000001, 0.5946666666666667, 0.7013333333333334, 0.7013333333333334, 0.6613333333333333, 0.5866666666666667, 0.7946666666666667, 0.752, 0.624, 0.76, 0.8053333333333335, 0.6319999999999999, 0.5893333333333333, 0.6719999999999999, 0.6773333333333332, 0.8, 0.8213333333333335, 0.664, 0.6799999999999999, 0.8480000000000001, 0.8186666666666665, 0.6426666666666667, 0.7120000000000001, 0.8079999999999998, 0.8480000000000001, 0.7866666666666666, 0.7866666666666666, 0.7413333333333333, 0.7866666666666667, 0.7786666666666666, 0.8426666666666666, 0.6986666666666667, 0.6986666666666668, 0.8213333333333332, 0.8160000000000001, 0.8400000000000001, 0.752, 0.8266666666666668, 0.7413333333333333, 0.7599999999999999, 0.8906666666666666, 0.7520000000000001, 0.6906666666666668, 0.7813333333333333, 0.8213333333333335, 0.6373333333333334, 0.8293333333333333, 0.7546666666666667, 0.7733333333333332, 0.736, 0.672, 0.8559999999999999, 0.8079999999999998, 0.7040000000000001, 0.7813333333333332, 0.7813333333333333, 0.8880000000000001, 0.8106666666666665, 0.8213333333333335, 0.792, 0.8053333333333335, 0.8, 0.8213333333333332, 0.7040000000000001, 0.7626666666666666, 0.8373333333333333, 0.7733333333333334, 0.7466666666666668, 0.76, 0.8693333333333332, 0.7866666666666668, 0.7306666666666666, 0.768, 0.7733333333333333, 0.6666666666666667, 0.8346666666666668, 0.8, 0.8480000000000001, 0.72, 0.7946666666666666, 0.752, 0.6479999999999999, 0.7813333333333333, 0.7733333333333333, 0.7440000000000001, 0.7546666666666667, 0.7493333333333334, 0.7813333333333332, 0.7226666666666667, 0.6559999999999999, 0.8346666666666666, 0.6186666666666666, 0.8426666666666668, 0.5680000000000001, 0.7146666666666668, 0.7946666666666666, 0.752, 0.6799999999999999, 0.7733333333333333, 0.8880000000000001, 0.7733333333333333, 0.8026666666666668, 0.7866666666666666, 0.8693333333333332, 0.8906666666666666, 0.7466666666666667, 0.752, 0.8079999999999999, 0.7866666666666667, 0.8133333333333332, 0.7386666666666668, 0.7386666666666668, 0.8799999999999999, 0.7866666666666666, 0.792, 0.7999999999999999, 0.76, 0.7733333333333333, 0.7493333333333333, 0.8213333333333335, 0.7786666666666667, 0.8026666666666665, 0.7919999999999999, 0.7946666666666666, 0.7333333333333333, 0.8266666666666668, 0.752, 0.8293333333333333, 0.76, 0.6826666666666666, 0.8399999999999999, 0.8293333333333333, 0.9013333333333332, 0.6853333333333335, 0.8079999999999998, 0.8079999999999999, 0.8133333333333332, 0.76, 0.8346666666666668, 0.8426666666666666, 0.7466666666666668, 0.8426666666666668, 0.7466666666666666, 0.8240000000000001, 0.7413333333333334, 0.7653333333333333, 0.7866666666666666, 0.7413333333333333, 0.7653333333333333, 0.7546666666666666, 0.8613333333333333, 0.8160000000000001, 0.7386666666666668, 0.7893333333333333, 0.792, 0.7893333333333333, 0.7386666666666667, 0.76, 0.8079999999999999, 0.8133333333333332, 0.7120000000000001, 0.8213333333333335, 0.8826666666666668, 0.7386666666666667, 0.8079999999999999, 0.8000000000000002, 0.8959999999999999, 0.8346666666666668, 0.8559999999999999, 0.8426666666666666, 0.768, 0.8026666666666668, 0.7866666666666666, 0.6933333333333334, 0.8213333333333332, 0.736, 0.7946666666666669, 0.7893333333333333, 0.8160000000000001, 0.7946666666666666, 0.752, 0.76, 0.7226666666666668, 0.76, 0.8480000000000001, 0.7413333333333333, 0.7946666666666666, 0.8079999999999999, 0.7653333333333333, 0.752, 0.752, 0.8213333333333332, 0.7999999999999999, 0.7599999999999999, 0.8613333333333333, 0.7120000000000001, 0.7866666666666666, 0.9173333333333332, 0.7839999999999999, 0.8693333333333332, 0.7439999999999999, 0.7813333333333333, 0.7946666666666666, 0.8480000000000001, 0.8693333333333333, 0.7813333333333333, 0.7546666666666668, 0.7813333333333333, 0.7893333333333333, 0.7386666666666668, 0.7866666666666668, 0.8266666666666668, 0.9306666666666664, 0.8746666666666668, 0.7946666666666667, 0.7466666666666668, 0.8480000000000001, 0.768, 0.7120000000000001, 0.72, 0.7146666666666668, 0.76, 0.616, 0.8133333333333335, 0.7546666666666666, 0.7493333333333334, 0.7173333333333334, 0.6346666666666667, 0.8480000000000001, 0.6293333333333334, 0.6933333333333332, 0.8346666666666668, 0.7813333333333333, 0.7946666666666666, 0.7386666666666667, 0.7759999999999999, 0.8079999999999998, 0.6746666666666667, 0.8346666666666666, 0.696, 0.904, 0.7466666666666668, 0.7946666666666666, 0.768, 0.784, 0.7466666666666666, 0.7466666666666667, 0.9066666666666666, 0.6693333333333333, 0.6853333333333333, 0.7999999999999999, 0.8426666666666666, 0.7253333333333333, 0.8213333333333335, 0.7040000000000001, 0.6853333333333332, 0.7093333333333334, 0.7466666666666666, 0.76, 0.7413333333333333, 0.7546666666666668, 0.6613333333333333, 0.7146666666666668, 0.7893333333333333, 0.8213333333333335, 0.904, 0.8079999999999999, 0.7733333333333333, 0.7226666666666667, 0.8826666666666666, 0.7759999999999999, 0.68, 0.7919999999999999, 0.72, 0.6613333333333333, 0.6853333333333333, 0.8080000000000002, 0.5946666666666667, 0.8106666666666668, 0.8, 0.8346666666666668, 0.6533333333333334, 0.8, 0.7093333333333333, 0.8346666666666668, 0.6773333333333333, 0.8746666666666668, 0.7946666666666666, 0.76, 0.7653333333333333, 0.9013333333333332, 0.6773333333333333, 0.6559999999999999, 0.8773333333333333, 0.6986666666666667, 0.9173333333333332, 0.7173333333333335, 0.9093333333333332, 0.8266666666666668, 0.7386666666666668, 0.7466666666666666, 0.7120000000000001, 0.7573333333333335, 0.9306666666666666, 0.8320000000000001], \"y0\": \" \", \"yaxis\": \"y\"}],                        {\"boxmode\": \"group\", \"legend\": {\"tracegroupgap\": 0}, \"margin\": {\"t\": 60}, \"template\": {\"data\": {\"bar\": [{\"error_x\": {\"color\": \"#2a3f5f\"}, \"error_y\": {\"color\": \"#2a3f5f\"}, \"marker\": {\"line\": {\"color\": \"#E5ECF6\", \"width\": 0.5}}, \"type\": \"bar\"}], \"barpolar\": [{\"marker\": {\"line\": {\"color\": \"#E5ECF6\", \"width\": 0.5}}, \"type\": \"barpolar\"}], \"carpet\": [{\"aaxis\": {\"endlinecolor\": \"#2a3f5f\", \"gridcolor\": \"white\", \"linecolor\": \"white\", \"minorgridcolor\": \"white\", \"startlinecolor\": \"#2a3f5f\"}, \"baxis\": {\"endlinecolor\": \"#2a3f5f\", \"gridcolor\": \"white\", \"linecolor\": \"white\", \"minorgridcolor\": \"white\", \"startlinecolor\": \"#2a3f5f\"}, \"type\": \"carpet\"}], \"choropleth\": [{\"colorbar\": {\"outlinewidth\": 0, \"ticks\": \"\"}, \"type\": \"choropleth\"}], \"contour\": [{\"colorbar\": {\"outlinewidth\": 0, \"ticks\": \"\"}, \"colorscale\": [[0.0, \"#0d0887\"], [0.1111111111111111, \"#46039f\"], [0.2222222222222222, \"#7201a8\"], [0.3333333333333333, \"#9c179e\"], [0.4444444444444444, \"#bd3786\"], [0.5555555555555556, \"#d8576b\"], [0.6666666666666666, \"#ed7953\"], [0.7777777777777778, \"#fb9f3a\"], [0.8888888888888888, \"#fdca26\"], [1.0, \"#f0f921\"]], \"type\": \"contour\"}], \"contourcarpet\": [{\"colorbar\": {\"outlinewidth\": 0, \"ticks\": \"\"}, \"type\": \"contourcarpet\"}], \"heatmap\": [{\"colorbar\": {\"outlinewidth\": 0, \"ticks\": \"\"}, \"colorscale\": [[0.0, \"#0d0887\"], [0.1111111111111111, \"#46039f\"], [0.2222222222222222, \"#7201a8\"], [0.3333333333333333, \"#9c179e\"], [0.4444444444444444, \"#bd3786\"], [0.5555555555555556, \"#d8576b\"], [0.6666666666666666, \"#ed7953\"], [0.7777777777777778, \"#fb9f3a\"], [0.8888888888888888, \"#fdca26\"], [1.0, \"#f0f921\"]], \"type\": \"heatmap\"}], \"heatmapgl\": [{\"colorbar\": {\"outlinewidth\": 0, \"ticks\": \"\"}, \"colorscale\": [[0.0, \"#0d0887\"], [0.1111111111111111, \"#46039f\"], [0.2222222222222222, \"#7201a8\"], [0.3333333333333333, \"#9c179e\"], [0.4444444444444444, \"#bd3786\"], [0.5555555555555556, \"#d8576b\"], [0.6666666666666666, \"#ed7953\"], [0.7777777777777778, \"#fb9f3a\"], [0.8888888888888888, \"#fdca26\"], [1.0, \"#f0f921\"]], \"type\": \"heatmapgl\"}], \"histogram\": [{\"marker\": {\"colorbar\": {\"outlinewidth\": 0, \"ticks\": \"\"}}, \"type\": \"histogram\"}], \"histogram2d\": [{\"colorbar\": {\"outlinewidth\": 0, \"ticks\": \"\"}, \"colorscale\": [[0.0, \"#0d0887\"], [0.1111111111111111, \"#46039f\"], [0.2222222222222222, \"#7201a8\"], [0.3333333333333333, \"#9c179e\"], [0.4444444444444444, \"#bd3786\"], [0.5555555555555556, \"#d8576b\"], [0.6666666666666666, \"#ed7953\"], [0.7777777777777778, \"#fb9f3a\"], [0.8888888888888888, \"#fdca26\"], [1.0, \"#f0f921\"]], \"type\": \"histogram2d\"}], \"histogram2dcontour\": [{\"colorbar\": {\"outlinewidth\": 0, \"ticks\": \"\"}, \"colorscale\": [[0.0, \"#0d0887\"], [0.1111111111111111, \"#46039f\"], [0.2222222222222222, \"#7201a8\"], [0.3333333333333333, \"#9c179e\"], [0.4444444444444444, \"#bd3786\"], [0.5555555555555556, \"#d8576b\"], [0.6666666666666666, \"#ed7953\"], [0.7777777777777778, \"#fb9f3a\"], [0.8888888888888888, \"#fdca26\"], [1.0, \"#f0f921\"]], \"type\": \"histogram2dcontour\"}], \"mesh3d\": [{\"colorbar\": {\"outlinewidth\": 0, \"ticks\": \"\"}, \"type\": \"mesh3d\"}], \"parcoords\": [{\"line\": {\"colorbar\": {\"outlinewidth\": 0, \"ticks\": \"\"}}, \"type\": \"parcoords\"}], \"pie\": [{\"automargin\": true, \"type\": \"pie\"}], \"scatter\": [{\"marker\": {\"colorbar\": {\"outlinewidth\": 0, \"ticks\": \"\"}}, \"type\": \"scatter\"}], \"scatter3d\": [{\"line\": {\"colorbar\": {\"outlinewidth\": 0, \"ticks\": \"\"}}, \"marker\": {\"colorbar\": {\"outlinewidth\": 0, \"ticks\": \"\"}}, \"type\": \"scatter3d\"}], \"scattercarpet\": [{\"marker\": {\"colorbar\": {\"outlinewidth\": 0, \"ticks\": \"\"}}, \"type\": \"scattercarpet\"}], \"scattergeo\": [{\"marker\": {\"colorbar\": {\"outlinewidth\": 0, \"ticks\": \"\"}}, \"type\": \"scattergeo\"}], \"scattergl\": [{\"marker\": {\"colorbar\": {\"outlinewidth\": 0, \"ticks\": \"\"}}, \"type\": \"scattergl\"}], \"scattermapbox\": [{\"marker\": {\"colorbar\": {\"outlinewidth\": 0, \"ticks\": \"\"}}, \"type\": \"scattermapbox\"}], \"scatterpolar\": [{\"marker\": {\"colorbar\": {\"outlinewidth\": 0, \"ticks\": \"\"}}, \"type\": \"scatterpolar\"}], \"scatterpolargl\": [{\"marker\": {\"colorbar\": {\"outlinewidth\": 0, \"ticks\": \"\"}}, \"type\": \"scatterpolargl\"}], \"scatterternary\": [{\"marker\": {\"colorbar\": {\"outlinewidth\": 0, \"ticks\": \"\"}}, \"type\": \"scatterternary\"}], \"surface\": [{\"colorbar\": {\"outlinewidth\": 0, \"ticks\": \"\"}, \"colorscale\": [[0.0, \"#0d0887\"], [0.1111111111111111, \"#46039f\"], [0.2222222222222222, \"#7201a8\"], [0.3333333333333333, \"#9c179e\"], [0.4444444444444444, \"#bd3786\"], [0.5555555555555556, \"#d8576b\"], [0.6666666666666666, \"#ed7953\"], [0.7777777777777778, \"#fb9f3a\"], [0.8888888888888888, \"#fdca26\"], [1.0, \"#f0f921\"]], \"type\": \"surface\"}], \"table\": [{\"cells\": {\"fill\": {\"color\": \"#EBF0F8\"}, \"line\": {\"color\": \"white\"}}, \"header\": {\"fill\": {\"color\": \"#C8D4E3\"}, \"line\": {\"color\": \"white\"}}, \"type\": \"table\"}]}, \"layout\": {\"annotationdefaults\": {\"arrowcolor\": \"#2a3f5f\", \"arrowhead\": 0, \"arrowwidth\": 1}, \"autotypenumbers\": \"strict\", \"coloraxis\": {\"colorbar\": {\"outlinewidth\": 0, \"ticks\": \"\"}}, \"colorscale\": {\"diverging\": [[0, \"#8e0152\"], [0.1, \"#c51b7d\"], [0.2, \"#de77ae\"], [0.3, \"#f1b6da\"], [0.4, \"#fde0ef\"], [0.5, \"#f7f7f7\"], [0.6, \"#e6f5d0\"], [0.7, \"#b8e186\"], [0.8, \"#7fbc41\"], [0.9, \"#4d9221\"], [1, \"#276419\"]], \"sequential\": [[0.0, \"#0d0887\"], [0.1111111111111111, \"#46039f\"], [0.2222222222222222, \"#7201a8\"], [0.3333333333333333, \"#9c179e\"], [0.4444444444444444, \"#bd3786\"], [0.5555555555555556, \"#d8576b\"], [0.6666666666666666, \"#ed7953\"], [0.7777777777777778, \"#fb9f3a\"], [0.8888888888888888, \"#fdca26\"], [1.0, \"#f0f921\"]], \"sequentialminus\": [[0.0, \"#0d0887\"], [0.1111111111111111, \"#46039f\"], [0.2222222222222222, \"#7201a8\"], [0.3333333333333333, \"#9c179e\"], [0.4444444444444444, \"#bd3786\"], [0.5555555555555556, \"#d8576b\"], [0.6666666666666666, \"#ed7953\"], [0.7777777777777778, \"#fb9f3a\"], [0.8888888888888888, \"#fdca26\"], [1.0, \"#f0f921\"]]}, \"colorway\": [\"#636efa\", \"#EF553B\", \"#00cc96\", \"#ab63fa\", \"#FFA15A\", \"#19d3f3\", \"#FF6692\", \"#B6E880\", \"#FF97FF\", \"#FECB52\"], \"font\": {\"color\": \"#2a3f5f\"}, \"geo\": {\"bgcolor\": \"white\", \"lakecolor\": \"white\", \"landcolor\": \"#E5ECF6\", \"showlakes\": true, \"showland\": true, \"subunitcolor\": \"white\"}, \"hoverlabel\": {\"align\": \"left\"}, \"hovermode\": \"closest\", \"mapbox\": {\"style\": \"light\"}, \"paper_bgcolor\": \"white\", \"plot_bgcolor\": \"#E5ECF6\", \"polar\": {\"angularaxis\": {\"gridcolor\": \"white\", \"linecolor\": \"white\", \"ticks\": \"\"}, \"bgcolor\": \"#E5ECF6\", \"radialaxis\": {\"gridcolor\": \"white\", \"linecolor\": \"white\", \"ticks\": \"\"}}, \"scene\": {\"xaxis\": {\"backgroundcolor\": \"#E5ECF6\", \"gridcolor\": \"white\", \"gridwidth\": 2, \"linecolor\": \"white\", \"showbackground\": true, \"ticks\": \"\", \"zerolinecolor\": \"white\"}, \"yaxis\": {\"backgroundcolor\": \"#E5ECF6\", \"gridcolor\": \"white\", \"gridwidth\": 2, \"linecolor\": \"white\", \"showbackground\": true, \"ticks\": \"\", \"zerolinecolor\": \"white\"}, \"zaxis\": {\"backgroundcolor\": \"#E5ECF6\", \"gridcolor\": \"white\", \"gridwidth\": 2, \"linecolor\": \"white\", \"showbackground\": true, \"ticks\": \"\", \"zerolinecolor\": \"white\"}}, \"shapedefaults\": {\"line\": {\"color\": \"#2a3f5f\"}}, \"ternary\": {\"aaxis\": {\"gridcolor\": \"white\", \"linecolor\": \"white\", \"ticks\": \"\"}, \"baxis\": {\"gridcolor\": \"white\", \"linecolor\": \"white\", \"ticks\": \"\"}, \"bgcolor\": \"#E5ECF6\", \"caxis\": {\"gridcolor\": \"white\", \"linecolor\": \"white\", \"ticks\": \"\"}}, \"title\": {\"x\": 0.05}, \"xaxis\": {\"automargin\": true, \"gridcolor\": \"white\", \"linecolor\": \"white\", \"ticks\": \"\", \"title\": {\"standoff\": 15}, \"zerolinecolor\": \"white\", \"zerolinewidth\": 2}, \"yaxis\": {\"automargin\": true, \"gridcolor\": \"white\", \"linecolor\": \"white\", \"ticks\": \"\", \"title\": {\"standoff\": 15}, \"zerolinecolor\": \"white\", \"zerolinewidth\": 2}}}, \"xaxis\": {\"anchor\": \"y\", \"domain\": [0.0, 1.0], \"title\": {\"text\": \"tenure\"}}, \"yaxis\": {\"anchor\": \"x\", \"domain\": [0.0, 1.0], \"title\": {\"text\": \"overall\"}}},                        {\"responsive\": true}                    ).then(function(){\n                            \nvar gd = document.getElementById('f545dd08-05b1-4943-9e8a-bfa72db8da62');\nvar x = new MutationObserver(function (mutations, observer) {{\n        var display = window.getComputedStyle(gd).display;\n        if (!display || display === 'none') {{\n            console.log([gd, 'removed!']);\n            Plotly.purge(gd);\n            observer.disconnect();\n        }}\n}});\n\n// Listen for the removal of the full notebook cells\nvar notebookContainer = gd.closest('#notebook-container');\nif (notebookContainer) {{\n    x.observe(notebookContainer, {childList: true});\n}}\n\n// Listen for the clearing of the current output cell\nvar outputEl = gd.closest('.output');\nif (outputEl) {{\n    x.observe(outputEl, {childList: true});\n}}\n\n                        })                };                });            </script>        </div>"
     },
     "metadata": {}
    }
   ],
   "source": [
    "px.box(df, x='tenure', y='overall')"
   ]
  },
  {
   "cell_type": "code",
   "execution_count": 34,
   "metadata": {},
   "outputs": [
    {
     "output_type": "display_data",
     "data": {
      "application/vnd.plotly.v1+json": {
       "config": {
        "plotlyServerURL": "https://plot.ly"
       },
       "data": [
        {
         "alignmentgroup": "True",
         "hovertemplate": "location=%{x}<br>overall=%{y}<extra></extra>",
         "legendgroup": "",
         "marker": {
          "color": "#636efa"
         },
         "name": "",
         "notched": false,
         "offsetgroup": "",
         "orientation": "v",
         "showlegend": false,
         "type": "box",
         "x": [
          "Mountain View, CA",
          "Mountain View, CA",
          "Mountain View, CA",
          "Mountain View, CA",
          "Mountain View, CA",
          "Mountain View, CA",
          "New York, NY",
          "New York, NY",
          "Mountain View, CA",
          "Mountain View, CA",
          "New York, NY",
          "New York, NY",
          "Mountain View, CA",
          "Mountain View, CA",
          "New York, NY",
          "New York, NY",
          "Mountain View, CA",
          "Mountain View, CA",
          "Mountain View, CA",
          "Mountain View, CA",
          "Mountain View, CA",
          "Mountain View, CA",
          "Mountain View, CA",
          "Mountain View, CA",
          "Mountain View, CA",
          "Mountain View, CA",
          "Mountain View, CA",
          "Mountain View, CA",
          "Mountain View, CA",
          "Mountain View, CA",
          "Mountain View, CA",
          "Mountain View, CA",
          "Mountain View, CA",
          "Mountain View, CA",
          "Mountain View, CA",
          "Mountain View, CA",
          "Mountain View, CA",
          "Mountain View, CA",
          "Mountain View, CA",
          "Mountain View, CA",
          "Mountain View, CA",
          "New York, NY",
          "New York, NY",
          "New York, NY",
          "New York, NY",
          "New York, NY",
          "New York, NY",
          "New York, NY",
          "New York, NY",
          "New York, NY",
          "New York, NY",
          "New York, NY",
          "New York, NY",
          "New York, NY",
          "Mountain View, CA",
          "Mountain View, CA",
          "Mountain View, CA",
          "Mountain View, CA",
          "Mountain View, CA",
          "Mountain View, CA",
          "Mountain View, CA",
          "Mountain View, CA",
          "Mountain View, CA",
          "Mountain View, CA",
          "New York, NY",
          "New York, NY",
          "New York, NY",
          "New York, NY",
          "New York, NY",
          "New York, NY",
          "New York, NY",
          "New York, NY",
          "New York, NY",
          "New York, NY",
          "New York, NY",
          "New York, NY",
          "Atlanta, GA",
          "Atlanta, GA",
          "Atlanta, GA",
          "Atlanta, GA",
          "Austin, TX",
          "Austin, TX",
          "Austin, TX",
          "Austin, TX",
          "Chicago, IL",
          "Chicago, IL",
          "Chicago, IL",
          "Chicago, IL",
          "Chicago, IL",
          "Chicago, IL",
          "Chicago, IL",
          "Mountain View, CA",
          "Mountain View, CA",
          "Mountain View, CA",
          "Mountain View, CA",
          "Mountain View, CA",
          "Mountain View, CA",
          "Mountain View, CA",
          "Mountain View, CA",
          "Mountain View, CA",
          "Mountain View, CA",
          "Mountain View, CA",
          "Mountain View, CA",
          "Mountain View, CA",
          "New York, NY",
          "New York, NY",
          "New York, NY",
          "New York, NY",
          "New York, NY",
          "New York, NY",
          "New York, NY",
          "Mountain View, CA",
          "Mountain View, CA",
          "Mountain View, CA",
          "Mountain View, CA",
          "Mountain View, CA",
          "Mountain View, CA",
          "Mountain View, CA",
          "Mountain View, CA",
          "Mountain View, CA",
          "Mountain View, CA",
          "Mountain View, CA",
          "Mountain View, CA",
          "Mountain View, CA",
          "Mountain View, CA",
          "Mountain View, CA",
          "Mountain View, CA",
          "Mountain View, CA",
          "Mountain View, CA",
          "Mountain View, CA",
          "Mountain View, CA",
          "Mountain View, CA",
          "Mountain View, CA",
          "Mountain View, CA",
          "Mountain View, CA",
          "Mountain View, CA",
          "Mountain View, CA",
          "Mountain View, CA",
          "Mountain View, CA",
          "Mountain View, CA",
          "Mountain View, CA",
          "Mountain View, CA",
          "Mountain View, CA",
          "Mountain View, CA",
          "Mountain View, CA",
          "Mountain View, CA",
          "New York, NY",
          "New York, NY",
          "New York, NY",
          "New York, NY",
          "New York, NY",
          "New York, NY",
          "New York, NY",
          "Mountain View, CA",
          "Chicago, IL",
          "Mountain View, CA",
          "Mountain View, CA",
          "Mountain View, CA",
          "Mountain View, CA",
          "Mountain View, CA",
          "Mountain View, CA",
          "Mountain View, CA",
          "Mountain View, CA",
          "Mountain View, CA",
          "Mountain View, CA",
          "Mountain View, CA",
          "Mountain View, CA",
          "Mountain View, CA",
          "Mountain View, CA",
          "Mountain View, CA",
          "Mountain View, CA",
          "Mountain View, CA",
          "Mountain View, CA",
          "Mountain View, CA",
          "Mountain View, CA",
          "Mountain View, CA",
          "Mountain View, CA",
          "Mountain View, CA",
          "Mountain View, CA",
          "Mountain View, CA",
          "Mountain View, CA",
          "Mountain View, CA",
          "Mountain View, CA",
          "Mountain View, CA",
          "Mountain View, CA",
          "Mountain View, CA",
          "Mountain View, CA",
          "Mountain View, CA",
          "Mountain View, CA",
          "Mountain View, CA",
          "Mountain View, CA",
          "Mountain View, CA",
          "Mountain View, CA",
          "Mountain View, CA",
          "Mountain View, CA",
          "Mountain View, CA",
          "Mountain View, CA",
          "Mountain View, CA",
          "Mountain View, CA",
          "Mountain View, CA",
          "Mountain View, CA",
          "Mountain View, CA",
          "Mountain View, CA",
          "Mountain View, CA",
          "Mountain View, CA",
          "Mountain View, CA",
          "Mountain View, CA",
          "Mountain View, CA",
          "Mountain View, CA",
          "Mountain View, CA",
          "Mountain View, CA",
          "Mountain View, CA",
          "Mountain View, CA",
          "Mountain View, CA",
          "Mountain View, CA",
          "Mountain View, CA",
          "Mountain View, CA",
          "Mountain View, CA",
          "Mountain View, CA",
          "Mountain View, CA",
          "Mountain View, CA",
          "Mountain View, CA",
          "Mountain View, CA",
          "Mountain View, CA",
          "Mountain View, CA",
          "Mountain View, CA",
          "Mountain View, CA",
          "Mountain View, CA",
          "Mountain View, CA",
          "Mountain View, CA",
          "Mountain View, CA",
          "Mountain View, CA",
          "Mountain View, CA",
          "Mountain View, CA",
          "Mountain View, CA",
          "Mountain View, CA",
          "Mountain View, CA",
          "Mountain View, CA",
          "Mountain View, CA",
          "Mountain View, CA",
          "Mountain View, CA",
          "Mountain View, CA",
          "Mountain View, CA",
          "Mountain View, CA",
          "Mountain View, CA",
          "Mountain View, CA",
          "Mountain View, CA",
          "Mountain View, CA",
          "Mountain View, CA",
          "Mountain View, CA",
          "Mountain View, CA",
          "Mountain View, CA",
          "Mountain View, CA",
          "Mountain View, CA",
          "Mountain View, CA",
          "Mountain View, CA",
          "Mountain View, CA",
          "Mountain View, CA",
          "Mountain View, CA",
          "Mountain View, CA",
          "Mountain View, CA",
          "Mountain View, CA",
          "Mountain View, CA",
          "Mountain View, CA",
          "Mountain View, CA",
          "Mountain View, CA",
          "Mountain View, CA",
          "Mountain View, CA",
          "Mountain View, CA",
          "Mountain View, CA",
          "Mountain View, CA",
          "Mountain View, CA",
          "Mountain View, CA",
          "Mountain View, CA",
          "Mountain View, CA",
          "Mountain View, CA",
          "Mountain View, CA",
          "Mountain View, CA",
          "Mountain View, CA",
          "Mountain View, CA",
          "Mountain View, CA",
          "Mountain View, CA",
          "Mountain View, CA",
          "Mountain View, CA",
          "Mountain View, CA",
          "Mountain View, CA",
          "Mountain View, CA",
          "Mountain View, CA",
          "Mountain View, CA",
          "Mountain View, CA",
          "Mountain View, CA",
          "Mountain View, CA",
          "Mountain View, CA",
          "Mountain View, CA",
          "Mountain View, CA",
          "Mountain View, CA",
          "Mountain View, CA",
          "Mountain View, CA",
          "Mountain View, CA",
          "Mountain View, CA",
          "Mountain View, CA",
          "Mountain View, CA",
          "Mountain View, CA",
          "Mountain View, CA",
          "Mountain View, CA",
          "Mountain View, CA",
          "Mountain View, CA",
          "Mountain View, CA",
          "Mountain View, CA",
          "Mountain View, CA",
          "Mountain View, CA",
          "Mountain View, CA",
          "Mountain View, CA",
          "Mountain View, CA",
          "Mountain View, CA",
          "Mountain View, CA",
          "Mountain View, CA",
          "Mountain View, CA",
          "Mountain View, CA",
          "Mountain View, CA",
          "Mountain View, CA",
          "Mountain View, CA",
          "Mountain View, CA",
          "Mountain View, CA",
          "Mountain View, CA",
          "Mountain View, CA",
          "Mountain View, CA",
          "Mountain View, CA",
          "Mountain View, CA",
          "Mountain View, CA",
          "Mountain View, CA",
          "Mountain View, CA",
          "Mountain View, CA",
          "Mountain View, CA",
          "Mountain View, CA",
          "Mountain View, CA",
          "Mountain View, CA",
          "Mountain View, CA",
          "Mountain View, CA",
          "Mountain View, CA",
          "Mountain View, CA",
          "Mountain View, CA",
          "Mountain View, CA",
          "Mountain View, CA",
          "Mountain View, CA",
          "Mountain View, CA",
          "Mountain View, CA",
          "Mountain View, CA",
          "Mountain View, CA",
          "New York, NY",
          "New York, NY",
          "New York, NY",
          "New York, NY",
          "New York, NY",
          "New York, NY",
          "New York, NY",
          "New York, NY",
          "New York, NY",
          "New York, NY",
          "New York, NY",
          "New York, NY",
          "New York, NY",
          "New York, NY",
          "New York, NY",
          "New York, NY",
          "New York, NY",
          "Mountain View, CA",
          "Mountain View, CA",
          "Mountain View, CA",
          "Mountain View, CA",
          "Mountain View, CA",
          "Mountain View, CA",
          "Mountain View, CA",
          "Mountain View, CA",
          "Mountain View, CA",
          "New York, NY",
          "New York, NY",
          "Atlanta, GA",
          "Chicago, IL",
          "Mountain View, CA",
          "New York, NY"
         ],
         "x0": " ",
         "xaxis": "x",
         "y": [
          0.7226666666666668,
          0.8666666666666668,
          0.9279999999999999,
          0.6853333333333333,
          0.7733333333333333,
          0.752,
          0.9493333333333333,
          0.6293333333333334,
          0.7599999999999999,
          0.7093333333333333,
          0.8800000000000001,
          0.6853333333333335,
          0.8613333333333333,
          0.7733333333333333,
          0.7999999999999999,
          0.8826666666666666,
          0.8266666666666668,
          0.6106666666666667,
          0.8559999999999999,
          0.8666666666666668,
          0.7733333333333333,
          0.8480000000000001,
          0.7733333333333333,
          0.8,
          0.7946666666666666,
          0.752,
          0.768,
          0.7733333333333334,
          0.7893333333333333,
          0.8079999999999999,
          0.7759999999999999,
          0.7040000000000001,
          0.7466666666666667,
          0.8480000000000001,
          0.7306666666666667,
          0.7413333333333333,
          0.8133333333333332,
          0.7546666666666666,
          0.7866666666666666,
          0.7386666666666667,
          0.7653333333333333,
          0.7173333333333335,
          0.624,
          0.7546666666666666,
          0.7093333333333334,
          0.7173333333333334,
          0.6693333333333333,
          0.7653333333333333,
          0.7466666666666666,
          0.7333333333333334,
          0.7733333333333332,
          0.7946666666666667,
          0.6026666666666667,
          0.6293333333333334,
          0.8160000000000001,
          0.6906666666666668,
          0.76,
          0.6826666666666666,
          0.7866666666666666,
          0.768,
          0.768,
          0.7999999999999999,
          0.8186666666666668,
          0.7679999999999999,
          0.7866666666666667,
          0.6399999999999999,
          0.6666666666666667,
          0.7679999999999999,
          0.8933333333333333,
          0.616,
          0.696,
          0.752,
          0.6346666666666667,
          0.9093333333333332,
          0.8133333333333332,
          0.7813333333333333,
          0.7040000000000001,
          0.5946666666666667,
          0.7013333333333334,
          0.7013333333333334,
          0.6613333333333333,
          0.5866666666666667,
          0.7946666666666667,
          0.752,
          0.624,
          0.76,
          0.8053333333333335,
          0.6319999999999999,
          0.5893333333333333,
          0.6719999999999999,
          0.6773333333333332,
          0.8,
          0.8213333333333335,
          0.664,
          0.6799999999999999,
          0.8480000000000001,
          0.8186666666666665,
          0.6426666666666667,
          0.7120000000000001,
          0.8079999999999998,
          0.8480000000000001,
          0.7866666666666666,
          0.7866666666666666,
          0.7413333333333333,
          0.7866666666666667,
          0.7786666666666666,
          0.8426666666666666,
          0.6986666666666667,
          0.6986666666666668,
          0.8213333333333332,
          0.8160000000000001,
          0.8400000000000001,
          0.752,
          0.8266666666666668,
          0.7413333333333333,
          0.7599999999999999,
          0.8906666666666666,
          0.7520000000000001,
          0.6906666666666668,
          0.7813333333333333,
          0.8213333333333335,
          0.6373333333333334,
          0.8293333333333333,
          0.7546666666666667,
          0.7733333333333332,
          0.736,
          0.672,
          0.8559999999999999,
          0.8079999999999998,
          0.7040000000000001,
          0.7813333333333332,
          0.7813333333333333,
          0.8880000000000001,
          0.8106666666666665,
          0.8213333333333335,
          0.792,
          0.8053333333333335,
          0.8,
          0.8213333333333332,
          0.7040000000000001,
          0.7626666666666666,
          0.8373333333333333,
          0.7733333333333334,
          0.7466666666666668,
          0.76,
          0.8693333333333332,
          0.7866666666666668,
          0.7306666666666666,
          0.768,
          0.7733333333333333,
          0.6666666666666667,
          0.8346666666666668,
          0.8,
          0.8480000000000001,
          0.72,
          0.7946666666666666,
          0.752,
          0.6479999999999999,
          0.7813333333333333,
          0.7733333333333333,
          0.7440000000000001,
          0.7546666666666667,
          0.7493333333333334,
          0.7813333333333332,
          0.7226666666666667,
          0.6559999999999999,
          0.8346666666666666,
          0.6186666666666666,
          0.8426666666666668,
          0.5680000000000001,
          0.7146666666666668,
          0.7946666666666666,
          0.752,
          0.6799999999999999,
          0.7733333333333333,
          0.8880000000000001,
          0.7733333333333333,
          0.8026666666666668,
          0.7866666666666666,
          0.8693333333333332,
          0.8906666666666666,
          0.7466666666666667,
          0.752,
          0.8079999999999999,
          0.7866666666666667,
          0.8133333333333332,
          0.7386666666666668,
          0.7386666666666668,
          0.8799999999999999,
          0.7866666666666666,
          0.792,
          0.7999999999999999,
          0.76,
          0.7733333333333333,
          0.7493333333333333,
          0.8213333333333335,
          0.7786666666666667,
          0.8026666666666665,
          0.7919999999999999,
          0.7946666666666666,
          0.7333333333333333,
          0.8266666666666668,
          0.752,
          0.8293333333333333,
          0.76,
          0.6826666666666666,
          0.8399999999999999,
          0.8293333333333333,
          0.9013333333333332,
          0.6853333333333335,
          0.8079999999999998,
          0.8079999999999999,
          0.8133333333333332,
          0.76,
          0.8346666666666668,
          0.8426666666666666,
          0.7466666666666668,
          0.8426666666666668,
          0.7466666666666666,
          0.8240000000000001,
          0.7413333333333334,
          0.7653333333333333,
          0.7866666666666666,
          0.7413333333333333,
          0.7653333333333333,
          0.7546666666666666,
          0.8613333333333333,
          0.8160000000000001,
          0.7386666666666668,
          0.7893333333333333,
          0.792,
          0.7893333333333333,
          0.7386666666666667,
          0.76,
          0.8079999999999999,
          0.8133333333333332,
          0.7120000000000001,
          0.8213333333333335,
          0.8826666666666668,
          0.7386666666666667,
          0.8079999999999999,
          0.8000000000000002,
          0.8959999999999999,
          0.8346666666666668,
          0.8559999999999999,
          0.8426666666666666,
          0.768,
          0.8026666666666668,
          0.7866666666666666,
          0.6933333333333334,
          0.8213333333333332,
          0.736,
          0.7946666666666669,
          0.7893333333333333,
          0.8160000000000001,
          0.7946666666666666,
          0.752,
          0.76,
          0.7226666666666668,
          0.76,
          0.8480000000000001,
          0.7413333333333333,
          0.7946666666666666,
          0.8079999999999999,
          0.7653333333333333,
          0.752,
          0.752,
          0.8213333333333332,
          0.7999999999999999,
          0.7599999999999999,
          0.8613333333333333,
          0.7120000000000001,
          0.7866666666666666,
          0.9173333333333332,
          0.7839999999999999,
          0.8693333333333332,
          0.7439999999999999,
          0.7813333333333333,
          0.7946666666666666,
          0.8480000000000001,
          0.8693333333333333,
          0.7813333333333333,
          0.7546666666666668,
          0.7813333333333333,
          0.7893333333333333,
          0.7386666666666668,
          0.7866666666666668,
          0.8266666666666668,
          0.9306666666666664,
          0.8746666666666668,
          0.7946666666666667,
          0.7466666666666668,
          0.8480000000000001,
          0.768,
          0.7120000000000001,
          0.72,
          0.7146666666666668,
          0.76,
          0.616,
          0.8133333333333335,
          0.7546666666666666,
          0.7493333333333334,
          0.7173333333333334,
          0.6346666666666667,
          0.8480000000000001,
          0.6293333333333334,
          0.6933333333333332,
          0.8346666666666668,
          0.7813333333333333,
          0.7946666666666666,
          0.7386666666666667,
          0.7759999999999999,
          0.8079999999999998,
          0.6746666666666667,
          0.8346666666666666,
          0.696,
          0.904,
          0.7466666666666668,
          0.7946666666666666,
          0.768,
          0.784,
          0.7466666666666666,
          0.7466666666666667,
          0.9066666666666666,
          0.6693333333333333,
          0.6853333333333333,
          0.7999999999999999,
          0.8426666666666666,
          0.7253333333333333,
          0.8213333333333335,
          0.7040000000000001,
          0.6853333333333332,
          0.7093333333333334,
          0.7466666666666666,
          0.76,
          0.7413333333333333,
          0.7546666666666668,
          0.6613333333333333,
          0.7146666666666668,
          0.7893333333333333,
          0.8213333333333335,
          0.904,
          0.8079999999999999,
          0.7733333333333333,
          0.7226666666666667,
          0.8826666666666666,
          0.7759999999999999,
          0.68,
          0.7919999999999999,
          0.72,
          0.6613333333333333,
          0.6853333333333333,
          0.8080000000000002,
          0.5946666666666667,
          0.8106666666666668,
          0.8,
          0.8346666666666668,
          0.6533333333333334,
          0.8,
          0.7093333333333333,
          0.8346666666666668,
          0.6773333333333333,
          0.8746666666666668,
          0.7946666666666666,
          0.76,
          0.7653333333333333,
          0.9013333333333332,
          0.6773333333333333,
          0.6559999999999999,
          0.8773333333333333,
          0.6986666666666667,
          0.9173333333333332,
          0.7173333333333335,
          0.9093333333333332,
          0.8266666666666668,
          0.7386666666666668,
          0.7466666666666666,
          0.7120000000000001,
          0.7573333333333335,
          0.9306666666666666,
          0.8320000000000001
         ],
         "y0": " ",
         "yaxis": "y"
        }
       ],
       "layout": {
        "boxmode": "group",
        "legend": {
         "tracegroupgap": 0
        },
        "margin": {
         "t": 60
        },
        "template": {
         "data": {
          "bar": [
           {
            "error_x": {
             "color": "#2a3f5f"
            },
            "error_y": {
             "color": "#2a3f5f"
            },
            "marker": {
             "line": {
              "color": "#E5ECF6",
              "width": 0.5
             }
            },
            "type": "bar"
           }
          ],
          "barpolar": [
           {
            "marker": {
             "line": {
              "color": "#E5ECF6",
              "width": 0.5
             }
            },
            "type": "barpolar"
           }
          ],
          "carpet": [
           {
            "aaxis": {
             "endlinecolor": "#2a3f5f",
             "gridcolor": "white",
             "linecolor": "white",
             "minorgridcolor": "white",
             "startlinecolor": "#2a3f5f"
            },
            "baxis": {
             "endlinecolor": "#2a3f5f",
             "gridcolor": "white",
             "linecolor": "white",
             "minorgridcolor": "white",
             "startlinecolor": "#2a3f5f"
            },
            "type": "carpet"
           }
          ],
          "choropleth": [
           {
            "colorbar": {
             "outlinewidth": 0,
             "ticks": ""
            },
            "type": "choropleth"
           }
          ],
          "contour": [
           {
            "colorbar": {
             "outlinewidth": 0,
             "ticks": ""
            },
            "colorscale": [
             [
              0,
              "#0d0887"
             ],
             [
              0.1111111111111111,
              "#46039f"
             ],
             [
              0.2222222222222222,
              "#7201a8"
             ],
             [
              0.3333333333333333,
              "#9c179e"
             ],
             [
              0.4444444444444444,
              "#bd3786"
             ],
             [
              0.5555555555555556,
              "#d8576b"
             ],
             [
              0.6666666666666666,
              "#ed7953"
             ],
             [
              0.7777777777777778,
              "#fb9f3a"
             ],
             [
              0.8888888888888888,
              "#fdca26"
             ],
             [
              1,
              "#f0f921"
             ]
            ],
            "type": "contour"
           }
          ],
          "contourcarpet": [
           {
            "colorbar": {
             "outlinewidth": 0,
             "ticks": ""
            },
            "type": "contourcarpet"
           }
          ],
          "heatmap": [
           {
            "colorbar": {
             "outlinewidth": 0,
             "ticks": ""
            },
            "colorscale": [
             [
              0,
              "#0d0887"
             ],
             [
              0.1111111111111111,
              "#46039f"
             ],
             [
              0.2222222222222222,
              "#7201a8"
             ],
             [
              0.3333333333333333,
              "#9c179e"
             ],
             [
              0.4444444444444444,
              "#bd3786"
             ],
             [
              0.5555555555555556,
              "#d8576b"
             ],
             [
              0.6666666666666666,
              "#ed7953"
             ],
             [
              0.7777777777777778,
              "#fb9f3a"
             ],
             [
              0.8888888888888888,
              "#fdca26"
             ],
             [
              1,
              "#f0f921"
             ]
            ],
            "type": "heatmap"
           }
          ],
          "heatmapgl": [
           {
            "colorbar": {
             "outlinewidth": 0,
             "ticks": ""
            },
            "colorscale": [
             [
              0,
              "#0d0887"
             ],
             [
              0.1111111111111111,
              "#46039f"
             ],
             [
              0.2222222222222222,
              "#7201a8"
             ],
             [
              0.3333333333333333,
              "#9c179e"
             ],
             [
              0.4444444444444444,
              "#bd3786"
             ],
             [
              0.5555555555555556,
              "#d8576b"
             ],
             [
              0.6666666666666666,
              "#ed7953"
             ],
             [
              0.7777777777777778,
              "#fb9f3a"
             ],
             [
              0.8888888888888888,
              "#fdca26"
             ],
             [
              1,
              "#f0f921"
             ]
            ],
            "type": "heatmapgl"
           }
          ],
          "histogram": [
           {
            "marker": {
             "colorbar": {
              "outlinewidth": 0,
              "ticks": ""
             }
            },
            "type": "histogram"
           }
          ],
          "histogram2d": [
           {
            "colorbar": {
             "outlinewidth": 0,
             "ticks": ""
            },
            "colorscale": [
             [
              0,
              "#0d0887"
             ],
             [
              0.1111111111111111,
              "#46039f"
             ],
             [
              0.2222222222222222,
              "#7201a8"
             ],
             [
              0.3333333333333333,
              "#9c179e"
             ],
             [
              0.4444444444444444,
              "#bd3786"
             ],
             [
              0.5555555555555556,
              "#d8576b"
             ],
             [
              0.6666666666666666,
              "#ed7953"
             ],
             [
              0.7777777777777778,
              "#fb9f3a"
             ],
             [
              0.8888888888888888,
              "#fdca26"
             ],
             [
              1,
              "#f0f921"
             ]
            ],
            "type": "histogram2d"
           }
          ],
          "histogram2dcontour": [
           {
            "colorbar": {
             "outlinewidth": 0,
             "ticks": ""
            },
            "colorscale": [
             [
              0,
              "#0d0887"
             ],
             [
              0.1111111111111111,
              "#46039f"
             ],
             [
              0.2222222222222222,
              "#7201a8"
             ],
             [
              0.3333333333333333,
              "#9c179e"
             ],
             [
              0.4444444444444444,
              "#bd3786"
             ],
             [
              0.5555555555555556,
              "#d8576b"
             ],
             [
              0.6666666666666666,
              "#ed7953"
             ],
             [
              0.7777777777777778,
              "#fb9f3a"
             ],
             [
              0.8888888888888888,
              "#fdca26"
             ],
             [
              1,
              "#f0f921"
             ]
            ],
            "type": "histogram2dcontour"
           }
          ],
          "mesh3d": [
           {
            "colorbar": {
             "outlinewidth": 0,
             "ticks": ""
            },
            "type": "mesh3d"
           }
          ],
          "parcoords": [
           {
            "line": {
             "colorbar": {
              "outlinewidth": 0,
              "ticks": ""
             }
            },
            "type": "parcoords"
           }
          ],
          "pie": [
           {
            "automargin": true,
            "type": "pie"
           }
          ],
          "scatter": [
           {
            "marker": {
             "colorbar": {
              "outlinewidth": 0,
              "ticks": ""
             }
            },
            "type": "scatter"
           }
          ],
          "scatter3d": [
           {
            "line": {
             "colorbar": {
              "outlinewidth": 0,
              "ticks": ""
             }
            },
            "marker": {
             "colorbar": {
              "outlinewidth": 0,
              "ticks": ""
             }
            },
            "type": "scatter3d"
           }
          ],
          "scattercarpet": [
           {
            "marker": {
             "colorbar": {
              "outlinewidth": 0,
              "ticks": ""
             }
            },
            "type": "scattercarpet"
           }
          ],
          "scattergeo": [
           {
            "marker": {
             "colorbar": {
              "outlinewidth": 0,
              "ticks": ""
             }
            },
            "type": "scattergeo"
           }
          ],
          "scattergl": [
           {
            "marker": {
             "colorbar": {
              "outlinewidth": 0,
              "ticks": ""
             }
            },
            "type": "scattergl"
           }
          ],
          "scattermapbox": [
           {
            "marker": {
             "colorbar": {
              "outlinewidth": 0,
              "ticks": ""
             }
            },
            "type": "scattermapbox"
           }
          ],
          "scatterpolar": [
           {
            "marker": {
             "colorbar": {
              "outlinewidth": 0,
              "ticks": ""
             }
            },
            "type": "scatterpolar"
           }
          ],
          "scatterpolargl": [
           {
            "marker": {
             "colorbar": {
              "outlinewidth": 0,
              "ticks": ""
             }
            },
            "type": "scatterpolargl"
           }
          ],
          "scatterternary": [
           {
            "marker": {
             "colorbar": {
              "outlinewidth": 0,
              "ticks": ""
             }
            },
            "type": "scatterternary"
           }
          ],
          "surface": [
           {
            "colorbar": {
             "outlinewidth": 0,
             "ticks": ""
            },
            "colorscale": [
             [
              0,
              "#0d0887"
             ],
             [
              0.1111111111111111,
              "#46039f"
             ],
             [
              0.2222222222222222,
              "#7201a8"
             ],
             [
              0.3333333333333333,
              "#9c179e"
             ],
             [
              0.4444444444444444,
              "#bd3786"
             ],
             [
              0.5555555555555556,
              "#d8576b"
             ],
             [
              0.6666666666666666,
              "#ed7953"
             ],
             [
              0.7777777777777778,
              "#fb9f3a"
             ],
             [
              0.8888888888888888,
              "#fdca26"
             ],
             [
              1,
              "#f0f921"
             ]
            ],
            "type": "surface"
           }
          ],
          "table": [
           {
            "cells": {
             "fill": {
              "color": "#EBF0F8"
             },
             "line": {
              "color": "white"
             }
            },
            "header": {
             "fill": {
              "color": "#C8D4E3"
             },
             "line": {
              "color": "white"
             }
            },
            "type": "table"
           }
          ]
         },
         "layout": {
          "annotationdefaults": {
           "arrowcolor": "#2a3f5f",
           "arrowhead": 0,
           "arrowwidth": 1
          },
          "autotypenumbers": "strict",
          "coloraxis": {
           "colorbar": {
            "outlinewidth": 0,
            "ticks": ""
           }
          },
          "colorscale": {
           "diverging": [
            [
             0,
             "#8e0152"
            ],
            [
             0.1,
             "#c51b7d"
            ],
            [
             0.2,
             "#de77ae"
            ],
            [
             0.3,
             "#f1b6da"
            ],
            [
             0.4,
             "#fde0ef"
            ],
            [
             0.5,
             "#f7f7f7"
            ],
            [
             0.6,
             "#e6f5d0"
            ],
            [
             0.7,
             "#b8e186"
            ],
            [
             0.8,
             "#7fbc41"
            ],
            [
             0.9,
             "#4d9221"
            ],
            [
             1,
             "#276419"
            ]
           ],
           "sequential": [
            [
             0,
             "#0d0887"
            ],
            [
             0.1111111111111111,
             "#46039f"
            ],
            [
             0.2222222222222222,
             "#7201a8"
            ],
            [
             0.3333333333333333,
             "#9c179e"
            ],
            [
             0.4444444444444444,
             "#bd3786"
            ],
            [
             0.5555555555555556,
             "#d8576b"
            ],
            [
             0.6666666666666666,
             "#ed7953"
            ],
            [
             0.7777777777777778,
             "#fb9f3a"
            ],
            [
             0.8888888888888888,
             "#fdca26"
            ],
            [
             1,
             "#f0f921"
            ]
           ],
           "sequentialminus": [
            [
             0,
             "#0d0887"
            ],
            [
             0.1111111111111111,
             "#46039f"
            ],
            [
             0.2222222222222222,
             "#7201a8"
            ],
            [
             0.3333333333333333,
             "#9c179e"
            ],
            [
             0.4444444444444444,
             "#bd3786"
            ],
            [
             0.5555555555555556,
             "#d8576b"
            ],
            [
             0.6666666666666666,
             "#ed7953"
            ],
            [
             0.7777777777777778,
             "#fb9f3a"
            ],
            [
             0.8888888888888888,
             "#fdca26"
            ],
            [
             1,
             "#f0f921"
            ]
           ]
          },
          "colorway": [
           "#636efa",
           "#EF553B",
           "#00cc96",
           "#ab63fa",
           "#FFA15A",
           "#19d3f3",
           "#FF6692",
           "#B6E880",
           "#FF97FF",
           "#FECB52"
          ],
          "font": {
           "color": "#2a3f5f"
          },
          "geo": {
           "bgcolor": "white",
           "lakecolor": "white",
           "landcolor": "#E5ECF6",
           "showlakes": true,
           "showland": true,
           "subunitcolor": "white"
          },
          "hoverlabel": {
           "align": "left"
          },
          "hovermode": "closest",
          "mapbox": {
           "style": "light"
          },
          "paper_bgcolor": "white",
          "plot_bgcolor": "#E5ECF6",
          "polar": {
           "angularaxis": {
            "gridcolor": "white",
            "linecolor": "white",
            "ticks": ""
           },
           "bgcolor": "#E5ECF6",
           "radialaxis": {
            "gridcolor": "white",
            "linecolor": "white",
            "ticks": ""
           }
          },
          "scene": {
           "xaxis": {
            "backgroundcolor": "#E5ECF6",
            "gridcolor": "white",
            "gridwidth": 2,
            "linecolor": "white",
            "showbackground": true,
            "ticks": "",
            "zerolinecolor": "white"
           },
           "yaxis": {
            "backgroundcolor": "#E5ECF6",
            "gridcolor": "white",
            "gridwidth": 2,
            "linecolor": "white",
            "showbackground": true,
            "ticks": "",
            "zerolinecolor": "white"
           },
           "zaxis": {
            "backgroundcolor": "#E5ECF6",
            "gridcolor": "white",
            "gridwidth": 2,
            "linecolor": "white",
            "showbackground": true,
            "ticks": "",
            "zerolinecolor": "white"
           }
          },
          "shapedefaults": {
           "line": {
            "color": "#2a3f5f"
           }
          },
          "ternary": {
           "aaxis": {
            "gridcolor": "white",
            "linecolor": "white",
            "ticks": ""
           },
           "baxis": {
            "gridcolor": "white",
            "linecolor": "white",
            "ticks": ""
           },
           "bgcolor": "#E5ECF6",
           "caxis": {
            "gridcolor": "white",
            "linecolor": "white",
            "ticks": ""
           }
          },
          "title": {
           "x": 0.05
          },
          "xaxis": {
           "automargin": true,
           "gridcolor": "white",
           "linecolor": "white",
           "ticks": "",
           "title": {
            "standoff": 15
           },
           "zerolinecolor": "white",
           "zerolinewidth": 2
          },
          "yaxis": {
           "automargin": true,
           "gridcolor": "white",
           "linecolor": "white",
           "ticks": "",
           "title": {
            "standoff": 15
           },
           "zerolinecolor": "white",
           "zerolinewidth": 2
          }
         }
        },
        "xaxis": {
         "anchor": "y",
         "domain": [
          0,
          1
         ],
         "title": {
          "text": "location"
         }
        },
        "yaxis": {
         "anchor": "x",
         "domain": [
          0,
          1
         ],
         "title": {
          "text": "overall"
         }
        }
       }
      },
      "text/html": "<div>                            <div id=\"41342360-89db-4dc5-b469-29da86c25c0b\" class=\"plotly-graph-div\" style=\"height:525px; width:100%;\"></div>            <script type=\"text/javascript\">                require([\"plotly\"], function(Plotly) {                    window.PLOTLYENV=window.PLOTLYENV || {};                                    if (document.getElementById(\"41342360-89db-4dc5-b469-29da86c25c0b\")) {                    Plotly.newPlot(                        \"41342360-89db-4dc5-b469-29da86c25c0b\",                        [{\"alignmentgroup\": \"True\", \"hovertemplate\": \"location=%{x}<br>overall=%{y}<extra></extra>\", \"legendgroup\": \"\", \"marker\": {\"color\": \"#636efa\"}, \"name\": \"\", \"notched\": false, \"offsetgroup\": \"\", \"orientation\": \"v\", \"showlegend\": false, \"type\": \"box\", \"x\": [\"Mountain View, CA\", \"Mountain View, CA\", \"Mountain View, CA\", \"Mountain View, CA\", \"Mountain View, CA\", \"Mountain View, CA\", \"New York, NY\", \"New York, NY\", \"Mountain View, CA\", \"Mountain View, CA\", \"New York, NY\", \"New York, NY\", \"Mountain View, CA\", \"Mountain View, CA\", \"New York, NY\", \"New York, NY\", \"Mountain View, CA\", \"Mountain View, CA\", \"Mountain View, CA\", \"Mountain View, CA\", \"Mountain View, CA\", \"Mountain View, CA\", \"Mountain View, CA\", \"Mountain View, CA\", \"Mountain View, CA\", \"Mountain View, CA\", \"Mountain View, CA\", \"Mountain View, CA\", \"Mountain View, CA\", \"Mountain View, CA\", \"Mountain View, CA\", \"Mountain View, CA\", \"Mountain View, CA\", \"Mountain View, CA\", \"Mountain View, CA\", \"Mountain View, CA\", \"Mountain View, CA\", \"Mountain View, CA\", \"Mountain View, CA\", \"Mountain View, CA\", \"Mountain View, CA\", \"New York, NY\", \"New York, NY\", \"New York, NY\", \"New York, NY\", \"New York, NY\", \"New York, NY\", \"New York, NY\", \"New York, NY\", \"New York, NY\", \"New York, NY\", \"New York, NY\", \"New York, NY\", \"New York, NY\", \"Mountain View, CA\", \"Mountain View, CA\", \"Mountain View, CA\", \"Mountain View, CA\", \"Mountain View, CA\", \"Mountain View, CA\", \"Mountain View, CA\", \"Mountain View, CA\", \"Mountain View, CA\", \"Mountain View, CA\", \"New York, NY\", \"New York, NY\", \"New York, NY\", \"New York, NY\", \"New York, NY\", \"New York, NY\", \"New York, NY\", \"New York, NY\", \"New York, NY\", \"New York, NY\", \"New York, NY\", \"New York, NY\", \"Atlanta, GA\", \"Atlanta, GA\", \"Atlanta, GA\", \"Atlanta, GA\", \"Austin, TX\", \"Austin, TX\", \"Austin, TX\", \"Austin, TX\", \"Chicago, IL\", \"Chicago, IL\", \"Chicago, IL\", \"Chicago, IL\", \"Chicago, IL\", \"Chicago, IL\", \"Chicago, IL\", \"Mountain View, CA\", \"Mountain View, CA\", \"Mountain View, CA\", \"Mountain View, CA\", \"Mountain View, CA\", \"Mountain View, CA\", \"Mountain View, CA\", \"Mountain View, CA\", \"Mountain View, CA\", \"Mountain View, CA\", \"Mountain View, CA\", \"Mountain View, CA\", \"Mountain View, CA\", \"New York, NY\", \"New York, NY\", \"New York, NY\", \"New York, NY\", \"New York, NY\", \"New York, NY\", \"New York, NY\", \"Mountain View, CA\", \"Mountain View, CA\", \"Mountain View, CA\", \"Mountain View, CA\", \"Mountain View, CA\", \"Mountain View, CA\", \"Mountain View, CA\", \"Mountain View, CA\", \"Mountain View, CA\", \"Mountain View, CA\", \"Mountain View, CA\", \"Mountain View, CA\", \"Mountain View, CA\", \"Mountain View, CA\", \"Mountain View, CA\", \"Mountain View, CA\", \"Mountain View, CA\", \"Mountain View, CA\", \"Mountain View, CA\", \"Mountain View, CA\", \"Mountain View, CA\", \"Mountain View, CA\", \"Mountain View, CA\", \"Mountain View, CA\", \"Mountain View, CA\", \"Mountain View, CA\", \"Mountain View, CA\", \"Mountain View, CA\", \"Mountain View, CA\", \"Mountain View, CA\", \"Mountain View, CA\", \"Mountain View, CA\", \"Mountain View, CA\", \"Mountain View, CA\", \"Mountain View, CA\", \"New York, NY\", \"New York, NY\", \"New York, NY\", \"New York, NY\", \"New York, NY\", \"New York, NY\", \"New York, NY\", \"Mountain View, CA\", \"Chicago, IL\", \"Mountain View, CA\", \"Mountain View, CA\", \"Mountain View, CA\", \"Mountain View, CA\", \"Mountain View, CA\", \"Mountain View, CA\", \"Mountain View, CA\", \"Mountain View, CA\", \"Mountain View, CA\", \"Mountain View, CA\", \"Mountain View, CA\", \"Mountain View, CA\", \"Mountain View, CA\", \"Mountain View, CA\", \"Mountain View, CA\", \"Mountain View, CA\", \"Mountain View, CA\", \"Mountain View, CA\", \"Mountain View, CA\", \"Mountain View, CA\", \"Mountain View, CA\", \"Mountain View, CA\", \"Mountain View, CA\", \"Mountain View, CA\", \"Mountain View, CA\", \"Mountain View, CA\", \"Mountain View, CA\", \"Mountain View, CA\", \"Mountain View, CA\", \"Mountain View, CA\", \"Mountain View, CA\", \"Mountain View, CA\", \"Mountain View, CA\", \"Mountain View, CA\", \"Mountain View, CA\", \"Mountain View, CA\", \"Mountain View, CA\", \"Mountain View, CA\", \"Mountain View, CA\", \"Mountain View, CA\", \"Mountain View, CA\", \"Mountain View, CA\", \"Mountain View, CA\", \"Mountain View, CA\", \"Mountain View, CA\", \"Mountain View, CA\", \"Mountain View, CA\", \"Mountain View, CA\", \"Mountain View, CA\", \"Mountain View, CA\", \"Mountain View, CA\", \"Mountain View, CA\", \"Mountain View, CA\", \"Mountain View, CA\", \"Mountain View, CA\", \"Mountain View, CA\", \"Mountain View, CA\", \"Mountain View, CA\", \"Mountain View, CA\", \"Mountain View, CA\", \"Mountain View, CA\", \"Mountain View, CA\", \"Mountain View, CA\", \"Mountain View, CA\", \"Mountain View, CA\", \"Mountain View, CA\", \"Mountain View, CA\", \"Mountain View, CA\", \"Mountain View, CA\", \"Mountain View, CA\", \"Mountain View, CA\", \"Mountain View, CA\", \"Mountain View, CA\", \"Mountain View, CA\", \"Mountain View, CA\", \"Mountain View, CA\", \"Mountain View, CA\", \"Mountain View, CA\", \"Mountain View, CA\", \"Mountain View, CA\", \"Mountain View, CA\", \"Mountain View, CA\", \"Mountain View, CA\", \"Mountain View, CA\", \"Mountain View, CA\", \"Mountain View, CA\", \"Mountain View, CA\", \"Mountain View, CA\", \"Mountain View, CA\", \"Mountain View, CA\", \"Mountain View, CA\", \"Mountain View, CA\", \"Mountain View, CA\", \"Mountain View, CA\", \"Mountain View, CA\", \"Mountain View, CA\", \"Mountain View, CA\", \"Mountain View, CA\", \"Mountain View, CA\", \"Mountain View, CA\", \"Mountain View, CA\", \"Mountain View, CA\", \"Mountain View, CA\", \"Mountain View, CA\", \"Mountain View, CA\", \"Mountain View, CA\", \"Mountain View, CA\", \"Mountain View, CA\", \"Mountain View, CA\", \"Mountain View, CA\", \"Mountain View, CA\", \"Mountain View, CA\", \"Mountain View, CA\", \"Mountain View, CA\", \"Mountain View, CA\", \"Mountain View, CA\", \"Mountain View, CA\", \"Mountain View, CA\", \"Mountain View, CA\", \"Mountain View, CA\", \"Mountain View, CA\", \"Mountain View, CA\", \"Mountain View, CA\", \"Mountain View, CA\", \"Mountain View, CA\", \"Mountain View, CA\", \"Mountain View, CA\", \"Mountain View, CA\", \"Mountain View, CA\", \"Mountain View, CA\", \"Mountain View, CA\", \"Mountain View, CA\", \"Mountain View, CA\", \"Mountain View, CA\", \"Mountain View, CA\", \"Mountain View, CA\", \"Mountain View, CA\", \"Mountain View, CA\", \"Mountain View, CA\", \"Mountain View, CA\", \"Mountain View, CA\", \"Mountain View, CA\", \"Mountain View, CA\", \"Mountain View, CA\", \"Mountain View, CA\", \"Mountain View, CA\", \"Mountain View, CA\", \"Mountain View, CA\", \"Mountain View, CA\", \"Mountain View, CA\", \"Mountain View, CA\", \"Mountain View, CA\", \"Mountain View, CA\", \"Mountain View, CA\", \"Mountain View, CA\", \"Mountain View, CA\", \"Mountain View, CA\", \"Mountain View, CA\", \"Mountain View, CA\", \"Mountain View, CA\", \"Mountain View, CA\", \"Mountain View, CA\", \"Mountain View, CA\", \"Mountain View, CA\", \"Mountain View, CA\", \"Mountain View, CA\", \"Mountain View, CA\", \"Mountain View, CA\", \"Mountain View, CA\", \"Mountain View, CA\", \"Mountain View, CA\", \"Mountain View, CA\", \"Mountain View, CA\", \"Mountain View, CA\", \"Mountain View, CA\", \"Mountain View, CA\", \"Mountain View, CA\", \"Mountain View, CA\", \"Mountain View, CA\", \"Mountain View, CA\", \"Mountain View, CA\", \"Mountain View, CA\", \"Mountain View, CA\", \"Mountain View, CA\", \"Mountain View, CA\", \"Mountain View, CA\", \"Mountain View, CA\", \"Mountain View, CA\", \"Mountain View, CA\", \"Mountain View, CA\", \"Mountain View, CA\", \"Mountain View, CA\", \"Mountain View, CA\", \"Mountain View, CA\", \"New York, NY\", \"New York, NY\", \"New York, NY\", \"New York, NY\", \"New York, NY\", \"New York, NY\", \"New York, NY\", \"New York, NY\", \"New York, NY\", \"New York, NY\", \"New York, NY\", \"New York, NY\", \"New York, NY\", \"New York, NY\", \"New York, NY\", \"New York, NY\", \"New York, NY\", \"Mountain View, CA\", \"Mountain View, CA\", \"Mountain View, CA\", \"Mountain View, CA\", \"Mountain View, CA\", \"Mountain View, CA\", \"Mountain View, CA\", \"Mountain View, CA\", \"Mountain View, CA\", \"New York, NY\", \"New York, NY\", \"Atlanta, GA\", \"Chicago, IL\", \"Mountain View, CA\", \"New York, NY\"], \"x0\": \" \", \"xaxis\": \"x\", \"y\": [0.7226666666666668, 0.8666666666666668, 0.9279999999999999, 0.6853333333333333, 0.7733333333333333, 0.752, 0.9493333333333333, 0.6293333333333334, 0.7599999999999999, 0.7093333333333333, 0.8800000000000001, 0.6853333333333335, 0.8613333333333333, 0.7733333333333333, 0.7999999999999999, 0.8826666666666666, 0.8266666666666668, 0.6106666666666667, 0.8559999999999999, 0.8666666666666668, 0.7733333333333333, 0.8480000000000001, 0.7733333333333333, 0.8, 0.7946666666666666, 0.752, 0.768, 0.7733333333333334, 0.7893333333333333, 0.8079999999999999, 0.7759999999999999, 0.7040000000000001, 0.7466666666666667, 0.8480000000000001, 0.7306666666666667, 0.7413333333333333, 0.8133333333333332, 0.7546666666666666, 0.7866666666666666, 0.7386666666666667, 0.7653333333333333, 0.7173333333333335, 0.624, 0.7546666666666666, 0.7093333333333334, 0.7173333333333334, 0.6693333333333333, 0.7653333333333333, 0.7466666666666666, 0.7333333333333334, 0.7733333333333332, 0.7946666666666667, 0.6026666666666667, 0.6293333333333334, 0.8160000000000001, 0.6906666666666668, 0.76, 0.6826666666666666, 0.7866666666666666, 0.768, 0.768, 0.7999999999999999, 0.8186666666666668, 0.7679999999999999, 0.7866666666666667, 0.6399999999999999, 0.6666666666666667, 0.7679999999999999, 0.8933333333333333, 0.616, 0.696, 0.752, 0.6346666666666667, 0.9093333333333332, 0.8133333333333332, 0.7813333333333333, 0.7040000000000001, 0.5946666666666667, 0.7013333333333334, 0.7013333333333334, 0.6613333333333333, 0.5866666666666667, 0.7946666666666667, 0.752, 0.624, 0.76, 0.8053333333333335, 0.6319999999999999, 0.5893333333333333, 0.6719999999999999, 0.6773333333333332, 0.8, 0.8213333333333335, 0.664, 0.6799999999999999, 0.8480000000000001, 0.8186666666666665, 0.6426666666666667, 0.7120000000000001, 0.8079999999999998, 0.8480000000000001, 0.7866666666666666, 0.7866666666666666, 0.7413333333333333, 0.7866666666666667, 0.7786666666666666, 0.8426666666666666, 0.6986666666666667, 0.6986666666666668, 0.8213333333333332, 0.8160000000000001, 0.8400000000000001, 0.752, 0.8266666666666668, 0.7413333333333333, 0.7599999999999999, 0.8906666666666666, 0.7520000000000001, 0.6906666666666668, 0.7813333333333333, 0.8213333333333335, 0.6373333333333334, 0.8293333333333333, 0.7546666666666667, 0.7733333333333332, 0.736, 0.672, 0.8559999999999999, 0.8079999999999998, 0.7040000000000001, 0.7813333333333332, 0.7813333333333333, 0.8880000000000001, 0.8106666666666665, 0.8213333333333335, 0.792, 0.8053333333333335, 0.8, 0.8213333333333332, 0.7040000000000001, 0.7626666666666666, 0.8373333333333333, 0.7733333333333334, 0.7466666666666668, 0.76, 0.8693333333333332, 0.7866666666666668, 0.7306666666666666, 0.768, 0.7733333333333333, 0.6666666666666667, 0.8346666666666668, 0.8, 0.8480000000000001, 0.72, 0.7946666666666666, 0.752, 0.6479999999999999, 0.7813333333333333, 0.7733333333333333, 0.7440000000000001, 0.7546666666666667, 0.7493333333333334, 0.7813333333333332, 0.7226666666666667, 0.6559999999999999, 0.8346666666666666, 0.6186666666666666, 0.8426666666666668, 0.5680000000000001, 0.7146666666666668, 0.7946666666666666, 0.752, 0.6799999999999999, 0.7733333333333333, 0.8880000000000001, 0.7733333333333333, 0.8026666666666668, 0.7866666666666666, 0.8693333333333332, 0.8906666666666666, 0.7466666666666667, 0.752, 0.8079999999999999, 0.7866666666666667, 0.8133333333333332, 0.7386666666666668, 0.7386666666666668, 0.8799999999999999, 0.7866666666666666, 0.792, 0.7999999999999999, 0.76, 0.7733333333333333, 0.7493333333333333, 0.8213333333333335, 0.7786666666666667, 0.8026666666666665, 0.7919999999999999, 0.7946666666666666, 0.7333333333333333, 0.8266666666666668, 0.752, 0.8293333333333333, 0.76, 0.6826666666666666, 0.8399999999999999, 0.8293333333333333, 0.9013333333333332, 0.6853333333333335, 0.8079999999999998, 0.8079999999999999, 0.8133333333333332, 0.76, 0.8346666666666668, 0.8426666666666666, 0.7466666666666668, 0.8426666666666668, 0.7466666666666666, 0.8240000000000001, 0.7413333333333334, 0.7653333333333333, 0.7866666666666666, 0.7413333333333333, 0.7653333333333333, 0.7546666666666666, 0.8613333333333333, 0.8160000000000001, 0.7386666666666668, 0.7893333333333333, 0.792, 0.7893333333333333, 0.7386666666666667, 0.76, 0.8079999999999999, 0.8133333333333332, 0.7120000000000001, 0.8213333333333335, 0.8826666666666668, 0.7386666666666667, 0.8079999999999999, 0.8000000000000002, 0.8959999999999999, 0.8346666666666668, 0.8559999999999999, 0.8426666666666666, 0.768, 0.8026666666666668, 0.7866666666666666, 0.6933333333333334, 0.8213333333333332, 0.736, 0.7946666666666669, 0.7893333333333333, 0.8160000000000001, 0.7946666666666666, 0.752, 0.76, 0.7226666666666668, 0.76, 0.8480000000000001, 0.7413333333333333, 0.7946666666666666, 0.8079999999999999, 0.7653333333333333, 0.752, 0.752, 0.8213333333333332, 0.7999999999999999, 0.7599999999999999, 0.8613333333333333, 0.7120000000000001, 0.7866666666666666, 0.9173333333333332, 0.7839999999999999, 0.8693333333333332, 0.7439999999999999, 0.7813333333333333, 0.7946666666666666, 0.8480000000000001, 0.8693333333333333, 0.7813333333333333, 0.7546666666666668, 0.7813333333333333, 0.7893333333333333, 0.7386666666666668, 0.7866666666666668, 0.8266666666666668, 0.9306666666666664, 0.8746666666666668, 0.7946666666666667, 0.7466666666666668, 0.8480000000000001, 0.768, 0.7120000000000001, 0.72, 0.7146666666666668, 0.76, 0.616, 0.8133333333333335, 0.7546666666666666, 0.7493333333333334, 0.7173333333333334, 0.6346666666666667, 0.8480000000000001, 0.6293333333333334, 0.6933333333333332, 0.8346666666666668, 0.7813333333333333, 0.7946666666666666, 0.7386666666666667, 0.7759999999999999, 0.8079999999999998, 0.6746666666666667, 0.8346666666666666, 0.696, 0.904, 0.7466666666666668, 0.7946666666666666, 0.768, 0.784, 0.7466666666666666, 0.7466666666666667, 0.9066666666666666, 0.6693333333333333, 0.6853333333333333, 0.7999999999999999, 0.8426666666666666, 0.7253333333333333, 0.8213333333333335, 0.7040000000000001, 0.6853333333333332, 0.7093333333333334, 0.7466666666666666, 0.76, 0.7413333333333333, 0.7546666666666668, 0.6613333333333333, 0.7146666666666668, 0.7893333333333333, 0.8213333333333335, 0.904, 0.8079999999999999, 0.7733333333333333, 0.7226666666666667, 0.8826666666666666, 0.7759999999999999, 0.68, 0.7919999999999999, 0.72, 0.6613333333333333, 0.6853333333333333, 0.8080000000000002, 0.5946666666666667, 0.8106666666666668, 0.8, 0.8346666666666668, 0.6533333333333334, 0.8, 0.7093333333333333, 0.8346666666666668, 0.6773333333333333, 0.8746666666666668, 0.7946666666666666, 0.76, 0.7653333333333333, 0.9013333333333332, 0.6773333333333333, 0.6559999999999999, 0.8773333333333333, 0.6986666666666667, 0.9173333333333332, 0.7173333333333335, 0.9093333333333332, 0.8266666666666668, 0.7386666666666668, 0.7466666666666666, 0.7120000000000001, 0.7573333333333335, 0.9306666666666666, 0.8320000000000001], \"y0\": \" \", \"yaxis\": \"y\"}],                        {\"boxmode\": \"group\", \"legend\": {\"tracegroupgap\": 0}, \"margin\": {\"t\": 60}, \"template\": {\"data\": {\"bar\": [{\"error_x\": {\"color\": \"#2a3f5f\"}, \"error_y\": {\"color\": \"#2a3f5f\"}, \"marker\": {\"line\": {\"color\": \"#E5ECF6\", \"width\": 0.5}}, \"type\": \"bar\"}], \"barpolar\": [{\"marker\": {\"line\": {\"color\": \"#E5ECF6\", \"width\": 0.5}}, \"type\": \"barpolar\"}], \"carpet\": [{\"aaxis\": {\"endlinecolor\": \"#2a3f5f\", \"gridcolor\": \"white\", \"linecolor\": \"white\", \"minorgridcolor\": \"white\", \"startlinecolor\": \"#2a3f5f\"}, \"baxis\": {\"endlinecolor\": \"#2a3f5f\", \"gridcolor\": \"white\", \"linecolor\": \"white\", \"minorgridcolor\": \"white\", \"startlinecolor\": \"#2a3f5f\"}, \"type\": \"carpet\"}], \"choropleth\": [{\"colorbar\": {\"outlinewidth\": 0, \"ticks\": \"\"}, \"type\": \"choropleth\"}], \"contour\": [{\"colorbar\": {\"outlinewidth\": 0, \"ticks\": \"\"}, \"colorscale\": [[0.0, \"#0d0887\"], [0.1111111111111111, \"#46039f\"], [0.2222222222222222, \"#7201a8\"], [0.3333333333333333, \"#9c179e\"], [0.4444444444444444, \"#bd3786\"], [0.5555555555555556, \"#d8576b\"], [0.6666666666666666, \"#ed7953\"], [0.7777777777777778, \"#fb9f3a\"], [0.8888888888888888, \"#fdca26\"], [1.0, \"#f0f921\"]], \"type\": \"contour\"}], \"contourcarpet\": [{\"colorbar\": {\"outlinewidth\": 0, \"ticks\": \"\"}, \"type\": \"contourcarpet\"}], \"heatmap\": [{\"colorbar\": {\"outlinewidth\": 0, \"ticks\": \"\"}, \"colorscale\": [[0.0, \"#0d0887\"], [0.1111111111111111, \"#46039f\"], [0.2222222222222222, \"#7201a8\"], [0.3333333333333333, \"#9c179e\"], [0.4444444444444444, \"#bd3786\"], [0.5555555555555556, \"#d8576b\"], [0.6666666666666666, \"#ed7953\"], [0.7777777777777778, \"#fb9f3a\"], [0.8888888888888888, \"#fdca26\"], [1.0, \"#f0f921\"]], \"type\": \"heatmap\"}], \"heatmapgl\": [{\"colorbar\": {\"outlinewidth\": 0, \"ticks\": \"\"}, \"colorscale\": [[0.0, \"#0d0887\"], [0.1111111111111111, \"#46039f\"], [0.2222222222222222, \"#7201a8\"], [0.3333333333333333, \"#9c179e\"], [0.4444444444444444, \"#bd3786\"], [0.5555555555555556, \"#d8576b\"], [0.6666666666666666, \"#ed7953\"], [0.7777777777777778, \"#fb9f3a\"], [0.8888888888888888, \"#fdca26\"], [1.0, \"#f0f921\"]], \"type\": \"heatmapgl\"}], \"histogram\": [{\"marker\": {\"colorbar\": {\"outlinewidth\": 0, \"ticks\": \"\"}}, \"type\": \"histogram\"}], \"histogram2d\": [{\"colorbar\": {\"outlinewidth\": 0, \"ticks\": \"\"}, \"colorscale\": [[0.0, \"#0d0887\"], [0.1111111111111111, \"#46039f\"], [0.2222222222222222, \"#7201a8\"], [0.3333333333333333, \"#9c179e\"], [0.4444444444444444, \"#bd3786\"], [0.5555555555555556, \"#d8576b\"], [0.6666666666666666, \"#ed7953\"], [0.7777777777777778, \"#fb9f3a\"], [0.8888888888888888, \"#fdca26\"], [1.0, \"#f0f921\"]], \"type\": \"histogram2d\"}], \"histogram2dcontour\": [{\"colorbar\": {\"outlinewidth\": 0, \"ticks\": \"\"}, \"colorscale\": [[0.0, \"#0d0887\"], [0.1111111111111111, \"#46039f\"], [0.2222222222222222, \"#7201a8\"], [0.3333333333333333, \"#9c179e\"], [0.4444444444444444, \"#bd3786\"], [0.5555555555555556, \"#d8576b\"], [0.6666666666666666, \"#ed7953\"], [0.7777777777777778, \"#fb9f3a\"], [0.8888888888888888, \"#fdca26\"], [1.0, \"#f0f921\"]], \"type\": \"histogram2dcontour\"}], \"mesh3d\": [{\"colorbar\": {\"outlinewidth\": 0, \"ticks\": \"\"}, \"type\": \"mesh3d\"}], \"parcoords\": [{\"line\": {\"colorbar\": {\"outlinewidth\": 0, \"ticks\": \"\"}}, \"type\": \"parcoords\"}], \"pie\": [{\"automargin\": true, \"type\": \"pie\"}], \"scatter\": [{\"marker\": {\"colorbar\": {\"outlinewidth\": 0, \"ticks\": \"\"}}, \"type\": \"scatter\"}], \"scatter3d\": [{\"line\": {\"colorbar\": {\"outlinewidth\": 0, \"ticks\": \"\"}}, \"marker\": {\"colorbar\": {\"outlinewidth\": 0, \"ticks\": \"\"}}, \"type\": \"scatter3d\"}], \"scattercarpet\": [{\"marker\": {\"colorbar\": {\"outlinewidth\": 0, \"ticks\": \"\"}}, \"type\": \"scattercarpet\"}], \"scattergeo\": [{\"marker\": {\"colorbar\": {\"outlinewidth\": 0, \"ticks\": \"\"}}, \"type\": \"scattergeo\"}], \"scattergl\": [{\"marker\": {\"colorbar\": {\"outlinewidth\": 0, \"ticks\": \"\"}}, \"type\": \"scattergl\"}], \"scattermapbox\": [{\"marker\": {\"colorbar\": {\"outlinewidth\": 0, \"ticks\": \"\"}}, \"type\": \"scattermapbox\"}], \"scatterpolar\": [{\"marker\": {\"colorbar\": {\"outlinewidth\": 0, \"ticks\": \"\"}}, \"type\": \"scatterpolar\"}], \"scatterpolargl\": [{\"marker\": {\"colorbar\": {\"outlinewidth\": 0, \"ticks\": \"\"}}, \"type\": \"scatterpolargl\"}], \"scatterternary\": [{\"marker\": {\"colorbar\": {\"outlinewidth\": 0, \"ticks\": \"\"}}, \"type\": \"scatterternary\"}], \"surface\": [{\"colorbar\": {\"outlinewidth\": 0, \"ticks\": \"\"}, \"colorscale\": [[0.0, \"#0d0887\"], [0.1111111111111111, \"#46039f\"], [0.2222222222222222, \"#7201a8\"], [0.3333333333333333, \"#9c179e\"], [0.4444444444444444, \"#bd3786\"], [0.5555555555555556, \"#d8576b\"], [0.6666666666666666, \"#ed7953\"], [0.7777777777777778, \"#fb9f3a\"], [0.8888888888888888, \"#fdca26\"], [1.0, \"#f0f921\"]], \"type\": \"surface\"}], \"table\": [{\"cells\": {\"fill\": {\"color\": \"#EBF0F8\"}, \"line\": {\"color\": \"white\"}}, \"header\": {\"fill\": {\"color\": \"#C8D4E3\"}, \"line\": {\"color\": \"white\"}}, \"type\": \"table\"}]}, \"layout\": {\"annotationdefaults\": {\"arrowcolor\": \"#2a3f5f\", \"arrowhead\": 0, \"arrowwidth\": 1}, \"autotypenumbers\": \"strict\", \"coloraxis\": {\"colorbar\": {\"outlinewidth\": 0, \"ticks\": \"\"}}, \"colorscale\": {\"diverging\": [[0, \"#8e0152\"], [0.1, \"#c51b7d\"], [0.2, \"#de77ae\"], [0.3, \"#f1b6da\"], [0.4, \"#fde0ef\"], [0.5, \"#f7f7f7\"], [0.6, \"#e6f5d0\"], [0.7, \"#b8e186\"], [0.8, \"#7fbc41\"], [0.9, \"#4d9221\"], [1, \"#276419\"]], \"sequential\": [[0.0, \"#0d0887\"], [0.1111111111111111, \"#46039f\"], [0.2222222222222222, \"#7201a8\"], [0.3333333333333333, \"#9c179e\"], [0.4444444444444444, \"#bd3786\"], [0.5555555555555556, \"#d8576b\"], [0.6666666666666666, \"#ed7953\"], [0.7777777777777778, \"#fb9f3a\"], [0.8888888888888888, \"#fdca26\"], [1.0, \"#f0f921\"]], \"sequentialminus\": [[0.0, \"#0d0887\"], [0.1111111111111111, \"#46039f\"], [0.2222222222222222, \"#7201a8\"], [0.3333333333333333, \"#9c179e\"], [0.4444444444444444, \"#bd3786\"], [0.5555555555555556, \"#d8576b\"], [0.6666666666666666, \"#ed7953\"], [0.7777777777777778, \"#fb9f3a\"], [0.8888888888888888, \"#fdca26\"], [1.0, \"#f0f921\"]]}, \"colorway\": [\"#636efa\", \"#EF553B\", \"#00cc96\", \"#ab63fa\", \"#FFA15A\", \"#19d3f3\", \"#FF6692\", \"#B6E880\", \"#FF97FF\", \"#FECB52\"], \"font\": {\"color\": \"#2a3f5f\"}, \"geo\": {\"bgcolor\": \"white\", \"lakecolor\": \"white\", \"landcolor\": \"#E5ECF6\", \"showlakes\": true, \"showland\": true, \"subunitcolor\": \"white\"}, \"hoverlabel\": {\"align\": \"left\"}, \"hovermode\": \"closest\", \"mapbox\": {\"style\": \"light\"}, \"paper_bgcolor\": \"white\", \"plot_bgcolor\": \"#E5ECF6\", \"polar\": {\"angularaxis\": {\"gridcolor\": \"white\", \"linecolor\": \"white\", \"ticks\": \"\"}, \"bgcolor\": \"#E5ECF6\", \"radialaxis\": {\"gridcolor\": \"white\", \"linecolor\": \"white\", \"ticks\": \"\"}}, \"scene\": {\"xaxis\": {\"backgroundcolor\": \"#E5ECF6\", \"gridcolor\": \"white\", \"gridwidth\": 2, \"linecolor\": \"white\", \"showbackground\": true, \"ticks\": \"\", \"zerolinecolor\": \"white\"}, \"yaxis\": {\"backgroundcolor\": \"#E5ECF6\", \"gridcolor\": \"white\", \"gridwidth\": 2, \"linecolor\": \"white\", \"showbackground\": true, \"ticks\": \"\", \"zerolinecolor\": \"white\"}, \"zaxis\": {\"backgroundcolor\": \"#E5ECF6\", \"gridcolor\": \"white\", \"gridwidth\": 2, \"linecolor\": \"white\", \"showbackground\": true, \"ticks\": \"\", \"zerolinecolor\": \"white\"}}, \"shapedefaults\": {\"line\": {\"color\": \"#2a3f5f\"}}, \"ternary\": {\"aaxis\": {\"gridcolor\": \"white\", \"linecolor\": \"white\", \"ticks\": \"\"}, \"baxis\": {\"gridcolor\": \"white\", \"linecolor\": \"white\", \"ticks\": \"\"}, \"bgcolor\": \"#E5ECF6\", \"caxis\": {\"gridcolor\": \"white\", \"linecolor\": \"white\", \"ticks\": \"\"}}, \"title\": {\"x\": 0.05}, \"xaxis\": {\"automargin\": true, \"gridcolor\": \"white\", \"linecolor\": \"white\", \"ticks\": \"\", \"title\": {\"standoff\": 15}, \"zerolinecolor\": \"white\", \"zerolinewidth\": 2}, \"yaxis\": {\"automargin\": true, \"gridcolor\": \"white\", \"linecolor\": \"white\", \"ticks\": \"\", \"title\": {\"standoff\": 15}, \"zerolinecolor\": \"white\", \"zerolinewidth\": 2}}}, \"xaxis\": {\"anchor\": \"y\", \"domain\": [0.0, 1.0], \"title\": {\"text\": \"location\"}}, \"yaxis\": {\"anchor\": \"x\", \"domain\": [0.0, 1.0], \"title\": {\"text\": \"overall\"}}},                        {\"responsive\": true}                    ).then(function(){\n                            \nvar gd = document.getElementById('41342360-89db-4dc5-b469-29da86c25c0b');\nvar x = new MutationObserver(function (mutations, observer) {{\n        var display = window.getComputedStyle(gd).display;\n        if (!display || display === 'none') {{\n            console.log([gd, 'removed!']);\n            Plotly.purge(gd);\n            observer.disconnect();\n        }}\n}});\n\n// Listen for the removal of the full notebook cells\nvar notebookContainer = gd.closest('#notebook-container');\nif (notebookContainer) {{\n    x.observe(notebookContainer, {childList: true});\n}}\n\n// Listen for the clearing of the current output cell\nvar outputEl = gd.closest('.output');\nif (outputEl) {{\n    x.observe(outputEl, {childList: true});\n}}\n\n                        })                };                });            </script>        </div>"
     },
     "metadata": {}
    }
   ],
   "source": [
    "px.box(df, x='location', y='overall')"
   ]
  },
  {
   "cell_type": "markdown",
   "metadata": {},
   "source": [
    "## Q3: Other Regressors\n",
    "\n",
    "If you had unlimited programming skills, what other regressors would you create from the available data?\n",
    "- Common approaches to create more accurate regression models include log transformation and polynomial expansion of existing features. Log transformation can help the model interpret the data more consistently, while strategies like polynomial expansion can create new features altogether. This can be combined with optimization of feature importance to create a very accurate model, but it often is at the cost of explainability, as the features may no longer resemble the original variables in the data.\n",
    "\n",
    "Describe how your interpretations of the regression can help inform business decisions.\n",
    "- Identifying the most significant variables in determining overall employee satisfaction can help the company to understand where to focus their time and energy to promote satisfaction. For example, the strongest regressors were tenure and location. Because increased tenure is associated with increased satisfaction, the company could consider investing in retention programs to incentive and encourage employees to stay. As discussed in prior assignments, it is important to also consider the reverse causal relationship, that high satisfaction increases tenure because satisfied employees are less likely to leave. By identifying an association between location and satisfaction, the company could examine the practices of high-performing offices to replicate their success or focus hiring in areas where employees are generally satisfied."
   ]
  },
  {
   "cell_type": "code",
   "execution_count": 20,
   "metadata": {},
   "outputs": [
    {
     "output_type": "stream",
     "name": "stderr",
     "text": [
      "[NbConvertApp] Converting notebook Loantronic_MultiRegression.ipynb to html\nC:\\Users\\mconan002\\Anaconda3\\lib\\site-packages\\nbconvert\\filters\\datatypefilter.py:39: UserWarning: Your element with mimetype(s) dict_keys(['application/vnd.plotly.v1+json']) is not able to be represented.\n  warn(\"Your element with mimetype(s) {mimetypes}\"\n[NbConvertApp] Writing 408444 bytes to Loantronic_MultiRegression.html\n"
     ]
    }
   ],
   "source": [
    "!jupyter nbconvert --to html --template full *.ipynb"
   ]
  }
 ],
 "metadata": {
  "kernelspec": {
   "name": "python3",
   "display_name": "Python 3.8.3 64-bit ('base': conda)"
  },
  "language_info": {
   "codemirror_mode": {
    "name": "ipython",
    "version": 3
   },
   "file_extension": ".py",
   "mimetype": "text/x-python",
   "name": "python",
   "nbconvert_exporter": "python",
   "pygments_lexer": "ipython3",
   "version": "3.8.3"
  },
  "interpreter": {
   "hash": "41e6209773aa37b74ace5eba6f1445f0bd28eaed78a9306a587800345dc110dd"
  }
 },
 "nbformat": 4,
 "nbformat_minor": 4
}