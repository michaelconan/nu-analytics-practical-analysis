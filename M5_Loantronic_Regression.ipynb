{
 "cells": [
  {
   "cell_type": "markdown",
   "metadata": {},
   "source": [
    "# Week 5 -- Univariate OLS Regression\n",
    "\n",
    "This week we will explore a different approach at evaluating the results of the Likert survey.  We will assume an equal distance between each label as we did in assessing the **overall** score in week 2:\n",
    "\n",
    "Label | Description | Percent Score\n",
    "--|--|--\n",
    "1 | strongly disagree | 0.20\n",
    "2 | disagree | 0.40\n",
    "3 | neutral | 0.60\n",
    "4 | agree | 0.80\n",
    "5 | strongly agree | 1.00\n",
    "\n",
    "To make matters more interesting, we have a new dataset this week:\n",
    "\n",
    "```demographic_detail.csv```\n",
    "\n",
    "This dataset comprises the following metrics:\n",
    "\n",
    "Attribute Name | Field Name | Type | Categorical | Restrictions | Description\n",
    "--|--|--|--|--|--\n",
    "Employee ID | ```employee_id``` |```int``` | No | 1 and above | Employee ID assigned at start of employment\n",
    "Year of Birth | ```year_of_birth``` |```int``` | No |  | Calendar year in which the employee was born\n",
    "Time on the Job | ```time_on_the_job``` |```int``` | No |  | Number of months since the employee joined the company\n",
    "\n"
   ]
  },
  {
   "cell_type": "code",
   "execution_count": 5,
   "metadata": {},
   "outputs": [],
   "source": [
    "import pandas as pd "
   ]
  },
  {
   "cell_type": "markdown",
   "metadata": {},
   "source": [
    "## Q1: Merge Datasets\n",
    "\n",
    "Merge the new dataset with the ```roster_with_score.csv``` data.  Save the resulting dataframe as a new csv: ```roster_with_score_2.csv```"
   ]
  },
  {
   "cell_type": "code",
   "execution_count": 6,
   "metadata": {},
   "outputs": [
    {
     "output_type": "stream",
     "name": "stdout",
     "text": [
      "381 ~~ 381 ~~ 381\n"
     ]
    },
    {
     "output_type": "execute_result",
     "data": {
      "text/plain": [
       "   employee_id                     title      last     first  manager_id  \\\n",
       "0          343                       CEO     Duran  Veronica         NaN   \n",
       "1          203  Administrative Assistant  Thompson      Anne       343.0   \n",
       "2           11            VP Engineering     Xiong    Steven       343.0   \n",
       "3          707  Administrative Assistant   Sanchez   Carolyn        11.0   \n",
       "4          417  Chief Technology Officer    Deleon    Amanda       343.0   \n",
       "\n",
       "  function           department           location      age sex  ...  \\\n",
       "0      CEO           Leadership  Mountain View, CA  35 - 44   F  ...   \n",
       "1      CEO           Leadership  Mountain View, CA  45 - 54   F  ...   \n",
       "2      CEO          Engineering  Mountain View, CA  35 - 44   M  ...   \n",
       "3      CEO          Engineering  Mountain View, CA  45 - 54   F  ...   \n",
       "4      CEO  Advanced Technology  Mountain View, CA  35 - 44   F  ...   \n",
       "\n",
       "  tenure_id seniority alignment  development  enablement  engagement  \\\n",
       "0         2         4  0.800000     0.666667    0.733333        0.68   \n",
       "1         3         0  0.800000     0.933333    0.933333        0.80   \n",
       "2         4         3  0.933333     0.866667    1.000000        0.84   \n",
       "3         0         0  0.733333     0.800000    0.666667        0.76   \n",
       "4         2         2  0.933333     0.533333    0.733333        0.80   \n",
       "\n",
       "   leadership   overall  year_of_birth  time_on_the_job  \n",
       "0    0.733333  0.722667           1978        22.885246  \n",
       "1    0.866667  0.866667           1976        37.967213  \n",
       "2    1.000000  0.928000           1983        70.360656  \n",
       "3    0.466667  0.685333           1970         4.163934  \n",
       "4    0.866667  0.773333           1977        19.540984  \n",
       "\n",
       "[5 rows x 23 columns]"
      ],
      "text/html": "<div>\n<style scoped>\n    .dataframe tbody tr th:only-of-type {\n        vertical-align: middle;\n    }\n\n    .dataframe tbody tr th {\n        vertical-align: top;\n    }\n\n    .dataframe thead th {\n        text-align: right;\n    }\n</style>\n<table border=\"1\" class=\"dataframe\">\n  <thead>\n    <tr style=\"text-align: right;\">\n      <th></th>\n      <th>employee_id</th>\n      <th>title</th>\n      <th>last</th>\n      <th>first</th>\n      <th>manager_id</th>\n      <th>function</th>\n      <th>department</th>\n      <th>location</th>\n      <th>age</th>\n      <th>sex</th>\n      <th>...</th>\n      <th>tenure_id</th>\n      <th>seniority</th>\n      <th>alignment</th>\n      <th>development</th>\n      <th>enablement</th>\n      <th>engagement</th>\n      <th>leadership</th>\n      <th>overall</th>\n      <th>year_of_birth</th>\n      <th>time_on_the_job</th>\n    </tr>\n  </thead>\n  <tbody>\n    <tr>\n      <th>0</th>\n      <td>343</td>\n      <td>CEO</td>\n      <td>Duran</td>\n      <td>Veronica</td>\n      <td>NaN</td>\n      <td>CEO</td>\n      <td>Leadership</td>\n      <td>Mountain View, CA</td>\n      <td>35 - 44</td>\n      <td>F</td>\n      <td>...</td>\n      <td>2</td>\n      <td>4</td>\n      <td>0.800000</td>\n      <td>0.666667</td>\n      <td>0.733333</td>\n      <td>0.68</td>\n      <td>0.733333</td>\n      <td>0.722667</td>\n      <td>1978</td>\n      <td>22.885246</td>\n    </tr>\n    <tr>\n      <th>1</th>\n      <td>203</td>\n      <td>Administrative Assistant</td>\n      <td>Thompson</td>\n      <td>Anne</td>\n      <td>343.0</td>\n      <td>CEO</td>\n      <td>Leadership</td>\n      <td>Mountain View, CA</td>\n      <td>45 - 54</td>\n      <td>F</td>\n      <td>...</td>\n      <td>3</td>\n      <td>0</td>\n      <td>0.800000</td>\n      <td>0.933333</td>\n      <td>0.933333</td>\n      <td>0.80</td>\n      <td>0.866667</td>\n      <td>0.866667</td>\n      <td>1976</td>\n      <td>37.967213</td>\n    </tr>\n    <tr>\n      <th>2</th>\n      <td>11</td>\n      <td>VP Engineering</td>\n      <td>Xiong</td>\n      <td>Steven</td>\n      <td>343.0</td>\n      <td>CEO</td>\n      <td>Engineering</td>\n      <td>Mountain View, CA</td>\n      <td>35 - 44</td>\n      <td>M</td>\n      <td>...</td>\n      <td>4</td>\n      <td>3</td>\n      <td>0.933333</td>\n      <td>0.866667</td>\n      <td>1.000000</td>\n      <td>0.84</td>\n      <td>1.000000</td>\n      <td>0.928000</td>\n      <td>1983</td>\n      <td>70.360656</td>\n    </tr>\n    <tr>\n      <th>3</th>\n      <td>707</td>\n      <td>Administrative Assistant</td>\n      <td>Sanchez</td>\n      <td>Carolyn</td>\n      <td>11.0</td>\n      <td>CEO</td>\n      <td>Engineering</td>\n      <td>Mountain View, CA</td>\n      <td>45 - 54</td>\n      <td>F</td>\n      <td>...</td>\n      <td>0</td>\n      <td>0</td>\n      <td>0.733333</td>\n      <td>0.800000</td>\n      <td>0.666667</td>\n      <td>0.76</td>\n      <td>0.466667</td>\n      <td>0.685333</td>\n      <td>1970</td>\n      <td>4.163934</td>\n    </tr>\n    <tr>\n      <th>4</th>\n      <td>417</td>\n      <td>Chief Technology Officer</td>\n      <td>Deleon</td>\n      <td>Amanda</td>\n      <td>343.0</td>\n      <td>CEO</td>\n      <td>Advanced Technology</td>\n      <td>Mountain View, CA</td>\n      <td>35 - 44</td>\n      <td>F</td>\n      <td>...</td>\n      <td>2</td>\n      <td>2</td>\n      <td>0.933333</td>\n      <td>0.533333</td>\n      <td>0.733333</td>\n      <td>0.80</td>\n      <td>0.866667</td>\n      <td>0.773333</td>\n      <td>1977</td>\n      <td>19.540984</td>\n    </tr>\n  </tbody>\n</table>\n<p>5 rows × 23 columns</p>\n</div>"
     },
     "metadata": {},
     "execution_count": 6
    }
   ],
   "source": [
    "# Read data and merge\n",
    "r_df = pd.read_csv('roster_with_score.csv')\n",
    "r_df.drop('Unnamed: 0', axis=1, inplace=True)\n",
    "d_df = pd.read_csv('demographic_detail.csv')\n",
    "d_df.drop('Unnamed: 0', axis=1, inplace=True)\n",
    "df = r_df.merge(d_df, on='employee_id')\n",
    "\n",
    "# Compare row counts and preview frame\n",
    "print(' ~~ '.join([str(len(x)) for x in [r_df, d_df, df]]))\n",
    "df.head()"
   ]
  },
  {
   "cell_type": "code",
   "execution_count": 7,
   "metadata": {},
   "outputs": [],
   "source": [
    "# Write data without index\n",
    "df.to_csv('roster_with_score2.csv', index=False)"
   ]
  },
  {
   "cell_type": "markdown",
   "metadata": {},
   "source": [
    "## Q2: Correlation Coefficients\n",
    "\n",
    "Compute the correlation coefficients for the two new variables in the dataset against **overall** satisfaction.  (**HINT**: you may want to transform the year of birth before computing the correlation coefficient)."
   ]
  },
  {
   "cell_type": "code",
   "execution_count": 8,
   "metadata": {},
   "outputs": [
    {
     "output_type": "execute_result",
     "data": {
      "text/plain": [
       "   employee_id                     title      last     first  manager_id  \\\n",
       "0          343                       CEO     Duran  Veronica         NaN   \n",
       "1          203  Administrative Assistant  Thompson      Anne       343.0   \n",
       "2           11            VP Engineering     Xiong    Steven       343.0   \n",
       "3          707  Administrative Assistant   Sanchez   Carolyn        11.0   \n",
       "4          417  Chief Technology Officer    Deleon    Amanda       343.0   \n",
       "\n",
       "  function           department           location      age sex  ...  \\\n",
       "0      CEO           Leadership  Mountain View, CA  35 - 44   F  ...   \n",
       "1      CEO           Leadership  Mountain View, CA  45 - 54   F  ...   \n",
       "2      CEO          Engineering  Mountain View, CA  35 - 44   M  ...   \n",
       "3      CEO          Engineering  Mountain View, CA  45 - 54   F  ...   \n",
       "4      CEO  Advanced Technology  Mountain View, CA  35 - 44   F  ...   \n",
       "\n",
       "  seniority alignment development  enablement  engagement  leadership  \\\n",
       "0         4  0.800000    0.666667    0.733333        0.68    0.733333   \n",
       "1         0  0.800000    0.933333    0.933333        0.80    0.866667   \n",
       "2         3  0.933333    0.866667    1.000000        0.84    1.000000   \n",
       "3         0  0.733333    0.800000    0.666667        0.76    0.466667   \n",
       "4         2  0.933333    0.533333    0.733333        0.80    0.866667   \n",
       "\n",
       "    overall  year_of_birth  time_on_the_job  current_age  \n",
       "0  0.722667           1978        22.885246           43  \n",
       "1  0.866667           1976        37.967213           45  \n",
       "2  0.928000           1983        70.360656           38  \n",
       "3  0.685333           1970         4.163934           51  \n",
       "4  0.773333           1977        19.540984           44  \n",
       "\n",
       "[5 rows x 24 columns]"
      ],
      "text/html": "<div>\n<style scoped>\n    .dataframe tbody tr th:only-of-type {\n        vertical-align: middle;\n    }\n\n    .dataframe tbody tr th {\n        vertical-align: top;\n    }\n\n    .dataframe thead th {\n        text-align: right;\n    }\n</style>\n<table border=\"1\" class=\"dataframe\">\n  <thead>\n    <tr style=\"text-align: right;\">\n      <th></th>\n      <th>employee_id</th>\n      <th>title</th>\n      <th>last</th>\n      <th>first</th>\n      <th>manager_id</th>\n      <th>function</th>\n      <th>department</th>\n      <th>location</th>\n      <th>age</th>\n      <th>sex</th>\n      <th>...</th>\n      <th>seniority</th>\n      <th>alignment</th>\n      <th>development</th>\n      <th>enablement</th>\n      <th>engagement</th>\n      <th>leadership</th>\n      <th>overall</th>\n      <th>year_of_birth</th>\n      <th>time_on_the_job</th>\n      <th>current_age</th>\n    </tr>\n  </thead>\n  <tbody>\n    <tr>\n      <th>0</th>\n      <td>343</td>\n      <td>CEO</td>\n      <td>Duran</td>\n      <td>Veronica</td>\n      <td>NaN</td>\n      <td>CEO</td>\n      <td>Leadership</td>\n      <td>Mountain View, CA</td>\n      <td>35 - 44</td>\n      <td>F</td>\n      <td>...</td>\n      <td>4</td>\n      <td>0.800000</td>\n      <td>0.666667</td>\n      <td>0.733333</td>\n      <td>0.68</td>\n      <td>0.733333</td>\n      <td>0.722667</td>\n      <td>1978</td>\n      <td>22.885246</td>\n      <td>43</td>\n    </tr>\n    <tr>\n      <th>1</th>\n      <td>203</td>\n      <td>Administrative Assistant</td>\n      <td>Thompson</td>\n      <td>Anne</td>\n      <td>343.0</td>\n      <td>CEO</td>\n      <td>Leadership</td>\n      <td>Mountain View, CA</td>\n      <td>45 - 54</td>\n      <td>F</td>\n      <td>...</td>\n      <td>0</td>\n      <td>0.800000</td>\n      <td>0.933333</td>\n      <td>0.933333</td>\n      <td>0.80</td>\n      <td>0.866667</td>\n      <td>0.866667</td>\n      <td>1976</td>\n      <td>37.967213</td>\n      <td>45</td>\n    </tr>\n    <tr>\n      <th>2</th>\n      <td>11</td>\n      <td>VP Engineering</td>\n      <td>Xiong</td>\n      <td>Steven</td>\n      <td>343.0</td>\n      <td>CEO</td>\n      <td>Engineering</td>\n      <td>Mountain View, CA</td>\n      <td>35 - 44</td>\n      <td>M</td>\n      <td>...</td>\n      <td>3</td>\n      <td>0.933333</td>\n      <td>0.866667</td>\n      <td>1.000000</td>\n      <td>0.84</td>\n      <td>1.000000</td>\n      <td>0.928000</td>\n      <td>1983</td>\n      <td>70.360656</td>\n      <td>38</td>\n    </tr>\n    <tr>\n      <th>3</th>\n      <td>707</td>\n      <td>Administrative Assistant</td>\n      <td>Sanchez</td>\n      <td>Carolyn</td>\n      <td>11.0</td>\n      <td>CEO</td>\n      <td>Engineering</td>\n      <td>Mountain View, CA</td>\n      <td>45 - 54</td>\n      <td>F</td>\n      <td>...</td>\n      <td>0</td>\n      <td>0.733333</td>\n      <td>0.800000</td>\n      <td>0.666667</td>\n      <td>0.76</td>\n      <td>0.466667</td>\n      <td>0.685333</td>\n      <td>1970</td>\n      <td>4.163934</td>\n      <td>51</td>\n    </tr>\n    <tr>\n      <th>4</th>\n      <td>417</td>\n      <td>Chief Technology Officer</td>\n      <td>Deleon</td>\n      <td>Amanda</td>\n      <td>343.0</td>\n      <td>CEO</td>\n      <td>Advanced Technology</td>\n      <td>Mountain View, CA</td>\n      <td>35 - 44</td>\n      <td>F</td>\n      <td>...</td>\n      <td>2</td>\n      <td>0.933333</td>\n      <td>0.533333</td>\n      <td>0.733333</td>\n      <td>0.80</td>\n      <td>0.866667</td>\n      <td>0.773333</td>\n      <td>1977</td>\n      <td>19.540984</td>\n      <td>44</td>\n    </tr>\n  </tbody>\n</table>\n<p>5 rows × 24 columns</p>\n</div>"
     },
     "metadata": {},
     "execution_count": 8
    }
   ],
   "source": [
    "# Compute current age from birth year\n",
    "from datetime import datetime\n",
    "df['current_age'] = datetime.now().year - df['year_of_birth']\n",
    "df.head()"
   ]
  },
  {
   "cell_type": "code",
   "execution_count": 9,
   "metadata": {},
   "outputs": [
    {
     "output_type": "execute_result",
     "data": {
      "text/plain": [
       "                 overall  time_on_the_job\n",
       "overall          1.00000          0.46353\n",
       "time_on_the_job  0.46353          1.00000"
      ],
      "text/html": "<div>\n<style scoped>\n    .dataframe tbody tr th:only-of-type {\n        vertical-align: middle;\n    }\n\n    .dataframe tbody tr th {\n        vertical-align: top;\n    }\n\n    .dataframe thead th {\n        text-align: right;\n    }\n</style>\n<table border=\"1\" class=\"dataframe\">\n  <thead>\n    <tr style=\"text-align: right;\">\n      <th></th>\n      <th>overall</th>\n      <th>time_on_the_job</th>\n    </tr>\n  </thead>\n  <tbody>\n    <tr>\n      <th>overall</th>\n      <td>1.00000</td>\n      <td>0.46353</td>\n    </tr>\n    <tr>\n      <th>time_on_the_job</th>\n      <td>0.46353</td>\n      <td>1.00000</td>\n    </tr>\n  </tbody>\n</table>\n</div>"
     },
     "metadata": {},
     "execution_count": 9
    }
   ],
   "source": [
    "df[['overall','time_on_the_job']].corr()"
   ]
  },
  {
   "cell_type": "code",
   "execution_count": 10,
   "metadata": {},
   "outputs": [
    {
     "output_type": "execute_result",
     "data": {
      "text/plain": [
       "                overall  year_of_birth\n",
       "overall        1.000000       0.051531\n",
       "year_of_birth  0.051531       1.000000"
      ],
      "text/html": "<div>\n<style scoped>\n    .dataframe tbody tr th:only-of-type {\n        vertical-align: middle;\n    }\n\n    .dataframe tbody tr th {\n        vertical-align: top;\n    }\n\n    .dataframe thead th {\n        text-align: right;\n    }\n</style>\n<table border=\"1\" class=\"dataframe\">\n  <thead>\n    <tr style=\"text-align: right;\">\n      <th></th>\n      <th>overall</th>\n      <th>year_of_birth</th>\n    </tr>\n  </thead>\n  <tbody>\n    <tr>\n      <th>overall</th>\n      <td>1.000000</td>\n      <td>0.051531</td>\n    </tr>\n    <tr>\n      <th>year_of_birth</th>\n      <td>0.051531</td>\n      <td>1.000000</td>\n    </tr>\n  </tbody>\n</table>\n</div>"
     },
     "metadata": {},
     "execution_count": 10
    }
   ],
   "source": [
    "df[['overall','year_of_birth']].corr()"
   ]
  },
  {
   "cell_type": "code",
   "execution_count": 11,
   "metadata": {},
   "outputs": [
    {
     "output_type": "execute_result",
     "data": {
      "text/plain": [
       "              overall  current_age\n",
       "overall      1.000000    -0.051531\n",
       "current_age -0.051531     1.000000"
      ],
      "text/html": "<div>\n<style scoped>\n    .dataframe tbody tr th:only-of-type {\n        vertical-align: middle;\n    }\n\n    .dataframe tbody tr th {\n        vertical-align: top;\n    }\n\n    .dataframe thead th {\n        text-align: right;\n    }\n</style>\n<table border=\"1\" class=\"dataframe\">\n  <thead>\n    <tr style=\"text-align: right;\">\n      <th></th>\n      <th>overall</th>\n      <th>current_age</th>\n    </tr>\n  </thead>\n  <tbody>\n    <tr>\n      <th>overall</th>\n      <td>1.000000</td>\n      <td>-0.051531</td>\n    </tr>\n    <tr>\n      <th>current_age</th>\n      <td>-0.051531</td>\n      <td>1.000000</td>\n    </tr>\n  </tbody>\n</table>\n</div>"
     },
     "metadata": {},
     "execution_count": 11
    }
   ],
   "source": [
    "df[['overall','current_age']].corr()"
   ]
  },
  {
   "source": [
    "### Correlation Analysis\n",
    "- Time on the job is moderately positively correlated with overall satisfaction, suggesting `more experienced staff are more satisfied with their jobs`.\n",
    "- Age is slightly negatively correlated with overall satisfaction, suggesting `younger staff are more satisfied with their jobs`. Year of birth shows an exact opposite correlation compared to age, because birth year has a perfect inverse correlation with age.\n",
    "\n",
    "These two insights seem somewhat contradictary, as younger staff are less likely to have a long tenure. One possible explanation is that staff that join the company and don't leave are more satisfied, whereas there may be staff that started older and have less tenure that exhibit lower satisfaction."
   ],
   "cell_type": "markdown",
   "metadata": {}
  },
  {
   "cell_type": "markdown",
   "metadata": {},
   "source": [
    "## Q3: OLS Regression\n",
    "\n",
    "Using the ```statsmodels``` OLS regression package perform and OLS regression of ```overall``` satisfaction vs. the two variables available in the in the dataset.\n",
    "\n",
    "(a) which of the two regressions produces better results?\n",
    "\n",
    "(b) what metric(s) are you using to make that assessment?"
   ]
  },
  {
   "cell_type": "code",
   "execution_count": 12,
   "metadata": {},
   "outputs": [],
   "source": [
    "import plotly.express as px\n",
    "import plotly.io as pio\n",
    "pio.renderers.default='plotly_mimetype+notebook_connected'"
   ]
  },
  {
   "cell_type": "code",
   "execution_count": 13,
   "metadata": {},
   "outputs": [
    {
     "output_type": "display_data",
     "data": {
      "text/html": "        <script type=\"text/javascript\">\n        window.PlotlyConfig = {MathJaxConfig: 'local'};\n        if (window.MathJax) {MathJax.Hub.Config({SVG: {font: \"STIX-Web\"}});}\n        if (typeof require !== 'undefined') {\n        require.undef(\"plotly\");\n        requirejs.config({\n            paths: {\n                'plotly': ['https://cdn.plot.ly/plotly-latest.min']\n            }\n        });\n        require(['plotly'], function(Plotly) {\n            window._Plotly = Plotly;\n        });\n        }\n        </script>\n        "
     },
     "metadata": {}
    },
    {
     "output_type": "display_data",
     "data": {
      "application/vnd.plotly.v1+json": {
       "config": {
        "plotlyServerURL": "https://plot.ly"
       },
       "data": [
        {
         "hovertemplate": "time_on_the_job=%{x}<br>overall=%{y}<extra></extra>",
         "legendgroup": "",
         "marker": {
          "color": "#636efa",
          "symbol": "circle"
         },
         "mode": "markers",
         "name": "",
         "orientation": "v",
         "showlegend": false,
         "type": "scatter",
         "x": [
          22.885245901639344,
          37.967213114754095,
          70.36065573770493,
          4.163934426229509,
          19.540983606557376,
          16.459016393442624,
          69.08196721311475,
          1.6721311475409837,
          1.7704918032786885,
          4.950819672131146,
          56.72131147540984,
          15.573770491803279,
          53.80327868852459,
          20.688524590163933,
          35.442622950819676,
          63.34426229508197,
          30.491803278688533,
          17.868852459016395,
          57.245901639344254,
          69.80327868852459,
          23.770491803278688,
          45.40983606557378,
          17.508196721311474,
          12.426229508196721,
          21.409836065573767,
          17.868852459016395,
          18.491803278688526,
          37.934426229508205,
          26.754098360655735,
          12.39344262295082,
          19.37704918032787,
          16.819672131147538,
          37.34426229508197,
          31.868852459016395,
          2.1311475409836067,
          1.8688524590163933,
          48.983606557377044,
          12.524590163934429,
          47.34426229508197,
          14.950819672131148,
          11.836065573770492,
          11.540983606557374,
          24.098360655737704,
          49.40983606557378,
          45.016393442622956,
          23.147540983606557,
          12.163934426229508,
          24.78688524590164,
          12.327868852459016,
          21.114754098360656,
          45.60655737704918,
          38.22950819672131,
          4.131147540983608,
          4.754098360655738,
          6.360655737704918,
          14.78688524590164,
          20.131147540983605,
          18.0655737704918,
          14.098360655737705,
          30.950819672131143,
          2.3278688524590163,
          0.19672131147540986,
          53.57377049180328,
          16.852459016393446,
          38.1639344262295,
          14.36065573770492,
          32.75409836065574,
          35.77049180327869,
          63.016393442622956,
          20.983606557377048,
          45.50819672131147,
          35.540983606557376,
          0.09836065573770493,
          70.59016393442623,
          0.9508196721311476,
          16.098360655737704,
          24.393442622950822,
          13.475409836065571,
          55.213114754098356,
          58.59016393442622,
          7.9016393442622945,
          43.14754098360656,
          46.32786885245902,
          62.524590163934434,
          40.459016393442624,
          56.68852459016394,
          46.49180327868853,
          7.80327868852459,
          21.21311475409836,
          8.754098360655737,
          13.278688524590164,
          24.98360655737705,
          23.83606557377049,
          16.0327868852459,
          24.852459016393446,
          14.885245901639344,
          50.1639344262295,
          28.78688524590164,
          25.34426229508197,
          48.622950819672134,
          40.622950819672134,
          17.704918032786885,
          7.9344262295081975,
          13.836065573770492,
          19.704918032786885,
          5.573770491803278,
          65.18032786885246,
          23.01639344262295,
          17.442622950819672,
          20.819672131147538,
          54.295081967213115,
          16.852459016393446,
          10.196721311475411,
          30.131147540983605,
          10.065573770491802,
          42.32786885245903,
          65.67213114754098,
          52.754098360655746,
          15.737704918032787,
          15.868852459016392,
          15.409836065573769,
          17.57377049180328,
          1.639344262295082,
          15.147540983606556,
          25.901639344262296,
          19.672131147540984,
          8.39344262295082,
          12.852459016393444,
          13.278688524590164,
          31.180327868852462,
          21.180327868852462,
          32.819672131147534,
          62.032786885245905,
          19.049180327868854,
          58.68852459016394,
          36.19672131147541,
          9.37704918032787,
          4.885245901639344,
          40.459016393442624,
          14.196721311475411,
          29.049180327868854,
          59.77049180327869,
          34.91803278688525,
          13.573770491803279,
          19.016393442622952,
          53.639344262295076,
          53.80327868852459,
          35.60655737704918,
          26.885245901639344,
          0.032786885245901634,
          22.327868852459016,
          37.31147540983606,
          0.6229508196721312,
          18.62295081967213,
          17.9344262295082,
          13.672131147540984,
          11.704918032786884,
          17.606557377049178,
          26.950819672131143,
          45.14754098360656,
          31.180327868852462,
          12.36065573770492,
          45.639344262295076,
          8.819672131147541,
          35.180327868852466,
          1.9672131147540983,
          2.2295081967213117,
          7.672131147540983,
          64.39344262295081,
          10.491803278688524,
          21.770491803278688,
          12.39344262295082,
          13.901639344262295,
          21.83606557377049,
          24.0655737704918,
          69.14754098360656,
          10.491803278688524,
          5.9016393442622945,
          44.39344262295082,
          22.91803278688525,
          67.50819672131148,
          4.262295081967213,
          13.836065573770492,
          19.9344262295082,
          18.131147540983605,
          19.147540983606557,
          6.688524590163934,
          1.5737704918032789,
          63.278688524590166,
          5.639344262295082,
          14.754098360655734,
          14.721311475409836,
          23.9344262295082,
          7.9016393442622945,
          15.311475409836063,
          20.590163934426233,
          13.770491803278688,
          33.34426229508197,
          12.557377049180328,
          4,
          22.19672131147541,
          4.786885245901638,
          33.377049180327866,
          20.295081967213115,
          13.409836065573769,
          15.049180327868852,
          37.114754098360656,
          19.34426229508197,
          57.9672131147541,
          19.606557377049178,
          23.9344262295082,
          8.065573770491802,
          31.770491803278688,
          15.508196721311474,
          30.819672131147538,
          1.3770491803278688,
          19.672131147540984,
          5.639344262295082,
          8.39344262295082,
          12.262295081967213,
          11.311475409836063,
          6.39344262295082,
          12.229508196721312,
          3.3770491803278686,
          18.524590163934427,
          14.098360655737705,
          2.459016393442623,
          12.98360655737705,
          25.83606557377049,
          18.590163934426233,
          49.67213114754098,
          20.78688524590164,
          15.770491803278688,
          16.950819672131146,
          44.19672131147541,
          18.491803278688526,
          17.73770491803279,
          41.8360655737705,
          48.91803278688525,
          9.704918032786884,
          3.3770491803278686,
          16,
          46.95081967213114,
          55.08196721311475,
          50.983606557377044,
          4.2950819672131155,
          21.672131147540984,
          5.442622950819672,
          41.114754098360656,
          24.393442622950822,
          0.9508196721311476,
          0.19672131147540986,
          0.7213114754098361,
          7.3770491803278695,
          47.180327868852466,
          14.39344262295082,
          15.442622950819672,
          20.819672131147538,
          2.622950819672131,
          39.377049180327866,
          52.68852459016394,
          5.60655737704918,
          21.57377049180328,
          25.01639344262295,
          20,
          19.606557377049178,
          17.278688524590162,
          40.19672131147541,
          22.459016393442624,
          18.950819672131146,
          65.8360655737705,
          13.311475409836063,
          37.8688524590164,
          60.0655737704918,
          25.508196721311478,
          54.65573770491803,
          7.213114754098362,
          36.950819672131146,
          9.672131147540984,
          19.34426229508197,
          23.377049180327873,
          21.08196721311475,
          40.819672131147534,
          23.73770491803279,
          47.80327868852459,
          35.34426229508197,
          11.21311475409836,
          22.229508196721312,
          67.27868852459017,
          59.540983606557376,
          17.704918032786885,
          23.147540983606557,
          39.24590163934426,
          27.70491803278689,
          34.786885245901644,
          27.442622950819672,
          21.08196721311475,
          20.163934426229513,
          15.704918032786884,
          21.70491803278689,
          3.180327868852459,
          6.39344262295082,
          34.85245901639344,
          18.19672131147541,
          35.049180327868854,
          28.19672131147541,
          23.770491803278688,
          51.34426229508197,
          0.9836065573770492,
          17.442622950819672,
          46.098360655737714,
          27.08196721311475,
          18.983606557377048,
          17.24590163934426,
          51.377049180327866,
          23.540983606557376,
          63.8360655737705,
          19.049180327868854,
          8.688524590163935,
          1.3770491803278688,
          27.508196721311478,
          8.262295081967213,
          16.131147540983605,
          71.57377049180326,
          23.08196721311475,
          41.08196721311475,
          7.3770491803278695,
          37.934426229508205,
          22.131147540983605,
          5.278688524590164,
          5.442622950819672,
          2.4262295081967213,
          28.950819672131143,
          8.78688524590164,
          42.75409836065574,
          18.65573770491803,
          18.590163934426233,
          13.049180327868852,
          26.590163934426233,
          0.7540983606557377,
          43.77049180327869,
          53.639344262295076,
          3.442622950819672,
          9.081967213114757,
          11.442622950819672,
          46.819672131147534,
          15.868852459016392,
          12.81967213114754,
          35.8688524590164,
          9.245901639344263,
          14.0327868852459,
          40.13114754098361,
          3.3770491803278686,
          24.36065573770492,
          2.3278688524590163,
          49.245901639344254,
          57.50819672131147,
          15.9672131147541,
          41.934426229508205,
          46.65573770491803,
          49.213114754098356,
          3.540983606557377,
          66.26229508196721,
          39.31147540983606,
          1.639344262295082,
          21.21311475409836,
          60.65573770491803,
          17.344262295081972,
          16.52459016393443,
          47.44262295081968,
          0.7540983606557377,
          64.26229508196721,
          15.475409836065571,
          48.65573770491803,
          11.442622950819672,
          5.5409836065573765,
          17.344262295081972,
          34.39344262295082,
          45.377049180327866,
          70.91803278688525,
          39.967213114754095
         ],
         "xaxis": "x",
         "y": [
          0.7226666666666668,
          0.8666666666666668,
          0.928,
          0.6853333333333333,
          0.7733333333333333,
          0.752,
          0.9493333333333333,
          0.6293333333333334,
          0.7599999999999999,
          0.7093333333333333,
          0.8800000000000001,
          0.6853333333333335,
          0.8613333333333333,
          0.7733333333333333,
          0.7999999999999999,
          0.8826666666666666,
          0.8266666666666668,
          0.6106666666666667,
          0.8559999999999999,
          0.8666666666666668,
          0.7733333333333333,
          0.8480000000000001,
          0.7733333333333333,
          0.8,
          0.7946666666666666,
          0.752,
          0.768,
          0.7733333333333334,
          0.7893333333333333,
          0.8079999999999999,
          0.7759999999999999,
          0.7040000000000001,
          0.7466666666666667,
          0.8480000000000001,
          0.7306666666666667,
          0.7413333333333333,
          0.8133333333333332,
          0.7546666666666666,
          0.7866666666666666,
          0.7386666666666667,
          0.7653333333333333,
          0.7173333333333335,
          0.624,
          0.7546666666666666,
          0.7093333333333334,
          0.7173333333333334,
          0.6693333333333333,
          0.7653333333333333,
          0.7466666666666666,
          0.7333333333333334,
          0.7733333333333332,
          0.7946666666666667,
          0.6026666666666667,
          0.6293333333333334,
          0.8160000000000001,
          0.6906666666666668,
          0.76,
          0.6826666666666666,
          0.7866666666666666,
          0.768,
          0.768,
          0.7999999999999999,
          0.8186666666666668,
          0.7679999999999999,
          0.7866666666666667,
          0.6399999999999999,
          0.6666666666666667,
          0.7679999999999999,
          0.8933333333333333,
          0.616,
          0.696,
          0.752,
          0.6346666666666667,
          0.9093333333333332,
          0.8133333333333332,
          0.7813333333333333,
          0.7040000000000001,
          0.5946666666666667,
          0.7013333333333334,
          0.7013333333333334,
          0.6613333333333333,
          0.5866666666666667,
          0.7946666666666667,
          0.752,
          0.624,
          0.76,
          0.8053333333333335,
          0.6319999999999999,
          0.5893333333333333,
          0.6719999999999999,
          0.6773333333333332,
          0.8,
          0.8213333333333335,
          0.664,
          0.6799999999999999,
          0.8480000000000001,
          0.8186666666666665,
          0.6426666666666667,
          0.7120000000000001,
          0.8079999999999998,
          0.8480000000000001,
          0.7866666666666666,
          0.7866666666666666,
          0.7413333333333333,
          0.7866666666666667,
          0.7786666666666666,
          0.8426666666666666,
          0.6986666666666667,
          0.6986666666666668,
          0.8213333333333332,
          0.8160000000000001,
          0.8400000000000001,
          0.752,
          0.8266666666666668,
          0.7413333333333333,
          0.7599999999999999,
          0.8906666666666666,
          0.7520000000000001,
          0.6906666666666668,
          0.7813333333333333,
          0.8213333333333335,
          0.6373333333333334,
          0.8293333333333333,
          0.7546666666666667,
          0.7733333333333332,
          0.736,
          0.672,
          0.8559999999999999,
          0.8079999999999998,
          0.7040000000000001,
          0.7813333333333332,
          0.7813333333333333,
          0.8880000000000001,
          0.8106666666666665,
          0.8213333333333335,
          0.792,
          0.8053333333333335,
          0.8,
          0.8213333333333332,
          0.7040000000000001,
          0.7626666666666666,
          0.8373333333333333,
          0.7733333333333334,
          0.7466666666666668,
          0.76,
          0.8693333333333332,
          0.7866666666666668,
          0.7306666666666666,
          0.768,
          0.7733333333333333,
          0.6666666666666667,
          0.8346666666666668,
          0.8,
          0.8480000000000001,
          0.72,
          0.7946666666666666,
          0.752,
          0.6479999999999999,
          0.7813333333333333,
          0.7733333333333333,
          0.7440000000000001,
          0.7546666666666667,
          0.7493333333333334,
          0.7813333333333332,
          0.7226666666666667,
          0.6559999999999999,
          0.8346666666666666,
          0.6186666666666666,
          0.8426666666666668,
          0.5680000000000001,
          0.7146666666666668,
          0.7946666666666666,
          0.752,
          0.6799999999999999,
          0.7733333333333333,
          0.8880000000000001,
          0.7733333333333333,
          0.8026666666666668,
          0.7866666666666666,
          0.8693333333333332,
          0.8906666666666666,
          0.7466666666666667,
          0.752,
          0.8079999999999999,
          0.7866666666666667,
          0.8133333333333332,
          0.7386666666666668,
          0.7386666666666668,
          0.8799999999999999,
          0.7866666666666666,
          0.792,
          0.7999999999999999,
          0.76,
          0.7733333333333333,
          0.7493333333333333,
          0.8213333333333335,
          0.7786666666666667,
          0.8026666666666665,
          0.7919999999999999,
          0.7946666666666666,
          0.7333333333333333,
          0.8266666666666668,
          0.752,
          0.8293333333333333,
          0.76,
          0.6826666666666666,
          0.8399999999999999,
          0.8293333333333333,
          0.9013333333333332,
          0.6853333333333335,
          0.8079999999999998,
          0.8079999999999999,
          0.8133333333333332,
          0.76,
          0.8346666666666668,
          0.8426666666666666,
          0.7466666666666668,
          0.8426666666666668,
          0.7466666666666666,
          0.8240000000000001,
          0.7413333333333334,
          0.7653333333333333,
          0.7866666666666666,
          0.7413333333333333,
          0.7653333333333333,
          0.7546666666666666,
          0.8613333333333333,
          0.8160000000000001,
          0.7386666666666668,
          0.7893333333333333,
          0.792,
          0.7893333333333333,
          0.7386666666666667,
          0.76,
          0.8079999999999999,
          0.8133333333333332,
          0.7120000000000001,
          0.8213333333333335,
          0.8826666666666668,
          0.7386666666666667,
          0.8079999999999999,
          0.8000000000000002,
          0.8959999999999999,
          0.8346666666666668,
          0.8559999999999999,
          0.8426666666666666,
          0.768,
          0.8026666666666668,
          0.7866666666666666,
          0.6933333333333334,
          0.8213333333333332,
          0.736,
          0.7946666666666669,
          0.7893333333333333,
          0.8160000000000001,
          0.7946666666666666,
          0.752,
          0.76,
          0.7226666666666668,
          0.76,
          0.8480000000000001,
          0.7413333333333333,
          0.7946666666666666,
          0.8079999999999999,
          0.7653333333333333,
          0.752,
          0.752,
          0.8213333333333332,
          0.7999999999999999,
          0.7599999999999999,
          0.8613333333333333,
          0.7120000000000001,
          0.7866666666666666,
          0.9173333333333332,
          0.7839999999999999,
          0.8693333333333332,
          0.7439999999999999,
          0.7813333333333333,
          0.7946666666666666,
          0.8480000000000001,
          0.8693333333333333,
          0.7813333333333333,
          0.7546666666666668,
          0.7813333333333333,
          0.7893333333333333,
          0.7386666666666668,
          0.7866666666666668,
          0.8266666666666668,
          0.9306666666666664,
          0.8746666666666668,
          0.7946666666666667,
          0.7466666666666668,
          0.8480000000000001,
          0.768,
          0.7120000000000001,
          0.72,
          0.7146666666666668,
          0.76,
          0.616,
          0.8133333333333335,
          0.7546666666666666,
          0.7493333333333334,
          0.7173333333333334,
          0.6346666666666667,
          0.8480000000000001,
          0.6293333333333334,
          0.6933333333333332,
          0.8346666666666668,
          0.7813333333333333,
          0.7946666666666666,
          0.7386666666666667,
          0.7759999999999999,
          0.8079999999999998,
          0.6746666666666667,
          0.8346666666666666,
          0.696,
          0.904,
          0.7466666666666668,
          0.7946666666666666,
          0.768,
          0.784,
          0.7466666666666666,
          0.7466666666666667,
          0.9066666666666666,
          0.6693333333333333,
          0.6853333333333333,
          0.7999999999999999,
          0.8426666666666666,
          0.7253333333333333,
          0.8213333333333335,
          0.7040000000000001,
          0.6853333333333332,
          0.7093333333333334,
          0.7466666666666666,
          0.76,
          0.7413333333333333,
          0.7546666666666668,
          0.6613333333333333,
          0.7146666666666668,
          0.7893333333333333,
          0.8213333333333335,
          0.904,
          0.8079999999999999,
          0.7733333333333333,
          0.7226666666666667,
          0.8826666666666666,
          0.7759999999999999,
          0.68,
          0.7919999999999999,
          0.72,
          0.6613333333333333,
          0.6853333333333333,
          0.8080000000000002,
          0.5946666666666667,
          0.8106666666666668,
          0.8,
          0.8346666666666668,
          0.6533333333333334,
          0.8,
          0.7093333333333333,
          0.8346666666666668,
          0.6773333333333333,
          0.8746666666666668,
          0.7946666666666666,
          0.76,
          0.7653333333333333,
          0.9013333333333332,
          0.6773333333333333,
          0.6559999999999999,
          0.8773333333333333,
          0.6986666666666667,
          0.9173333333333332,
          0.7173333333333335,
          0.9093333333333332,
          0.8266666666666668,
          0.7386666666666668,
          0.7466666666666666,
          0.7120000000000001,
          0.7573333333333335,
          0.9306666666666666,
          0.8320000000000001
         ],
         "yaxis": "y"
        }
       ],
       "layout": {
        "legend": {
         "tracegroupgap": 0
        },
        "template": {
         "data": {
          "bar": [
           {
            "error_x": {
             "color": "#2a3f5f"
            },
            "error_y": {
             "color": "#2a3f5f"
            },
            "marker": {
             "line": {
              "color": "#E5ECF6",
              "width": 0.5
             }
            },
            "type": "bar"
           }
          ],
          "barpolar": [
           {
            "marker": {
             "line": {
              "color": "#E5ECF6",
              "width": 0.5
             }
            },
            "type": "barpolar"
           }
          ],
          "carpet": [
           {
            "aaxis": {
             "endlinecolor": "#2a3f5f",
             "gridcolor": "white",
             "linecolor": "white",
             "minorgridcolor": "white",
             "startlinecolor": "#2a3f5f"
            },
            "baxis": {
             "endlinecolor": "#2a3f5f",
             "gridcolor": "white",
             "linecolor": "white",
             "minorgridcolor": "white",
             "startlinecolor": "#2a3f5f"
            },
            "type": "carpet"
           }
          ],
          "choropleth": [
           {
            "colorbar": {
             "outlinewidth": 0,
             "ticks": ""
            },
            "type": "choropleth"
           }
          ],
          "contour": [
           {
            "colorbar": {
             "outlinewidth": 0,
             "ticks": ""
            },
            "colorscale": [
             [
              0,
              "#0d0887"
             ],
             [
              0.1111111111111111,
              "#46039f"
             ],
             [
              0.2222222222222222,
              "#7201a8"
             ],
             [
              0.3333333333333333,
              "#9c179e"
             ],
             [
              0.4444444444444444,
              "#bd3786"
             ],
             [
              0.5555555555555556,
              "#d8576b"
             ],
             [
              0.6666666666666666,
              "#ed7953"
             ],
             [
              0.7777777777777778,
              "#fb9f3a"
             ],
             [
              0.8888888888888888,
              "#fdca26"
             ],
             [
              1,
              "#f0f921"
             ]
            ],
            "type": "contour"
           }
          ],
          "contourcarpet": [
           {
            "colorbar": {
             "outlinewidth": 0,
             "ticks": ""
            },
            "type": "contourcarpet"
           }
          ],
          "heatmap": [
           {
            "colorbar": {
             "outlinewidth": 0,
             "ticks": ""
            },
            "colorscale": [
             [
              0,
              "#0d0887"
             ],
             [
              0.1111111111111111,
              "#46039f"
             ],
             [
              0.2222222222222222,
              "#7201a8"
             ],
             [
              0.3333333333333333,
              "#9c179e"
             ],
             [
              0.4444444444444444,
              "#bd3786"
             ],
             [
              0.5555555555555556,
              "#d8576b"
             ],
             [
              0.6666666666666666,
              "#ed7953"
             ],
             [
              0.7777777777777778,
              "#fb9f3a"
             ],
             [
              0.8888888888888888,
              "#fdca26"
             ],
             [
              1,
              "#f0f921"
             ]
            ],
            "type": "heatmap"
           }
          ],
          "heatmapgl": [
           {
            "colorbar": {
             "outlinewidth": 0,
             "ticks": ""
            },
            "colorscale": [
             [
              0,
              "#0d0887"
             ],
             [
              0.1111111111111111,
              "#46039f"
             ],
             [
              0.2222222222222222,
              "#7201a8"
             ],
             [
              0.3333333333333333,
              "#9c179e"
             ],
             [
              0.4444444444444444,
              "#bd3786"
             ],
             [
              0.5555555555555556,
              "#d8576b"
             ],
             [
              0.6666666666666666,
              "#ed7953"
             ],
             [
              0.7777777777777778,
              "#fb9f3a"
             ],
             [
              0.8888888888888888,
              "#fdca26"
             ],
             [
              1,
              "#f0f921"
             ]
            ],
            "type": "heatmapgl"
           }
          ],
          "histogram": [
           {
            "marker": {
             "colorbar": {
              "outlinewidth": 0,
              "ticks": ""
             }
            },
            "type": "histogram"
           }
          ],
          "histogram2d": [
           {
            "colorbar": {
             "outlinewidth": 0,
             "ticks": ""
            },
            "colorscale": [
             [
              0,
              "#0d0887"
             ],
             [
              0.1111111111111111,
              "#46039f"
             ],
             [
              0.2222222222222222,
              "#7201a8"
             ],
             [
              0.3333333333333333,
              "#9c179e"
             ],
             [
              0.4444444444444444,
              "#bd3786"
             ],
             [
              0.5555555555555556,
              "#d8576b"
             ],
             [
              0.6666666666666666,
              "#ed7953"
             ],
             [
              0.7777777777777778,
              "#fb9f3a"
             ],
             [
              0.8888888888888888,
              "#fdca26"
             ],
             [
              1,
              "#f0f921"
             ]
            ],
            "type": "histogram2d"
           }
          ],
          "histogram2dcontour": [
           {
            "colorbar": {
             "outlinewidth": 0,
             "ticks": ""
            },
            "colorscale": [
             [
              0,
              "#0d0887"
             ],
             [
              0.1111111111111111,
              "#46039f"
             ],
             [
              0.2222222222222222,
              "#7201a8"
             ],
             [
              0.3333333333333333,
              "#9c179e"
             ],
             [
              0.4444444444444444,
              "#bd3786"
             ],
             [
              0.5555555555555556,
              "#d8576b"
             ],
             [
              0.6666666666666666,
              "#ed7953"
             ],
             [
              0.7777777777777778,
              "#fb9f3a"
             ],
             [
              0.8888888888888888,
              "#fdca26"
             ],
             [
              1,
              "#f0f921"
             ]
            ],
            "type": "histogram2dcontour"
           }
          ],
          "mesh3d": [
           {
            "colorbar": {
             "outlinewidth": 0,
             "ticks": ""
            },
            "type": "mesh3d"
           }
          ],
          "parcoords": [
           {
            "line": {
             "colorbar": {
              "outlinewidth": 0,
              "ticks": ""
             }
            },
            "type": "parcoords"
           }
          ],
          "pie": [
           {
            "automargin": true,
            "type": "pie"
           }
          ],
          "scatter": [
           {
            "marker": {
             "colorbar": {
              "outlinewidth": 0,
              "ticks": ""
             }
            },
            "type": "scatter"
           }
          ],
          "scatter3d": [
           {
            "line": {
             "colorbar": {
              "outlinewidth": 0,
              "ticks": ""
             }
            },
            "marker": {
             "colorbar": {
              "outlinewidth": 0,
              "ticks": ""
             }
            },
            "type": "scatter3d"
           }
          ],
          "scattercarpet": [
           {
            "marker": {
             "colorbar": {
              "outlinewidth": 0,
              "ticks": ""
             }
            },
            "type": "scattercarpet"
           }
          ],
          "scattergeo": [
           {
            "marker": {
             "colorbar": {
              "outlinewidth": 0,
              "ticks": ""
             }
            },
            "type": "scattergeo"
           }
          ],
          "scattergl": [
           {
            "marker": {
             "colorbar": {
              "outlinewidth": 0,
              "ticks": ""
             }
            },
            "type": "scattergl"
           }
          ],
          "scattermapbox": [
           {
            "marker": {
             "colorbar": {
              "outlinewidth": 0,
              "ticks": ""
             }
            },
            "type": "scattermapbox"
           }
          ],
          "scatterpolar": [
           {
            "marker": {
             "colorbar": {
              "outlinewidth": 0,
              "ticks": ""
             }
            },
            "type": "scatterpolar"
           }
          ],
          "scatterpolargl": [
           {
            "marker": {
             "colorbar": {
              "outlinewidth": 0,
              "ticks": ""
             }
            },
            "type": "scatterpolargl"
           }
          ],
          "scatterternary": [
           {
            "marker": {
             "colorbar": {
              "outlinewidth": 0,
              "ticks": ""
             }
            },
            "type": "scatterternary"
           }
          ],
          "surface": [
           {
            "colorbar": {
             "outlinewidth": 0,
             "ticks": ""
            },
            "colorscale": [
             [
              0,
              "#0d0887"
             ],
             [
              0.1111111111111111,
              "#46039f"
             ],
             [
              0.2222222222222222,
              "#7201a8"
             ],
             [
              0.3333333333333333,
              "#9c179e"
             ],
             [
              0.4444444444444444,
              "#bd3786"
             ],
             [
              0.5555555555555556,
              "#d8576b"
             ],
             [
              0.6666666666666666,
              "#ed7953"
             ],
             [
              0.7777777777777778,
              "#fb9f3a"
             ],
             [
              0.8888888888888888,
              "#fdca26"
             ],
             [
              1,
              "#f0f921"
             ]
            ],
            "type": "surface"
           }
          ],
          "table": [
           {
            "cells": {
             "fill": {
              "color": "#EBF0F8"
             },
             "line": {
              "color": "white"
             }
            },
            "header": {
             "fill": {
              "color": "#C8D4E3"
             },
             "line": {
              "color": "white"
             }
            },
            "type": "table"
           }
          ]
         },
         "layout": {
          "annotationdefaults": {
           "arrowcolor": "#2a3f5f",
           "arrowhead": 0,
           "arrowwidth": 1
          },
          "autotypenumbers": "strict",
          "coloraxis": {
           "colorbar": {
            "outlinewidth": 0,
            "ticks": ""
           }
          },
          "colorscale": {
           "diverging": [
            [
             0,
             "#8e0152"
            ],
            [
             0.1,
             "#c51b7d"
            ],
            [
             0.2,
             "#de77ae"
            ],
            [
             0.3,
             "#f1b6da"
            ],
            [
             0.4,
             "#fde0ef"
            ],
            [
             0.5,
             "#f7f7f7"
            ],
            [
             0.6,
             "#e6f5d0"
            ],
            [
             0.7,
             "#b8e186"
            ],
            [
             0.8,
             "#7fbc41"
            ],
            [
             0.9,
             "#4d9221"
            ],
            [
             1,
             "#276419"
            ]
           ],
           "sequential": [
            [
             0,
             "#0d0887"
            ],
            [
             0.1111111111111111,
             "#46039f"
            ],
            [
             0.2222222222222222,
             "#7201a8"
            ],
            [
             0.3333333333333333,
             "#9c179e"
            ],
            [
             0.4444444444444444,
             "#bd3786"
            ],
            [
             0.5555555555555556,
             "#d8576b"
            ],
            [
             0.6666666666666666,
             "#ed7953"
            ],
            [
             0.7777777777777778,
             "#fb9f3a"
            ],
            [
             0.8888888888888888,
             "#fdca26"
            ],
            [
             1,
             "#f0f921"
            ]
           ],
           "sequentialminus": [
            [
             0,
             "#0d0887"
            ],
            [
             0.1111111111111111,
             "#46039f"
            ],
            [
             0.2222222222222222,
             "#7201a8"
            ],
            [
             0.3333333333333333,
             "#9c179e"
            ],
            [
             0.4444444444444444,
             "#bd3786"
            ],
            [
             0.5555555555555556,
             "#d8576b"
            ],
            [
             0.6666666666666666,
             "#ed7953"
            ],
            [
             0.7777777777777778,
             "#fb9f3a"
            ],
            [
             0.8888888888888888,
             "#fdca26"
            ],
            [
             1,
             "#f0f921"
            ]
           ]
          },
          "colorway": [
           "#636efa",
           "#EF553B",
           "#00cc96",
           "#ab63fa",
           "#FFA15A",
           "#19d3f3",
           "#FF6692",
           "#B6E880",
           "#FF97FF",
           "#FECB52"
          ],
          "font": {
           "color": "#2a3f5f"
          },
          "geo": {
           "bgcolor": "white",
           "lakecolor": "white",
           "landcolor": "#E5ECF6",
           "showlakes": true,
           "showland": true,
           "subunitcolor": "white"
          },
          "hoverlabel": {
           "align": "left"
          },
          "hovermode": "closest",
          "mapbox": {
           "style": "light"
          },
          "paper_bgcolor": "white",
          "plot_bgcolor": "#E5ECF6",
          "polar": {
           "angularaxis": {
            "gridcolor": "white",
            "linecolor": "white",
            "ticks": ""
           },
           "bgcolor": "#E5ECF6",
           "radialaxis": {
            "gridcolor": "white",
            "linecolor": "white",
            "ticks": ""
           }
          },
          "scene": {
           "xaxis": {
            "backgroundcolor": "#E5ECF6",
            "gridcolor": "white",
            "gridwidth": 2,
            "linecolor": "white",
            "showbackground": true,
            "ticks": "",
            "zerolinecolor": "white"
           },
           "yaxis": {
            "backgroundcolor": "#E5ECF6",
            "gridcolor": "white",
            "gridwidth": 2,
            "linecolor": "white",
            "showbackground": true,
            "ticks": "",
            "zerolinecolor": "white"
           },
           "zaxis": {
            "backgroundcolor": "#E5ECF6",
            "gridcolor": "white",
            "gridwidth": 2,
            "linecolor": "white",
            "showbackground": true,
            "ticks": "",
            "zerolinecolor": "white"
           }
          },
          "shapedefaults": {
           "line": {
            "color": "#2a3f5f"
           }
          },
          "ternary": {
           "aaxis": {
            "gridcolor": "white",
            "linecolor": "white",
            "ticks": ""
           },
           "baxis": {
            "gridcolor": "white",
            "linecolor": "white",
            "ticks": ""
           },
           "bgcolor": "#E5ECF6",
           "caxis": {
            "gridcolor": "white",
            "linecolor": "white",
            "ticks": ""
           }
          },
          "title": {
           "x": 0.05
          },
          "xaxis": {
           "automargin": true,
           "gridcolor": "white",
           "linecolor": "white",
           "ticks": "",
           "title": {
            "standoff": 15
           },
           "zerolinecolor": "white",
           "zerolinewidth": 2
          },
          "yaxis": {
           "automargin": true,
           "gridcolor": "white",
           "linecolor": "white",
           "ticks": "",
           "title": {
            "standoff": 15
           },
           "zerolinecolor": "white",
           "zerolinewidth": 2
          }
         }
        },
        "title": {
         "text": "Satisfaction by Tenure"
        },
        "xaxis": {
         "anchor": "y",
         "domain": [
          0,
          1
         ],
         "title": {
          "text": "time_on_the_job"
         }
        },
        "yaxis": {
         "anchor": "x",
         "domain": [
          0,
          1
         ],
         "title": {
          "text": "overall"
         }
        }
       }
      },
      "text/html": "<div>                            <div id=\"3d274408-edac-44ac-975d-64995cc143c8\" class=\"plotly-graph-div\" style=\"height:525px; width:100%;\"></div>            <script type=\"text/javascript\">                require([\"plotly\"], function(Plotly) {                    window.PLOTLYENV=window.PLOTLYENV || {};                                    if (document.getElementById(\"3d274408-edac-44ac-975d-64995cc143c8\")) {                    Plotly.newPlot(                        \"3d274408-edac-44ac-975d-64995cc143c8\",                        [{\"hovertemplate\": \"time_on_the_job=%{x}<br>overall=%{y}<extra></extra>\", \"legendgroup\": \"\", \"marker\": {\"color\": \"#636efa\", \"symbol\": \"circle\"}, \"mode\": \"markers\", \"name\": \"\", \"orientation\": \"v\", \"showlegend\": false, \"type\": \"scatter\", \"x\": [22.885245901639344, 37.967213114754095, 70.36065573770493, 4.163934426229509, 19.540983606557376, 16.459016393442624, 69.08196721311475, 1.6721311475409837, 1.7704918032786885, 4.950819672131146, 56.72131147540984, 15.573770491803279, 53.80327868852459, 20.688524590163933, 35.442622950819676, 63.34426229508197, 30.491803278688533, 17.868852459016395, 57.245901639344254, 69.80327868852459, 23.770491803278688, 45.40983606557378, 17.508196721311474, 12.426229508196721, 21.409836065573767, 17.868852459016395, 18.491803278688526, 37.934426229508205, 26.754098360655735, 12.39344262295082, 19.37704918032787, 16.819672131147538, 37.34426229508197, 31.868852459016395, 2.1311475409836067, 1.8688524590163933, 48.983606557377044, 12.524590163934429, 47.34426229508197, 14.950819672131148, 11.836065573770492, 11.540983606557374, 24.098360655737704, 49.40983606557378, 45.016393442622956, 23.147540983606557, 12.163934426229508, 24.78688524590164, 12.327868852459016, 21.114754098360656, 45.60655737704918, 38.22950819672131, 4.131147540983608, 4.754098360655738, 6.360655737704918, 14.78688524590164, 20.131147540983605, 18.0655737704918, 14.098360655737705, 30.950819672131143, 2.3278688524590163, 0.19672131147540986, 53.57377049180328, 16.852459016393446, 38.1639344262295, 14.36065573770492, 32.75409836065574, 35.77049180327869, 63.016393442622956, 20.983606557377048, 45.50819672131147, 35.540983606557376, 0.09836065573770493, 70.59016393442623, 0.9508196721311476, 16.098360655737704, 24.393442622950822, 13.475409836065571, 55.213114754098356, 58.59016393442622, 7.9016393442622945, 43.14754098360656, 46.32786885245902, 62.524590163934434, 40.459016393442624, 56.68852459016394, 46.49180327868853, 7.80327868852459, 21.21311475409836, 8.754098360655737, 13.278688524590164, 24.98360655737705, 23.83606557377049, 16.0327868852459, 24.852459016393446, 14.885245901639344, 50.1639344262295, 28.78688524590164, 25.34426229508197, 48.622950819672134, 40.622950819672134, 17.704918032786885, 7.9344262295081975, 13.836065573770492, 19.704918032786885, 5.573770491803278, 65.18032786885246, 23.01639344262295, 17.442622950819672, 20.819672131147538, 54.295081967213115, 16.852459016393446, 10.196721311475411, 30.131147540983605, 10.065573770491802, 42.32786885245903, 65.67213114754098, 52.754098360655746, 15.737704918032787, 15.868852459016392, 15.409836065573769, 17.57377049180328, 1.639344262295082, 15.147540983606556, 25.901639344262296, 19.672131147540984, 8.39344262295082, 12.852459016393444, 13.278688524590164, 31.180327868852462, 21.180327868852462, 32.819672131147534, 62.032786885245905, 19.049180327868854, 58.68852459016394, 36.19672131147541, 9.37704918032787, 4.885245901639344, 40.459016393442624, 14.196721311475411, 29.049180327868854, 59.77049180327869, 34.91803278688525, 13.573770491803279, 19.016393442622952, 53.639344262295076, 53.80327868852459, 35.60655737704918, 26.885245901639344, 0.032786885245901634, 22.327868852459016, 37.31147540983606, 0.6229508196721312, 18.62295081967213, 17.9344262295082, 13.672131147540984, 11.704918032786884, 17.606557377049178, 26.950819672131143, 45.14754098360656, 31.180327868852462, 12.36065573770492, 45.639344262295076, 8.819672131147541, 35.180327868852466, 1.9672131147540983, 2.2295081967213117, 7.672131147540983, 64.39344262295081, 10.491803278688524, 21.770491803278688, 12.39344262295082, 13.901639344262295, 21.83606557377049, 24.0655737704918, 69.14754098360656, 10.491803278688524, 5.9016393442622945, 44.39344262295082, 22.91803278688525, 67.50819672131148, 4.262295081967213, 13.836065573770492, 19.9344262295082, 18.131147540983605, 19.147540983606557, 6.688524590163934, 1.5737704918032789, 63.278688524590166, 5.639344262295082, 14.754098360655734, 14.721311475409836, 23.9344262295082, 7.9016393442622945, 15.311475409836063, 20.590163934426233, 13.770491803278688, 33.34426229508197, 12.557377049180328, 4.0, 22.19672131147541, 4.786885245901638, 33.377049180327866, 20.295081967213115, 13.409836065573769, 15.049180327868852, 37.114754098360656, 19.34426229508197, 57.9672131147541, 19.606557377049178, 23.9344262295082, 8.065573770491802, 31.770491803278688, 15.508196721311474, 30.819672131147538, 1.3770491803278688, 19.672131147540984, 5.639344262295082, 8.39344262295082, 12.262295081967213, 11.311475409836063, 6.39344262295082, 12.229508196721312, 3.3770491803278686, 18.524590163934427, 14.098360655737705, 2.459016393442623, 12.98360655737705, 25.83606557377049, 18.590163934426233, 49.67213114754098, 20.78688524590164, 15.770491803278688, 16.950819672131146, 44.19672131147541, 18.491803278688526, 17.73770491803279, 41.8360655737705, 48.91803278688525, 9.704918032786884, 3.3770491803278686, 16.0, 46.95081967213114, 55.08196721311475, 50.983606557377044, 4.2950819672131155, 21.672131147540984, 5.442622950819672, 41.114754098360656, 24.393442622950822, 0.9508196721311476, 0.19672131147540986, 0.7213114754098361, 7.3770491803278695, 47.180327868852466, 14.39344262295082, 15.442622950819672, 20.819672131147538, 2.622950819672131, 39.377049180327866, 52.68852459016394, 5.60655737704918, 21.57377049180328, 25.01639344262295, 20.0, 19.606557377049178, 17.278688524590162, 40.19672131147541, 22.459016393442624, 18.950819672131146, 65.8360655737705, 13.311475409836063, 37.8688524590164, 60.0655737704918, 25.508196721311478, 54.65573770491803, 7.213114754098362, 36.950819672131146, 9.672131147540984, 19.34426229508197, 23.377049180327873, 21.08196721311475, 40.819672131147534, 23.73770491803279, 47.80327868852459, 35.34426229508197, 11.21311475409836, 22.229508196721312, 67.27868852459017, 59.540983606557376, 17.704918032786885, 23.147540983606557, 39.24590163934426, 27.70491803278689, 34.786885245901644, 27.442622950819672, 21.08196721311475, 20.163934426229513, 15.704918032786884, 21.70491803278689, 3.180327868852459, 6.39344262295082, 34.85245901639344, 18.19672131147541, 35.049180327868854, 28.19672131147541, 23.770491803278688, 51.34426229508197, 0.9836065573770492, 17.442622950819672, 46.098360655737714, 27.08196721311475, 18.983606557377048, 17.24590163934426, 51.377049180327866, 23.540983606557376, 63.8360655737705, 19.049180327868854, 8.688524590163935, 1.3770491803278688, 27.508196721311478, 8.262295081967213, 16.131147540983605, 71.57377049180326, 23.08196721311475, 41.08196721311475, 7.3770491803278695, 37.934426229508205, 22.131147540983605, 5.278688524590164, 5.442622950819672, 2.4262295081967213, 28.950819672131143, 8.78688524590164, 42.75409836065574, 18.65573770491803, 18.590163934426233, 13.049180327868852, 26.590163934426233, 0.7540983606557377, 43.77049180327869, 53.639344262295076, 3.442622950819672, 9.081967213114757, 11.442622950819672, 46.819672131147534, 15.868852459016392, 12.81967213114754, 35.8688524590164, 9.245901639344263, 14.0327868852459, 40.13114754098361, 3.3770491803278686, 24.36065573770492, 2.3278688524590163, 49.245901639344254, 57.50819672131147, 15.9672131147541, 41.934426229508205, 46.65573770491803, 49.213114754098356, 3.540983606557377, 66.26229508196721, 39.31147540983606, 1.639344262295082, 21.21311475409836, 60.65573770491803, 17.344262295081972, 16.52459016393443, 47.44262295081968, 0.7540983606557377, 64.26229508196721, 15.475409836065571, 48.65573770491803, 11.442622950819672, 5.5409836065573765, 17.344262295081972, 34.39344262295082, 45.377049180327866, 70.91803278688525, 39.967213114754095], \"xaxis\": \"x\", \"y\": [0.7226666666666668, 0.8666666666666668, 0.928, 0.6853333333333333, 0.7733333333333333, 0.752, 0.9493333333333333, 0.6293333333333334, 0.7599999999999999, 0.7093333333333333, 0.8800000000000001, 0.6853333333333335, 0.8613333333333333, 0.7733333333333333, 0.7999999999999999, 0.8826666666666666, 0.8266666666666668, 0.6106666666666667, 0.8559999999999999, 0.8666666666666668, 0.7733333333333333, 0.8480000000000001, 0.7733333333333333, 0.8, 0.7946666666666666, 0.752, 0.768, 0.7733333333333334, 0.7893333333333333, 0.8079999999999999, 0.7759999999999999, 0.7040000000000001, 0.7466666666666667, 0.8480000000000001, 0.7306666666666667, 0.7413333333333333, 0.8133333333333332, 0.7546666666666666, 0.7866666666666666, 0.7386666666666667, 0.7653333333333333, 0.7173333333333335, 0.624, 0.7546666666666666, 0.7093333333333334, 0.7173333333333334, 0.6693333333333333, 0.7653333333333333, 0.7466666666666666, 0.7333333333333334, 0.7733333333333332, 0.7946666666666667, 0.6026666666666667, 0.6293333333333334, 0.8160000000000001, 0.6906666666666668, 0.76, 0.6826666666666666, 0.7866666666666666, 0.768, 0.768, 0.7999999999999999, 0.8186666666666668, 0.7679999999999999, 0.7866666666666667, 0.6399999999999999, 0.6666666666666667, 0.7679999999999999, 0.8933333333333333, 0.616, 0.696, 0.752, 0.6346666666666667, 0.9093333333333332, 0.8133333333333332, 0.7813333333333333, 0.7040000000000001, 0.5946666666666667, 0.7013333333333334, 0.7013333333333334, 0.6613333333333333, 0.5866666666666667, 0.7946666666666667, 0.752, 0.624, 0.76, 0.8053333333333335, 0.6319999999999999, 0.5893333333333333, 0.6719999999999999, 0.6773333333333332, 0.8, 0.8213333333333335, 0.664, 0.6799999999999999, 0.8480000000000001, 0.8186666666666665, 0.6426666666666667, 0.7120000000000001, 0.8079999999999998, 0.8480000000000001, 0.7866666666666666, 0.7866666666666666, 0.7413333333333333, 0.7866666666666667, 0.7786666666666666, 0.8426666666666666, 0.6986666666666667, 0.6986666666666668, 0.8213333333333332, 0.8160000000000001, 0.8400000000000001, 0.752, 0.8266666666666668, 0.7413333333333333, 0.7599999999999999, 0.8906666666666666, 0.7520000000000001, 0.6906666666666668, 0.7813333333333333, 0.8213333333333335, 0.6373333333333334, 0.8293333333333333, 0.7546666666666667, 0.7733333333333332, 0.736, 0.672, 0.8559999999999999, 0.8079999999999998, 0.7040000000000001, 0.7813333333333332, 0.7813333333333333, 0.8880000000000001, 0.8106666666666665, 0.8213333333333335, 0.792, 0.8053333333333335, 0.8, 0.8213333333333332, 0.7040000000000001, 0.7626666666666666, 0.8373333333333333, 0.7733333333333334, 0.7466666666666668, 0.76, 0.8693333333333332, 0.7866666666666668, 0.7306666666666666, 0.768, 0.7733333333333333, 0.6666666666666667, 0.8346666666666668, 0.8, 0.8480000000000001, 0.72, 0.7946666666666666, 0.752, 0.6479999999999999, 0.7813333333333333, 0.7733333333333333, 0.7440000000000001, 0.7546666666666667, 0.7493333333333334, 0.7813333333333332, 0.7226666666666667, 0.6559999999999999, 0.8346666666666666, 0.6186666666666666, 0.8426666666666668, 0.5680000000000001, 0.7146666666666668, 0.7946666666666666, 0.752, 0.6799999999999999, 0.7733333333333333, 0.8880000000000001, 0.7733333333333333, 0.8026666666666668, 0.7866666666666666, 0.8693333333333332, 0.8906666666666666, 0.7466666666666667, 0.752, 0.8079999999999999, 0.7866666666666667, 0.8133333333333332, 0.7386666666666668, 0.7386666666666668, 0.8799999999999999, 0.7866666666666666, 0.792, 0.7999999999999999, 0.76, 0.7733333333333333, 0.7493333333333333, 0.8213333333333335, 0.7786666666666667, 0.8026666666666665, 0.7919999999999999, 0.7946666666666666, 0.7333333333333333, 0.8266666666666668, 0.752, 0.8293333333333333, 0.76, 0.6826666666666666, 0.8399999999999999, 0.8293333333333333, 0.9013333333333332, 0.6853333333333335, 0.8079999999999998, 0.8079999999999999, 0.8133333333333332, 0.76, 0.8346666666666668, 0.8426666666666666, 0.7466666666666668, 0.8426666666666668, 0.7466666666666666, 0.8240000000000001, 0.7413333333333334, 0.7653333333333333, 0.7866666666666666, 0.7413333333333333, 0.7653333333333333, 0.7546666666666666, 0.8613333333333333, 0.8160000000000001, 0.7386666666666668, 0.7893333333333333, 0.792, 0.7893333333333333, 0.7386666666666667, 0.76, 0.8079999999999999, 0.8133333333333332, 0.7120000000000001, 0.8213333333333335, 0.8826666666666668, 0.7386666666666667, 0.8079999999999999, 0.8000000000000002, 0.8959999999999999, 0.8346666666666668, 0.8559999999999999, 0.8426666666666666, 0.768, 0.8026666666666668, 0.7866666666666666, 0.6933333333333334, 0.8213333333333332, 0.736, 0.7946666666666669, 0.7893333333333333, 0.8160000000000001, 0.7946666666666666, 0.752, 0.76, 0.7226666666666668, 0.76, 0.8480000000000001, 0.7413333333333333, 0.7946666666666666, 0.8079999999999999, 0.7653333333333333, 0.752, 0.752, 0.8213333333333332, 0.7999999999999999, 0.7599999999999999, 0.8613333333333333, 0.7120000000000001, 0.7866666666666666, 0.9173333333333332, 0.7839999999999999, 0.8693333333333332, 0.7439999999999999, 0.7813333333333333, 0.7946666666666666, 0.8480000000000001, 0.8693333333333333, 0.7813333333333333, 0.7546666666666668, 0.7813333333333333, 0.7893333333333333, 0.7386666666666668, 0.7866666666666668, 0.8266666666666668, 0.9306666666666664, 0.8746666666666668, 0.7946666666666667, 0.7466666666666668, 0.8480000000000001, 0.768, 0.7120000000000001, 0.72, 0.7146666666666668, 0.76, 0.616, 0.8133333333333335, 0.7546666666666666, 0.7493333333333334, 0.7173333333333334, 0.6346666666666667, 0.8480000000000001, 0.6293333333333334, 0.6933333333333332, 0.8346666666666668, 0.7813333333333333, 0.7946666666666666, 0.7386666666666667, 0.7759999999999999, 0.8079999999999998, 0.6746666666666667, 0.8346666666666666, 0.696, 0.904, 0.7466666666666668, 0.7946666666666666, 0.768, 0.784, 0.7466666666666666, 0.7466666666666667, 0.9066666666666666, 0.6693333333333333, 0.6853333333333333, 0.7999999999999999, 0.8426666666666666, 0.7253333333333333, 0.8213333333333335, 0.7040000000000001, 0.6853333333333332, 0.7093333333333334, 0.7466666666666666, 0.76, 0.7413333333333333, 0.7546666666666668, 0.6613333333333333, 0.7146666666666668, 0.7893333333333333, 0.8213333333333335, 0.904, 0.8079999999999999, 0.7733333333333333, 0.7226666666666667, 0.8826666666666666, 0.7759999999999999, 0.68, 0.7919999999999999, 0.72, 0.6613333333333333, 0.6853333333333333, 0.8080000000000002, 0.5946666666666667, 0.8106666666666668, 0.8, 0.8346666666666668, 0.6533333333333334, 0.8, 0.7093333333333333, 0.8346666666666668, 0.6773333333333333, 0.8746666666666668, 0.7946666666666666, 0.76, 0.7653333333333333, 0.9013333333333332, 0.6773333333333333, 0.6559999999999999, 0.8773333333333333, 0.6986666666666667, 0.9173333333333332, 0.7173333333333335, 0.9093333333333332, 0.8266666666666668, 0.7386666666666668, 0.7466666666666666, 0.7120000000000001, 0.7573333333333335, 0.9306666666666666, 0.8320000000000001], \"yaxis\": \"y\"}],                        {\"legend\": {\"tracegroupgap\": 0}, \"template\": {\"data\": {\"bar\": [{\"error_x\": {\"color\": \"#2a3f5f\"}, \"error_y\": {\"color\": \"#2a3f5f\"}, \"marker\": {\"line\": {\"color\": \"#E5ECF6\", \"width\": 0.5}}, \"type\": \"bar\"}], \"barpolar\": [{\"marker\": {\"line\": {\"color\": \"#E5ECF6\", \"width\": 0.5}}, \"type\": \"barpolar\"}], \"carpet\": [{\"aaxis\": {\"endlinecolor\": \"#2a3f5f\", \"gridcolor\": \"white\", \"linecolor\": \"white\", \"minorgridcolor\": \"white\", \"startlinecolor\": \"#2a3f5f\"}, \"baxis\": {\"endlinecolor\": \"#2a3f5f\", \"gridcolor\": \"white\", \"linecolor\": \"white\", \"minorgridcolor\": \"white\", \"startlinecolor\": \"#2a3f5f\"}, \"type\": \"carpet\"}], \"choropleth\": [{\"colorbar\": {\"outlinewidth\": 0, \"ticks\": \"\"}, \"type\": \"choropleth\"}], \"contour\": [{\"colorbar\": {\"outlinewidth\": 0, \"ticks\": \"\"}, \"colorscale\": [[0.0, \"#0d0887\"], [0.1111111111111111, \"#46039f\"], [0.2222222222222222, \"#7201a8\"], [0.3333333333333333, \"#9c179e\"], [0.4444444444444444, \"#bd3786\"], [0.5555555555555556, \"#d8576b\"], [0.6666666666666666, \"#ed7953\"], [0.7777777777777778, \"#fb9f3a\"], [0.8888888888888888, \"#fdca26\"], [1.0, \"#f0f921\"]], \"type\": \"contour\"}], \"contourcarpet\": [{\"colorbar\": {\"outlinewidth\": 0, \"ticks\": \"\"}, \"type\": \"contourcarpet\"}], \"heatmap\": [{\"colorbar\": {\"outlinewidth\": 0, \"ticks\": \"\"}, \"colorscale\": [[0.0, \"#0d0887\"], [0.1111111111111111, \"#46039f\"], [0.2222222222222222, \"#7201a8\"], [0.3333333333333333, \"#9c179e\"], [0.4444444444444444, \"#bd3786\"], [0.5555555555555556, \"#d8576b\"], [0.6666666666666666, \"#ed7953\"], [0.7777777777777778, \"#fb9f3a\"], [0.8888888888888888, \"#fdca26\"], [1.0, \"#f0f921\"]], \"type\": \"heatmap\"}], \"heatmapgl\": [{\"colorbar\": {\"outlinewidth\": 0, \"ticks\": \"\"}, \"colorscale\": [[0.0, \"#0d0887\"], [0.1111111111111111, \"#46039f\"], [0.2222222222222222, \"#7201a8\"], [0.3333333333333333, \"#9c179e\"], [0.4444444444444444, \"#bd3786\"], [0.5555555555555556, \"#d8576b\"], [0.6666666666666666, \"#ed7953\"], [0.7777777777777778, \"#fb9f3a\"], [0.8888888888888888, \"#fdca26\"], [1.0, \"#f0f921\"]], \"type\": \"heatmapgl\"}], \"histogram\": [{\"marker\": {\"colorbar\": {\"outlinewidth\": 0, \"ticks\": \"\"}}, \"type\": \"histogram\"}], \"histogram2d\": [{\"colorbar\": {\"outlinewidth\": 0, \"ticks\": \"\"}, \"colorscale\": [[0.0, \"#0d0887\"], [0.1111111111111111, \"#46039f\"], [0.2222222222222222, \"#7201a8\"], [0.3333333333333333, \"#9c179e\"], [0.4444444444444444, \"#bd3786\"], [0.5555555555555556, \"#d8576b\"], [0.6666666666666666, \"#ed7953\"], [0.7777777777777778, \"#fb9f3a\"], [0.8888888888888888, \"#fdca26\"], [1.0, \"#f0f921\"]], \"type\": \"histogram2d\"}], \"histogram2dcontour\": [{\"colorbar\": {\"outlinewidth\": 0, \"ticks\": \"\"}, \"colorscale\": [[0.0, \"#0d0887\"], [0.1111111111111111, \"#46039f\"], [0.2222222222222222, \"#7201a8\"], [0.3333333333333333, \"#9c179e\"], [0.4444444444444444, \"#bd3786\"], [0.5555555555555556, \"#d8576b\"], [0.6666666666666666, \"#ed7953\"], [0.7777777777777778, \"#fb9f3a\"], [0.8888888888888888, \"#fdca26\"], [1.0, \"#f0f921\"]], \"type\": \"histogram2dcontour\"}], \"mesh3d\": [{\"colorbar\": {\"outlinewidth\": 0, \"ticks\": \"\"}, \"type\": \"mesh3d\"}], \"parcoords\": [{\"line\": {\"colorbar\": {\"outlinewidth\": 0, \"ticks\": \"\"}}, \"type\": \"parcoords\"}], \"pie\": [{\"automargin\": true, \"type\": \"pie\"}], \"scatter\": [{\"marker\": {\"colorbar\": {\"outlinewidth\": 0, \"ticks\": \"\"}}, \"type\": \"scatter\"}], \"scatter3d\": [{\"line\": {\"colorbar\": {\"outlinewidth\": 0, \"ticks\": \"\"}}, \"marker\": {\"colorbar\": {\"outlinewidth\": 0, \"ticks\": \"\"}}, \"type\": \"scatter3d\"}], \"scattercarpet\": [{\"marker\": {\"colorbar\": {\"outlinewidth\": 0, \"ticks\": \"\"}}, \"type\": \"scattercarpet\"}], \"scattergeo\": [{\"marker\": {\"colorbar\": {\"outlinewidth\": 0, \"ticks\": \"\"}}, \"type\": \"scattergeo\"}], \"scattergl\": [{\"marker\": {\"colorbar\": {\"outlinewidth\": 0, \"ticks\": \"\"}}, \"type\": \"scattergl\"}], \"scattermapbox\": [{\"marker\": {\"colorbar\": {\"outlinewidth\": 0, \"ticks\": \"\"}}, \"type\": \"scattermapbox\"}], \"scatterpolar\": [{\"marker\": {\"colorbar\": {\"outlinewidth\": 0, \"ticks\": \"\"}}, \"type\": \"scatterpolar\"}], \"scatterpolargl\": [{\"marker\": {\"colorbar\": {\"outlinewidth\": 0, \"ticks\": \"\"}}, \"type\": \"scatterpolargl\"}], \"scatterternary\": [{\"marker\": {\"colorbar\": {\"outlinewidth\": 0, \"ticks\": \"\"}}, \"type\": \"scatterternary\"}], \"surface\": [{\"colorbar\": {\"outlinewidth\": 0, \"ticks\": \"\"}, \"colorscale\": [[0.0, \"#0d0887\"], [0.1111111111111111, \"#46039f\"], [0.2222222222222222, \"#7201a8\"], [0.3333333333333333, \"#9c179e\"], [0.4444444444444444, \"#bd3786\"], [0.5555555555555556, \"#d8576b\"], [0.6666666666666666, \"#ed7953\"], [0.7777777777777778, \"#fb9f3a\"], [0.8888888888888888, \"#fdca26\"], [1.0, \"#f0f921\"]], \"type\": \"surface\"}], \"table\": [{\"cells\": {\"fill\": {\"color\": \"#EBF0F8\"}, \"line\": {\"color\": \"white\"}}, \"header\": {\"fill\": {\"color\": \"#C8D4E3\"}, \"line\": {\"color\": \"white\"}}, \"type\": \"table\"}]}, \"layout\": {\"annotationdefaults\": {\"arrowcolor\": \"#2a3f5f\", \"arrowhead\": 0, \"arrowwidth\": 1}, \"autotypenumbers\": \"strict\", \"coloraxis\": {\"colorbar\": {\"outlinewidth\": 0, \"ticks\": \"\"}}, \"colorscale\": {\"diverging\": [[0, \"#8e0152\"], [0.1, \"#c51b7d\"], [0.2, \"#de77ae\"], [0.3, \"#f1b6da\"], [0.4, \"#fde0ef\"], [0.5, \"#f7f7f7\"], [0.6, \"#e6f5d0\"], [0.7, \"#b8e186\"], [0.8, \"#7fbc41\"], [0.9, \"#4d9221\"], [1, \"#276419\"]], \"sequential\": [[0.0, \"#0d0887\"], [0.1111111111111111, \"#46039f\"], [0.2222222222222222, \"#7201a8\"], [0.3333333333333333, \"#9c179e\"], [0.4444444444444444, \"#bd3786\"], [0.5555555555555556, \"#d8576b\"], [0.6666666666666666, \"#ed7953\"], [0.7777777777777778, \"#fb9f3a\"], [0.8888888888888888, \"#fdca26\"], [1.0, \"#f0f921\"]], \"sequentialminus\": [[0.0, \"#0d0887\"], [0.1111111111111111, \"#46039f\"], [0.2222222222222222, \"#7201a8\"], [0.3333333333333333, \"#9c179e\"], [0.4444444444444444, \"#bd3786\"], [0.5555555555555556, \"#d8576b\"], [0.6666666666666666, \"#ed7953\"], [0.7777777777777778, \"#fb9f3a\"], [0.8888888888888888, \"#fdca26\"], [1.0, \"#f0f921\"]]}, \"colorway\": [\"#636efa\", \"#EF553B\", \"#00cc96\", \"#ab63fa\", \"#FFA15A\", \"#19d3f3\", \"#FF6692\", \"#B6E880\", \"#FF97FF\", \"#FECB52\"], \"font\": {\"color\": \"#2a3f5f\"}, \"geo\": {\"bgcolor\": \"white\", \"lakecolor\": \"white\", \"landcolor\": \"#E5ECF6\", \"showlakes\": true, \"showland\": true, \"subunitcolor\": \"white\"}, \"hoverlabel\": {\"align\": \"left\"}, \"hovermode\": \"closest\", \"mapbox\": {\"style\": \"light\"}, \"paper_bgcolor\": \"white\", \"plot_bgcolor\": \"#E5ECF6\", \"polar\": {\"angularaxis\": {\"gridcolor\": \"white\", \"linecolor\": \"white\", \"ticks\": \"\"}, \"bgcolor\": \"#E5ECF6\", \"radialaxis\": {\"gridcolor\": \"white\", \"linecolor\": \"white\", \"ticks\": \"\"}}, \"scene\": {\"xaxis\": {\"backgroundcolor\": \"#E5ECF6\", \"gridcolor\": \"white\", \"gridwidth\": 2, \"linecolor\": \"white\", \"showbackground\": true, \"ticks\": \"\", \"zerolinecolor\": \"white\"}, \"yaxis\": {\"backgroundcolor\": \"#E5ECF6\", \"gridcolor\": \"white\", \"gridwidth\": 2, \"linecolor\": \"white\", \"showbackground\": true, \"ticks\": \"\", \"zerolinecolor\": \"white\"}, \"zaxis\": {\"backgroundcolor\": \"#E5ECF6\", \"gridcolor\": \"white\", \"gridwidth\": 2, \"linecolor\": \"white\", \"showbackground\": true, \"ticks\": \"\", \"zerolinecolor\": \"white\"}}, \"shapedefaults\": {\"line\": {\"color\": \"#2a3f5f\"}}, \"ternary\": {\"aaxis\": {\"gridcolor\": \"white\", \"linecolor\": \"white\", \"ticks\": \"\"}, \"baxis\": {\"gridcolor\": \"white\", \"linecolor\": \"white\", \"ticks\": \"\"}, \"bgcolor\": \"#E5ECF6\", \"caxis\": {\"gridcolor\": \"white\", \"linecolor\": \"white\", \"ticks\": \"\"}}, \"title\": {\"x\": 0.05}, \"xaxis\": {\"automargin\": true, \"gridcolor\": \"white\", \"linecolor\": \"white\", \"ticks\": \"\", \"title\": {\"standoff\": 15}, \"zerolinecolor\": \"white\", \"zerolinewidth\": 2}, \"yaxis\": {\"automargin\": true, \"gridcolor\": \"white\", \"linecolor\": \"white\", \"ticks\": \"\", \"title\": {\"standoff\": 15}, \"zerolinecolor\": \"white\", \"zerolinewidth\": 2}}}, \"title\": {\"text\": \"Satisfaction by Tenure\"}, \"xaxis\": {\"anchor\": \"y\", \"domain\": [0.0, 1.0], \"title\": {\"text\": \"time_on_the_job\"}}, \"yaxis\": {\"anchor\": \"x\", \"domain\": [0.0, 1.0], \"title\": {\"text\": \"overall\"}}},                        {\"responsive\": true}                    ).then(function(){\n                            \nvar gd = document.getElementById('3d274408-edac-44ac-975d-64995cc143c8');\nvar x = new MutationObserver(function (mutations, observer) {{\n        var display = window.getComputedStyle(gd).display;\n        if (!display || display === 'none') {{\n            console.log([gd, 'removed!']);\n            Plotly.purge(gd);\n            observer.disconnect();\n        }}\n}});\n\n// Listen for the removal of the full notebook cells\nvar notebookContainer = gd.closest('#notebook-container');\nif (notebookContainer) {{\n    x.observe(notebookContainer, {childList: true});\n}}\n\n// Listen for the clearing of the current output cell\nvar outputEl = gd.closest('.output');\nif (outputEl) {{\n    x.observe(outputEl, {childList: true});\n}}\n\n                        })                };                });            </script>        </div>"
     },
     "metadata": {}
    }
   ],
   "source": [
    "px.scatter(df, x='time_on_the_job', y='overall', title='Satisfaction by Tenure')"
   ]
  },
  {
   "cell_type": "code",
   "execution_count": 14,
   "metadata": {},
   "outputs": [
    {
     "output_type": "display_data",
     "data": {
      "application/vnd.plotly.v1+json": {
       "config": {
        "plotlyServerURL": "https://plot.ly"
       },
       "data": [
        {
         "hovertemplate": "current_age=%{x}<br>overall=%{y}<extra></extra>",
         "legendgroup": "",
         "marker": {
          "color": "#636efa",
          "symbol": "circle"
         },
         "mode": "markers",
         "name": "",
         "orientation": "v",
         "showlegend": false,
         "type": "scatter",
         "x": [
          43,
          45,
          38,
          51,
          44,
          32,
          46,
          29,
          59,
          34,
          48,
          25,
          46,
          32,
          42,
          42,
          42,
          65,
          29,
          50,
          43,
          47,
          19,
          45,
          40,
          28,
          37,
          47,
          26,
          37,
          33,
          40,
          36,
          40,
          27,
          52,
          49,
          44,
          38,
          56,
          32,
          48,
          53,
          45,
          51,
          21,
          38,
          25,
          36,
          44,
          24,
          37,
          72,
          46,
          46,
          44,
          41,
          39,
          46,
          22,
          42,
          40,
          44,
          19,
          35,
          24,
          19,
          61,
          40,
          52,
          27,
          34,
          28,
          20,
          39,
          25,
          22,
          24,
          18,
          23,
          28,
          31,
          40,
          44,
          32,
          21,
          44,
          46,
          37,
          28,
          72,
          33,
          39,
          32,
          35,
          55,
          50,
          40,
          40,
          52,
          40,
          39,
          39,
          24,
          44,
          62,
          28,
          34,
          38,
          43,
          62,
          41,
          42,
          36,
          41,
          55,
          36,
          36,
          58,
          53,
          39,
          29,
          30,
          38,
          43,
          53,
          36,
          26,
          41,
          40,
          36,
          41,
          28,
          30,
          30,
          48,
          43,
          43,
          52,
          41,
          55,
          36,
          39,
          40,
          48,
          25,
          31,
          48,
          44,
          30,
          36,
          26,
          46,
          39,
          61,
          41,
          35,
          48,
          46,
          43,
          39,
          57,
          23,
          67,
          53,
          51,
          58,
          36,
          63,
          61,
          59,
          35,
          37,
          20,
          27,
          42,
          40,
          32,
          43,
          32,
          31,
          50,
          34,
          27,
          40,
          20,
          60,
          48,
          46,
          48,
          37,
          49,
          61,
          43,
          41,
          53,
          39,
          57,
          32,
          34,
          38,
          36,
          38,
          43,
          34,
          34,
          56,
          23,
          41,
          37,
          44,
          57,
          49,
          27,
          35,
          40,
          50,
          38,
          38,
          44,
          63,
          21,
          31,
          33,
          30,
          35,
          34,
          39,
          22,
          32,
          36,
          58,
          22,
          42,
          34,
          40,
          25,
          37,
          33,
          19,
          33,
          35,
          22,
          33,
          37,
          37,
          44,
          35,
          37,
          61,
          29,
          39,
          34,
          43,
          18,
          60,
          36,
          26,
          35,
          34,
          36,
          39,
          24,
          52,
          35,
          32,
          34,
          30,
          27,
          20,
          42,
          22,
          54,
          57,
          29,
          52,
          41,
          42,
          29,
          28,
          42,
          40,
          39,
          34,
          45,
          44,
          25,
          39,
          61,
          33,
          35,
          25,
          27,
          44,
          56,
          62,
          30,
          49,
          37,
          61,
          64,
          22,
          60,
          46,
          22,
          34,
          29,
          42,
          32,
          25,
          44,
          64,
          28,
          33,
          34,
          47,
          34,
          29,
          40,
          63,
          51,
          33,
          51,
          26,
          28,
          60,
          42,
          20,
          64,
          26,
          24,
          63,
          40,
          42,
          45,
          30,
          45,
          32,
          23,
          26,
          58,
          36,
          46,
          27,
          23,
          39,
          30,
          58,
          37,
          54,
          43,
          31,
          23,
          41,
          34,
          38,
          40,
          38,
          36,
          26,
          29,
          50,
          45,
          43,
          24,
          64,
          34,
          47,
          37,
          49,
          43,
          43,
          42,
          38,
          28,
          36,
          41,
          68,
          29,
          33,
          40
         ],
         "xaxis": "x",
         "y": [
          0.7226666666666668,
          0.8666666666666668,
          0.928,
          0.6853333333333333,
          0.7733333333333333,
          0.752,
          0.9493333333333333,
          0.6293333333333334,
          0.7599999999999999,
          0.7093333333333333,
          0.8800000000000001,
          0.6853333333333335,
          0.8613333333333333,
          0.7733333333333333,
          0.7999999999999999,
          0.8826666666666666,
          0.8266666666666668,
          0.6106666666666667,
          0.8559999999999999,
          0.8666666666666668,
          0.7733333333333333,
          0.8480000000000001,
          0.7733333333333333,
          0.8,
          0.7946666666666666,
          0.752,
          0.768,
          0.7733333333333334,
          0.7893333333333333,
          0.8079999999999999,
          0.7759999999999999,
          0.7040000000000001,
          0.7466666666666667,
          0.8480000000000001,
          0.7306666666666667,
          0.7413333333333333,
          0.8133333333333332,
          0.7546666666666666,
          0.7866666666666666,
          0.7386666666666667,
          0.7653333333333333,
          0.7173333333333335,
          0.624,
          0.7546666666666666,
          0.7093333333333334,
          0.7173333333333334,
          0.6693333333333333,
          0.7653333333333333,
          0.7466666666666666,
          0.7333333333333334,
          0.7733333333333332,
          0.7946666666666667,
          0.6026666666666667,
          0.6293333333333334,
          0.8160000000000001,
          0.6906666666666668,
          0.76,
          0.6826666666666666,
          0.7866666666666666,
          0.768,
          0.768,
          0.7999999999999999,
          0.8186666666666668,
          0.7679999999999999,
          0.7866666666666667,
          0.6399999999999999,
          0.6666666666666667,
          0.7679999999999999,
          0.8933333333333333,
          0.616,
          0.696,
          0.752,
          0.6346666666666667,
          0.9093333333333332,
          0.8133333333333332,
          0.7813333333333333,
          0.7040000000000001,
          0.5946666666666667,
          0.7013333333333334,
          0.7013333333333334,
          0.6613333333333333,
          0.5866666666666667,
          0.7946666666666667,
          0.752,
          0.624,
          0.76,
          0.8053333333333335,
          0.6319999999999999,
          0.5893333333333333,
          0.6719999999999999,
          0.6773333333333332,
          0.8,
          0.8213333333333335,
          0.664,
          0.6799999999999999,
          0.8480000000000001,
          0.8186666666666665,
          0.6426666666666667,
          0.7120000000000001,
          0.8079999999999998,
          0.8480000000000001,
          0.7866666666666666,
          0.7866666666666666,
          0.7413333333333333,
          0.7866666666666667,
          0.7786666666666666,
          0.8426666666666666,
          0.6986666666666667,
          0.6986666666666668,
          0.8213333333333332,
          0.8160000000000001,
          0.8400000000000001,
          0.752,
          0.8266666666666668,
          0.7413333333333333,
          0.7599999999999999,
          0.8906666666666666,
          0.7520000000000001,
          0.6906666666666668,
          0.7813333333333333,
          0.8213333333333335,
          0.6373333333333334,
          0.8293333333333333,
          0.7546666666666667,
          0.7733333333333332,
          0.736,
          0.672,
          0.8559999999999999,
          0.8079999999999998,
          0.7040000000000001,
          0.7813333333333332,
          0.7813333333333333,
          0.8880000000000001,
          0.8106666666666665,
          0.8213333333333335,
          0.792,
          0.8053333333333335,
          0.8,
          0.8213333333333332,
          0.7040000000000001,
          0.7626666666666666,
          0.8373333333333333,
          0.7733333333333334,
          0.7466666666666668,
          0.76,
          0.8693333333333332,
          0.7866666666666668,
          0.7306666666666666,
          0.768,
          0.7733333333333333,
          0.6666666666666667,
          0.8346666666666668,
          0.8,
          0.8480000000000001,
          0.72,
          0.7946666666666666,
          0.752,
          0.6479999999999999,
          0.7813333333333333,
          0.7733333333333333,
          0.7440000000000001,
          0.7546666666666667,
          0.7493333333333334,
          0.7813333333333332,
          0.7226666666666667,
          0.6559999999999999,
          0.8346666666666666,
          0.6186666666666666,
          0.8426666666666668,
          0.5680000000000001,
          0.7146666666666668,
          0.7946666666666666,
          0.752,
          0.6799999999999999,
          0.7733333333333333,
          0.8880000000000001,
          0.7733333333333333,
          0.8026666666666668,
          0.7866666666666666,
          0.8693333333333332,
          0.8906666666666666,
          0.7466666666666667,
          0.752,
          0.8079999999999999,
          0.7866666666666667,
          0.8133333333333332,
          0.7386666666666668,
          0.7386666666666668,
          0.8799999999999999,
          0.7866666666666666,
          0.792,
          0.7999999999999999,
          0.76,
          0.7733333333333333,
          0.7493333333333333,
          0.8213333333333335,
          0.7786666666666667,
          0.8026666666666665,
          0.7919999999999999,
          0.7946666666666666,
          0.7333333333333333,
          0.8266666666666668,
          0.752,
          0.8293333333333333,
          0.76,
          0.6826666666666666,
          0.8399999999999999,
          0.8293333333333333,
          0.9013333333333332,
          0.6853333333333335,
          0.8079999999999998,
          0.8079999999999999,
          0.8133333333333332,
          0.76,
          0.8346666666666668,
          0.8426666666666666,
          0.7466666666666668,
          0.8426666666666668,
          0.7466666666666666,
          0.8240000000000001,
          0.7413333333333334,
          0.7653333333333333,
          0.7866666666666666,
          0.7413333333333333,
          0.7653333333333333,
          0.7546666666666666,
          0.8613333333333333,
          0.8160000000000001,
          0.7386666666666668,
          0.7893333333333333,
          0.792,
          0.7893333333333333,
          0.7386666666666667,
          0.76,
          0.8079999999999999,
          0.8133333333333332,
          0.7120000000000001,
          0.8213333333333335,
          0.8826666666666668,
          0.7386666666666667,
          0.8079999999999999,
          0.8000000000000002,
          0.8959999999999999,
          0.8346666666666668,
          0.8559999999999999,
          0.8426666666666666,
          0.768,
          0.8026666666666668,
          0.7866666666666666,
          0.6933333333333334,
          0.8213333333333332,
          0.736,
          0.7946666666666669,
          0.7893333333333333,
          0.8160000000000001,
          0.7946666666666666,
          0.752,
          0.76,
          0.7226666666666668,
          0.76,
          0.8480000000000001,
          0.7413333333333333,
          0.7946666666666666,
          0.8079999999999999,
          0.7653333333333333,
          0.752,
          0.752,
          0.8213333333333332,
          0.7999999999999999,
          0.7599999999999999,
          0.8613333333333333,
          0.7120000000000001,
          0.7866666666666666,
          0.9173333333333332,
          0.7839999999999999,
          0.8693333333333332,
          0.7439999999999999,
          0.7813333333333333,
          0.7946666666666666,
          0.8480000000000001,
          0.8693333333333333,
          0.7813333333333333,
          0.7546666666666668,
          0.7813333333333333,
          0.7893333333333333,
          0.7386666666666668,
          0.7866666666666668,
          0.8266666666666668,
          0.9306666666666664,
          0.8746666666666668,
          0.7946666666666667,
          0.7466666666666668,
          0.8480000000000001,
          0.768,
          0.7120000000000001,
          0.72,
          0.7146666666666668,
          0.76,
          0.616,
          0.8133333333333335,
          0.7546666666666666,
          0.7493333333333334,
          0.7173333333333334,
          0.6346666666666667,
          0.8480000000000001,
          0.6293333333333334,
          0.6933333333333332,
          0.8346666666666668,
          0.7813333333333333,
          0.7946666666666666,
          0.7386666666666667,
          0.7759999999999999,
          0.8079999999999998,
          0.6746666666666667,
          0.8346666666666666,
          0.696,
          0.904,
          0.7466666666666668,
          0.7946666666666666,
          0.768,
          0.784,
          0.7466666666666666,
          0.7466666666666667,
          0.9066666666666666,
          0.6693333333333333,
          0.6853333333333333,
          0.7999999999999999,
          0.8426666666666666,
          0.7253333333333333,
          0.8213333333333335,
          0.7040000000000001,
          0.6853333333333332,
          0.7093333333333334,
          0.7466666666666666,
          0.76,
          0.7413333333333333,
          0.7546666666666668,
          0.6613333333333333,
          0.7146666666666668,
          0.7893333333333333,
          0.8213333333333335,
          0.904,
          0.8079999999999999,
          0.7733333333333333,
          0.7226666666666667,
          0.8826666666666666,
          0.7759999999999999,
          0.68,
          0.7919999999999999,
          0.72,
          0.6613333333333333,
          0.6853333333333333,
          0.8080000000000002,
          0.5946666666666667,
          0.8106666666666668,
          0.8,
          0.8346666666666668,
          0.6533333333333334,
          0.8,
          0.7093333333333333,
          0.8346666666666668,
          0.6773333333333333,
          0.8746666666666668,
          0.7946666666666666,
          0.76,
          0.7653333333333333,
          0.9013333333333332,
          0.6773333333333333,
          0.6559999999999999,
          0.8773333333333333,
          0.6986666666666667,
          0.9173333333333332,
          0.7173333333333335,
          0.9093333333333332,
          0.8266666666666668,
          0.7386666666666668,
          0.7466666666666666,
          0.7120000000000001,
          0.7573333333333335,
          0.9306666666666666,
          0.8320000000000001
         ],
         "yaxis": "y"
        }
       ],
       "layout": {
        "legend": {
         "tracegroupgap": 0
        },
        "template": {
         "data": {
          "bar": [
           {
            "error_x": {
             "color": "#2a3f5f"
            },
            "error_y": {
             "color": "#2a3f5f"
            },
            "marker": {
             "line": {
              "color": "#E5ECF6",
              "width": 0.5
             }
            },
            "type": "bar"
           }
          ],
          "barpolar": [
           {
            "marker": {
             "line": {
              "color": "#E5ECF6",
              "width": 0.5
             }
            },
            "type": "barpolar"
           }
          ],
          "carpet": [
           {
            "aaxis": {
             "endlinecolor": "#2a3f5f",
             "gridcolor": "white",
             "linecolor": "white",
             "minorgridcolor": "white",
             "startlinecolor": "#2a3f5f"
            },
            "baxis": {
             "endlinecolor": "#2a3f5f",
             "gridcolor": "white",
             "linecolor": "white",
             "minorgridcolor": "white",
             "startlinecolor": "#2a3f5f"
            },
            "type": "carpet"
           }
          ],
          "choropleth": [
           {
            "colorbar": {
             "outlinewidth": 0,
             "ticks": ""
            },
            "type": "choropleth"
           }
          ],
          "contour": [
           {
            "colorbar": {
             "outlinewidth": 0,
             "ticks": ""
            },
            "colorscale": [
             [
              0,
              "#0d0887"
             ],
             [
              0.1111111111111111,
              "#46039f"
             ],
             [
              0.2222222222222222,
              "#7201a8"
             ],
             [
              0.3333333333333333,
              "#9c179e"
             ],
             [
              0.4444444444444444,
              "#bd3786"
             ],
             [
              0.5555555555555556,
              "#d8576b"
             ],
             [
              0.6666666666666666,
              "#ed7953"
             ],
             [
              0.7777777777777778,
              "#fb9f3a"
             ],
             [
              0.8888888888888888,
              "#fdca26"
             ],
             [
              1,
              "#f0f921"
             ]
            ],
            "type": "contour"
           }
          ],
          "contourcarpet": [
           {
            "colorbar": {
             "outlinewidth": 0,
             "ticks": ""
            },
            "type": "contourcarpet"
           }
          ],
          "heatmap": [
           {
            "colorbar": {
             "outlinewidth": 0,
             "ticks": ""
            },
            "colorscale": [
             [
              0,
              "#0d0887"
             ],
             [
              0.1111111111111111,
              "#46039f"
             ],
             [
              0.2222222222222222,
              "#7201a8"
             ],
             [
              0.3333333333333333,
              "#9c179e"
             ],
             [
              0.4444444444444444,
              "#bd3786"
             ],
             [
              0.5555555555555556,
              "#d8576b"
             ],
             [
              0.6666666666666666,
              "#ed7953"
             ],
             [
              0.7777777777777778,
              "#fb9f3a"
             ],
             [
              0.8888888888888888,
              "#fdca26"
             ],
             [
              1,
              "#f0f921"
             ]
            ],
            "type": "heatmap"
           }
          ],
          "heatmapgl": [
           {
            "colorbar": {
             "outlinewidth": 0,
             "ticks": ""
            },
            "colorscale": [
             [
              0,
              "#0d0887"
             ],
             [
              0.1111111111111111,
              "#46039f"
             ],
             [
              0.2222222222222222,
              "#7201a8"
             ],
             [
              0.3333333333333333,
              "#9c179e"
             ],
             [
              0.4444444444444444,
              "#bd3786"
             ],
             [
              0.5555555555555556,
              "#d8576b"
             ],
             [
              0.6666666666666666,
              "#ed7953"
             ],
             [
              0.7777777777777778,
              "#fb9f3a"
             ],
             [
              0.8888888888888888,
              "#fdca26"
             ],
             [
              1,
              "#f0f921"
             ]
            ],
            "type": "heatmapgl"
           }
          ],
          "histogram": [
           {
            "marker": {
             "colorbar": {
              "outlinewidth": 0,
              "ticks": ""
             }
            },
            "type": "histogram"
           }
          ],
          "histogram2d": [
           {
            "colorbar": {
             "outlinewidth": 0,
             "ticks": ""
            },
            "colorscale": [
             [
              0,
              "#0d0887"
             ],
             [
              0.1111111111111111,
              "#46039f"
             ],
             [
              0.2222222222222222,
              "#7201a8"
             ],
             [
              0.3333333333333333,
              "#9c179e"
             ],
             [
              0.4444444444444444,
              "#bd3786"
             ],
             [
              0.5555555555555556,
              "#d8576b"
             ],
             [
              0.6666666666666666,
              "#ed7953"
             ],
             [
              0.7777777777777778,
              "#fb9f3a"
             ],
             [
              0.8888888888888888,
              "#fdca26"
             ],
             [
              1,
              "#f0f921"
             ]
            ],
            "type": "histogram2d"
           }
          ],
          "histogram2dcontour": [
           {
            "colorbar": {
             "outlinewidth": 0,
             "ticks": ""
            },
            "colorscale": [
             [
              0,
              "#0d0887"
             ],
             [
              0.1111111111111111,
              "#46039f"
             ],
             [
              0.2222222222222222,
              "#7201a8"
             ],
             [
              0.3333333333333333,
              "#9c179e"
             ],
             [
              0.4444444444444444,
              "#bd3786"
             ],
             [
              0.5555555555555556,
              "#d8576b"
             ],
             [
              0.6666666666666666,
              "#ed7953"
             ],
             [
              0.7777777777777778,
              "#fb9f3a"
             ],
             [
              0.8888888888888888,
              "#fdca26"
             ],
             [
              1,
              "#f0f921"
             ]
            ],
            "type": "histogram2dcontour"
           }
          ],
          "mesh3d": [
           {
            "colorbar": {
             "outlinewidth": 0,
             "ticks": ""
            },
            "type": "mesh3d"
           }
          ],
          "parcoords": [
           {
            "line": {
             "colorbar": {
              "outlinewidth": 0,
              "ticks": ""
             }
            },
            "type": "parcoords"
           }
          ],
          "pie": [
           {
            "automargin": true,
            "type": "pie"
           }
          ],
          "scatter": [
           {
            "marker": {
             "colorbar": {
              "outlinewidth": 0,
              "ticks": ""
             }
            },
            "type": "scatter"
           }
          ],
          "scatter3d": [
           {
            "line": {
             "colorbar": {
              "outlinewidth": 0,
              "ticks": ""
             }
            },
            "marker": {
             "colorbar": {
              "outlinewidth": 0,
              "ticks": ""
             }
            },
            "type": "scatter3d"
           }
          ],
          "scattercarpet": [
           {
            "marker": {
             "colorbar": {
              "outlinewidth": 0,
              "ticks": ""
             }
            },
            "type": "scattercarpet"
           }
          ],
          "scattergeo": [
           {
            "marker": {
             "colorbar": {
              "outlinewidth": 0,
              "ticks": ""
             }
            },
            "type": "scattergeo"
           }
          ],
          "scattergl": [
           {
            "marker": {
             "colorbar": {
              "outlinewidth": 0,
              "ticks": ""
             }
            },
            "type": "scattergl"
           }
          ],
          "scattermapbox": [
           {
            "marker": {
             "colorbar": {
              "outlinewidth": 0,
              "ticks": ""
             }
            },
            "type": "scattermapbox"
           }
          ],
          "scatterpolar": [
           {
            "marker": {
             "colorbar": {
              "outlinewidth": 0,
              "ticks": ""
             }
            },
            "type": "scatterpolar"
           }
          ],
          "scatterpolargl": [
           {
            "marker": {
             "colorbar": {
              "outlinewidth": 0,
              "ticks": ""
             }
            },
            "type": "scatterpolargl"
           }
          ],
          "scatterternary": [
           {
            "marker": {
             "colorbar": {
              "outlinewidth": 0,
              "ticks": ""
             }
            },
            "type": "scatterternary"
           }
          ],
          "surface": [
           {
            "colorbar": {
             "outlinewidth": 0,
             "ticks": ""
            },
            "colorscale": [
             [
              0,
              "#0d0887"
             ],
             [
              0.1111111111111111,
              "#46039f"
             ],
             [
              0.2222222222222222,
              "#7201a8"
             ],
             [
              0.3333333333333333,
              "#9c179e"
             ],
             [
              0.4444444444444444,
              "#bd3786"
             ],
             [
              0.5555555555555556,
              "#d8576b"
             ],
             [
              0.6666666666666666,
              "#ed7953"
             ],
             [
              0.7777777777777778,
              "#fb9f3a"
             ],
             [
              0.8888888888888888,
              "#fdca26"
             ],
             [
              1,
              "#f0f921"
             ]
            ],
            "type": "surface"
           }
          ],
          "table": [
           {
            "cells": {
             "fill": {
              "color": "#EBF0F8"
             },
             "line": {
              "color": "white"
             }
            },
            "header": {
             "fill": {
              "color": "#C8D4E3"
             },
             "line": {
              "color": "white"
             }
            },
            "type": "table"
           }
          ]
         },
         "layout": {
          "annotationdefaults": {
           "arrowcolor": "#2a3f5f",
           "arrowhead": 0,
           "arrowwidth": 1
          },
          "autotypenumbers": "strict",
          "coloraxis": {
           "colorbar": {
            "outlinewidth": 0,
            "ticks": ""
           }
          },
          "colorscale": {
           "diverging": [
            [
             0,
             "#8e0152"
            ],
            [
             0.1,
             "#c51b7d"
            ],
            [
             0.2,
             "#de77ae"
            ],
            [
             0.3,
             "#f1b6da"
            ],
            [
             0.4,
             "#fde0ef"
            ],
            [
             0.5,
             "#f7f7f7"
            ],
            [
             0.6,
             "#e6f5d0"
            ],
            [
             0.7,
             "#b8e186"
            ],
            [
             0.8,
             "#7fbc41"
            ],
            [
             0.9,
             "#4d9221"
            ],
            [
             1,
             "#276419"
            ]
           ],
           "sequential": [
            [
             0,
             "#0d0887"
            ],
            [
             0.1111111111111111,
             "#46039f"
            ],
            [
             0.2222222222222222,
             "#7201a8"
            ],
            [
             0.3333333333333333,
             "#9c179e"
            ],
            [
             0.4444444444444444,
             "#bd3786"
            ],
            [
             0.5555555555555556,
             "#d8576b"
            ],
            [
             0.6666666666666666,
             "#ed7953"
            ],
            [
             0.7777777777777778,
             "#fb9f3a"
            ],
            [
             0.8888888888888888,
             "#fdca26"
            ],
            [
             1,
             "#f0f921"
            ]
           ],
           "sequentialminus": [
            [
             0,
             "#0d0887"
            ],
            [
             0.1111111111111111,
             "#46039f"
            ],
            [
             0.2222222222222222,
             "#7201a8"
            ],
            [
             0.3333333333333333,
             "#9c179e"
            ],
            [
             0.4444444444444444,
             "#bd3786"
            ],
            [
             0.5555555555555556,
             "#d8576b"
            ],
            [
             0.6666666666666666,
             "#ed7953"
            ],
            [
             0.7777777777777778,
             "#fb9f3a"
            ],
            [
             0.8888888888888888,
             "#fdca26"
            ],
            [
             1,
             "#f0f921"
            ]
           ]
          },
          "colorway": [
           "#636efa",
           "#EF553B",
           "#00cc96",
           "#ab63fa",
           "#FFA15A",
           "#19d3f3",
           "#FF6692",
           "#B6E880",
           "#FF97FF",
           "#FECB52"
          ],
          "font": {
           "color": "#2a3f5f"
          },
          "geo": {
           "bgcolor": "white",
           "lakecolor": "white",
           "landcolor": "#E5ECF6",
           "showlakes": true,
           "showland": true,
           "subunitcolor": "white"
          },
          "hoverlabel": {
           "align": "left"
          },
          "hovermode": "closest",
          "mapbox": {
           "style": "light"
          },
          "paper_bgcolor": "white",
          "plot_bgcolor": "#E5ECF6",
          "polar": {
           "angularaxis": {
            "gridcolor": "white",
            "linecolor": "white",
            "ticks": ""
           },
           "bgcolor": "#E5ECF6",
           "radialaxis": {
            "gridcolor": "white",
            "linecolor": "white",
            "ticks": ""
           }
          },
          "scene": {
           "xaxis": {
            "backgroundcolor": "#E5ECF6",
            "gridcolor": "white",
            "gridwidth": 2,
            "linecolor": "white",
            "showbackground": true,
            "ticks": "",
            "zerolinecolor": "white"
           },
           "yaxis": {
            "backgroundcolor": "#E5ECF6",
            "gridcolor": "white",
            "gridwidth": 2,
            "linecolor": "white",
            "showbackground": true,
            "ticks": "",
            "zerolinecolor": "white"
           },
           "zaxis": {
            "backgroundcolor": "#E5ECF6",
            "gridcolor": "white",
            "gridwidth": 2,
            "linecolor": "white",
            "showbackground": true,
            "ticks": "",
            "zerolinecolor": "white"
           }
          },
          "shapedefaults": {
           "line": {
            "color": "#2a3f5f"
           }
          },
          "ternary": {
           "aaxis": {
            "gridcolor": "white",
            "linecolor": "white",
            "ticks": ""
           },
           "baxis": {
            "gridcolor": "white",
            "linecolor": "white",
            "ticks": ""
           },
           "bgcolor": "#E5ECF6",
           "caxis": {
            "gridcolor": "white",
            "linecolor": "white",
            "ticks": ""
           }
          },
          "title": {
           "x": 0.05
          },
          "xaxis": {
           "automargin": true,
           "gridcolor": "white",
           "linecolor": "white",
           "ticks": "",
           "title": {
            "standoff": 15
           },
           "zerolinecolor": "white",
           "zerolinewidth": 2
          },
          "yaxis": {
           "automargin": true,
           "gridcolor": "white",
           "linecolor": "white",
           "ticks": "",
           "title": {
            "standoff": 15
           },
           "zerolinecolor": "white",
           "zerolinewidth": 2
          }
         }
        },
        "title": {
         "text": "Satisfaction by Age"
        },
        "xaxis": {
         "anchor": "y",
         "domain": [
          0,
          1
         ],
         "title": {
          "text": "current_age"
         }
        },
        "yaxis": {
         "anchor": "x",
         "domain": [
          0,
          1
         ],
         "title": {
          "text": "overall"
         }
        }
       }
      },
      "text/html": "<div>                            <div id=\"1eaddd03-c20f-4a47-87a8-6c19d8f82bd6\" class=\"plotly-graph-div\" style=\"height:525px; width:100%;\"></div>            <script type=\"text/javascript\">                require([\"plotly\"], function(Plotly) {                    window.PLOTLYENV=window.PLOTLYENV || {};                                    if (document.getElementById(\"1eaddd03-c20f-4a47-87a8-6c19d8f82bd6\")) {                    Plotly.newPlot(                        \"1eaddd03-c20f-4a47-87a8-6c19d8f82bd6\",                        [{\"hovertemplate\": \"current_age=%{x}<br>overall=%{y}<extra></extra>\", \"legendgroup\": \"\", \"marker\": {\"color\": \"#636efa\", \"symbol\": \"circle\"}, \"mode\": \"markers\", \"name\": \"\", \"orientation\": \"v\", \"showlegend\": false, \"type\": \"scatter\", \"x\": [43, 45, 38, 51, 44, 32, 46, 29, 59, 34, 48, 25, 46, 32, 42, 42, 42, 65, 29, 50, 43, 47, 19, 45, 40, 28, 37, 47, 26, 37, 33, 40, 36, 40, 27, 52, 49, 44, 38, 56, 32, 48, 53, 45, 51, 21, 38, 25, 36, 44, 24, 37, 72, 46, 46, 44, 41, 39, 46, 22, 42, 40, 44, 19, 35, 24, 19, 61, 40, 52, 27, 34, 28, 20, 39, 25, 22, 24, 18, 23, 28, 31, 40, 44, 32, 21, 44, 46, 37, 28, 72, 33, 39, 32, 35, 55, 50, 40, 40, 52, 40, 39, 39, 24, 44, 62, 28, 34, 38, 43, 62, 41, 42, 36, 41, 55, 36, 36, 58, 53, 39, 29, 30, 38, 43, 53, 36, 26, 41, 40, 36, 41, 28, 30, 30, 48, 43, 43, 52, 41, 55, 36, 39, 40, 48, 25, 31, 48, 44, 30, 36, 26, 46, 39, 61, 41, 35, 48, 46, 43, 39, 57, 23, 67, 53, 51, 58, 36, 63, 61, 59, 35, 37, 20, 27, 42, 40, 32, 43, 32, 31, 50, 34, 27, 40, 20, 60, 48, 46, 48, 37, 49, 61, 43, 41, 53, 39, 57, 32, 34, 38, 36, 38, 43, 34, 34, 56, 23, 41, 37, 44, 57, 49, 27, 35, 40, 50, 38, 38, 44, 63, 21, 31, 33, 30, 35, 34, 39, 22, 32, 36, 58, 22, 42, 34, 40, 25, 37, 33, 19, 33, 35, 22, 33, 37, 37, 44, 35, 37, 61, 29, 39, 34, 43, 18, 60, 36, 26, 35, 34, 36, 39, 24, 52, 35, 32, 34, 30, 27, 20, 42, 22, 54, 57, 29, 52, 41, 42, 29, 28, 42, 40, 39, 34, 45, 44, 25, 39, 61, 33, 35, 25, 27, 44, 56, 62, 30, 49, 37, 61, 64, 22, 60, 46, 22, 34, 29, 42, 32, 25, 44, 64, 28, 33, 34, 47, 34, 29, 40, 63, 51, 33, 51, 26, 28, 60, 42, 20, 64, 26, 24, 63, 40, 42, 45, 30, 45, 32, 23, 26, 58, 36, 46, 27, 23, 39, 30, 58, 37, 54, 43, 31, 23, 41, 34, 38, 40, 38, 36, 26, 29, 50, 45, 43, 24, 64, 34, 47, 37, 49, 43, 43, 42, 38, 28, 36, 41, 68, 29, 33, 40], \"xaxis\": \"x\", \"y\": [0.7226666666666668, 0.8666666666666668, 0.928, 0.6853333333333333, 0.7733333333333333, 0.752, 0.9493333333333333, 0.6293333333333334, 0.7599999999999999, 0.7093333333333333, 0.8800000000000001, 0.6853333333333335, 0.8613333333333333, 0.7733333333333333, 0.7999999999999999, 0.8826666666666666, 0.8266666666666668, 0.6106666666666667, 0.8559999999999999, 0.8666666666666668, 0.7733333333333333, 0.8480000000000001, 0.7733333333333333, 0.8, 0.7946666666666666, 0.752, 0.768, 0.7733333333333334, 0.7893333333333333, 0.8079999999999999, 0.7759999999999999, 0.7040000000000001, 0.7466666666666667, 0.8480000000000001, 0.7306666666666667, 0.7413333333333333, 0.8133333333333332, 0.7546666666666666, 0.7866666666666666, 0.7386666666666667, 0.7653333333333333, 0.7173333333333335, 0.624, 0.7546666666666666, 0.7093333333333334, 0.7173333333333334, 0.6693333333333333, 0.7653333333333333, 0.7466666666666666, 0.7333333333333334, 0.7733333333333332, 0.7946666666666667, 0.6026666666666667, 0.6293333333333334, 0.8160000000000001, 0.6906666666666668, 0.76, 0.6826666666666666, 0.7866666666666666, 0.768, 0.768, 0.7999999999999999, 0.8186666666666668, 0.7679999999999999, 0.7866666666666667, 0.6399999999999999, 0.6666666666666667, 0.7679999999999999, 0.8933333333333333, 0.616, 0.696, 0.752, 0.6346666666666667, 0.9093333333333332, 0.8133333333333332, 0.7813333333333333, 0.7040000000000001, 0.5946666666666667, 0.7013333333333334, 0.7013333333333334, 0.6613333333333333, 0.5866666666666667, 0.7946666666666667, 0.752, 0.624, 0.76, 0.8053333333333335, 0.6319999999999999, 0.5893333333333333, 0.6719999999999999, 0.6773333333333332, 0.8, 0.8213333333333335, 0.664, 0.6799999999999999, 0.8480000000000001, 0.8186666666666665, 0.6426666666666667, 0.7120000000000001, 0.8079999999999998, 0.8480000000000001, 0.7866666666666666, 0.7866666666666666, 0.7413333333333333, 0.7866666666666667, 0.7786666666666666, 0.8426666666666666, 0.6986666666666667, 0.6986666666666668, 0.8213333333333332, 0.8160000000000001, 0.8400000000000001, 0.752, 0.8266666666666668, 0.7413333333333333, 0.7599999999999999, 0.8906666666666666, 0.7520000000000001, 0.6906666666666668, 0.7813333333333333, 0.8213333333333335, 0.6373333333333334, 0.8293333333333333, 0.7546666666666667, 0.7733333333333332, 0.736, 0.672, 0.8559999999999999, 0.8079999999999998, 0.7040000000000001, 0.7813333333333332, 0.7813333333333333, 0.8880000000000001, 0.8106666666666665, 0.8213333333333335, 0.792, 0.8053333333333335, 0.8, 0.8213333333333332, 0.7040000000000001, 0.7626666666666666, 0.8373333333333333, 0.7733333333333334, 0.7466666666666668, 0.76, 0.8693333333333332, 0.7866666666666668, 0.7306666666666666, 0.768, 0.7733333333333333, 0.6666666666666667, 0.8346666666666668, 0.8, 0.8480000000000001, 0.72, 0.7946666666666666, 0.752, 0.6479999999999999, 0.7813333333333333, 0.7733333333333333, 0.7440000000000001, 0.7546666666666667, 0.7493333333333334, 0.7813333333333332, 0.7226666666666667, 0.6559999999999999, 0.8346666666666666, 0.6186666666666666, 0.8426666666666668, 0.5680000000000001, 0.7146666666666668, 0.7946666666666666, 0.752, 0.6799999999999999, 0.7733333333333333, 0.8880000000000001, 0.7733333333333333, 0.8026666666666668, 0.7866666666666666, 0.8693333333333332, 0.8906666666666666, 0.7466666666666667, 0.752, 0.8079999999999999, 0.7866666666666667, 0.8133333333333332, 0.7386666666666668, 0.7386666666666668, 0.8799999999999999, 0.7866666666666666, 0.792, 0.7999999999999999, 0.76, 0.7733333333333333, 0.7493333333333333, 0.8213333333333335, 0.7786666666666667, 0.8026666666666665, 0.7919999999999999, 0.7946666666666666, 0.7333333333333333, 0.8266666666666668, 0.752, 0.8293333333333333, 0.76, 0.6826666666666666, 0.8399999999999999, 0.8293333333333333, 0.9013333333333332, 0.6853333333333335, 0.8079999999999998, 0.8079999999999999, 0.8133333333333332, 0.76, 0.8346666666666668, 0.8426666666666666, 0.7466666666666668, 0.8426666666666668, 0.7466666666666666, 0.8240000000000001, 0.7413333333333334, 0.7653333333333333, 0.7866666666666666, 0.7413333333333333, 0.7653333333333333, 0.7546666666666666, 0.8613333333333333, 0.8160000000000001, 0.7386666666666668, 0.7893333333333333, 0.792, 0.7893333333333333, 0.7386666666666667, 0.76, 0.8079999999999999, 0.8133333333333332, 0.7120000000000001, 0.8213333333333335, 0.8826666666666668, 0.7386666666666667, 0.8079999999999999, 0.8000000000000002, 0.8959999999999999, 0.8346666666666668, 0.8559999999999999, 0.8426666666666666, 0.768, 0.8026666666666668, 0.7866666666666666, 0.6933333333333334, 0.8213333333333332, 0.736, 0.7946666666666669, 0.7893333333333333, 0.8160000000000001, 0.7946666666666666, 0.752, 0.76, 0.7226666666666668, 0.76, 0.8480000000000001, 0.7413333333333333, 0.7946666666666666, 0.8079999999999999, 0.7653333333333333, 0.752, 0.752, 0.8213333333333332, 0.7999999999999999, 0.7599999999999999, 0.8613333333333333, 0.7120000000000001, 0.7866666666666666, 0.9173333333333332, 0.7839999999999999, 0.8693333333333332, 0.7439999999999999, 0.7813333333333333, 0.7946666666666666, 0.8480000000000001, 0.8693333333333333, 0.7813333333333333, 0.7546666666666668, 0.7813333333333333, 0.7893333333333333, 0.7386666666666668, 0.7866666666666668, 0.8266666666666668, 0.9306666666666664, 0.8746666666666668, 0.7946666666666667, 0.7466666666666668, 0.8480000000000001, 0.768, 0.7120000000000001, 0.72, 0.7146666666666668, 0.76, 0.616, 0.8133333333333335, 0.7546666666666666, 0.7493333333333334, 0.7173333333333334, 0.6346666666666667, 0.8480000000000001, 0.6293333333333334, 0.6933333333333332, 0.8346666666666668, 0.7813333333333333, 0.7946666666666666, 0.7386666666666667, 0.7759999999999999, 0.8079999999999998, 0.6746666666666667, 0.8346666666666666, 0.696, 0.904, 0.7466666666666668, 0.7946666666666666, 0.768, 0.784, 0.7466666666666666, 0.7466666666666667, 0.9066666666666666, 0.6693333333333333, 0.6853333333333333, 0.7999999999999999, 0.8426666666666666, 0.7253333333333333, 0.8213333333333335, 0.7040000000000001, 0.6853333333333332, 0.7093333333333334, 0.7466666666666666, 0.76, 0.7413333333333333, 0.7546666666666668, 0.6613333333333333, 0.7146666666666668, 0.7893333333333333, 0.8213333333333335, 0.904, 0.8079999999999999, 0.7733333333333333, 0.7226666666666667, 0.8826666666666666, 0.7759999999999999, 0.68, 0.7919999999999999, 0.72, 0.6613333333333333, 0.6853333333333333, 0.8080000000000002, 0.5946666666666667, 0.8106666666666668, 0.8, 0.8346666666666668, 0.6533333333333334, 0.8, 0.7093333333333333, 0.8346666666666668, 0.6773333333333333, 0.8746666666666668, 0.7946666666666666, 0.76, 0.7653333333333333, 0.9013333333333332, 0.6773333333333333, 0.6559999999999999, 0.8773333333333333, 0.6986666666666667, 0.9173333333333332, 0.7173333333333335, 0.9093333333333332, 0.8266666666666668, 0.7386666666666668, 0.7466666666666666, 0.7120000000000001, 0.7573333333333335, 0.9306666666666666, 0.8320000000000001], \"yaxis\": \"y\"}],                        {\"legend\": {\"tracegroupgap\": 0}, \"template\": {\"data\": {\"bar\": [{\"error_x\": {\"color\": \"#2a3f5f\"}, \"error_y\": {\"color\": \"#2a3f5f\"}, \"marker\": {\"line\": {\"color\": \"#E5ECF6\", \"width\": 0.5}}, \"type\": \"bar\"}], \"barpolar\": [{\"marker\": {\"line\": {\"color\": \"#E5ECF6\", \"width\": 0.5}}, \"type\": \"barpolar\"}], \"carpet\": [{\"aaxis\": {\"endlinecolor\": \"#2a3f5f\", \"gridcolor\": \"white\", \"linecolor\": \"white\", \"minorgridcolor\": \"white\", \"startlinecolor\": \"#2a3f5f\"}, \"baxis\": {\"endlinecolor\": \"#2a3f5f\", \"gridcolor\": \"white\", \"linecolor\": \"white\", \"minorgridcolor\": \"white\", \"startlinecolor\": \"#2a3f5f\"}, \"type\": \"carpet\"}], \"choropleth\": [{\"colorbar\": {\"outlinewidth\": 0, \"ticks\": \"\"}, \"type\": \"choropleth\"}], \"contour\": [{\"colorbar\": {\"outlinewidth\": 0, \"ticks\": \"\"}, \"colorscale\": [[0.0, \"#0d0887\"], [0.1111111111111111, \"#46039f\"], [0.2222222222222222, \"#7201a8\"], [0.3333333333333333, \"#9c179e\"], [0.4444444444444444, \"#bd3786\"], [0.5555555555555556, \"#d8576b\"], [0.6666666666666666, \"#ed7953\"], [0.7777777777777778, \"#fb9f3a\"], [0.8888888888888888, \"#fdca26\"], [1.0, \"#f0f921\"]], \"type\": \"contour\"}], \"contourcarpet\": [{\"colorbar\": {\"outlinewidth\": 0, \"ticks\": \"\"}, \"type\": \"contourcarpet\"}], \"heatmap\": [{\"colorbar\": {\"outlinewidth\": 0, \"ticks\": \"\"}, \"colorscale\": [[0.0, \"#0d0887\"], [0.1111111111111111, \"#46039f\"], [0.2222222222222222, \"#7201a8\"], [0.3333333333333333, \"#9c179e\"], [0.4444444444444444, \"#bd3786\"], [0.5555555555555556, \"#d8576b\"], [0.6666666666666666, \"#ed7953\"], [0.7777777777777778, \"#fb9f3a\"], [0.8888888888888888, \"#fdca26\"], [1.0, \"#f0f921\"]], \"type\": \"heatmap\"}], \"heatmapgl\": [{\"colorbar\": {\"outlinewidth\": 0, \"ticks\": \"\"}, \"colorscale\": [[0.0, \"#0d0887\"], [0.1111111111111111, \"#46039f\"], [0.2222222222222222, \"#7201a8\"], [0.3333333333333333, \"#9c179e\"], [0.4444444444444444, \"#bd3786\"], [0.5555555555555556, \"#d8576b\"], [0.6666666666666666, \"#ed7953\"], [0.7777777777777778, \"#fb9f3a\"], [0.8888888888888888, \"#fdca26\"], [1.0, \"#f0f921\"]], \"type\": \"heatmapgl\"}], \"histogram\": [{\"marker\": {\"colorbar\": {\"outlinewidth\": 0, \"ticks\": \"\"}}, \"type\": \"histogram\"}], \"histogram2d\": [{\"colorbar\": {\"outlinewidth\": 0, \"ticks\": \"\"}, \"colorscale\": [[0.0, \"#0d0887\"], [0.1111111111111111, \"#46039f\"], [0.2222222222222222, \"#7201a8\"], [0.3333333333333333, \"#9c179e\"], [0.4444444444444444, \"#bd3786\"], [0.5555555555555556, \"#d8576b\"], [0.6666666666666666, \"#ed7953\"], [0.7777777777777778, \"#fb9f3a\"], [0.8888888888888888, \"#fdca26\"], [1.0, \"#f0f921\"]], \"type\": \"histogram2d\"}], \"histogram2dcontour\": [{\"colorbar\": {\"outlinewidth\": 0, \"ticks\": \"\"}, \"colorscale\": [[0.0, \"#0d0887\"], [0.1111111111111111, \"#46039f\"], [0.2222222222222222, \"#7201a8\"], [0.3333333333333333, \"#9c179e\"], [0.4444444444444444, \"#bd3786\"], [0.5555555555555556, \"#d8576b\"], [0.6666666666666666, \"#ed7953\"], [0.7777777777777778, \"#fb9f3a\"], [0.8888888888888888, \"#fdca26\"], [1.0, \"#f0f921\"]], \"type\": \"histogram2dcontour\"}], \"mesh3d\": [{\"colorbar\": {\"outlinewidth\": 0, \"ticks\": \"\"}, \"type\": \"mesh3d\"}], \"parcoords\": [{\"line\": {\"colorbar\": {\"outlinewidth\": 0, \"ticks\": \"\"}}, \"type\": \"parcoords\"}], \"pie\": [{\"automargin\": true, \"type\": \"pie\"}], \"scatter\": [{\"marker\": {\"colorbar\": {\"outlinewidth\": 0, \"ticks\": \"\"}}, \"type\": \"scatter\"}], \"scatter3d\": [{\"line\": {\"colorbar\": {\"outlinewidth\": 0, \"ticks\": \"\"}}, \"marker\": {\"colorbar\": {\"outlinewidth\": 0, \"ticks\": \"\"}}, \"type\": \"scatter3d\"}], \"scattercarpet\": [{\"marker\": {\"colorbar\": {\"outlinewidth\": 0, \"ticks\": \"\"}}, \"type\": \"scattercarpet\"}], \"scattergeo\": [{\"marker\": {\"colorbar\": {\"outlinewidth\": 0, \"ticks\": \"\"}}, \"type\": \"scattergeo\"}], \"scattergl\": [{\"marker\": {\"colorbar\": {\"outlinewidth\": 0, \"ticks\": \"\"}}, \"type\": \"scattergl\"}], \"scattermapbox\": [{\"marker\": {\"colorbar\": {\"outlinewidth\": 0, \"ticks\": \"\"}}, \"type\": \"scattermapbox\"}], \"scatterpolar\": [{\"marker\": {\"colorbar\": {\"outlinewidth\": 0, \"ticks\": \"\"}}, \"type\": \"scatterpolar\"}], \"scatterpolargl\": [{\"marker\": {\"colorbar\": {\"outlinewidth\": 0, \"ticks\": \"\"}}, \"type\": \"scatterpolargl\"}], \"scatterternary\": [{\"marker\": {\"colorbar\": {\"outlinewidth\": 0, \"ticks\": \"\"}}, \"type\": \"scatterternary\"}], \"surface\": [{\"colorbar\": {\"outlinewidth\": 0, \"ticks\": \"\"}, \"colorscale\": [[0.0, \"#0d0887\"], [0.1111111111111111, \"#46039f\"], [0.2222222222222222, \"#7201a8\"], [0.3333333333333333, \"#9c179e\"], [0.4444444444444444, \"#bd3786\"], [0.5555555555555556, \"#d8576b\"], [0.6666666666666666, \"#ed7953\"], [0.7777777777777778, \"#fb9f3a\"], [0.8888888888888888, \"#fdca26\"], [1.0, \"#f0f921\"]], \"type\": \"surface\"}], \"table\": [{\"cells\": {\"fill\": {\"color\": \"#EBF0F8\"}, \"line\": {\"color\": \"white\"}}, \"header\": {\"fill\": {\"color\": \"#C8D4E3\"}, \"line\": {\"color\": \"white\"}}, \"type\": \"table\"}]}, \"layout\": {\"annotationdefaults\": {\"arrowcolor\": \"#2a3f5f\", \"arrowhead\": 0, \"arrowwidth\": 1}, \"autotypenumbers\": \"strict\", \"coloraxis\": {\"colorbar\": {\"outlinewidth\": 0, \"ticks\": \"\"}}, \"colorscale\": {\"diverging\": [[0, \"#8e0152\"], [0.1, \"#c51b7d\"], [0.2, \"#de77ae\"], [0.3, \"#f1b6da\"], [0.4, \"#fde0ef\"], [0.5, \"#f7f7f7\"], [0.6, \"#e6f5d0\"], [0.7, \"#b8e186\"], [0.8, \"#7fbc41\"], [0.9, \"#4d9221\"], [1, \"#276419\"]], \"sequential\": [[0.0, \"#0d0887\"], [0.1111111111111111, \"#46039f\"], [0.2222222222222222, \"#7201a8\"], [0.3333333333333333, \"#9c179e\"], [0.4444444444444444, \"#bd3786\"], [0.5555555555555556, \"#d8576b\"], [0.6666666666666666, \"#ed7953\"], [0.7777777777777778, \"#fb9f3a\"], [0.8888888888888888, \"#fdca26\"], [1.0, \"#f0f921\"]], \"sequentialminus\": [[0.0, \"#0d0887\"], [0.1111111111111111, \"#46039f\"], [0.2222222222222222, \"#7201a8\"], [0.3333333333333333, \"#9c179e\"], [0.4444444444444444, \"#bd3786\"], [0.5555555555555556, \"#d8576b\"], [0.6666666666666666, \"#ed7953\"], [0.7777777777777778, \"#fb9f3a\"], [0.8888888888888888, \"#fdca26\"], [1.0, \"#f0f921\"]]}, \"colorway\": [\"#636efa\", \"#EF553B\", \"#00cc96\", \"#ab63fa\", \"#FFA15A\", \"#19d3f3\", \"#FF6692\", \"#B6E880\", \"#FF97FF\", \"#FECB52\"], \"font\": {\"color\": \"#2a3f5f\"}, \"geo\": {\"bgcolor\": \"white\", \"lakecolor\": \"white\", \"landcolor\": \"#E5ECF6\", \"showlakes\": true, \"showland\": true, \"subunitcolor\": \"white\"}, \"hoverlabel\": {\"align\": \"left\"}, \"hovermode\": \"closest\", \"mapbox\": {\"style\": \"light\"}, \"paper_bgcolor\": \"white\", \"plot_bgcolor\": \"#E5ECF6\", \"polar\": {\"angularaxis\": {\"gridcolor\": \"white\", \"linecolor\": \"white\", \"ticks\": \"\"}, \"bgcolor\": \"#E5ECF6\", \"radialaxis\": {\"gridcolor\": \"white\", \"linecolor\": \"white\", \"ticks\": \"\"}}, \"scene\": {\"xaxis\": {\"backgroundcolor\": \"#E5ECF6\", \"gridcolor\": \"white\", \"gridwidth\": 2, \"linecolor\": \"white\", \"showbackground\": true, \"ticks\": \"\", \"zerolinecolor\": \"white\"}, \"yaxis\": {\"backgroundcolor\": \"#E5ECF6\", \"gridcolor\": \"white\", \"gridwidth\": 2, \"linecolor\": \"white\", \"showbackground\": true, \"ticks\": \"\", \"zerolinecolor\": \"white\"}, \"zaxis\": {\"backgroundcolor\": \"#E5ECF6\", \"gridcolor\": \"white\", \"gridwidth\": 2, \"linecolor\": \"white\", \"showbackground\": true, \"ticks\": \"\", \"zerolinecolor\": \"white\"}}, \"shapedefaults\": {\"line\": {\"color\": \"#2a3f5f\"}}, \"ternary\": {\"aaxis\": {\"gridcolor\": \"white\", \"linecolor\": \"white\", \"ticks\": \"\"}, \"baxis\": {\"gridcolor\": \"white\", \"linecolor\": \"white\", \"ticks\": \"\"}, \"bgcolor\": \"#E5ECF6\", \"caxis\": {\"gridcolor\": \"white\", \"linecolor\": \"white\", \"ticks\": \"\"}}, \"title\": {\"x\": 0.05}, \"xaxis\": {\"automargin\": true, \"gridcolor\": \"white\", \"linecolor\": \"white\", \"ticks\": \"\", \"title\": {\"standoff\": 15}, \"zerolinecolor\": \"white\", \"zerolinewidth\": 2}, \"yaxis\": {\"automargin\": true, \"gridcolor\": \"white\", \"linecolor\": \"white\", \"ticks\": \"\", \"title\": {\"standoff\": 15}, \"zerolinecolor\": \"white\", \"zerolinewidth\": 2}}}, \"title\": {\"text\": \"Satisfaction by Age\"}, \"xaxis\": {\"anchor\": \"y\", \"domain\": [0.0, 1.0], \"title\": {\"text\": \"current_age\"}}, \"yaxis\": {\"anchor\": \"x\", \"domain\": [0.0, 1.0], \"title\": {\"text\": \"overall\"}}},                        {\"responsive\": true}                    ).then(function(){\n                            \nvar gd = document.getElementById('1eaddd03-c20f-4a47-87a8-6c19d8f82bd6');\nvar x = new MutationObserver(function (mutations, observer) {{\n        var display = window.getComputedStyle(gd).display;\n        if (!display || display === 'none') {{\n            console.log([gd, 'removed!']);\n            Plotly.purge(gd);\n            observer.disconnect();\n        }}\n}});\n\n// Listen for the removal of the full notebook cells\nvar notebookContainer = gd.closest('#notebook-container');\nif (notebookContainer) {{\n    x.observe(notebookContainer, {childList: true});\n}}\n\n// Listen for the clearing of the current output cell\nvar outputEl = gd.closest('.output');\nif (outputEl) {{\n    x.observe(outputEl, {childList: true});\n}}\n\n                        })                };                });            </script>        </div>"
     },
     "metadata": {}
    }
   ],
   "source": [
    "px.scatter(df, x='current_age', y='overall', title='Satisfaction by Age')"
   ]
  },
  {
   "cell_type": "code",
   "execution_count": 15,
   "metadata": {},
   "outputs": [],
   "source": [
    "import seaborn as sns\n",
    "sns.set_theme(color_codes=True)"
   ]
  },
  {
   "cell_type": "code",
   "execution_count": 16,
   "metadata": {},
   "outputs": [
    {
     "output_type": "display_data",
     "data": {
      "text/plain": "<Figure size 432x288 with 1 Axes>",
      "image/svg+xml": "<?xml version=\"1.0\" encoding=\"utf-8\" standalone=\"no\"?>\r\n<!DOCTYPE svg PUBLIC \"-//W3C//DTD SVG 1.1//EN\"\r\n  \"http://www.w3.org/Graphics/SVG/1.1/DTD/svg11.dtd\">\r\n<!-- Created with matplotlib (https://matplotlib.org/) -->\r\n<svg height=\"266.514844pt\" version=\"1.1\" viewBox=\"0 0 395.081406 266.514844\" width=\"395.081406pt\" xmlns=\"http://www.w3.org/2000/svg\" xmlns:xlink=\"http://www.w3.org/1999/xlink\">\r\n <metadata>\r\n  <rdf:RDF xmlns:cc=\"http://creativecommons.org/ns#\" xmlns:dc=\"http://purl.org/dc/elements/1.1/\" xmlns:rdf=\"http://www.w3.org/1999/02/22-rdf-syntax-ns#\">\r\n   <cc:Work>\r\n    <dc:type rdf:resource=\"http://purl.org/dc/dcmitype/StillImage\"/>\r\n    <dc:date>2021-06-10T20:27:09.992898</dc:date>\r\n    <dc:format>image/svg+xml</dc:format>\r\n    <dc:creator>\r\n     <cc:Agent>\r\n      <dc:title>Matplotlib v3.3.2, https://matplotlib.org/</dc:title>\r\n     </cc:Agent>\r\n    </dc:creator>\r\n   </cc:Work>\r\n  </rdf:RDF>\r\n </metadata>\r\n <defs>\r\n  <style type=\"text/css\">*{stroke-linecap:butt;stroke-linejoin:round;}</style>\r\n </defs>\r\n <g id=\"figure_1\">\r\n  <g id=\"patch_1\">\r\n   <path d=\"M -0 266.514844 \r\nL 395.081406 266.514844 \r\nL 395.081406 0 \r\nL -0 0 \r\nz\r\n\" style=\"fill:#ffffff;\"/>\r\n  </g>\r\n  <g id=\"axes_1\">\r\n   <g id=\"patch_2\">\r\n    <path d=\"M 53.081406 224.64 \r\nL 387.881406 224.64 \r\nL 387.881406 7.2 \r\nL 53.081406 7.2 \r\nz\r\n\" style=\"fill:#eaeaf2;\"/>\r\n   </g>\r\n   <g id=\"matplotlib.axis_1\">\r\n    <g id=\"xtick_1\">\r\n     <g id=\"line2d_1\">\r\n      <path clip-path=\"url(#p522cf7c682)\" d=\"M 99.726319 224.64 \r\nL 99.726319 7.2 \r\n\" style=\"fill:none;stroke:#ffffff;stroke-linecap:round;\"/>\r\n     </g>\r\n     <g id=\"text_1\">\r\n      <!-- 10 -->\r\n      <g style=\"fill:#262626;\" transform=\"translate(93.609288 242.013594)scale(0.11 -0.11)\">\r\n       <defs>\r\n        <path d=\"M 37.25 0 \r\nL 28.46875 0 \r\nL 28.46875 56 \r\nQ 25.296875 52.984375 20.140625 49.953125 \r\nQ 14.984375 46.921875 10.890625 45.40625 \r\nL 10.890625 53.90625 \r\nQ 18.265625 57.375 23.78125 62.296875 \r\nQ 29.296875 67.234375 31.59375 71.875 \r\nL 37.25 71.875 \r\nz\r\n\" id=\"ArialMT-49\"/>\r\n        <path d=\"M 4.15625 35.296875 \r\nQ 4.15625 48 6.765625 55.734375 \r\nQ 9.375 63.484375 14.515625 67.671875 \r\nQ 19.671875 71.875 27.484375 71.875 \r\nQ 33.25 71.875 37.59375 69.546875 \r\nQ 41.9375 67.234375 44.765625 62.859375 \r\nQ 47.609375 58.5 49.21875 52.21875 \r\nQ 50.828125 45.953125 50.828125 35.296875 \r\nQ 50.828125 22.703125 48.234375 14.96875 \r\nQ 45.65625 7.234375 40.5 3 \r\nQ 35.359375 -1.21875 27.484375 -1.21875 \r\nQ 17.140625 -1.21875 11.234375 6.203125 \r\nQ 4.15625 15.140625 4.15625 35.296875 \r\nz\r\nM 13.1875 35.296875 \r\nQ 13.1875 17.671875 17.3125 11.828125 \r\nQ 21.4375 6 27.484375 6 \r\nQ 33.546875 6 37.671875 11.859375 \r\nQ 41.796875 17.71875 41.796875 35.296875 \r\nQ 41.796875 52.984375 37.671875 58.78125 \r\nQ 33.546875 64.59375 27.390625 64.59375 \r\nQ 21.34375 64.59375 17.71875 59.46875 \r\nQ 13.1875 52.9375 13.1875 35.296875 \r\nz\r\n\" id=\"ArialMT-48\"/>\r\n       </defs>\r\n       <use xlink:href=\"#ArialMT-49\"/>\r\n       <use x=\"55.615234\" xlink:href=\"#ArialMT-48\"/>\r\n      </g>\r\n     </g>\r\n    </g>\r\n    <g id=\"xtick_2\">\r\n     <g id=\"line2d_2\">\r\n      <path clip-path=\"url(#p522cf7c682)\" d=\"M 146.524669 224.64 \r\nL 146.524669 7.2 \r\n\" style=\"fill:none;stroke:#ffffff;stroke-linecap:round;\"/>\r\n     </g>\r\n     <g id=\"text_2\">\r\n      <!-- 20 -->\r\n      <g style=\"fill:#262626;\" transform=\"translate(140.407638 242.013594)scale(0.11 -0.11)\">\r\n       <defs>\r\n        <path d=\"M 50.34375 8.453125 \r\nL 50.34375 0 \r\nL 3.03125 0 \r\nQ 2.9375 3.171875 4.046875 6.109375 \r\nQ 5.859375 10.9375 9.828125 15.625 \r\nQ 13.8125 20.3125 21.34375 26.46875 \r\nQ 33.015625 36.03125 37.109375 41.625 \r\nQ 41.21875 47.21875 41.21875 52.203125 \r\nQ 41.21875 57.421875 37.46875 61 \r\nQ 33.734375 64.59375 27.734375 64.59375 \r\nQ 21.390625 64.59375 17.578125 60.78125 \r\nQ 13.765625 56.984375 13.71875 50.25 \r\nL 4.6875 51.171875 \r\nQ 5.609375 61.28125 11.65625 66.578125 \r\nQ 17.71875 71.875 27.9375 71.875 \r\nQ 38.234375 71.875 44.234375 66.15625 \r\nQ 50.25 60.453125 50.25 52 \r\nQ 50.25 47.703125 48.484375 43.546875 \r\nQ 46.734375 39.40625 42.65625 34.8125 \r\nQ 38.578125 30.21875 29.109375 22.21875 \r\nQ 21.1875 15.578125 18.9375 13.203125 \r\nQ 16.703125 10.84375 15.234375 8.453125 \r\nz\r\n\" id=\"ArialMT-50\"/>\r\n       </defs>\r\n       <use xlink:href=\"#ArialMT-50\"/>\r\n       <use x=\"55.615234\" xlink:href=\"#ArialMT-48\"/>\r\n      </g>\r\n     </g>\r\n    </g>\r\n    <g id=\"xtick_3\">\r\n     <g id=\"line2d_3\">\r\n      <path clip-path=\"url(#p522cf7c682)\" d=\"M 193.323019 224.64 \r\nL 193.323019 7.2 \r\n\" style=\"fill:none;stroke:#ffffff;stroke-linecap:round;\"/>\r\n     </g>\r\n     <g id=\"text_3\">\r\n      <!-- 30 -->\r\n      <g style=\"fill:#262626;\" transform=\"translate(187.205988 242.013594)scale(0.11 -0.11)\">\r\n       <defs>\r\n        <path d=\"M 4.203125 18.890625 \r\nL 12.984375 20.0625 \r\nQ 14.5 12.59375 18.140625 9.296875 \r\nQ 21.78125 6 27 6 \r\nQ 33.203125 6 37.46875 10.296875 \r\nQ 41.75 14.59375 41.75 20.953125 \r\nQ 41.75 27 37.796875 30.921875 \r\nQ 33.84375 34.859375 27.734375 34.859375 \r\nQ 25.25 34.859375 21.53125 33.890625 \r\nL 22.515625 41.609375 \r\nQ 23.390625 41.5 23.921875 41.5 \r\nQ 29.546875 41.5 34.03125 44.421875 \r\nQ 38.53125 47.359375 38.53125 53.46875 \r\nQ 38.53125 58.296875 35.25 61.46875 \r\nQ 31.984375 64.65625 26.8125 64.65625 \r\nQ 21.6875 64.65625 18.265625 61.421875 \r\nQ 14.84375 58.203125 13.875 51.765625 \r\nL 5.078125 53.328125 \r\nQ 6.6875 62.15625 12.390625 67.015625 \r\nQ 18.109375 71.875 26.609375 71.875 \r\nQ 32.46875 71.875 37.390625 69.359375 \r\nQ 42.328125 66.84375 44.9375 62.5 \r\nQ 47.5625 58.15625 47.5625 53.265625 \r\nQ 47.5625 48.640625 45.0625 44.828125 \r\nQ 42.578125 41.015625 37.703125 38.765625 \r\nQ 44.046875 37.3125 47.5625 32.6875 \r\nQ 51.078125 28.078125 51.078125 21.140625 \r\nQ 51.078125 11.765625 44.234375 5.25 \r\nQ 37.40625 -1.265625 26.953125 -1.265625 \r\nQ 17.53125 -1.265625 11.296875 4.34375 \r\nQ 5.078125 9.96875 4.203125 18.890625 \r\nz\r\n\" id=\"ArialMT-51\"/>\r\n       </defs>\r\n       <use xlink:href=\"#ArialMT-51\"/>\r\n       <use x=\"55.615234\" xlink:href=\"#ArialMT-48\"/>\r\n      </g>\r\n     </g>\r\n    </g>\r\n    <g id=\"xtick_4\">\r\n     <g id=\"line2d_4\">\r\n      <path clip-path=\"url(#p522cf7c682)\" d=\"M 240.12137 224.64 \r\nL 240.12137 7.2 \r\n\" style=\"fill:none;stroke:#ffffff;stroke-linecap:round;\"/>\r\n     </g>\r\n     <g id=\"text_4\">\r\n      <!-- 40 -->\r\n      <g style=\"fill:#262626;\" transform=\"translate(234.004338 242.013594)scale(0.11 -0.11)\">\r\n       <defs>\r\n        <path d=\"M 32.328125 0 \r\nL 32.328125 17.140625 \r\nL 1.265625 17.140625 \r\nL 1.265625 25.203125 \r\nL 33.9375 71.578125 \r\nL 41.109375 71.578125 \r\nL 41.109375 25.203125 \r\nL 50.78125 25.203125 \r\nL 50.78125 17.140625 \r\nL 41.109375 17.140625 \r\nL 41.109375 0 \r\nz\r\nM 32.328125 25.203125 \r\nL 32.328125 57.46875 \r\nL 9.90625 25.203125 \r\nz\r\n\" id=\"ArialMT-52\"/>\r\n       </defs>\r\n       <use xlink:href=\"#ArialMT-52\"/>\r\n       <use x=\"55.615234\" xlink:href=\"#ArialMT-48\"/>\r\n      </g>\r\n     </g>\r\n    </g>\r\n    <g id=\"xtick_5\">\r\n     <g id=\"line2d_5\">\r\n      <path clip-path=\"url(#p522cf7c682)\" d=\"M 286.91972 224.64 \r\nL 286.91972 7.2 \r\n\" style=\"fill:none;stroke:#ffffff;stroke-linecap:round;\"/>\r\n     </g>\r\n     <g id=\"text_5\">\r\n      <!-- 50 -->\r\n      <g style=\"fill:#262626;\" transform=\"translate(280.802688 242.013594)scale(0.11 -0.11)\">\r\n       <defs>\r\n        <path d=\"M 4.15625 18.75 \r\nL 13.375 19.53125 \r\nQ 14.40625 12.796875 18.140625 9.390625 \r\nQ 21.875 6 27.15625 6 \r\nQ 33.5 6 37.890625 10.78125 \r\nQ 42.28125 15.578125 42.28125 23.484375 \r\nQ 42.28125 31 38.0625 35.34375 \r\nQ 33.84375 39.703125 27 39.703125 \r\nQ 22.75 39.703125 19.328125 37.765625 \r\nQ 15.921875 35.84375 13.96875 32.765625 \r\nL 5.71875 33.84375 \r\nL 12.640625 70.609375 \r\nL 48.25 70.609375 \r\nL 48.25 62.203125 \r\nL 19.671875 62.203125 \r\nL 15.828125 42.96875 \r\nQ 22.265625 47.46875 29.34375 47.46875 \r\nQ 38.71875 47.46875 45.15625 40.96875 \r\nQ 51.609375 34.46875 51.609375 24.265625 \r\nQ 51.609375 14.546875 45.953125 7.46875 \r\nQ 39.0625 -1.21875 27.15625 -1.21875 \r\nQ 17.390625 -1.21875 11.203125 4.25 \r\nQ 5.03125 9.71875 4.15625 18.75 \r\nz\r\n\" id=\"ArialMT-53\"/>\r\n       </defs>\r\n       <use xlink:href=\"#ArialMT-53\"/>\r\n       <use x=\"55.615234\" xlink:href=\"#ArialMT-48\"/>\r\n      </g>\r\n     </g>\r\n    </g>\r\n    <g id=\"xtick_6\">\r\n     <g id=\"line2d_6\">\r\n      <path clip-path=\"url(#p522cf7c682)\" d=\"M 333.71807 224.64 \r\nL 333.71807 7.2 \r\n\" style=\"fill:none;stroke:#ffffff;stroke-linecap:round;\"/>\r\n     </g>\r\n     <g id=\"text_6\">\r\n      <!-- 60 -->\r\n      <g style=\"fill:#262626;\" transform=\"translate(327.601039 242.013594)scale(0.11 -0.11)\">\r\n       <defs>\r\n        <path d=\"M 49.75 54.046875 \r\nL 41.015625 53.375 \r\nQ 39.84375 58.546875 37.703125 60.890625 \r\nQ 34.125 64.65625 28.90625 64.65625 \r\nQ 24.703125 64.65625 21.53125 62.3125 \r\nQ 17.390625 59.28125 14.984375 53.46875 \r\nQ 12.59375 47.65625 12.5 36.921875 \r\nQ 15.671875 41.75 20.265625 44.09375 \r\nQ 24.859375 46.4375 29.890625 46.4375 \r\nQ 38.671875 46.4375 44.84375 39.96875 \r\nQ 51.03125 33.5 51.03125 23.25 \r\nQ 51.03125 16.5 48.125 10.71875 \r\nQ 45.21875 4.9375 40.140625 1.859375 \r\nQ 35.0625 -1.21875 28.609375 -1.21875 \r\nQ 17.625 -1.21875 10.6875 6.859375 \r\nQ 3.765625 14.9375 3.765625 33.5 \r\nQ 3.765625 54.25 11.421875 63.671875 \r\nQ 18.109375 71.875 29.4375 71.875 \r\nQ 37.890625 71.875 43.28125 67.140625 \r\nQ 48.6875 62.40625 49.75 54.046875 \r\nz\r\nM 13.875 23.1875 \r\nQ 13.875 18.65625 15.796875 14.5 \r\nQ 17.71875 10.359375 21.1875 8.171875 \r\nQ 24.65625 6 28.46875 6 \r\nQ 34.03125 6 38.03125 10.484375 \r\nQ 42.046875 14.984375 42.046875 22.703125 \r\nQ 42.046875 30.125 38.078125 34.390625 \r\nQ 34.125 38.671875 28.125 38.671875 \r\nQ 22.171875 38.671875 18.015625 34.390625 \r\nQ 13.875 30.125 13.875 23.1875 \r\nz\r\n\" id=\"ArialMT-54\"/>\r\n       </defs>\r\n       <use xlink:href=\"#ArialMT-54\"/>\r\n       <use x=\"55.615234\" xlink:href=\"#ArialMT-48\"/>\r\n      </g>\r\n     </g>\r\n    </g>\r\n    <g id=\"xtick_7\">\r\n     <g id=\"line2d_7\">\r\n      <path clip-path=\"url(#p522cf7c682)\" d=\"M 380.51642 224.64 \r\nL 380.51642 7.2 \r\n\" style=\"fill:none;stroke:#ffffff;stroke-linecap:round;\"/>\r\n     </g>\r\n     <g id=\"text_7\">\r\n      <!-- 70 -->\r\n      <g style=\"fill:#262626;\" transform=\"translate(374.399389 242.013594)scale(0.11 -0.11)\">\r\n       <defs>\r\n        <path d=\"M 4.734375 62.203125 \r\nL 4.734375 70.65625 \r\nL 51.078125 70.65625 \r\nL 51.078125 63.8125 \r\nQ 44.234375 56.546875 37.515625 44.484375 \r\nQ 30.8125 32.421875 27.15625 19.671875 \r\nQ 24.515625 10.6875 23.78125 0 \r\nL 14.75 0 \r\nQ 14.890625 8.453125 18.0625 20.40625 \r\nQ 21.234375 32.375 27.171875 43.484375 \r\nQ 33.109375 54.59375 39.796875 62.203125 \r\nz\r\n\" id=\"ArialMT-55\"/>\r\n       </defs>\r\n       <use xlink:href=\"#ArialMT-55\"/>\r\n       <use x=\"55.615234\" xlink:href=\"#ArialMT-48\"/>\r\n      </g>\r\n     </g>\r\n    </g>\r\n    <g id=\"text_8\">\r\n     <!-- time_on_the_job -->\r\n     <g style=\"fill:#262626;\" transform=\"translate(176.117969 256.789219)scale(0.12 -0.12)\">\r\n      <defs>\r\n       <path d=\"M 25.78125 7.859375 \r\nL 27.046875 0.09375 \r\nQ 23.34375 -0.6875 20.40625 -0.6875 \r\nQ 15.625 -0.6875 12.984375 0.828125 \r\nQ 10.359375 2.34375 9.28125 4.8125 \r\nQ 8.203125 7.28125 8.203125 15.1875 \r\nL 8.203125 45.015625 \r\nL 1.765625 45.015625 \r\nL 1.765625 51.859375 \r\nL 8.203125 51.859375 \r\nL 8.203125 64.703125 \r\nL 16.9375 69.96875 \r\nL 16.9375 51.859375 \r\nL 25.78125 51.859375 \r\nL 25.78125 45.015625 \r\nL 16.9375 45.015625 \r\nL 16.9375 14.703125 \r\nQ 16.9375 10.9375 17.40625 9.859375 \r\nQ 17.875 8.796875 18.921875 8.15625 \r\nQ 19.96875 7.515625 21.921875 7.515625 \r\nQ 23.390625 7.515625 25.78125 7.859375 \r\nz\r\n\" id=\"ArialMT-116\"/>\r\n       <path d=\"M 6.640625 61.46875 \r\nL 6.640625 71.578125 \r\nL 15.4375 71.578125 \r\nL 15.4375 61.46875 \r\nz\r\nM 6.640625 0 \r\nL 6.640625 51.859375 \r\nL 15.4375 51.859375 \r\nL 15.4375 0 \r\nz\r\n\" id=\"ArialMT-105\"/>\r\n       <path d=\"M 6.59375 0 \r\nL 6.59375 51.859375 \r\nL 14.453125 51.859375 \r\nL 14.453125 44.578125 \r\nQ 16.890625 48.390625 20.9375 50.703125 \r\nQ 25 53.03125 30.171875 53.03125 \r\nQ 35.9375 53.03125 39.625 50.640625 \r\nQ 43.3125 48.25 44.828125 43.953125 \r\nQ 50.984375 53.03125 60.84375 53.03125 \r\nQ 68.5625 53.03125 72.703125 48.75 \r\nQ 76.859375 44.484375 76.859375 35.59375 \r\nL 76.859375 0 \r\nL 68.109375 0 \r\nL 68.109375 32.671875 \r\nQ 68.109375 37.9375 67.25 40.25 \r\nQ 66.40625 42.578125 64.15625 43.984375 \r\nQ 61.921875 45.40625 58.890625 45.40625 \r\nQ 53.421875 45.40625 49.796875 41.765625 \r\nQ 46.1875 38.140625 46.1875 30.125 \r\nL 46.1875 0 \r\nL 37.40625 0 \r\nL 37.40625 33.6875 \r\nQ 37.40625 39.546875 35.25 42.46875 \r\nQ 33.109375 45.40625 28.21875 45.40625 \r\nQ 24.515625 45.40625 21.359375 43.453125 \r\nQ 18.21875 41.5 16.796875 37.734375 \r\nQ 15.375 33.984375 15.375 26.90625 \r\nL 15.375 0 \r\nz\r\n\" id=\"ArialMT-109\"/>\r\n       <path d=\"M 42.09375 16.703125 \r\nL 51.171875 15.578125 \r\nQ 49.03125 7.625 43.21875 3.21875 \r\nQ 37.40625 -1.171875 28.375 -1.171875 \r\nQ 17 -1.171875 10.328125 5.828125 \r\nQ 3.65625 12.84375 3.65625 25.484375 \r\nQ 3.65625 38.578125 10.390625 45.796875 \r\nQ 17.140625 53.03125 27.875 53.03125 \r\nQ 38.28125 53.03125 44.875 45.953125 \r\nQ 51.46875 38.875 51.46875 26.03125 \r\nQ 51.46875 25.25 51.421875 23.6875 \r\nL 12.75 23.6875 \r\nQ 13.234375 15.140625 17.578125 10.59375 \r\nQ 21.921875 6.0625 28.421875 6.0625 \r\nQ 33.25 6.0625 36.671875 8.59375 \r\nQ 40.09375 11.140625 42.09375 16.703125 \r\nz\r\nM 13.234375 30.90625 \r\nL 42.1875 30.90625 \r\nQ 41.609375 37.453125 38.875 40.71875 \r\nQ 34.671875 45.796875 27.984375 45.796875 \r\nQ 21.921875 45.796875 17.796875 41.75 \r\nQ 13.671875 37.703125 13.234375 30.90625 \r\nz\r\n\" id=\"ArialMT-101\"/>\r\n       <path d=\"M -1.515625 -19.875 \r\nL -1.515625 -13.53125 \r\nL 56.734375 -13.53125 \r\nL 56.734375 -19.875 \r\nz\r\n\" id=\"ArialMT-95\"/>\r\n       <path d=\"M 3.328125 25.921875 \r\nQ 3.328125 40.328125 11.328125 47.265625 \r\nQ 18.015625 53.03125 27.640625 53.03125 \r\nQ 38.328125 53.03125 45.109375 46.015625 \r\nQ 51.90625 39.015625 51.90625 26.65625 \r\nQ 51.90625 16.65625 48.90625 10.90625 \r\nQ 45.90625 5.171875 40.15625 2 \r\nQ 34.421875 -1.171875 27.640625 -1.171875 \r\nQ 16.75 -1.171875 10.03125 5.8125 \r\nQ 3.328125 12.796875 3.328125 25.921875 \r\nz\r\nM 12.359375 25.921875 \r\nQ 12.359375 15.96875 16.703125 11.015625 \r\nQ 21.046875 6.0625 27.640625 6.0625 \r\nQ 34.1875 6.0625 38.53125 11.03125 \r\nQ 42.875 16.015625 42.875 26.21875 \r\nQ 42.875 35.84375 38.5 40.796875 \r\nQ 34.125 45.75 27.640625 45.75 \r\nQ 21.046875 45.75 16.703125 40.8125 \r\nQ 12.359375 35.890625 12.359375 25.921875 \r\nz\r\n\" id=\"ArialMT-111\"/>\r\n       <path d=\"M 6.59375 0 \r\nL 6.59375 51.859375 \r\nL 14.5 51.859375 \r\nL 14.5 44.484375 \r\nQ 20.21875 53.03125 31 53.03125 \r\nQ 35.6875 53.03125 39.625 51.34375 \r\nQ 43.5625 49.65625 45.515625 46.921875 \r\nQ 47.46875 44.1875 48.25 40.4375 \r\nQ 48.734375 37.984375 48.734375 31.890625 \r\nL 48.734375 0 \r\nL 39.9375 0 \r\nL 39.9375 31.546875 \r\nQ 39.9375 36.921875 38.90625 39.578125 \r\nQ 37.890625 42.234375 35.28125 43.8125 \r\nQ 32.671875 45.40625 29.15625 45.40625 \r\nQ 23.53125 45.40625 19.453125 41.84375 \r\nQ 15.375 38.28125 15.375 28.328125 \r\nL 15.375 0 \r\nz\r\n\" id=\"ArialMT-110\"/>\r\n       <path d=\"M 6.59375 0 \r\nL 6.59375 71.578125 \r\nL 15.375 71.578125 \r\nL 15.375 45.90625 \r\nQ 21.53125 53.03125 30.90625 53.03125 \r\nQ 36.671875 53.03125 40.921875 50.75 \r\nQ 45.171875 48.484375 47 44.484375 \r\nQ 48.828125 40.484375 48.828125 32.859375 \r\nL 48.828125 0 \r\nL 40.046875 0 \r\nL 40.046875 32.859375 \r\nQ 40.046875 39.453125 37.1875 42.453125 \r\nQ 34.328125 45.453125 29.109375 45.453125 \r\nQ 25.203125 45.453125 21.75 43.421875 \r\nQ 18.3125 41.40625 16.84375 37.9375 \r\nQ 15.375 34.46875 15.375 28.375 \r\nL 15.375 0 \r\nz\r\n\" id=\"ArialMT-104\"/>\r\n       <path d=\"M 6.546875 61.375 \r\nL 6.546875 71.578125 \r\nL 15.328125 71.578125 \r\nL 15.328125 61.375 \r\nz\r\nM -4.59375 -20.125 \r\nL -2.9375 -12.640625 \r\nQ -0.296875 -13.328125 1.21875 -13.328125 \r\nQ 3.90625 -13.328125 5.21875 -11.546875 \r\nQ 6.546875 -9.765625 6.546875 -2.640625 \r\nL 6.546875 51.859375 \r\nL 15.328125 51.859375 \r\nL 15.328125 -2.828125 \r\nQ 15.328125 -12.40625 12.84375 -16.15625 \r\nQ 9.671875 -21.046875 2.296875 -21.046875 \r\nQ -1.265625 -21.046875 -4.59375 -20.125 \r\nz\r\n\" id=\"ArialMT-106\"/>\r\n       <path d=\"M 14.703125 0 \r\nL 6.546875 0 \r\nL 6.546875 71.578125 \r\nL 15.328125 71.578125 \r\nL 15.328125 46.046875 \r\nQ 20.90625 53.03125 29.546875 53.03125 \r\nQ 34.328125 53.03125 38.59375 51.09375 \r\nQ 42.875 49.171875 45.625 45.671875 \r\nQ 48.390625 42.1875 49.953125 37.25 \r\nQ 51.515625 32.328125 51.515625 26.703125 \r\nQ 51.515625 13.375 44.921875 6.09375 \r\nQ 38.328125 -1.171875 29.109375 -1.171875 \r\nQ 19.921875 -1.171875 14.703125 6.5 \r\nz\r\nM 14.59375 26.3125 \r\nQ 14.59375 17 17.140625 12.84375 \r\nQ 21.296875 6.0625 28.375 6.0625 \r\nQ 34.125 6.0625 38.328125 11.0625 \r\nQ 42.53125 16.0625 42.53125 25.984375 \r\nQ 42.53125 36.140625 38.5 40.96875 \r\nQ 34.46875 45.796875 28.765625 45.796875 \r\nQ 23 45.796875 18.796875 40.796875 \r\nQ 14.59375 35.796875 14.59375 26.3125 \r\nz\r\n\" id=\"ArialMT-98\"/>\r\n      </defs>\r\n      <use xlink:href=\"#ArialMT-116\"/>\r\n      <use x=\"27.783203\" xlink:href=\"#ArialMT-105\"/>\r\n      <use x=\"50\" xlink:href=\"#ArialMT-109\"/>\r\n      <use x=\"133.300781\" xlink:href=\"#ArialMT-101\"/>\r\n      <use x=\"188.916016\" xlink:href=\"#ArialMT-95\"/>\r\n      <use x=\"244.53125\" xlink:href=\"#ArialMT-111\"/>\r\n      <use x=\"300.146484\" xlink:href=\"#ArialMT-110\"/>\r\n      <use x=\"355.761719\" xlink:href=\"#ArialMT-95\"/>\r\n      <use x=\"411.376953\" xlink:href=\"#ArialMT-116\"/>\r\n      <use x=\"439.160156\" xlink:href=\"#ArialMT-104\"/>\r\n      <use x=\"494.775391\" xlink:href=\"#ArialMT-101\"/>\r\n      <use x=\"550.390625\" xlink:href=\"#ArialMT-95\"/>\r\n      <use x=\"606.005859\" xlink:href=\"#ArialMT-106\"/>\r\n      <use x=\"628.222656\" xlink:href=\"#ArialMT-111\"/>\r\n      <use x=\"683.837891\" xlink:href=\"#ArialMT-98\"/>\r\n     </g>\r\n    </g>\r\n   </g>\r\n   <g id=\"matplotlib.axis_2\">\r\n    <g id=\"ytick_1\">\r\n     <g id=\"line2d_8\">\r\n      <path clip-path=\"url(#p522cf7c682)\" d=\"M 53.081406 224.087069 \r\nL 387.881406 224.087069 \r\n\" style=\"fill:none;stroke:#ffffff;stroke-linecap:round;\"/>\r\n     </g>\r\n     <g id=\"text_9\">\r\n      <!-- 0.55 -->\r\n      <g style=\"fill:#262626;\" transform=\"translate(22.174375 228.023866)scale(0.11 -0.11)\">\r\n       <defs>\r\n        <path d=\"M 9.078125 0 \r\nL 9.078125 10.015625 \r\nL 19.09375 10.015625 \r\nL 19.09375 0 \r\nz\r\n\" id=\"ArialMT-46\"/>\r\n       </defs>\r\n       <use xlink:href=\"#ArialMT-48\"/>\r\n       <use x=\"55.615234\" xlink:href=\"#ArialMT-46\"/>\r\n       <use x=\"83.398438\" xlink:href=\"#ArialMT-53\"/>\r\n       <use x=\"139.013672\" xlink:href=\"#ArialMT-53\"/>\r\n      </g>\r\n     </g>\r\n    </g>\r\n    <g id=\"ytick_2\">\r\n     <g id=\"line2d_9\">\r\n      <path clip-path=\"url(#p522cf7c682)\" d=\"M 53.081406 198.168442 \r\nL 387.881406 198.168442 \r\n\" style=\"fill:none;stroke:#ffffff;stroke-linecap:round;\"/>\r\n     </g>\r\n     <g id=\"text_10\">\r\n      <!-- 0.60 -->\r\n      <g style=\"fill:#262626;\" transform=\"translate(22.174375 202.105239)scale(0.11 -0.11)\">\r\n       <use xlink:href=\"#ArialMT-48\"/>\r\n       <use x=\"55.615234\" xlink:href=\"#ArialMT-46\"/>\r\n       <use x=\"83.398438\" xlink:href=\"#ArialMT-54\"/>\r\n       <use x=\"139.013672\" xlink:href=\"#ArialMT-48\"/>\r\n      </g>\r\n     </g>\r\n    </g>\r\n    <g id=\"ytick_3\">\r\n     <g id=\"line2d_10\">\r\n      <path clip-path=\"url(#p522cf7c682)\" d=\"M 53.081406 172.249816 \r\nL 387.881406 172.249816 \r\n\" style=\"fill:none;stroke:#ffffff;stroke-linecap:round;\"/>\r\n     </g>\r\n     <g id=\"text_11\">\r\n      <!-- 0.65 -->\r\n      <g style=\"fill:#262626;\" transform=\"translate(22.174375 176.186613)scale(0.11 -0.11)\">\r\n       <use xlink:href=\"#ArialMT-48\"/>\r\n       <use x=\"55.615234\" xlink:href=\"#ArialMT-46\"/>\r\n       <use x=\"83.398438\" xlink:href=\"#ArialMT-54\"/>\r\n       <use x=\"139.013672\" xlink:href=\"#ArialMT-53\"/>\r\n      </g>\r\n     </g>\r\n    </g>\r\n    <g id=\"ytick_4\">\r\n     <g id=\"line2d_11\">\r\n      <path clip-path=\"url(#p522cf7c682)\" d=\"M 53.081406 146.331189 \r\nL 387.881406 146.331189 \r\n\" style=\"fill:none;stroke:#ffffff;stroke-linecap:round;\"/>\r\n     </g>\r\n     <g id=\"text_12\">\r\n      <!-- 0.70 -->\r\n      <g style=\"fill:#262626;\" transform=\"translate(22.174375 150.267986)scale(0.11 -0.11)\">\r\n       <use xlink:href=\"#ArialMT-48\"/>\r\n       <use x=\"55.615234\" xlink:href=\"#ArialMT-46\"/>\r\n       <use x=\"83.398438\" xlink:href=\"#ArialMT-55\"/>\r\n       <use x=\"139.013672\" xlink:href=\"#ArialMT-48\"/>\r\n      </g>\r\n     </g>\r\n    </g>\r\n    <g id=\"ytick_5\">\r\n     <g id=\"line2d_12\">\r\n      <path clip-path=\"url(#p522cf7c682)\" d=\"M 53.081406 120.412562 \r\nL 387.881406 120.412562 \r\n\" style=\"fill:none;stroke:#ffffff;stroke-linecap:round;\"/>\r\n     </g>\r\n     <g id=\"text_13\">\r\n      <!-- 0.75 -->\r\n      <g style=\"fill:#262626;\" transform=\"translate(22.174375 124.349359)scale(0.11 -0.11)\">\r\n       <use xlink:href=\"#ArialMT-48\"/>\r\n       <use x=\"55.615234\" xlink:href=\"#ArialMT-46\"/>\r\n       <use x=\"83.398438\" xlink:href=\"#ArialMT-55\"/>\r\n       <use x=\"139.013672\" xlink:href=\"#ArialMT-53\"/>\r\n      </g>\r\n     </g>\r\n    </g>\r\n    <g id=\"ytick_6\">\r\n     <g id=\"line2d_13\">\r\n      <path clip-path=\"url(#p522cf7c682)\" d=\"M 53.081406 94.493935 \r\nL 387.881406 94.493935 \r\n\" style=\"fill:none;stroke:#ffffff;stroke-linecap:round;\"/>\r\n     </g>\r\n     <g id=\"text_14\">\r\n      <!-- 0.80 -->\r\n      <g style=\"fill:#262626;\" transform=\"translate(22.174375 98.430732)scale(0.11 -0.11)\">\r\n       <defs>\r\n        <path d=\"M 17.671875 38.8125 \r\nQ 12.203125 40.828125 9.5625 44.53125 \r\nQ 6.9375 48.25 6.9375 53.421875 \r\nQ 6.9375 61.234375 12.546875 66.546875 \r\nQ 18.171875 71.875 27.484375 71.875 \r\nQ 36.859375 71.875 42.578125 66.421875 \r\nQ 48.296875 60.984375 48.296875 53.171875 \r\nQ 48.296875 48.1875 45.671875 44.5 \r\nQ 43.0625 40.828125 37.75 38.8125 \r\nQ 44.34375 36.671875 47.78125 31.875 \r\nQ 51.21875 27.09375 51.21875 20.453125 \r\nQ 51.21875 11.28125 44.71875 5.03125 \r\nQ 38.234375 -1.21875 27.640625 -1.21875 \r\nQ 17.046875 -1.21875 10.546875 5.046875 \r\nQ 4.046875 11.328125 4.046875 20.703125 \r\nQ 4.046875 27.6875 7.59375 32.390625 \r\nQ 11.140625 37.109375 17.671875 38.8125 \r\nz\r\nM 15.921875 53.71875 \r\nQ 15.921875 48.640625 19.1875 45.40625 \r\nQ 22.46875 42.1875 27.6875 42.1875 \r\nQ 32.765625 42.1875 36.015625 45.375 \r\nQ 39.265625 48.578125 39.265625 53.21875 \r\nQ 39.265625 58.0625 35.90625 61.359375 \r\nQ 32.5625 64.65625 27.59375 64.65625 \r\nQ 22.5625 64.65625 19.234375 61.421875 \r\nQ 15.921875 58.203125 15.921875 53.71875 \r\nz\r\nM 13.09375 20.65625 \r\nQ 13.09375 16.890625 14.875 13.375 \r\nQ 16.65625 9.859375 20.171875 7.921875 \r\nQ 23.6875 6 27.734375 6 \r\nQ 34.03125 6 38.125 10.046875 \r\nQ 42.234375 14.109375 42.234375 20.359375 \r\nQ 42.234375 26.703125 38.015625 30.859375 \r\nQ 33.796875 35.015625 27.4375 35.015625 \r\nQ 21.234375 35.015625 17.15625 30.90625 \r\nQ 13.09375 26.8125 13.09375 20.65625 \r\nz\r\n\" id=\"ArialMT-56\"/>\r\n       </defs>\r\n       <use xlink:href=\"#ArialMT-48\"/>\r\n       <use x=\"55.615234\" xlink:href=\"#ArialMT-46\"/>\r\n       <use x=\"83.398438\" xlink:href=\"#ArialMT-56\"/>\r\n       <use x=\"139.013672\" xlink:href=\"#ArialMT-48\"/>\r\n      </g>\r\n     </g>\r\n    </g>\r\n    <g id=\"ytick_7\">\r\n     <g id=\"line2d_14\">\r\n      <path clip-path=\"url(#p522cf7c682)\" d=\"M 53.081406 68.575308 \r\nL 387.881406 68.575308 \r\n\" style=\"fill:none;stroke:#ffffff;stroke-linecap:round;\"/>\r\n     </g>\r\n     <g id=\"text_15\">\r\n      <!-- 0.85 -->\r\n      <g style=\"fill:#262626;\" transform=\"translate(22.174375 72.512105)scale(0.11 -0.11)\">\r\n       <use xlink:href=\"#ArialMT-48\"/>\r\n       <use x=\"55.615234\" xlink:href=\"#ArialMT-46\"/>\r\n       <use x=\"83.398438\" xlink:href=\"#ArialMT-56\"/>\r\n       <use x=\"139.013672\" xlink:href=\"#ArialMT-53\"/>\r\n      </g>\r\n     </g>\r\n    </g>\r\n    <g id=\"ytick_8\">\r\n     <g id=\"line2d_15\">\r\n      <path clip-path=\"url(#p522cf7c682)\" d=\"M 53.081406 42.656682 \r\nL 387.881406 42.656682 \r\n\" style=\"fill:none;stroke:#ffffff;stroke-linecap:round;\"/>\r\n     </g>\r\n     <g id=\"text_16\">\r\n      <!-- 0.90 -->\r\n      <g style=\"fill:#262626;\" transform=\"translate(22.174375 46.593478)scale(0.11 -0.11)\">\r\n       <defs>\r\n        <path d=\"M 5.46875 16.546875 \r\nL 13.921875 17.328125 \r\nQ 14.984375 11.375 18.015625 8.6875 \r\nQ 21.046875 6 25.78125 6 \r\nQ 29.828125 6 32.875 7.859375 \r\nQ 35.9375 9.71875 37.890625 12.8125 \r\nQ 39.84375 15.921875 41.15625 21.1875 \r\nQ 42.484375 26.46875 42.484375 31.9375 \r\nQ 42.484375 32.515625 42.4375 33.6875 \r\nQ 39.796875 29.5 35.234375 26.875 \r\nQ 30.671875 24.265625 25.34375 24.265625 \r\nQ 16.453125 24.265625 10.296875 30.703125 \r\nQ 4.15625 37.15625 4.15625 47.703125 \r\nQ 4.15625 58.59375 10.578125 65.234375 \r\nQ 17 71.875 26.65625 71.875 \r\nQ 33.640625 71.875 39.421875 68.109375 \r\nQ 45.21875 64.359375 48.21875 57.390625 \r\nQ 51.21875 50.4375 51.21875 37.25 \r\nQ 51.21875 23.53125 48.234375 15.40625 \r\nQ 45.265625 7.28125 39.375 3.03125 \r\nQ 33.5 -1.21875 25.59375 -1.21875 \r\nQ 17.1875 -1.21875 11.859375 3.4375 \r\nQ 6.546875 8.109375 5.46875 16.546875 \r\nz\r\nM 41.453125 48.140625 \r\nQ 41.453125 55.71875 37.421875 60.15625 \r\nQ 33.40625 64.59375 27.734375 64.59375 \r\nQ 21.875 64.59375 17.53125 59.8125 \r\nQ 13.1875 55.03125 13.1875 47.40625 \r\nQ 13.1875 40.578125 17.3125 36.296875 \r\nQ 21.4375 32.03125 27.484375 32.03125 \r\nQ 33.59375 32.03125 37.515625 36.296875 \r\nQ 41.453125 40.578125 41.453125 48.140625 \r\nz\r\n\" id=\"ArialMT-57\"/>\r\n       </defs>\r\n       <use xlink:href=\"#ArialMT-48\"/>\r\n       <use x=\"55.615234\" xlink:href=\"#ArialMT-46\"/>\r\n       <use x=\"83.398438\" xlink:href=\"#ArialMT-57\"/>\r\n       <use x=\"139.013672\" xlink:href=\"#ArialMT-48\"/>\r\n      </g>\r\n     </g>\r\n    </g>\r\n    <g id=\"ytick_9\">\r\n     <g id=\"line2d_16\">\r\n      <path clip-path=\"url(#p522cf7c682)\" d=\"M 53.081406 16.738055 \r\nL 387.881406 16.738055 \r\n\" style=\"fill:none;stroke:#ffffff;stroke-linecap:round;\"/>\r\n     </g>\r\n     <g id=\"text_17\">\r\n      <!-- 0.95 -->\r\n      <g style=\"fill:#262626;\" transform=\"translate(22.174375 20.674852)scale(0.11 -0.11)\">\r\n       <use xlink:href=\"#ArialMT-48\"/>\r\n       <use x=\"55.615234\" xlink:href=\"#ArialMT-46\"/>\r\n       <use x=\"83.398438\" xlink:href=\"#ArialMT-57\"/>\r\n       <use x=\"139.013672\" xlink:href=\"#ArialMT-53\"/>\r\n      </g>\r\n     </g>\r\n    </g>\r\n    <g id=\"text_18\">\r\n     <!-- overall -->\r\n     <g style=\"fill:#262626;\" transform=\"translate(15.789375 133.59375)rotate(-90)scale(0.12 -0.12)\">\r\n      <defs>\r\n       <path d=\"M 21 0 \r\nL 1.265625 51.859375 \r\nL 10.546875 51.859375 \r\nL 21.6875 20.796875 \r\nQ 23.484375 15.765625 25 10.359375 \r\nQ 26.171875 14.453125 28.265625 20.21875 \r\nL 39.796875 51.859375 \r\nL 48.828125 51.859375 \r\nL 29.203125 0 \r\nz\r\n\" id=\"ArialMT-118\"/>\r\n       <path d=\"M 6.5 0 \r\nL 6.5 51.859375 \r\nL 14.40625 51.859375 \r\nL 14.40625 44 \r\nQ 17.4375 49.515625 20 51.265625 \r\nQ 22.5625 53.03125 25.640625 53.03125 \r\nQ 30.078125 53.03125 34.671875 50.203125 \r\nL 31.640625 42.046875 \r\nQ 28.421875 43.953125 25.203125 43.953125 \r\nQ 22.3125 43.953125 20.015625 42.21875 \r\nQ 17.71875 40.484375 16.75 37.40625 \r\nQ 15.28125 32.71875 15.28125 27.15625 \r\nL 15.28125 0 \r\nz\r\n\" id=\"ArialMT-114\"/>\r\n       <path d=\"M 40.4375 6.390625 \r\nQ 35.546875 2.25 31.03125 0.53125 \r\nQ 26.515625 -1.171875 21.34375 -1.171875 \r\nQ 12.796875 -1.171875 8.203125 3 \r\nQ 3.609375 7.171875 3.609375 13.671875 \r\nQ 3.609375 17.484375 5.34375 20.625 \r\nQ 7.078125 23.78125 9.890625 25.6875 \r\nQ 12.703125 27.59375 16.21875 28.5625 \r\nQ 18.796875 29.25 24.03125 29.890625 \r\nQ 34.671875 31.15625 39.703125 32.90625 \r\nQ 39.75 34.71875 39.75 35.203125 \r\nQ 39.75 40.578125 37.25 42.78125 \r\nQ 33.890625 45.75 27.25 45.75 \r\nQ 21.046875 45.75 18.09375 43.578125 \r\nQ 15.140625 41.40625 13.71875 35.890625 \r\nL 5.125 37.0625 \r\nQ 6.296875 42.578125 8.984375 45.96875 \r\nQ 11.671875 49.359375 16.75 51.1875 \r\nQ 21.828125 53.03125 28.515625 53.03125 \r\nQ 35.15625 53.03125 39.296875 51.46875 \r\nQ 43.453125 49.90625 45.40625 47.53125 \r\nQ 47.359375 45.171875 48.140625 41.546875 \r\nQ 48.578125 39.3125 48.578125 33.453125 \r\nL 48.578125 21.734375 \r\nQ 48.578125 9.46875 49.140625 6.21875 \r\nQ 49.703125 2.984375 51.375 0 \r\nL 42.1875 0 \r\nQ 40.828125 2.734375 40.4375 6.390625 \r\nz\r\nM 39.703125 26.03125 \r\nQ 34.90625 24.078125 25.34375 22.703125 \r\nQ 19.921875 21.921875 17.671875 20.9375 \r\nQ 15.4375 19.96875 14.203125 18.09375 \r\nQ 12.984375 16.21875 12.984375 13.921875 \r\nQ 12.984375 10.40625 15.640625 8.0625 \r\nQ 18.3125 5.71875 23.4375 5.71875 \r\nQ 28.515625 5.71875 32.46875 7.9375 \r\nQ 36.421875 10.15625 38.28125 14.015625 \r\nQ 39.703125 17 39.703125 22.796875 \r\nz\r\n\" id=\"ArialMT-97\"/>\r\n       <path d=\"M 6.390625 0 \r\nL 6.390625 71.578125 \r\nL 15.1875 71.578125 \r\nL 15.1875 0 \r\nz\r\n\" id=\"ArialMT-108\"/>\r\n      </defs>\r\n      <use xlink:href=\"#ArialMT-111\"/>\r\n      <use x=\"55.615234\" xlink:href=\"#ArialMT-118\"/>\r\n      <use x=\"105.615234\" xlink:href=\"#ArialMT-101\"/>\r\n      <use x=\"161.230469\" xlink:href=\"#ArialMT-114\"/>\r\n      <use x=\"194.53125\" xlink:href=\"#ArialMT-97\"/>\r\n      <use x=\"250.146484\" xlink:href=\"#ArialMT-108\"/>\r\n      <use x=\"272.363281\" xlink:href=\"#ArialMT-108\"/>\r\n     </g>\r\n    </g>\r\n   </g>\r\n   <g id=\"PathCollection_1\">\r\n    <defs>\r\n     <path d=\"M 0 3 \r\nC 0.795609 3 1.55874 2.683901 2.12132 2.12132 \r\nC 2.683901 1.55874 3 0.795609 3 0 \r\nC 3 -0.795609 2.683901 -1.55874 2.12132 -2.12132 \r\nC 1.55874 -2.683901 0.795609 -3 0 -3 \r\nC -0.795609 -3 -1.55874 -2.683901 -2.12132 -2.12132 \r\nC -2.683901 -1.55874 -3 -0.795609 -3 0 \r\nC -3 0.795609 -2.683901 1.55874 -2.12132 2.12132 \r\nC -1.55874 2.683901 -0.795609 3 0 3 \r\nz\r\n\" id=\"m7cbe78efb2\" style=\"stroke:#4c72b0;stroke-opacity:0.8;\"/>\r\n    </defs>\r\n    <g clip-path=\"url(#p522cf7c682)\">\r\n     <use style=\"fill:#4c72b0;fill-opacity:0.8;stroke:#4c72b0;stroke-opacity:0.8;\" x=\"160.027144\" xlink:href=\"#m7cbe78efb2\" y=\"134.581411\"/>\r\n     <use style=\"fill:#4c72b0;fill-opacity:0.8;stroke:#4c72b0;stroke-opacity:0.8;\" x=\"230.608262\" xlink:href=\"#m7cbe78efb2\" y=\"59.935766\"/>\r\n     <use style=\"fill:#4c72b0;fill-opacity:0.8;stroke:#4c72b0;stroke-opacity:0.8;\" x=\"382.204229\" xlink:href=\"#m7cbe78efb2\" y=\"28.14225\"/>\r\n     <use style=\"fill:#4c72b0;fill-opacity:0.8;stroke:#4c72b0;stroke-opacity:0.8;\" x=\"72.414495\" xlink:href=\"#m7cbe78efb2\" y=\"153.933986\"/>\r\n     <use style=\"fill:#4c72b0;fill-opacity:0.8;stroke:#4c72b0;stroke-opacity:0.8;\" x=\"144.376548\" xlink:href=\"#m7cbe78efb2\" y=\"108.317203\"/>\r\n     <use style=\"fill:#4c72b0;fill-opacity:0.8;stroke:#4c72b0;stroke-opacity:0.8;\" x=\"129.95345\" xlink:href=\"#m7cbe78efb2\" y=\"119.375817\"/>\r\n     <use style=\"fill:#4c72b0;fill-opacity:0.8;stroke:#4c72b0;stroke-opacity:0.8;\" x=\"376.220178\" xlink:href=\"#m7cbe78efb2\" y=\"17.083636\"/>\r\n     <use style=\"fill:#4c72b0;fill-opacity:0.8;stroke:#4c72b0;stroke-opacity:0.8;\" x=\"60.753267\" xlink:href=\"#m7cbe78efb2\" y=\"182.962848\"/>\r\n     <use style=\"fill:#4c72b0;fill-opacity:0.8;stroke:#4c72b0;stroke-opacity:0.8;\" x=\"61.213579\" xlink:href=\"#m7cbe78efb2\" y=\"115.228837\"/>\r\n     <use style=\"fill:#4c72b0;fill-opacity:0.8;stroke:#4c72b0;stroke-opacity:0.8;\" x=\"76.096988\" xlink:href=\"#m7cbe78efb2\" y=\"141.493045\"/>\r\n     <use style=\"fill:#4c72b0;fill-opacity:0.8;stroke:#4c72b0;stroke-opacity:0.8;\" x=\"318.374349\" xlink:href=\"#m7cbe78efb2\" y=\"53.024132\"/>\r\n     <use style=\"fill:#4c72b0;fill-opacity:0.8;stroke:#4c72b0;stroke-opacity:0.8;\" x=\"125.810645\" xlink:href=\"#m7cbe78efb2\" y=\"153.933986\"/>\r\n     <use style=\"fill:#4c72b0;fill-opacity:0.8;stroke:#4c72b0;stroke-opacity:0.8;\" x=\"304.718436\" xlink:href=\"#m7cbe78efb2\" y=\"62.70042\"/>\r\n     <use style=\"fill:#4c72b0;fill-opacity:0.8;stroke:#4c72b0;stroke-opacity:0.8;\" x=\"149.746851\" xlink:href=\"#m7cbe78efb2\" y=\"108.317203\"/>\r\n     <use style=\"fill:#4c72b0;fill-opacity:0.8;stroke:#4c72b0;stroke-opacity:0.8;\" x=\"218.793597\" xlink:href=\"#m7cbe78efb2\" y=\"94.493935\"/>\r\n     <use style=\"fill:#4c72b0;fill-opacity:0.8;stroke:#4c72b0;stroke-opacity:0.8;\" x=\"349.368666\" xlink:href=\"#m7cbe78efb2\" y=\"51.641805\"/>\r\n     <use style=\"fill:#4c72b0;fill-opacity:0.8;stroke:#4c72b0;stroke-opacity:0.8;\" x=\"195.624578\" xlink:href=\"#m7cbe78efb2\" y=\"80.670668\"/>\r\n     <use style=\"fill:#4c72b0;fill-opacity:0.8;stroke:#4c72b0;stroke-opacity:0.8;\" x=\"136.55125\" xlink:href=\"#m7cbe78efb2\" y=\"192.639135\"/>\r\n     <use style=\"fill:#4c72b0;fill-opacity:0.8;stroke:#4c72b0;stroke-opacity:0.8;\" x=\"320.829344\" xlink:href=\"#m7cbe78efb2\" y=\"65.465073\"/>\r\n     <use style=\"fill:#4c72b0;fill-opacity:0.8;stroke:#4c72b0;stroke-opacity:0.8;\" x=\"379.595797\" xlink:href=\"#m7cbe78efb2\" y=\"59.935766\"/>\r\n     <use style=\"fill:#4c72b0;fill-opacity:0.8;stroke:#4c72b0;stroke-opacity:0.8;\" x=\"164.169949\" xlink:href=\"#m7cbe78efb2\" y=\"108.317203\"/>\r\n     <use style=\"fill:#4c72b0;fill-opacity:0.8;stroke:#4c72b0;stroke-opacity:0.8;\" x=\"265.43851\" xlink:href=\"#m7cbe78efb2\" y=\"69.612053\"/>\r\n     <use style=\"fill:#4c72b0;fill-opacity:0.8;stroke:#4c72b0;stroke-opacity:0.8;\" x=\"134.863441\" xlink:href=\"#m7cbe78efb2\" y=\"108.317203\"/>\r\n     <use style=\"fill:#4c72b0;fill-opacity:0.8;stroke:#4c72b0;stroke-opacity:0.8;\" x=\"111.080673\" xlink:href=\"#m7cbe78efb2\" y=\"94.493935\"/>\r\n     <use style=\"fill:#4c72b0;fill-opacity:0.8;stroke:#4c72b0;stroke-opacity:0.8;\" x=\"153.122469\" xlink:href=\"#m7cbe78efb2\" y=\"97.258589\"/>\r\n     <use style=\"fill:#4c72b0;fill-opacity:0.8;stroke:#4c72b0;stroke-opacity:0.8;\" x=\"136.55125\" xlink:href=\"#m7cbe78efb2\" y=\"119.375817\"/>\r\n     <use style=\"fill:#4c72b0;fill-opacity:0.8;stroke:#4c72b0;stroke-opacity:0.8;\" x=\"139.466557\" xlink:href=\"#m7cbe78efb2\" y=\"111.081856\"/>\r\n     <use style=\"fill:#4c72b0;fill-opacity:0.8;stroke:#4c72b0;stroke-opacity:0.8;\" x=\"230.454825\" xlink:href=\"#m7cbe78efb2\" y=\"108.317203\"/>\r\n     <use style=\"fill:#4c72b0;fill-opacity:0.8;stroke:#4c72b0;stroke-opacity:0.8;\" x=\"178.132735\" xlink:href=\"#m7cbe78efb2\" y=\"100.023242\"/>\r\n     <use style=\"fill:#4c72b0;fill-opacity:0.8;stroke:#4c72b0;stroke-opacity:0.8;\" x=\"110.927236\" xlink:href=\"#m7cbe78efb2\" y=\"90.346955\"/>\r\n     <use style=\"fill:#4c72b0;fill-opacity:0.8;stroke:#4c72b0;stroke-opacity:0.8;\" x=\"143.609362\" xlink:href=\"#m7cbe78efb2\" y=\"106.934876\"/>\r\n     <use style=\"fill:#4c72b0;fill-opacity:0.8;stroke:#4c72b0;stroke-opacity:0.8;\" x=\"131.64126\" xlink:href=\"#m7cbe78efb2\" y=\"144.257699\"/>\r\n     <use style=\"fill:#4c72b0;fill-opacity:0.8;stroke:#4c72b0;stroke-opacity:0.8;\" x=\"227.692955\" xlink:href=\"#m7cbe78efb2\" y=\"122.14047\"/>\r\n     <use style=\"fill:#4c72b0;fill-opacity:0.8;stroke:#4c72b0;stroke-opacity:0.8;\" x=\"202.068941\" xlink:href=\"#m7cbe78efb2\" y=\"69.612053\"/>\r\n     <use style=\"fill:#4c72b0;fill-opacity:0.8;stroke:#4c72b0;stroke-opacity:0.8;\" x=\"62.901388\" xlink:href=\"#m7cbe78efb2\" y=\"130.434431\"/>\r\n     <use style=\"fill:#4c72b0;fill-opacity:0.8;stroke:#4c72b0;stroke-opacity:0.8;\" x=\"61.67389\" xlink:href=\"#m7cbe78efb2\" y=\"124.905124\"/>\r\n     <use style=\"fill:#4c72b0;fill-opacity:0.8;stroke:#4c72b0;stroke-opacity:0.8;\" x=\"282.163166\" xlink:href=\"#m7cbe78efb2\" y=\"87.582301\"/>\r\n     <use style=\"fill:#4c72b0;fill-opacity:0.8;stroke:#4c72b0;stroke-opacity:0.8;\" x=\"111.540985\" xlink:href=\"#m7cbe78efb2\" y=\"117.99349\"/>\r\n     <use style=\"fill:#4c72b0;fill-opacity:0.8;stroke:#4c72b0;stroke-opacity:0.8;\" x=\"274.491305\" xlink:href=\"#m7cbe78efb2\" y=\"101.405569\"/>\r\n     <use style=\"fill:#4c72b0;fill-opacity:0.8;stroke:#4c72b0;stroke-opacity:0.8;\" x=\"122.895338\" xlink:href=\"#m7cbe78efb2\" y=\"126.287451\"/>\r\n     <use style=\"fill:#4c72b0;fill-opacity:0.8;stroke:#4c72b0;stroke-opacity:0.8;\" x=\"108.318803\" xlink:href=\"#m7cbe78efb2\" y=\"112.464183\"/>\r\n     <use style=\"fill:#4c72b0;fill-opacity:0.8;stroke:#4c72b0;stroke-opacity:0.8;\" x=\"106.937868\" xlink:href=\"#m7cbe78efb2\" y=\"137.346065\"/>\r\n     <use style=\"fill:#4c72b0;fill-opacity:0.8;stroke:#4c72b0;stroke-opacity:0.8;\" x=\"165.704321\" xlink:href=\"#m7cbe78efb2\" y=\"185.727502\"/>\r\n     <use style=\"fill:#4c72b0;fill-opacity:0.8;stroke:#4c72b0;stroke-opacity:0.8;\" x=\"284.15785\" xlink:href=\"#m7cbe78efb2\" y=\"117.99349\"/>\r\n     <use style=\"fill:#4c72b0;fill-opacity:0.8;stroke:#4c72b0;stroke-opacity:0.8;\" x=\"263.597263\" xlink:href=\"#m7cbe78efb2\" y=\"141.493045\"/>\r\n     <use style=\"fill:#4c72b0;fill-opacity:0.8;stroke:#4c72b0;stroke-opacity:0.8;\" x=\"161.254642\" xlink:href=\"#m7cbe78efb2\" y=\"137.346065\"/>\r\n     <use style=\"fill:#4c72b0;fill-opacity:0.8;stroke:#4c72b0;stroke-opacity:0.8;\" x=\"109.853175\" xlink:href=\"#m7cbe78efb2\" y=\"162.227947\"/>\r\n     <use style=\"fill:#4c72b0;fill-opacity:0.8;stroke:#4c72b0;stroke-opacity:0.8;\" x=\"168.926502\" xlink:href=\"#m7cbe78efb2\" y=\"112.464183\"/>\r\n     <use style=\"fill:#4c72b0;fill-opacity:0.8;stroke:#4c72b0;stroke-opacity:0.8;\" x=\"110.620361\" xlink:href=\"#m7cbe78efb2\" y=\"122.14047\"/>\r\n     <use style=\"fill:#4c72b0;fill-opacity:0.8;stroke:#4c72b0;stroke-opacity:0.8;\" x=\"151.741535\" xlink:href=\"#m7cbe78efb2\" y=\"129.052104\"/>\r\n     <use style=\"fill:#4c72b0;fill-opacity:0.8;stroke:#4c72b0;stroke-opacity:0.8;\" x=\"266.359133\" xlink:href=\"#m7cbe78efb2\" y=\"108.317203\"/>\r\n     <use style=\"fill:#4c72b0;fill-opacity:0.8;stroke:#4c72b0;stroke-opacity:0.8;\" x=\"231.83576\" xlink:href=\"#m7cbe78efb2\" y=\"97.258589\"/>\r\n     <use style=\"fill:#4c72b0;fill-opacity:0.8;stroke:#4c72b0;stroke-opacity:0.8;\" x=\"72.261058\" xlink:href=\"#m7cbe78efb2\" y=\"196.786116\"/>\r\n     <use style=\"fill:#4c72b0;fill-opacity:0.8;stroke:#4c72b0;stroke-opacity:0.8;\" x=\"75.176365\" xlink:href=\"#m7cbe78efb2\" y=\"182.962848\"/>\r\n     <use style=\"fill:#4c72b0;fill-opacity:0.8;stroke:#4c72b0;stroke-opacity:0.8;\" x=\"82.694788\" xlink:href=\"#m7cbe78efb2\" y=\"86.199975\"/>\r\n     <use style=\"fill:#4c72b0;fill-opacity:0.8;stroke:#4c72b0;stroke-opacity:0.8;\" x=\"122.128152\" xlink:href=\"#m7cbe78efb2\" y=\"151.169332\"/>\r\n     <use style=\"fill:#4c72b0;fill-opacity:0.8;stroke:#4c72b0;stroke-opacity:0.8;\" x=\"147.138418\" xlink:href=\"#m7cbe78efb2\" y=\"115.228837\"/>\r\n     <use style=\"fill:#4c72b0;fill-opacity:0.8;stroke:#4c72b0;stroke-opacity:0.8;\" x=\"137.471874\" xlink:href=\"#m7cbe78efb2\" y=\"155.316313\"/>\r\n     <use style=\"fill:#4c72b0;fill-opacity:0.8;stroke:#4c72b0;stroke-opacity:0.8;\" x=\"118.905971\" xlink:href=\"#m7cbe78efb2\" y=\"101.405569\"/>\r\n     <use style=\"fill:#4c72b0;fill-opacity:0.8;stroke:#4c72b0;stroke-opacity:0.8;\" x=\"197.772699\" xlink:href=\"#m7cbe78efb2\" y=\"111.081856\"/>\r\n     <use style=\"fill:#4c72b0;fill-opacity:0.8;stroke:#4c72b0;stroke-opacity:0.8;\" x=\"63.822011\" xlink:href=\"#m7cbe78efb2\" y=\"111.081856\"/>\r\n     <use style=\"fill:#4c72b0;fill-opacity:0.8;stroke:#4c72b0;stroke-opacity:0.8;\" x=\"53.848592\" xlink:href=\"#m7cbe78efb2\" y=\"94.493935\"/>\r\n     <use style=\"fill:#4c72b0;fill-opacity:0.8;stroke:#4c72b0;stroke-opacity:0.8;\" x=\"303.644376\" xlink:href=\"#m7cbe78efb2\" y=\"84.817648\"/>\r\n     <use style=\"fill:#4c72b0;fill-opacity:0.8;stroke:#4c72b0;stroke-opacity:0.8;\" x=\"131.794697\" xlink:href=\"#m7cbe78efb2\" y=\"111.081856\"/>\r\n     <use style=\"fill:#4c72b0;fill-opacity:0.8;stroke:#4c72b0;stroke-opacity:0.8;\" x=\"231.528886\" xlink:href=\"#m7cbe78efb2\" y=\"101.405569\"/>\r\n     <use style=\"fill:#4c72b0;fill-opacity:0.8;stroke:#4c72b0;stroke-opacity:0.8;\" x=\"120.133469\" xlink:href=\"#m7cbe78efb2\" y=\"177.433541\"/>\r\n     <use style=\"fill:#4c72b0;fill-opacity:0.8;stroke:#4c72b0;stroke-opacity:0.8;\" x=\"206.211745\" xlink:href=\"#m7cbe78efb2\" y=\"163.610273\"/>\r\n     <use style=\"fill:#4c72b0;fill-opacity:0.8;stroke:#4c72b0;stroke-opacity:0.8;\" x=\"220.327969\" xlink:href=\"#m7cbe78efb2\" y=\"111.081856\"/>\r\n     <use style=\"fill:#4c72b0;fill-opacity:0.8;stroke:#4c72b0;stroke-opacity:0.8;\" x=\"347.834294\" xlink:href=\"#m7cbe78efb2\" y=\"46.112498\"/>\r\n     <use style=\"fill:#4c72b0;fill-opacity:0.8;stroke:#4c72b0;stroke-opacity:0.8;\" x=\"151.127786\" xlink:href=\"#m7cbe78efb2\" y=\"189.874482\"/>\r\n     <use style=\"fill:#4c72b0;fill-opacity:0.8;stroke:#4c72b0;stroke-opacity:0.8;\" x=\"265.898821\" xlink:href=\"#m7cbe78efb2\" y=\"148.404679\"/>\r\n     <use style=\"fill:#4c72b0;fill-opacity:0.8;stroke:#4c72b0;stroke-opacity:0.8;\" x=\"219.253909\" xlink:href=\"#m7cbe78efb2\" y=\"119.375817\"/>\r\n     <use style=\"fill:#4c72b0;fill-opacity:0.8;stroke:#4c72b0;stroke-opacity:0.8;\" x=\"53.388281\" xlink:href=\"#m7cbe78efb2\" y=\"180.198195\"/>\r\n     <use style=\"fill:#4c72b0;fill-opacity:0.8;stroke:#4c72b0;stroke-opacity:0.8;\" x=\"383.27829\" xlink:href=\"#m7cbe78efb2\" y=\"37.818538\"/>\r\n     <use style=\"fill:#4c72b0;fill-opacity:0.8;stroke:#4c72b0;stroke-opacity:0.8;\" x=\"57.377648\" xlink:href=\"#m7cbe78efb2\" y=\"87.582301\"/>\r\n     <use style=\"fill:#4c72b0;fill-opacity:0.8;stroke:#4c72b0;stroke-opacity:0.8;\" x=\"128.265641\" xlink:href=\"#m7cbe78efb2\" y=\"104.170223\"/>\r\n     <use style=\"fill:#4c72b0;fill-opacity:0.8;stroke:#4c72b0;stroke-opacity:0.8;\" x=\"167.085256\" xlink:href=\"#m7cbe78efb2\" y=\"144.257699\"/>\r\n     <use style=\"fill:#4c72b0;fill-opacity:0.8;stroke:#4c72b0;stroke-opacity:0.8;\" x=\"115.990664\" xlink:href=\"#m7cbe78efb2\" y=\"200.933096\"/>\r\n     <use style=\"fill:#4c72b0;fill-opacity:0.8;stroke:#4c72b0;stroke-opacity:0.8;\" x=\"311.316237\" xlink:href=\"#m7cbe78efb2\" y=\"145.640025\"/>\r\n     <use style=\"fill:#4c72b0;fill-opacity:0.8;stroke:#4c72b0;stroke-opacity:0.8;\" x=\"327.12027\" xlink:href=\"#m7cbe78efb2\" y=\"145.640025\"/>\r\n     <use style=\"fill:#4c72b0;fill-opacity:0.8;stroke:#4c72b0;stroke-opacity:0.8;\" x=\"89.906338\" xlink:href=\"#m7cbe78efb2\" y=\"166.374927\"/>\r\n     <use style=\"fill:#4c72b0;fill-opacity:0.8;stroke:#4c72b0;stroke-opacity:0.8;\" x=\"254.851342\" xlink:href=\"#m7cbe78efb2\" y=\"205.080076\"/>\r\n     <use style=\"fill:#4c72b0;fill-opacity:0.8;stroke:#4c72b0;stroke-opacity:0.8;\" x=\"269.734752\" xlink:href=\"#m7cbe78efb2\" y=\"97.258589\"/>\r\n     <use style=\"fill:#4c72b0;fill-opacity:0.8;stroke:#4c72b0;stroke-opacity:0.8;\" x=\"345.532735\" xlink:href=\"#m7cbe78efb2\" y=\"119.375817\"/>\r\n     <use style=\"fill:#4c72b0;fill-opacity:0.8;stroke:#4c72b0;stroke-opacity:0.8;\" x=\"242.269491\" xlink:href=\"#m7cbe78efb2\" y=\"185.727502\"/>\r\n     <use style=\"fill:#4c72b0;fill-opacity:0.8;stroke:#4c72b0;stroke-opacity:0.8;\" x=\"318.220911\" xlink:href=\"#m7cbe78efb2\" y=\"115.228837\"/>\r\n     <use style=\"fill:#4c72b0;fill-opacity:0.8;stroke:#4c72b0;stroke-opacity:0.8;\" x=\"270.501938\" xlink:href=\"#m7cbe78efb2\" y=\"91.729282\"/>\r\n     <use style=\"fill:#4c72b0;fill-opacity:0.8;stroke:#4c72b0;stroke-opacity:0.8;\" x=\"89.446026\" xlink:href=\"#m7cbe78efb2\" y=\"181.580521\"/>\r\n     <use style=\"fill:#4c72b0;fill-opacity:0.8;stroke:#4c72b0;stroke-opacity:0.8;\" x=\"152.201846\" xlink:href=\"#m7cbe78efb2\" y=\"203.69775\"/>\r\n     <use style=\"fill:#4c72b0;fill-opacity:0.8;stroke:#4c72b0;stroke-opacity:0.8;\" x=\"93.895705\" xlink:href=\"#m7cbe78efb2\" y=\"160.84562\"/>\r\n     <use style=\"fill:#4c72b0;fill-opacity:0.8;stroke:#4c72b0;stroke-opacity:0.8;\" x=\"115.070041\" xlink:href=\"#m7cbe78efb2\" y=\"158.080966\"/>\r\n     <use style=\"fill:#4c72b0;fill-opacity:0.8;stroke:#4c72b0;stroke-opacity:0.8;\" x=\"169.847126\" xlink:href=\"#m7cbe78efb2\" y=\"94.493935\"/>\r\n     <use style=\"fill:#4c72b0;fill-opacity:0.8;stroke:#4c72b0;stroke-opacity:0.8;\" x=\"164.476823\" xlink:href=\"#m7cbe78efb2\" y=\"83.435321\"/>\r\n     <use style=\"fill:#4c72b0;fill-opacity:0.8;stroke:#4c72b0;stroke-opacity:0.8;\" x=\"127.958766\" xlink:href=\"#m7cbe78efb2\" y=\"164.9926\"/>\r\n     <use style=\"fill:#4c72b0;fill-opacity:0.8;stroke:#4c72b0;stroke-opacity:0.8;\" x=\"169.233377\" xlink:href=\"#m7cbe78efb2\" y=\"156.69864\"/>\r\n     <use style=\"fill:#4c72b0;fill-opacity:0.8;stroke:#4c72b0;stroke-opacity:0.8;\" x=\"122.588464\" xlink:href=\"#m7cbe78efb2\" y=\"69.612053\"/>\r\n     <use style=\"fill:#4c72b0;fill-opacity:0.8;stroke:#4c72b0;stroke-opacity:0.8;\" x=\"287.686906\" xlink:href=\"#m7cbe78efb2\" y=\"84.817648\"/>\r\n     <use style=\"fill:#4c72b0;fill-opacity:0.8;stroke:#4c72b0;stroke-opacity:0.8;\" x=\"187.645843\" xlink:href=\"#m7cbe78efb2\" y=\"176.051214\"/>\r\n     <use style=\"fill:#4c72b0;fill-opacity:0.8;stroke:#4c72b0;stroke-opacity:0.8;\" x=\"171.534935\" xlink:href=\"#m7cbe78efb2\" y=\"140.110718\"/>\r\n     <use style=\"fill:#4c72b0;fill-opacity:0.8;stroke:#4c72b0;stroke-opacity:0.8;\" x=\"280.475357\" xlink:href=\"#m7cbe78efb2\" y=\"90.346955\"/>\r\n     <use style=\"fill:#4c72b0;fill-opacity:0.8;stroke:#4c72b0;stroke-opacity:0.8;\" x=\"243.036677\" xlink:href=\"#m7cbe78efb2\" y=\"69.612053\"/>\r\n     <use style=\"fill:#4c72b0;fill-opacity:0.8;stroke:#4c72b0;stroke-opacity:0.8;\" x=\"135.784064\" xlink:href=\"#m7cbe78efb2\" y=\"101.405569\"/>\r\n     <use style=\"fill:#4c72b0;fill-opacity:0.8;stroke:#4c72b0;stroke-opacity:0.8;\" x=\"90.059775\" xlink:href=\"#m7cbe78efb2\" y=\"101.405569\"/>\r\n     <use style=\"fill:#4c72b0;fill-opacity:0.8;stroke:#4c72b0;stroke-opacity:0.8;\" x=\"117.678473\" xlink:href=\"#m7cbe78efb2\" y=\"124.905124\"/>\r\n     <use style=\"fill:#4c72b0;fill-opacity:0.8;stroke:#4c72b0;stroke-opacity:0.8;\" x=\"145.143734\" xlink:href=\"#m7cbe78efb2\" y=\"101.405569\"/>\r\n     <use style=\"fill:#4c72b0;fill-opacity:0.8;stroke:#4c72b0;stroke-opacity:0.8;\" x=\"79.012295\" xlink:href=\"#m7cbe78efb2\" y=\"105.552549\"/>\r\n     <use style=\"fill:#4c72b0;fill-opacity:0.8;stroke:#4c72b0;stroke-opacity:0.8;\" x=\"357.96115\" xlink:href=\"#m7cbe78efb2\" y=\"72.376707\"/>\r\n     <use style=\"fill:#4c72b0;fill-opacity:0.8;stroke:#4c72b0;stroke-opacity:0.8;\" x=\"160.640893\" xlink:href=\"#m7cbe78efb2\" y=\"147.022352\"/>\r\n     <use style=\"fill:#4c72b0;fill-opacity:0.8;stroke:#4c72b0;stroke-opacity:0.8;\" x=\"134.556567\" xlink:href=\"#m7cbe78efb2\" y=\"147.022352\"/>\r\n     <use style=\"fill:#4c72b0;fill-opacity:0.8;stroke:#4c72b0;stroke-opacity:0.8;\" x=\"150.3606\" xlink:href=\"#m7cbe78efb2\" y=\"83.435321\"/>\r\n     <use style=\"fill:#4c72b0;fill-opacity:0.8;stroke:#4c72b0;stroke-opacity:0.8;\" x=\"307.019995\" xlink:href=\"#m7cbe78efb2\" y=\"86.199975\"/>\r\n     <use style=\"fill:#4c72b0;fill-opacity:0.8;stroke:#4c72b0;stroke-opacity:0.8;\" x=\"131.794697\" xlink:href=\"#m7cbe78efb2\" y=\"73.759034\"/>\r\n     <use style=\"fill:#4c72b0;fill-opacity:0.8;stroke:#4c72b0;stroke-opacity:0.8;\" x=\"100.646942\" xlink:href=\"#m7cbe78efb2\" y=\"119.375817\"/>\r\n     <use style=\"fill:#4c72b0;fill-opacity:0.8;stroke:#4c72b0;stroke-opacity:0.8;\" x=\"193.936768\" xlink:href=\"#m7cbe78efb2\" y=\"80.670668\"/>\r\n     <use style=\"fill:#4c72b0;fill-opacity:0.8;stroke:#4c72b0;stroke-opacity:0.8;\" x=\"100.033194\" xlink:href=\"#m7cbe78efb2\" y=\"124.905124\"/>\r\n     <use style=\"fill:#4c72b0;fill-opacity:0.8;stroke:#4c72b0;stroke-opacity:0.8;\" x=\"251.015412\" xlink:href=\"#m7cbe78efb2\" y=\"115.228837\"/>\r\n     <use style=\"fill:#4c72b0;fill-opacity:0.8;stroke:#4c72b0;stroke-opacity:0.8;\" x=\"360.262708\" xlink:href=\"#m7cbe78efb2\" y=\"47.494825\"/>\r\n     <use style=\"fill:#4c72b0;fill-opacity:0.8;stroke:#4c72b0;stroke-opacity:0.8;\" x=\"299.808446\" xlink:href=\"#m7cbe78efb2\" y=\"119.375817\"/>\r\n     <use style=\"fill:#4c72b0;fill-opacity:0.8;stroke:#4c72b0;stroke-opacity:0.8;\" x=\"126.577832\" xlink:href=\"#m7cbe78efb2\" y=\"151.169332\"/>\r\n     <use style=\"fill:#4c72b0;fill-opacity:0.8;stroke:#4c72b0;stroke-opacity:0.8;\" x=\"127.19158\" xlink:href=\"#m7cbe78efb2\" y=\"104.170223\"/>\r\n     <use style=\"fill:#4c72b0;fill-opacity:0.8;stroke:#4c72b0;stroke-opacity:0.8;\" x=\"125.043459\" xlink:href=\"#m7cbe78efb2\" y=\"83.435321\"/>\r\n     <use style=\"fill:#4c72b0;fill-opacity:0.8;stroke:#4c72b0;stroke-opacity:0.8;\" x=\"135.170316\" xlink:href=\"#m7cbe78efb2\" y=\"178.815868\"/>\r\n     <use style=\"fill:#4c72b0;fill-opacity:0.8;stroke:#4c72b0;stroke-opacity:0.8;\" x=\"60.59983\" xlink:href=\"#m7cbe78efb2\" y=\"79.288341\"/>\r\n     <use style=\"fill:#4c72b0;fill-opacity:0.8;stroke:#4c72b0;stroke-opacity:0.8;\" x=\"123.815962\" xlink:href=\"#m7cbe78efb2\" y=\"117.99349\"/>\r\n     <use style=\"fill:#4c72b0;fill-opacity:0.8;stroke:#4c72b0;stroke-opacity:0.8;\" x=\"174.143368\" xlink:href=\"#m7cbe78efb2\" y=\"108.317203\"/>\r\n     <use style=\"fill:#4c72b0;fill-opacity:0.8;stroke:#4c72b0;stroke-opacity:0.8;\" x=\"144.990297\" xlink:href=\"#m7cbe78efb2\" y=\"127.669777\"/>\r\n     <use style=\"fill:#4c72b0;fill-opacity:0.8;stroke:#4c72b0;stroke-opacity:0.8;\" x=\"92.207896\" xlink:href=\"#m7cbe78efb2\" y=\"160.84562\"/>\r\n     <use style=\"fill:#4c72b0;fill-opacity:0.8;stroke:#4c72b0;stroke-opacity:0.8;\" x=\"113.075357\" xlink:href=\"#m7cbe78efb2\" y=\"65.465073\"/>\r\n     <use style=\"fill:#4c72b0;fill-opacity:0.8;stroke:#4c72b0;stroke-opacity:0.8;\" x=\"115.070041\" xlink:href=\"#m7cbe78efb2\" y=\"90.346955\"/>\r\n     <use style=\"fill:#4c72b0;fill-opacity:0.8;stroke:#4c72b0;stroke-opacity:0.8;\" x=\"198.846759\" xlink:href=\"#m7cbe78efb2\" y=\"144.257699\"/>\r\n     <use style=\"fill:#4c72b0;fill-opacity:0.8;stroke:#4c72b0;stroke-opacity:0.8;\" x=\"152.048409\" xlink:href=\"#m7cbe78efb2\" y=\"104.170223\"/>\r\n     <use style=\"fill:#4c72b0;fill-opacity:0.8;stroke:#4c72b0;stroke-opacity:0.8;\" x=\"206.51862\" xlink:href=\"#m7cbe78efb2\" y=\"104.170223\"/>\r\n     <use style=\"fill:#4c72b0;fill-opacity:0.8;stroke:#4c72b0;stroke-opacity:0.8;\" x=\"343.231177\" xlink:href=\"#m7cbe78efb2\" y=\"48.877152\"/>\r\n     <use style=\"fill:#4c72b0;fill-opacity:0.8;stroke:#4c72b0;stroke-opacity:0.8;\" x=\"142.07499\" xlink:href=\"#m7cbe78efb2\" y=\"88.964628\"/>\r\n     <use style=\"fill:#4c72b0;fill-opacity:0.8;stroke:#4c72b0;stroke-opacity:0.8;\" x=\"327.580581\" xlink:href=\"#m7cbe78efb2\" y=\"83.435321\"/>\r\n     <use style=\"fill:#4c72b0;fill-opacity:0.8;stroke:#4c72b0;stroke-opacity:0.8;\" x=\"222.322653\" xlink:href=\"#m7cbe78efb2\" y=\"98.640915\"/>\r\n     <use style=\"fill:#4c72b0;fill-opacity:0.8;stroke:#4c72b0;stroke-opacity:0.8;\" x=\"96.811012\" xlink:href=\"#m7cbe78efb2\" y=\"91.729282\"/>\r\n     <use style=\"fill:#4c72b0;fill-opacity:0.8;stroke:#4c72b0;stroke-opacity:0.8;\" x=\"75.790114\" xlink:href=\"#m7cbe78efb2\" y=\"94.493935\"/>\r\n     <use style=\"fill:#4c72b0;fill-opacity:0.8;stroke:#4c72b0;stroke-opacity:0.8;\" x=\"242.269491\" xlink:href=\"#m7cbe78efb2\" y=\"83.435321\"/>\r\n     <use style=\"fill:#4c72b0;fill-opacity:0.8;stroke:#4c72b0;stroke-opacity:0.8;\" x=\"119.366283\" xlink:href=\"#m7cbe78efb2\" y=\"144.257699\"/>\r\n     <use style=\"fill:#4c72b0;fill-opacity:0.8;stroke:#4c72b0;stroke-opacity:0.8;\" x=\"188.87334\" xlink:href=\"#m7cbe78efb2\" y=\"113.84651\"/>\r\n     <use style=\"fill:#4c72b0;fill-opacity:0.8;stroke:#4c72b0;stroke-opacity:0.8;\" x=\"332.644009\" xlink:href=\"#m7cbe78efb2\" y=\"75.14136\"/>\r\n     <use style=\"fill:#4c72b0;fill-opacity:0.8;stroke:#4c72b0;stroke-opacity:0.8;\" x=\"216.338601\" xlink:href=\"#m7cbe78efb2\" y=\"108.317203\"/>\r\n     <use style=\"fill:#4c72b0;fill-opacity:0.8;stroke:#4c72b0;stroke-opacity:0.8;\" x=\"116.450975\" xlink:href=\"#m7cbe78efb2\" y=\"122.14047\"/>\r\n     <use style=\"fill:#4c72b0;fill-opacity:0.8;stroke:#4c72b0;stroke-opacity:0.8;\" x=\"141.921553\" xlink:href=\"#m7cbe78efb2\" y=\"115.228837\"/>\r\n     <use style=\"fill:#4c72b0;fill-opacity:0.8;stroke:#4c72b0;stroke-opacity:0.8;\" x=\"303.95125\" xlink:href=\"#m7cbe78efb2\" y=\"58.553439\"/>\r\n     <use style=\"fill:#4c72b0;fill-opacity:0.8;stroke:#4c72b0;stroke-opacity:0.8;\" x=\"304.718436\" xlink:href=\"#m7cbe78efb2\" y=\"101.405569\"/>\r\n     <use style=\"fill:#4c72b0;fill-opacity:0.8;stroke:#4c72b0;stroke-opacity:0.8;\" x=\"219.560783\" xlink:href=\"#m7cbe78efb2\" y=\"130.434431\"/>\r\n     <use style=\"fill:#4c72b0;fill-opacity:0.8;stroke:#4c72b0;stroke-opacity:0.8;\" x=\"178.746484\" xlink:href=\"#m7cbe78efb2\" y=\"111.081856\"/>\r\n     <use style=\"fill:#4c72b0;fill-opacity:0.8;stroke:#4c72b0;stroke-opacity:0.8;\" x=\"53.081406\" xlink:href=\"#m7cbe78efb2\" y=\"108.317203\"/>\r\n     <use style=\"fill:#4c72b0;fill-opacity:0.8;stroke:#4c72b0;stroke-opacity:0.8;\" x=\"157.418711\" xlink:href=\"#m7cbe78efb2\" y=\"163.610273\"/>\r\n     <use style=\"fill:#4c72b0;fill-opacity:0.8;stroke:#4c72b0;stroke-opacity:0.8;\" x=\"227.539518\" xlink:href=\"#m7cbe78efb2\" y=\"76.523687\"/>\r\n     <use style=\"fill:#4c72b0;fill-opacity:0.8;stroke:#4c72b0;stroke-opacity:0.8;\" x=\"55.843276\" xlink:href=\"#m7cbe78efb2\" y=\"94.493935\"/>\r\n     <use style=\"fill:#4c72b0;fill-opacity:0.8;stroke:#4c72b0;stroke-opacity:0.8;\" x=\"140.080306\" xlink:href=\"#m7cbe78efb2\" y=\"69.612053\"/>\r\n     <use style=\"fill:#4c72b0;fill-opacity:0.8;stroke:#4c72b0;stroke-opacity:0.8;\" x=\"136.858125\" xlink:href=\"#m7cbe78efb2\" y=\"135.963738\"/>\r\n     <use style=\"fill:#4c72b0;fill-opacity:0.8;stroke:#4c72b0;stroke-opacity:0.8;\" x=\"116.911287\" xlink:href=\"#m7cbe78efb2\" y=\"97.258589\"/>\r\n     <use style=\"fill:#4c72b0;fill-opacity:0.8;stroke:#4c72b0;stroke-opacity:0.8;\" x=\"107.705054\" xlink:href=\"#m7cbe78efb2\" y=\"119.375817\"/>\r\n     <use style=\"fill:#4c72b0;fill-opacity:0.8;stroke:#4c72b0;stroke-opacity:0.8;\" x=\"135.323753\" xlink:href=\"#m7cbe78efb2\" y=\"173.286561\"/>\r\n     <use style=\"fill:#4c72b0;fill-opacity:0.8;stroke:#4c72b0;stroke-opacity:0.8;\" x=\"179.053359\" xlink:href=\"#m7cbe78efb2\" y=\"104.170223\"/>\r\n     <use style=\"fill:#4c72b0;fill-opacity:0.8;stroke:#4c72b0;stroke-opacity:0.8;\" x=\"264.211012\" xlink:href=\"#m7cbe78efb2\" y=\"108.317203\"/>\r\n     <use style=\"fill:#4c72b0;fill-opacity:0.8;stroke:#4c72b0;stroke-opacity:0.8;\" x=\"198.846759\" xlink:href=\"#m7cbe78efb2\" y=\"123.522797\"/>\r\n     <use style=\"fill:#4c72b0;fill-opacity:0.8;stroke:#4c72b0;stroke-opacity:0.8;\" x=\"110.773799\" xlink:href=\"#m7cbe78efb2\" y=\"117.99349\"/>\r\n     <use style=\"fill:#4c72b0;fill-opacity:0.8;stroke:#4c72b0;stroke-opacity:0.8;\" x=\"266.51257\" xlink:href=\"#m7cbe78efb2\" y=\"120.758144\"/>\r\n     <use style=\"fill:#4c72b0;fill-opacity:0.8;stroke:#4c72b0;stroke-opacity:0.8;\" x=\"94.202579\" xlink:href=\"#m7cbe78efb2\" y=\"104.170223\"/>\r\n     <use style=\"fill:#4c72b0;fill-opacity:0.8;stroke:#4c72b0;stroke-opacity:0.8;\" x=\"217.566099\" xlink:href=\"#m7cbe78efb2\" y=\"134.581411\"/>\r\n     <use style=\"fill:#4c72b0;fill-opacity:0.8;stroke:#4c72b0;stroke-opacity:0.8;\" x=\"62.134202\" xlink:href=\"#m7cbe78efb2\" y=\"169.13958\"/>\r\n     <use style=\"fill:#4c72b0;fill-opacity:0.8;stroke:#4c72b0;stroke-opacity:0.8;\" x=\"63.3617\" xlink:href=\"#m7cbe78efb2\" y=\"76.523687\"/>\r\n     <use style=\"fill:#4c72b0;fill-opacity:0.8;stroke:#4c72b0;stroke-opacity:0.8;\" x=\"88.832277\" xlink:href=\"#m7cbe78efb2\" y=\"188.492155\"/>\r\n     <use style=\"fill:#4c72b0;fill-opacity:0.8;stroke:#4c72b0;stroke-opacity:0.8;\" x=\"354.278656\" xlink:href=\"#m7cbe78efb2\" y=\"72.376707\"/>\r\n     <use style=\"fill:#4c72b0;fill-opacity:0.8;stroke:#4c72b0;stroke-opacity:0.8;\" x=\"102.027877\" xlink:href=\"#m7cbe78efb2\" y=\"214.756364\"/>\r\n     <use style=\"fill:#4c72b0;fill-opacity:0.8;stroke:#4c72b0;stroke-opacity:0.8;\" x=\"154.810279\" xlink:href=\"#m7cbe78efb2\" y=\"138.728392\"/>\r\n     <use style=\"fill:#4c72b0;fill-opacity:0.8;stroke:#4c72b0;stroke-opacity:0.8;\" x=\"110.927236\" xlink:href=\"#m7cbe78efb2\" y=\"97.258589\"/>\r\n     <use style=\"fill:#4c72b0;fill-opacity:0.8;stroke:#4c72b0;stroke-opacity:0.8;\" x=\"117.985348\" xlink:href=\"#m7cbe78efb2\" y=\"119.375817\"/>\r\n     <use style=\"fill:#4c72b0;fill-opacity:0.8;stroke:#4c72b0;stroke-opacity:0.8;\" x=\"155.117153\" xlink:href=\"#m7cbe78efb2\" y=\"156.69864\"/>\r\n     <use style=\"fill:#4c72b0;fill-opacity:0.8;stroke:#4c72b0;stroke-opacity:0.8;\" x=\"165.550884\" xlink:href=\"#m7cbe78efb2\" y=\"108.317203\"/>\r\n     <use style=\"fill:#4c72b0;fill-opacity:0.8;stroke:#4c72b0;stroke-opacity:0.8;\" x=\"376.527052\" xlink:href=\"#m7cbe78efb2\" y=\"48.877152\"/>\r\n     <use style=\"fill:#4c72b0;fill-opacity:0.8;stroke:#4c72b0;stroke-opacity:0.8;\" x=\"102.027877\" xlink:href=\"#m7cbe78efb2\" y=\"108.317203\"/>\r\n     <use style=\"fill:#4c72b0;fill-opacity:0.8;stroke:#4c72b0;stroke-opacity:0.8;\" x=\"80.546667\" xlink:href=\"#m7cbe78efb2\" y=\"93.111608\"/>\r\n     <use style=\"fill:#4c72b0;fill-opacity:0.8;stroke:#4c72b0;stroke-opacity:0.8;\" x=\"260.681956\" xlink:href=\"#m7cbe78efb2\" y=\"101.405569\"/>\r\n     <use style=\"fill:#4c72b0;fill-opacity:0.8;stroke:#4c72b0;stroke-opacity:0.8;\" x=\"160.180581\" xlink:href=\"#m7cbe78efb2\" y=\"58.553439\"/>\r\n     <use style=\"fill:#4c72b0;fill-opacity:0.8;stroke:#4c72b0;stroke-opacity:0.8;\" x=\"368.855192\" xlink:href=\"#m7cbe78efb2\" y=\"47.494825\"/>\r\n     <use style=\"fill:#4c72b0;fill-opacity:0.8;stroke:#4c72b0;stroke-opacity:0.8;\" x=\"72.874807\" xlink:href=\"#m7cbe78efb2\" y=\"122.14047\"/>\r\n     <use style=\"fill:#4c72b0;fill-opacity:0.8;stroke:#4c72b0;stroke-opacity:0.8;\" x=\"117.678473\" xlink:href=\"#m7cbe78efb2\" y=\"119.375817\"/>\r\n     <use style=\"fill:#4c72b0;fill-opacity:0.8;stroke:#4c72b0;stroke-opacity:0.8;\" x=\"146.217795\" xlink:href=\"#m7cbe78efb2\" y=\"90.346955\"/>\r\n     <use style=\"fill:#4c72b0;fill-opacity:0.8;stroke:#4c72b0;stroke-opacity:0.8;\" x=\"137.778748\" xlink:href=\"#m7cbe78efb2\" y=\"101.405569\"/>\r\n     <use style=\"fill:#4c72b0;fill-opacity:0.8;stroke:#4c72b0;stroke-opacity:0.8;\" x=\"142.535302\" xlink:href=\"#m7cbe78efb2\" y=\"87.582301\"/>\r\n     <use style=\"fill:#4c72b0;fill-opacity:0.8;stroke:#4c72b0;stroke-opacity:0.8;\" x=\"84.229161\" xlink:href=\"#m7cbe78efb2\" y=\"126.287451\"/>\r\n     <use style=\"fill:#4c72b0;fill-opacity:0.8;stroke:#4c72b0;stroke-opacity:0.8;\" x=\"60.292955\" xlink:href=\"#m7cbe78efb2\" y=\"126.287451\"/>\r\n     <use style=\"fill:#4c72b0;fill-opacity:0.8;stroke:#4c72b0;stroke-opacity:0.8;\" x=\"349.061791\" xlink:href=\"#m7cbe78efb2\" y=\"53.024132\"/>\r\n     <use style=\"fill:#4c72b0;fill-opacity:0.8;stroke:#4c72b0;stroke-opacity:0.8;\" x=\"79.31917\" xlink:href=\"#m7cbe78efb2\" y=\"101.405569\"/>\r\n     <use style=\"fill:#4c72b0;fill-opacity:0.8;stroke:#4c72b0;stroke-opacity:0.8;\" x=\"121.974715\" xlink:href=\"#m7cbe78efb2\" y=\"98.640915\"/>\r\n     <use style=\"fill:#4c72b0;fill-opacity:0.8;stroke:#4c72b0;stroke-opacity:0.8;\" x=\"121.821278\" xlink:href=\"#m7cbe78efb2\" y=\"94.493935\"/>\r\n     <use style=\"fill:#4c72b0;fill-opacity:0.8;stroke:#4c72b0;stroke-opacity:0.8;\" x=\"164.937135\" xlink:href=\"#m7cbe78efb2\" y=\"115.228837\"/>\r\n     <use style=\"fill:#4c72b0;fill-opacity:0.8;stroke:#4c72b0;stroke-opacity:0.8;\" x=\"89.906338\" xlink:href=\"#m7cbe78efb2\" y=\"108.317203\"/>\r\n     <use style=\"fill:#4c72b0;fill-opacity:0.8;stroke:#4c72b0;stroke-opacity:0.8;\" x=\"124.583148\" xlink:href=\"#m7cbe78efb2\" y=\"120.758144\"/>\r\n     <use style=\"fill:#4c72b0;fill-opacity:0.8;stroke:#4c72b0;stroke-opacity:0.8;\" x=\"149.286539\" xlink:href=\"#m7cbe78efb2\" y=\"83.435321\"/>\r\n     <use style=\"fill:#4c72b0;fill-opacity:0.8;stroke:#4c72b0;stroke-opacity:0.8;\" x=\"117.371599\" xlink:href=\"#m7cbe78efb2\" y=\"105.552549\"/>\r\n     <use style=\"fill:#4c72b0;fill-opacity:0.8;stroke:#4c72b0;stroke-opacity:0.8;\" x=\"208.973615\" xlink:href=\"#m7cbe78efb2\" y=\"93.111608\"/>\r\n     <use style=\"fill:#4c72b0;fill-opacity:0.8;stroke:#4c72b0;stroke-opacity:0.8;\" x=\"111.694422\" xlink:href=\"#m7cbe78efb2\" y=\"98.640915\"/>\r\n     <use style=\"fill:#4c72b0;fill-opacity:0.8;stroke:#4c72b0;stroke-opacity:0.8;\" x=\"71.647309\" xlink:href=\"#m7cbe78efb2\" y=\"97.258589\"/>\r\n     <use style=\"fill:#4c72b0;fill-opacity:0.8;stroke:#4c72b0;stroke-opacity:0.8;\" x=\"156.804963\" xlink:href=\"#m7cbe78efb2\" y=\"129.052104\"/>\r\n     <use style=\"fill:#4c72b0;fill-opacity:0.8;stroke:#4c72b0;stroke-opacity:0.8;\" x=\"75.329802\" xlink:href=\"#m7cbe78efb2\" y=\"80.670668\"/>\r\n     <use style=\"fill:#4c72b0;fill-opacity:0.8;stroke:#4c72b0;stroke-opacity:0.8;\" x=\"209.127052\" xlink:href=\"#m7cbe78efb2\" y=\"119.375817\"/>\r\n     <use style=\"fill:#4c72b0;fill-opacity:0.8;stroke:#4c72b0;stroke-opacity:0.8;\" x=\"147.905604\" xlink:href=\"#m7cbe78efb2\" y=\"79.288341\"/>\r\n     <use style=\"fill:#4c72b0;fill-opacity:0.8;stroke:#4c72b0;stroke-opacity:0.8;\" x=\"115.683789\" xlink:href=\"#m7cbe78efb2\" y=\"115.228837\"/>\r\n     <use style=\"fill:#4c72b0;fill-opacity:0.8;stroke:#4c72b0;stroke-opacity:0.8;\" x=\"123.35565\" xlink:href=\"#m7cbe78efb2\" y=\"155.316313\"/>\r\n     <use style=\"fill:#4c72b0;fill-opacity:0.8;stroke:#4c72b0;stroke-opacity:0.8;\" x=\"226.618895\" xlink:href=\"#m7cbe78efb2\" y=\"73.759034\"/>\r\n     <use style=\"fill:#4c72b0;fill-opacity:0.8;stroke:#4c72b0;stroke-opacity:0.8;\" x=\"143.455925\" xlink:href=\"#m7cbe78efb2\" y=\"79.288341\"/>\r\n     <use style=\"fill:#4c72b0;fill-opacity:0.8;stroke:#4c72b0;stroke-opacity:0.8;\" x=\"324.204963\" xlink:href=\"#m7cbe78efb2\" y=\"41.965518\"/>\r\n     <use style=\"fill:#4c72b0;fill-opacity:0.8;stroke:#4c72b0;stroke-opacity:0.8;\" x=\"144.683423\" xlink:href=\"#m7cbe78efb2\" y=\"153.933986\"/>\r\n     <use style=\"fill:#4c72b0;fill-opacity:0.8;stroke:#4c72b0;stroke-opacity:0.8;\" x=\"164.937135\" xlink:href=\"#m7cbe78efb2\" y=\"90.346955\"/>\r\n     <use style=\"fill:#4c72b0;fill-opacity:0.8;stroke:#4c72b0;stroke-opacity:0.8;\" x=\"90.673524\" xlink:href=\"#m7cbe78efb2\" y=\"90.346955\"/>\r\n     <use style=\"fill:#4c72b0;fill-opacity:0.8;stroke:#4c72b0;stroke-opacity:0.8;\" x=\"201.608629\" xlink:href=\"#m7cbe78efb2\" y=\"87.582301\"/>\r\n     <use style=\"fill:#4c72b0;fill-opacity:0.8;stroke:#4c72b0;stroke-opacity:0.8;\" x=\"125.503771\" xlink:href=\"#m7cbe78efb2\" y=\"115.228837\"/>\r\n     <use style=\"fill:#4c72b0;fill-opacity:0.8;stroke:#4c72b0;stroke-opacity:0.8;\" x=\"197.15895\" xlink:href=\"#m7cbe78efb2\" y=\"76.523687\"/>\r\n     <use style=\"fill:#4c72b0;fill-opacity:0.8;stroke:#4c72b0;stroke-opacity:0.8;\" x=\"59.372332\" xlink:href=\"#m7cbe78efb2\" y=\"72.376707\"/>\r\n     <use style=\"fill:#4c72b0;fill-opacity:0.8;stroke:#4c72b0;stroke-opacity:0.8;\" x=\"144.990297\" xlink:href=\"#m7cbe78efb2\" y=\"122.14047\"/>\r\n     <use style=\"fill:#4c72b0;fill-opacity:0.8;stroke:#4c72b0;stroke-opacity:0.8;\" x=\"79.31917\" xlink:href=\"#m7cbe78efb2\" y=\"72.376707\"/>\r\n     <use style=\"fill:#4c72b0;fill-opacity:0.8;stroke:#4c72b0;stroke-opacity:0.8;\" x=\"92.207896\" xlink:href=\"#m7cbe78efb2\" y=\"122.14047\"/>\r\n     <use style=\"fill:#4c72b0;fill-opacity:0.8;stroke:#4c72b0;stroke-opacity:0.8;\" x=\"110.313487\" xlink:href=\"#m7cbe78efb2\" y=\"82.052994\"/>\r\n     <use style=\"fill:#4c72b0;fill-opacity:0.8;stroke:#4c72b0;stroke-opacity:0.8;\" x=\"105.863808\" xlink:href=\"#m7cbe78efb2\" y=\"124.905124\"/>\r\n     <use style=\"fill:#4c72b0;fill-opacity:0.8;stroke:#4c72b0;stroke-opacity:0.8;\" x=\"82.848226\" xlink:href=\"#m7cbe78efb2\" y=\"112.464183\"/>\r\n     <use style=\"fill:#4c72b0;fill-opacity:0.8;stroke:#4c72b0;stroke-opacity:0.8;\" x=\"110.16005\" xlink:href=\"#m7cbe78efb2\" y=\"101.405569\"/>\r\n     <use style=\"fill:#4c72b0;fill-opacity:0.8;stroke:#4c72b0;stroke-opacity:0.8;\" x=\"68.732002\" xlink:href=\"#m7cbe78efb2\" y=\"124.905124\"/>\r\n     <use style=\"fill:#4c72b0;fill-opacity:0.8;stroke:#4c72b0;stroke-opacity:0.8;\" x=\"139.619995\" xlink:href=\"#m7cbe78efb2\" y=\"112.464183\"/>\r\n     <use style=\"fill:#4c72b0;fill-opacity:0.8;stroke:#4c72b0;stroke-opacity:0.8;\" x=\"118.905971\" xlink:href=\"#m7cbe78efb2\" y=\"117.99349\"/>\r\n     <use style=\"fill:#4c72b0;fill-opacity:0.8;stroke:#4c72b0;stroke-opacity:0.8;\" x=\"64.43576\" xlink:href=\"#m7cbe78efb2\" y=\"62.70042\"/>\r\n     <use style=\"fill:#4c72b0;fill-opacity:0.8;stroke:#4c72b0;stroke-opacity:0.8;\" x=\"113.689106\" xlink:href=\"#m7cbe78efb2\" y=\"86.199975\"/>\r\n     <use style=\"fill:#4c72b0;fill-opacity:0.8;stroke:#4c72b0;stroke-opacity:0.8;\" x=\"173.836493\" xlink:href=\"#m7cbe78efb2\" y=\"126.287451\"/>\r\n     <use style=\"fill:#4c72b0;fill-opacity:0.8;stroke:#4c72b0;stroke-opacity:0.8;\" x=\"139.926869\" xlink:href=\"#m7cbe78efb2\" y=\"100.023242\"/>\r\n     <use style=\"fill:#4c72b0;fill-opacity:0.8;stroke:#4c72b0;stroke-opacity:0.8;\" x=\"285.385348\" xlink:href=\"#m7cbe78efb2\" y=\"98.640915\"/>\r\n     <use style=\"fill:#4c72b0;fill-opacity:0.8;stroke:#4c72b0;stroke-opacity:0.8;\" x=\"150.207162\" xlink:href=\"#m7cbe78efb2\" y=\"100.023242\"/>\r\n     <use style=\"fill:#4c72b0;fill-opacity:0.8;stroke:#4c72b0;stroke-opacity:0.8;\" x=\"126.731269\" xlink:href=\"#m7cbe78efb2\" y=\"126.287451\"/>\r\n     <use style=\"fill:#4c72b0;fill-opacity:0.8;stroke:#4c72b0;stroke-opacity:0.8;\" x=\"132.255008\" xlink:href=\"#m7cbe78efb2\" y=\"115.228837\"/>\r\n     <use style=\"fill:#4c72b0;fill-opacity:0.8;stroke:#4c72b0;stroke-opacity:0.8;\" x=\"259.761333\" xlink:href=\"#m7cbe78efb2\" y=\"90.346955\"/>\r\n     <use style=\"fill:#4c72b0;fill-opacity:0.8;stroke:#4c72b0;stroke-opacity:0.8;\" x=\"139.466557\" xlink:href=\"#m7cbe78efb2\" y=\"87.582301\"/>\r\n     <use style=\"fill:#4c72b0;fill-opacity:0.8;stroke:#4c72b0;stroke-opacity:0.8;\" x=\"135.937502\" xlink:href=\"#m7cbe78efb2\" y=\"140.110718\"/>\r\n     <use style=\"fill:#4c72b0;fill-opacity:0.8;stroke:#4c72b0;stroke-opacity:0.8;\" x=\"248.713854\" xlink:href=\"#m7cbe78efb2\" y=\"83.435321\"/>\r\n     <use style=\"fill:#4c72b0;fill-opacity:0.8;stroke:#4c72b0;stroke-opacity:0.8;\" x=\"281.856292\" xlink:href=\"#m7cbe78efb2\" y=\"51.641805\"/>\r\n     <use style=\"fill:#4c72b0;fill-opacity:0.8;stroke:#4c72b0;stroke-opacity:0.8;\" x=\"98.345384\" xlink:href=\"#m7cbe78efb2\" y=\"126.287451\"/>\r\n     <use style=\"fill:#4c72b0;fill-opacity:0.8;stroke:#4c72b0;stroke-opacity:0.8;\" x=\"68.732002\" xlink:href=\"#m7cbe78efb2\" y=\"90.346955\"/>\r\n     <use style=\"fill:#4c72b0;fill-opacity:0.8;stroke:#4c72b0;stroke-opacity:0.8;\" x=\"127.805329\" xlink:href=\"#m7cbe78efb2\" y=\"94.493935\"/>\r\n     <use style=\"fill:#4c72b0;fill-opacity:0.8;stroke:#4c72b0;stroke-opacity:0.8;\" x=\"272.650059\" xlink:href=\"#m7cbe78efb2\" y=\"44.730172\"/>\r\n     <use style=\"fill:#4c72b0;fill-opacity:0.8;stroke:#4c72b0;stroke-opacity:0.8;\" x=\"310.702488\" xlink:href=\"#m7cbe78efb2\" y=\"76.523687\"/>\r\n     <use style=\"fill:#4c72b0;fill-opacity:0.8;stroke:#4c72b0;stroke-opacity:0.8;\" x=\"291.522836\" xlink:href=\"#m7cbe78efb2\" y=\"65.465073\"/>\r\n     <use style=\"fill:#4c72b0;fill-opacity:0.8;stroke:#4c72b0;stroke-opacity:0.8;\" x=\"73.028244\" xlink:href=\"#m7cbe78efb2\" y=\"72.376707\"/>\r\n     <use style=\"fill:#4c72b0;fill-opacity:0.8;stroke:#4c72b0;stroke-opacity:0.8;\" x=\"154.349967\" xlink:href=\"#m7cbe78efb2\" y=\"111.081856\"/>\r\n     <use style=\"fill:#4c72b0;fill-opacity:0.8;stroke:#4c72b0;stroke-opacity:0.8;\" x=\"78.398546\" xlink:href=\"#m7cbe78efb2\" y=\"93.111608\"/>\r\n     <use style=\"fill:#4c72b0;fill-opacity:0.8;stroke:#4c72b0;stroke-opacity:0.8;\" x=\"245.338235\" xlink:href=\"#m7cbe78efb2\" y=\"101.405569\"/>\r\n     <use style=\"fill:#4c72b0;fill-opacity:0.8;stroke:#4c72b0;stroke-opacity:0.8;\" x=\"167.085256\" xlink:href=\"#m7cbe78efb2\" y=\"149.787006\"/>\r\n     <use style=\"fill:#4c72b0;fill-opacity:0.8;stroke:#4c72b0;stroke-opacity:0.8;\" x=\"57.377648\" xlink:href=\"#m7cbe78efb2\" y=\"83.435321\"/>\r\n     <use style=\"fill:#4c72b0;fill-opacity:0.8;stroke:#4c72b0;stroke-opacity:0.8;\" x=\"53.848592\" xlink:href=\"#m7cbe78efb2\" y=\"127.669777\"/>\r\n     <use style=\"fill:#4c72b0;fill-opacity:0.8;stroke:#4c72b0;stroke-opacity:0.8;\" x=\"56.303588\" xlink:href=\"#m7cbe78efb2\" y=\"97.258589\"/>\r\n     <use style=\"fill:#4c72b0;fill-opacity:0.8;stroke:#4c72b0;stroke-opacity:0.8;\" x=\"87.451342\" xlink:href=\"#m7cbe78efb2\" y=\"100.023242\"/>\r\n     <use style=\"fill:#4c72b0;fill-opacity:0.8;stroke:#4c72b0;stroke-opacity:0.8;\" x=\"273.724119\" xlink:href=\"#m7cbe78efb2\" y=\"86.199975\"/>\r\n     <use style=\"fill:#4c72b0;fill-opacity:0.8;stroke:#4c72b0;stroke-opacity:0.8;\" x=\"120.286906\" xlink:href=\"#m7cbe78efb2\" y=\"97.258589\"/>\r\n     <use style=\"fill:#4c72b0;fill-opacity:0.8;stroke:#4c72b0;stroke-opacity:0.8;\" x=\"125.196897\" xlink:href=\"#m7cbe78efb2\" y=\"119.375817\"/>\r\n     <use style=\"fill:#4c72b0;fill-opacity:0.8;stroke:#4c72b0;stroke-opacity:0.8;\" x=\"150.3606\" xlink:href=\"#m7cbe78efb2\" y=\"115.228837\"/>\r\n     <use style=\"fill:#4c72b0;fill-opacity:0.8;stroke:#4c72b0;stroke-opacity:0.8;\" x=\"65.202946\" xlink:href=\"#m7cbe78efb2\" y=\"134.581411\"/>\r\n     <use style=\"fill:#4c72b0;fill-opacity:0.8;stroke:#4c72b0;stroke-opacity:0.8;\" x=\"237.206063\" xlink:href=\"#m7cbe78efb2\" y=\"115.228837\"/>\r\n     <use style=\"fill:#4c72b0;fill-opacity:0.8;stroke:#4c72b0;stroke-opacity:0.8;\" x=\"299.501571\" xlink:href=\"#m7cbe78efb2\" y=\"69.612053\"/>\r\n     <use style=\"fill:#4c72b0;fill-opacity:0.8;stroke:#4c72b0;stroke-opacity:0.8;\" x=\"79.165733\" xlink:href=\"#m7cbe78efb2\" y=\"124.905124\"/>\r\n     <use style=\"fill:#4c72b0;fill-opacity:0.8;stroke:#4c72b0;stroke-opacity:0.8;\" x=\"153.889656\" xlink:href=\"#m7cbe78efb2\" y=\"97.258589\"/>\r\n     <use style=\"fill:#4c72b0;fill-opacity:0.8;stroke:#4c72b0;stroke-opacity:0.8;\" x=\"170.000563\" xlink:href=\"#m7cbe78efb2\" y=\"90.346955\"/>\r\n     <use style=\"fill:#4c72b0;fill-opacity:0.8;stroke:#4c72b0;stroke-opacity:0.8;\" x=\"146.524669\" xlink:href=\"#m7cbe78efb2\" y=\"112.464183\"/>\r\n     <use style=\"fill:#4c72b0;fill-opacity:0.8;stroke:#4c72b0;stroke-opacity:0.8;\" x=\"144.683423\" xlink:href=\"#m7cbe78efb2\" y=\"119.375817\"/>\r\n     <use style=\"fill:#4c72b0;fill-opacity:0.8;stroke:#4c72b0;stroke-opacity:0.8;\" x=\"133.789381\" xlink:href=\"#m7cbe78efb2\" y=\"119.375817\"/>\r\n     <use style=\"fill:#4c72b0;fill-opacity:0.8;stroke:#4c72b0;stroke-opacity:0.8;\" x=\"241.041993\" xlink:href=\"#m7cbe78efb2\" y=\"83.435321\"/>\r\n     <use style=\"fill:#4c72b0;fill-opacity:0.8;stroke:#4c72b0;stroke-opacity:0.8;\" x=\"158.03246\" xlink:href=\"#m7cbe78efb2\" y=\"94.493935\"/>\r\n     <use style=\"fill:#4c72b0;fill-opacity:0.8;stroke:#4c72b0;stroke-opacity:0.8;\" x=\"141.614678\" xlink:href=\"#m7cbe78efb2\" y=\"115.228837\"/>\r\n     <use style=\"fill:#4c72b0;fill-opacity:0.8;stroke:#4c72b0;stroke-opacity:0.8;\" x=\"361.029894\" xlink:href=\"#m7cbe78efb2\" y=\"62.70042\"/>\r\n     <use style=\"fill:#4c72b0;fill-opacity:0.8;stroke:#4c72b0;stroke-opacity:0.8;\" x=\"115.223478\" xlink:href=\"#m7cbe78efb2\" y=\"140.110718\"/>\r\n     <use style=\"fill:#4c72b0;fill-opacity:0.8;stroke:#4c72b0;stroke-opacity:0.8;\" x=\"230.147951\" xlink:href=\"#m7cbe78efb2\" y=\"101.405569\"/>\r\n     <use style=\"fill:#4c72b0;fill-opacity:0.8;stroke:#4c72b0;stroke-opacity:0.8;\" x=\"334.024944\" xlink:href=\"#m7cbe78efb2\" y=\"33.671558\"/>\r\n     <use style=\"fill:#4c72b0;fill-opacity:0.8;stroke:#4c72b0;stroke-opacity:0.8;\" x=\"172.302121\" xlink:href=\"#m7cbe78efb2\" y=\"102.787896\"/>\r\n     <use style=\"fill:#4c72b0;fill-opacity:0.8;stroke:#4c72b0;stroke-opacity:0.8;\" x=\"308.707804\" xlink:href=\"#m7cbe78efb2\" y=\"58.553439\"/>\r\n     <use style=\"fill:#4c72b0;fill-opacity:0.8;stroke:#4c72b0;stroke-opacity:0.8;\" x=\"86.684156\" xlink:href=\"#m7cbe78efb2\" y=\"123.522797\"/>\r\n     <use style=\"fill:#4c72b0;fill-opacity:0.8;stroke:#4c72b0;stroke-opacity:0.8;\" x=\"225.851709\" xlink:href=\"#m7cbe78efb2\" y=\"104.170223\"/>\r\n     <use style=\"fill:#4c72b0;fill-opacity:0.8;stroke:#4c72b0;stroke-opacity:0.8;\" x=\"98.191947\" xlink:href=\"#m7cbe78efb2\" y=\"97.258589\"/>\r\n     <use style=\"fill:#4c72b0;fill-opacity:0.8;stroke:#4c72b0;stroke-opacity:0.8;\" x=\"143.455925\" xlink:href=\"#m7cbe78efb2\" y=\"69.612053\"/>\r\n     <use style=\"fill:#4c72b0;fill-opacity:0.8;stroke:#4c72b0;stroke-opacity:0.8;\" x=\"162.328702\" xlink:href=\"#m7cbe78efb2\" y=\"58.553439\"/>\r\n     <use style=\"fill:#4c72b0;fill-opacity:0.8;stroke:#4c72b0;stroke-opacity:0.8;\" x=\"151.588097\" xlink:href=\"#m7cbe78efb2\" y=\"104.170223\"/>\r\n     <use style=\"fill:#4c72b0;fill-opacity:0.8;stroke:#4c72b0;stroke-opacity:0.8;\" x=\"243.9573\" xlink:href=\"#m7cbe78efb2\" y=\"117.99349\"/>\r\n     <use style=\"fill:#4c72b0;fill-opacity:0.8;stroke:#4c72b0;stroke-opacity:0.8;\" x=\"164.016512\" xlink:href=\"#m7cbe78efb2\" y=\"104.170223\"/>\r\n     <use style=\"fill:#4c72b0;fill-opacity:0.8;stroke:#4c72b0;stroke-opacity:0.8;\" x=\"276.639426\" xlink:href=\"#m7cbe78efb2\" y=\"100.023242\"/>\r\n     <use style=\"fill:#4c72b0;fill-opacity:0.8;stroke:#4c72b0;stroke-opacity:0.8;\" x=\"218.333285\" xlink:href=\"#m7cbe78efb2\" y=\"126.287451\"/>\r\n     <use style=\"fill:#4c72b0;fill-opacity:0.8;stroke:#4c72b0;stroke-opacity:0.8;\" x=\"105.403496\" xlink:href=\"#m7cbe78efb2\" y=\"101.405569\"/>\r\n     <use style=\"fill:#4c72b0;fill-opacity:0.8;stroke:#4c72b0;stroke-opacity:0.8;\" x=\"156.9584\" xlink:href=\"#m7cbe78efb2\" y=\"80.670668\"/>\r\n     <use style=\"fill:#4c72b0;fill-opacity:0.8;stroke:#4c72b0;stroke-opacity:0.8;\" x=\"367.781131\" xlink:href=\"#m7cbe78efb2\" y=\"26.759924\"/>\r\n     <use style=\"fill:#4c72b0;fill-opacity:0.8;stroke:#4c72b0;stroke-opacity:0.8;\" x=\"331.569949\" xlink:href=\"#m7cbe78efb2\" y=\"55.788786\"/>\r\n     <use style=\"fill:#4c72b0;fill-opacity:0.8;stroke:#4c72b0;stroke-opacity:0.8;\" x=\"135.784064\" xlink:href=\"#m7cbe78efb2\" y=\"97.258589\"/>\r\n     <use style=\"fill:#4c72b0;fill-opacity:0.8;stroke:#4c72b0;stroke-opacity:0.8;\" x=\"161.254642\" xlink:href=\"#m7cbe78efb2\" y=\"122.14047\"/>\r\n     <use style=\"fill:#4c72b0;fill-opacity:0.8;stroke:#4c72b0;stroke-opacity:0.8;\" x=\"236.592314\" xlink:href=\"#m7cbe78efb2\" y=\"69.612053\"/>\r\n     <use style=\"fill:#4c72b0;fill-opacity:0.8;stroke:#4c72b0;stroke-opacity:0.8;\" x=\"182.582414\" xlink:href=\"#m7cbe78efb2\" y=\"111.081856\"/>\r\n     <use style=\"fill:#4c72b0;fill-opacity:0.8;stroke:#4c72b0;stroke-opacity:0.8;\" x=\"215.724853\" xlink:href=\"#m7cbe78efb2\" y=\"140.110718\"/>\r\n     <use style=\"fill:#4c72b0;fill-opacity:0.8;stroke:#4c72b0;stroke-opacity:0.8;\" x=\"181.354917\" xlink:href=\"#m7cbe78efb2\" y=\"135.963738\"/>\r\n     <use style=\"fill:#4c72b0;fill-opacity:0.8;stroke:#4c72b0;stroke-opacity:0.8;\" x=\"151.588097\" xlink:href=\"#m7cbe78efb2\" y=\"138.728392\"/>\r\n     <use style=\"fill:#4c72b0;fill-opacity:0.8;stroke:#4c72b0;stroke-opacity:0.8;\" x=\"147.291855\" xlink:href=\"#m7cbe78efb2\" y=\"115.228837\"/>\r\n     <use style=\"fill:#4c72b0;fill-opacity:0.8;stroke:#4c72b0;stroke-opacity:0.8;\" x=\"126.424394\" xlink:href=\"#m7cbe78efb2\" y=\"189.874482\"/>\r\n     <use style=\"fill:#4c72b0;fill-opacity:0.8;stroke:#4c72b0;stroke-opacity:0.8;\" x=\"154.503404\" xlink:href=\"#m7cbe78efb2\" y=\"87.582301\"/>\r\n     <use style=\"fill:#4c72b0;fill-opacity:0.8;stroke:#4c72b0;stroke-opacity:0.8;\" x=\"67.811379\" xlink:href=\"#m7cbe78efb2\" y=\"117.99349\"/>\r\n     <use style=\"fill:#4c72b0;fill-opacity:0.8;stroke:#4c72b0;stroke-opacity:0.8;\" x=\"82.848226\" xlink:href=\"#m7cbe78efb2\" y=\"120.758144\"/>\r\n     <use style=\"fill:#4c72b0;fill-opacity:0.8;stroke:#4c72b0;stroke-opacity:0.8;\" x=\"216.031727\" xlink:href=\"#m7cbe78efb2\" y=\"137.346065\"/>\r\n     <use style=\"fill:#4c72b0;fill-opacity:0.8;stroke:#4c72b0;stroke-opacity:0.8;\" x=\"138.085623\" xlink:href=\"#m7cbe78efb2\" y=\"180.198195\"/>\r\n     <use style=\"fill:#4c72b0;fill-opacity:0.8;stroke:#4c72b0;stroke-opacity:0.8;\" x=\"216.95235\" xlink:href=\"#m7cbe78efb2\" y=\"69.612053\"/>\r\n     <use style=\"fill:#4c72b0;fill-opacity:0.8;stroke:#4c72b0;stroke-opacity:0.8;\" x=\"184.883973\" xlink:href=\"#m7cbe78efb2\" y=\"182.962848\"/>\r\n     <use style=\"fill:#4c72b0;fill-opacity:0.8;stroke:#4c72b0;stroke-opacity:0.8;\" x=\"164.169949\" xlink:href=\"#m7cbe78efb2\" y=\"149.787006\"/>\r\n     <use style=\"fill:#4c72b0;fill-opacity:0.8;stroke:#4c72b0;stroke-opacity:0.8;\" x=\"293.210645\" xlink:href=\"#m7cbe78efb2\" y=\"76.523687\"/>\r\n     <use style=\"fill:#4c72b0;fill-opacity:0.8;stroke:#4c72b0;stroke-opacity:0.8;\" x=\"57.531085\" xlink:href=\"#m7cbe78efb2\" y=\"104.170223\"/>\r\n     <use style=\"fill:#4c72b0;fill-opacity:0.8;stroke:#4c72b0;stroke-opacity:0.8;\" x=\"134.556567\" xlink:href=\"#m7cbe78efb2\" y=\"97.258589\"/>\r\n     <use style=\"fill:#4c72b0;fill-opacity:0.8;stroke:#4c72b0;stroke-opacity:0.8;\" x=\"268.660691\" xlink:href=\"#m7cbe78efb2\" y=\"126.287451\"/>\r\n     <use style=\"fill:#4c72b0;fill-opacity:0.8;stroke:#4c72b0;stroke-opacity:0.8;\" x=\"179.667107\" xlink:href=\"#m7cbe78efb2\" y=\"106.934876\"/>\r\n     <use style=\"fill:#4c72b0;fill-opacity:0.8;stroke:#4c72b0;stroke-opacity:0.8;\" x=\"141.768116\" xlink:href=\"#m7cbe78efb2\" y=\"90.346955\"/>\r\n     <use style=\"fill:#4c72b0;fill-opacity:0.8;stroke:#4c72b0;stroke-opacity:0.8;\" x=\"133.635943\" xlink:href=\"#m7cbe78efb2\" y=\"159.463293\"/>\r\n     <use style=\"fill:#4c72b0;fill-opacity:0.8;stroke:#4c72b0;stroke-opacity:0.8;\" x=\"293.364083\" xlink:href=\"#m7cbe78efb2\" y=\"76.523687\"/>\r\n     <use style=\"fill:#4c72b0;fill-opacity:0.8;stroke:#4c72b0;stroke-opacity:0.8;\" x=\"163.095888\" xlink:href=\"#m7cbe78efb2\" y=\"148.404679\"/>\r\n     <use style=\"fill:#4c72b0;fill-opacity:0.8;stroke:#4c72b0;stroke-opacity:0.8;\" x=\"351.670224\" xlink:href=\"#m7cbe78efb2\" y=\"40.583191\"/>\r\n     <use style=\"fill:#4c72b0;fill-opacity:0.8;stroke:#4c72b0;stroke-opacity:0.8;\" x=\"142.07499\" xlink:href=\"#m7cbe78efb2\" y=\"122.14047\"/>\r\n     <use style=\"fill:#4c72b0;fill-opacity:0.8;stroke:#4c72b0;stroke-opacity:0.8;\" x=\"93.588831\" xlink:href=\"#m7cbe78efb2\" y=\"97.258589\"/>\r\n     <use style=\"fill:#4c72b0;fill-opacity:0.8;stroke:#4c72b0;stroke-opacity:0.8;\" x=\"59.372332\" xlink:href=\"#m7cbe78efb2\" y=\"111.081856\"/>\r\n     <use style=\"fill:#4c72b0;fill-opacity:0.8;stroke:#4c72b0;stroke-opacity:0.8;\" x=\"181.661791\" xlink:href=\"#m7cbe78efb2\" y=\"102.787896\"/>\r\n     <use style=\"fill:#4c72b0;fill-opacity:0.8;stroke:#4c72b0;stroke-opacity:0.8;\" x=\"91.594147\" xlink:href=\"#m7cbe78efb2\" y=\"122.14047\"/>\r\n     <use style=\"fill:#4c72b0;fill-opacity:0.8;stroke:#4c72b0;stroke-opacity:0.8;\" x=\"128.419078\" xlink:href=\"#m7cbe78efb2\" y=\"122.14047\"/>\r\n     <use style=\"fill:#4c72b0;fill-opacity:0.8;stroke:#4c72b0;stroke-opacity:0.8;\" x=\"387.881406\" xlink:href=\"#m7cbe78efb2\" y=\"39.200865\"/>\r\n     <use style=\"fill:#4c72b0;fill-opacity:0.8;stroke:#4c72b0;stroke-opacity:0.8;\" x=\"160.947767\" xlink:href=\"#m7cbe78efb2\" y=\"162.227947\"/>\r\n     <use style=\"fill:#4c72b0;fill-opacity:0.8;stroke:#4c72b0;stroke-opacity:0.8;\" x=\"245.184798\" xlink:href=\"#m7cbe78efb2\" y=\"153.933986\"/>\r\n     <use style=\"fill:#4c72b0;fill-opacity:0.8;stroke:#4c72b0;stroke-opacity:0.8;\" x=\"87.451342\" xlink:href=\"#m7cbe78efb2\" y=\"94.493935\"/>\r\n     <use style=\"fill:#4c72b0;fill-opacity:0.8;stroke:#4c72b0;stroke-opacity:0.8;\" x=\"230.454825\" xlink:href=\"#m7cbe78efb2\" y=\"72.376707\"/>\r\n     <use style=\"fill:#4c72b0;fill-opacity:0.8;stroke:#4c72b0;stroke-opacity:0.8;\" x=\"156.498088\" xlink:href=\"#m7cbe78efb2\" y=\"133.199085\"/>\r\n     <use style=\"fill:#4c72b0;fill-opacity:0.8;stroke:#4c72b0;stroke-opacity:0.8;\" x=\"77.63136\" xlink:href=\"#m7cbe78efb2\" y=\"83.435321\"/>\r\n     <use style=\"fill:#4c72b0;fill-opacity:0.8;stroke:#4c72b0;stroke-opacity:0.8;\" x=\"78.398546\" xlink:href=\"#m7cbe78efb2\" y=\"144.257699\"/>\r\n     <use style=\"fill:#4c72b0;fill-opacity:0.8;stroke:#4c72b0;stroke-opacity:0.8;\" x=\"64.282323\" xlink:href=\"#m7cbe78efb2\" y=\"153.933986\"/>\r\n     <use style=\"fill:#4c72b0;fill-opacity:0.8;stroke:#4c72b0;stroke-opacity:0.8;\" x=\"188.413029\" xlink:href=\"#m7cbe78efb2\" y=\"141.493045\"/>\r\n     <use style=\"fill:#4c72b0;fill-opacity:0.8;stroke:#4c72b0;stroke-opacity:0.8;\" x=\"94.049142\" xlink:href=\"#m7cbe78efb2\" y=\"122.14047\"/>\r\n     <use style=\"fill:#4c72b0;fill-opacity:0.8;stroke:#4c72b0;stroke-opacity:0.8;\" x=\"253.010096\" xlink:href=\"#m7cbe78efb2\" y=\"115.228837\"/>\r\n     <use style=\"fill:#4c72b0;fill-opacity:0.8;stroke:#4c72b0;stroke-opacity:0.8;\" x=\"140.233744\" xlink:href=\"#m7cbe78efb2\" y=\"124.905124\"/>\r\n     <use style=\"fill:#4c72b0;fill-opacity:0.8;stroke:#4c72b0;stroke-opacity:0.8;\" x=\"139.926869\" xlink:href=\"#m7cbe78efb2\" y=\"117.99349\"/>\r\n     <use style=\"fill:#4c72b0;fill-opacity:0.8;stroke:#4c72b0;stroke-opacity:0.8;\" x=\"113.99598\" xlink:href=\"#m7cbe78efb2\" y=\"166.374927\"/>\r\n     <use style=\"fill:#4c72b0;fill-opacity:0.8;stroke:#4c72b0;stroke-opacity:0.8;\" x=\"177.365549\" xlink:href=\"#m7cbe78efb2\" y=\"138.728392\"/>\r\n     <use style=\"fill:#4c72b0;fill-opacity:0.8;stroke:#4c72b0;stroke-opacity:0.8;\" x=\"56.457025\" xlink:href=\"#m7cbe78efb2\" y=\"100.023242\"/>\r\n     <use style=\"fill:#4c72b0;fill-opacity:0.8;stroke:#4c72b0;stroke-opacity:0.8;\" x=\"257.766649\" xlink:href=\"#m7cbe78efb2\" y=\"83.435321\"/>\r\n     <use style=\"fill:#4c72b0;fill-opacity:0.8;stroke:#4c72b0;stroke-opacity:0.8;\" x=\"303.95125\" xlink:href=\"#m7cbe78efb2\" y=\"40.583191\"/>\r\n     <use style=\"fill:#4c72b0;fill-opacity:0.8;stroke:#4c72b0;stroke-opacity:0.8;\" x=\"69.038876\" xlink:href=\"#m7cbe78efb2\" y=\"90.346955\"/>\r\n     <use style=\"fill:#4c72b0;fill-opacity:0.8;stroke:#4c72b0;stroke-opacity:0.8;\" x=\"95.430077\" xlink:href=\"#m7cbe78efb2\" y=\"108.317203\"/>\r\n     <use style=\"fill:#4c72b0;fill-opacity:0.8;stroke:#4c72b0;stroke-opacity:0.8;\" x=\"106.477557\" xlink:href=\"#m7cbe78efb2\" y=\"134.581411\"/>\r\n     <use style=\"fill:#4c72b0;fill-opacity:0.8;stroke:#4c72b0;stroke-opacity:0.8;\" x=\"272.03631\" xlink:href=\"#m7cbe78efb2\" y=\"51.641805\"/>\r\n     <use style=\"fill:#4c72b0;fill-opacity:0.8;stroke:#4c72b0;stroke-opacity:0.8;\" x=\"127.19158\" xlink:href=\"#m7cbe78efb2\" y=\"106.934876\"/>\r\n     <use style=\"fill:#4c72b0;fill-opacity:0.8;stroke:#4c72b0;stroke-opacity:0.8;\" x=\"112.92192\" xlink:href=\"#m7cbe78efb2\" y=\"156.69864\"/>\r\n     <use style=\"fill:#4c72b0;fill-opacity:0.8;stroke:#4c72b0;stroke-opacity:0.8;\" x=\"220.788281\" xlink:href=\"#m7cbe78efb2\" y=\"98.640915\"/>\r\n     <use style=\"fill:#4c72b0;fill-opacity:0.8;stroke:#4c72b0;stroke-opacity:0.8;\" x=\"96.197263\" xlink:href=\"#m7cbe78efb2\" y=\"135.963738\"/>\r\n     <use style=\"fill:#4c72b0;fill-opacity:0.8;stroke:#4c72b0;stroke-opacity:0.8;\" x=\"118.599096\" xlink:href=\"#m7cbe78efb2\" y=\"166.374927\"/>\r\n     <use style=\"fill:#4c72b0;fill-opacity:0.8;stroke:#4c72b0;stroke-opacity:0.8;\" x=\"240.735118\" xlink:href=\"#m7cbe78efb2\" y=\"153.933986\"/>\r\n     <use style=\"fill:#4c72b0;fill-opacity:0.8;stroke:#4c72b0;stroke-opacity:0.8;\" x=\"68.732002\" xlink:href=\"#m7cbe78efb2\" y=\"90.346955\"/>\r\n     <use style=\"fill:#4c72b0;fill-opacity:0.8;stroke:#4c72b0;stroke-opacity:0.8;\" x=\"166.931819\" xlink:href=\"#m7cbe78efb2\" y=\"200.933096\"/>\r\n     <use style=\"fill:#4c72b0;fill-opacity:0.8;stroke:#4c72b0;stroke-opacity:0.8;\" x=\"63.822011\" xlink:href=\"#m7cbe78efb2\" y=\"88.964628\"/>\r\n     <use style=\"fill:#4c72b0;fill-opacity:0.8;stroke:#4c72b0;stroke-opacity:0.8;\" x=\"283.390664\" xlink:href=\"#m7cbe78efb2\" y=\"94.493935\"/>\r\n     <use style=\"fill:#4c72b0;fill-opacity:0.8;stroke:#4c72b0;stroke-opacity:0.8;\" x=\"322.056842\" xlink:href=\"#m7cbe78efb2\" y=\"76.523687\"/>\r\n     <use style=\"fill:#4c72b0;fill-opacity:0.8;stroke:#4c72b0;stroke-opacity:0.8;\" x=\"127.651892\" xlink:href=\"#m7cbe78efb2\" y=\"170.521907\"/>\r\n     <use style=\"fill:#4c72b0;fill-opacity:0.8;stroke:#4c72b0;stroke-opacity:0.8;\" x=\"249.174165\" xlink:href=\"#m7cbe78efb2\" y=\"94.493935\"/>\r\n     <use style=\"fill:#4c72b0;fill-opacity:0.8;stroke:#4c72b0;stroke-opacity:0.8;\" x=\"271.269124\" xlink:href=\"#m7cbe78efb2\" y=\"141.493045\"/>\r\n     <use style=\"fill:#4c72b0;fill-opacity:0.8;stroke:#4c72b0;stroke-opacity:0.8;\" x=\"283.237227\" xlink:href=\"#m7cbe78efb2\" y=\"76.523687\"/>\r\n     <use style=\"fill:#4c72b0;fill-opacity:0.8;stroke:#4c72b0;stroke-opacity:0.8;\" x=\"69.499188\" xlink:href=\"#m7cbe78efb2\" y=\"158.080966\"/>\r\n     <use style=\"fill:#4c72b0;fill-opacity:0.8;stroke:#4c72b0;stroke-opacity:0.8;\" x=\"363.024578\" xlink:href=\"#m7cbe78efb2\" y=\"55.788786\"/>\r\n     <use style=\"fill:#4c72b0;fill-opacity:0.8;stroke:#4c72b0;stroke-opacity:0.8;\" x=\"236.899188\" xlink:href=\"#m7cbe78efb2\" y=\"97.258589\"/>\r\n     <use style=\"fill:#4c72b0;fill-opacity:0.8;stroke:#4c72b0;stroke-opacity:0.8;\" x=\"60.59983\" xlink:href=\"#m7cbe78efb2\" y=\"115.228837\"/>\r\n     <use style=\"fill:#4c72b0;fill-opacity:0.8;stroke:#4c72b0;stroke-opacity:0.8;\" x=\"152.201846\" xlink:href=\"#m7cbe78efb2\" y=\"112.464183\"/>\r\n     <use style=\"fill:#4c72b0;fill-opacity:0.8;stroke:#4c72b0;stroke-opacity:0.8;\" x=\"336.786814\" xlink:href=\"#m7cbe78efb2\" y=\"41.965518\"/>\r\n     <use style=\"fill:#4c72b0;fill-opacity:0.8;stroke:#4c72b0;stroke-opacity:0.8;\" x=\"134.096255\" xlink:href=\"#m7cbe78efb2\" y=\"158.080966\"/>\r\n     <use style=\"fill:#4c72b0;fill-opacity:0.8;stroke:#4c72b0;stroke-opacity:0.8;\" x=\"130.260325\" xlink:href=\"#m7cbe78efb2\" y=\"169.13958\"/>\r\n     <use style=\"fill:#4c72b0;fill-opacity:0.8;stroke:#4c72b0;stroke-opacity:0.8;\" x=\"274.951617\" xlink:href=\"#m7cbe78efb2\" y=\"54.406459\"/>\r\n     <use style=\"fill:#4c72b0;fill-opacity:0.8;stroke:#4c72b0;stroke-opacity:0.8;\" x=\"56.457025\" xlink:href=\"#m7cbe78efb2\" y=\"147.022352\"/>\r\n     <use style=\"fill:#4c72b0;fill-opacity:0.8;stroke:#4c72b0;stroke-opacity:0.8;\" x=\"353.664908\" xlink:href=\"#m7cbe78efb2\" y=\"33.671558\"/>\r\n     <use style=\"fill:#4c72b0;fill-opacity:0.8;stroke:#4c72b0;stroke-opacity:0.8;\" x=\"125.350334\" xlink:href=\"#m7cbe78efb2\" y=\"137.346065\"/>\r\n     <use style=\"fill:#4c72b0;fill-opacity:0.8;stroke:#4c72b0;stroke-opacity:0.8;\" x=\"280.628794\" xlink:href=\"#m7cbe78efb2\" y=\"37.818538\"/>\r\n     <use style=\"fill:#4c72b0;fill-opacity:0.8;stroke:#4c72b0;stroke-opacity:0.8;\" x=\"106.477557\" xlink:href=\"#m7cbe78efb2\" y=\"80.670668\"/>\r\n     <use style=\"fill:#4c72b0;fill-opacity:0.8;stroke:#4c72b0;stroke-opacity:0.8;\" x=\"78.858858\" xlink:href=\"#m7cbe78efb2\" y=\"126.287451\"/>\r\n     <use style=\"fill:#4c72b0;fill-opacity:0.8;stroke:#4c72b0;stroke-opacity:0.8;\" x=\"134.096255\" xlink:href=\"#m7cbe78efb2\" y=\"122.14047\"/>\r\n     <use style=\"fill:#4c72b0;fill-opacity:0.8;stroke:#4c72b0;stroke-opacity:0.8;\" x=\"213.883606\" xlink:href=\"#m7cbe78efb2\" y=\"140.110718\"/>\r\n     <use style=\"fill:#4c72b0;fill-opacity:0.8;stroke:#4c72b0;stroke-opacity:0.8;\" x=\"265.285073\" xlink:href=\"#m7cbe78efb2\" y=\"116.611163\"/>\r\n     <use style=\"fill:#4c72b0;fill-opacity:0.8;stroke:#4c72b0;stroke-opacity:0.8;\" x=\"384.812662\" xlink:href=\"#m7cbe78efb2\" y=\"26.759924\"/>\r\n     <use style=\"fill:#4c72b0;fill-opacity:0.8;stroke:#4c72b0;stroke-opacity:0.8;\" x=\"239.967932\" xlink:href=\"#m7cbe78efb2\" y=\"77.906014\"/>\r\n    </g>\r\n   </g>\r\n   <g id=\"PolyCollection_1\">\r\n    <defs>\r\n     <path d=\"M 53.081406 -139.495549 \r\nL 53.081406 -127.795103 \r\nL 56.463224 -128.552315 \r\nL 59.845043 -129.309528 \r\nL 63.226861 -130.06674 \r\nL 66.608679 -130.798057 \r\nL 69.990497 -131.508462 \r\nL 73.372315 -132.177522 \r\nL 76.754134 -132.929706 \r\nL 80.135952 -133.69809 \r\nL 83.51777 -134.487667 \r\nL 86.899588 -135.26133 \r\nL 90.281406 -136.03735 \r\nL 93.663224 -136.78138 \r\nL 97.045043 -137.468826 \r\nL 100.426861 -138.237129 \r\nL 103.808679 -139.001698 \r\nL 107.190497 -139.740218 \r\nL 110.572315 -140.480625 \r\nL 113.954134 -141.18429 \r\nL 117.335952 -141.886101 \r\nL 120.71777 -142.65746 \r\nL 124.099588 -143.414591 \r\nL 127.481406 -144.138137 \r\nL 130.863224 -144.857844 \r\nL 134.245043 -145.586578 \r\nL 137.626861 -146.407163 \r\nL 141.008679 -147.130618 \r\nL 144.390497 -147.878319 \r\nL 147.772315 -148.572953 \r\nL 151.154134 -149.268678 \r\nL 154.535952 -149.935789 \r\nL 157.91777 -150.650893 \r\nL 161.299588 -151.318158 \r\nL 164.681406 -151.945124 \r\nL 168.063224 -152.639249 \r\nL 171.445043 -153.291154 \r\nL 174.826861 -153.974551 \r\nL 178.208679 -154.585175 \r\nL 181.590497 -155.237528 \r\nL 184.972315 -155.963732 \r\nL 188.354134 -156.62095 \r\nL 191.735952 -157.267694 \r\nL 195.11777 -157.94792 \r\nL 198.499588 -158.621374 \r\nL 201.881406 -159.265307 \r\nL 205.263224 -159.849596 \r\nL 208.645043 -160.493078 \r\nL 212.026861 -161.086593 \r\nL 215.408679 -161.696121 \r\nL 218.790497 -162.318038 \r\nL 222.172315 -162.890999 \r\nL 225.554134 -163.478747 \r\nL 228.935952 -164.098005 \r\nL 232.31777 -164.716458 \r\nL 235.699588 -165.24277 \r\nL 239.081406 -165.821083 \r\nL 242.463224 -166.311771 \r\nL 245.845043 -166.802141 \r\nL 249.226861 -167.386075 \r\nL 252.608679 -167.946878 \r\nL 255.990497 -168.547128 \r\nL 259.372315 -169.164077 \r\nL 262.754134 -169.779794 \r\nL 266.135952 -170.370393 \r\nL 269.51777 -170.949937 \r\nL 272.899588 -171.494843 \r\nL 276.281406 -172.045635 \r\nL 279.663224 -172.616469 \r\nL 283.045043 -173.157198 \r\nL 286.426861 -173.697928 \r\nL 289.808679 -174.238657 \r\nL 293.190497 -174.779386 \r\nL 296.572315 -175.321778 \r\nL 299.954134 -175.919703 \r\nL 303.335952 -176.517628 \r\nL 306.71777 -177.052665 \r\nL 310.099588 -177.569376 \r\nL 313.481406 -178.056395 \r\nL 316.863224 -178.568768 \r\nL 320.245043 -179.112765 \r\nL 323.626861 -179.649145 \r\nL 327.008679 -180.186121 \r\nL 330.390497 -180.726241 \r\nL 333.772315 -181.266361 \r\nL 337.154134 -181.80648 \r\nL 340.535952 -182.3466 \r\nL 343.91777 -182.886719 \r\nL 347.299588 -183.426839 \r\nL 350.681406 -183.968135 \r\nL 354.063224 -184.50944 \r\nL 357.445043 -185.050744 \r\nL 360.826861 -185.592049 \r\nL 364.208679 -186.133353 \r\nL 367.590497 -186.698489 \r\nL 370.972315 -187.265336 \r\nL 374.354134 -187.832923 \r\nL 377.735952 -188.367291 \r\nL 381.11777 -188.906199 \r\nL 384.499588 -189.449904 \r\nL 387.881406 -189.993609 \r\nL 387.881406 -206.782668 \r\nL 387.881406 -206.782668 \r\nL 384.499588 -205.990077 \r\nL 381.11777 -205.197721 \r\nL 377.735952 -204.405887 \r\nL 374.354134 -203.613953 \r\nL 370.972315 -202.821774 \r\nL 367.590497 -202.029595 \r\nL 364.208679 -201.237416 \r\nL 360.826861 -200.445237 \r\nL 357.445043 -199.653058 \r\nL 354.063224 -198.86088 \r\nL 350.681406 -198.068701 \r\nL 347.299588 -197.303168 \r\nL 343.91777 -196.593256 \r\nL 340.535952 -195.788153 \r\nL 337.154134 -194.988426 \r\nL 333.772315 -194.240062 \r\nL 330.390497 -193.474758 \r\nL 327.008679 -192.783198 \r\nL 323.626861 -192.079288 \r\nL 320.245043 -191.324384 \r\nL 316.863224 -190.55411 \r\nL 313.481406 -189.817735 \r\nL 310.099588 -189.047934 \r\nL 306.71777 -188.240594 \r\nL 303.335952 -187.468551 \r\nL 299.954134 -186.698842 \r\nL 296.572315 -185.943278 \r\nL 293.190497 -185.230897 \r\nL 289.808679 -184.509819 \r\nL 286.426861 -183.714911 \r\nL 283.045043 -182.981192 \r\nL 279.663224 -182.197942 \r\nL 276.281406 -181.482432 \r\nL 272.899588 -180.673908 \r\nL 269.51777 -179.926005 \r\nL 266.135952 -179.146289 \r\nL 262.754134 -178.414347 \r\nL 259.372315 -177.683279 \r\nL 255.990497 -176.978696 \r\nL 252.608679 -176.262166 \r\nL 249.226861 -175.528913 \r\nL 245.845043 -174.775632 \r\nL 242.463224 -174.023989 \r\nL 239.081406 -173.330073 \r\nL 235.699588 -172.597233 \r\nL 232.31777 -171.862282 \r\nL 228.935952 -171.161451 \r\nL 225.554134 -170.466301 \r\nL 222.172315 -169.770796 \r\nL 218.790497 -169.05112 \r\nL 215.408679 -168.322714 \r\nL 212.026861 -167.653511 \r\nL 208.645043 -166.955757 \r\nL 205.263224 -166.277841 \r\nL 201.881406 -165.600697 \r\nL 198.499588 -164.957849 \r\nL 195.11777 -164.325398 \r\nL 191.735952 -163.668776 \r\nL 188.354134 -162.993784 \r\nL 184.972315 -162.268126 \r\nL 181.590497 -161.54261 \r\nL 178.208679 -160.865101 \r\nL 174.826861 -160.217225 \r\nL 171.445043 -159.588953 \r\nL 168.063224 -158.923743 \r\nL 164.681406 -158.23341 \r\nL 161.299588 -157.546131 \r\nL 157.91777 -156.971883 \r\nL 154.535952 -156.326379 \r\nL 151.154134 -155.678871 \r\nL 147.772315 -155.071051 \r\nL 144.390497 -154.474359 \r\nL 141.008679 -153.864198 \r\nL 137.626861 -153.24891 \r\nL 134.245043 -152.675172 \r\nL 130.863224 -152.082696 \r\nL 127.481406 -151.545623 \r\nL 124.099588 -151.000319 \r\nL 120.71777 -150.439698 \r\nL 117.335952 -149.857977 \r\nL 113.954134 -149.272997 \r\nL 110.572315 -148.749024 \r\nL 107.190497 -148.207492 \r\nL 103.808679 -147.647868 \r\nL 100.426861 -147.101257 \r\nL 97.045043 -146.561027 \r\nL 93.663224 -146.019154 \r\nL 90.281406 -145.47728 \r\nL 86.899588 -144.916219 \r\nL 83.51777 -144.291679 \r\nL 80.135952 -143.727713 \r\nL 76.754134 -143.167866 \r\nL 73.372315 -142.636475 \r\nL 69.990497 -142.112987 \r\nL 66.608679 -141.5895 \r\nL 63.226861 -141.066012 \r\nL 59.845043 -140.542524 \r\nL 56.463224 -140.019037 \r\nL 53.081406 -139.495549 \r\nz\r\n\" id=\"m4647939e8c\" style=\"stroke:#ffffff;stroke-opacity:0.15;\"/>\r\n    </defs>\r\n    <g clip-path=\"url(#p522cf7c682)\">\r\n     <use style=\"fill:#4c72b0;fill-opacity:0.15;stroke:#ffffff;stroke-opacity:0.15;\" x=\"0\" xlink:href=\"#m4647939e8c\" y=\"266.514844\"/>\r\n    </g>\r\n   </g>\r\n   <g id=\"line2d_17\">\r\n    <path clip-path=\"url(#p522cf7c682)\" d=\"M 53.081406 133.197613 \r\nL 56.463224 132.536053 \r\nL 59.845043 131.874493 \r\nL 63.226861 131.212933 \r\nL 66.608679 130.551373 \r\nL 69.990497 129.889813 \r\nL 73.372315 129.228253 \r\nL 76.754134 128.566693 \r\nL 80.135952 127.905133 \r\nL 83.51777 127.243573 \r\nL 86.899588 126.582014 \r\nL 90.281406 125.920454 \r\nL 93.663224 125.258894 \r\nL 97.045043 124.597334 \r\nL 100.426861 123.935774 \r\nL 103.808679 123.274214 \r\nL 107.190497 122.612654 \r\nL 110.572315 121.951094 \r\nL 113.954134 121.289534 \r\nL 117.335952 120.627974 \r\nL 120.71777 119.966415 \r\nL 124.099588 119.304855 \r\nL 127.481406 118.643295 \r\nL 130.863224 117.981735 \r\nL 134.245043 117.320175 \r\nL 137.626861 116.658615 \r\nL 141.008679 115.997055 \r\nL 144.390497 115.335495 \r\nL 147.772315 114.673935 \r\nL 151.154134 114.012375 \r\nL 154.535952 113.350816 \r\nL 157.91777 112.689256 \r\nL 161.299588 112.027696 \r\nL 164.681406 111.366136 \r\nL 168.063224 110.704576 \r\nL 171.445043 110.043016 \r\nL 174.826861 109.381456 \r\nL 178.208679 108.719896 \r\nL 181.590497 108.058336 \r\nL 184.972315 107.396776 \r\nL 188.354134 106.735217 \r\nL 191.735952 106.073657 \r\nL 195.11777 105.412097 \r\nL 198.499588 104.750537 \r\nL 201.881406 104.088977 \r\nL 205.263224 103.427417 \r\nL 208.645043 102.765857 \r\nL 212.026861 102.104297 \r\nL 215.408679 101.442737 \r\nL 218.790497 100.781177 \r\nL 222.172315 100.119618 \r\nL 225.554134 99.458058 \r\nL 228.935952 98.796498 \r\nL 232.31777 98.134938 \r\nL 235.699588 97.473378 \r\nL 239.081406 96.811818 \r\nL 242.463224 96.150258 \r\nL 245.845043 95.488698 \r\nL 249.226861 94.827138 \r\nL 252.608679 94.165578 \r\nL 255.990497 93.504019 \r\nL 259.372315 92.842459 \r\nL 262.754134 92.180899 \r\nL 266.135952 91.519339 \r\nL 269.51777 90.857779 \r\nL 272.899588 90.196219 \r\nL 276.281406 89.534659 \r\nL 279.663224 88.873099 \r\nL 283.045043 88.211539 \r\nL 286.426861 87.549979 \r\nL 289.808679 86.88842 \r\nL 293.190497 86.22686 \r\nL 296.572315 85.5653 \r\nL 299.954134 84.90374 \r\nL 303.335952 84.24218 \r\nL 306.71777 83.58062 \r\nL 310.099588 82.91906 \r\nL 313.481406 82.2575 \r\nL 316.863224 81.59594 \r\nL 320.245043 80.93438 \r\nL 323.626861 80.272821 \r\nL 327.008679 79.611261 \r\nL 330.390497 78.949701 \r\nL 333.772315 78.288141 \r\nL 337.154134 77.626581 \r\nL 340.535952 76.965021 \r\nL 343.91777 76.303461 \r\nL 347.299588 75.641901 \r\nL 350.681406 74.980341 \r\nL 354.063224 74.318781 \r\nL 357.445043 73.657222 \r\nL 360.826861 72.995662 \r\nL 364.208679 72.334102 \r\nL 367.590497 71.672542 \r\nL 370.972315 71.010982 \r\nL 374.354134 70.349422 \r\nL 377.735952 69.687862 \r\nL 381.11777 69.026302 \r\nL 384.499588 68.364742 \r\nL 387.881406 67.703182 \r\n\" style=\"fill:none;stroke:#4c72b0;stroke-linecap:round;stroke-width:2.25;\"/>\r\n   </g>\r\n   <g id=\"patch_3\">\r\n    <path d=\"M 53.081406 224.64 \r\nL 53.081406 7.2 \r\n\" style=\"fill:none;stroke:#ffffff;stroke-linecap:square;stroke-linejoin:miter;stroke-width:1.25;\"/>\r\n   </g>\r\n   <g id=\"patch_4\">\r\n    <path d=\"M 387.881406 224.64 \r\nL 387.881406 7.2 \r\n\" style=\"fill:none;stroke:#ffffff;stroke-linecap:square;stroke-linejoin:miter;stroke-width:1.25;\"/>\r\n   </g>\r\n   <g id=\"patch_5\">\r\n    <path d=\"M 53.081406 224.64 \r\nL 387.881406 224.64 \r\n\" style=\"fill:none;stroke:#ffffff;stroke-linecap:square;stroke-linejoin:miter;stroke-width:1.25;\"/>\r\n   </g>\r\n   <g id=\"patch_6\">\r\n    <path d=\"M 53.081406 7.2 \r\nL 387.881406 7.2 \r\n\" style=\"fill:none;stroke:#ffffff;stroke-linecap:square;stroke-linejoin:miter;stroke-width:1.25;\"/>\r\n   </g>\r\n  </g>\r\n </g>\r\n <defs>\r\n  <clipPath id=\"p522cf7c682\">\r\n   <rect height=\"217.44\" width=\"334.8\" x=\"53.081406\" y=\"7.2\"/>\r\n  </clipPath>\r\n </defs>\r\n</svg>\r\n",
      "image/png": "[encoded data removed]"
     },
     "metadata": {}
    }
   ],
   "source": [
    "sns.regplot(data=df, x='time_on_the_job', y='overall');"
   ]
  },
  {
   "cell_type": "code",
   "execution_count": 17,
   "metadata": {},
   "outputs": [
    {
     "output_type": "display_data",
     "data": {
      "text/plain": "<Figure size 432x288 with 1 Axes>",
      "image/svg+xml": "<?xml version=\"1.0\" encoding=\"utf-8\" standalone=\"no\"?>\r\n<!DOCTYPE svg PUBLIC \"-//W3C//DTD SVG 1.1//EN\"\r\n  \"http://www.w3.org/Graphics/SVG/1.1/DTD/svg11.dtd\">\r\n<!-- Created with matplotlib (https://matplotlib.org/) -->\r\n<svg height=\"266.374219pt\" version=\"1.1\" viewBox=\"0 0 395.081406 266.374219\" width=\"395.081406pt\" xmlns=\"http://www.w3.org/2000/svg\" xmlns:xlink=\"http://www.w3.org/1999/xlink\">\r\n <metadata>\r\n  <rdf:RDF xmlns:cc=\"http://creativecommons.org/ns#\" xmlns:dc=\"http://purl.org/dc/elements/1.1/\" xmlns:rdf=\"http://www.w3.org/1999/02/22-rdf-syntax-ns#\">\r\n   <cc:Work>\r\n    <dc:type rdf:resource=\"http://purl.org/dc/dcmitype/StillImage\"/>\r\n    <dc:date>2021-06-10T20:27:10.855894</dc:date>\r\n    <dc:format>image/svg+xml</dc:format>\r\n    <dc:creator>\r\n     <cc:Agent>\r\n      <dc:title>Matplotlib v3.3.2, https://matplotlib.org/</dc:title>\r\n     </cc:Agent>\r\n    </dc:creator>\r\n   </cc:Work>\r\n  </rdf:RDF>\r\n </metadata>\r\n <defs>\r\n  <style type=\"text/css\">*{stroke-linecap:butt;stroke-linejoin:round;}</style>\r\n </defs>\r\n <g id=\"figure_1\">\r\n  <g id=\"patch_1\">\r\n   <path d=\"M -0 266.374219 \r\nL 395.081406 266.374219 \r\nL 395.081406 0 \r\nL -0 0 \r\nz\r\n\" style=\"fill:#ffffff;\"/>\r\n  </g>\r\n  <g id=\"axes_1\">\r\n   <g id=\"patch_2\">\r\n    <path d=\"M 53.081406 224.64 \r\nL 387.881406 224.64 \r\nL 387.881406 7.2 \r\nL 53.081406 7.2 \r\nz\r\n\" style=\"fill:#eaeaf2;\"/>\r\n   </g>\r\n   <g id=\"matplotlib.axis_1\">\r\n    <g id=\"xtick_1\">\r\n     <g id=\"line2d_1\">\r\n      <path clip-path=\"url(#p28e4ca1fe5)\" d=\"M 65.481406 224.64 \r\nL 65.481406 7.2 \r\n\" style=\"fill:none;stroke:#ffffff;stroke-linecap:round;\"/>\r\n     </g>\r\n     <g id=\"text_1\">\r\n      <!-- 20 -->\r\n      <g style=\"fill:#262626;\" transform=\"translate(59.364375 242.013594)scale(0.11 -0.11)\">\r\n       <defs>\r\n        <path d=\"M 50.34375 8.453125 \r\nL 50.34375 0 \r\nL 3.03125 0 \r\nQ 2.9375 3.171875 4.046875 6.109375 \r\nQ 5.859375 10.9375 9.828125 15.625 \r\nQ 13.8125 20.3125 21.34375 26.46875 \r\nQ 33.015625 36.03125 37.109375 41.625 \r\nQ 41.21875 47.21875 41.21875 52.203125 \r\nQ 41.21875 57.421875 37.46875 61 \r\nQ 33.734375 64.59375 27.734375 64.59375 \r\nQ 21.390625 64.59375 17.578125 60.78125 \r\nQ 13.765625 56.984375 13.71875 50.25 \r\nL 4.6875 51.171875 \r\nQ 5.609375 61.28125 11.65625 66.578125 \r\nQ 17.71875 71.875 27.9375 71.875 \r\nQ 38.234375 71.875 44.234375 66.15625 \r\nQ 50.25 60.453125 50.25 52 \r\nQ 50.25 47.703125 48.484375 43.546875 \r\nQ 46.734375 39.40625 42.65625 34.8125 \r\nQ 38.578125 30.21875 29.109375 22.21875 \r\nQ 21.1875 15.578125 18.9375 13.203125 \r\nQ 16.703125 10.84375 15.234375 8.453125 \r\nz\r\n\" id=\"ArialMT-50\"/>\r\n        <path d=\"M 4.15625 35.296875 \r\nQ 4.15625 48 6.765625 55.734375 \r\nQ 9.375 63.484375 14.515625 67.671875 \r\nQ 19.671875 71.875 27.484375 71.875 \r\nQ 33.25 71.875 37.59375 69.546875 \r\nQ 41.9375 67.234375 44.765625 62.859375 \r\nQ 47.609375 58.5 49.21875 52.21875 \r\nQ 50.828125 45.953125 50.828125 35.296875 \r\nQ 50.828125 22.703125 48.234375 14.96875 \r\nQ 45.65625 7.234375 40.5 3 \r\nQ 35.359375 -1.21875 27.484375 -1.21875 \r\nQ 17.140625 -1.21875 11.234375 6.203125 \r\nQ 4.15625 15.140625 4.15625 35.296875 \r\nz\r\nM 13.1875 35.296875 \r\nQ 13.1875 17.671875 17.3125 11.828125 \r\nQ 21.4375 6 27.484375 6 \r\nQ 33.546875 6 37.671875 11.859375 \r\nQ 41.796875 17.71875 41.796875 35.296875 \r\nQ 41.796875 52.984375 37.671875 58.78125 \r\nQ 33.546875 64.59375 27.390625 64.59375 \r\nQ 21.34375 64.59375 17.71875 59.46875 \r\nQ 13.1875 52.9375 13.1875 35.296875 \r\nz\r\n\" id=\"ArialMT-48\"/>\r\n       </defs>\r\n       <use xlink:href=\"#ArialMT-50\"/>\r\n       <use x=\"55.615234\" xlink:href=\"#ArialMT-48\"/>\r\n      </g>\r\n     </g>\r\n    </g>\r\n    <g id=\"xtick_2\">\r\n     <g id=\"line2d_2\">\r\n      <path clip-path=\"url(#p28e4ca1fe5)\" d=\"M 127.481406 224.64 \r\nL 127.481406 7.2 \r\n\" style=\"fill:none;stroke:#ffffff;stroke-linecap:round;\"/>\r\n     </g>\r\n     <g id=\"text_2\">\r\n      <!-- 30 -->\r\n      <g style=\"fill:#262626;\" transform=\"translate(121.364375 242.013594)scale(0.11 -0.11)\">\r\n       <defs>\r\n        <path d=\"M 4.203125 18.890625 \r\nL 12.984375 20.0625 \r\nQ 14.5 12.59375 18.140625 9.296875 \r\nQ 21.78125 6 27 6 \r\nQ 33.203125 6 37.46875 10.296875 \r\nQ 41.75 14.59375 41.75 20.953125 \r\nQ 41.75 27 37.796875 30.921875 \r\nQ 33.84375 34.859375 27.734375 34.859375 \r\nQ 25.25 34.859375 21.53125 33.890625 \r\nL 22.515625 41.609375 \r\nQ 23.390625 41.5 23.921875 41.5 \r\nQ 29.546875 41.5 34.03125 44.421875 \r\nQ 38.53125 47.359375 38.53125 53.46875 \r\nQ 38.53125 58.296875 35.25 61.46875 \r\nQ 31.984375 64.65625 26.8125 64.65625 \r\nQ 21.6875 64.65625 18.265625 61.421875 \r\nQ 14.84375 58.203125 13.875 51.765625 \r\nL 5.078125 53.328125 \r\nQ 6.6875 62.15625 12.390625 67.015625 \r\nQ 18.109375 71.875 26.609375 71.875 \r\nQ 32.46875 71.875 37.390625 69.359375 \r\nQ 42.328125 66.84375 44.9375 62.5 \r\nQ 47.5625 58.15625 47.5625 53.265625 \r\nQ 47.5625 48.640625 45.0625 44.828125 \r\nQ 42.578125 41.015625 37.703125 38.765625 \r\nQ 44.046875 37.3125 47.5625 32.6875 \r\nQ 51.078125 28.078125 51.078125 21.140625 \r\nQ 51.078125 11.765625 44.234375 5.25 \r\nQ 37.40625 -1.265625 26.953125 -1.265625 \r\nQ 17.53125 -1.265625 11.296875 4.34375 \r\nQ 5.078125 9.96875 4.203125 18.890625 \r\nz\r\n\" id=\"ArialMT-51\"/>\r\n       </defs>\r\n       <use xlink:href=\"#ArialMT-51\"/>\r\n       <use x=\"55.615234\" xlink:href=\"#ArialMT-48\"/>\r\n      </g>\r\n     </g>\r\n    </g>\r\n    <g id=\"xtick_3\">\r\n     <g id=\"line2d_3\">\r\n      <path clip-path=\"url(#p28e4ca1fe5)\" d=\"M 189.481406 224.64 \r\nL 189.481406 7.2 \r\n\" style=\"fill:none;stroke:#ffffff;stroke-linecap:round;\"/>\r\n     </g>\r\n     <g id=\"text_3\">\r\n      <!-- 40 -->\r\n      <g style=\"fill:#262626;\" transform=\"translate(183.364375 242.013594)scale(0.11 -0.11)\">\r\n       <defs>\r\n        <path d=\"M 32.328125 0 \r\nL 32.328125 17.140625 \r\nL 1.265625 17.140625 \r\nL 1.265625 25.203125 \r\nL 33.9375 71.578125 \r\nL 41.109375 71.578125 \r\nL 41.109375 25.203125 \r\nL 50.78125 25.203125 \r\nL 50.78125 17.140625 \r\nL 41.109375 17.140625 \r\nL 41.109375 0 \r\nz\r\nM 32.328125 25.203125 \r\nL 32.328125 57.46875 \r\nL 9.90625 25.203125 \r\nz\r\n\" id=\"ArialMT-52\"/>\r\n       </defs>\r\n       <use xlink:href=\"#ArialMT-52\"/>\r\n       <use x=\"55.615234\" xlink:href=\"#ArialMT-48\"/>\r\n      </g>\r\n     </g>\r\n    </g>\r\n    <g id=\"xtick_4\">\r\n     <g id=\"line2d_4\">\r\n      <path clip-path=\"url(#p28e4ca1fe5)\" d=\"M 251.481406 224.64 \r\nL 251.481406 7.2 \r\n\" style=\"fill:none;stroke:#ffffff;stroke-linecap:round;\"/>\r\n     </g>\r\n     <g id=\"text_4\">\r\n      <!-- 50 -->\r\n      <g style=\"fill:#262626;\" transform=\"translate(245.364375 242.013594)scale(0.11 -0.11)\">\r\n       <defs>\r\n        <path d=\"M 4.15625 18.75 \r\nL 13.375 19.53125 \r\nQ 14.40625 12.796875 18.140625 9.390625 \r\nQ 21.875 6 27.15625 6 \r\nQ 33.5 6 37.890625 10.78125 \r\nQ 42.28125 15.578125 42.28125 23.484375 \r\nQ 42.28125 31 38.0625 35.34375 \r\nQ 33.84375 39.703125 27 39.703125 \r\nQ 22.75 39.703125 19.328125 37.765625 \r\nQ 15.921875 35.84375 13.96875 32.765625 \r\nL 5.71875 33.84375 \r\nL 12.640625 70.609375 \r\nL 48.25 70.609375 \r\nL 48.25 62.203125 \r\nL 19.671875 62.203125 \r\nL 15.828125 42.96875 \r\nQ 22.265625 47.46875 29.34375 47.46875 \r\nQ 38.71875 47.46875 45.15625 40.96875 \r\nQ 51.609375 34.46875 51.609375 24.265625 \r\nQ 51.609375 14.546875 45.953125 7.46875 \r\nQ 39.0625 -1.21875 27.15625 -1.21875 \r\nQ 17.390625 -1.21875 11.203125 4.25 \r\nQ 5.03125 9.71875 4.15625 18.75 \r\nz\r\n\" id=\"ArialMT-53\"/>\r\n       </defs>\r\n       <use xlink:href=\"#ArialMT-53\"/>\r\n       <use x=\"55.615234\" xlink:href=\"#ArialMT-48\"/>\r\n      </g>\r\n     </g>\r\n    </g>\r\n    <g id=\"xtick_5\">\r\n     <g id=\"line2d_5\">\r\n      <path clip-path=\"url(#p28e4ca1fe5)\" d=\"M 313.481406 224.64 \r\nL 313.481406 7.2 \r\n\" style=\"fill:none;stroke:#ffffff;stroke-linecap:round;\"/>\r\n     </g>\r\n     <g id=\"text_5\">\r\n      <!-- 60 -->\r\n      <g style=\"fill:#262626;\" transform=\"translate(307.364375 242.013594)scale(0.11 -0.11)\">\r\n       <defs>\r\n        <path d=\"M 49.75 54.046875 \r\nL 41.015625 53.375 \r\nQ 39.84375 58.546875 37.703125 60.890625 \r\nQ 34.125 64.65625 28.90625 64.65625 \r\nQ 24.703125 64.65625 21.53125 62.3125 \r\nQ 17.390625 59.28125 14.984375 53.46875 \r\nQ 12.59375 47.65625 12.5 36.921875 \r\nQ 15.671875 41.75 20.265625 44.09375 \r\nQ 24.859375 46.4375 29.890625 46.4375 \r\nQ 38.671875 46.4375 44.84375 39.96875 \r\nQ 51.03125 33.5 51.03125 23.25 \r\nQ 51.03125 16.5 48.125 10.71875 \r\nQ 45.21875 4.9375 40.140625 1.859375 \r\nQ 35.0625 -1.21875 28.609375 -1.21875 \r\nQ 17.625 -1.21875 10.6875 6.859375 \r\nQ 3.765625 14.9375 3.765625 33.5 \r\nQ 3.765625 54.25 11.421875 63.671875 \r\nQ 18.109375 71.875 29.4375 71.875 \r\nQ 37.890625 71.875 43.28125 67.140625 \r\nQ 48.6875 62.40625 49.75 54.046875 \r\nz\r\nM 13.875 23.1875 \r\nQ 13.875 18.65625 15.796875 14.5 \r\nQ 17.71875 10.359375 21.1875 8.171875 \r\nQ 24.65625 6 28.46875 6 \r\nQ 34.03125 6 38.03125 10.484375 \r\nQ 42.046875 14.984375 42.046875 22.703125 \r\nQ 42.046875 30.125 38.078125 34.390625 \r\nQ 34.125 38.671875 28.125 38.671875 \r\nQ 22.171875 38.671875 18.015625 34.390625 \r\nQ 13.875 30.125 13.875 23.1875 \r\nz\r\n\" id=\"ArialMT-54\"/>\r\n       </defs>\r\n       <use xlink:href=\"#ArialMT-54\"/>\r\n       <use x=\"55.615234\" xlink:href=\"#ArialMT-48\"/>\r\n      </g>\r\n     </g>\r\n    </g>\r\n    <g id=\"xtick_6\">\r\n     <g id=\"line2d_6\">\r\n      <path clip-path=\"url(#p28e4ca1fe5)\" d=\"M 375.481406 224.64 \r\nL 375.481406 7.2 \r\n\" style=\"fill:none;stroke:#ffffff;stroke-linecap:round;\"/>\r\n     </g>\r\n     <g id=\"text_6\">\r\n      <!-- 70 -->\r\n      <g style=\"fill:#262626;\" transform=\"translate(369.364375 242.013594)scale(0.11 -0.11)\">\r\n       <defs>\r\n        <path d=\"M 4.734375 62.203125 \r\nL 4.734375 70.65625 \r\nL 51.078125 70.65625 \r\nL 51.078125 63.8125 \r\nQ 44.234375 56.546875 37.515625 44.484375 \r\nQ 30.8125 32.421875 27.15625 19.671875 \r\nQ 24.515625 10.6875 23.78125 0 \r\nL 14.75 0 \r\nQ 14.890625 8.453125 18.0625 20.40625 \r\nQ 21.234375 32.375 27.171875 43.484375 \r\nQ 33.109375 54.59375 39.796875 62.203125 \r\nz\r\n\" id=\"ArialMT-55\"/>\r\n       </defs>\r\n       <use xlink:href=\"#ArialMT-55\"/>\r\n       <use x=\"55.615234\" xlink:href=\"#ArialMT-48\"/>\r\n      </g>\r\n     </g>\r\n    </g>\r\n    <g id=\"text_7\">\r\n     <!-- current_age -->\r\n     <g style=\"fill:#262626;\" transform=\"translate(188.462969 256.648594)scale(0.12 -0.12)\">\r\n      <defs>\r\n       <path d=\"M 40.4375 19 \r\nL 49.078125 17.875 \r\nQ 47.65625 8.9375 41.8125 3.875 \r\nQ 35.984375 -1.171875 27.484375 -1.171875 \r\nQ 16.84375 -1.171875 10.375 5.78125 \r\nQ 3.90625 12.75 3.90625 25.734375 \r\nQ 3.90625 34.125 6.6875 40.421875 \r\nQ 9.46875 46.734375 15.15625 49.875 \r\nQ 20.84375 53.03125 27.546875 53.03125 \r\nQ 35.984375 53.03125 41.359375 48.75 \r\nQ 46.734375 44.484375 48.25 36.625 \r\nL 39.703125 35.296875 \r\nQ 38.484375 40.53125 35.375 43.15625 \r\nQ 32.28125 45.796875 27.875 45.796875 \r\nQ 21.234375 45.796875 17.078125 41.03125 \r\nQ 12.9375 36.28125 12.9375 25.984375 \r\nQ 12.9375 15.53125 16.9375 10.796875 \r\nQ 20.953125 6.0625 27.390625 6.0625 \r\nQ 32.5625 6.0625 36.03125 9.234375 \r\nQ 39.5 12.40625 40.4375 19 \r\nz\r\n\" id=\"ArialMT-99\"/>\r\n       <path d=\"M 40.578125 0 \r\nL 40.578125 7.625 \r\nQ 34.515625 -1.171875 24.125 -1.171875 \r\nQ 19.53125 -1.171875 15.546875 0.578125 \r\nQ 11.578125 2.34375 9.640625 5 \r\nQ 7.71875 7.671875 6.9375 11.53125 \r\nQ 6.390625 14.109375 6.390625 19.734375 \r\nL 6.390625 51.859375 \r\nL 15.1875 51.859375 \r\nL 15.1875 23.09375 \r\nQ 15.1875 16.21875 15.71875 13.8125 \r\nQ 16.546875 10.359375 19.234375 8.375 \r\nQ 21.921875 6.390625 25.875 6.390625 \r\nQ 29.828125 6.390625 33.296875 8.421875 \r\nQ 36.765625 10.453125 38.203125 13.9375 \r\nQ 39.65625 17.4375 39.65625 24.078125 \r\nL 39.65625 51.859375 \r\nL 48.4375 51.859375 \r\nL 48.4375 0 \r\nz\r\n\" id=\"ArialMT-117\"/>\r\n       <path d=\"M 6.5 0 \r\nL 6.5 51.859375 \r\nL 14.40625 51.859375 \r\nL 14.40625 44 \r\nQ 17.4375 49.515625 20 51.265625 \r\nQ 22.5625 53.03125 25.640625 53.03125 \r\nQ 30.078125 53.03125 34.671875 50.203125 \r\nL 31.640625 42.046875 \r\nQ 28.421875 43.953125 25.203125 43.953125 \r\nQ 22.3125 43.953125 20.015625 42.21875 \r\nQ 17.71875 40.484375 16.75 37.40625 \r\nQ 15.28125 32.71875 15.28125 27.15625 \r\nL 15.28125 0 \r\nz\r\n\" id=\"ArialMT-114\"/>\r\n       <path d=\"M 42.09375 16.703125 \r\nL 51.171875 15.578125 \r\nQ 49.03125 7.625 43.21875 3.21875 \r\nQ 37.40625 -1.171875 28.375 -1.171875 \r\nQ 17 -1.171875 10.328125 5.828125 \r\nQ 3.65625 12.84375 3.65625 25.484375 \r\nQ 3.65625 38.578125 10.390625 45.796875 \r\nQ 17.140625 53.03125 27.875 53.03125 \r\nQ 38.28125 53.03125 44.875 45.953125 \r\nQ 51.46875 38.875 51.46875 26.03125 \r\nQ 51.46875 25.25 51.421875 23.6875 \r\nL 12.75 23.6875 \r\nQ 13.234375 15.140625 17.578125 10.59375 \r\nQ 21.921875 6.0625 28.421875 6.0625 \r\nQ 33.25 6.0625 36.671875 8.59375 \r\nQ 40.09375 11.140625 42.09375 16.703125 \r\nz\r\nM 13.234375 30.90625 \r\nL 42.1875 30.90625 \r\nQ 41.609375 37.453125 38.875 40.71875 \r\nQ 34.671875 45.796875 27.984375 45.796875 \r\nQ 21.921875 45.796875 17.796875 41.75 \r\nQ 13.671875 37.703125 13.234375 30.90625 \r\nz\r\n\" id=\"ArialMT-101\"/>\r\n       <path d=\"M 6.59375 0 \r\nL 6.59375 51.859375 \r\nL 14.5 51.859375 \r\nL 14.5 44.484375 \r\nQ 20.21875 53.03125 31 53.03125 \r\nQ 35.6875 53.03125 39.625 51.34375 \r\nQ 43.5625 49.65625 45.515625 46.921875 \r\nQ 47.46875 44.1875 48.25 40.4375 \r\nQ 48.734375 37.984375 48.734375 31.890625 \r\nL 48.734375 0 \r\nL 39.9375 0 \r\nL 39.9375 31.546875 \r\nQ 39.9375 36.921875 38.90625 39.578125 \r\nQ 37.890625 42.234375 35.28125 43.8125 \r\nQ 32.671875 45.40625 29.15625 45.40625 \r\nQ 23.53125 45.40625 19.453125 41.84375 \r\nQ 15.375 38.28125 15.375 28.328125 \r\nL 15.375 0 \r\nz\r\n\" id=\"ArialMT-110\"/>\r\n       <path d=\"M 25.78125 7.859375 \r\nL 27.046875 0.09375 \r\nQ 23.34375 -0.6875 20.40625 -0.6875 \r\nQ 15.625 -0.6875 12.984375 0.828125 \r\nQ 10.359375 2.34375 9.28125 4.8125 \r\nQ 8.203125 7.28125 8.203125 15.1875 \r\nL 8.203125 45.015625 \r\nL 1.765625 45.015625 \r\nL 1.765625 51.859375 \r\nL 8.203125 51.859375 \r\nL 8.203125 64.703125 \r\nL 16.9375 69.96875 \r\nL 16.9375 51.859375 \r\nL 25.78125 51.859375 \r\nL 25.78125 45.015625 \r\nL 16.9375 45.015625 \r\nL 16.9375 14.703125 \r\nQ 16.9375 10.9375 17.40625 9.859375 \r\nQ 17.875 8.796875 18.921875 8.15625 \r\nQ 19.96875 7.515625 21.921875 7.515625 \r\nQ 23.390625 7.515625 25.78125 7.859375 \r\nz\r\n\" id=\"ArialMT-116\"/>\r\n       <path d=\"M -1.515625 -19.875 \r\nL -1.515625 -13.53125 \r\nL 56.734375 -13.53125 \r\nL 56.734375 -19.875 \r\nz\r\n\" id=\"ArialMT-95\"/>\r\n       <path d=\"M 40.4375 6.390625 \r\nQ 35.546875 2.25 31.03125 0.53125 \r\nQ 26.515625 -1.171875 21.34375 -1.171875 \r\nQ 12.796875 -1.171875 8.203125 3 \r\nQ 3.609375 7.171875 3.609375 13.671875 \r\nQ 3.609375 17.484375 5.34375 20.625 \r\nQ 7.078125 23.78125 9.890625 25.6875 \r\nQ 12.703125 27.59375 16.21875 28.5625 \r\nQ 18.796875 29.25 24.03125 29.890625 \r\nQ 34.671875 31.15625 39.703125 32.90625 \r\nQ 39.75 34.71875 39.75 35.203125 \r\nQ 39.75 40.578125 37.25 42.78125 \r\nQ 33.890625 45.75 27.25 45.75 \r\nQ 21.046875 45.75 18.09375 43.578125 \r\nQ 15.140625 41.40625 13.71875 35.890625 \r\nL 5.125 37.0625 \r\nQ 6.296875 42.578125 8.984375 45.96875 \r\nQ 11.671875 49.359375 16.75 51.1875 \r\nQ 21.828125 53.03125 28.515625 53.03125 \r\nQ 35.15625 53.03125 39.296875 51.46875 \r\nQ 43.453125 49.90625 45.40625 47.53125 \r\nQ 47.359375 45.171875 48.140625 41.546875 \r\nQ 48.578125 39.3125 48.578125 33.453125 \r\nL 48.578125 21.734375 \r\nQ 48.578125 9.46875 49.140625 6.21875 \r\nQ 49.703125 2.984375 51.375 0 \r\nL 42.1875 0 \r\nQ 40.828125 2.734375 40.4375 6.390625 \r\nz\r\nM 39.703125 26.03125 \r\nQ 34.90625 24.078125 25.34375 22.703125 \r\nQ 19.921875 21.921875 17.671875 20.9375 \r\nQ 15.4375 19.96875 14.203125 18.09375 \r\nQ 12.984375 16.21875 12.984375 13.921875 \r\nQ 12.984375 10.40625 15.640625 8.0625 \r\nQ 18.3125 5.71875 23.4375 5.71875 \r\nQ 28.515625 5.71875 32.46875 7.9375 \r\nQ 36.421875 10.15625 38.28125 14.015625 \r\nQ 39.703125 17 39.703125 22.796875 \r\nz\r\n\" id=\"ArialMT-97\"/>\r\n       <path d=\"M 4.984375 -4.296875 \r\nL 13.53125 -5.5625 \r\nQ 14.0625 -9.515625 16.5 -11.328125 \r\nQ 19.78125 -13.765625 25.4375 -13.765625 \r\nQ 31.546875 -13.765625 34.859375 -11.328125 \r\nQ 38.1875 -8.890625 39.359375 -4.5 \r\nQ 40.046875 -1.8125 39.984375 6.78125 \r\nQ 34.234375 0 25.640625 0 \r\nQ 14.9375 0 9.078125 7.71875 \r\nQ 3.21875 15.4375 3.21875 26.21875 \r\nQ 3.21875 33.640625 5.90625 39.90625 \r\nQ 8.59375 46.1875 13.6875 49.609375 \r\nQ 18.796875 53.03125 25.6875 53.03125 \r\nQ 34.859375 53.03125 40.828125 45.609375 \r\nL 40.828125 51.859375 \r\nL 48.921875 51.859375 \r\nL 48.921875 7.03125 \r\nQ 48.921875 -5.078125 46.453125 -10.125 \r\nQ 44 -15.1875 38.640625 -18.109375 \r\nQ 33.296875 -21.046875 25.484375 -21.046875 \r\nQ 16.21875 -21.046875 10.5 -16.875 \r\nQ 4.78125 -12.703125 4.984375 -4.296875 \r\nz\r\nM 12.25 26.859375 \r\nQ 12.25 16.65625 16.296875 11.96875 \r\nQ 20.359375 7.28125 26.46875 7.28125 \r\nQ 32.515625 7.28125 36.609375 11.9375 \r\nQ 40.71875 16.609375 40.71875 26.5625 \r\nQ 40.71875 36.078125 36.5 40.90625 \r\nQ 32.28125 45.75 26.3125 45.75 \r\nQ 20.453125 45.75 16.34375 40.984375 \r\nQ 12.25 36.234375 12.25 26.859375 \r\nz\r\n\" id=\"ArialMT-103\"/>\r\n      </defs>\r\n      <use xlink:href=\"#ArialMT-99\"/>\r\n      <use x=\"50\" xlink:href=\"#ArialMT-117\"/>\r\n      <use x=\"105.615234\" xlink:href=\"#ArialMT-114\"/>\r\n      <use x=\"138.916016\" xlink:href=\"#ArialMT-114\"/>\r\n      <use x=\"172.216797\" xlink:href=\"#ArialMT-101\"/>\r\n      <use x=\"227.832031\" xlink:href=\"#ArialMT-110\"/>\r\n      <use x=\"283.447266\" xlink:href=\"#ArialMT-116\"/>\r\n      <use x=\"311.230469\" xlink:href=\"#ArialMT-95\"/>\r\n      <use x=\"366.845703\" xlink:href=\"#ArialMT-97\"/>\r\n      <use x=\"422.460938\" xlink:href=\"#ArialMT-103\"/>\r\n      <use x=\"478.076172\" xlink:href=\"#ArialMT-101\"/>\r\n     </g>\r\n    </g>\r\n   </g>\r\n   <g id=\"matplotlib.axis_2\">\r\n    <g id=\"ytick_1\">\r\n     <g id=\"line2d_7\">\r\n      <path clip-path=\"url(#p28e4ca1fe5)\" d=\"M 53.081406 224.087069 \r\nL 387.881406 224.087069 \r\n\" style=\"fill:none;stroke:#ffffff;stroke-linecap:round;\"/>\r\n     </g>\r\n     <g id=\"text_8\">\r\n      <!-- 0.55 -->\r\n      <g style=\"fill:#262626;\" transform=\"translate(22.174375 228.023866)scale(0.11 -0.11)\">\r\n       <defs>\r\n        <path d=\"M 9.078125 0 \r\nL 9.078125 10.015625 \r\nL 19.09375 10.015625 \r\nL 19.09375 0 \r\nz\r\n\" id=\"ArialMT-46\"/>\r\n       </defs>\r\n       <use xlink:href=\"#ArialMT-48\"/>\r\n       <use x=\"55.615234\" xlink:href=\"#ArialMT-46\"/>\r\n       <use x=\"83.398438\" xlink:href=\"#ArialMT-53\"/>\r\n       <use x=\"139.013672\" xlink:href=\"#ArialMT-53\"/>\r\n      </g>\r\n     </g>\r\n    </g>\r\n    <g id=\"ytick_2\">\r\n     <g id=\"line2d_8\">\r\n      <path clip-path=\"url(#p28e4ca1fe5)\" d=\"M 53.081406 198.168442 \r\nL 387.881406 198.168442 \r\n\" style=\"fill:none;stroke:#ffffff;stroke-linecap:round;\"/>\r\n     </g>\r\n     <g id=\"text_9\">\r\n      <!-- 0.60 -->\r\n      <g style=\"fill:#262626;\" transform=\"translate(22.174375 202.105239)scale(0.11 -0.11)\">\r\n       <use xlink:href=\"#ArialMT-48\"/>\r\n       <use x=\"55.615234\" xlink:href=\"#ArialMT-46\"/>\r\n       <use x=\"83.398438\" xlink:href=\"#ArialMT-54\"/>\r\n       <use x=\"139.013672\" xlink:href=\"#ArialMT-48\"/>\r\n      </g>\r\n     </g>\r\n    </g>\r\n    <g id=\"ytick_3\">\r\n     <g id=\"line2d_9\">\r\n      <path clip-path=\"url(#p28e4ca1fe5)\" d=\"M 53.081406 172.249816 \r\nL 387.881406 172.249816 \r\n\" style=\"fill:none;stroke:#ffffff;stroke-linecap:round;\"/>\r\n     </g>\r\n     <g id=\"text_10\">\r\n      <!-- 0.65 -->\r\n      <g style=\"fill:#262626;\" transform=\"translate(22.174375 176.186613)scale(0.11 -0.11)\">\r\n       <use xlink:href=\"#ArialMT-48\"/>\r\n       <use x=\"55.615234\" xlink:href=\"#ArialMT-46\"/>\r\n       <use x=\"83.398438\" xlink:href=\"#ArialMT-54\"/>\r\n       <use x=\"139.013672\" xlink:href=\"#ArialMT-53\"/>\r\n      </g>\r\n     </g>\r\n    </g>\r\n    <g id=\"ytick_4\">\r\n     <g id=\"line2d_10\">\r\n      <path clip-path=\"url(#p28e4ca1fe5)\" d=\"M 53.081406 146.331189 \r\nL 387.881406 146.331189 \r\n\" style=\"fill:none;stroke:#ffffff;stroke-linecap:round;\"/>\r\n     </g>\r\n     <g id=\"text_11\">\r\n      <!-- 0.70 -->\r\n      <g style=\"fill:#262626;\" transform=\"translate(22.174375 150.267986)scale(0.11 -0.11)\">\r\n       <use xlink:href=\"#ArialMT-48\"/>\r\n       <use x=\"55.615234\" xlink:href=\"#ArialMT-46\"/>\r\n       <use x=\"83.398438\" xlink:href=\"#ArialMT-55\"/>\r\n       <use x=\"139.013672\" xlink:href=\"#ArialMT-48\"/>\r\n      </g>\r\n     </g>\r\n    </g>\r\n    <g id=\"ytick_5\">\r\n     <g id=\"line2d_11\">\r\n      <path clip-path=\"url(#p28e4ca1fe5)\" d=\"M 53.081406 120.412562 \r\nL 387.881406 120.412562 \r\n\" style=\"fill:none;stroke:#ffffff;stroke-linecap:round;\"/>\r\n     </g>\r\n     <g id=\"text_12\">\r\n      <!-- 0.75 -->\r\n      <g style=\"fill:#262626;\" transform=\"translate(22.174375 124.349359)scale(0.11 -0.11)\">\r\n       <use xlink:href=\"#ArialMT-48\"/>\r\n       <use x=\"55.615234\" xlink:href=\"#ArialMT-46\"/>\r\n       <use x=\"83.398438\" xlink:href=\"#ArialMT-55\"/>\r\n       <use x=\"139.013672\" xlink:href=\"#ArialMT-53\"/>\r\n      </g>\r\n     </g>\r\n    </g>\r\n    <g id=\"ytick_6\">\r\n     <g id=\"line2d_12\">\r\n      <path clip-path=\"url(#p28e4ca1fe5)\" d=\"M 53.081406 94.493935 \r\nL 387.881406 94.493935 \r\n\" style=\"fill:none;stroke:#ffffff;stroke-linecap:round;\"/>\r\n     </g>\r\n     <g id=\"text_13\">\r\n      <!-- 0.80 -->\r\n      <g style=\"fill:#262626;\" transform=\"translate(22.174375 98.430732)scale(0.11 -0.11)\">\r\n       <defs>\r\n        <path d=\"M 17.671875 38.8125 \r\nQ 12.203125 40.828125 9.5625 44.53125 \r\nQ 6.9375 48.25 6.9375 53.421875 \r\nQ 6.9375 61.234375 12.546875 66.546875 \r\nQ 18.171875 71.875 27.484375 71.875 \r\nQ 36.859375 71.875 42.578125 66.421875 \r\nQ 48.296875 60.984375 48.296875 53.171875 \r\nQ 48.296875 48.1875 45.671875 44.5 \r\nQ 43.0625 40.828125 37.75 38.8125 \r\nQ 44.34375 36.671875 47.78125 31.875 \r\nQ 51.21875 27.09375 51.21875 20.453125 \r\nQ 51.21875 11.28125 44.71875 5.03125 \r\nQ 38.234375 -1.21875 27.640625 -1.21875 \r\nQ 17.046875 -1.21875 10.546875 5.046875 \r\nQ 4.046875 11.328125 4.046875 20.703125 \r\nQ 4.046875 27.6875 7.59375 32.390625 \r\nQ 11.140625 37.109375 17.671875 38.8125 \r\nz\r\nM 15.921875 53.71875 \r\nQ 15.921875 48.640625 19.1875 45.40625 \r\nQ 22.46875 42.1875 27.6875 42.1875 \r\nQ 32.765625 42.1875 36.015625 45.375 \r\nQ 39.265625 48.578125 39.265625 53.21875 \r\nQ 39.265625 58.0625 35.90625 61.359375 \r\nQ 32.5625 64.65625 27.59375 64.65625 \r\nQ 22.5625 64.65625 19.234375 61.421875 \r\nQ 15.921875 58.203125 15.921875 53.71875 \r\nz\r\nM 13.09375 20.65625 \r\nQ 13.09375 16.890625 14.875 13.375 \r\nQ 16.65625 9.859375 20.171875 7.921875 \r\nQ 23.6875 6 27.734375 6 \r\nQ 34.03125 6 38.125 10.046875 \r\nQ 42.234375 14.109375 42.234375 20.359375 \r\nQ 42.234375 26.703125 38.015625 30.859375 \r\nQ 33.796875 35.015625 27.4375 35.015625 \r\nQ 21.234375 35.015625 17.15625 30.90625 \r\nQ 13.09375 26.8125 13.09375 20.65625 \r\nz\r\n\" id=\"ArialMT-56\"/>\r\n       </defs>\r\n       <use xlink:href=\"#ArialMT-48\"/>\r\n       <use x=\"55.615234\" xlink:href=\"#ArialMT-46\"/>\r\n       <use x=\"83.398438\" xlink:href=\"#ArialMT-56\"/>\r\n       <use x=\"139.013672\" xlink:href=\"#ArialMT-48\"/>\r\n      </g>\r\n     </g>\r\n    </g>\r\n    <g id=\"ytick_7\">\r\n     <g id=\"line2d_13\">\r\n      <path clip-path=\"url(#p28e4ca1fe5)\" d=\"M 53.081406 68.575308 \r\nL 387.881406 68.575308 \r\n\" style=\"fill:none;stroke:#ffffff;stroke-linecap:round;\"/>\r\n     </g>\r\n     <g id=\"text_14\">\r\n      <!-- 0.85 -->\r\n      <g style=\"fill:#262626;\" transform=\"translate(22.174375 72.512105)scale(0.11 -0.11)\">\r\n       <use xlink:href=\"#ArialMT-48\"/>\r\n       <use x=\"55.615234\" xlink:href=\"#ArialMT-46\"/>\r\n       <use x=\"83.398438\" xlink:href=\"#ArialMT-56\"/>\r\n       <use x=\"139.013672\" xlink:href=\"#ArialMT-53\"/>\r\n      </g>\r\n     </g>\r\n    </g>\r\n    <g id=\"ytick_8\">\r\n     <g id=\"line2d_14\">\r\n      <path clip-path=\"url(#p28e4ca1fe5)\" d=\"M 53.081406 42.656682 \r\nL 387.881406 42.656682 \r\n\" style=\"fill:none;stroke:#ffffff;stroke-linecap:round;\"/>\r\n     </g>\r\n     <g id=\"text_15\">\r\n      <!-- 0.90 -->\r\n      <g style=\"fill:#262626;\" transform=\"translate(22.174375 46.593478)scale(0.11 -0.11)\">\r\n       <defs>\r\n        <path d=\"M 5.46875 16.546875 \r\nL 13.921875 17.328125 \r\nQ 14.984375 11.375 18.015625 8.6875 \r\nQ 21.046875 6 25.78125 6 \r\nQ 29.828125 6 32.875 7.859375 \r\nQ 35.9375 9.71875 37.890625 12.8125 \r\nQ 39.84375 15.921875 41.15625 21.1875 \r\nQ 42.484375 26.46875 42.484375 31.9375 \r\nQ 42.484375 32.515625 42.4375 33.6875 \r\nQ 39.796875 29.5 35.234375 26.875 \r\nQ 30.671875 24.265625 25.34375 24.265625 \r\nQ 16.453125 24.265625 10.296875 30.703125 \r\nQ 4.15625 37.15625 4.15625 47.703125 \r\nQ 4.15625 58.59375 10.578125 65.234375 \r\nQ 17 71.875 26.65625 71.875 \r\nQ 33.640625 71.875 39.421875 68.109375 \r\nQ 45.21875 64.359375 48.21875 57.390625 \r\nQ 51.21875 50.4375 51.21875 37.25 \r\nQ 51.21875 23.53125 48.234375 15.40625 \r\nQ 45.265625 7.28125 39.375 3.03125 \r\nQ 33.5 -1.21875 25.59375 -1.21875 \r\nQ 17.1875 -1.21875 11.859375 3.4375 \r\nQ 6.546875 8.109375 5.46875 16.546875 \r\nz\r\nM 41.453125 48.140625 \r\nQ 41.453125 55.71875 37.421875 60.15625 \r\nQ 33.40625 64.59375 27.734375 64.59375 \r\nQ 21.875 64.59375 17.53125 59.8125 \r\nQ 13.1875 55.03125 13.1875 47.40625 \r\nQ 13.1875 40.578125 17.3125 36.296875 \r\nQ 21.4375 32.03125 27.484375 32.03125 \r\nQ 33.59375 32.03125 37.515625 36.296875 \r\nQ 41.453125 40.578125 41.453125 48.140625 \r\nz\r\n\" id=\"ArialMT-57\"/>\r\n       </defs>\r\n       <use xlink:href=\"#ArialMT-48\"/>\r\n       <use x=\"55.615234\" xlink:href=\"#ArialMT-46\"/>\r\n       <use x=\"83.398438\" xlink:href=\"#ArialMT-57\"/>\r\n       <use x=\"139.013672\" xlink:href=\"#ArialMT-48\"/>\r\n      </g>\r\n     </g>\r\n    </g>\r\n    <g id=\"ytick_9\">\r\n     <g id=\"line2d_15\">\r\n      <path clip-path=\"url(#p28e4ca1fe5)\" d=\"M 53.081406 16.738055 \r\nL 387.881406 16.738055 \r\n\" style=\"fill:none;stroke:#ffffff;stroke-linecap:round;\"/>\r\n     </g>\r\n     <g id=\"text_16\">\r\n      <!-- 0.95 -->\r\n      <g style=\"fill:#262626;\" transform=\"translate(22.174375 20.674852)scale(0.11 -0.11)\">\r\n       <use xlink:href=\"#ArialMT-48\"/>\r\n       <use x=\"55.615234\" xlink:href=\"#ArialMT-46\"/>\r\n       <use x=\"83.398438\" xlink:href=\"#ArialMT-57\"/>\r\n       <use x=\"139.013672\" xlink:href=\"#ArialMT-53\"/>\r\n      </g>\r\n     </g>\r\n    </g>\r\n    <g id=\"text_17\">\r\n     <!-- overall -->\r\n     <g style=\"fill:#262626;\" transform=\"translate(15.789375 133.59375)rotate(-90)scale(0.12 -0.12)\">\r\n      <defs>\r\n       <path d=\"M 3.328125 25.921875 \r\nQ 3.328125 40.328125 11.328125 47.265625 \r\nQ 18.015625 53.03125 27.640625 53.03125 \r\nQ 38.328125 53.03125 45.109375 46.015625 \r\nQ 51.90625 39.015625 51.90625 26.65625 \r\nQ 51.90625 16.65625 48.90625 10.90625 \r\nQ 45.90625 5.171875 40.15625 2 \r\nQ 34.421875 -1.171875 27.640625 -1.171875 \r\nQ 16.75 -1.171875 10.03125 5.8125 \r\nQ 3.328125 12.796875 3.328125 25.921875 \r\nz\r\nM 12.359375 25.921875 \r\nQ 12.359375 15.96875 16.703125 11.015625 \r\nQ 21.046875 6.0625 27.640625 6.0625 \r\nQ 34.1875 6.0625 38.53125 11.03125 \r\nQ 42.875 16.015625 42.875 26.21875 \r\nQ 42.875 35.84375 38.5 40.796875 \r\nQ 34.125 45.75 27.640625 45.75 \r\nQ 21.046875 45.75 16.703125 40.8125 \r\nQ 12.359375 35.890625 12.359375 25.921875 \r\nz\r\n\" id=\"ArialMT-111\"/>\r\n       <path d=\"M 21 0 \r\nL 1.265625 51.859375 \r\nL 10.546875 51.859375 \r\nL 21.6875 20.796875 \r\nQ 23.484375 15.765625 25 10.359375 \r\nQ 26.171875 14.453125 28.265625 20.21875 \r\nL 39.796875 51.859375 \r\nL 48.828125 51.859375 \r\nL 29.203125 0 \r\nz\r\n\" id=\"ArialMT-118\"/>\r\n       <path d=\"M 6.390625 0 \r\nL 6.390625 71.578125 \r\nL 15.1875 71.578125 \r\nL 15.1875 0 \r\nz\r\n\" id=\"ArialMT-108\"/>\r\n      </defs>\r\n      <use xlink:href=\"#ArialMT-111\"/>\r\n      <use x=\"55.615234\" xlink:href=\"#ArialMT-118\"/>\r\n      <use x=\"105.615234\" xlink:href=\"#ArialMT-101\"/>\r\n      <use x=\"161.230469\" xlink:href=\"#ArialMT-114\"/>\r\n      <use x=\"194.53125\" xlink:href=\"#ArialMT-97\"/>\r\n      <use x=\"250.146484\" xlink:href=\"#ArialMT-108\"/>\r\n      <use x=\"272.363281\" xlink:href=\"#ArialMT-108\"/>\r\n     </g>\r\n    </g>\r\n   </g>\r\n   <g id=\"PathCollection_1\">\r\n    <defs>\r\n     <path d=\"M 0 3 \r\nC 0.795609 3 1.55874 2.683901 2.12132 2.12132 \r\nC 2.683901 1.55874 3 0.795609 3 0 \r\nC 3 -0.795609 2.683901 -1.55874 2.12132 -2.12132 \r\nC 1.55874 -2.683901 0.795609 -3 0 -3 \r\nC -0.795609 -3 -1.55874 -2.683901 -2.12132 -2.12132 \r\nC -2.683901 -1.55874 -3 -0.795609 -3 0 \r\nC -3 0.795609 -2.683901 1.55874 -2.12132 2.12132 \r\nC -1.55874 2.683901 -0.795609 3 0 3 \r\nz\r\n\" id=\"m1069c36b8c\" style=\"stroke:#4c72b0;stroke-opacity:0.8;\"/>\r\n    </defs>\r\n    <g clip-path=\"url(#p28e4ca1fe5)\">\r\n     <use style=\"fill:#4c72b0;fill-opacity:0.8;stroke:#4c72b0;stroke-opacity:0.8;\" x=\"208.081406\" xlink:href=\"#m1069c36b8c\" y=\"134.581411\"/>\r\n     <use style=\"fill:#4c72b0;fill-opacity:0.8;stroke:#4c72b0;stroke-opacity:0.8;\" x=\"220.481406\" xlink:href=\"#m1069c36b8c\" y=\"59.935766\"/>\r\n     <use style=\"fill:#4c72b0;fill-opacity:0.8;stroke:#4c72b0;stroke-opacity:0.8;\" x=\"177.081406\" xlink:href=\"#m1069c36b8c\" y=\"28.14225\"/>\r\n     <use style=\"fill:#4c72b0;fill-opacity:0.8;stroke:#4c72b0;stroke-opacity:0.8;\" x=\"257.681406\" xlink:href=\"#m1069c36b8c\" y=\"153.933986\"/>\r\n     <use style=\"fill:#4c72b0;fill-opacity:0.8;stroke:#4c72b0;stroke-opacity:0.8;\" x=\"214.281406\" xlink:href=\"#m1069c36b8c\" y=\"108.317203\"/>\r\n     <use style=\"fill:#4c72b0;fill-opacity:0.8;stroke:#4c72b0;stroke-opacity:0.8;\" x=\"139.881406\" xlink:href=\"#m1069c36b8c\" y=\"119.375817\"/>\r\n     <use style=\"fill:#4c72b0;fill-opacity:0.8;stroke:#4c72b0;stroke-opacity:0.8;\" x=\"226.681406\" xlink:href=\"#m1069c36b8c\" y=\"17.083636\"/>\r\n     <use style=\"fill:#4c72b0;fill-opacity:0.8;stroke:#4c72b0;stroke-opacity:0.8;\" x=\"121.281406\" xlink:href=\"#m1069c36b8c\" y=\"182.962848\"/>\r\n     <use style=\"fill:#4c72b0;fill-opacity:0.8;stroke:#4c72b0;stroke-opacity:0.8;\" x=\"307.281406\" xlink:href=\"#m1069c36b8c\" y=\"115.228837\"/>\r\n     <use style=\"fill:#4c72b0;fill-opacity:0.8;stroke:#4c72b0;stroke-opacity:0.8;\" x=\"152.281406\" xlink:href=\"#m1069c36b8c\" y=\"141.493045\"/>\r\n     <use style=\"fill:#4c72b0;fill-opacity:0.8;stroke:#4c72b0;stroke-opacity:0.8;\" x=\"239.081406\" xlink:href=\"#m1069c36b8c\" y=\"53.024132\"/>\r\n     <use style=\"fill:#4c72b0;fill-opacity:0.8;stroke:#4c72b0;stroke-opacity:0.8;\" x=\"96.481406\" xlink:href=\"#m1069c36b8c\" y=\"153.933986\"/>\r\n     <use style=\"fill:#4c72b0;fill-opacity:0.8;stroke:#4c72b0;stroke-opacity:0.8;\" x=\"226.681406\" xlink:href=\"#m1069c36b8c\" y=\"62.70042\"/>\r\n     <use style=\"fill:#4c72b0;fill-opacity:0.8;stroke:#4c72b0;stroke-opacity:0.8;\" x=\"139.881406\" xlink:href=\"#m1069c36b8c\" y=\"108.317203\"/>\r\n     <use style=\"fill:#4c72b0;fill-opacity:0.8;stroke:#4c72b0;stroke-opacity:0.8;\" x=\"201.881406\" xlink:href=\"#m1069c36b8c\" y=\"94.493935\"/>\r\n     <use style=\"fill:#4c72b0;fill-opacity:0.8;stroke:#4c72b0;stroke-opacity:0.8;\" x=\"201.881406\" xlink:href=\"#m1069c36b8c\" y=\"51.641805\"/>\r\n     <use style=\"fill:#4c72b0;fill-opacity:0.8;stroke:#4c72b0;stroke-opacity:0.8;\" x=\"201.881406\" xlink:href=\"#m1069c36b8c\" y=\"80.670668\"/>\r\n     <use style=\"fill:#4c72b0;fill-opacity:0.8;stroke:#4c72b0;stroke-opacity:0.8;\" x=\"344.481406\" xlink:href=\"#m1069c36b8c\" y=\"192.639135\"/>\r\n     <use style=\"fill:#4c72b0;fill-opacity:0.8;stroke:#4c72b0;stroke-opacity:0.8;\" x=\"121.281406\" xlink:href=\"#m1069c36b8c\" y=\"65.465073\"/>\r\n     <use style=\"fill:#4c72b0;fill-opacity:0.8;stroke:#4c72b0;stroke-opacity:0.8;\" x=\"251.481406\" xlink:href=\"#m1069c36b8c\" y=\"59.935766\"/>\r\n     <use style=\"fill:#4c72b0;fill-opacity:0.8;stroke:#4c72b0;stroke-opacity:0.8;\" x=\"208.081406\" xlink:href=\"#m1069c36b8c\" y=\"108.317203\"/>\r\n     <use style=\"fill:#4c72b0;fill-opacity:0.8;stroke:#4c72b0;stroke-opacity:0.8;\" x=\"232.881406\" xlink:href=\"#m1069c36b8c\" y=\"69.612053\"/>\r\n     <use style=\"fill:#4c72b0;fill-opacity:0.8;stroke:#4c72b0;stroke-opacity:0.8;\" x=\"59.281406\" xlink:href=\"#m1069c36b8c\" y=\"108.317203\"/>\r\n     <use style=\"fill:#4c72b0;fill-opacity:0.8;stroke:#4c72b0;stroke-opacity:0.8;\" x=\"220.481406\" xlink:href=\"#m1069c36b8c\" y=\"94.493935\"/>\r\n     <use style=\"fill:#4c72b0;fill-opacity:0.8;stroke:#4c72b0;stroke-opacity:0.8;\" x=\"189.481406\" xlink:href=\"#m1069c36b8c\" y=\"97.258589\"/>\r\n     <use style=\"fill:#4c72b0;fill-opacity:0.8;stroke:#4c72b0;stroke-opacity:0.8;\" x=\"115.081406\" xlink:href=\"#m1069c36b8c\" y=\"119.375817\"/>\r\n     <use style=\"fill:#4c72b0;fill-opacity:0.8;stroke:#4c72b0;stroke-opacity:0.8;\" x=\"170.881406\" xlink:href=\"#m1069c36b8c\" y=\"111.081856\"/>\r\n     <use style=\"fill:#4c72b0;fill-opacity:0.8;stroke:#4c72b0;stroke-opacity:0.8;\" x=\"232.881406\" xlink:href=\"#m1069c36b8c\" y=\"108.317203\"/>\r\n     <use style=\"fill:#4c72b0;fill-opacity:0.8;stroke:#4c72b0;stroke-opacity:0.8;\" x=\"102.681406\" xlink:href=\"#m1069c36b8c\" y=\"100.023242\"/>\r\n     <use style=\"fill:#4c72b0;fill-opacity:0.8;stroke:#4c72b0;stroke-opacity:0.8;\" x=\"170.881406\" xlink:href=\"#m1069c36b8c\" y=\"90.346955\"/>\r\n     <use style=\"fill:#4c72b0;fill-opacity:0.8;stroke:#4c72b0;stroke-opacity:0.8;\" x=\"146.081406\" xlink:href=\"#m1069c36b8c\" y=\"106.934876\"/>\r\n     <use style=\"fill:#4c72b0;fill-opacity:0.8;stroke:#4c72b0;stroke-opacity:0.8;\" x=\"189.481406\" xlink:href=\"#m1069c36b8c\" y=\"144.257699\"/>\r\n     <use style=\"fill:#4c72b0;fill-opacity:0.8;stroke:#4c72b0;stroke-opacity:0.8;\" x=\"164.681406\" xlink:href=\"#m1069c36b8c\" y=\"122.14047\"/>\r\n     <use style=\"fill:#4c72b0;fill-opacity:0.8;stroke:#4c72b0;stroke-opacity:0.8;\" x=\"189.481406\" xlink:href=\"#m1069c36b8c\" y=\"69.612053\"/>\r\n     <use style=\"fill:#4c72b0;fill-opacity:0.8;stroke:#4c72b0;stroke-opacity:0.8;\" x=\"108.881406\" xlink:href=\"#m1069c36b8c\" y=\"130.434431\"/>\r\n     <use style=\"fill:#4c72b0;fill-opacity:0.8;stroke:#4c72b0;stroke-opacity:0.8;\" x=\"263.881406\" xlink:href=\"#m1069c36b8c\" y=\"124.905124\"/>\r\n     <use style=\"fill:#4c72b0;fill-opacity:0.8;stroke:#4c72b0;stroke-opacity:0.8;\" x=\"245.281406\" xlink:href=\"#m1069c36b8c\" y=\"87.582301\"/>\r\n     <use style=\"fill:#4c72b0;fill-opacity:0.8;stroke:#4c72b0;stroke-opacity:0.8;\" x=\"214.281406\" xlink:href=\"#m1069c36b8c\" y=\"117.99349\"/>\r\n     <use style=\"fill:#4c72b0;fill-opacity:0.8;stroke:#4c72b0;stroke-opacity:0.8;\" x=\"177.081406\" xlink:href=\"#m1069c36b8c\" y=\"101.405569\"/>\r\n     <use style=\"fill:#4c72b0;fill-opacity:0.8;stroke:#4c72b0;stroke-opacity:0.8;\" x=\"288.681406\" xlink:href=\"#m1069c36b8c\" y=\"126.287451\"/>\r\n     <use style=\"fill:#4c72b0;fill-opacity:0.8;stroke:#4c72b0;stroke-opacity:0.8;\" x=\"139.881406\" xlink:href=\"#m1069c36b8c\" y=\"112.464183\"/>\r\n     <use style=\"fill:#4c72b0;fill-opacity:0.8;stroke:#4c72b0;stroke-opacity:0.8;\" x=\"239.081406\" xlink:href=\"#m1069c36b8c\" y=\"137.346065\"/>\r\n     <use style=\"fill:#4c72b0;fill-opacity:0.8;stroke:#4c72b0;stroke-opacity:0.8;\" x=\"270.081406\" xlink:href=\"#m1069c36b8c\" y=\"185.727502\"/>\r\n     <use style=\"fill:#4c72b0;fill-opacity:0.8;stroke:#4c72b0;stroke-opacity:0.8;\" x=\"220.481406\" xlink:href=\"#m1069c36b8c\" y=\"117.99349\"/>\r\n     <use style=\"fill:#4c72b0;fill-opacity:0.8;stroke:#4c72b0;stroke-opacity:0.8;\" x=\"257.681406\" xlink:href=\"#m1069c36b8c\" y=\"141.493045\"/>\r\n     <use style=\"fill:#4c72b0;fill-opacity:0.8;stroke:#4c72b0;stroke-opacity:0.8;\" x=\"71.681406\" xlink:href=\"#m1069c36b8c\" y=\"137.346065\"/>\r\n     <use style=\"fill:#4c72b0;fill-opacity:0.8;stroke:#4c72b0;stroke-opacity:0.8;\" x=\"177.081406\" xlink:href=\"#m1069c36b8c\" y=\"162.227947\"/>\r\n     <use style=\"fill:#4c72b0;fill-opacity:0.8;stroke:#4c72b0;stroke-opacity:0.8;\" x=\"96.481406\" xlink:href=\"#m1069c36b8c\" y=\"112.464183\"/>\r\n     <use style=\"fill:#4c72b0;fill-opacity:0.8;stroke:#4c72b0;stroke-opacity:0.8;\" x=\"164.681406\" xlink:href=\"#m1069c36b8c\" y=\"122.14047\"/>\r\n     <use style=\"fill:#4c72b0;fill-opacity:0.8;stroke:#4c72b0;stroke-opacity:0.8;\" x=\"214.281406\" xlink:href=\"#m1069c36b8c\" y=\"129.052104\"/>\r\n     <use style=\"fill:#4c72b0;fill-opacity:0.8;stroke:#4c72b0;stroke-opacity:0.8;\" x=\"90.281406\" xlink:href=\"#m1069c36b8c\" y=\"108.317203\"/>\r\n     <use style=\"fill:#4c72b0;fill-opacity:0.8;stroke:#4c72b0;stroke-opacity:0.8;\" x=\"170.881406\" xlink:href=\"#m1069c36b8c\" y=\"97.258589\"/>\r\n     <use style=\"fill:#4c72b0;fill-opacity:0.8;stroke:#4c72b0;stroke-opacity:0.8;\" x=\"387.881406\" xlink:href=\"#m1069c36b8c\" y=\"196.786116\"/>\r\n     <use style=\"fill:#4c72b0;fill-opacity:0.8;stroke:#4c72b0;stroke-opacity:0.8;\" x=\"226.681406\" xlink:href=\"#m1069c36b8c\" y=\"182.962848\"/>\r\n     <use style=\"fill:#4c72b0;fill-opacity:0.8;stroke:#4c72b0;stroke-opacity:0.8;\" x=\"226.681406\" xlink:href=\"#m1069c36b8c\" y=\"86.199975\"/>\r\n     <use style=\"fill:#4c72b0;fill-opacity:0.8;stroke:#4c72b0;stroke-opacity:0.8;\" x=\"214.281406\" xlink:href=\"#m1069c36b8c\" y=\"151.169332\"/>\r\n     <use style=\"fill:#4c72b0;fill-opacity:0.8;stroke:#4c72b0;stroke-opacity:0.8;\" x=\"195.681406\" xlink:href=\"#m1069c36b8c\" y=\"115.228837\"/>\r\n     <use style=\"fill:#4c72b0;fill-opacity:0.8;stroke:#4c72b0;stroke-opacity:0.8;\" x=\"183.281406\" xlink:href=\"#m1069c36b8c\" y=\"155.316313\"/>\r\n     <use style=\"fill:#4c72b0;fill-opacity:0.8;stroke:#4c72b0;stroke-opacity:0.8;\" x=\"226.681406\" xlink:href=\"#m1069c36b8c\" y=\"101.405569\"/>\r\n     <use style=\"fill:#4c72b0;fill-opacity:0.8;stroke:#4c72b0;stroke-opacity:0.8;\" x=\"77.881406\" xlink:href=\"#m1069c36b8c\" y=\"111.081856\"/>\r\n     <use style=\"fill:#4c72b0;fill-opacity:0.8;stroke:#4c72b0;stroke-opacity:0.8;\" x=\"201.881406\" xlink:href=\"#m1069c36b8c\" y=\"111.081856\"/>\r\n     <use style=\"fill:#4c72b0;fill-opacity:0.8;stroke:#4c72b0;stroke-opacity:0.8;\" x=\"189.481406\" xlink:href=\"#m1069c36b8c\" y=\"94.493935\"/>\r\n     <use style=\"fill:#4c72b0;fill-opacity:0.8;stroke:#4c72b0;stroke-opacity:0.8;\" x=\"214.281406\" xlink:href=\"#m1069c36b8c\" y=\"84.817648\"/>\r\n     <use style=\"fill:#4c72b0;fill-opacity:0.8;stroke:#4c72b0;stroke-opacity:0.8;\" x=\"59.281406\" xlink:href=\"#m1069c36b8c\" y=\"111.081856\"/>\r\n     <use style=\"fill:#4c72b0;fill-opacity:0.8;stroke:#4c72b0;stroke-opacity:0.8;\" x=\"158.481406\" xlink:href=\"#m1069c36b8c\" y=\"101.405569\"/>\r\n     <use style=\"fill:#4c72b0;fill-opacity:0.8;stroke:#4c72b0;stroke-opacity:0.8;\" x=\"90.281406\" xlink:href=\"#m1069c36b8c\" y=\"177.433541\"/>\r\n     <use style=\"fill:#4c72b0;fill-opacity:0.8;stroke:#4c72b0;stroke-opacity:0.8;\" x=\"59.281406\" xlink:href=\"#m1069c36b8c\" y=\"163.610273\"/>\r\n     <use style=\"fill:#4c72b0;fill-opacity:0.8;stroke:#4c72b0;stroke-opacity:0.8;\" x=\"319.681406\" xlink:href=\"#m1069c36b8c\" y=\"111.081856\"/>\r\n     <use style=\"fill:#4c72b0;fill-opacity:0.8;stroke:#4c72b0;stroke-opacity:0.8;\" x=\"189.481406\" xlink:href=\"#m1069c36b8c\" y=\"46.112498\"/>\r\n     <use style=\"fill:#4c72b0;fill-opacity:0.8;stroke:#4c72b0;stroke-opacity:0.8;\" x=\"263.881406\" xlink:href=\"#m1069c36b8c\" y=\"189.874482\"/>\r\n     <use style=\"fill:#4c72b0;fill-opacity:0.8;stroke:#4c72b0;stroke-opacity:0.8;\" x=\"108.881406\" xlink:href=\"#m1069c36b8c\" y=\"148.404679\"/>\r\n     <use style=\"fill:#4c72b0;fill-opacity:0.8;stroke:#4c72b0;stroke-opacity:0.8;\" x=\"152.281406\" xlink:href=\"#m1069c36b8c\" y=\"119.375817\"/>\r\n     <use style=\"fill:#4c72b0;fill-opacity:0.8;stroke:#4c72b0;stroke-opacity:0.8;\" x=\"115.081406\" xlink:href=\"#m1069c36b8c\" y=\"180.198195\"/>\r\n     <use style=\"fill:#4c72b0;fill-opacity:0.8;stroke:#4c72b0;stroke-opacity:0.8;\" x=\"65.481406\" xlink:href=\"#m1069c36b8c\" y=\"37.818538\"/>\r\n     <use style=\"fill:#4c72b0;fill-opacity:0.8;stroke:#4c72b0;stroke-opacity:0.8;\" x=\"183.281406\" xlink:href=\"#m1069c36b8c\" y=\"87.582301\"/>\r\n     <use style=\"fill:#4c72b0;fill-opacity:0.8;stroke:#4c72b0;stroke-opacity:0.8;\" x=\"96.481406\" xlink:href=\"#m1069c36b8c\" y=\"104.170223\"/>\r\n     <use style=\"fill:#4c72b0;fill-opacity:0.8;stroke:#4c72b0;stroke-opacity:0.8;\" x=\"77.881406\" xlink:href=\"#m1069c36b8c\" y=\"144.257699\"/>\r\n     <use style=\"fill:#4c72b0;fill-opacity:0.8;stroke:#4c72b0;stroke-opacity:0.8;\" x=\"90.281406\" xlink:href=\"#m1069c36b8c\" y=\"200.933096\"/>\r\n     <use style=\"fill:#4c72b0;fill-opacity:0.8;stroke:#4c72b0;stroke-opacity:0.8;\" x=\"53.081406\" xlink:href=\"#m1069c36b8c\" y=\"145.640025\"/>\r\n     <use style=\"fill:#4c72b0;fill-opacity:0.8;stroke:#4c72b0;stroke-opacity:0.8;\" x=\"84.081406\" xlink:href=\"#m1069c36b8c\" y=\"145.640025\"/>\r\n     <use style=\"fill:#4c72b0;fill-opacity:0.8;stroke:#4c72b0;stroke-opacity:0.8;\" x=\"115.081406\" xlink:href=\"#m1069c36b8c\" y=\"166.374927\"/>\r\n     <use style=\"fill:#4c72b0;fill-opacity:0.8;stroke:#4c72b0;stroke-opacity:0.8;\" x=\"133.681406\" xlink:href=\"#m1069c36b8c\" y=\"205.080076\"/>\r\n     <use style=\"fill:#4c72b0;fill-opacity:0.8;stroke:#4c72b0;stroke-opacity:0.8;\" x=\"189.481406\" xlink:href=\"#m1069c36b8c\" y=\"97.258589\"/>\r\n     <use style=\"fill:#4c72b0;fill-opacity:0.8;stroke:#4c72b0;stroke-opacity:0.8;\" x=\"214.281406\" xlink:href=\"#m1069c36b8c\" y=\"119.375817\"/>\r\n     <use style=\"fill:#4c72b0;fill-opacity:0.8;stroke:#4c72b0;stroke-opacity:0.8;\" x=\"139.881406\" xlink:href=\"#m1069c36b8c\" y=\"185.727502\"/>\r\n     <use style=\"fill:#4c72b0;fill-opacity:0.8;stroke:#4c72b0;stroke-opacity:0.8;\" x=\"71.681406\" xlink:href=\"#m1069c36b8c\" y=\"115.228837\"/>\r\n     <use style=\"fill:#4c72b0;fill-opacity:0.8;stroke:#4c72b0;stroke-opacity:0.8;\" x=\"214.281406\" xlink:href=\"#m1069c36b8c\" y=\"91.729282\"/>\r\n     <use style=\"fill:#4c72b0;fill-opacity:0.8;stroke:#4c72b0;stroke-opacity:0.8;\" x=\"226.681406\" xlink:href=\"#m1069c36b8c\" y=\"181.580521\"/>\r\n     <use style=\"fill:#4c72b0;fill-opacity:0.8;stroke:#4c72b0;stroke-opacity:0.8;\" x=\"170.881406\" xlink:href=\"#m1069c36b8c\" y=\"203.69775\"/>\r\n     <use style=\"fill:#4c72b0;fill-opacity:0.8;stroke:#4c72b0;stroke-opacity:0.8;\" x=\"115.081406\" xlink:href=\"#m1069c36b8c\" y=\"160.84562\"/>\r\n     <use style=\"fill:#4c72b0;fill-opacity:0.8;stroke:#4c72b0;stroke-opacity:0.8;\" x=\"387.881406\" xlink:href=\"#m1069c36b8c\" y=\"158.080966\"/>\r\n     <use style=\"fill:#4c72b0;fill-opacity:0.8;stroke:#4c72b0;stroke-opacity:0.8;\" x=\"146.081406\" xlink:href=\"#m1069c36b8c\" y=\"94.493935\"/>\r\n     <use style=\"fill:#4c72b0;fill-opacity:0.8;stroke:#4c72b0;stroke-opacity:0.8;\" x=\"183.281406\" xlink:href=\"#m1069c36b8c\" y=\"83.435321\"/>\r\n     <use style=\"fill:#4c72b0;fill-opacity:0.8;stroke:#4c72b0;stroke-opacity:0.8;\" x=\"139.881406\" xlink:href=\"#m1069c36b8c\" y=\"164.9926\"/>\r\n     <use style=\"fill:#4c72b0;fill-opacity:0.8;stroke:#4c72b0;stroke-opacity:0.8;\" x=\"158.481406\" xlink:href=\"#m1069c36b8c\" y=\"156.69864\"/>\r\n     <use style=\"fill:#4c72b0;fill-opacity:0.8;stroke:#4c72b0;stroke-opacity:0.8;\" x=\"282.481406\" xlink:href=\"#m1069c36b8c\" y=\"69.612053\"/>\r\n     <use style=\"fill:#4c72b0;fill-opacity:0.8;stroke:#4c72b0;stroke-opacity:0.8;\" x=\"251.481406\" xlink:href=\"#m1069c36b8c\" y=\"84.817648\"/>\r\n     <use style=\"fill:#4c72b0;fill-opacity:0.8;stroke:#4c72b0;stroke-opacity:0.8;\" x=\"189.481406\" xlink:href=\"#m1069c36b8c\" y=\"176.051214\"/>\r\n     <use style=\"fill:#4c72b0;fill-opacity:0.8;stroke:#4c72b0;stroke-opacity:0.8;\" x=\"189.481406\" xlink:href=\"#m1069c36b8c\" y=\"140.110718\"/>\r\n     <use style=\"fill:#4c72b0;fill-opacity:0.8;stroke:#4c72b0;stroke-opacity:0.8;\" x=\"263.881406\" xlink:href=\"#m1069c36b8c\" y=\"90.346955\"/>\r\n     <use style=\"fill:#4c72b0;fill-opacity:0.8;stroke:#4c72b0;stroke-opacity:0.8;\" x=\"189.481406\" xlink:href=\"#m1069c36b8c\" y=\"69.612053\"/>\r\n     <use style=\"fill:#4c72b0;fill-opacity:0.8;stroke:#4c72b0;stroke-opacity:0.8;\" x=\"183.281406\" xlink:href=\"#m1069c36b8c\" y=\"101.405569\"/>\r\n     <use style=\"fill:#4c72b0;fill-opacity:0.8;stroke:#4c72b0;stroke-opacity:0.8;\" x=\"183.281406\" xlink:href=\"#m1069c36b8c\" y=\"101.405569\"/>\r\n     <use style=\"fill:#4c72b0;fill-opacity:0.8;stroke:#4c72b0;stroke-opacity:0.8;\" x=\"90.281406\" xlink:href=\"#m1069c36b8c\" y=\"124.905124\"/>\r\n     <use style=\"fill:#4c72b0;fill-opacity:0.8;stroke:#4c72b0;stroke-opacity:0.8;\" x=\"214.281406\" xlink:href=\"#m1069c36b8c\" y=\"101.405569\"/>\r\n     <use style=\"fill:#4c72b0;fill-opacity:0.8;stroke:#4c72b0;stroke-opacity:0.8;\" x=\"325.881406\" xlink:href=\"#m1069c36b8c\" y=\"105.552549\"/>\r\n     <use style=\"fill:#4c72b0;fill-opacity:0.8;stroke:#4c72b0;stroke-opacity:0.8;\" x=\"115.081406\" xlink:href=\"#m1069c36b8c\" y=\"72.376707\"/>\r\n     <use style=\"fill:#4c72b0;fill-opacity:0.8;stroke:#4c72b0;stroke-opacity:0.8;\" x=\"152.281406\" xlink:href=\"#m1069c36b8c\" y=\"147.022352\"/>\r\n     <use style=\"fill:#4c72b0;fill-opacity:0.8;stroke:#4c72b0;stroke-opacity:0.8;\" x=\"177.081406\" xlink:href=\"#m1069c36b8c\" y=\"147.022352\"/>\r\n     <use style=\"fill:#4c72b0;fill-opacity:0.8;stroke:#4c72b0;stroke-opacity:0.8;\" x=\"208.081406\" xlink:href=\"#m1069c36b8c\" y=\"83.435321\"/>\r\n     <use style=\"fill:#4c72b0;fill-opacity:0.8;stroke:#4c72b0;stroke-opacity:0.8;\" x=\"325.881406\" xlink:href=\"#m1069c36b8c\" y=\"86.199975\"/>\r\n     <use style=\"fill:#4c72b0;fill-opacity:0.8;stroke:#4c72b0;stroke-opacity:0.8;\" x=\"195.681406\" xlink:href=\"#m1069c36b8c\" y=\"73.759034\"/>\r\n     <use style=\"fill:#4c72b0;fill-opacity:0.8;stroke:#4c72b0;stroke-opacity:0.8;\" x=\"201.881406\" xlink:href=\"#m1069c36b8c\" y=\"119.375817\"/>\r\n     <use style=\"fill:#4c72b0;fill-opacity:0.8;stroke:#4c72b0;stroke-opacity:0.8;\" x=\"164.681406\" xlink:href=\"#m1069c36b8c\" y=\"80.670668\"/>\r\n     <use style=\"fill:#4c72b0;fill-opacity:0.8;stroke:#4c72b0;stroke-opacity:0.8;\" x=\"195.681406\" xlink:href=\"#m1069c36b8c\" y=\"124.905124\"/>\r\n     <use style=\"fill:#4c72b0;fill-opacity:0.8;stroke:#4c72b0;stroke-opacity:0.8;\" x=\"282.481406\" xlink:href=\"#m1069c36b8c\" y=\"115.228837\"/>\r\n     <use style=\"fill:#4c72b0;fill-opacity:0.8;stroke:#4c72b0;stroke-opacity:0.8;\" x=\"164.681406\" xlink:href=\"#m1069c36b8c\" y=\"47.494825\"/>\r\n     <use style=\"fill:#4c72b0;fill-opacity:0.8;stroke:#4c72b0;stroke-opacity:0.8;\" x=\"164.681406\" xlink:href=\"#m1069c36b8c\" y=\"119.375817\"/>\r\n     <use style=\"fill:#4c72b0;fill-opacity:0.8;stroke:#4c72b0;stroke-opacity:0.8;\" x=\"301.081406\" xlink:href=\"#m1069c36b8c\" y=\"151.169332\"/>\r\n     <use style=\"fill:#4c72b0;fill-opacity:0.8;stroke:#4c72b0;stroke-opacity:0.8;\" x=\"270.081406\" xlink:href=\"#m1069c36b8c\" y=\"104.170223\"/>\r\n     <use style=\"fill:#4c72b0;fill-opacity:0.8;stroke:#4c72b0;stroke-opacity:0.8;\" x=\"183.281406\" xlink:href=\"#m1069c36b8c\" y=\"83.435321\"/>\r\n     <use style=\"fill:#4c72b0;fill-opacity:0.8;stroke:#4c72b0;stroke-opacity:0.8;\" x=\"121.281406\" xlink:href=\"#m1069c36b8c\" y=\"178.815868\"/>\r\n     <use style=\"fill:#4c72b0;fill-opacity:0.8;stroke:#4c72b0;stroke-opacity:0.8;\" x=\"127.481406\" xlink:href=\"#m1069c36b8c\" y=\"79.288341\"/>\r\n     <use style=\"fill:#4c72b0;fill-opacity:0.8;stroke:#4c72b0;stroke-opacity:0.8;\" x=\"177.081406\" xlink:href=\"#m1069c36b8c\" y=\"117.99349\"/>\r\n     <use style=\"fill:#4c72b0;fill-opacity:0.8;stroke:#4c72b0;stroke-opacity:0.8;\" x=\"208.081406\" xlink:href=\"#m1069c36b8c\" y=\"108.317203\"/>\r\n     <use style=\"fill:#4c72b0;fill-opacity:0.8;stroke:#4c72b0;stroke-opacity:0.8;\" x=\"270.081406\" xlink:href=\"#m1069c36b8c\" y=\"127.669777\"/>\r\n     <use style=\"fill:#4c72b0;fill-opacity:0.8;stroke:#4c72b0;stroke-opacity:0.8;\" x=\"164.681406\" xlink:href=\"#m1069c36b8c\" y=\"160.84562\"/>\r\n     <use style=\"fill:#4c72b0;fill-opacity:0.8;stroke:#4c72b0;stroke-opacity:0.8;\" x=\"102.681406\" xlink:href=\"#m1069c36b8c\" y=\"65.465073\"/>\r\n     <use style=\"fill:#4c72b0;fill-opacity:0.8;stroke:#4c72b0;stroke-opacity:0.8;\" x=\"195.681406\" xlink:href=\"#m1069c36b8c\" y=\"90.346955\"/>\r\n     <use style=\"fill:#4c72b0;fill-opacity:0.8;stroke:#4c72b0;stroke-opacity:0.8;\" x=\"189.481406\" xlink:href=\"#m1069c36b8c\" y=\"144.257699\"/>\r\n     <use style=\"fill:#4c72b0;fill-opacity:0.8;stroke:#4c72b0;stroke-opacity:0.8;\" x=\"164.681406\" xlink:href=\"#m1069c36b8c\" y=\"104.170223\"/>\r\n     <use style=\"fill:#4c72b0;fill-opacity:0.8;stroke:#4c72b0;stroke-opacity:0.8;\" x=\"195.681406\" xlink:href=\"#m1069c36b8c\" y=\"104.170223\"/>\r\n     <use style=\"fill:#4c72b0;fill-opacity:0.8;stroke:#4c72b0;stroke-opacity:0.8;\" x=\"115.081406\" xlink:href=\"#m1069c36b8c\" y=\"48.877152\"/>\r\n     <use style=\"fill:#4c72b0;fill-opacity:0.8;stroke:#4c72b0;stroke-opacity:0.8;\" x=\"127.481406\" xlink:href=\"#m1069c36b8c\" y=\"88.964628\"/>\r\n     <use style=\"fill:#4c72b0;fill-opacity:0.8;stroke:#4c72b0;stroke-opacity:0.8;\" x=\"127.481406\" xlink:href=\"#m1069c36b8c\" y=\"83.435321\"/>\r\n     <use style=\"fill:#4c72b0;fill-opacity:0.8;stroke:#4c72b0;stroke-opacity:0.8;\" x=\"239.081406\" xlink:href=\"#m1069c36b8c\" y=\"98.640915\"/>\r\n     <use style=\"fill:#4c72b0;fill-opacity:0.8;stroke:#4c72b0;stroke-opacity:0.8;\" x=\"208.081406\" xlink:href=\"#m1069c36b8c\" y=\"91.729282\"/>\r\n     <use style=\"fill:#4c72b0;fill-opacity:0.8;stroke:#4c72b0;stroke-opacity:0.8;\" x=\"208.081406\" xlink:href=\"#m1069c36b8c\" y=\"94.493935\"/>\r\n     <use style=\"fill:#4c72b0;fill-opacity:0.8;stroke:#4c72b0;stroke-opacity:0.8;\" x=\"263.881406\" xlink:href=\"#m1069c36b8c\" y=\"83.435321\"/>\r\n     <use style=\"fill:#4c72b0;fill-opacity:0.8;stroke:#4c72b0;stroke-opacity:0.8;\" x=\"195.681406\" xlink:href=\"#m1069c36b8c\" y=\"144.257699\"/>\r\n     <use style=\"fill:#4c72b0;fill-opacity:0.8;stroke:#4c72b0;stroke-opacity:0.8;\" x=\"282.481406\" xlink:href=\"#m1069c36b8c\" y=\"113.84651\"/>\r\n     <use style=\"fill:#4c72b0;fill-opacity:0.8;stroke:#4c72b0;stroke-opacity:0.8;\" x=\"164.681406\" xlink:href=\"#m1069c36b8c\" y=\"75.14136\"/>\r\n     <use style=\"fill:#4c72b0;fill-opacity:0.8;stroke:#4c72b0;stroke-opacity:0.8;\" x=\"183.281406\" xlink:href=\"#m1069c36b8c\" y=\"108.317203\"/>\r\n     <use style=\"fill:#4c72b0;fill-opacity:0.8;stroke:#4c72b0;stroke-opacity:0.8;\" x=\"189.481406\" xlink:href=\"#m1069c36b8c\" y=\"122.14047\"/>\r\n     <use style=\"fill:#4c72b0;fill-opacity:0.8;stroke:#4c72b0;stroke-opacity:0.8;\" x=\"239.081406\" xlink:href=\"#m1069c36b8c\" y=\"115.228837\"/>\r\n     <use style=\"fill:#4c72b0;fill-opacity:0.8;stroke:#4c72b0;stroke-opacity:0.8;\" x=\"96.481406\" xlink:href=\"#m1069c36b8c\" y=\"58.553439\"/>\r\n     <use style=\"fill:#4c72b0;fill-opacity:0.8;stroke:#4c72b0;stroke-opacity:0.8;\" x=\"133.681406\" xlink:href=\"#m1069c36b8c\" y=\"101.405569\"/>\r\n     <use style=\"fill:#4c72b0;fill-opacity:0.8;stroke:#4c72b0;stroke-opacity:0.8;\" x=\"239.081406\" xlink:href=\"#m1069c36b8c\" y=\"130.434431\"/>\r\n     <use style=\"fill:#4c72b0;fill-opacity:0.8;stroke:#4c72b0;stroke-opacity:0.8;\" x=\"214.281406\" xlink:href=\"#m1069c36b8c\" y=\"111.081856\"/>\r\n     <use style=\"fill:#4c72b0;fill-opacity:0.8;stroke:#4c72b0;stroke-opacity:0.8;\" x=\"127.481406\" xlink:href=\"#m1069c36b8c\" y=\"108.317203\"/>\r\n     <use style=\"fill:#4c72b0;fill-opacity:0.8;stroke:#4c72b0;stroke-opacity:0.8;\" x=\"164.681406\" xlink:href=\"#m1069c36b8c\" y=\"163.610273\"/>\r\n     <use style=\"fill:#4c72b0;fill-opacity:0.8;stroke:#4c72b0;stroke-opacity:0.8;\" x=\"102.681406\" xlink:href=\"#m1069c36b8c\" y=\"76.523687\"/>\r\n     <use style=\"fill:#4c72b0;fill-opacity:0.8;stroke:#4c72b0;stroke-opacity:0.8;\" x=\"226.681406\" xlink:href=\"#m1069c36b8c\" y=\"94.493935\"/>\r\n     <use style=\"fill:#4c72b0;fill-opacity:0.8;stroke:#4c72b0;stroke-opacity:0.8;\" x=\"183.281406\" xlink:href=\"#m1069c36b8c\" y=\"69.612053\"/>\r\n     <use style=\"fill:#4c72b0;fill-opacity:0.8;stroke:#4c72b0;stroke-opacity:0.8;\" x=\"319.681406\" xlink:href=\"#m1069c36b8c\" y=\"135.963738\"/>\r\n     <use style=\"fill:#4c72b0;fill-opacity:0.8;stroke:#4c72b0;stroke-opacity:0.8;\" x=\"195.681406\" xlink:href=\"#m1069c36b8c\" y=\"97.258589\"/>\r\n     <use style=\"fill:#4c72b0;fill-opacity:0.8;stroke:#4c72b0;stroke-opacity:0.8;\" x=\"158.481406\" xlink:href=\"#m1069c36b8c\" y=\"119.375817\"/>\r\n     <use style=\"fill:#4c72b0;fill-opacity:0.8;stroke:#4c72b0;stroke-opacity:0.8;\" x=\"239.081406\" xlink:href=\"#m1069c36b8c\" y=\"173.286561\"/>\r\n     <use style=\"fill:#4c72b0;fill-opacity:0.8;stroke:#4c72b0;stroke-opacity:0.8;\" x=\"226.681406\" xlink:href=\"#m1069c36b8c\" y=\"104.170223\"/>\r\n     <use style=\"fill:#4c72b0;fill-opacity:0.8;stroke:#4c72b0;stroke-opacity:0.8;\" x=\"208.081406\" xlink:href=\"#m1069c36b8c\" y=\"108.317203\"/>\r\n     <use style=\"fill:#4c72b0;fill-opacity:0.8;stroke:#4c72b0;stroke-opacity:0.8;\" x=\"183.281406\" xlink:href=\"#m1069c36b8c\" y=\"123.522797\"/>\r\n     <use style=\"fill:#4c72b0;fill-opacity:0.8;stroke:#4c72b0;stroke-opacity:0.8;\" x=\"294.881406\" xlink:href=\"#m1069c36b8c\" y=\"117.99349\"/>\r\n     <use style=\"fill:#4c72b0;fill-opacity:0.8;stroke:#4c72b0;stroke-opacity:0.8;\" x=\"84.081406\" xlink:href=\"#m1069c36b8c\" y=\"120.758144\"/>\r\n     <use style=\"fill:#4c72b0;fill-opacity:0.8;stroke:#4c72b0;stroke-opacity:0.8;\" x=\"356.881406\" xlink:href=\"#m1069c36b8c\" y=\"104.170223\"/>\r\n     <use style=\"fill:#4c72b0;fill-opacity:0.8;stroke:#4c72b0;stroke-opacity:0.8;\" x=\"270.081406\" xlink:href=\"#m1069c36b8c\" y=\"134.581411\"/>\r\n     <use style=\"fill:#4c72b0;fill-opacity:0.8;stroke:#4c72b0;stroke-opacity:0.8;\" x=\"257.681406\" xlink:href=\"#m1069c36b8c\" y=\"169.13958\"/>\r\n     <use style=\"fill:#4c72b0;fill-opacity:0.8;stroke:#4c72b0;stroke-opacity:0.8;\" x=\"301.081406\" xlink:href=\"#m1069c36b8c\" y=\"76.523687\"/>\r\n     <use style=\"fill:#4c72b0;fill-opacity:0.8;stroke:#4c72b0;stroke-opacity:0.8;\" x=\"164.681406\" xlink:href=\"#m1069c36b8c\" y=\"188.492155\"/>\r\n     <use style=\"fill:#4c72b0;fill-opacity:0.8;stroke:#4c72b0;stroke-opacity:0.8;\" x=\"332.081406\" xlink:href=\"#m1069c36b8c\" y=\"72.376707\"/>\r\n     <use style=\"fill:#4c72b0;fill-opacity:0.8;stroke:#4c72b0;stroke-opacity:0.8;\" x=\"319.681406\" xlink:href=\"#m1069c36b8c\" y=\"214.756364\"/>\r\n     <use style=\"fill:#4c72b0;fill-opacity:0.8;stroke:#4c72b0;stroke-opacity:0.8;\" x=\"307.281406\" xlink:href=\"#m1069c36b8c\" y=\"138.728392\"/>\r\n     <use style=\"fill:#4c72b0;fill-opacity:0.8;stroke:#4c72b0;stroke-opacity:0.8;\" x=\"158.481406\" xlink:href=\"#m1069c36b8c\" y=\"97.258589\"/>\r\n     <use style=\"fill:#4c72b0;fill-opacity:0.8;stroke:#4c72b0;stroke-opacity:0.8;\" x=\"170.881406\" xlink:href=\"#m1069c36b8c\" y=\"119.375817\"/>\r\n     <use style=\"fill:#4c72b0;fill-opacity:0.8;stroke:#4c72b0;stroke-opacity:0.8;\" x=\"65.481406\" xlink:href=\"#m1069c36b8c\" y=\"156.69864\"/>\r\n     <use style=\"fill:#4c72b0;fill-opacity:0.8;stroke:#4c72b0;stroke-opacity:0.8;\" x=\"108.881406\" xlink:href=\"#m1069c36b8c\" y=\"108.317203\"/>\r\n     <use style=\"fill:#4c72b0;fill-opacity:0.8;stroke:#4c72b0;stroke-opacity:0.8;\" x=\"201.881406\" xlink:href=\"#m1069c36b8c\" y=\"48.877152\"/>\r\n     <use style=\"fill:#4c72b0;fill-opacity:0.8;stroke:#4c72b0;stroke-opacity:0.8;\" x=\"189.481406\" xlink:href=\"#m1069c36b8c\" y=\"108.317203\"/>\r\n     <use style=\"fill:#4c72b0;fill-opacity:0.8;stroke:#4c72b0;stroke-opacity:0.8;\" x=\"139.881406\" xlink:href=\"#m1069c36b8c\" y=\"93.111608\"/>\r\n     <use style=\"fill:#4c72b0;fill-opacity:0.8;stroke:#4c72b0;stroke-opacity:0.8;\" x=\"208.081406\" xlink:href=\"#m1069c36b8c\" y=\"101.405569\"/>\r\n     <use style=\"fill:#4c72b0;fill-opacity:0.8;stroke:#4c72b0;stroke-opacity:0.8;\" x=\"139.881406\" xlink:href=\"#m1069c36b8c\" y=\"58.553439\"/>\r\n     <use style=\"fill:#4c72b0;fill-opacity:0.8;stroke:#4c72b0;stroke-opacity:0.8;\" x=\"133.681406\" xlink:href=\"#m1069c36b8c\" y=\"47.494825\"/>\r\n     <use style=\"fill:#4c72b0;fill-opacity:0.8;stroke:#4c72b0;stroke-opacity:0.8;\" x=\"251.481406\" xlink:href=\"#m1069c36b8c\" y=\"122.14047\"/>\r\n     <use style=\"fill:#4c72b0;fill-opacity:0.8;stroke:#4c72b0;stroke-opacity:0.8;\" x=\"152.281406\" xlink:href=\"#m1069c36b8c\" y=\"119.375817\"/>\r\n     <use style=\"fill:#4c72b0;fill-opacity:0.8;stroke:#4c72b0;stroke-opacity:0.8;\" x=\"108.881406\" xlink:href=\"#m1069c36b8c\" y=\"90.346955\"/>\r\n     <use style=\"fill:#4c72b0;fill-opacity:0.8;stroke:#4c72b0;stroke-opacity:0.8;\" x=\"189.481406\" xlink:href=\"#m1069c36b8c\" y=\"101.405569\"/>\r\n     <use style=\"fill:#4c72b0;fill-opacity:0.8;stroke:#4c72b0;stroke-opacity:0.8;\" x=\"65.481406\" xlink:href=\"#m1069c36b8c\" y=\"87.582301\"/>\r\n     <use style=\"fill:#4c72b0;fill-opacity:0.8;stroke:#4c72b0;stroke-opacity:0.8;\" x=\"313.481406\" xlink:href=\"#m1069c36b8c\" y=\"126.287451\"/>\r\n     <use style=\"fill:#4c72b0;fill-opacity:0.8;stroke:#4c72b0;stroke-opacity:0.8;\" x=\"239.081406\" xlink:href=\"#m1069c36b8c\" y=\"126.287451\"/>\r\n     <use style=\"fill:#4c72b0;fill-opacity:0.8;stroke:#4c72b0;stroke-opacity:0.8;\" x=\"226.681406\" xlink:href=\"#m1069c36b8c\" y=\"53.024132\"/>\r\n     <use style=\"fill:#4c72b0;fill-opacity:0.8;stroke:#4c72b0;stroke-opacity:0.8;\" x=\"239.081406\" xlink:href=\"#m1069c36b8c\" y=\"101.405569\"/>\r\n     <use style=\"fill:#4c72b0;fill-opacity:0.8;stroke:#4c72b0;stroke-opacity:0.8;\" x=\"170.881406\" xlink:href=\"#m1069c36b8c\" y=\"98.640915\"/>\r\n     <use style=\"fill:#4c72b0;fill-opacity:0.8;stroke:#4c72b0;stroke-opacity:0.8;\" x=\"245.281406\" xlink:href=\"#m1069c36b8c\" y=\"94.493935\"/>\r\n     <use style=\"fill:#4c72b0;fill-opacity:0.8;stroke:#4c72b0;stroke-opacity:0.8;\" x=\"319.681406\" xlink:href=\"#m1069c36b8c\" y=\"115.228837\"/>\r\n     <use style=\"fill:#4c72b0;fill-opacity:0.8;stroke:#4c72b0;stroke-opacity:0.8;\" x=\"208.081406\" xlink:href=\"#m1069c36b8c\" y=\"108.317203\"/>\r\n     <use style=\"fill:#4c72b0;fill-opacity:0.8;stroke:#4c72b0;stroke-opacity:0.8;\" x=\"195.681406\" xlink:href=\"#m1069c36b8c\" y=\"120.758144\"/>\r\n     <use style=\"fill:#4c72b0;fill-opacity:0.8;stroke:#4c72b0;stroke-opacity:0.8;\" x=\"270.081406\" xlink:href=\"#m1069c36b8c\" y=\"83.435321\"/>\r\n     <use style=\"fill:#4c72b0;fill-opacity:0.8;stroke:#4c72b0;stroke-opacity:0.8;\" x=\"183.281406\" xlink:href=\"#m1069c36b8c\" y=\"105.552549\"/>\r\n     <use style=\"fill:#4c72b0;fill-opacity:0.8;stroke:#4c72b0;stroke-opacity:0.8;\" x=\"294.881406\" xlink:href=\"#m1069c36b8c\" y=\"93.111608\"/>\r\n     <use style=\"fill:#4c72b0;fill-opacity:0.8;stroke:#4c72b0;stroke-opacity:0.8;\" x=\"139.881406\" xlink:href=\"#m1069c36b8c\" y=\"98.640915\"/>\r\n     <use style=\"fill:#4c72b0;fill-opacity:0.8;stroke:#4c72b0;stroke-opacity:0.8;\" x=\"152.281406\" xlink:href=\"#m1069c36b8c\" y=\"97.258589\"/>\r\n     <use style=\"fill:#4c72b0;fill-opacity:0.8;stroke:#4c72b0;stroke-opacity:0.8;\" x=\"177.081406\" xlink:href=\"#m1069c36b8c\" y=\"129.052104\"/>\r\n     <use style=\"fill:#4c72b0;fill-opacity:0.8;stroke:#4c72b0;stroke-opacity:0.8;\" x=\"164.681406\" xlink:href=\"#m1069c36b8c\" y=\"80.670668\"/>\r\n     <use style=\"fill:#4c72b0;fill-opacity:0.8;stroke:#4c72b0;stroke-opacity:0.8;\" x=\"177.081406\" xlink:href=\"#m1069c36b8c\" y=\"119.375817\"/>\r\n     <use style=\"fill:#4c72b0;fill-opacity:0.8;stroke:#4c72b0;stroke-opacity:0.8;\" x=\"208.081406\" xlink:href=\"#m1069c36b8c\" y=\"79.288341\"/>\r\n     <use style=\"fill:#4c72b0;fill-opacity:0.8;stroke:#4c72b0;stroke-opacity:0.8;\" x=\"152.281406\" xlink:href=\"#m1069c36b8c\" y=\"115.228837\"/>\r\n     <use style=\"fill:#4c72b0;fill-opacity:0.8;stroke:#4c72b0;stroke-opacity:0.8;\" x=\"152.281406\" xlink:href=\"#m1069c36b8c\" y=\"155.316313\"/>\r\n     <use style=\"fill:#4c72b0;fill-opacity:0.8;stroke:#4c72b0;stroke-opacity:0.8;\" x=\"288.681406\" xlink:href=\"#m1069c36b8c\" y=\"73.759034\"/>\r\n     <use style=\"fill:#4c72b0;fill-opacity:0.8;stroke:#4c72b0;stroke-opacity:0.8;\" x=\"84.081406\" xlink:href=\"#m1069c36b8c\" y=\"79.288341\"/>\r\n     <use style=\"fill:#4c72b0;fill-opacity:0.8;stroke:#4c72b0;stroke-opacity:0.8;\" x=\"195.681406\" xlink:href=\"#m1069c36b8c\" y=\"41.965518\"/>\r\n     <use style=\"fill:#4c72b0;fill-opacity:0.8;stroke:#4c72b0;stroke-opacity:0.8;\" x=\"170.881406\" xlink:href=\"#m1069c36b8c\" y=\"153.933986\"/>\r\n     <use style=\"fill:#4c72b0;fill-opacity:0.8;stroke:#4c72b0;stroke-opacity:0.8;\" x=\"214.281406\" xlink:href=\"#m1069c36b8c\" y=\"90.346955\"/>\r\n     <use style=\"fill:#4c72b0;fill-opacity:0.8;stroke:#4c72b0;stroke-opacity:0.8;\" x=\"294.881406\" xlink:href=\"#m1069c36b8c\" y=\"90.346955\"/>\r\n     <use style=\"fill:#4c72b0;fill-opacity:0.8;stroke:#4c72b0;stroke-opacity:0.8;\" x=\"245.281406\" xlink:href=\"#m1069c36b8c\" y=\"87.582301\"/>\r\n     <use style=\"fill:#4c72b0;fill-opacity:0.8;stroke:#4c72b0;stroke-opacity:0.8;\" x=\"108.881406\" xlink:href=\"#m1069c36b8c\" y=\"115.228837\"/>\r\n     <use style=\"fill:#4c72b0;fill-opacity:0.8;stroke:#4c72b0;stroke-opacity:0.8;\" x=\"158.481406\" xlink:href=\"#m1069c36b8c\" y=\"76.523687\"/>\r\n     <use style=\"fill:#4c72b0;fill-opacity:0.8;stroke:#4c72b0;stroke-opacity:0.8;\" x=\"189.481406\" xlink:href=\"#m1069c36b8c\" y=\"72.376707\"/>\r\n     <use style=\"fill:#4c72b0;fill-opacity:0.8;stroke:#4c72b0;stroke-opacity:0.8;\" x=\"251.481406\" xlink:href=\"#m1069c36b8c\" y=\"122.14047\"/>\r\n     <use style=\"fill:#4c72b0;fill-opacity:0.8;stroke:#4c72b0;stroke-opacity:0.8;\" x=\"177.081406\" xlink:href=\"#m1069c36b8c\" y=\"72.376707\"/>\r\n     <use style=\"fill:#4c72b0;fill-opacity:0.8;stroke:#4c72b0;stroke-opacity:0.8;\" x=\"177.081406\" xlink:href=\"#m1069c36b8c\" y=\"122.14047\"/>\r\n     <use style=\"fill:#4c72b0;fill-opacity:0.8;stroke:#4c72b0;stroke-opacity:0.8;\" x=\"214.281406\" xlink:href=\"#m1069c36b8c\" y=\"82.052994\"/>\r\n     <use style=\"fill:#4c72b0;fill-opacity:0.8;stroke:#4c72b0;stroke-opacity:0.8;\" x=\"332.081406\" xlink:href=\"#m1069c36b8c\" y=\"124.905124\"/>\r\n     <use style=\"fill:#4c72b0;fill-opacity:0.8;stroke:#4c72b0;stroke-opacity:0.8;\" x=\"71.681406\" xlink:href=\"#m1069c36b8c\" y=\"112.464183\"/>\r\n     <use style=\"fill:#4c72b0;fill-opacity:0.8;stroke:#4c72b0;stroke-opacity:0.8;\" x=\"133.681406\" xlink:href=\"#m1069c36b8c\" y=\"101.405569\"/>\r\n     <use style=\"fill:#4c72b0;fill-opacity:0.8;stroke:#4c72b0;stroke-opacity:0.8;\" x=\"146.081406\" xlink:href=\"#m1069c36b8c\" y=\"124.905124\"/>\r\n     <use style=\"fill:#4c72b0;fill-opacity:0.8;stroke:#4c72b0;stroke-opacity:0.8;\" x=\"127.481406\" xlink:href=\"#m1069c36b8c\" y=\"112.464183\"/>\r\n     <use style=\"fill:#4c72b0;fill-opacity:0.8;stroke:#4c72b0;stroke-opacity:0.8;\" x=\"158.481406\" xlink:href=\"#m1069c36b8c\" y=\"117.99349\"/>\r\n     <use style=\"fill:#4c72b0;fill-opacity:0.8;stroke:#4c72b0;stroke-opacity:0.8;\" x=\"152.281406\" xlink:href=\"#m1069c36b8c\" y=\"62.70042\"/>\r\n     <use style=\"fill:#4c72b0;fill-opacity:0.8;stroke:#4c72b0;stroke-opacity:0.8;\" x=\"183.281406\" xlink:href=\"#m1069c36b8c\" y=\"86.199975\"/>\r\n     <use style=\"fill:#4c72b0;fill-opacity:0.8;stroke:#4c72b0;stroke-opacity:0.8;\" x=\"77.881406\" xlink:href=\"#m1069c36b8c\" y=\"126.287451\"/>\r\n     <use style=\"fill:#4c72b0;fill-opacity:0.8;stroke:#4c72b0;stroke-opacity:0.8;\" x=\"139.881406\" xlink:href=\"#m1069c36b8c\" y=\"100.023242\"/>\r\n     <use style=\"fill:#4c72b0;fill-opacity:0.8;stroke:#4c72b0;stroke-opacity:0.8;\" x=\"164.681406\" xlink:href=\"#m1069c36b8c\" y=\"98.640915\"/>\r\n     <use style=\"fill:#4c72b0;fill-opacity:0.8;stroke:#4c72b0;stroke-opacity:0.8;\" x=\"301.081406\" xlink:href=\"#m1069c36b8c\" y=\"100.023242\"/>\r\n     <use style=\"fill:#4c72b0;fill-opacity:0.8;stroke:#4c72b0;stroke-opacity:0.8;\" x=\"77.881406\" xlink:href=\"#m1069c36b8c\" y=\"126.287451\"/>\r\n     <use style=\"fill:#4c72b0;fill-opacity:0.8;stroke:#4c72b0;stroke-opacity:0.8;\" x=\"201.881406\" xlink:href=\"#m1069c36b8c\" y=\"115.228837\"/>\r\n     <use style=\"fill:#4c72b0;fill-opacity:0.8;stroke:#4c72b0;stroke-opacity:0.8;\" x=\"152.281406\" xlink:href=\"#m1069c36b8c\" y=\"90.346955\"/>\r\n     <use style=\"fill:#4c72b0;fill-opacity:0.8;stroke:#4c72b0;stroke-opacity:0.8;\" x=\"189.481406\" xlink:href=\"#m1069c36b8c\" y=\"87.582301\"/>\r\n     <use style=\"fill:#4c72b0;fill-opacity:0.8;stroke:#4c72b0;stroke-opacity:0.8;\" x=\"96.481406\" xlink:href=\"#m1069c36b8c\" y=\"140.110718\"/>\r\n     <use style=\"fill:#4c72b0;fill-opacity:0.8;stroke:#4c72b0;stroke-opacity:0.8;\" x=\"170.881406\" xlink:href=\"#m1069c36b8c\" y=\"83.435321\"/>\r\n     <use style=\"fill:#4c72b0;fill-opacity:0.8;stroke:#4c72b0;stroke-opacity:0.8;\" x=\"146.081406\" xlink:href=\"#m1069c36b8c\" y=\"51.641805\"/>\r\n     <use style=\"fill:#4c72b0;fill-opacity:0.8;stroke:#4c72b0;stroke-opacity:0.8;\" x=\"59.281406\" xlink:href=\"#m1069c36b8c\" y=\"126.287451\"/>\r\n     <use style=\"fill:#4c72b0;fill-opacity:0.8;stroke:#4c72b0;stroke-opacity:0.8;\" x=\"146.081406\" xlink:href=\"#m1069c36b8c\" y=\"90.346955\"/>\r\n     <use style=\"fill:#4c72b0;fill-opacity:0.8;stroke:#4c72b0;stroke-opacity:0.8;\" x=\"158.481406\" xlink:href=\"#m1069c36b8c\" y=\"94.493935\"/>\r\n     <use style=\"fill:#4c72b0;fill-opacity:0.8;stroke:#4c72b0;stroke-opacity:0.8;\" x=\"77.881406\" xlink:href=\"#m1069c36b8c\" y=\"44.730172\"/>\r\n     <use style=\"fill:#4c72b0;fill-opacity:0.8;stroke:#4c72b0;stroke-opacity:0.8;\" x=\"146.081406\" xlink:href=\"#m1069c36b8c\" y=\"76.523687\"/>\r\n     <use style=\"fill:#4c72b0;fill-opacity:0.8;stroke:#4c72b0;stroke-opacity:0.8;\" x=\"170.881406\" xlink:href=\"#m1069c36b8c\" y=\"65.465073\"/>\r\n     <use style=\"fill:#4c72b0;fill-opacity:0.8;stroke:#4c72b0;stroke-opacity:0.8;\" x=\"170.881406\" xlink:href=\"#m1069c36b8c\" y=\"72.376707\"/>\r\n     <use style=\"fill:#4c72b0;fill-opacity:0.8;stroke:#4c72b0;stroke-opacity:0.8;\" x=\"214.281406\" xlink:href=\"#m1069c36b8c\" y=\"111.081856\"/>\r\n     <use style=\"fill:#4c72b0;fill-opacity:0.8;stroke:#4c72b0;stroke-opacity:0.8;\" x=\"158.481406\" xlink:href=\"#m1069c36b8c\" y=\"93.111608\"/>\r\n     <use style=\"fill:#4c72b0;fill-opacity:0.8;stroke:#4c72b0;stroke-opacity:0.8;\" x=\"170.881406\" xlink:href=\"#m1069c36b8c\" y=\"101.405569\"/>\r\n     <use style=\"fill:#4c72b0;fill-opacity:0.8;stroke:#4c72b0;stroke-opacity:0.8;\" x=\"319.681406\" xlink:href=\"#m1069c36b8c\" y=\"149.787006\"/>\r\n     <use style=\"fill:#4c72b0;fill-opacity:0.8;stroke:#4c72b0;stroke-opacity:0.8;\" x=\"121.281406\" xlink:href=\"#m1069c36b8c\" y=\"83.435321\"/>\r\n     <use style=\"fill:#4c72b0;fill-opacity:0.8;stroke:#4c72b0;stroke-opacity:0.8;\" x=\"183.281406\" xlink:href=\"#m1069c36b8c\" y=\"127.669777\"/>\r\n     <use style=\"fill:#4c72b0;fill-opacity:0.8;stroke:#4c72b0;stroke-opacity:0.8;\" x=\"152.281406\" xlink:href=\"#m1069c36b8c\" y=\"97.258589\"/>\r\n     <use style=\"fill:#4c72b0;fill-opacity:0.8;stroke:#4c72b0;stroke-opacity:0.8;\" x=\"208.081406\" xlink:href=\"#m1069c36b8c\" y=\"100.023242\"/>\r\n     <use style=\"fill:#4c72b0;fill-opacity:0.8;stroke:#4c72b0;stroke-opacity:0.8;\" x=\"53.081406\" xlink:href=\"#m1069c36b8c\" y=\"86.199975\"/>\r\n     <use style=\"fill:#4c72b0;fill-opacity:0.8;stroke:#4c72b0;stroke-opacity:0.8;\" x=\"313.481406\" xlink:href=\"#m1069c36b8c\" y=\"97.258589\"/>\r\n     <use style=\"fill:#4c72b0;fill-opacity:0.8;stroke:#4c72b0;stroke-opacity:0.8;\" x=\"164.681406\" xlink:href=\"#m1069c36b8c\" y=\"119.375817\"/>\r\n     <use style=\"fill:#4c72b0;fill-opacity:0.8;stroke:#4c72b0;stroke-opacity:0.8;\" x=\"102.681406\" xlink:href=\"#m1069c36b8c\" y=\"115.228837\"/>\r\n     <use style=\"fill:#4c72b0;fill-opacity:0.8;stroke:#4c72b0;stroke-opacity:0.8;\" x=\"158.481406\" xlink:href=\"#m1069c36b8c\" y=\"134.581411\"/>\r\n     <use style=\"fill:#4c72b0;fill-opacity:0.8;stroke:#4c72b0;stroke-opacity:0.8;\" x=\"152.281406\" xlink:href=\"#m1069c36b8c\" y=\"115.228837\"/>\r\n     <use style=\"fill:#4c72b0;fill-opacity:0.8;stroke:#4c72b0;stroke-opacity:0.8;\" x=\"164.681406\" xlink:href=\"#m1069c36b8c\" y=\"69.612053\"/>\r\n     <use style=\"fill:#4c72b0;fill-opacity:0.8;stroke:#4c72b0;stroke-opacity:0.8;\" x=\"183.281406\" xlink:href=\"#m1069c36b8c\" y=\"124.905124\"/>\r\n     <use style=\"fill:#4c72b0;fill-opacity:0.8;stroke:#4c72b0;stroke-opacity:0.8;\" x=\"90.281406\" xlink:href=\"#m1069c36b8c\" y=\"97.258589\"/>\r\n     <use style=\"fill:#4c72b0;fill-opacity:0.8;stroke:#4c72b0;stroke-opacity:0.8;\" x=\"263.881406\" xlink:href=\"#m1069c36b8c\" y=\"90.346955\"/>\r\n     <use style=\"fill:#4c72b0;fill-opacity:0.8;stroke:#4c72b0;stroke-opacity:0.8;\" x=\"158.481406\" xlink:href=\"#m1069c36b8c\" y=\"112.464183\"/>\r\n     <use style=\"fill:#4c72b0;fill-opacity:0.8;stroke:#4c72b0;stroke-opacity:0.8;\" x=\"139.881406\" xlink:href=\"#m1069c36b8c\" y=\"119.375817\"/>\r\n     <use style=\"fill:#4c72b0;fill-opacity:0.8;stroke:#4c72b0;stroke-opacity:0.8;\" x=\"152.281406\" xlink:href=\"#m1069c36b8c\" y=\"119.375817\"/>\r\n     <use style=\"fill:#4c72b0;fill-opacity:0.8;stroke:#4c72b0;stroke-opacity:0.8;\" x=\"127.481406\" xlink:href=\"#m1069c36b8c\" y=\"83.435321\"/>\r\n     <use style=\"fill:#4c72b0;fill-opacity:0.8;stroke:#4c72b0;stroke-opacity:0.8;\" x=\"108.881406\" xlink:href=\"#m1069c36b8c\" y=\"94.493935\"/>\r\n     <use style=\"fill:#4c72b0;fill-opacity:0.8;stroke:#4c72b0;stroke-opacity:0.8;\" x=\"65.481406\" xlink:href=\"#m1069c36b8c\" y=\"115.228837\"/>\r\n     <use style=\"fill:#4c72b0;fill-opacity:0.8;stroke:#4c72b0;stroke-opacity:0.8;\" x=\"201.881406\" xlink:href=\"#m1069c36b8c\" y=\"62.70042\"/>\r\n     <use style=\"fill:#4c72b0;fill-opacity:0.8;stroke:#4c72b0;stroke-opacity:0.8;\" x=\"77.881406\" xlink:href=\"#m1069c36b8c\" y=\"140.110718\"/>\r\n     <use style=\"fill:#4c72b0;fill-opacity:0.8;stroke:#4c72b0;stroke-opacity:0.8;\" x=\"276.281406\" xlink:href=\"#m1069c36b8c\" y=\"101.405569\"/>\r\n     <use style=\"fill:#4c72b0;fill-opacity:0.8;stroke:#4c72b0;stroke-opacity:0.8;\" x=\"294.881406\" xlink:href=\"#m1069c36b8c\" y=\"33.671558\"/>\r\n     <use style=\"fill:#4c72b0;fill-opacity:0.8;stroke:#4c72b0;stroke-opacity:0.8;\" x=\"121.281406\" xlink:href=\"#m1069c36b8c\" y=\"102.787896\"/>\r\n     <use style=\"fill:#4c72b0;fill-opacity:0.8;stroke:#4c72b0;stroke-opacity:0.8;\" x=\"263.881406\" xlink:href=\"#m1069c36b8c\" y=\"58.553439\"/>\r\n     <use style=\"fill:#4c72b0;fill-opacity:0.8;stroke:#4c72b0;stroke-opacity:0.8;\" x=\"195.681406\" xlink:href=\"#m1069c36b8c\" y=\"123.522797\"/>\r\n     <use style=\"fill:#4c72b0;fill-opacity:0.8;stroke:#4c72b0;stroke-opacity:0.8;\" x=\"201.881406\" xlink:href=\"#m1069c36b8c\" y=\"104.170223\"/>\r\n     <use style=\"fill:#4c72b0;fill-opacity:0.8;stroke:#4c72b0;stroke-opacity:0.8;\" x=\"121.281406\" xlink:href=\"#m1069c36b8c\" y=\"97.258589\"/>\r\n     <use style=\"fill:#4c72b0;fill-opacity:0.8;stroke:#4c72b0;stroke-opacity:0.8;\" x=\"115.081406\" xlink:href=\"#m1069c36b8c\" y=\"69.612053\"/>\r\n     <use style=\"fill:#4c72b0;fill-opacity:0.8;stroke:#4c72b0;stroke-opacity:0.8;\" x=\"201.881406\" xlink:href=\"#m1069c36b8c\" y=\"58.553439\"/>\r\n     <use style=\"fill:#4c72b0;fill-opacity:0.8;stroke:#4c72b0;stroke-opacity:0.8;\" x=\"189.481406\" xlink:href=\"#m1069c36b8c\" y=\"104.170223\"/>\r\n     <use style=\"fill:#4c72b0;fill-opacity:0.8;stroke:#4c72b0;stroke-opacity:0.8;\" x=\"183.281406\" xlink:href=\"#m1069c36b8c\" y=\"117.99349\"/>\r\n     <use style=\"fill:#4c72b0;fill-opacity:0.8;stroke:#4c72b0;stroke-opacity:0.8;\" x=\"152.281406\" xlink:href=\"#m1069c36b8c\" y=\"104.170223\"/>\r\n     <use style=\"fill:#4c72b0;fill-opacity:0.8;stroke:#4c72b0;stroke-opacity:0.8;\" x=\"220.481406\" xlink:href=\"#m1069c36b8c\" y=\"100.023242\"/>\r\n     <use style=\"fill:#4c72b0;fill-opacity:0.8;stroke:#4c72b0;stroke-opacity:0.8;\" x=\"214.281406\" xlink:href=\"#m1069c36b8c\" y=\"126.287451\"/>\r\n     <use style=\"fill:#4c72b0;fill-opacity:0.8;stroke:#4c72b0;stroke-opacity:0.8;\" x=\"96.481406\" xlink:href=\"#m1069c36b8c\" y=\"101.405569\"/>\r\n     <use style=\"fill:#4c72b0;fill-opacity:0.8;stroke:#4c72b0;stroke-opacity:0.8;\" x=\"183.281406\" xlink:href=\"#m1069c36b8c\" y=\"80.670668\"/>\r\n     <use style=\"fill:#4c72b0;fill-opacity:0.8;stroke:#4c72b0;stroke-opacity:0.8;\" x=\"319.681406\" xlink:href=\"#m1069c36b8c\" y=\"26.759924\"/>\r\n     <use style=\"fill:#4c72b0;fill-opacity:0.8;stroke:#4c72b0;stroke-opacity:0.8;\" x=\"146.081406\" xlink:href=\"#m1069c36b8c\" y=\"55.788786\"/>\r\n     <use style=\"fill:#4c72b0;fill-opacity:0.8;stroke:#4c72b0;stroke-opacity:0.8;\" x=\"158.481406\" xlink:href=\"#m1069c36b8c\" y=\"97.258589\"/>\r\n     <use style=\"fill:#4c72b0;fill-opacity:0.8;stroke:#4c72b0;stroke-opacity:0.8;\" x=\"96.481406\" xlink:href=\"#m1069c36b8c\" y=\"122.14047\"/>\r\n     <use style=\"fill:#4c72b0;fill-opacity:0.8;stroke:#4c72b0;stroke-opacity:0.8;\" x=\"108.881406\" xlink:href=\"#m1069c36b8c\" y=\"69.612053\"/>\r\n     <use style=\"fill:#4c72b0;fill-opacity:0.8;stroke:#4c72b0;stroke-opacity:0.8;\" x=\"214.281406\" xlink:href=\"#m1069c36b8c\" y=\"111.081856\"/>\r\n     <use style=\"fill:#4c72b0;fill-opacity:0.8;stroke:#4c72b0;stroke-opacity:0.8;\" x=\"288.681406\" xlink:href=\"#m1069c36b8c\" y=\"140.110718\"/>\r\n     <use style=\"fill:#4c72b0;fill-opacity:0.8;stroke:#4c72b0;stroke-opacity:0.8;\" x=\"325.881406\" xlink:href=\"#m1069c36b8c\" y=\"135.963738\"/>\r\n     <use style=\"fill:#4c72b0;fill-opacity:0.8;stroke:#4c72b0;stroke-opacity:0.8;\" x=\"127.481406\" xlink:href=\"#m1069c36b8c\" y=\"138.728392\"/>\r\n     <use style=\"fill:#4c72b0;fill-opacity:0.8;stroke:#4c72b0;stroke-opacity:0.8;\" x=\"245.281406\" xlink:href=\"#m1069c36b8c\" y=\"115.228837\"/>\r\n     <use style=\"fill:#4c72b0;fill-opacity:0.8;stroke:#4c72b0;stroke-opacity:0.8;\" x=\"170.881406\" xlink:href=\"#m1069c36b8c\" y=\"189.874482\"/>\r\n     <use style=\"fill:#4c72b0;fill-opacity:0.8;stroke:#4c72b0;stroke-opacity:0.8;\" x=\"319.681406\" xlink:href=\"#m1069c36b8c\" y=\"87.582301\"/>\r\n     <use style=\"fill:#4c72b0;fill-opacity:0.8;stroke:#4c72b0;stroke-opacity:0.8;\" x=\"338.281406\" xlink:href=\"#m1069c36b8c\" y=\"117.99349\"/>\r\n     <use style=\"fill:#4c72b0;fill-opacity:0.8;stroke:#4c72b0;stroke-opacity:0.8;\" x=\"77.881406\" xlink:href=\"#m1069c36b8c\" y=\"120.758144\"/>\r\n     <use style=\"fill:#4c72b0;fill-opacity:0.8;stroke:#4c72b0;stroke-opacity:0.8;\" x=\"313.481406\" xlink:href=\"#m1069c36b8c\" y=\"137.346065\"/>\r\n     <use style=\"fill:#4c72b0;fill-opacity:0.8;stroke:#4c72b0;stroke-opacity:0.8;\" x=\"226.681406\" xlink:href=\"#m1069c36b8c\" y=\"180.198195\"/>\r\n     <use style=\"fill:#4c72b0;fill-opacity:0.8;stroke:#4c72b0;stroke-opacity:0.8;\" x=\"77.881406\" xlink:href=\"#m1069c36b8c\" y=\"69.612053\"/>\r\n     <use style=\"fill:#4c72b0;fill-opacity:0.8;stroke:#4c72b0;stroke-opacity:0.8;\" x=\"152.281406\" xlink:href=\"#m1069c36b8c\" y=\"182.962848\"/>\r\n     <use style=\"fill:#4c72b0;fill-opacity:0.8;stroke:#4c72b0;stroke-opacity:0.8;\" x=\"121.281406\" xlink:href=\"#m1069c36b8c\" y=\"149.787006\"/>\r\n     <use style=\"fill:#4c72b0;fill-opacity:0.8;stroke:#4c72b0;stroke-opacity:0.8;\" x=\"201.881406\" xlink:href=\"#m1069c36b8c\" y=\"76.523687\"/>\r\n     <use style=\"fill:#4c72b0;fill-opacity:0.8;stroke:#4c72b0;stroke-opacity:0.8;\" x=\"139.881406\" xlink:href=\"#m1069c36b8c\" y=\"104.170223\"/>\r\n     <use style=\"fill:#4c72b0;fill-opacity:0.8;stroke:#4c72b0;stroke-opacity:0.8;\" x=\"96.481406\" xlink:href=\"#m1069c36b8c\" y=\"97.258589\"/>\r\n     <use style=\"fill:#4c72b0;fill-opacity:0.8;stroke:#4c72b0;stroke-opacity:0.8;\" x=\"214.281406\" xlink:href=\"#m1069c36b8c\" y=\"126.287451\"/>\r\n     <use style=\"fill:#4c72b0;fill-opacity:0.8;stroke:#4c72b0;stroke-opacity:0.8;\" x=\"338.281406\" xlink:href=\"#m1069c36b8c\" y=\"106.934876\"/>\r\n     <use style=\"fill:#4c72b0;fill-opacity:0.8;stroke:#4c72b0;stroke-opacity:0.8;\" x=\"115.081406\" xlink:href=\"#m1069c36b8c\" y=\"90.346955\"/>\r\n     <use style=\"fill:#4c72b0;fill-opacity:0.8;stroke:#4c72b0;stroke-opacity:0.8;\" x=\"146.081406\" xlink:href=\"#m1069c36b8c\" y=\"159.463293\"/>\r\n     <use style=\"fill:#4c72b0;fill-opacity:0.8;stroke:#4c72b0;stroke-opacity:0.8;\" x=\"152.281406\" xlink:href=\"#m1069c36b8c\" y=\"76.523687\"/>\r\n     <use style=\"fill:#4c72b0;fill-opacity:0.8;stroke:#4c72b0;stroke-opacity:0.8;\" x=\"232.881406\" xlink:href=\"#m1069c36b8c\" y=\"148.404679\"/>\r\n     <use style=\"fill:#4c72b0;fill-opacity:0.8;stroke:#4c72b0;stroke-opacity:0.8;\" x=\"152.281406\" xlink:href=\"#m1069c36b8c\" y=\"40.583191\"/>\r\n     <use style=\"fill:#4c72b0;fill-opacity:0.8;stroke:#4c72b0;stroke-opacity:0.8;\" x=\"121.281406\" xlink:href=\"#m1069c36b8c\" y=\"122.14047\"/>\r\n     <use style=\"fill:#4c72b0;fill-opacity:0.8;stroke:#4c72b0;stroke-opacity:0.8;\" x=\"189.481406\" xlink:href=\"#m1069c36b8c\" y=\"97.258589\"/>\r\n     <use style=\"fill:#4c72b0;fill-opacity:0.8;stroke:#4c72b0;stroke-opacity:0.8;\" x=\"332.081406\" xlink:href=\"#m1069c36b8c\" y=\"111.081856\"/>\r\n     <use style=\"fill:#4c72b0;fill-opacity:0.8;stroke:#4c72b0;stroke-opacity:0.8;\" x=\"257.681406\" xlink:href=\"#m1069c36b8c\" y=\"102.787896\"/>\r\n     <use style=\"fill:#4c72b0;fill-opacity:0.8;stroke:#4c72b0;stroke-opacity:0.8;\" x=\"146.081406\" xlink:href=\"#m1069c36b8c\" y=\"122.14047\"/>\r\n     <use style=\"fill:#4c72b0;fill-opacity:0.8;stroke:#4c72b0;stroke-opacity:0.8;\" x=\"257.681406\" xlink:href=\"#m1069c36b8c\" y=\"122.14047\"/>\r\n     <use style=\"fill:#4c72b0;fill-opacity:0.8;stroke:#4c72b0;stroke-opacity:0.8;\" x=\"102.681406\" xlink:href=\"#m1069c36b8c\" y=\"39.200865\"/>\r\n     <use style=\"fill:#4c72b0;fill-opacity:0.8;stroke:#4c72b0;stroke-opacity:0.8;\" x=\"115.081406\" xlink:href=\"#m1069c36b8c\" y=\"162.227947\"/>\r\n     <use style=\"fill:#4c72b0;fill-opacity:0.8;stroke:#4c72b0;stroke-opacity:0.8;\" x=\"313.481406\" xlink:href=\"#m1069c36b8c\" y=\"153.933986\"/>\r\n     <use style=\"fill:#4c72b0;fill-opacity:0.8;stroke:#4c72b0;stroke-opacity:0.8;\" x=\"201.881406\" xlink:href=\"#m1069c36b8c\" y=\"94.493935\"/>\r\n     <use style=\"fill:#4c72b0;fill-opacity:0.8;stroke:#4c72b0;stroke-opacity:0.8;\" x=\"65.481406\" xlink:href=\"#m1069c36b8c\" y=\"72.376707\"/>\r\n     <use style=\"fill:#4c72b0;fill-opacity:0.8;stroke:#4c72b0;stroke-opacity:0.8;\" x=\"338.281406\" xlink:href=\"#m1069c36b8c\" y=\"133.199085\"/>\r\n     <use style=\"fill:#4c72b0;fill-opacity:0.8;stroke:#4c72b0;stroke-opacity:0.8;\" x=\"102.681406\" xlink:href=\"#m1069c36b8c\" y=\"83.435321\"/>\r\n     <use style=\"fill:#4c72b0;fill-opacity:0.8;stroke:#4c72b0;stroke-opacity:0.8;\" x=\"90.281406\" xlink:href=\"#m1069c36b8c\" y=\"144.257699\"/>\r\n     <use style=\"fill:#4c72b0;fill-opacity:0.8;stroke:#4c72b0;stroke-opacity:0.8;\" x=\"332.081406\" xlink:href=\"#m1069c36b8c\" y=\"153.933986\"/>\r\n     <use style=\"fill:#4c72b0;fill-opacity:0.8;stroke:#4c72b0;stroke-opacity:0.8;\" x=\"189.481406\" xlink:href=\"#m1069c36b8c\" y=\"141.493045\"/>\r\n     <use style=\"fill:#4c72b0;fill-opacity:0.8;stroke:#4c72b0;stroke-opacity:0.8;\" x=\"201.881406\" xlink:href=\"#m1069c36b8c\" y=\"122.14047\"/>\r\n     <use style=\"fill:#4c72b0;fill-opacity:0.8;stroke:#4c72b0;stroke-opacity:0.8;\" x=\"220.481406\" xlink:href=\"#m1069c36b8c\" y=\"115.228837\"/>\r\n     <use style=\"fill:#4c72b0;fill-opacity:0.8;stroke:#4c72b0;stroke-opacity:0.8;\" x=\"127.481406\" xlink:href=\"#m1069c36b8c\" y=\"124.905124\"/>\r\n     <use style=\"fill:#4c72b0;fill-opacity:0.8;stroke:#4c72b0;stroke-opacity:0.8;\" x=\"220.481406\" xlink:href=\"#m1069c36b8c\" y=\"117.99349\"/>\r\n     <use style=\"fill:#4c72b0;fill-opacity:0.8;stroke:#4c72b0;stroke-opacity:0.8;\" x=\"139.881406\" xlink:href=\"#m1069c36b8c\" y=\"166.374927\"/>\r\n     <use style=\"fill:#4c72b0;fill-opacity:0.8;stroke:#4c72b0;stroke-opacity:0.8;\" x=\"84.081406\" xlink:href=\"#m1069c36b8c\" y=\"138.728392\"/>\r\n     <use style=\"fill:#4c72b0;fill-opacity:0.8;stroke:#4c72b0;stroke-opacity:0.8;\" x=\"102.681406\" xlink:href=\"#m1069c36b8c\" y=\"100.023242\"/>\r\n     <use style=\"fill:#4c72b0;fill-opacity:0.8;stroke:#4c72b0;stroke-opacity:0.8;\" x=\"301.081406\" xlink:href=\"#m1069c36b8c\" y=\"83.435321\"/>\r\n     <use style=\"fill:#4c72b0;fill-opacity:0.8;stroke:#4c72b0;stroke-opacity:0.8;\" x=\"164.681406\" xlink:href=\"#m1069c36b8c\" y=\"40.583191\"/>\r\n     <use style=\"fill:#4c72b0;fill-opacity:0.8;stroke:#4c72b0;stroke-opacity:0.8;\" x=\"226.681406\" xlink:href=\"#m1069c36b8c\" y=\"90.346955\"/>\r\n     <use style=\"fill:#4c72b0;fill-opacity:0.8;stroke:#4c72b0;stroke-opacity:0.8;\" x=\"108.881406\" xlink:href=\"#m1069c36b8c\" y=\"108.317203\"/>\r\n     <use style=\"fill:#4c72b0;fill-opacity:0.8;stroke:#4c72b0;stroke-opacity:0.8;\" x=\"84.081406\" xlink:href=\"#m1069c36b8c\" y=\"134.581411\"/>\r\n     <use style=\"fill:#4c72b0;fill-opacity:0.8;stroke:#4c72b0;stroke-opacity:0.8;\" x=\"183.281406\" xlink:href=\"#m1069c36b8c\" y=\"51.641805\"/>\r\n     <use style=\"fill:#4c72b0;fill-opacity:0.8;stroke:#4c72b0;stroke-opacity:0.8;\" x=\"127.481406\" xlink:href=\"#m1069c36b8c\" y=\"106.934876\"/>\r\n     <use style=\"fill:#4c72b0;fill-opacity:0.8;stroke:#4c72b0;stroke-opacity:0.8;\" x=\"301.081406\" xlink:href=\"#m1069c36b8c\" y=\"156.69864\"/>\r\n     <use style=\"fill:#4c72b0;fill-opacity:0.8;stroke:#4c72b0;stroke-opacity:0.8;\" x=\"170.881406\" xlink:href=\"#m1069c36b8c\" y=\"98.640915\"/>\r\n     <use style=\"fill:#4c72b0;fill-opacity:0.8;stroke:#4c72b0;stroke-opacity:0.8;\" x=\"276.281406\" xlink:href=\"#m1069c36b8c\" y=\"135.963738\"/>\r\n     <use style=\"fill:#4c72b0;fill-opacity:0.8;stroke:#4c72b0;stroke-opacity:0.8;\" x=\"208.081406\" xlink:href=\"#m1069c36b8c\" y=\"166.374927\"/>\r\n     <use style=\"fill:#4c72b0;fill-opacity:0.8;stroke:#4c72b0;stroke-opacity:0.8;\" x=\"133.681406\" xlink:href=\"#m1069c36b8c\" y=\"153.933986\"/>\r\n     <use style=\"fill:#4c72b0;fill-opacity:0.8;stroke:#4c72b0;stroke-opacity:0.8;\" x=\"84.081406\" xlink:href=\"#m1069c36b8c\" y=\"90.346955\"/>\r\n     <use style=\"fill:#4c72b0;fill-opacity:0.8;stroke:#4c72b0;stroke-opacity:0.8;\" x=\"195.681406\" xlink:href=\"#m1069c36b8c\" y=\"200.933096\"/>\r\n     <use style=\"fill:#4c72b0;fill-opacity:0.8;stroke:#4c72b0;stroke-opacity:0.8;\" x=\"152.281406\" xlink:href=\"#m1069c36b8c\" y=\"88.964628\"/>\r\n     <use style=\"fill:#4c72b0;fill-opacity:0.8;stroke:#4c72b0;stroke-opacity:0.8;\" x=\"177.081406\" xlink:href=\"#m1069c36b8c\" y=\"94.493935\"/>\r\n     <use style=\"fill:#4c72b0;fill-opacity:0.8;stroke:#4c72b0;stroke-opacity:0.8;\" x=\"189.481406\" xlink:href=\"#m1069c36b8c\" y=\"76.523687\"/>\r\n     <use style=\"fill:#4c72b0;fill-opacity:0.8;stroke:#4c72b0;stroke-opacity:0.8;\" x=\"177.081406\" xlink:href=\"#m1069c36b8c\" y=\"170.521907\"/>\r\n     <use style=\"fill:#4c72b0;fill-opacity:0.8;stroke:#4c72b0;stroke-opacity:0.8;\" x=\"164.681406\" xlink:href=\"#m1069c36b8c\" y=\"94.493935\"/>\r\n     <use style=\"fill:#4c72b0;fill-opacity:0.8;stroke:#4c72b0;stroke-opacity:0.8;\" x=\"102.681406\" xlink:href=\"#m1069c36b8c\" y=\"141.493045\"/>\r\n     <use style=\"fill:#4c72b0;fill-opacity:0.8;stroke:#4c72b0;stroke-opacity:0.8;\" x=\"121.281406\" xlink:href=\"#m1069c36b8c\" y=\"76.523687\"/>\r\n     <use style=\"fill:#4c72b0;fill-opacity:0.8;stroke:#4c72b0;stroke-opacity:0.8;\" x=\"251.481406\" xlink:href=\"#m1069c36b8c\" y=\"158.080966\"/>\r\n     <use style=\"fill:#4c72b0;fill-opacity:0.8;stroke:#4c72b0;stroke-opacity:0.8;\" x=\"220.481406\" xlink:href=\"#m1069c36b8c\" y=\"55.788786\"/>\r\n     <use style=\"fill:#4c72b0;fill-opacity:0.8;stroke:#4c72b0;stroke-opacity:0.8;\" x=\"208.081406\" xlink:href=\"#m1069c36b8c\" y=\"97.258589\"/>\r\n     <use style=\"fill:#4c72b0;fill-opacity:0.8;stroke:#4c72b0;stroke-opacity:0.8;\" x=\"90.281406\" xlink:href=\"#m1069c36b8c\" y=\"115.228837\"/>\r\n     <use style=\"fill:#4c72b0;fill-opacity:0.8;stroke:#4c72b0;stroke-opacity:0.8;\" x=\"338.281406\" xlink:href=\"#m1069c36b8c\" y=\"112.464183\"/>\r\n     <use style=\"fill:#4c72b0;fill-opacity:0.8;stroke:#4c72b0;stroke-opacity:0.8;\" x=\"152.281406\" xlink:href=\"#m1069c36b8c\" y=\"41.965518\"/>\r\n     <use style=\"fill:#4c72b0;fill-opacity:0.8;stroke:#4c72b0;stroke-opacity:0.8;\" x=\"232.881406\" xlink:href=\"#m1069c36b8c\" y=\"158.080966\"/>\r\n     <use style=\"fill:#4c72b0;fill-opacity:0.8;stroke:#4c72b0;stroke-opacity:0.8;\" x=\"170.881406\" xlink:href=\"#m1069c36b8c\" y=\"169.13958\"/>\r\n     <use style=\"fill:#4c72b0;fill-opacity:0.8;stroke:#4c72b0;stroke-opacity:0.8;\" x=\"245.281406\" xlink:href=\"#m1069c36b8c\" y=\"54.406459\"/>\r\n     <use style=\"fill:#4c72b0;fill-opacity:0.8;stroke:#4c72b0;stroke-opacity:0.8;\" x=\"208.081406\" xlink:href=\"#m1069c36b8c\" y=\"147.022352\"/>\r\n     <use style=\"fill:#4c72b0;fill-opacity:0.8;stroke:#4c72b0;stroke-opacity:0.8;\" x=\"208.081406\" xlink:href=\"#m1069c36b8c\" y=\"33.671558\"/>\r\n     <use style=\"fill:#4c72b0;fill-opacity:0.8;stroke:#4c72b0;stroke-opacity:0.8;\" x=\"201.881406\" xlink:href=\"#m1069c36b8c\" y=\"137.346065\"/>\r\n     <use style=\"fill:#4c72b0;fill-opacity:0.8;stroke:#4c72b0;stroke-opacity:0.8;\" x=\"177.081406\" xlink:href=\"#m1069c36b8c\" y=\"37.818538\"/>\r\n     <use style=\"fill:#4c72b0;fill-opacity:0.8;stroke:#4c72b0;stroke-opacity:0.8;\" x=\"115.081406\" xlink:href=\"#m1069c36b8c\" y=\"80.670668\"/>\r\n     <use style=\"fill:#4c72b0;fill-opacity:0.8;stroke:#4c72b0;stroke-opacity:0.8;\" x=\"164.681406\" xlink:href=\"#m1069c36b8c\" y=\"126.287451\"/>\r\n     <use style=\"fill:#4c72b0;fill-opacity:0.8;stroke:#4c72b0;stroke-opacity:0.8;\" x=\"195.681406\" xlink:href=\"#m1069c36b8c\" y=\"122.14047\"/>\r\n     <use style=\"fill:#4c72b0;fill-opacity:0.8;stroke:#4c72b0;stroke-opacity:0.8;\" x=\"363.081406\" xlink:href=\"#m1069c36b8c\" y=\"140.110718\"/>\r\n     <use style=\"fill:#4c72b0;fill-opacity:0.8;stroke:#4c72b0;stroke-opacity:0.8;\" x=\"121.281406\" xlink:href=\"#m1069c36b8c\" y=\"116.611163\"/>\r\n     <use style=\"fill:#4c72b0;fill-opacity:0.8;stroke:#4c72b0;stroke-opacity:0.8;\" x=\"146.081406\" xlink:href=\"#m1069c36b8c\" y=\"26.759924\"/>\r\n     <use style=\"fill:#4c72b0;fill-opacity:0.8;stroke:#4c72b0;stroke-opacity:0.8;\" x=\"189.481406\" xlink:href=\"#m1069c36b8c\" y=\"77.906014\"/>\r\n    </g>\r\n   </g>\r\n   <g id=\"PolyCollection_1\">\r\n    <defs>\r\n     <path d=\"M 53.081406 -168.161673 \r\nL 53.081406 -152.59277 \r\nL 56.463224 -152.646932 \r\nL 59.845043 -152.67091 \r\nL 63.226861 -152.695296 \r\nL 66.608679 -152.794454 \r\nL 69.990497 -152.86247 \r\nL 73.372315 -152.984525 \r\nL 76.754134 -153.161536 \r\nL 80.135952 -153.288049 \r\nL 83.51777 -153.349158 \r\nL 86.899588 -153.374089 \r\nL 90.281406 -153.408792 \r\nL 93.663224 -153.410891 \r\nL 97.045043 -153.442278 \r\nL 100.426861 -153.47771 \r\nL 103.808679 -153.484233 \r\nL 107.190497 -153.485281 \r\nL 110.572315 -153.528357 \r\nL 113.954134 -153.522226 \r\nL 117.335952 -153.552149 \r\nL 120.71777 -153.575572 \r\nL 124.099588 -153.617336 \r\nL 127.481406 -153.713745 \r\nL 130.863224 -153.8009 \r\nL 134.245043 -153.846367 \r\nL 137.626861 -153.763937 \r\nL 141.008679 -153.743857 \r\nL 144.390497 -153.718268 \r\nL 147.772315 -153.706032 \r\nL 151.154134 -153.69676 \r\nL 154.535952 -153.659899 \r\nL 157.91777 -153.617937 \r\nL 161.299588 -153.592504 \r\nL 164.681406 -153.566383 \r\nL 168.063224 -153.505652 \r\nL 171.445043 -153.454839 \r\nL 174.826861 -153.431066 \r\nL 178.208679 -153.423182 \r\nL 181.590497 -153.325503 \r\nL 184.972315 -153.166455 \r\nL 188.354134 -153.04961 \r\nL 191.735952 -152.922832 \r\nL 195.11777 -152.76795 \r\nL 198.499588 -152.598831 \r\nL 201.881406 -152.423277 \r\nL 205.263224 -152.134413 \r\nL 208.645043 -152.089277 \r\nL 212.026861 -151.881091 \r\nL 215.408679 -151.675358 \r\nL 218.790497 -151.480023 \r\nL 222.172315 -151.321571 \r\nL 225.554134 -151.224472 \r\nL 228.935952 -151.068249 \r\nL 232.31777 -150.877554 \r\nL 235.699588 -150.641581 \r\nL 239.081406 -150.337974 \r\nL 242.463224 -150.099166 \r\nL 245.845043 -149.894461 \r\nL 249.226861 -149.656216 \r\nL 252.608679 -149.419356 \r\nL 255.990497 -149.224808 \r\nL 259.372315 -149.032114 \r\nL 262.754134 -148.839421 \r\nL 266.135952 -148.594567 \r\nL 269.51777 -148.312654 \r\nL 272.899588 -148.028817 \r\nL 276.281406 -147.753951 \r\nL 279.663224 -147.546849 \r\nL 283.045043 -147.339516 \r\nL 286.426861 -147.130052 \r\nL 289.808679 -146.9243 \r\nL 293.190497 -146.72131 \r\nL 296.572315 -146.5102 \r\nL 299.954134 -146.282064 \r\nL 303.335952 -145.986627 \r\nL 306.71777 -145.691962 \r\nL 310.099588 -145.474131 \r\nL 313.481406 -145.258938 \r\nL 316.863224 -144.986263 \r\nL 320.245043 -144.682577 \r\nL 323.626861 -144.380257 \r\nL 327.008679 -144.077936 \r\nL 330.390497 -143.822097 \r\nL 333.772315 -143.583853 \r\nL 337.154134 -143.27056 \r\nL 340.535952 -142.951342 \r\nL 343.91777 -142.62587 \r\nL 347.299588 -142.33191 \r\nL 350.681406 -142.076855 \r\nL 354.063224 -141.852819 \r\nL 357.445043 -141.651095 \r\nL 360.826861 -141.449118 \r\nL 364.208679 -141.200457 \r\nL 367.590497 -140.951469 \r\nL 370.972315 -140.723956 \r\nL 374.354134 -140.497456 \r\nL 377.735952 -140.272511 \r\nL 381.11777 -140.047566 \r\nL 384.499588 -139.818093 \r\nL 387.881406 -139.508312 \r\nL 387.881406 -162.636924 \r\nL 387.881406 -162.636924 \r\nL 384.499588 -162.574535 \r\nL 381.11777 -162.512146 \r\nL 377.735952 -162.449756 \r\nL 374.354134 -162.371003 \r\nL 370.972315 -162.277914 \r\nL 367.590497 -162.184825 \r\nL 364.208679 -162.091736 \r\nL 360.826861 -161.998648 \r\nL 357.445043 -161.941215 \r\nL 354.063224 -161.891002 \r\nL 350.681406 -161.840788 \r\nL 347.299588 -161.790575 \r\nL 343.91777 -161.740361 \r\nL 340.535952 -161.664038 \r\nL 337.154134 -161.58452 \r\nL 333.772315 -161.504853 \r\nL 330.390497 -161.435671 \r\nL 327.008679 -161.342554 \r\nL 323.626861 -161.262767 \r\nL 320.245043 -161.18298 \r\nL 316.863224 -161.102823 \r\nL 313.481406 -161.022071 \r\nL 310.099588 -160.94132 \r\nL 306.71777 -160.860569 \r\nL 303.335952 -160.779817 \r\nL 299.954134 -160.699066 \r\nL 296.572315 -160.624721 \r\nL 293.190497 -160.565471 \r\nL 289.808679 -160.543939 \r\nL 286.426861 -160.510327 \r\nL 283.045043 -160.489031 \r\nL 279.663224 -160.467478 \r\nL 276.281406 -160.418186 \r\nL 272.899588 -160.302862 \r\nL 269.51777 -160.187537 \r\nL 266.135952 -160.095072 \r\nL 262.754134 -160.03696 \r\nL 259.372315 -159.957626 \r\nL 255.990497 -159.918883 \r\nL 252.608679 -159.837541 \r\nL 249.226861 -159.801727 \r\nL 245.845043 -159.74394 \r\nL 242.463224 -159.686153 \r\nL 239.081406 -159.627215 \r\nL 235.699588 -159.568718 \r\nL 232.31777 -159.512792 \r\nL 228.935952 -159.530506 \r\nL 225.554134 -159.614209 \r\nL 222.172315 -159.583742 \r\nL 218.790497 -159.555648 \r\nL 215.408679 -159.574195 \r\nL 212.026861 -159.634868 \r\nL 208.645043 -159.693722 \r\nL 205.263224 -159.700263 \r\nL 201.881406 -159.67954 \r\nL 198.499588 -159.685324 \r\nL 195.11777 -159.709034 \r\nL 191.735952 -159.783515 \r\nL 188.354134 -159.840467 \r\nL 184.972315 -159.915688 \r\nL 181.590497 -159.987937 \r\nL 178.208679 -160.086349 \r\nL 174.826861 -160.195551 \r\nL 171.445043 -160.300702 \r\nL 168.063224 -160.453119 \r\nL 164.681406 -160.565765 \r\nL 161.299588 -160.764045 \r\nL 157.91777 -160.916756 \r\nL 154.535952 -161.032917 \r\nL 151.154134 -161.288189 \r\nL 147.772315 -161.498844 \r\nL 144.390497 -161.700181 \r\nL 141.008679 -161.958498 \r\nL 137.626861 -162.165461 \r\nL 134.245043 -162.415868 \r\nL 130.863224 -162.60154 \r\nL 127.481406 -162.773626 \r\nL 124.099588 -162.974446 \r\nL 120.71777 -163.16135 \r\nL 117.335952 -163.409402 \r\nL 113.954134 -163.661941 \r\nL 110.572315 -163.87948 \r\nL 107.190497 -164.114692 \r\nL 103.808679 -164.300191 \r\nL 100.426861 -164.462374 \r\nL 97.045043 -164.761645 \r\nL 93.663224 -165.026831 \r\nL 90.281406 -165.31077 \r\nL 86.899588 -165.594537 \r\nL 83.51777 -165.874447 \r\nL 80.135952 -166.076419 \r\nL 76.754134 -166.278352 \r\nL 73.372315 -166.480285 \r\nL 69.990497 -166.724016 \r\nL 66.608679 -166.938935 \r\nL 63.226861 -167.210884 \r\nL 59.845043 -167.526873 \r\nL 56.463224 -167.85548 \r\nL 53.081406 -168.161673 \r\nz\r\n\" id=\"m0c483faccc\" style=\"stroke:#ffffff;stroke-opacity:0.15;\"/>\r\n    </defs>\r\n    <g clip-path=\"url(#p28e4ca1fe5)\">\r\n     <use style=\"fill:#4c72b0;fill-opacity:0.15;stroke:#ffffff;stroke-opacity:0.15;\" x=\"0\" xlink:href=\"#m0c483faccc\" y=\"266.374219\"/>\r\n    </g>\r\n   </g>\r\n   <g id=\"line2d_16\">\r\n    <path clip-path=\"url(#p28e4ca1fe5)\" d=\"M 53.081406 106.385136 \r\nL 56.463224 106.474725 \r\nL 59.845043 106.564314 \r\nL 63.226861 106.653903 \r\nL 66.608679 106.743491 \r\nL 69.990497 106.83308 \r\nL 73.372315 106.922669 \r\nL 76.754134 107.012258 \r\nL 80.135952 107.101847 \r\nL 83.51777 107.191436 \r\nL 86.899588 107.281025 \r\nL 90.281406 107.370613 \r\nL 93.663224 107.460202 \r\nL 97.045043 107.549791 \r\nL 100.426861 107.63938 \r\nL 103.808679 107.728969 \r\nL 107.190497 107.818558 \r\nL 110.572315 107.908147 \r\nL 113.954134 107.997735 \r\nL 117.335952 108.087324 \r\nL 120.71777 108.176913 \r\nL 124.099588 108.266502 \r\nL 127.481406 108.356091 \r\nL 130.863224 108.44568 \r\nL 134.245043 108.535269 \r\nL 137.626861 108.624857 \r\nL 141.008679 108.714446 \r\nL 144.390497 108.804035 \r\nL 147.772315 108.893624 \r\nL 151.154134 108.983213 \r\nL 154.535952 109.072802 \r\nL 157.91777 109.162391 \r\nL 161.299588 109.251979 \r\nL 164.681406 109.341568 \r\nL 168.063224 109.431157 \r\nL 171.445043 109.520746 \r\nL 174.826861 109.610335 \r\nL 178.208679 109.699924 \r\nL 181.590497 109.789513 \r\nL 184.972315 109.879101 \r\nL 188.354134 109.96869 \r\nL 191.735952 110.058279 \r\nL 195.11777 110.147868 \r\nL 198.499588 110.237457 \r\nL 201.881406 110.327046 \r\nL 205.263224 110.416635 \r\nL 208.645043 110.506223 \r\nL 212.026861 110.595812 \r\nL 215.408679 110.685401 \r\nL 218.790497 110.77499 \r\nL 222.172315 110.864579 \r\nL 225.554134 110.954168 \r\nL 228.935952 111.043757 \r\nL 232.31777 111.133345 \r\nL 235.699588 111.222934 \r\nL 239.081406 111.312523 \r\nL 242.463224 111.402112 \r\nL 245.845043 111.491701 \r\nL 249.226861 111.58129 \r\nL 252.608679 111.670879 \r\nL 255.990497 111.760467 \r\nL 259.372315 111.850056 \r\nL 262.754134 111.939645 \r\nL 266.135952 112.029234 \r\nL 269.51777 112.118823 \r\nL 272.899588 112.208412 \r\nL 276.281406 112.298001 \r\nL 279.663224 112.38759 \r\nL 283.045043 112.477178 \r\nL 286.426861 112.566767 \r\nL 289.808679 112.656356 \r\nL 293.190497 112.745945 \r\nL 296.572315 112.835534 \r\nL 299.954134 112.925123 \r\nL 303.335952 113.014712 \r\nL 306.71777 113.1043 \r\nL 310.099588 113.193889 \r\nL 313.481406 113.283478 \r\nL 316.863224 113.373067 \r\nL 320.245043 113.462656 \r\nL 323.626861 113.552245 \r\nL 327.008679 113.641834 \r\nL 330.390497 113.731422 \r\nL 333.772315 113.821011 \r\nL 337.154134 113.9106 \r\nL 340.535952 114.000189 \r\nL 343.91777 114.089778 \r\nL 347.299588 114.179367 \r\nL 350.681406 114.268956 \r\nL 354.063224 114.358544 \r\nL 357.445043 114.448133 \r\nL 360.826861 114.537722 \r\nL 364.208679 114.627311 \r\nL 367.590497 114.7169 \r\nL 370.972315 114.806489 \r\nL 374.354134 114.896078 \r\nL 377.735952 114.985666 \r\nL 381.11777 115.075255 \r\nL 384.499588 115.164844 \r\nL 387.881406 115.254433 \r\n\" style=\"fill:none;stroke:#4c72b0;stroke-linecap:round;stroke-width:2.25;\"/>\r\n   </g>\r\n   <g id=\"patch_3\">\r\n    <path d=\"M 53.081406 224.64 \r\nL 53.081406 7.2 \r\n\" style=\"fill:none;stroke:#ffffff;stroke-linecap:square;stroke-linejoin:miter;stroke-width:1.25;\"/>\r\n   </g>\r\n   <g id=\"patch_4\">\r\n    <path d=\"M 387.881406 224.64 \r\nL 387.881406 7.2 \r\n\" style=\"fill:none;stroke:#ffffff;stroke-linecap:square;stroke-linejoin:miter;stroke-width:1.25;\"/>\r\n   </g>\r\n   <g id=\"patch_5\">\r\n    <path d=\"M 53.081406 224.64 \r\nL 387.881406 224.64 \r\n\" style=\"fill:none;stroke:#ffffff;stroke-linecap:square;stroke-linejoin:miter;stroke-width:1.25;\"/>\r\n   </g>\r\n   <g id=\"patch_6\">\r\n    <path d=\"M 53.081406 7.2 \r\nL 387.881406 7.2 \r\n\" style=\"fill:none;stroke:#ffffff;stroke-linecap:square;stroke-linejoin:miter;stroke-width:1.25;\"/>\r\n   </g>\r\n  </g>\r\n </g>\r\n <defs>\r\n  <clipPath id=\"p28e4ca1fe5\">\r\n   <rect height=\"217.44\" width=\"334.8\" x=\"53.081406\" y=\"7.2\"/>\r\n  </clipPath>\r\n </defs>\r\n</svg>\r\n",
      "image/png": "[encoded data removed]"
     },
     "metadata": {}
    }
   ],
   "source": [
    "sns.regplot(data=df, x='current_age', y='overall');"
   ]
  },
  {
   "cell_type": "code",
   "execution_count": 18,
   "metadata": {},
   "outputs": [],
   "source": [
    "import statsmodels.api as sm"
   ]
  },
  {
   "cell_type": "code",
   "execution_count": 19,
   "metadata": {},
   "outputs": [],
   "source": [
    "# Setup X and Y variables for each regressor\n",
    "Y = df['overall']\n",
    "X1 = sm.add_constant(df['time_on_the_job'])\n",
    "X2 = sm.add_constant(df['current_age'])"
   ]
  },
  {
   "cell_type": "code",
   "execution_count": 20,
   "metadata": {},
   "outputs": [
    {
     "output_type": "execute_result",
     "data": {
      "text/plain": [
       "<class 'statsmodels.iolib.summary.Summary'>\n",
       "\"\"\"\n",
       "                            OLS Regression Results                            \n",
       "==============================================================================\n",
       "Dep. Variable:                overall   R-squared:                       0.215\n",
       "Model:                            OLS   Adj. R-squared:                  0.213\n",
       "Method:                 Least Squares   F-statistic:                     103.7\n",
       "Date:                Thu, 10 Jun 2021   Prob (F-statistic):           1.08e-21\n",
       "Time:                        20:27:12   Log-Likelihood:                 523.65\n",
       "No. Observations:                 381   AIC:                            -1043.\n",
       "Df Residuals:                     379   BIC:                            -1035.\n",
       "Df Model:                           1                                         \n",
       "Covariance Type:            nonrobust                                         \n",
       "===================================================================================\n",
       "                      coef    std err          t      P>|t|      [0.025      0.975]\n",
       "-----------------------------------------------------------------------------------\n",
       "const               0.7253      0.005    133.686      0.000       0.715       0.736\n",
       "time_on_the_job     0.0018      0.000     10.184      0.000       0.001       0.002\n",
       "==============================================================================\n",
       "Omnibus:                       23.783   Durbin-Watson:                   1.774\n",
       "Prob(Omnibus):                  0.000   Jarque-Bera (JB):               26.640\n",
       "Skew:                          -0.642   Prob(JB):                     1.64e-06\n",
       "Kurtosis:                       3.176   Cond. No.                         54.0\n",
       "==============================================================================\n",
       "\n",
       "Notes:\n",
       "[1] Standard Errors assume that the covariance matrix of the errors is correctly specified.\n",
       "\"\"\""
      ],
      "text/html": "<table class=\"simpletable\">\n<caption>OLS Regression Results</caption>\n<tr>\n  <th>Dep. Variable:</th>         <td>overall</td>     <th>  R-squared:         </th> <td>   0.215</td>\n</tr>\n<tr>\n  <th>Model:</th>                   <td>OLS</td>       <th>  Adj. R-squared:    </th> <td>   0.213</td>\n</tr>\n<tr>\n  <th>Method:</th>             <td>Least Squares</td>  <th>  F-statistic:       </th> <td>   103.7</td>\n</tr>\n<tr>\n  <th>Date:</th>             <td>Thu, 10 Jun 2021</td> <th>  Prob (F-statistic):</th> <td>1.08e-21</td>\n</tr>\n<tr>\n  <th>Time:</th>                 <td>20:27:12</td>     <th>  Log-Likelihood:    </th> <td>  523.65</td>\n</tr>\n<tr>\n  <th>No. Observations:</th>      <td>   381</td>      <th>  AIC:               </th> <td>  -1043.</td>\n</tr>\n<tr>\n  <th>Df Residuals:</th>          <td>   379</td>      <th>  BIC:               </th> <td>  -1035.</td>\n</tr>\n<tr>\n  <th>Df Model:</th>              <td>     1</td>      <th>                     </th>     <td> </td>   \n</tr>\n<tr>\n  <th>Covariance Type:</th>      <td>nonrobust</td>    <th>                     </th>     <td> </td>   \n</tr>\n</table>\n<table class=\"simpletable\">\n<tr>\n         <td></td>            <th>coef</th>     <th>std err</th>      <th>t</th>      <th>P>|t|</th>  <th>[0.025</th>    <th>0.975]</th>  \n</tr>\n<tr>\n  <th>const</th>           <td>    0.7253</td> <td>    0.005</td> <td>  133.686</td> <td> 0.000</td> <td>    0.715</td> <td>    0.736</td>\n</tr>\n<tr>\n  <th>time_on_the_job</th> <td>    0.0018</td> <td>    0.000</td> <td>   10.184</td> <td> 0.000</td> <td>    0.001</td> <td>    0.002</td>\n</tr>\n</table>\n<table class=\"simpletable\">\n<tr>\n  <th>Omnibus:</th>       <td>23.783</td> <th>  Durbin-Watson:     </th> <td>   1.774</td>\n</tr>\n<tr>\n  <th>Prob(Omnibus):</th> <td> 0.000</td> <th>  Jarque-Bera (JB):  </th> <td>  26.640</td>\n</tr>\n<tr>\n  <th>Skew:</th>          <td>-0.642</td> <th>  Prob(JB):          </th> <td>1.64e-06</td>\n</tr>\n<tr>\n  <th>Kurtosis:</th>      <td> 3.176</td> <th>  Cond. No.          </th> <td>    54.0</td>\n</tr>\n</table><br/><br/>Notes:<br/>[1] Standard Errors assume that the covariance matrix of the errors is correctly specified."
     },
     "metadata": {},
     "execution_count": 20
    }
   ],
   "source": [
    "# Tenure regression\n",
    "model1 = sm.OLS(Y, X1)\n",
    "results1 = model1.fit()\n",
    "results1.summary()"
   ]
  },
  {
   "cell_type": "code",
   "execution_count": 21,
   "metadata": {},
   "outputs": [
    {
     "output_type": "execute_result",
     "data": {
      "text/plain": [
       "<class 'statsmodels.iolib.summary.Summary'>\n",
       "\"\"\"\n",
       "                            OLS Regression Results                            \n",
       "==============================================================================\n",
       "Dep. Variable:                overall   R-squared:                       0.003\n",
       "Model:                            OLS   Adj. R-squared:                  0.000\n",
       "Method:                 Least Squares   F-statistic:                     1.009\n",
       "Date:                Thu, 10 Jun 2021   Prob (F-statistic):              0.316\n",
       "Time:                        20:27:12   Log-Likelihood:                 478.08\n",
       "No. Observations:                 381   AIC:                            -952.2\n",
       "Df Residuals:                     379   BIC:                            -944.3\n",
       "Df Model:                           1                                         \n",
       "Covariance Type:            nonrobust                                         \n",
       "===============================================================================\n",
       "                  coef    std err          t      P>|t|      [0.025      0.975]\n",
       "-------------------------------------------------------------------------------\n",
       "const           0.7828      0.013     60.674      0.000       0.757       0.808\n",
       "current_age    -0.0003      0.000     -1.005      0.316      -0.001       0.000\n",
       "==============================================================================\n",
       "Omnibus:                        4.078   Durbin-Watson:                   2.020\n",
       "Prob(Omnibus):                  0.130   Jarque-Bera (JB):                3.868\n",
       "Skew:                          -0.241   Prob(JB):                        0.145\n",
       "Kurtosis:                       3.104   Cond. No.                         149.\n",
       "==============================================================================\n",
       "\n",
       "Notes:\n",
       "[1] Standard Errors assume that the covariance matrix of the errors is correctly specified.\n",
       "\"\"\""
      ],
      "text/html": "<table class=\"simpletable\">\n<caption>OLS Regression Results</caption>\n<tr>\n  <th>Dep. Variable:</th>         <td>overall</td>     <th>  R-squared:         </th> <td>   0.003</td>\n</tr>\n<tr>\n  <th>Model:</th>                   <td>OLS</td>       <th>  Adj. R-squared:    </th> <td>   0.000</td>\n</tr>\n<tr>\n  <th>Method:</th>             <td>Least Squares</td>  <th>  F-statistic:       </th> <td>   1.009</td>\n</tr>\n<tr>\n  <th>Date:</th>             <td>Thu, 10 Jun 2021</td> <th>  Prob (F-statistic):</th>  <td> 0.316</td> \n</tr>\n<tr>\n  <th>Time:</th>                 <td>20:27:12</td>     <th>  Log-Likelihood:    </th> <td>  478.08</td>\n</tr>\n<tr>\n  <th>No. Observations:</th>      <td>   381</td>      <th>  AIC:               </th> <td>  -952.2</td>\n</tr>\n<tr>\n  <th>Df Residuals:</th>          <td>   379</td>      <th>  BIC:               </th> <td>  -944.3</td>\n</tr>\n<tr>\n  <th>Df Model:</th>              <td>     1</td>      <th>                     </th>     <td> </td>   \n</tr>\n<tr>\n  <th>Covariance Type:</th>      <td>nonrobust</td>    <th>                     </th>     <td> </td>   \n</tr>\n</table>\n<table class=\"simpletable\">\n<tr>\n       <td></td>          <th>coef</th>     <th>std err</th>      <th>t</th>      <th>P>|t|</th>  <th>[0.025</th>    <th>0.975]</th>  \n</tr>\n<tr>\n  <th>const</th>       <td>    0.7828</td> <td>    0.013</td> <td>   60.674</td> <td> 0.000</td> <td>    0.757</td> <td>    0.808</td>\n</tr>\n<tr>\n  <th>current_age</th> <td>   -0.0003</td> <td>    0.000</td> <td>   -1.005</td> <td> 0.316</td> <td>   -0.001</td> <td>    0.000</td>\n</tr>\n</table>\n<table class=\"simpletable\">\n<tr>\n  <th>Omnibus:</th>       <td> 4.078</td> <th>  Durbin-Watson:     </th> <td>   2.020</td>\n</tr>\n<tr>\n  <th>Prob(Omnibus):</th> <td> 0.130</td> <th>  Jarque-Bera (JB):  </th> <td>   3.868</td>\n</tr>\n<tr>\n  <th>Skew:</th>          <td>-0.241</td> <th>  Prob(JB):          </th> <td>   0.145</td>\n</tr>\n<tr>\n  <th>Kurtosis:</th>      <td> 3.104</td> <th>  Cond. No.          </th> <td>    149.</td>\n</tr>\n</table><br/><br/>Notes:<br/>[1] Standard Errors assume that the covariance matrix of the errors is correctly specified."
     },
     "metadata": {},
     "execution_count": 21
    }
   ],
   "source": [
    "# Age regression\n",
    "model2 = sm.OLS(Y, X2)\n",
    "results2 = model2.fit()\n",
    "results2.summary()"
   ]
  },
  {
   "source": [
    "### Regression Analysis\n",
    "As we can see clearly from the plots, and is confirmed by the regression models, tenure is a much better predictor of satisfaction than age. Based on the summary results of our OLS models, we can see that the t statistic for tenure (time_on_the_job) is over 10, while for age it is only slightly larger than 1. We can also see that the p value (probability of obtaining the result assuming null hypothesis is true) for tenure is 0, while it is 0.3 for age. Based on these statistics, age is not a significant predictor for satisfaction, while tenure is."
   ],
   "cell_type": "markdown",
   "metadata": {}
  },
  {
   "cell_type": "markdown",
   "metadata": {},
   "source": [
    "## Q4: Residual Analysis\n",
    "\n",
    "Inspect the residuals of the two regressions. \n",
    "\n",
    "(a) Are they normally distributed?\n",
    "\n",
    "(b) Do you notice any significant outliers?\n",
    "\n",
    "(c) Do you observe anything else of concern?"
   ]
  },
  {
   "cell_type": "code",
   "execution_count": 22,
   "metadata": {},
   "outputs": [
    {
     "output_type": "display_data",
     "data": {
      "text/plain": "<Figure size 432x288 with 1 Axes>",
      "image/svg+xml": "<?xml version=\"1.0\" encoding=\"utf-8\" standalone=\"no\"?>\r\n<!DOCTYPE svg PUBLIC \"-//W3C//DTD SVG 1.1//EN\"\r\n  \"http://www.w3.org/Graphics/SVG/1.1/DTD/svg11.dtd\">\r\n<!-- Created with matplotlib (https://matplotlib.org/) -->\r\n<svg height=\"251.399844pt\" version=\"1.1\" viewBox=\"0 0 377.051094 251.399844\" width=\"377.051094pt\" xmlns=\"http://www.w3.org/2000/svg\" xmlns:xlink=\"http://www.w3.org/1999/xlink\">\r\n <metadata>\r\n  <rdf:RDF xmlns:cc=\"http://creativecommons.org/ns#\" xmlns:dc=\"http://purl.org/dc/elements/1.1/\" xmlns:rdf=\"http://www.w3.org/1999/02/22-rdf-syntax-ns#\">\r\n   <cc:Work>\r\n    <dc:type rdf:resource=\"http://purl.org/dc/dcmitype/StillImage\"/>\r\n    <dc:date>2021-06-10T20:27:12.947476</dc:date>\r\n    <dc:format>image/svg+xml</dc:format>\r\n    <dc:creator>\r\n     <cc:Agent>\r\n      <dc:title>Matplotlib v3.3.2, https://matplotlib.org/</dc:title>\r\n     </cc:Agent>\r\n    </dc:creator>\r\n   </cc:Work>\r\n  </rdf:RDF>\r\n </metadata>\r\n <defs>\r\n  <style type=\"text/css\">*{stroke-linecap:butt;stroke-linejoin:round;}</style>\r\n </defs>\r\n <g id=\"figure_1\">\r\n  <g id=\"patch_1\">\r\n   <path d=\"M 0 251.399844 \r\nL 377.051094 251.399844 \r\nL 377.051094 0 \r\nL 0 0 \r\nz\r\n\" style=\"fill:#ffffff;\"/>\r\n  </g>\r\n  <g id=\"axes_1\">\r\n   <g id=\"patch_2\">\r\n    <path d=\"M 35.051094 224.64 \r\nL 369.851094 224.64 \r\nL 369.851094 7.2 \r\nL 35.051094 7.2 \r\nz\r\n\" style=\"fill:#eaeaf2;\"/>\r\n   </g>\r\n   <g id=\"matplotlib.axis_1\">\r\n    <g id=\"xtick_1\">\r\n     <g id=\"line2d_1\">\r\n      <path clip-path=\"url(#p1b37a5f22e)\" d=\"M 63.280069 224.64 \r\nL 63.280069 7.2 \r\n\" style=\"fill:none;stroke:#ffffff;stroke-linecap:round;\"/>\r\n     </g>\r\n     <g id=\"text_1\">\r\n      <!-- −0.20 -->\r\n      <g style=\"fill:#262626;\" transform=\"translate(49.364209 242.013594)scale(0.11 -0.11)\">\r\n       <defs>\r\n        <path d=\"M 52.828125 31.203125 \r\nL 5.5625 31.203125 \r\nL 5.5625 39.40625 \r\nL 52.828125 39.40625 \r\nz\r\n\" id=\"ArialMT-8722\"/>\r\n        <path d=\"M 4.15625 35.296875 \r\nQ 4.15625 48 6.765625 55.734375 \r\nQ 9.375 63.484375 14.515625 67.671875 \r\nQ 19.671875 71.875 27.484375 71.875 \r\nQ 33.25 71.875 37.59375 69.546875 \r\nQ 41.9375 67.234375 44.765625 62.859375 \r\nQ 47.609375 58.5 49.21875 52.21875 \r\nQ 50.828125 45.953125 50.828125 35.296875 \r\nQ 50.828125 22.703125 48.234375 14.96875 \r\nQ 45.65625 7.234375 40.5 3 \r\nQ 35.359375 -1.21875 27.484375 -1.21875 \r\nQ 17.140625 -1.21875 11.234375 6.203125 \r\nQ 4.15625 15.140625 4.15625 35.296875 \r\nz\r\nM 13.1875 35.296875 \r\nQ 13.1875 17.671875 17.3125 11.828125 \r\nQ 21.4375 6 27.484375 6 \r\nQ 33.546875 6 37.671875 11.859375 \r\nQ 41.796875 17.71875 41.796875 35.296875 \r\nQ 41.796875 52.984375 37.671875 58.78125 \r\nQ 33.546875 64.59375 27.390625 64.59375 \r\nQ 21.34375 64.59375 17.71875 59.46875 \r\nQ 13.1875 52.9375 13.1875 35.296875 \r\nz\r\n\" id=\"ArialMT-48\"/>\r\n        <path d=\"M 9.078125 0 \r\nL 9.078125 10.015625 \r\nL 19.09375 10.015625 \r\nL 19.09375 0 \r\nz\r\n\" id=\"ArialMT-46\"/>\r\n        <path d=\"M 50.34375 8.453125 \r\nL 50.34375 0 \r\nL 3.03125 0 \r\nQ 2.9375 3.171875 4.046875 6.109375 \r\nQ 5.859375 10.9375 9.828125 15.625 \r\nQ 13.8125 20.3125 21.34375 26.46875 \r\nQ 33.015625 36.03125 37.109375 41.625 \r\nQ 41.21875 47.21875 41.21875 52.203125 \r\nQ 41.21875 57.421875 37.46875 61 \r\nQ 33.734375 64.59375 27.734375 64.59375 \r\nQ 21.390625 64.59375 17.578125 60.78125 \r\nQ 13.765625 56.984375 13.71875 50.25 \r\nL 4.6875 51.171875 \r\nQ 5.609375 61.28125 11.65625 66.578125 \r\nQ 17.71875 71.875 27.9375 71.875 \r\nQ 38.234375 71.875 44.234375 66.15625 \r\nQ 50.25 60.453125 50.25 52 \r\nQ 50.25 47.703125 48.484375 43.546875 \r\nQ 46.734375 39.40625 42.65625 34.8125 \r\nQ 38.578125 30.21875 29.109375 22.21875 \r\nQ 21.1875 15.578125 18.9375 13.203125 \r\nQ 16.703125 10.84375 15.234375 8.453125 \r\nz\r\n\" id=\"ArialMT-50\"/>\r\n       </defs>\r\n       <use xlink:href=\"#ArialMT-8722\"/>\r\n       <use x=\"58.398438\" xlink:href=\"#ArialMT-48\"/>\r\n       <use x=\"114.013672\" xlink:href=\"#ArialMT-46\"/>\r\n       <use x=\"141.796875\" xlink:href=\"#ArialMT-50\"/>\r\n       <use x=\"197.412109\" xlink:href=\"#ArialMT-48\"/>\r\n      </g>\r\n     </g>\r\n    </g>\r\n    <g id=\"xtick_2\">\r\n     <g id=\"line2d_2\">\r\n      <path clip-path=\"url(#p1b37a5f22e)\" d=\"M 107.196569 224.64 \r\nL 107.196569 7.2 \r\n\" style=\"fill:none;stroke:#ffffff;stroke-linecap:round;\"/>\r\n     </g>\r\n     <g id=\"text_2\">\r\n      <!-- −0.15 -->\r\n      <g style=\"fill:#262626;\" transform=\"translate(93.28071 242.013594)scale(0.11 -0.11)\">\r\n       <defs>\r\n        <path d=\"M 37.25 0 \r\nL 28.46875 0 \r\nL 28.46875 56 \r\nQ 25.296875 52.984375 20.140625 49.953125 \r\nQ 14.984375 46.921875 10.890625 45.40625 \r\nL 10.890625 53.90625 \r\nQ 18.265625 57.375 23.78125 62.296875 \r\nQ 29.296875 67.234375 31.59375 71.875 \r\nL 37.25 71.875 \r\nz\r\n\" id=\"ArialMT-49\"/>\r\n        <path d=\"M 4.15625 18.75 \r\nL 13.375 19.53125 \r\nQ 14.40625 12.796875 18.140625 9.390625 \r\nQ 21.875 6 27.15625 6 \r\nQ 33.5 6 37.890625 10.78125 \r\nQ 42.28125 15.578125 42.28125 23.484375 \r\nQ 42.28125 31 38.0625 35.34375 \r\nQ 33.84375 39.703125 27 39.703125 \r\nQ 22.75 39.703125 19.328125 37.765625 \r\nQ 15.921875 35.84375 13.96875 32.765625 \r\nL 5.71875 33.84375 \r\nL 12.640625 70.609375 \r\nL 48.25 70.609375 \r\nL 48.25 62.203125 \r\nL 19.671875 62.203125 \r\nL 15.828125 42.96875 \r\nQ 22.265625 47.46875 29.34375 47.46875 \r\nQ 38.71875 47.46875 45.15625 40.96875 \r\nQ 51.609375 34.46875 51.609375 24.265625 \r\nQ 51.609375 14.546875 45.953125 7.46875 \r\nQ 39.0625 -1.21875 27.15625 -1.21875 \r\nQ 17.390625 -1.21875 11.203125 4.25 \r\nQ 5.03125 9.71875 4.15625 18.75 \r\nz\r\n\" id=\"ArialMT-53\"/>\r\n       </defs>\r\n       <use xlink:href=\"#ArialMT-8722\"/>\r\n       <use x=\"58.398438\" xlink:href=\"#ArialMT-48\"/>\r\n       <use x=\"114.013672\" xlink:href=\"#ArialMT-46\"/>\r\n       <use x=\"141.796875\" xlink:href=\"#ArialMT-49\"/>\r\n       <use x=\"197.412109\" xlink:href=\"#ArialMT-53\"/>\r\n      </g>\r\n     </g>\r\n    </g>\r\n    <g id=\"xtick_3\">\r\n     <g id=\"line2d_3\">\r\n      <path clip-path=\"url(#p1b37a5f22e)\" d=\"M 151.113069 224.64 \r\nL 151.113069 7.2 \r\n\" style=\"fill:none;stroke:#ffffff;stroke-linecap:round;\"/>\r\n     </g>\r\n     <g id=\"text_3\">\r\n      <!-- −0.10 -->\r\n      <g style=\"fill:#262626;\" transform=\"translate(137.19721 242.013594)scale(0.11 -0.11)\">\r\n       <use xlink:href=\"#ArialMT-8722\"/>\r\n       <use x=\"58.398438\" xlink:href=\"#ArialMT-48\"/>\r\n       <use x=\"114.013672\" xlink:href=\"#ArialMT-46\"/>\r\n       <use x=\"141.796875\" xlink:href=\"#ArialMT-49\"/>\r\n       <use x=\"197.412109\" xlink:href=\"#ArialMT-48\"/>\r\n      </g>\r\n     </g>\r\n    </g>\r\n    <g id=\"xtick_4\">\r\n     <g id=\"line2d_4\">\r\n      <path clip-path=\"url(#p1b37a5f22e)\" d=\"M 195.02957 224.64 \r\nL 195.02957 7.2 \r\n\" style=\"fill:none;stroke:#ffffff;stroke-linecap:round;\"/>\r\n     </g>\r\n     <g id=\"text_4\">\r\n      <!-- −0.05 -->\r\n      <g style=\"fill:#262626;\" transform=\"translate(181.11371 242.013594)scale(0.11 -0.11)\">\r\n       <use xlink:href=\"#ArialMT-8722\"/>\r\n       <use x=\"58.398438\" xlink:href=\"#ArialMT-48\"/>\r\n       <use x=\"114.013672\" xlink:href=\"#ArialMT-46\"/>\r\n       <use x=\"141.796875\" xlink:href=\"#ArialMT-48\"/>\r\n       <use x=\"197.412109\" xlink:href=\"#ArialMT-53\"/>\r\n      </g>\r\n     </g>\r\n    </g>\r\n    <g id=\"xtick_5\">\r\n     <g id=\"line2d_5\">\r\n      <path clip-path=\"url(#p1b37a5f22e)\" d=\"M 238.94607 224.64 \r\nL 238.94607 7.2 \r\n\" style=\"fill:none;stroke:#ffffff;stroke-linecap:round;\"/>\r\n     </g>\r\n     <g id=\"text_5\">\r\n      <!-- 0.00 -->\r\n      <g style=\"fill:#262626;\" transform=\"translate(228.242554 242.013594)scale(0.11 -0.11)\">\r\n       <use xlink:href=\"#ArialMT-48\"/>\r\n       <use x=\"55.615234\" xlink:href=\"#ArialMT-46\"/>\r\n       <use x=\"83.398438\" xlink:href=\"#ArialMT-48\"/>\r\n       <use x=\"139.013672\" xlink:href=\"#ArialMT-48\"/>\r\n      </g>\r\n     </g>\r\n    </g>\r\n    <g id=\"xtick_6\">\r\n     <g id=\"line2d_6\">\r\n      <path clip-path=\"url(#p1b37a5f22e)\" d=\"M 282.86257 224.64 \r\nL 282.86257 7.2 \r\n\" style=\"fill:none;stroke:#ffffff;stroke-linecap:round;\"/>\r\n     </g>\r\n     <g id=\"text_6\">\r\n      <!-- 0.05 -->\r\n      <g style=\"fill:#262626;\" transform=\"translate(272.159055 242.013594)scale(0.11 -0.11)\">\r\n       <use xlink:href=\"#ArialMT-48\"/>\r\n       <use x=\"55.615234\" xlink:href=\"#ArialMT-46\"/>\r\n       <use x=\"83.398438\" xlink:href=\"#ArialMT-48\"/>\r\n       <use x=\"139.013672\" xlink:href=\"#ArialMT-53\"/>\r\n      </g>\r\n     </g>\r\n    </g>\r\n    <g id=\"xtick_7\">\r\n     <g id=\"line2d_7\">\r\n      <path clip-path=\"url(#p1b37a5f22e)\" d=\"M 326.779071 224.64 \r\nL 326.779071 7.2 \r\n\" style=\"fill:none;stroke:#ffffff;stroke-linecap:round;\"/>\r\n     </g>\r\n     <g id=\"text_7\">\r\n      <!-- 0.10 -->\r\n      <g style=\"fill:#262626;\" transform=\"translate(316.075555 242.013594)scale(0.11 -0.11)\">\r\n       <use xlink:href=\"#ArialMT-48\"/>\r\n       <use x=\"55.615234\" xlink:href=\"#ArialMT-46\"/>\r\n       <use x=\"83.398438\" xlink:href=\"#ArialMT-49\"/>\r\n       <use x=\"139.013672\" xlink:href=\"#ArialMT-48\"/>\r\n      </g>\r\n     </g>\r\n    </g>\r\n   </g>\r\n   <g id=\"matplotlib.axis_2\">\r\n    <g id=\"ytick_1\">\r\n     <g id=\"line2d_8\">\r\n      <path clip-path=\"url(#p1b37a5f22e)\" d=\"M 35.051094 224.64 \r\nL 369.851094 224.64 \r\n\" style=\"fill:none;stroke:#ffffff;stroke-linecap:round;\"/>\r\n     </g>\r\n     <g id=\"text_8\">\r\n      <!-- 0 -->\r\n      <g style=\"fill:#262626;\" transform=\"translate(19.434063 228.576797)scale(0.11 -0.11)\">\r\n       <use xlink:href=\"#ArialMT-48\"/>\r\n      </g>\r\n     </g>\r\n    </g>\r\n    <g id=\"ytick_2\">\r\n     <g id=\"line2d_9\">\r\n      <path clip-path=\"url(#p1b37a5f22e)\" d=\"M 35.051094 184.429182 \r\nL 369.851094 184.429182 \r\n\" style=\"fill:none;stroke:#ffffff;stroke-linecap:round;\"/>\r\n     </g>\r\n     <g id=\"text_9\">\r\n      <!-- 20 -->\r\n      <g style=\"fill:#262626;\" transform=\"translate(13.317031 188.365979)scale(0.11 -0.11)\">\r\n       <use xlink:href=\"#ArialMT-50\"/>\r\n       <use x=\"55.615234\" xlink:href=\"#ArialMT-48\"/>\r\n      </g>\r\n     </g>\r\n    </g>\r\n    <g id=\"ytick_3\">\r\n     <g id=\"line2d_10\">\r\n      <path clip-path=\"url(#p1b37a5f22e)\" d=\"M 35.051094 144.218363 \r\nL 369.851094 144.218363 \r\n\" style=\"fill:none;stroke:#ffffff;stroke-linecap:round;\"/>\r\n     </g>\r\n     <g id=\"text_10\">\r\n      <!-- 40 -->\r\n      <g style=\"fill:#262626;\" transform=\"translate(13.317031 148.15516)scale(0.11 -0.11)\">\r\n       <defs>\r\n        <path d=\"M 32.328125 0 \r\nL 32.328125 17.140625 \r\nL 1.265625 17.140625 \r\nL 1.265625 25.203125 \r\nL 33.9375 71.578125 \r\nL 41.109375 71.578125 \r\nL 41.109375 25.203125 \r\nL 50.78125 25.203125 \r\nL 50.78125 17.140625 \r\nL 41.109375 17.140625 \r\nL 41.109375 0 \r\nz\r\nM 32.328125 25.203125 \r\nL 32.328125 57.46875 \r\nL 9.90625 25.203125 \r\nz\r\n\" id=\"ArialMT-52\"/>\r\n       </defs>\r\n       <use xlink:href=\"#ArialMT-52\"/>\r\n       <use x=\"55.615234\" xlink:href=\"#ArialMT-48\"/>\r\n      </g>\r\n     </g>\r\n    </g>\r\n    <g id=\"ytick_4\">\r\n     <g id=\"line2d_11\">\r\n      <path clip-path=\"url(#p1b37a5f22e)\" d=\"M 35.051094 104.007545 \r\nL 369.851094 104.007545 \r\n\" style=\"fill:none;stroke:#ffffff;stroke-linecap:round;\"/>\r\n     </g>\r\n     <g id=\"text_11\">\r\n      <!-- 60 -->\r\n      <g style=\"fill:#262626;\" transform=\"translate(13.317031 107.944342)scale(0.11 -0.11)\">\r\n       <defs>\r\n        <path d=\"M 49.75 54.046875 \r\nL 41.015625 53.375 \r\nQ 39.84375 58.546875 37.703125 60.890625 \r\nQ 34.125 64.65625 28.90625 64.65625 \r\nQ 24.703125 64.65625 21.53125 62.3125 \r\nQ 17.390625 59.28125 14.984375 53.46875 \r\nQ 12.59375 47.65625 12.5 36.921875 \r\nQ 15.671875 41.75 20.265625 44.09375 \r\nQ 24.859375 46.4375 29.890625 46.4375 \r\nQ 38.671875 46.4375 44.84375 39.96875 \r\nQ 51.03125 33.5 51.03125 23.25 \r\nQ 51.03125 16.5 48.125 10.71875 \r\nQ 45.21875 4.9375 40.140625 1.859375 \r\nQ 35.0625 -1.21875 28.609375 -1.21875 \r\nQ 17.625 -1.21875 10.6875 6.859375 \r\nQ 3.765625 14.9375 3.765625 33.5 \r\nQ 3.765625 54.25 11.421875 63.671875 \r\nQ 18.109375 71.875 29.4375 71.875 \r\nQ 37.890625 71.875 43.28125 67.140625 \r\nQ 48.6875 62.40625 49.75 54.046875 \r\nz\r\nM 13.875 23.1875 \r\nQ 13.875 18.65625 15.796875 14.5 \r\nQ 17.71875 10.359375 21.1875 8.171875 \r\nQ 24.65625 6 28.46875 6 \r\nQ 34.03125 6 38.03125 10.484375 \r\nQ 42.046875 14.984375 42.046875 22.703125 \r\nQ 42.046875 30.125 38.078125 34.390625 \r\nQ 34.125 38.671875 28.125 38.671875 \r\nQ 22.171875 38.671875 18.015625 34.390625 \r\nQ 13.875 30.125 13.875 23.1875 \r\nz\r\n\" id=\"ArialMT-54\"/>\r\n       </defs>\r\n       <use xlink:href=\"#ArialMT-54\"/>\r\n       <use x=\"55.615234\" xlink:href=\"#ArialMT-48\"/>\r\n      </g>\r\n     </g>\r\n    </g>\r\n    <g id=\"ytick_5\">\r\n     <g id=\"line2d_12\">\r\n      <path clip-path=\"url(#p1b37a5f22e)\" d=\"M 35.051094 63.796727 \r\nL 369.851094 63.796727 \r\n\" style=\"fill:none;stroke:#ffffff;stroke-linecap:round;\"/>\r\n     </g>\r\n     <g id=\"text_12\">\r\n      <!-- 80 -->\r\n      <g style=\"fill:#262626;\" transform=\"translate(13.317031 67.733524)scale(0.11 -0.11)\">\r\n       <defs>\r\n        <path d=\"M 17.671875 38.8125 \r\nQ 12.203125 40.828125 9.5625 44.53125 \r\nQ 6.9375 48.25 6.9375 53.421875 \r\nQ 6.9375 61.234375 12.546875 66.546875 \r\nQ 18.171875 71.875 27.484375 71.875 \r\nQ 36.859375 71.875 42.578125 66.421875 \r\nQ 48.296875 60.984375 48.296875 53.171875 \r\nQ 48.296875 48.1875 45.671875 44.5 \r\nQ 43.0625 40.828125 37.75 38.8125 \r\nQ 44.34375 36.671875 47.78125 31.875 \r\nQ 51.21875 27.09375 51.21875 20.453125 \r\nQ 51.21875 11.28125 44.71875 5.03125 \r\nQ 38.234375 -1.21875 27.640625 -1.21875 \r\nQ 17.046875 -1.21875 10.546875 5.046875 \r\nQ 4.046875 11.328125 4.046875 20.703125 \r\nQ 4.046875 27.6875 7.59375 32.390625 \r\nQ 11.140625 37.109375 17.671875 38.8125 \r\nz\r\nM 15.921875 53.71875 \r\nQ 15.921875 48.640625 19.1875 45.40625 \r\nQ 22.46875 42.1875 27.6875 42.1875 \r\nQ 32.765625 42.1875 36.015625 45.375 \r\nQ 39.265625 48.578125 39.265625 53.21875 \r\nQ 39.265625 58.0625 35.90625 61.359375 \r\nQ 32.5625 64.65625 27.59375 64.65625 \r\nQ 22.5625 64.65625 19.234375 61.421875 \r\nQ 15.921875 58.203125 15.921875 53.71875 \r\nz\r\nM 13.09375 20.65625 \r\nQ 13.09375 16.890625 14.875 13.375 \r\nQ 16.65625 9.859375 20.171875 7.921875 \r\nQ 23.6875 6 27.734375 6 \r\nQ 34.03125 6 38.125 10.046875 \r\nQ 42.234375 14.109375 42.234375 20.359375 \r\nQ 42.234375 26.703125 38.015625 30.859375 \r\nQ 33.796875 35.015625 27.4375 35.015625 \r\nQ 21.234375 35.015625 17.15625 30.90625 \r\nQ 13.09375 26.8125 13.09375 20.65625 \r\nz\r\n\" id=\"ArialMT-56\"/>\r\n       </defs>\r\n       <use xlink:href=\"#ArialMT-56\"/>\r\n       <use x=\"55.615234\" xlink:href=\"#ArialMT-48\"/>\r\n      </g>\r\n     </g>\r\n    </g>\r\n    <g id=\"ytick_6\">\r\n     <g id=\"line2d_13\">\r\n      <path clip-path=\"url(#p1b37a5f22e)\" d=\"M 35.051094 23.585908 \r\nL 369.851094 23.585908 \r\n\" style=\"fill:none;stroke:#ffffff;stroke-linecap:round;\"/>\r\n     </g>\r\n     <g id=\"text_13\">\r\n      <!-- 100 -->\r\n      <g style=\"fill:#262626;\" transform=\"translate(7.2 27.522705)scale(0.11 -0.11)\">\r\n       <use xlink:href=\"#ArialMT-49\"/>\r\n       <use x=\"55.615234\" xlink:href=\"#ArialMT-48\"/>\r\n       <use x=\"111.230469\" xlink:href=\"#ArialMT-48\"/>\r\n      </g>\r\n     </g>\r\n    </g>\r\n   </g>\r\n   <g id=\"patch_3\">\r\n    <path clip-path=\"url(#p1b37a5f22e)\" d=\"M 50.269276 224.64 \r\nL 80.705639 224.64 \r\nL 80.705639 222.629459 \r\nL 50.269276 222.629459 \r\nz\r\n\" style=\"fill:#4c72b0;stroke:#ffffff;stroke-linejoin:miter;\"/>\r\n   </g>\r\n   <g id=\"patch_4\">\r\n    <path clip-path=\"url(#p1b37a5f22e)\" d=\"M 80.705639 224.64 \r\nL 111.142003 224.64 \r\nL 111.142003 208.555673 \r\nL 80.705639 208.555673 \r\nz\r\n\" style=\"fill:#4c72b0;stroke:#ffffff;stroke-linejoin:miter;\"/>\r\n   </g>\r\n   <g id=\"patch_5\">\r\n    <path clip-path=\"url(#p1b37a5f22e)\" d=\"M 111.142003 224.64 \r\nL 141.578366 224.64 \r\nL 141.578366 202.52405 \r\nL 111.142003 202.52405 \r\nz\r\n\" style=\"fill:#4c72b0;stroke:#ffffff;stroke-linejoin:miter;\"/>\r\n   </g>\r\n   <g id=\"patch_6\">\r\n    <path clip-path=\"url(#p1b37a5f22e)\" d=\"M 141.578366 224.64 \r\nL 172.01473 224.64 \r\nL 172.01473 174.376477 \r\nL 141.578366 174.376477 \r\nz\r\n\" style=\"fill:#4c72b0;stroke:#ffffff;stroke-linejoin:miter;\"/>\r\n   </g>\r\n   <g id=\"patch_7\">\r\n    <path clip-path=\"url(#p1b37a5f22e)\" d=\"M 172.01473 224.64 \r\nL 202.451094 224.64 \r\nL 202.451094 134.165659 \r\nL 172.01473 134.165659 \r\nz\r\n\" style=\"fill:#4c72b0;stroke:#ffffff;stroke-linejoin:miter;\"/>\r\n   </g>\r\n   <g id=\"patch_8\">\r\n    <path clip-path=\"url(#p1b37a5f22e)\" d=\"M 202.451094 224.64 \r\nL 232.887457 224.64 \r\nL 232.887457 126.123495 \r\nL 202.451094 126.123495 \r\nz\r\n\" style=\"fill:#4c72b0;stroke:#ffffff;stroke-linejoin:miter;\"/>\r\n   </g>\r\n   <g id=\"patch_9\">\r\n    <path clip-path=\"url(#p1b37a5f22e)\" d=\"M 232.887457 224.64 \r\nL 263.323821 224.64 \r\nL 263.323821 17.554286 \r\nL 232.887457 17.554286 \r\nz\r\n\" style=\"fill:#4c72b0;stroke:#ffffff;stroke-linejoin:miter;\"/>\r\n   </g>\r\n   <g id=\"patch_10\">\r\n    <path clip-path=\"url(#p1b37a5f22e)\" d=\"M 263.323821 224.64 \r\nL 293.760185 224.64 \r\nL 293.760185 53.744022 \r\nL 263.323821 53.744022 \r\nz\r\n\" style=\"fill:#4c72b0;stroke:#ffffff;stroke-linejoin:miter;\"/>\r\n   </g>\r\n   <g id=\"patch_11\">\r\n    <path clip-path=\"url(#p1b37a5f22e)\" d=\"M 293.760185 224.64 \r\nL 324.196548 224.64 \r\nL 324.196548 138.186741 \r\nL 293.760185 138.186741 \r\nz\r\n\" style=\"fill:#4c72b0;stroke:#ffffff;stroke-linejoin:miter;\"/>\r\n   </g>\r\n   <g id=\"patch_12\">\r\n    <path clip-path=\"url(#p1b37a5f22e)\" d=\"M 324.196548 224.64 \r\nL 354.632912 224.64 \r\nL 354.632912 202.52405 \r\nL 324.196548 202.52405 \r\nz\r\n\" style=\"fill:#4c72b0;stroke:#ffffff;stroke-linejoin:miter;\"/>\r\n   </g>\r\n   <g id=\"patch_13\">\r\n    <path d=\"M 35.051094 224.64 \r\nL 35.051094 7.2 \r\n\" style=\"fill:none;stroke:#ffffff;stroke-linecap:square;stroke-linejoin:miter;stroke-width:1.25;\"/>\r\n   </g>\r\n   <g id=\"patch_14\">\r\n    <path d=\"M 369.851094 224.64 \r\nL 369.851094 7.2 \r\n\" style=\"fill:none;stroke:#ffffff;stroke-linecap:square;stroke-linejoin:miter;stroke-width:1.25;\"/>\r\n   </g>\r\n   <g id=\"patch_15\">\r\n    <path d=\"M 35.051094 224.64 \r\nL 369.851094 224.64 \r\n\" style=\"fill:none;stroke:#ffffff;stroke-linecap:square;stroke-linejoin:miter;stroke-width:1.25;\"/>\r\n   </g>\r\n   <g id=\"patch_16\">\r\n    <path d=\"M 35.051094 7.2 \r\nL 369.851094 7.2 \r\n\" style=\"fill:none;stroke:#ffffff;stroke-linecap:square;stroke-linejoin:miter;stroke-width:1.25;\"/>\r\n   </g>\r\n  </g>\r\n </g>\r\n <defs>\r\n  <clipPath id=\"p1b37a5f22e\">\r\n   <rect height=\"217.44\" width=\"334.8\" x=\"35.051094\" y=\"7.2\"/>\r\n  </clipPath>\r\n </defs>\r\n</svg>\r\n",
      "image/png": "[encoded data removed]"
     },
     "metadata": {}
    }
   ],
   "source": [
    "results1.resid.hist();"
   ]
  },
  {
   "cell_type": "code",
   "execution_count": 23,
   "metadata": {},
   "outputs": [
    {
     "output_type": "display_data",
     "data": {
      "text/plain": "<Figure size 432x288 with 1 Axes>",
      "image/svg+xml": "<?xml version=\"1.0\" encoding=\"utf-8\" standalone=\"no\"?>\r\n<!DOCTYPE svg PUBLIC \"-//W3C//DTD SVG 1.1//EN\"\r\n  \"http://www.w3.org/Graphics/SVG/1.1/DTD/svg11.dtd\">\r\n<!-- Created with matplotlib (https://matplotlib.org/) -->\r\n<svg height=\"251.399844pt\" version=\"1.1\" viewBox=\"0 0 370.934062 251.399844\" width=\"370.934062pt\" xmlns=\"http://www.w3.org/2000/svg\" xmlns:xlink=\"http://www.w3.org/1999/xlink\">\r\n <metadata>\r\n  <rdf:RDF xmlns:cc=\"http://creativecommons.org/ns#\" xmlns:dc=\"http://purl.org/dc/elements/1.1/\" xmlns:rdf=\"http://www.w3.org/1999/02/22-rdf-syntax-ns#\">\r\n   <cc:Work>\r\n    <dc:type rdf:resource=\"http://purl.org/dc/dcmitype/StillImage\"/>\r\n    <dc:date>2021-06-10T20:27:13.483519</dc:date>\r\n    <dc:format>image/svg+xml</dc:format>\r\n    <dc:creator>\r\n     <cc:Agent>\r\n      <dc:title>Matplotlib v3.3.2, https://matplotlib.org/</dc:title>\r\n     </cc:Agent>\r\n    </dc:creator>\r\n   </cc:Work>\r\n  </rdf:RDF>\r\n </metadata>\r\n <defs>\r\n  <style type=\"text/css\">*{stroke-linecap:butt;stroke-linejoin:round;}</style>\r\n </defs>\r\n <g id=\"figure_1\">\r\n  <g id=\"patch_1\">\r\n   <path d=\"M 0 251.399844 \r\nL 370.934062 251.399844 \r\nL 370.934062 0 \r\nL 0 0 \r\nz\r\n\" style=\"fill:#ffffff;\"/>\r\n  </g>\r\n  <g id=\"axes_1\">\r\n   <g id=\"patch_2\">\r\n    <path d=\"M 28.934062 224.64 \r\nL 363.734062 224.64 \r\nL 363.734062 7.2 \r\nL 28.934062 7.2 \r\nz\r\n\" style=\"fill:#eaeaf2;\"/>\r\n   </g>\r\n   <g id=\"matplotlib.axis_1\">\r\n    <g id=\"xtick_1\">\r\n     <g id=\"line2d_1\">\r\n      <path clip-path=\"url(#p7fda0b80bd)\" d=\"M 40.463459 224.64 \r\nL 40.463459 7.2 \r\n\" style=\"fill:none;stroke:#ffffff;stroke-linecap:round;\"/>\r\n     </g>\r\n     <g id=\"text_1\">\r\n      <!-- −0.20 -->\r\n      <g style=\"fill:#262626;\" transform=\"translate(26.5476 242.013594)scale(0.11 -0.11)\">\r\n       <defs>\r\n        <path d=\"M 52.828125 31.203125 \r\nL 5.5625 31.203125 \r\nL 5.5625 39.40625 \r\nL 52.828125 39.40625 \r\nz\r\n\" id=\"ArialMT-8722\"/>\r\n        <path d=\"M 4.15625 35.296875 \r\nQ 4.15625 48 6.765625 55.734375 \r\nQ 9.375 63.484375 14.515625 67.671875 \r\nQ 19.671875 71.875 27.484375 71.875 \r\nQ 33.25 71.875 37.59375 69.546875 \r\nQ 41.9375 67.234375 44.765625 62.859375 \r\nQ 47.609375 58.5 49.21875 52.21875 \r\nQ 50.828125 45.953125 50.828125 35.296875 \r\nQ 50.828125 22.703125 48.234375 14.96875 \r\nQ 45.65625 7.234375 40.5 3 \r\nQ 35.359375 -1.21875 27.484375 -1.21875 \r\nQ 17.140625 -1.21875 11.234375 6.203125 \r\nQ 4.15625 15.140625 4.15625 35.296875 \r\nz\r\nM 13.1875 35.296875 \r\nQ 13.1875 17.671875 17.3125 11.828125 \r\nQ 21.4375 6 27.484375 6 \r\nQ 33.546875 6 37.671875 11.859375 \r\nQ 41.796875 17.71875 41.796875 35.296875 \r\nQ 41.796875 52.984375 37.671875 58.78125 \r\nQ 33.546875 64.59375 27.390625 64.59375 \r\nQ 21.34375 64.59375 17.71875 59.46875 \r\nQ 13.1875 52.9375 13.1875 35.296875 \r\nz\r\n\" id=\"ArialMT-48\"/>\r\n        <path d=\"M 9.078125 0 \r\nL 9.078125 10.015625 \r\nL 19.09375 10.015625 \r\nL 19.09375 0 \r\nz\r\n\" id=\"ArialMT-46\"/>\r\n        <path d=\"M 50.34375 8.453125 \r\nL 50.34375 0 \r\nL 3.03125 0 \r\nQ 2.9375 3.171875 4.046875 6.109375 \r\nQ 5.859375 10.9375 9.828125 15.625 \r\nQ 13.8125 20.3125 21.34375 26.46875 \r\nQ 33.015625 36.03125 37.109375 41.625 \r\nQ 41.21875 47.21875 41.21875 52.203125 \r\nQ 41.21875 57.421875 37.46875 61 \r\nQ 33.734375 64.59375 27.734375 64.59375 \r\nQ 21.390625 64.59375 17.578125 60.78125 \r\nQ 13.765625 56.984375 13.71875 50.25 \r\nL 4.6875 51.171875 \r\nQ 5.609375 61.28125 11.65625 66.578125 \r\nQ 17.71875 71.875 27.9375 71.875 \r\nQ 38.234375 71.875 44.234375 66.15625 \r\nQ 50.25 60.453125 50.25 52 \r\nQ 50.25 47.703125 48.484375 43.546875 \r\nQ 46.734375 39.40625 42.65625 34.8125 \r\nQ 38.578125 30.21875 29.109375 22.21875 \r\nQ 21.1875 15.578125 18.9375 13.203125 \r\nQ 16.703125 10.84375 15.234375 8.453125 \r\nz\r\n\" id=\"ArialMT-50\"/>\r\n       </defs>\r\n       <use xlink:href=\"#ArialMT-8722\"/>\r\n       <use x=\"58.398438\" xlink:href=\"#ArialMT-48\"/>\r\n       <use x=\"114.013672\" xlink:href=\"#ArialMT-46\"/>\r\n       <use x=\"141.796875\" xlink:href=\"#ArialMT-50\"/>\r\n       <use x=\"197.412109\" xlink:href=\"#ArialMT-48\"/>\r\n      </g>\r\n     </g>\r\n    </g>\r\n    <g id=\"xtick_2\">\r\n     <g id=\"line2d_2\">\r\n      <path clip-path=\"url(#p7fda0b80bd)\" d=\"M 80.874947 224.64 \r\nL 80.874947 7.2 \r\n\" style=\"fill:none;stroke:#ffffff;stroke-linecap:round;\"/>\r\n     </g>\r\n     <g id=\"text_2\">\r\n      <!-- −0.15 -->\r\n      <g style=\"fill:#262626;\" transform=\"translate(66.959088 242.013594)scale(0.11 -0.11)\">\r\n       <defs>\r\n        <path d=\"M 37.25 0 \r\nL 28.46875 0 \r\nL 28.46875 56 \r\nQ 25.296875 52.984375 20.140625 49.953125 \r\nQ 14.984375 46.921875 10.890625 45.40625 \r\nL 10.890625 53.90625 \r\nQ 18.265625 57.375 23.78125 62.296875 \r\nQ 29.296875 67.234375 31.59375 71.875 \r\nL 37.25 71.875 \r\nz\r\n\" id=\"ArialMT-49\"/>\r\n        <path d=\"M 4.15625 18.75 \r\nL 13.375 19.53125 \r\nQ 14.40625 12.796875 18.140625 9.390625 \r\nQ 21.875 6 27.15625 6 \r\nQ 33.5 6 37.890625 10.78125 \r\nQ 42.28125 15.578125 42.28125 23.484375 \r\nQ 42.28125 31 38.0625 35.34375 \r\nQ 33.84375 39.703125 27 39.703125 \r\nQ 22.75 39.703125 19.328125 37.765625 \r\nQ 15.921875 35.84375 13.96875 32.765625 \r\nL 5.71875 33.84375 \r\nL 12.640625 70.609375 \r\nL 48.25 70.609375 \r\nL 48.25 62.203125 \r\nL 19.671875 62.203125 \r\nL 15.828125 42.96875 \r\nQ 22.265625 47.46875 29.34375 47.46875 \r\nQ 38.71875 47.46875 45.15625 40.96875 \r\nQ 51.609375 34.46875 51.609375 24.265625 \r\nQ 51.609375 14.546875 45.953125 7.46875 \r\nQ 39.0625 -1.21875 27.15625 -1.21875 \r\nQ 17.390625 -1.21875 11.203125 4.25 \r\nQ 5.03125 9.71875 4.15625 18.75 \r\nz\r\n\" id=\"ArialMT-53\"/>\r\n       </defs>\r\n       <use xlink:href=\"#ArialMT-8722\"/>\r\n       <use x=\"58.398438\" xlink:href=\"#ArialMT-48\"/>\r\n       <use x=\"114.013672\" xlink:href=\"#ArialMT-46\"/>\r\n       <use x=\"141.796875\" xlink:href=\"#ArialMT-49\"/>\r\n       <use x=\"197.412109\" xlink:href=\"#ArialMT-53\"/>\r\n      </g>\r\n     </g>\r\n    </g>\r\n    <g id=\"xtick_3\">\r\n     <g id=\"line2d_3\">\r\n      <path clip-path=\"url(#p7fda0b80bd)\" d=\"M 121.286435 224.64 \r\nL 121.286435 7.2 \r\n\" style=\"fill:none;stroke:#ffffff;stroke-linecap:round;\"/>\r\n     </g>\r\n     <g id=\"text_3\">\r\n      <!-- −0.10 -->\r\n      <g style=\"fill:#262626;\" transform=\"translate(107.370576 242.013594)scale(0.11 -0.11)\">\r\n       <use xlink:href=\"#ArialMT-8722\"/>\r\n       <use x=\"58.398438\" xlink:href=\"#ArialMT-48\"/>\r\n       <use x=\"114.013672\" xlink:href=\"#ArialMT-46\"/>\r\n       <use x=\"141.796875\" xlink:href=\"#ArialMT-49\"/>\r\n       <use x=\"197.412109\" xlink:href=\"#ArialMT-48\"/>\r\n      </g>\r\n     </g>\r\n    </g>\r\n    <g id=\"xtick_4\">\r\n     <g id=\"line2d_4\">\r\n      <path clip-path=\"url(#p7fda0b80bd)\" d=\"M 161.697923 224.64 \r\nL 161.697923 7.2 \r\n\" style=\"fill:none;stroke:#ffffff;stroke-linecap:round;\"/>\r\n     </g>\r\n     <g id=\"text_4\">\r\n      <!-- −0.05 -->\r\n      <g style=\"fill:#262626;\" transform=\"translate(147.782064 242.013594)scale(0.11 -0.11)\">\r\n       <use xlink:href=\"#ArialMT-8722\"/>\r\n       <use x=\"58.398438\" xlink:href=\"#ArialMT-48\"/>\r\n       <use x=\"114.013672\" xlink:href=\"#ArialMT-46\"/>\r\n       <use x=\"141.796875\" xlink:href=\"#ArialMT-48\"/>\r\n       <use x=\"197.412109\" xlink:href=\"#ArialMT-53\"/>\r\n      </g>\r\n     </g>\r\n    </g>\r\n    <g id=\"xtick_5\">\r\n     <g id=\"line2d_5\">\r\n      <path clip-path=\"url(#p7fda0b80bd)\" d=\"M 202.109411 224.64 \r\nL 202.109411 7.2 \r\n\" style=\"fill:none;stroke:#ffffff;stroke-linecap:round;\"/>\r\n     </g>\r\n     <g id=\"text_5\">\r\n      <!-- 0.00 -->\r\n      <g style=\"fill:#262626;\" transform=\"translate(191.405895 242.013594)scale(0.11 -0.11)\">\r\n       <use xlink:href=\"#ArialMT-48\"/>\r\n       <use x=\"55.615234\" xlink:href=\"#ArialMT-46\"/>\r\n       <use x=\"83.398438\" xlink:href=\"#ArialMT-48\"/>\r\n       <use x=\"139.013672\" xlink:href=\"#ArialMT-48\"/>\r\n      </g>\r\n     </g>\r\n    </g>\r\n    <g id=\"xtick_6\">\r\n     <g id=\"line2d_6\">\r\n      <path clip-path=\"url(#p7fda0b80bd)\" d=\"M 242.520899 224.64 \r\nL 242.520899 7.2 \r\n\" style=\"fill:none;stroke:#ffffff;stroke-linecap:round;\"/>\r\n     </g>\r\n     <g id=\"text_6\">\r\n      <!-- 0.05 -->\r\n      <g style=\"fill:#262626;\" transform=\"translate(231.817383 242.013594)scale(0.11 -0.11)\">\r\n       <use xlink:href=\"#ArialMT-48\"/>\r\n       <use x=\"55.615234\" xlink:href=\"#ArialMT-46\"/>\r\n       <use x=\"83.398438\" xlink:href=\"#ArialMT-48\"/>\r\n       <use x=\"139.013672\" xlink:href=\"#ArialMT-53\"/>\r\n      </g>\r\n     </g>\r\n    </g>\r\n    <g id=\"xtick_7\">\r\n     <g id=\"line2d_7\">\r\n      <path clip-path=\"url(#p7fda0b80bd)\" d=\"M 282.932387 224.64 \r\nL 282.932387 7.2 \r\n\" style=\"fill:none;stroke:#ffffff;stroke-linecap:round;\"/>\r\n     </g>\r\n     <g id=\"text_7\">\r\n      <!-- 0.10 -->\r\n      <g style=\"fill:#262626;\" transform=\"translate(272.228871 242.013594)scale(0.11 -0.11)\">\r\n       <use xlink:href=\"#ArialMT-48\"/>\r\n       <use x=\"55.615234\" xlink:href=\"#ArialMT-46\"/>\r\n       <use x=\"83.398438\" xlink:href=\"#ArialMT-49\"/>\r\n       <use x=\"139.013672\" xlink:href=\"#ArialMT-48\"/>\r\n      </g>\r\n     </g>\r\n    </g>\r\n    <g id=\"xtick_8\">\r\n     <g id=\"line2d_8\">\r\n      <path clip-path=\"url(#p7fda0b80bd)\" d=\"M 323.343875 224.64 \r\nL 323.343875 7.2 \r\n\" style=\"fill:none;stroke:#ffffff;stroke-linecap:round;\"/>\r\n     </g>\r\n     <g id=\"text_8\">\r\n      <!-- 0.15 -->\r\n      <g style=\"fill:#262626;\" transform=\"translate(312.640359 242.013594)scale(0.11 -0.11)\">\r\n       <use xlink:href=\"#ArialMT-48\"/>\r\n       <use x=\"55.615234\" xlink:href=\"#ArialMT-46\"/>\r\n       <use x=\"83.398438\" xlink:href=\"#ArialMT-49\"/>\r\n       <use x=\"139.013672\" xlink:href=\"#ArialMT-53\"/>\r\n      </g>\r\n     </g>\r\n    </g>\r\n   </g>\r\n   <g id=\"matplotlib.axis_2\">\r\n    <g id=\"ytick_1\">\r\n     <g id=\"line2d_9\">\r\n      <path clip-path=\"url(#p7fda0b80bd)\" d=\"M 28.934062 224.64 \r\nL 363.734062 224.64 \r\n\" style=\"fill:none;stroke:#ffffff;stroke-linecap:round;\"/>\r\n     </g>\r\n     <g id=\"text_9\">\r\n      <!-- 0 -->\r\n      <g style=\"fill:#262626;\" transform=\"translate(13.317031 228.576797)scale(0.11 -0.11)\">\r\n       <use xlink:href=\"#ArialMT-48\"/>\r\n      </g>\r\n     </g>\r\n    </g>\r\n    <g id=\"ytick_2\">\r\n     <g id=\"line2d_10\">\r\n      <path clip-path=\"url(#p7fda0b80bd)\" d=\"M 28.934062 178.103884 \r\nL 363.734062 178.103884 \r\n\" style=\"fill:none;stroke:#ffffff;stroke-linecap:round;\"/>\r\n     </g>\r\n     <g id=\"text_10\">\r\n      <!-- 20 -->\r\n      <g style=\"fill:#262626;\" transform=\"translate(7.2 182.040681)scale(0.11 -0.11)\">\r\n       <use xlink:href=\"#ArialMT-50\"/>\r\n       <use x=\"55.615234\" xlink:href=\"#ArialMT-48\"/>\r\n      </g>\r\n     </g>\r\n    </g>\r\n    <g id=\"ytick_3\">\r\n     <g id=\"line2d_11\">\r\n      <path clip-path=\"url(#p7fda0b80bd)\" d=\"M 28.934062 131.567769 \r\nL 363.734062 131.567769 \r\n\" style=\"fill:none;stroke:#ffffff;stroke-linecap:round;\"/>\r\n     </g>\r\n     <g id=\"text_11\">\r\n      <!-- 40 -->\r\n      <g style=\"fill:#262626;\" transform=\"translate(7.2 135.504566)scale(0.11 -0.11)\">\r\n       <defs>\r\n        <path d=\"M 32.328125 0 \r\nL 32.328125 17.140625 \r\nL 1.265625 17.140625 \r\nL 1.265625 25.203125 \r\nL 33.9375 71.578125 \r\nL 41.109375 71.578125 \r\nL 41.109375 25.203125 \r\nL 50.78125 25.203125 \r\nL 50.78125 17.140625 \r\nL 41.109375 17.140625 \r\nL 41.109375 0 \r\nz\r\nM 32.328125 25.203125 \r\nL 32.328125 57.46875 \r\nL 9.90625 25.203125 \r\nz\r\n\" id=\"ArialMT-52\"/>\r\n       </defs>\r\n       <use xlink:href=\"#ArialMT-52\"/>\r\n       <use x=\"55.615234\" xlink:href=\"#ArialMT-48\"/>\r\n      </g>\r\n     </g>\r\n    </g>\r\n    <g id=\"ytick_4\">\r\n     <g id=\"line2d_12\">\r\n      <path clip-path=\"url(#p7fda0b80bd)\" d=\"M 28.934062 85.031653 \r\nL 363.734062 85.031653 \r\n\" style=\"fill:none;stroke:#ffffff;stroke-linecap:round;\"/>\r\n     </g>\r\n     <g id=\"text_12\">\r\n      <!-- 60 -->\r\n      <g style=\"fill:#262626;\" transform=\"translate(7.2 88.96845)scale(0.11 -0.11)\">\r\n       <defs>\r\n        <path d=\"M 49.75 54.046875 \r\nL 41.015625 53.375 \r\nQ 39.84375 58.546875 37.703125 60.890625 \r\nQ 34.125 64.65625 28.90625 64.65625 \r\nQ 24.703125 64.65625 21.53125 62.3125 \r\nQ 17.390625 59.28125 14.984375 53.46875 \r\nQ 12.59375 47.65625 12.5 36.921875 \r\nQ 15.671875 41.75 20.265625 44.09375 \r\nQ 24.859375 46.4375 29.890625 46.4375 \r\nQ 38.671875 46.4375 44.84375 39.96875 \r\nQ 51.03125 33.5 51.03125 23.25 \r\nQ 51.03125 16.5 48.125 10.71875 \r\nQ 45.21875 4.9375 40.140625 1.859375 \r\nQ 35.0625 -1.21875 28.609375 -1.21875 \r\nQ 17.625 -1.21875 10.6875 6.859375 \r\nQ 3.765625 14.9375 3.765625 33.5 \r\nQ 3.765625 54.25 11.421875 63.671875 \r\nQ 18.109375 71.875 29.4375 71.875 \r\nQ 37.890625 71.875 43.28125 67.140625 \r\nQ 48.6875 62.40625 49.75 54.046875 \r\nz\r\nM 13.875 23.1875 \r\nQ 13.875 18.65625 15.796875 14.5 \r\nQ 17.71875 10.359375 21.1875 8.171875 \r\nQ 24.65625 6 28.46875 6 \r\nQ 34.03125 6 38.03125 10.484375 \r\nQ 42.046875 14.984375 42.046875 22.703125 \r\nQ 42.046875 30.125 38.078125 34.390625 \r\nQ 34.125 38.671875 28.125 38.671875 \r\nQ 22.171875 38.671875 18.015625 34.390625 \r\nQ 13.875 30.125 13.875 23.1875 \r\nz\r\n\" id=\"ArialMT-54\"/>\r\n       </defs>\r\n       <use xlink:href=\"#ArialMT-54\"/>\r\n       <use x=\"55.615234\" xlink:href=\"#ArialMT-48\"/>\r\n      </g>\r\n     </g>\r\n    </g>\r\n    <g id=\"ytick_5\">\r\n     <g id=\"line2d_13\">\r\n      <path clip-path=\"url(#p7fda0b80bd)\" d=\"M 28.934062 38.495538 \r\nL 363.734062 38.495538 \r\n\" style=\"fill:none;stroke:#ffffff;stroke-linecap:round;\"/>\r\n     </g>\r\n     <g id=\"text_13\">\r\n      <!-- 80 -->\r\n      <g style=\"fill:#262626;\" transform=\"translate(7.2 42.432335)scale(0.11 -0.11)\">\r\n       <defs>\r\n        <path d=\"M 17.671875 38.8125 \r\nQ 12.203125 40.828125 9.5625 44.53125 \r\nQ 6.9375 48.25 6.9375 53.421875 \r\nQ 6.9375 61.234375 12.546875 66.546875 \r\nQ 18.171875 71.875 27.484375 71.875 \r\nQ 36.859375 71.875 42.578125 66.421875 \r\nQ 48.296875 60.984375 48.296875 53.171875 \r\nQ 48.296875 48.1875 45.671875 44.5 \r\nQ 43.0625 40.828125 37.75 38.8125 \r\nQ 44.34375 36.671875 47.78125 31.875 \r\nQ 51.21875 27.09375 51.21875 20.453125 \r\nQ 51.21875 11.28125 44.71875 5.03125 \r\nQ 38.234375 -1.21875 27.640625 -1.21875 \r\nQ 17.046875 -1.21875 10.546875 5.046875 \r\nQ 4.046875 11.328125 4.046875 20.703125 \r\nQ 4.046875 27.6875 7.59375 32.390625 \r\nQ 11.140625 37.109375 17.671875 38.8125 \r\nz\r\nM 15.921875 53.71875 \r\nQ 15.921875 48.640625 19.1875 45.40625 \r\nQ 22.46875 42.1875 27.6875 42.1875 \r\nQ 32.765625 42.1875 36.015625 45.375 \r\nQ 39.265625 48.578125 39.265625 53.21875 \r\nQ 39.265625 58.0625 35.90625 61.359375 \r\nQ 32.5625 64.65625 27.59375 64.65625 \r\nQ 22.5625 64.65625 19.234375 61.421875 \r\nQ 15.921875 58.203125 15.921875 53.71875 \r\nz\r\nM 13.09375 20.65625 \r\nQ 13.09375 16.890625 14.875 13.375 \r\nQ 16.65625 9.859375 20.171875 7.921875 \r\nQ 23.6875 6 27.734375 6 \r\nQ 34.03125 6 38.125 10.046875 \r\nQ 42.234375 14.109375 42.234375 20.359375 \r\nQ 42.234375 26.703125 38.015625 30.859375 \r\nQ 33.796875 35.015625 27.4375 35.015625 \r\nQ 21.234375 35.015625 17.15625 30.90625 \r\nQ 13.09375 26.8125 13.09375 20.65625 \r\nz\r\n\" id=\"ArialMT-56\"/>\r\n       </defs>\r\n       <use xlink:href=\"#ArialMT-56\"/>\r\n       <use x=\"55.615234\" xlink:href=\"#ArialMT-48\"/>\r\n      </g>\r\n     </g>\r\n    </g>\r\n   </g>\r\n   <g id=\"patch_3\">\r\n    <path clip-path=\"url(#p7fda0b80bd)\" d=\"M 44.152244 224.64 \r\nL 74.588608 224.64 \r\nL 74.588608 213.005971 \r\nL 44.152244 213.005971 \r\nz\r\n\" style=\"fill:#4c72b0;stroke:#ffffff;stroke-linejoin:miter;\"/>\r\n   </g>\r\n   <g id=\"patch_4\">\r\n    <path clip-path=\"url(#p7fda0b80bd)\" d=\"M 74.588608 224.64 \r\nL 105.024972 224.64 \r\nL 105.024972 187.411108 \r\nL 74.588608 187.411108 \r\nz\r\n\" style=\"fill:#4c72b0;stroke:#ffffff;stroke-linejoin:miter;\"/>\r\n   </g>\r\n   <g id=\"patch_5\">\r\n    <path clip-path=\"url(#p7fda0b80bd)\" d=\"M 105.024972 224.64 \r\nL 135.461335 224.64 \r\nL 135.461335 164.14305 \r\nL 105.024972 164.14305 \r\nz\r\n\" style=\"fill:#4c72b0;stroke:#ffffff;stroke-linejoin:miter;\"/>\r\n   </g>\r\n   <g id=\"patch_6\">\r\n    <path clip-path=\"url(#p7fda0b80bd)\" d=\"M 135.461335 224.64 \r\nL 165.897699 224.64 \r\nL 165.897699 133.894575 \r\nL 135.461335 133.894575 \r\nz\r\n\" style=\"fill:#4c72b0;stroke:#ffffff;stroke-linejoin:miter;\"/>\r\n   </g>\r\n   <g id=\"patch_7\">\r\n    <path clip-path=\"url(#p7fda0b80bd)\" d=\"M 165.897699 224.64 \r\nL 196.334063 224.64 \r\nL 196.334063 31.51512 \r\nL 165.897699 31.51512 \r\nz\r\n\" style=\"fill:#4c72b0;stroke:#ffffff;stroke-linejoin:miter;\"/>\r\n   </g>\r\n   <g id=\"patch_8\">\r\n    <path clip-path=\"url(#p7fda0b80bd)\" d=\"M 196.334063 224.64 \r\nL 226.770426 224.64 \r\nL 226.770426 17.554286 \r\nL 196.334063 17.554286 \r\nz\r\n\" style=\"fill:#4c72b0;stroke:#ffffff;stroke-linejoin:miter;\"/>\r\n   </g>\r\n   <g id=\"patch_9\">\r\n    <path clip-path=\"url(#p7fda0b80bd)\" d=\"M 226.770426 224.64 \r\nL 257.20679 224.64 \r\nL 257.20679 68.744013 \r\nL 226.770426 68.744013 \r\nz\r\n\" style=\"fill:#4c72b0;stroke:#ffffff;stroke-linejoin:miter;\"/>\r\n   </g>\r\n   <g id=\"patch_10\">\r\n    <path clip-path=\"url(#p7fda0b80bd)\" d=\"M 257.20679 224.64 \r\nL 287.643153 224.64 \r\nL 287.643153 154.835827 \r\nL 257.20679 154.835827 \r\nz\r\n\" style=\"fill:#4c72b0;stroke:#ffffff;stroke-linejoin:miter;\"/>\r\n   </g>\r\n   <g id=\"patch_11\">\r\n    <path clip-path=\"url(#p7fda0b80bd)\" d=\"M 287.643153 224.64 \r\nL 318.079517 224.64 \r\nL 318.079517 178.103884 \r\nL 287.643153 178.103884 \r\nz\r\n\" style=\"fill:#4c72b0;stroke:#ffffff;stroke-linejoin:miter;\"/>\r\n   </g>\r\n   <g id=\"patch_12\">\r\n    <path clip-path=\"url(#p7fda0b80bd)\" d=\"M 318.079517 224.64 \r\nL 348.515881 224.64 \r\nL 348.515881 210.679165 \r\nL 318.079517 210.679165 \r\nz\r\n\" style=\"fill:#4c72b0;stroke:#ffffff;stroke-linejoin:miter;\"/>\r\n   </g>\r\n   <g id=\"patch_13\">\r\n    <path d=\"M 28.934062 224.64 \r\nL 28.934062 7.2 \r\n\" style=\"fill:none;stroke:#ffffff;stroke-linecap:square;stroke-linejoin:miter;stroke-width:1.25;\"/>\r\n   </g>\r\n   <g id=\"patch_14\">\r\n    <path d=\"M 363.734062 224.64 \r\nL 363.734062 7.2 \r\n\" style=\"fill:none;stroke:#ffffff;stroke-linecap:square;stroke-linejoin:miter;stroke-width:1.25;\"/>\r\n   </g>\r\n   <g id=\"patch_15\">\r\n    <path d=\"M 28.934063 224.64 \r\nL 363.734062 224.64 \r\n\" style=\"fill:none;stroke:#ffffff;stroke-linecap:square;stroke-linejoin:miter;stroke-width:1.25;\"/>\r\n   </g>\r\n   <g id=\"patch_16\">\r\n    <path d=\"M 28.934063 7.2 \r\nL 363.734062 7.2 \r\n\" style=\"fill:none;stroke:#ffffff;stroke-linecap:square;stroke-linejoin:miter;stroke-width:1.25;\"/>\r\n   </g>\r\n  </g>\r\n </g>\r\n <defs>\r\n  <clipPath id=\"p7fda0b80bd\">\r\n   <rect height=\"217.44\" width=\"334.8\" x=\"28.934062\" y=\"7.2\"/>\r\n  </clipPath>\r\n </defs>\r\n</svg>\r\n",
      "image/png": "[encoded data removed]"
     },
     "metadata": {}
    }
   ],
   "source": [
    "results2.resid.hist();"
   ]
  },
  {
   "cell_type": "code",
   "execution_count": 24,
   "metadata": {},
   "outputs": [],
   "source": [
    "from scipy import stats\n",
    "import matplotlib.pylab as plt "
   ]
  },
  {
   "cell_type": "code",
   "execution_count": 25,
   "metadata": {},
   "outputs": [
    {
     "output_type": "display_data",
     "data": {
      "text/plain": "<Figure size 432x288 with 1 Axes>",
      "image/svg+xml": "<?xml version=\"1.0\" encoding=\"utf-8\" standalone=\"no\"?>\r\n<!DOCTYPE svg PUBLIC \"-//W3C//DTD SVG 1.1//EN\"\r\n  \"http://www.w3.org/Graphics/SVG/1.1/DTD/svg11.dtd\">\r\n<!-- Created with matplotlib (https://matplotlib.org/) -->\r\n<svg height=\"280.963594pt\" version=\"1.1\" viewBox=\"0 0 401.506094 280.963594\" width=\"401.506094pt\" xmlns=\"http://www.w3.org/2000/svg\" xmlns:xlink=\"http://www.w3.org/1999/xlink\">\r\n <metadata>\r\n  <rdf:RDF xmlns:cc=\"http://creativecommons.org/ns#\" xmlns:dc=\"http://purl.org/dc/elements/1.1/\" xmlns:rdf=\"http://www.w3.org/1999/02/22-rdf-syntax-ns#\">\r\n   <cc:Work>\r\n    <dc:type rdf:resource=\"http://purl.org/dc/dcmitype/StillImage\"/>\r\n    <dc:date>2021-06-10T20:27:13.958521</dc:date>\r\n    <dc:format>image/svg+xml</dc:format>\r\n    <dc:creator>\r\n     <cc:Agent>\r\n      <dc:title>Matplotlib v3.3.2, https://matplotlib.org/</dc:title>\r\n     </cc:Agent>\r\n    </dc:creator>\r\n   </cc:Work>\r\n  </rdf:RDF>\r\n </metadata>\r\n <defs>\r\n  <style type=\"text/css\">*{stroke-linecap:butt;stroke-linejoin:round;}</style>\r\n </defs>\r\n <g id=\"figure_1\">\r\n  <g id=\"patch_1\">\r\n   <path d=\"M 0 280.963594 \r\nL 401.506094 280.963594 \r\nL 401.506094 0 \r\nL 0 0 \r\nz\r\n\" style=\"fill:#ffffff;\"/>\r\n  </g>\r\n  <g id=\"axes_1\">\r\n   <g id=\"patch_2\">\r\n    <path d=\"M 59.506094 239.229375 \r\nL 394.306094 239.229375 \r\nL 394.306094 21.789375 \r\nL 59.506094 21.789375 \r\nz\r\n\" style=\"fill:#eaeaf2;\"/>\r\n   </g>\r\n   <g id=\"matplotlib.axis_1\">\r\n    <g id=\"xtick_1\">\r\n     <g id=\"line2d_1\">\r\n      <path clip-path=\"url(#p0d0aa6ce6e)\" d=\"M 69.920042 239.229375 \r\nL 69.920042 21.789375 \r\n\" style=\"fill:none;stroke:#ffffff;stroke-linecap:round;\"/>\r\n     </g>\r\n     <g id=\"text_1\">\r\n      <!-- −3 -->\r\n      <g style=\"fill:#262626;\" transform=\"translate(63.649182 256.602969)scale(0.11 -0.11)\">\r\n       <defs>\r\n        <path d=\"M 52.828125 31.203125 \r\nL 5.5625 31.203125 \r\nL 5.5625 39.40625 \r\nL 52.828125 39.40625 \r\nz\r\n\" id=\"ArialMT-8722\"/>\r\n        <path d=\"M 4.203125 18.890625 \r\nL 12.984375 20.0625 \r\nQ 14.5 12.59375 18.140625 9.296875 \r\nQ 21.78125 6 27 6 \r\nQ 33.203125 6 37.46875 10.296875 \r\nQ 41.75 14.59375 41.75 20.953125 \r\nQ 41.75 27 37.796875 30.921875 \r\nQ 33.84375 34.859375 27.734375 34.859375 \r\nQ 25.25 34.859375 21.53125 33.890625 \r\nL 22.515625 41.609375 \r\nQ 23.390625 41.5 23.921875 41.5 \r\nQ 29.546875 41.5 34.03125 44.421875 \r\nQ 38.53125 47.359375 38.53125 53.46875 \r\nQ 38.53125 58.296875 35.25 61.46875 \r\nQ 31.984375 64.65625 26.8125 64.65625 \r\nQ 21.6875 64.65625 18.265625 61.421875 \r\nQ 14.84375 58.203125 13.875 51.765625 \r\nL 5.078125 53.328125 \r\nQ 6.6875 62.15625 12.390625 67.015625 \r\nQ 18.109375 71.875 26.609375 71.875 \r\nQ 32.46875 71.875 37.390625 69.359375 \r\nQ 42.328125 66.84375 44.9375 62.5 \r\nQ 47.5625 58.15625 47.5625 53.265625 \r\nQ 47.5625 48.640625 45.0625 44.828125 \r\nQ 42.578125 41.015625 37.703125 38.765625 \r\nQ 44.046875 37.3125 47.5625 32.6875 \r\nQ 51.078125 28.078125 51.078125 21.140625 \r\nQ 51.078125 11.765625 44.234375 5.25 \r\nQ 37.40625 -1.265625 26.953125 -1.265625 \r\nQ 17.53125 -1.265625 11.296875 4.34375 \r\nQ 5.078125 9.96875 4.203125 18.890625 \r\nz\r\n\" id=\"ArialMT-51\"/>\r\n       </defs>\r\n       <use xlink:href=\"#ArialMT-8722\"/>\r\n       <use x=\"58.398438\" xlink:href=\"#ArialMT-51\"/>\r\n      </g>\r\n     </g>\r\n    </g>\r\n    <g id=\"xtick_2\">\r\n     <g id=\"line2d_2\">\r\n      <path clip-path=\"url(#p0d0aa6ce6e)\" d=\"M 122.248726 239.229375 \r\nL 122.248726 21.789375 \r\n\" style=\"fill:none;stroke:#ffffff;stroke-linecap:round;\"/>\r\n     </g>\r\n     <g id=\"text_2\">\r\n      <!-- −2 -->\r\n      <g style=\"fill:#262626;\" transform=\"translate(115.977866 256.602969)scale(0.11 -0.11)\">\r\n       <defs>\r\n        <path d=\"M 50.34375 8.453125 \r\nL 50.34375 0 \r\nL 3.03125 0 \r\nQ 2.9375 3.171875 4.046875 6.109375 \r\nQ 5.859375 10.9375 9.828125 15.625 \r\nQ 13.8125 20.3125 21.34375 26.46875 \r\nQ 33.015625 36.03125 37.109375 41.625 \r\nQ 41.21875 47.21875 41.21875 52.203125 \r\nQ 41.21875 57.421875 37.46875 61 \r\nQ 33.734375 64.59375 27.734375 64.59375 \r\nQ 21.390625 64.59375 17.578125 60.78125 \r\nQ 13.765625 56.984375 13.71875 50.25 \r\nL 4.6875 51.171875 \r\nQ 5.609375 61.28125 11.65625 66.578125 \r\nQ 17.71875 71.875 27.9375 71.875 \r\nQ 38.234375 71.875 44.234375 66.15625 \r\nQ 50.25 60.453125 50.25 52 \r\nQ 50.25 47.703125 48.484375 43.546875 \r\nQ 46.734375 39.40625 42.65625 34.8125 \r\nQ 38.578125 30.21875 29.109375 22.21875 \r\nQ 21.1875 15.578125 18.9375 13.203125 \r\nQ 16.703125 10.84375 15.234375 8.453125 \r\nz\r\n\" id=\"ArialMT-50\"/>\r\n       </defs>\r\n       <use xlink:href=\"#ArialMT-8722\"/>\r\n       <use x=\"58.398438\" xlink:href=\"#ArialMT-50\"/>\r\n      </g>\r\n     </g>\r\n    </g>\r\n    <g id=\"xtick_3\">\r\n     <g id=\"line2d_3\">\r\n      <path clip-path=\"url(#p0d0aa6ce6e)\" d=\"M 174.57741 239.229375 \r\nL 174.57741 21.789375 \r\n\" style=\"fill:none;stroke:#ffffff;stroke-linecap:round;\"/>\r\n     </g>\r\n     <g id=\"text_3\">\r\n      <!-- −1 -->\r\n      <g style=\"fill:#262626;\" transform=\"translate(168.30655 256.602969)scale(0.11 -0.11)\">\r\n       <defs>\r\n        <path d=\"M 37.25 0 \r\nL 28.46875 0 \r\nL 28.46875 56 \r\nQ 25.296875 52.984375 20.140625 49.953125 \r\nQ 14.984375 46.921875 10.890625 45.40625 \r\nL 10.890625 53.90625 \r\nQ 18.265625 57.375 23.78125 62.296875 \r\nQ 29.296875 67.234375 31.59375 71.875 \r\nL 37.25 71.875 \r\nz\r\n\" id=\"ArialMT-49\"/>\r\n       </defs>\r\n       <use xlink:href=\"#ArialMT-8722\"/>\r\n       <use x=\"58.398438\" xlink:href=\"#ArialMT-49\"/>\r\n      </g>\r\n     </g>\r\n    </g>\r\n    <g id=\"xtick_4\">\r\n     <g id=\"line2d_4\">\r\n      <path clip-path=\"url(#p0d0aa6ce6e)\" d=\"M 226.906094 239.229375 \r\nL 226.906094 21.789375 \r\n\" style=\"fill:none;stroke:#ffffff;stroke-linecap:round;\"/>\r\n     </g>\r\n     <g id=\"text_4\">\r\n      <!-- 0 -->\r\n      <g style=\"fill:#262626;\" transform=\"translate(223.847578 256.602969)scale(0.11 -0.11)\">\r\n       <defs>\r\n        <path d=\"M 4.15625 35.296875 \r\nQ 4.15625 48 6.765625 55.734375 \r\nQ 9.375 63.484375 14.515625 67.671875 \r\nQ 19.671875 71.875 27.484375 71.875 \r\nQ 33.25 71.875 37.59375 69.546875 \r\nQ 41.9375 67.234375 44.765625 62.859375 \r\nQ 47.609375 58.5 49.21875 52.21875 \r\nQ 50.828125 45.953125 50.828125 35.296875 \r\nQ 50.828125 22.703125 48.234375 14.96875 \r\nQ 45.65625 7.234375 40.5 3 \r\nQ 35.359375 -1.21875 27.484375 -1.21875 \r\nQ 17.140625 -1.21875 11.234375 6.203125 \r\nQ 4.15625 15.140625 4.15625 35.296875 \r\nz\r\nM 13.1875 35.296875 \r\nQ 13.1875 17.671875 17.3125 11.828125 \r\nQ 21.4375 6 27.484375 6 \r\nQ 33.546875 6 37.671875 11.859375 \r\nQ 41.796875 17.71875 41.796875 35.296875 \r\nQ 41.796875 52.984375 37.671875 58.78125 \r\nQ 33.546875 64.59375 27.390625 64.59375 \r\nQ 21.34375 64.59375 17.71875 59.46875 \r\nQ 13.1875 52.9375 13.1875 35.296875 \r\nz\r\n\" id=\"ArialMT-48\"/>\r\n       </defs>\r\n       <use xlink:href=\"#ArialMT-48\"/>\r\n      </g>\r\n     </g>\r\n    </g>\r\n    <g id=\"xtick_5\">\r\n     <g id=\"line2d_5\">\r\n      <path clip-path=\"url(#p0d0aa6ce6e)\" d=\"M 279.234778 239.229375 \r\nL 279.234778 21.789375 \r\n\" style=\"fill:none;stroke:#ffffff;stroke-linecap:round;\"/>\r\n     </g>\r\n     <g id=\"text_5\">\r\n      <!-- 1 -->\r\n      <g style=\"fill:#262626;\" transform=\"translate(276.176262 256.602969)scale(0.11 -0.11)\">\r\n       <use xlink:href=\"#ArialMT-49\"/>\r\n      </g>\r\n     </g>\r\n    </g>\r\n    <g id=\"xtick_6\">\r\n     <g id=\"line2d_6\">\r\n      <path clip-path=\"url(#p0d0aa6ce6e)\" d=\"M 331.563462 239.229375 \r\nL 331.563462 21.789375 \r\n\" style=\"fill:none;stroke:#ffffff;stroke-linecap:round;\"/>\r\n     </g>\r\n     <g id=\"text_6\">\r\n      <!-- 2 -->\r\n      <g style=\"fill:#262626;\" transform=\"translate(328.504946 256.602969)scale(0.11 -0.11)\">\r\n       <use xlink:href=\"#ArialMT-50\"/>\r\n      </g>\r\n     </g>\r\n    </g>\r\n    <g id=\"xtick_7\">\r\n     <g id=\"line2d_7\">\r\n      <path clip-path=\"url(#p0d0aa6ce6e)\" d=\"M 383.892146 239.229375 \r\nL 383.892146 21.789375 \r\n\" style=\"fill:none;stroke:#ffffff;stroke-linecap:round;\"/>\r\n     </g>\r\n     <g id=\"text_7\">\r\n      <!-- 3 -->\r\n      <g style=\"fill:#262626;\" transform=\"translate(380.83363 256.602969)scale(0.11 -0.11)\">\r\n       <use xlink:href=\"#ArialMT-51\"/>\r\n      </g>\r\n     </g>\r\n    </g>\r\n    <g id=\"text_8\">\r\n     <!-- Theoretical quantiles -->\r\n     <g style=\"fill:#262626;\" transform=\"translate(171.544844 271.378594)scale(0.12 -0.12)\">\r\n      <defs>\r\n       <path d=\"M 25.921875 0 \r\nL 25.921875 63.140625 \r\nL 2.34375 63.140625 \r\nL 2.34375 71.578125 \r\nL 59.078125 71.578125 \r\nL 59.078125 63.140625 \r\nL 35.40625 63.140625 \r\nL 35.40625 0 \r\nz\r\n\" id=\"ArialMT-84\"/>\r\n       <path d=\"M 6.59375 0 \r\nL 6.59375 71.578125 \r\nL 15.375 71.578125 \r\nL 15.375 45.90625 \r\nQ 21.53125 53.03125 30.90625 53.03125 \r\nQ 36.671875 53.03125 40.921875 50.75 \r\nQ 45.171875 48.484375 47 44.484375 \r\nQ 48.828125 40.484375 48.828125 32.859375 \r\nL 48.828125 0 \r\nL 40.046875 0 \r\nL 40.046875 32.859375 \r\nQ 40.046875 39.453125 37.1875 42.453125 \r\nQ 34.328125 45.453125 29.109375 45.453125 \r\nQ 25.203125 45.453125 21.75 43.421875 \r\nQ 18.3125 41.40625 16.84375 37.9375 \r\nQ 15.375 34.46875 15.375 28.375 \r\nL 15.375 0 \r\nz\r\n\" id=\"ArialMT-104\"/>\r\n       <path d=\"M 42.09375 16.703125 \r\nL 51.171875 15.578125 \r\nQ 49.03125 7.625 43.21875 3.21875 \r\nQ 37.40625 -1.171875 28.375 -1.171875 \r\nQ 17 -1.171875 10.328125 5.828125 \r\nQ 3.65625 12.84375 3.65625 25.484375 \r\nQ 3.65625 38.578125 10.390625 45.796875 \r\nQ 17.140625 53.03125 27.875 53.03125 \r\nQ 38.28125 53.03125 44.875 45.953125 \r\nQ 51.46875 38.875 51.46875 26.03125 \r\nQ 51.46875 25.25 51.421875 23.6875 \r\nL 12.75 23.6875 \r\nQ 13.234375 15.140625 17.578125 10.59375 \r\nQ 21.921875 6.0625 28.421875 6.0625 \r\nQ 33.25 6.0625 36.671875 8.59375 \r\nQ 40.09375 11.140625 42.09375 16.703125 \r\nz\r\nM 13.234375 30.90625 \r\nL 42.1875 30.90625 \r\nQ 41.609375 37.453125 38.875 40.71875 \r\nQ 34.671875 45.796875 27.984375 45.796875 \r\nQ 21.921875 45.796875 17.796875 41.75 \r\nQ 13.671875 37.703125 13.234375 30.90625 \r\nz\r\n\" id=\"ArialMT-101\"/>\r\n       <path d=\"M 3.328125 25.921875 \r\nQ 3.328125 40.328125 11.328125 47.265625 \r\nQ 18.015625 53.03125 27.640625 53.03125 \r\nQ 38.328125 53.03125 45.109375 46.015625 \r\nQ 51.90625 39.015625 51.90625 26.65625 \r\nQ 51.90625 16.65625 48.90625 10.90625 \r\nQ 45.90625 5.171875 40.15625 2 \r\nQ 34.421875 -1.171875 27.640625 -1.171875 \r\nQ 16.75 -1.171875 10.03125 5.8125 \r\nQ 3.328125 12.796875 3.328125 25.921875 \r\nz\r\nM 12.359375 25.921875 \r\nQ 12.359375 15.96875 16.703125 11.015625 \r\nQ 21.046875 6.0625 27.640625 6.0625 \r\nQ 34.1875 6.0625 38.53125 11.03125 \r\nQ 42.875 16.015625 42.875 26.21875 \r\nQ 42.875 35.84375 38.5 40.796875 \r\nQ 34.125 45.75 27.640625 45.75 \r\nQ 21.046875 45.75 16.703125 40.8125 \r\nQ 12.359375 35.890625 12.359375 25.921875 \r\nz\r\n\" id=\"ArialMT-111\"/>\r\n       <path d=\"M 6.5 0 \r\nL 6.5 51.859375 \r\nL 14.40625 51.859375 \r\nL 14.40625 44 \r\nQ 17.4375 49.515625 20 51.265625 \r\nQ 22.5625 53.03125 25.640625 53.03125 \r\nQ 30.078125 53.03125 34.671875 50.203125 \r\nL 31.640625 42.046875 \r\nQ 28.421875 43.953125 25.203125 43.953125 \r\nQ 22.3125 43.953125 20.015625 42.21875 \r\nQ 17.71875 40.484375 16.75 37.40625 \r\nQ 15.28125 32.71875 15.28125 27.15625 \r\nL 15.28125 0 \r\nz\r\n\" id=\"ArialMT-114\"/>\r\n       <path d=\"M 25.78125 7.859375 \r\nL 27.046875 0.09375 \r\nQ 23.34375 -0.6875 20.40625 -0.6875 \r\nQ 15.625 -0.6875 12.984375 0.828125 \r\nQ 10.359375 2.34375 9.28125 4.8125 \r\nQ 8.203125 7.28125 8.203125 15.1875 \r\nL 8.203125 45.015625 \r\nL 1.765625 45.015625 \r\nL 1.765625 51.859375 \r\nL 8.203125 51.859375 \r\nL 8.203125 64.703125 \r\nL 16.9375 69.96875 \r\nL 16.9375 51.859375 \r\nL 25.78125 51.859375 \r\nL 25.78125 45.015625 \r\nL 16.9375 45.015625 \r\nL 16.9375 14.703125 \r\nQ 16.9375 10.9375 17.40625 9.859375 \r\nQ 17.875 8.796875 18.921875 8.15625 \r\nQ 19.96875 7.515625 21.921875 7.515625 \r\nQ 23.390625 7.515625 25.78125 7.859375 \r\nz\r\n\" id=\"ArialMT-116\"/>\r\n       <path d=\"M 6.640625 61.46875 \r\nL 6.640625 71.578125 \r\nL 15.4375 71.578125 \r\nL 15.4375 61.46875 \r\nz\r\nM 6.640625 0 \r\nL 6.640625 51.859375 \r\nL 15.4375 51.859375 \r\nL 15.4375 0 \r\nz\r\n\" id=\"ArialMT-105\"/>\r\n       <path d=\"M 40.4375 19 \r\nL 49.078125 17.875 \r\nQ 47.65625 8.9375 41.8125 3.875 \r\nQ 35.984375 -1.171875 27.484375 -1.171875 \r\nQ 16.84375 -1.171875 10.375 5.78125 \r\nQ 3.90625 12.75 3.90625 25.734375 \r\nQ 3.90625 34.125 6.6875 40.421875 \r\nQ 9.46875 46.734375 15.15625 49.875 \r\nQ 20.84375 53.03125 27.546875 53.03125 \r\nQ 35.984375 53.03125 41.359375 48.75 \r\nQ 46.734375 44.484375 48.25 36.625 \r\nL 39.703125 35.296875 \r\nQ 38.484375 40.53125 35.375 43.15625 \r\nQ 32.28125 45.796875 27.875 45.796875 \r\nQ 21.234375 45.796875 17.078125 41.03125 \r\nQ 12.9375 36.28125 12.9375 25.984375 \r\nQ 12.9375 15.53125 16.9375 10.796875 \r\nQ 20.953125 6.0625 27.390625 6.0625 \r\nQ 32.5625 6.0625 36.03125 9.234375 \r\nQ 39.5 12.40625 40.4375 19 \r\nz\r\n\" id=\"ArialMT-99\"/>\r\n       <path d=\"M 40.4375 6.390625 \r\nQ 35.546875 2.25 31.03125 0.53125 \r\nQ 26.515625 -1.171875 21.34375 -1.171875 \r\nQ 12.796875 -1.171875 8.203125 3 \r\nQ 3.609375 7.171875 3.609375 13.671875 \r\nQ 3.609375 17.484375 5.34375 20.625 \r\nQ 7.078125 23.78125 9.890625 25.6875 \r\nQ 12.703125 27.59375 16.21875 28.5625 \r\nQ 18.796875 29.25 24.03125 29.890625 \r\nQ 34.671875 31.15625 39.703125 32.90625 \r\nQ 39.75 34.71875 39.75 35.203125 \r\nQ 39.75 40.578125 37.25 42.78125 \r\nQ 33.890625 45.75 27.25 45.75 \r\nQ 21.046875 45.75 18.09375 43.578125 \r\nQ 15.140625 41.40625 13.71875 35.890625 \r\nL 5.125 37.0625 \r\nQ 6.296875 42.578125 8.984375 45.96875 \r\nQ 11.671875 49.359375 16.75 51.1875 \r\nQ 21.828125 53.03125 28.515625 53.03125 \r\nQ 35.15625 53.03125 39.296875 51.46875 \r\nQ 43.453125 49.90625 45.40625 47.53125 \r\nQ 47.359375 45.171875 48.140625 41.546875 \r\nQ 48.578125 39.3125 48.578125 33.453125 \r\nL 48.578125 21.734375 \r\nQ 48.578125 9.46875 49.140625 6.21875 \r\nQ 49.703125 2.984375 51.375 0 \r\nL 42.1875 0 \r\nQ 40.828125 2.734375 40.4375 6.390625 \r\nz\r\nM 39.703125 26.03125 \r\nQ 34.90625 24.078125 25.34375 22.703125 \r\nQ 19.921875 21.921875 17.671875 20.9375 \r\nQ 15.4375 19.96875 14.203125 18.09375 \r\nQ 12.984375 16.21875 12.984375 13.921875 \r\nQ 12.984375 10.40625 15.640625 8.0625 \r\nQ 18.3125 5.71875 23.4375 5.71875 \r\nQ 28.515625 5.71875 32.46875 7.9375 \r\nQ 36.421875 10.15625 38.28125 14.015625 \r\nQ 39.703125 17 39.703125 22.796875 \r\nz\r\n\" id=\"ArialMT-97\"/>\r\n       <path d=\"M 6.390625 0 \r\nL 6.390625 71.578125 \r\nL 15.1875 71.578125 \r\nL 15.1875 0 \r\nz\r\n\" id=\"ArialMT-108\"/>\r\n       <path id=\"ArialMT-32\"/>\r\n       <path d=\"M 39.65625 -19.875 \r\nL 39.65625 5.515625 \r\nQ 37.59375 2.640625 33.90625 0.734375 \r\nQ 30.21875 -1.171875 26.078125 -1.171875 \r\nQ 16.84375 -1.171875 10.171875 6.203125 \r\nQ 3.515625 13.578125 3.515625 26.421875 \r\nQ 3.515625 34.234375 6.21875 40.421875 \r\nQ 8.9375 46.625 14.078125 49.828125 \r\nQ 19.234375 53.03125 25.390625 53.03125 \r\nQ 35.015625 53.03125 40.53125 44.921875 \r\nL 40.53125 51.859375 \r\nL 48.4375 51.859375 \r\nL 48.4375 -19.875 \r\nz\r\nM 12.546875 26.078125 \r\nQ 12.546875 16.0625 16.75 11.0625 \r\nQ 20.953125 6.0625 26.8125 6.0625 \r\nQ 32.421875 6.0625 36.46875 10.8125 \r\nQ 40.53125 15.578125 40.53125 25.296875 \r\nQ 40.53125 35.640625 36.25 40.859375 \r\nQ 31.984375 46.09375 26.21875 46.09375 \r\nQ 20.515625 46.09375 16.53125 41.234375 \r\nQ 12.546875 36.375 12.546875 26.078125 \r\nz\r\n\" id=\"ArialMT-113\"/>\r\n       <path d=\"M 40.578125 0 \r\nL 40.578125 7.625 \r\nQ 34.515625 -1.171875 24.125 -1.171875 \r\nQ 19.53125 -1.171875 15.546875 0.578125 \r\nQ 11.578125 2.34375 9.640625 5 \r\nQ 7.71875 7.671875 6.9375 11.53125 \r\nQ 6.390625 14.109375 6.390625 19.734375 \r\nL 6.390625 51.859375 \r\nL 15.1875 51.859375 \r\nL 15.1875 23.09375 \r\nQ 15.1875 16.21875 15.71875 13.8125 \r\nQ 16.546875 10.359375 19.234375 8.375 \r\nQ 21.921875 6.390625 25.875 6.390625 \r\nQ 29.828125 6.390625 33.296875 8.421875 \r\nQ 36.765625 10.453125 38.203125 13.9375 \r\nQ 39.65625 17.4375 39.65625 24.078125 \r\nL 39.65625 51.859375 \r\nL 48.4375 51.859375 \r\nL 48.4375 0 \r\nz\r\n\" id=\"ArialMT-117\"/>\r\n       <path d=\"M 6.59375 0 \r\nL 6.59375 51.859375 \r\nL 14.5 51.859375 \r\nL 14.5 44.484375 \r\nQ 20.21875 53.03125 31 53.03125 \r\nQ 35.6875 53.03125 39.625 51.34375 \r\nQ 43.5625 49.65625 45.515625 46.921875 \r\nQ 47.46875 44.1875 48.25 40.4375 \r\nQ 48.734375 37.984375 48.734375 31.890625 \r\nL 48.734375 0 \r\nL 39.9375 0 \r\nL 39.9375 31.546875 \r\nQ 39.9375 36.921875 38.90625 39.578125 \r\nQ 37.890625 42.234375 35.28125 43.8125 \r\nQ 32.671875 45.40625 29.15625 45.40625 \r\nQ 23.53125 45.40625 19.453125 41.84375 \r\nQ 15.375 38.28125 15.375 28.328125 \r\nL 15.375 0 \r\nz\r\n\" id=\"ArialMT-110\"/>\r\n       <path d=\"M 3.078125 15.484375 \r\nL 11.765625 16.84375 \r\nQ 12.5 11.625 15.84375 8.84375 \r\nQ 19.1875 6.0625 25.203125 6.0625 \r\nQ 31.25 6.0625 34.171875 8.515625 \r\nQ 37.109375 10.984375 37.109375 14.3125 \r\nQ 37.109375 17.28125 34.515625 19 \r\nQ 32.71875 20.171875 25.53125 21.96875 \r\nQ 15.875 24.421875 12.140625 26.203125 \r\nQ 8.40625 27.984375 6.46875 31.125 \r\nQ 4.546875 34.28125 4.546875 38.09375 \r\nQ 4.546875 41.546875 6.125 44.5 \r\nQ 7.71875 47.46875 10.453125 49.421875 \r\nQ 12.5 50.921875 16.03125 51.96875 \r\nQ 19.578125 53.03125 23.640625 53.03125 \r\nQ 29.734375 53.03125 34.34375 51.265625 \r\nQ 38.96875 49.515625 41.15625 46.5 \r\nQ 43.359375 43.5 44.1875 38.484375 \r\nL 35.59375 37.3125 \r\nQ 35.015625 41.3125 32.203125 43.546875 \r\nQ 29.390625 45.796875 24.265625 45.796875 \r\nQ 18.21875 45.796875 15.625 43.796875 \r\nQ 13.03125 41.796875 13.03125 39.109375 \r\nQ 13.03125 37.40625 14.109375 36.03125 \r\nQ 15.1875 34.625 17.484375 33.6875 \r\nQ 18.796875 33.203125 25.25 31.453125 \r\nQ 34.578125 28.953125 38.25 27.359375 \r\nQ 41.9375 25.78125 44.03125 22.75 \r\nQ 46.140625 19.734375 46.140625 15.234375 \r\nQ 46.140625 10.84375 43.578125 6.953125 \r\nQ 41.015625 3.078125 36.171875 0.953125 \r\nQ 31.34375 -1.171875 25.25 -1.171875 \r\nQ 15.140625 -1.171875 9.84375 3.03125 \r\nQ 4.546875 7.234375 3.078125 15.484375 \r\nz\r\n\" id=\"ArialMT-115\"/>\r\n      </defs>\r\n      <use xlink:href=\"#ArialMT-84\"/>\r\n      <use x=\"61.083984\" xlink:href=\"#ArialMT-104\"/>\r\n      <use x=\"116.699219\" xlink:href=\"#ArialMT-101\"/>\r\n      <use x=\"172.314453\" xlink:href=\"#ArialMT-111\"/>\r\n      <use x=\"227.929688\" xlink:href=\"#ArialMT-114\"/>\r\n      <use x=\"261.230469\" xlink:href=\"#ArialMT-101\"/>\r\n      <use x=\"316.845703\" xlink:href=\"#ArialMT-116\"/>\r\n      <use x=\"344.628906\" xlink:href=\"#ArialMT-105\"/>\r\n      <use x=\"366.845703\" xlink:href=\"#ArialMT-99\"/>\r\n      <use x=\"416.845703\" xlink:href=\"#ArialMT-97\"/>\r\n      <use x=\"472.460938\" xlink:href=\"#ArialMT-108\"/>\r\n      <use x=\"494.677734\" xlink:href=\"#ArialMT-32\"/>\r\n      <use x=\"522.460938\" xlink:href=\"#ArialMT-113\"/>\r\n      <use x=\"578.076172\" xlink:href=\"#ArialMT-117\"/>\r\n      <use x=\"633.691406\" xlink:href=\"#ArialMT-97\"/>\r\n      <use x=\"689.306641\" xlink:href=\"#ArialMT-110\"/>\r\n      <use x=\"744.921875\" xlink:href=\"#ArialMT-116\"/>\r\n      <use x=\"772.705078\" xlink:href=\"#ArialMT-105\"/>\r\n      <use x=\"794.921875\" xlink:href=\"#ArialMT-108\"/>\r\n      <use x=\"817.138672\" xlink:href=\"#ArialMT-101\"/>\r\n      <use x=\"872.753906\" xlink:href=\"#ArialMT-115\"/>\r\n     </g>\r\n    </g>\r\n   </g>\r\n   <g id=\"matplotlib.axis_2\">\r\n    <g id=\"ytick_1\">\r\n     <g id=\"line2d_8\">\r\n      <path clip-path=\"url(#p0d0aa6ce6e)\" d=\"M 59.506094 221.862511 \r\nL 394.306094 221.862511 \r\n\" style=\"fill:none;stroke:#ffffff;stroke-linecap:round;\"/>\r\n     </g>\r\n     <g id=\"text_9\">\r\n      <!-- −0.20 -->\r\n      <g style=\"fill:#262626;\" transform=\"translate(22.174375 225.799308)scale(0.11 -0.11)\">\r\n       <defs>\r\n        <path d=\"M 9.078125 0 \r\nL 9.078125 10.015625 \r\nL 19.09375 10.015625 \r\nL 19.09375 0 \r\nz\r\n\" id=\"ArialMT-46\"/>\r\n       </defs>\r\n       <use xlink:href=\"#ArialMT-8722\"/>\r\n       <use x=\"58.398438\" xlink:href=\"#ArialMT-48\"/>\r\n       <use x=\"114.013672\" xlink:href=\"#ArialMT-46\"/>\r\n       <use x=\"141.796875\" xlink:href=\"#ArialMT-50\"/>\r\n       <use x=\"197.412109\" xlink:href=\"#ArialMT-48\"/>\r\n      </g>\r\n     </g>\r\n    </g>\r\n    <g id=\"ytick_2\">\r\n     <g id=\"line2d_9\">\r\n      <path clip-path=\"url(#p0d0aa6ce6e)\" d=\"M 59.506094 196.603699 \r\nL 394.306094 196.603699 \r\n\" style=\"fill:none;stroke:#ffffff;stroke-linecap:round;\"/>\r\n     </g>\r\n     <g id=\"text_10\">\r\n      <!-- −0.15 -->\r\n      <g style=\"fill:#262626;\" transform=\"translate(22.174375 200.540496)scale(0.11 -0.11)\">\r\n       <defs>\r\n        <path d=\"M 4.15625 18.75 \r\nL 13.375 19.53125 \r\nQ 14.40625 12.796875 18.140625 9.390625 \r\nQ 21.875 6 27.15625 6 \r\nQ 33.5 6 37.890625 10.78125 \r\nQ 42.28125 15.578125 42.28125 23.484375 \r\nQ 42.28125 31 38.0625 35.34375 \r\nQ 33.84375 39.703125 27 39.703125 \r\nQ 22.75 39.703125 19.328125 37.765625 \r\nQ 15.921875 35.84375 13.96875 32.765625 \r\nL 5.71875 33.84375 \r\nL 12.640625 70.609375 \r\nL 48.25 70.609375 \r\nL 48.25 62.203125 \r\nL 19.671875 62.203125 \r\nL 15.828125 42.96875 \r\nQ 22.265625 47.46875 29.34375 47.46875 \r\nQ 38.71875 47.46875 45.15625 40.96875 \r\nQ 51.609375 34.46875 51.609375 24.265625 \r\nQ 51.609375 14.546875 45.953125 7.46875 \r\nQ 39.0625 -1.21875 27.15625 -1.21875 \r\nQ 17.390625 -1.21875 11.203125 4.25 \r\nQ 5.03125 9.71875 4.15625 18.75 \r\nz\r\n\" id=\"ArialMT-53\"/>\r\n       </defs>\r\n       <use xlink:href=\"#ArialMT-8722\"/>\r\n       <use x=\"58.398438\" xlink:href=\"#ArialMT-48\"/>\r\n       <use x=\"114.013672\" xlink:href=\"#ArialMT-46\"/>\r\n       <use x=\"141.796875\" xlink:href=\"#ArialMT-49\"/>\r\n       <use x=\"197.412109\" xlink:href=\"#ArialMT-53\"/>\r\n      </g>\r\n     </g>\r\n    </g>\r\n    <g id=\"ytick_3\">\r\n     <g id=\"line2d_10\">\r\n      <path clip-path=\"url(#p0d0aa6ce6e)\" d=\"M 59.506094 171.344888 \r\nL 394.306094 171.344888 \r\n\" style=\"fill:none;stroke:#ffffff;stroke-linecap:round;\"/>\r\n     </g>\r\n     <g id=\"text_11\">\r\n      <!-- −0.10 -->\r\n      <g style=\"fill:#262626;\" transform=\"translate(22.174375 175.281684)scale(0.11 -0.11)\">\r\n       <use xlink:href=\"#ArialMT-8722\"/>\r\n       <use x=\"58.398438\" xlink:href=\"#ArialMT-48\"/>\r\n       <use x=\"114.013672\" xlink:href=\"#ArialMT-46\"/>\r\n       <use x=\"141.796875\" xlink:href=\"#ArialMT-49\"/>\r\n       <use x=\"197.412109\" xlink:href=\"#ArialMT-48\"/>\r\n      </g>\r\n     </g>\r\n    </g>\r\n    <g id=\"ytick_4\">\r\n     <g id=\"line2d_11\">\r\n      <path clip-path=\"url(#p0d0aa6ce6e)\" d=\"M 59.506094 146.086076 \r\nL 394.306094 146.086076 \r\n\" style=\"fill:none;stroke:#ffffff;stroke-linecap:round;\"/>\r\n     </g>\r\n     <g id=\"text_12\">\r\n      <!-- −0.05 -->\r\n      <g style=\"fill:#262626;\" transform=\"translate(22.174375 150.022873)scale(0.11 -0.11)\">\r\n       <use xlink:href=\"#ArialMT-8722\"/>\r\n       <use x=\"58.398438\" xlink:href=\"#ArialMT-48\"/>\r\n       <use x=\"114.013672\" xlink:href=\"#ArialMT-46\"/>\r\n       <use x=\"141.796875\" xlink:href=\"#ArialMT-48\"/>\r\n       <use x=\"197.412109\" xlink:href=\"#ArialMT-53\"/>\r\n      </g>\r\n     </g>\r\n    </g>\r\n    <g id=\"ytick_5\">\r\n     <g id=\"line2d_12\">\r\n      <path clip-path=\"url(#p0d0aa6ce6e)\" d=\"M 59.506094 120.827264 \r\nL 394.306094 120.827264 \r\n\" style=\"fill:none;stroke:#ffffff;stroke-linecap:round;\"/>\r\n     </g>\r\n     <g id=\"text_13\">\r\n      <!-- 0.00 -->\r\n      <g style=\"fill:#262626;\" transform=\"translate(28.599063 124.764061)scale(0.11 -0.11)\">\r\n       <use xlink:href=\"#ArialMT-48\"/>\r\n       <use x=\"55.615234\" xlink:href=\"#ArialMT-46\"/>\r\n       <use x=\"83.398438\" xlink:href=\"#ArialMT-48\"/>\r\n       <use x=\"139.013672\" xlink:href=\"#ArialMT-48\"/>\r\n      </g>\r\n     </g>\r\n    </g>\r\n    <g id=\"ytick_6\">\r\n     <g id=\"line2d_13\">\r\n      <path clip-path=\"url(#p0d0aa6ce6e)\" d=\"M 59.506094 95.568453 \r\nL 394.306094 95.568453 \r\n\" style=\"fill:none;stroke:#ffffff;stroke-linecap:round;\"/>\r\n     </g>\r\n     <g id=\"text_14\">\r\n      <!-- 0.05 -->\r\n      <g style=\"fill:#262626;\" transform=\"translate(28.599063 99.505249)scale(0.11 -0.11)\">\r\n       <use xlink:href=\"#ArialMT-48\"/>\r\n       <use x=\"55.615234\" xlink:href=\"#ArialMT-46\"/>\r\n       <use x=\"83.398438\" xlink:href=\"#ArialMT-48\"/>\r\n       <use x=\"139.013672\" xlink:href=\"#ArialMT-53\"/>\r\n      </g>\r\n     </g>\r\n    </g>\r\n    <g id=\"ytick_7\">\r\n     <g id=\"line2d_14\">\r\n      <path clip-path=\"url(#p0d0aa6ce6e)\" d=\"M 59.506094 70.309641 \r\nL 394.306094 70.309641 \r\n\" style=\"fill:none;stroke:#ffffff;stroke-linecap:round;\"/>\r\n     </g>\r\n     <g id=\"text_15\">\r\n      <!-- 0.10 -->\r\n      <g style=\"fill:#262626;\" transform=\"translate(28.599063 74.246438)scale(0.11 -0.11)\">\r\n       <use xlink:href=\"#ArialMT-48\"/>\r\n       <use x=\"55.615234\" xlink:href=\"#ArialMT-46\"/>\r\n       <use x=\"83.398438\" xlink:href=\"#ArialMT-49\"/>\r\n       <use x=\"139.013672\" xlink:href=\"#ArialMT-48\"/>\r\n      </g>\r\n     </g>\r\n    </g>\r\n    <g id=\"ytick_8\">\r\n     <g id=\"line2d_15\">\r\n      <path clip-path=\"url(#p0d0aa6ce6e)\" d=\"M 59.506094 45.050829 \r\nL 394.306094 45.050829 \r\n\" style=\"fill:none;stroke:#ffffff;stroke-linecap:round;\"/>\r\n     </g>\r\n     <g id=\"text_16\">\r\n      <!-- 0.15 -->\r\n      <g style=\"fill:#262626;\" transform=\"translate(28.599063 48.987626)scale(0.11 -0.11)\">\r\n       <use xlink:href=\"#ArialMT-48\"/>\r\n       <use x=\"55.615234\" xlink:href=\"#ArialMT-46\"/>\r\n       <use x=\"83.398438\" xlink:href=\"#ArialMT-49\"/>\r\n       <use x=\"139.013672\" xlink:href=\"#ArialMT-53\"/>\r\n      </g>\r\n     </g>\r\n    </g>\r\n    <g id=\"text_17\">\r\n     <!-- Ordered Values -->\r\n     <g style=\"fill:#262626;\" transform=\"translate(15.789375 172.0875)rotate(-90)scale(0.12 -0.12)\">\r\n      <defs>\r\n       <path d=\"M 4.828125 34.859375 \r\nQ 4.828125 52.6875 14.390625 62.765625 \r\nQ 23.96875 72.859375 39.109375 72.859375 \r\nQ 49.03125 72.859375 56.984375 68.109375 \r\nQ 64.9375 63.375 69.109375 54.90625 \r\nQ 73.296875 46.4375 73.296875 35.6875 \r\nQ 73.296875 24.8125 68.890625 16.21875 \r\nQ 64.5 7.625 56.4375 3.203125 \r\nQ 48.390625 -1.21875 39.0625 -1.21875 \r\nQ 28.953125 -1.21875 20.984375 3.65625 \r\nQ 13.03125 8.546875 8.921875 16.984375 \r\nQ 4.828125 25.4375 4.828125 34.859375 \r\nz\r\nM 14.59375 34.71875 \r\nQ 14.59375 21.78125 21.546875 14.328125 \r\nQ 28.515625 6.890625 39.015625 6.890625 \r\nQ 49.703125 6.890625 56.609375 14.40625 \r\nQ 63.53125 21.921875 63.53125 35.75 \r\nQ 63.53125 44.484375 60.578125 51 \r\nQ 57.625 57.515625 51.921875 61.109375 \r\nQ 46.234375 64.703125 39.15625 64.703125 \r\nQ 29.109375 64.703125 21.84375 57.78125 \r\nQ 14.59375 50.875 14.59375 34.71875 \r\nz\r\n\" id=\"ArialMT-79\"/>\r\n       <path d=\"M 40.234375 0 \r\nL 40.234375 6.546875 \r\nQ 35.296875 -1.171875 25.734375 -1.171875 \r\nQ 19.53125 -1.171875 14.328125 2.25 \r\nQ 9.125 5.671875 6.265625 11.796875 \r\nQ 3.421875 17.921875 3.421875 25.875 \r\nQ 3.421875 33.640625 6 39.96875 \r\nQ 8.59375 46.296875 13.765625 49.65625 \r\nQ 18.953125 53.03125 25.34375 53.03125 \r\nQ 30.03125 53.03125 33.6875 51.046875 \r\nQ 37.359375 49.078125 39.65625 45.90625 \r\nL 39.65625 71.578125 \r\nL 48.390625 71.578125 \r\nL 48.390625 0 \r\nz\r\nM 12.453125 25.875 \r\nQ 12.453125 15.921875 16.640625 10.984375 \r\nQ 20.84375 6.0625 26.5625 6.0625 \r\nQ 32.328125 6.0625 36.34375 10.765625 \r\nQ 40.375 15.484375 40.375 25.140625 \r\nQ 40.375 35.796875 36.265625 40.765625 \r\nQ 32.171875 45.75 26.171875 45.75 \r\nQ 20.3125 45.75 16.375 40.96875 \r\nQ 12.453125 36.1875 12.453125 25.875 \r\nz\r\n\" id=\"ArialMT-100\"/>\r\n       <path d=\"M 28.171875 0 \r\nL 0.4375 71.578125 \r\nL 10.6875 71.578125 \r\nL 29.296875 19.578125 \r\nQ 31.546875 13.328125 33.0625 7.859375 \r\nQ 34.71875 13.71875 36.921875 19.578125 \r\nL 56.25 71.578125 \r\nL 65.921875 71.578125 \r\nL 37.890625 0 \r\nz\r\n\" id=\"ArialMT-86\"/>\r\n      </defs>\r\n      <use xlink:href=\"#ArialMT-79\"/>\r\n      <use x=\"77.783203\" xlink:href=\"#ArialMT-114\"/>\r\n      <use x=\"111.083984\" xlink:href=\"#ArialMT-100\"/>\r\n      <use x=\"166.699219\" xlink:href=\"#ArialMT-101\"/>\r\n      <use x=\"222.314453\" xlink:href=\"#ArialMT-114\"/>\r\n      <use x=\"255.615234\" xlink:href=\"#ArialMT-101\"/>\r\n      <use x=\"311.230469\" xlink:href=\"#ArialMT-100\"/>\r\n      <use x=\"366.845703\" xlink:href=\"#ArialMT-32\"/>\r\n      <use x=\"394.628906\" xlink:href=\"#ArialMT-86\"/>\r\n      <use x=\"453.953125\" xlink:href=\"#ArialMT-97\"/>\r\n      <use x=\"509.568359\" xlink:href=\"#ArialMT-108\"/>\r\n      <use x=\"531.785156\" xlink:href=\"#ArialMT-117\"/>\r\n      <use x=\"587.400391\" xlink:href=\"#ArialMT-101\"/>\r\n      <use x=\"643.015625\" xlink:href=\"#ArialMT-115\"/>\r\n     </g>\r\n    </g>\r\n   </g>\r\n   <g id=\"line2d_16\">\r\n    <defs>\r\n     <path d=\"M 0 3 \r\nC 0.795609 3 1.55874 2.683901 2.12132 2.12132 \r\nC 2.683901 1.55874 3 0.795609 3 0 \r\nC 3 -0.795609 2.683901 -1.55874 2.12132 -2.12132 \r\nC 1.55874 -2.683901 0.795609 -3 0 -3 \r\nC -0.795609 -3 -1.55874 -2.683901 -2.12132 -2.12132 \r\nC -2.683901 -1.55874 -3 -0.795609 -3 0 \r\nC -3 0.795609 -2.683901 1.55874 -2.12132 2.12132 \r\nC -1.55874 2.683901 -0.795609 3 0 3 \r\nz\r\n\" id=\"m7403277aaa\" style=\"stroke:#4c72b0;\"/>\r\n    </defs>\r\n    <g clip-path=\"url(#p0d0aa6ce6e)\">\r\n     <use style=\"fill:#4c72b0;stroke:#4c72b0;\" x=\"74.724276\" xlink:href=\"#m7403277aaa\" y=\"229.345739\"/>\r\n     <use style=\"fill:#4c72b0;stroke:#4c72b0;\" x=\"89.86693\" xlink:href=\"#m7403277aaa\" y=\"209.64104\"/>\r\n     <use style=\"fill:#4c72b0;stroke:#4c72b0;\" x=\"98.41169\" xlink:href=\"#m7403277aaa\" y=\"208.543126\"/>\r\n     <use style=\"fill:#4c72b0;stroke:#4c72b0;\" x=\"104.485805\" xlink:href=\"#m7403277aaa\" y=\"208.42924\"/>\r\n     <use style=\"fill:#4c72b0;stroke:#4c72b0;\" x=\"109.25507\" xlink:href=\"#m7403277aaa\" y=\"208.08719\"/>\r\n     <use style=\"fill:#4c72b0;stroke:#4c72b0;\" x=\"113.210133\" xlink:href=\"#m7403277aaa\" y=\"198.831575\"/>\r\n     <use style=\"fill:#4c72b0;stroke:#4c72b0;\" x=\"116.605803\" xlink:href=\"#m7403277aaa\" y=\"194.753112\"/>\r\n     <use style=\"fill:#4c72b0;stroke:#4c72b0;\" x=\"119.592071\" xlink:href=\"#m7403277aaa\" y=\"194.668478\"/>\r\n     <use style=\"fill:#4c72b0;stroke:#4c72b0;\" x=\"122.264975\" xlink:href=\"#m7403277aaa\" y=\"194.452795\"/>\r\n     <use style=\"fill:#4c72b0;stroke:#4c72b0;\" x=\"124.689854\" xlink:href=\"#m7403277aaa\" y=\"193.49061\"/>\r\n     <use style=\"fill:#4c72b0;stroke:#4c72b0;\" x=\"126.913252\" xlink:href=\"#m7403277aaa\" y=\"190.043595\"/>\r\n     <use style=\"fill:#4c72b0;stroke:#4c72b0;\" x=\"128.969544\" xlink:href=\"#m7403277aaa\" y=\"188.243642\"/>\r\n     <use style=\"fill:#4c72b0;stroke:#4c72b0;\" x=\"130.884864\" xlink:href=\"#m7403277aaa\" y=\"186.453441\"/>\r\n     <use style=\"fill:#4c72b0;stroke:#4c72b0;\" x=\"132.679567\" xlink:href=\"#m7403277aaa\" y=\"185.196397\"/>\r\n     <use style=\"fill:#4c72b0;stroke:#4c72b0;\" x=\"134.369824\" xlink:href=\"#m7403277aaa\" y=\"182.836765\"/>\r\n     <use style=\"fill:#4c72b0;stroke:#4c72b0;\" x=\"135.968708\" xlink:href=\"#m7403277aaa\" y=\"182.183476\"/>\r\n     <use style=\"fill:#4c72b0;stroke:#4c72b0;\" x=\"137.48694\" xlink:href=\"#m7403277aaa\" y=\"181.529801\"/>\r\n     <use style=\"fill:#4c72b0;stroke:#4c72b0;\" x=\"138.93343\" xlink:href=\"#m7403277aaa\" y=\"180.933846\"/>\r\n     <use style=\"fill:#4c72b0;stroke:#4c72b0;\" x=\"140.315664\" xlink:href=\"#m7403277aaa\" y=\"179.658863\"/>\r\n     <use style=\"fill:#4c72b0;stroke:#4c72b0;\" x=\"141.639993\" xlink:href=\"#m7403277aaa\" y=\"177.658829\"/>\r\n     <use style=\"fill:#4c72b0;stroke:#4c72b0;\" x=\"142.911859\" xlink:href=\"#m7403277aaa\" y=\"176.810531\"/>\r\n     <use style=\"fill:#4c72b0;stroke:#4c72b0;\" x=\"144.135956\" xlink:href=\"#m7403277aaa\" y=\"176.720047\"/>\r\n     <use style=\"fill:#4c72b0;stroke:#4c72b0;\" x=\"145.316367\" xlink:href=\"#m7403277aaa\" y=\"176.219257\"/>\r\n     <use style=\"fill:#4c72b0;stroke:#4c72b0;\" x=\"146.456663\" xlink:href=\"#m7403277aaa\" y=\"175.574552\"/>\r\n     <use style=\"fill:#4c72b0;stroke:#4c72b0;\" x=\"147.559988\" xlink:href=\"#m7403277aaa\" y=\"174.911124\"/>\r\n     <use style=\"fill:#4c72b0;stroke:#4c72b0;\" x=\"148.629126\" xlink:href=\"#m7403277aaa\" y=\"173.537856\"/>\r\n     <use style=\"fill:#4c72b0;stroke:#4c72b0;\" x=\"149.666552\" xlink:href=\"#m7403277aaa\" y=\"171.417695\"/>\r\n     <use style=\"fill:#4c72b0;stroke:#4c72b0;\" x=\"150.674479\" xlink:href=\"#m7403277aaa\" y=\"170.7882\"/>\r\n     <use style=\"fill:#4c72b0;stroke:#4c72b0;\" x=\"151.654891\" xlink:href=\"#m7403277aaa\" y=\"170.567837\"/>\r\n     <use style=\"fill:#4c72b0;stroke:#4c72b0;\" x=\"152.609578\" xlink:href=\"#m7403277aaa\" y=\"170.507382\"/>\r\n     <use style=\"fill:#4c72b0;stroke:#4c72b0;\" x=\"153.540156\" xlink:href=\"#m7403277aaa\" y=\"170.356835\"/>\r\n     <use style=\"fill:#4c72b0;stroke:#4c72b0;\" x=\"154.448094\" xlink:href=\"#m7403277aaa\" y=\"169.682486\"/>\r\n     <use style=\"fill:#4c72b0;stroke:#4c72b0;\" x=\"155.334729\" xlink:href=\"#m7403277aaa\" y=\"169.044799\"/>\r\n     <use style=\"fill:#4c72b0;stroke:#4c72b0;\" x=\"156.201279\" xlink:href=\"#m7403277aaa\" y=\"166.689847\"/>\r\n     <use style=\"fill:#4c72b0;stroke:#4c72b0;\" x=\"157.048863\" xlink:href=\"#m7403277aaa\" y=\"166.087652\"/>\r\n     <use style=\"fill:#4c72b0;stroke:#4c72b0;\" x=\"157.878506\" xlink:href=\"#m7403277aaa\" y=\"165.873529\"/>\r\n     <use style=\"fill:#4c72b0;stroke:#4c72b0;\" x=\"158.691151\" xlink:href=\"#m7403277aaa\" y=\"165.650437\"/>\r\n     <use style=\"fill:#4c72b0;stroke:#4c72b0;\" x=\"159.48767\" xlink:href=\"#m7403277aaa\" y=\"164.772887\"/>\r\n     <use style=\"fill:#4c72b0;stroke:#4c72b0;\" x=\"160.268868\" xlink:href=\"#m7403277aaa\" y=\"163.182377\"/>\r\n     <use style=\"fill:#4c72b0;stroke:#4c72b0;\" x=\"161.03549\" xlink:href=\"#m7403277aaa\" y=\"163.111\"/>\r\n     <use style=\"fill:#4c72b0;stroke:#4c72b0;\" x=\"161.78823\" xlink:href=\"#m7403277aaa\" y=\"161.781417\"/>\r\n     <use style=\"fill:#4c72b0;stroke:#4c72b0;\" x=\"162.527732\" xlink:href=\"#m7403277aaa\" y=\"160.522035\"/>\r\n     <use style=\"fill:#4c72b0;stroke:#4c72b0;\" x=\"163.254595\" xlink:href=\"#m7403277aaa\" y=\"160.180377\"/>\r\n     <use style=\"fill:#4c72b0;stroke:#4c72b0;\" x=\"163.96938\" xlink:href=\"#m7403277aaa\" y=\"159.941683\"/>\r\n     <use style=\"fill:#4c72b0;stroke:#4c72b0;\" x=\"164.672612\" xlink:href=\"#m7403277aaa\" y=\"159.394871\"/>\r\n     <use style=\"fill:#4c72b0;stroke:#4c72b0;\" x=\"165.36478\" xlink:href=\"#m7403277aaa\" y=\"158.728323\"/>\r\n     <use style=\"fill:#4c72b0;stroke:#4c72b0;\" x=\"166.046345\" xlink:href=\"#m7403277aaa\" y=\"158.571144\"/>\r\n     <use style=\"fill:#4c72b0;stroke:#4c72b0;\" x=\"166.717739\" xlink:href=\"#m7403277aaa\" y=\"158.49899\"/>\r\n     <use style=\"fill:#4c72b0;stroke:#4c72b0;\" x=\"167.379369\" xlink:href=\"#m7403277aaa\" y=\"158.471299\"/>\r\n     <use style=\"fill:#4c72b0;stroke:#4c72b0;\" x=\"168.031617\" xlink:href=\"#m7403277aaa\" y=\"158.220124\"/>\r\n     <use style=\"fill:#4c72b0;stroke:#4c72b0;\" x=\"168.674844\" xlink:href=\"#m7403277aaa\" y=\"158.172541\"/>\r\n     <use style=\"fill:#4c72b0;stroke:#4c72b0;\" x=\"169.309391\" xlink:href=\"#m7403277aaa\" y=\"157.580099\"/>\r\n     <use style=\"fill:#4c72b0;stroke:#4c72b0;\" x=\"169.935579\" xlink:href=\"#m7403277aaa\" y=\"156.894829\"/>\r\n     <use style=\"fill:#4c72b0;stroke:#4c72b0;\" x=\"170.553715\" xlink:href=\"#m7403277aaa\" y=\"156.620643\"/>\r\n     <use style=\"fill:#4c72b0;stroke:#4c72b0;\" x=\"171.164085\" xlink:href=\"#m7403277aaa\" y=\"155.935374\"/>\r\n     <use style=\"fill:#4c72b0;stroke:#4c72b0;\" x=\"171.766965\" xlink:href=\"#m7403277aaa\" y=\"155.780146\"/>\r\n     <use style=\"fill:#4c72b0;stroke:#4c72b0;\" x=\"172.362613\" xlink:href=\"#m7403277aaa\" y=\"155.552373\"/>\r\n     <use style=\"fill:#4c72b0;stroke:#4c72b0;\" x=\"172.951276\" xlink:href=\"#m7403277aaa\" y=\"155.230605\"/>\r\n     <use style=\"fill:#4c72b0;stroke:#4c72b0;\" x=\"173.53319\" xlink:href=\"#m7403277aaa\" y=\"155.191601\"/>\r\n     <use style=\"fill:#4c72b0;stroke:#4c72b0;\" x=\"174.108577\" xlink:href=\"#m7403277aaa\" y=\"155.138169\"/>\r\n     <use style=\"fill:#4c72b0;stroke:#4c72b0;\" x=\"174.67765\" xlink:href=\"#m7403277aaa\" y=\"154.901036\"/>\r\n     <use style=\"fill:#4c72b0;stroke:#4c72b0;\" x=\"175.240613\" xlink:href=\"#m7403277aaa\" y=\"154.80548\"/>\r\n     <use style=\"fill:#4c72b0;stroke:#4c72b0;\" x=\"175.797659\" xlink:href=\"#m7403277aaa\" y=\"154.711484\"/>\r\n     <use style=\"fill:#4c72b0;stroke:#4c72b0;\" x=\"176.348972\" xlink:href=\"#m7403277aaa\" y=\"154.394005\"/>\r\n     <use style=\"fill:#4c72b0;stroke:#4c72b0;\" x=\"176.894731\" xlink:href=\"#m7403277aaa\" y=\"153.862795\"/>\r\n     <use style=\"fill:#4c72b0;stroke:#4c72b0;\" x=\"177.435102\" xlink:href=\"#m7403277aaa\" y=\"153.533617\"/>\r\n     <use style=\"fill:#4c72b0;stroke:#4c72b0;\" x=\"177.970249\" xlink:href=\"#m7403277aaa\" y=\"153.339777\"/>\r\n     <use style=\"fill:#4c72b0;stroke:#4c72b0;\" x=\"178.500327\" xlink:href=\"#m7403277aaa\" y=\"152.353021\"/>\r\n     <use style=\"fill:#4c72b0;stroke:#4c72b0;\" x=\"179.025483\" xlink:href=\"#m7403277aaa\" y=\"151.504723\"/>\r\n     <use style=\"fill:#4c72b0;stroke:#4c72b0;\" x=\"179.545861\" xlink:href=\"#m7403277aaa\" y=\"150.146665\"/>\r\n     <use style=\"fill:#4c72b0;stroke:#4c72b0;\" x=\"180.061597\" xlink:href=\"#m7403277aaa\" y=\"150.063199\"/>\r\n     <use style=\"fill:#4c72b0;stroke:#4c72b0;\" x=\"180.572823\" xlink:href=\"#m7403277aaa\" y=\"149.911091\"/>\r\n     <use style=\"fill:#4c72b0;stroke:#4c72b0;\" x=\"181.079664\" xlink:href=\"#m7403277aaa\" y=\"149.872479\"/>\r\n     <use style=\"fill:#4c72b0;stroke:#4c72b0;\" x=\"181.582242\" xlink:href=\"#m7403277aaa\" y=\"149.832697\"/>\r\n     <use style=\"fill:#4c72b0;stroke:#4c72b0;\" x=\"182.080673\" xlink:href=\"#m7403277aaa\" y=\"149.393531\"/>\r\n     <use style=\"fill:#4c72b0;stroke:#4c72b0;\" x=\"182.575071\" xlink:href=\"#m7403277aaa\" y=\"148.207086\"/>\r\n     <use style=\"fill:#4c72b0;stroke:#4c72b0;\" x=\"183.065542\" xlink:href=\"#m7403277aaa\" y=\"147.977361\"/>\r\n     <use style=\"fill:#4c72b0;stroke:#4c72b0;\" x=\"183.552193\" xlink:href=\"#m7403277aaa\" y=\"146.582643\"/>\r\n     <use style=\"fill:#4c72b0;stroke:#4c72b0;\" x=\"184.035122\" xlink:href=\"#m7403277aaa\" y=\"145.611097\"/>\r\n     <use style=\"fill:#4c72b0;stroke:#4c72b0;\" x=\"184.514427\" xlink:href=\"#m7403277aaa\" y=\"145.597056\"/>\r\n     <use style=\"fill:#4c72b0;stroke:#4c72b0;\" x=\"184.990202\" xlink:href=\"#m7403277aaa\" y=\"145.49253\"/>\r\n     <use style=\"fill:#4c72b0;stroke:#4c72b0;\" x=\"185.462536\" xlink:href=\"#m7403277aaa\" y=\"145.118108\"/>\r\n     <use style=\"fill:#4c72b0;stroke:#4c72b0;\" x=\"185.931518\" xlink:href=\"#m7403277aaa\" y=\"144.996812\"/>\r\n     <use style=\"fill:#4c72b0;stroke:#4c72b0;\" x=\"186.397232\" xlink:href=\"#m7403277aaa\" y=\"144.721457\"/>\r\n     <use style=\"fill:#4c72b0;stroke:#4c72b0;\" x=\"186.859759\" xlink:href=\"#m7403277aaa\" y=\"144.24251\"/>\r\n     <use style=\"fill:#4c72b0;stroke:#4c72b0;\" x=\"187.319178\" xlink:href=\"#m7403277aaa\" y=\"143.360279\"/>\r\n     <use style=\"fill:#4c72b0;stroke:#4c72b0;\" x=\"187.775566\" xlink:href=\"#m7403277aaa\" y=\"143.339997\"/>\r\n     <use style=\"fill:#4c72b0;stroke:#4c72b0;\" x=\"188.228997\" xlink:href=\"#m7403277aaa\" y=\"143.171119\"/>\r\n     <use style=\"fill:#4c72b0;stroke:#4c72b0;\" x=\"188.679542\" xlink:href=\"#m7403277aaa\" y=\"142.564244\"/>\r\n     <use style=\"fill:#4c72b0;stroke:#4c72b0;\" x=\"189.127272\" xlink:href=\"#m7403277aaa\" y=\"142.399263\"/>\r\n     <use style=\"fill:#4c72b0;stroke:#4c72b0;\" x=\"189.572252\" xlink:href=\"#m7403277aaa\" y=\"141.430838\"/>\r\n     <use style=\"fill:#4c72b0;stroke:#4c72b0;\" x=\"190.014549\" xlink:href=\"#m7403277aaa\" y=\"141.050567\"/>\r\n     <use style=\"fill:#4c72b0;stroke:#4c72b0;\" x=\"190.454226\" xlink:href=\"#m7403277aaa\" y=\"140.544319\"/>\r\n     <use style=\"fill:#4c72b0;stroke:#4c72b0;\" x=\"190.891344\" xlink:href=\"#m7403277aaa\" y=\"139.494379\"/>\r\n     <use style=\"fill:#4c72b0;stroke:#4c72b0;\" x=\"191.325964\" xlink:href=\"#m7403277aaa\" y=\"139.411305\"/>\r\n     <use style=\"fill:#4c72b0;stroke:#4c72b0;\" x=\"191.758143\" xlink:href=\"#m7403277aaa\" y=\"139.187821\"/>\r\n     <use style=\"fill:#4c72b0;stroke:#4c72b0;\" x=\"192.187938\" xlink:href=\"#m7403277aaa\" y=\"139.036882\"/>\r\n     <use style=\"fill:#4c72b0;stroke:#4c72b0;\" x=\"192.615403\" xlink:href=\"#m7403277aaa\" y=\"138.647641\"/>\r\n     <use style=\"fill:#4c72b0;stroke:#4c72b0;\" x=\"193.040593\" xlink:href=\"#m7403277aaa\" y=\"138.417917\"/>\r\n     <use style=\"fill:#4c72b0;stroke:#4c72b0;\" x=\"193.463558\" xlink:href=\"#m7403277aaa\" y=\"137.817282\"/>\r\n     <use style=\"fill:#4c72b0;stroke:#4c72b0;\" x=\"193.884349\" xlink:href=\"#m7403277aaa\" y=\"137.24005\"/>\r\n     <use style=\"fill:#4c72b0;stroke:#4c72b0;\" x=\"194.303016\" xlink:href=\"#m7403277aaa\" y=\"137.114074\"/>\r\n     <use style=\"fill:#4c72b0;stroke:#4c72b0;\" x=\"194.719606\" xlink:href=\"#m7403277aaa\" y=\"137.106273\"/>\r\n     <use style=\"fill:#4c72b0;stroke:#4c72b0;\" x=\"195.134166\" xlink:href=\"#m7403277aaa\" y=\"136.830526\"/>\r\n     <use style=\"fill:#4c72b0;stroke:#4c72b0;\" x=\"195.546742\" xlink:href=\"#m7403277aaa\" y=\"136.561412\"/>\r\n     <use style=\"fill:#4c72b0;stroke:#4c72b0;\" x=\"195.957377\" xlink:href=\"#m7403277aaa\" y=\"136.432316\"/>\r\n     <use style=\"fill:#4c72b0;stroke:#4c72b0;\" x=\"196.366116\" xlink:href=\"#m7403277aaa\" y=\"135.596108\"/>\r\n     <use style=\"fill:#4c72b0;stroke:#4c72b0;\" x=\"196.772999\" xlink:href=\"#m7403277aaa\" y=\"135.137442\"/>\r\n     <use style=\"fill:#4c72b0;stroke:#4c72b0;\" x=\"197.178069\" xlink:href=\"#m7403277aaa\" y=\"134.943602\"/>\r\n     <use style=\"fill:#4c72b0;stroke:#4c72b0;\" x=\"197.581365\" xlink:href=\"#m7403277aaa\" y=\"133.299268\"/>\r\n     <use style=\"fill:#4c72b0;stroke:#4c72b0;\" x=\"197.982927\" xlink:href=\"#m7403277aaa\" y=\"132.961898\"/>\r\n     <use style=\"fill:#4c72b0;stroke:#4c72b0;\" x=\"198.382793\" xlink:href=\"#m7403277aaa\" y=\"132.355414\"/>\r\n     <use style=\"fill:#4c72b0;stroke:#4c72b0;\" x=\"198.781\" xlink:href=\"#m7403277aaa\" y=\"132.054705\"/>\r\n     <use style=\"fill:#4c72b0;stroke:#4c72b0;\" x=\"199.177585\" xlink:href=\"#m7403277aaa\" y=\"131.742689\"/>\r\n     <use style=\"fill:#4c72b0;stroke:#4c72b0;\" x=\"199.572584\" xlink:href=\"#m7403277aaa\" y=\"131.437299\"/>\r\n     <use style=\"fill:#4c72b0;stroke:#4c72b0;\" x=\"199.966032\" xlink:href=\"#m7403277aaa\" y=\"131.158824\"/>\r\n     <use style=\"fill:#4c72b0;stroke:#4c72b0;\" x=\"200.357962\" xlink:href=\"#m7403277aaa\" y=\"131.117091\"/>\r\n     <use style=\"fill:#4c72b0;stroke:#4c72b0;\" x=\"200.748409\" xlink:href=\"#m7403277aaa\" y=\"130.674027\"/>\r\n     <use style=\"fill:#4c72b0;stroke:#4c72b0;\" x=\"201.137405\" xlink:href=\"#m7403277aaa\" y=\"130.395161\"/>\r\n     <use style=\"fill:#4c72b0;stroke:#4c72b0;\" x=\"201.524982\" xlink:href=\"#m7403277aaa\" y=\"129.422055\"/>\r\n     <use style=\"fill:#4c72b0;stroke:#4c72b0;\" x=\"201.911171\" xlink:href=\"#m7403277aaa\" y=\"129.360823\"/>\r\n     <use style=\"fill:#4c72b0;stroke:#4c72b0;\" x=\"202.296004\" xlink:href=\"#m7403277aaa\" y=\"128.133813\"/>\r\n     <use style=\"fill:#4c72b0;stroke:#4c72b0;\" x=\"202.679511\" xlink:href=\"#m7403277aaa\" y=\"127.856507\"/>\r\n     <use style=\"fill:#4c72b0;stroke:#4c72b0;\" x=\"203.061721\" xlink:href=\"#m7403277aaa\" y=\"127.704008\"/>\r\n     <use style=\"fill:#4c72b0;stroke:#4c72b0;\" x=\"203.442663\" xlink:href=\"#m7403277aaa\" y=\"127.573351\"/>\r\n     <use style=\"fill:#4c72b0;stroke:#4c72b0;\" x=\"203.822365\" xlink:href=\"#m7403277aaa\" y=\"127.402522\"/>\r\n     <use style=\"fill:#4c72b0;stroke:#4c72b0;\" x=\"204.200856\" xlink:href=\"#m7403277aaa\" y=\"127.106493\"/>\r\n     <use style=\"fill:#4c72b0;stroke:#4c72b0;\" x=\"204.578163\" xlink:href=\"#m7403277aaa\" y=\"127.01757\"/>\r\n     <use style=\"fill:#4c72b0;stroke:#4c72b0;\" x=\"204.954313\" xlink:href=\"#m7403277aaa\" y=\"127.015618\"/>\r\n     <use style=\"fill:#4c72b0;stroke:#4c72b0;\" x=\"205.329331\" xlink:href=\"#m7403277aaa\" y=\"126.85883\"/>\r\n     <use style=\"fill:#4c72b0;stroke:#4c72b0;\" x=\"205.703245\" xlink:href=\"#m7403277aaa\" y=\"126.496889\"/>\r\n     <use style=\"fill:#4c72b0;stroke:#4c72b0;\" x=\"206.076079\" xlink:href=\"#m7403277aaa\" y=\"125.496483\"/>\r\n     <use style=\"fill:#4c72b0;stroke:#4c72b0;\" x=\"206.447859\" xlink:href=\"#m7403277aaa\" y=\"125.476201\"/>\r\n     <use style=\"fill:#4c72b0;stroke:#4c72b0;\" x=\"206.818609\" xlink:href=\"#m7403277aaa\" y=\"125.060829\"/>\r\n     <use style=\"fill:#4c72b0;stroke:#4c72b0;\" x=\"207.188354\" xlink:href=\"#m7403277aaa\" y=\"124.820575\"/>\r\n     <use style=\"fill:#4c72b0;stroke:#4c72b0;\" x=\"207.557116\" xlink:href=\"#m7403277aaa\" y=\"124.663004\"/>\r\n     <use style=\"fill:#4c72b0;stroke:#4c72b0;\" x=\"207.92492\" xlink:href=\"#m7403277aaa\" y=\"124.640384\"/>\r\n     <use style=\"fill:#4c72b0;stroke:#4c72b0;\" x=\"208.291789\" xlink:href=\"#m7403277aaa\" y=\"124.486717\"/>\r\n     <use style=\"fill:#4c72b0;stroke:#4c72b0;\" x=\"208.657745\" xlink:href=\"#m7403277aaa\" y=\"124.414172\"/>\r\n     <use style=\"fill:#4c72b0;stroke:#4c72b0;\" x=\"209.022811\" xlink:href=\"#m7403277aaa\" y=\"123.962916\"/>\r\n     <use style=\"fill:#4c72b0;stroke:#4c72b0;\" x=\"209.387009\" xlink:href=\"#m7403277aaa\" y=\"123.864239\"/>\r\n     <use style=\"fill:#4c72b0;stroke:#4c72b0;\" x=\"209.75036\" xlink:href=\"#m7403277aaa\" y=\"123.600974\"/>\r\n     <use style=\"fill:#4c72b0;stroke:#4c72b0;\" x=\"210.112885\" xlink:href=\"#m7403277aaa\" y=\"123.437554\"/>\r\n     <use style=\"fill:#4c72b0;stroke:#4c72b0;\" x=\"210.474607\" xlink:href=\"#m7403277aaa\" y=\"123.270237\"/>\r\n     <use style=\"fill:#4c72b0;stroke:#4c72b0;\" x=\"210.835545\" xlink:href=\"#m7403277aaa\" y=\"123.231624\"/>\r\n     <use style=\"fill:#4c72b0;stroke:#4c72b0;\" x=\"211.19572\" xlink:href=\"#m7403277aaa\" y=\"122.808451\"/>\r\n     <use style=\"fill:#4c72b0;stroke:#4c72b0;\" x=\"211.555152\" xlink:href=\"#m7403277aaa\" y=\"122.743707\"/>\r\n     <use style=\"fill:#4c72b0;stroke:#4c72b0;\" x=\"211.913861\" xlink:href=\"#m7403277aaa\" y=\"122.722256\"/>\r\n     <use style=\"fill:#4c72b0;stroke:#4c72b0;\" x=\"212.271868\" xlink:href=\"#m7403277aaa\" y=\"122.706654\"/>\r\n     <use style=\"fill:#4c72b0;stroke:#4c72b0;\" x=\"212.62919\" xlink:href=\"#m7403277aaa\" y=\"122.566637\"/>\r\n     <use style=\"fill:#4c72b0;stroke:#4c72b0;\" x=\"212.985849\" xlink:href=\"#m7403277aaa\" y=\"122.418427\"/>\r\n     <use style=\"fill:#4c72b0;stroke:#4c72b0;\" x=\"213.341861\" xlink:href=\"#m7403277aaa\" y=\"122.335744\"/>\r\n     <use style=\"fill:#4c72b0;stroke:#4c72b0;\" x=\"213.697247\" xlink:href=\"#m7403277aaa\" y=\"122.132542\"/>\r\n     <use style=\"fill:#4c72b0;stroke:#4c72b0;\" x=\"214.052025\" xlink:href=\"#m7403277aaa\" y=\"122.012415\"/>\r\n     <use style=\"fill:#4c72b0;stroke:#4c72b0;\" x=\"214.406213\" xlink:href=\"#m7403277aaa\" y=\"121.864205\"/>\r\n     <use style=\"fill:#4c72b0;stroke:#4c72b0;\" x=\"214.759829\" xlink:href=\"#m7403277aaa\" y=\"121.861476\"/>\r\n     <use style=\"fill:#4c72b0;stroke:#4c72b0;\" x=\"215.112891\" xlink:href=\"#m7403277aaa\" y=\"121.790492\"/>\r\n     <use style=\"fill:#4c72b0;stroke:#4c72b0;\" x=\"215.465418\" xlink:href=\"#m7403277aaa\" y=\"121.696888\"/>\r\n     <use style=\"fill:#4c72b0;stroke:#4c72b0;\" x=\"215.817425\" xlink:href=\"#m7403277aaa\" y=\"121.446881\"/>\r\n     <use style=\"fill:#4c72b0;stroke:#4c72b0;\" x=\"216.168932\" xlink:href=\"#m7403277aaa\" y=\"121.276443\"/>\r\n     <use style=\"fill:#4c72b0;stroke:#4c72b0;\" x=\"216.519955\" xlink:href=\"#m7403277aaa\" y=\"121.247191\"/>\r\n     <use style=\"fill:#4c72b0;stroke:#4c72b0;\" x=\"216.870511\" xlink:href=\"#m7403277aaa\" y=\"121.105614\"/>\r\n     <use style=\"fill:#4c72b0;stroke:#4c72b0;\" x=\"217.220618\" xlink:href=\"#m7403277aaa\" y=\"121.020979\"/>\r\n     <use style=\"fill:#4c72b0;stroke:#4c72b0;\" x=\"217.570291\" xlink:href=\"#m7403277aaa\" y=\"120.846638\"/>\r\n     <use style=\"fill:#4c72b0;stroke:#4c72b0;\" x=\"217.919548\" xlink:href=\"#m7403277aaa\" y=\"120.492497\"/>\r\n     <use style=\"fill:#4c72b0;stroke:#4c72b0;\" x=\"218.268405\" xlink:href=\"#m7403277aaa\" y=\"120.252635\"/>\r\n     <use style=\"fill:#4c72b0;stroke:#4c72b0;\" x=\"218.616879\" xlink:href=\"#m7403277aaa\" y=\"120.194132\"/>\r\n     <use style=\"fill:#4c72b0;stroke:#4c72b0;\" x=\"218.964985\" xlink:href=\"#m7403277aaa\" y=\"120.045922\"/>\r\n     <use style=\"fill:#4c72b0;stroke:#4c72b0;\" x=\"219.312741\" xlink:href=\"#m7403277aaa\" y=\"120.031103\"/>\r\n     <use style=\"fill:#4c72b0;stroke:#4c72b0;\" x=\"219.660161\" xlink:href=\"#m7403277aaa\" y=\"120.006532\"/>\r\n     <use style=\"fill:#4c72b0;stroke:#4c72b0;\" x=\"220.007262\" xlink:href=\"#m7403277aaa\" y=\"119.881333\"/>\r\n     <use style=\"fill:#4c72b0;stroke:#4c72b0;\" x=\"220.35406\" xlink:href=\"#m7403277aaa\" y=\"119.730786\"/>\r\n     <use style=\"fill:#4c72b0;stroke:#4c72b0;\" x=\"220.700571\" xlink:href=\"#m7403277aaa\" y=\"119.67774\"/>\r\n     <use style=\"fill:#4c72b0;stroke:#4c72b0;\" x=\"221.046809\" xlink:href=\"#m7403277aaa\" y=\"119.672282\"/>\r\n     <use style=\"fill:#4c72b0;stroke:#4c72b0;\" x=\"221.392792\" xlink:href=\"#m7403277aaa\" y=\"119.659801\"/>\r\n     <use style=\"fill:#4c72b0;stroke:#4c72b0;\" x=\"221.738533\" xlink:href=\"#m7403277aaa\" y=\"119.518223\"/>\r\n     <use style=\"fill:#4c72b0;stroke:#4c72b0;\" x=\"222.084049\" xlink:href=\"#m7403277aaa\" y=\"119.495212\"/>\r\n     <use style=\"fill:#4c72b0;stroke:#4c72b0;\" x=\"222.429355\" xlink:href=\"#m7403277aaa\" y=\"119.414866\"/>\r\n     <use style=\"fill:#4c72b0;stroke:#4c72b0;\" x=\"222.774466\" xlink:href=\"#m7403277aaa\" y=\"119.365724\"/>\r\n     <use style=\"fill:#4c72b0;stroke:#4c72b0;\" x=\"223.119397\" xlink:href=\"#m7403277aaa\" y=\"119.12235\"/>\r\n     <use style=\"fill:#4c72b0;stroke:#4c72b0;\" x=\"223.464164\" xlink:href=\"#m7403277aaa\" y=\"119.007295\"/>\r\n     <use style=\"fill:#4c72b0;stroke:#4c72b0;\" x=\"223.808782\" xlink:href=\"#m7403277aaa\" y=\"118.9757\"/>\r\n     <use style=\"fill:#4c72b0;stroke:#4c72b0;\" x=\"224.153265\" xlink:href=\"#m7403277aaa\" y=\"118.58061\"/>\r\n     <use style=\"fill:#4c72b0;stroke:#4c72b0;\" x=\"224.497629\" xlink:href=\"#m7403277aaa\" y=\"118.559159\"/>\r\n     <use style=\"fill:#4c72b0;stroke:#4c72b0;\" x=\"224.841889\" xlink:href=\"#m7403277aaa\" y=\"118.469452\"/>\r\n     <use style=\"fill:#4c72b0;stroke:#4c72b0;\" x=\"225.186059\" xlink:href=\"#m7403277aaa\" y=\"118.435912\"/>\r\n     <use style=\"fill:#4c72b0;stroke:#4c72b0;\" x=\"225.530155\" xlink:href=\"#m7403277aaa\" y=\"118.40978\"/>\r\n     <use style=\"fill:#4c72b0;stroke:#4c72b0;\" x=\"225.874192\" xlink:href=\"#m7403277aaa\" y=\"118.404708\"/>\r\n     <use style=\"fill:#4c72b0;stroke:#4c72b0;\" x=\"226.218184\" xlink:href=\"#m7403277aaa\" y=\"118.021708\"/>\r\n     <use style=\"fill:#4c72b0;stroke:#4c72b0;\" x=\"226.562146\" xlink:href=\"#m7403277aaa\" y=\"117.8618\"/>\r\n     <use style=\"fill:#4c72b0;stroke:#4c72b0;\" x=\"226.906094\" xlink:href=\"#m7403277aaa\" y=\"117.804856\"/>\r\n     <use style=\"fill:#4c72b0;stroke:#4c72b0;\" x=\"227.250041\" xlink:href=\"#m7403277aaa\" y=\"117.770924\"/>\r\n     <use style=\"fill:#4c72b0;stroke:#4c72b0;\" x=\"227.594003\" xlink:href=\"#m7403277aaa\" y=\"117.758443\"/>\r\n     <use style=\"fill:#4c72b0;stroke:#4c72b0;\" x=\"227.937995\" xlink:href=\"#m7403277aaa\" y=\"117.718662\"/>\r\n     <use style=\"fill:#4c72b0;stroke:#4c72b0;\" x=\"228.282032\" xlink:href=\"#m7403277aaa\" y=\"117.545489\"/>\r\n     <use style=\"fill:#4c72b0;stroke:#4c72b0;\" x=\"228.626128\" xlink:href=\"#m7403277aaa\" y=\"117.51078\"/>\r\n     <use style=\"fill:#4c72b0;stroke:#4c72b0;\" x=\"228.970299\" xlink:href=\"#m7403277aaa\" y=\"117.393773\"/>\r\n     <use style=\"fill:#4c72b0;stroke:#4c72b0;\" x=\"229.314558\" xlink:href=\"#m7403277aaa\" y=\"117.155079\"/>\r\n     <use style=\"fill:#4c72b0;stroke:#4c72b0;\" x=\"229.658922\" xlink:href=\"#m7403277aaa\" y=\"117.122707\"/>\r\n     <use style=\"fill:#4c72b0;stroke:#4c72b0;\" x=\"230.003406\" xlink:href=\"#m7403277aaa\" y=\"117.119587\"/>\r\n     <use style=\"fill:#4c72b0;stroke:#4c72b0;\" x=\"230.348023\" xlink:href=\"#m7403277aaa\" y=\"117.089944\"/>\r\n     <use style=\"fill:#4c72b0;stroke:#4c72b0;\" x=\"230.69279\" xlink:href=\"#m7403277aaa\" y=\"117.008821\"/>\r\n     <use style=\"fill:#4c72b0;stroke:#4c72b0;\" x=\"231.037722\" xlink:href=\"#m7403277aaa\" y=\"116.874261\"/>\r\n     <use style=\"fill:#4c72b0;stroke:#4c72b0;\" x=\"231.382833\" xlink:href=\"#m7403277aaa\" y=\"116.554444\"/>\r\n     <use style=\"fill:#4c72b0;stroke:#4c72b0;\" x=\"231.728138\" xlink:href=\"#m7403277aaa\" y=\"116.425348\"/>\r\n     <use style=\"fill:#4c72b0;stroke:#4c72b0;\" x=\"232.073654\" xlink:href=\"#m7403277aaa\" y=\"115.743198\"/>\r\n     <use style=\"fill:#4c72b0;stroke:#4c72b0;\" x=\"232.419396\" xlink:href=\"#m7403277aaa\" y=\"115.729549\"/>\r\n     <use style=\"fill:#4c72b0;stroke:#4c72b0;\" x=\"232.765378\" xlink:href=\"#m7403277aaa\" y=\"115.704586\"/>\r\n     <use style=\"fill:#4c72b0;stroke:#4c72b0;\" x=\"233.111617\" xlink:href=\"#m7403277aaa\" y=\"115.586411\"/>\r\n     <use style=\"fill:#4c72b0;stroke:#4c72b0;\" x=\"233.458127\" xlink:href=\"#m7403277aaa\" y=\"115.467844\"/>\r\n     <use style=\"fill:#4c72b0;stroke:#4c72b0;\" x=\"233.804925\" xlink:href=\"#m7403277aaa\" y=\"115.250601\"/>\r\n     <use style=\"fill:#4c72b0;stroke:#4c72b0;\" x=\"234.152026\" xlink:href=\"#m7403277aaa\" y=\"115.008787\"/>\r\n     <use style=\"fill:#4c72b0;stroke:#4c72b0;\" x=\"234.499447\" xlink:href=\"#m7403277aaa\" y=\"114.709638\"/>\r\n     <use style=\"fill:#4c72b0;stroke:#4c72b0;\" x=\"234.847202\" xlink:href=\"#m7403277aaa\" y=\"114.700668\"/>\r\n     <use style=\"fill:#4c72b0;stroke:#4c72b0;\" x=\"235.195308\" xlink:href=\"#m7403277aaa\" y=\"114.383972\"/>\r\n     <use style=\"fill:#4c72b0;stroke:#4c72b0;\" x=\"235.543782\" xlink:href=\"#m7403277aaa\" y=\"114.379292\"/>\r\n     <use style=\"fill:#4c72b0;stroke:#4c72b0;\" x=\"235.892639\" xlink:href=\"#m7403277aaa\" y=\"114.280615\"/>\r\n     <use style=\"fill:#4c72b0;stroke:#4c72b0;\" x=\"236.241896\" xlink:href=\"#m7403277aaa\" y=\"113.984978\"/>\r\n     <use style=\"fill:#4c72b0;stroke:#4c72b0;\" x=\"236.59157\" xlink:href=\"#m7403277aaa\" y=\"113.920234\"/>\r\n     <use style=\"fill:#4c72b0;stroke:#4c72b0;\" x=\"236.941676\" xlink:href=\"#m7403277aaa\" y=\"113.82507\"/>\r\n     <use style=\"fill:#4c72b0;stroke:#4c72b0;\" x=\"237.292232\" xlink:href=\"#m7403277aaa\" y=\"113.687781\"/>\r\n     <use style=\"fill:#4c72b0;stroke:#4c72b0;\" x=\"237.643255\" xlink:href=\"#m7403277aaa\" y=\"112.491583\"/>\r\n     <use style=\"fill:#4c72b0;stroke:#4c72b0;\" x=\"237.994762\" xlink:href=\"#m7403277aaa\" y=\"112.337524\"/>\r\n     <use style=\"fill:#4c72b0;stroke:#4c72b0;\" x=\"238.34677\" xlink:href=\"#m7403277aaa\" y=\"112.171375\"/>\r\n     <use style=\"fill:#4c72b0;stroke:#4c72b0;\" x=\"238.699296\" xlink:href=\"#m7403277aaa\" y=\"111.677995\"/>\r\n     <use style=\"fill:#4c72b0;stroke:#4c72b0;\" x=\"239.052359\" xlink:href=\"#m7403277aaa\" y=\"111.481425\"/>\r\n     <use style=\"fill:#4c72b0;stroke:#4c72b0;\" x=\"239.405975\" xlink:href=\"#m7403277aaa\" y=\"111.406152\"/>\r\n     <use style=\"fill:#4c72b0;stroke:#4c72b0;\" x=\"239.760163\" xlink:href=\"#m7403277aaa\" y=\"111.4042\"/>\r\n     <use style=\"fill:#4c72b0;stroke:#4c72b0;\" x=\"240.11494\" xlink:href=\"#m7403277aaa\" y=\"111.374948\"/>\r\n     <use style=\"fill:#4c72b0;stroke:#4c72b0;\" x=\"240.470326\" xlink:href=\"#m7403277aaa\" y=\"111.353497\"/>\r\n     <use style=\"fill:#4c72b0;stroke:#4c72b0;\" x=\"240.826339\" xlink:href=\"#m7403277aaa\" y=\"111.318397\"/>\r\n     <use style=\"fill:#4c72b0;stroke:#4c72b0;\" x=\"241.182997\" xlink:href=\"#m7403277aaa\" y=\"111.152248\"/>\r\n     <use style=\"fill:#4c72b0;stroke:#4c72b0;\" x=\"241.54032\" xlink:href=\"#m7403277aaa\" y=\"110.832817\"/>\r\n     <use style=\"fill:#4c72b0;stroke:#4c72b0;\" x=\"241.898326\" xlink:href=\"#m7403277aaa\" y=\"109.627649\"/>\r\n     <use style=\"fill:#4c72b0;stroke:#4c72b0;\" x=\"242.257036\" xlink:href=\"#m7403277aaa\" y=\"109.47359\"/>\r\n     <use style=\"fill:#4c72b0;stroke:#4c72b0;\" x=\"242.616468\" xlink:href=\"#m7403277aaa\" y=\"109.361656\"/>\r\n     <use style=\"fill:#4c72b0;stroke:#4c72b0;\" x=\"242.976643\" xlink:href=\"#m7403277aaa\" y=\"108.818355\"/>\r\n     <use style=\"fill:#4c72b0;stroke:#4c72b0;\" x=\"243.337581\" xlink:href=\"#m7403277aaa\" y=\"108.39908\"/>\r\n     <use style=\"fill:#4c72b0;stroke:#4c72b0;\" x=\"243.699302\" xlink:href=\"#m7403277aaa\" y=\"108.165066\"/>\r\n     <use style=\"fill:#4c72b0;stroke:#4c72b0;\" x=\"244.061828\" xlink:href=\"#m7403277aaa\" y=\"107.395554\"/>\r\n     <use style=\"fill:#4c72b0;stroke:#4c72b0;\" x=\"244.425179\" xlink:href=\"#m7403277aaa\" y=\"107.013722\"/>\r\n     <use style=\"fill:#4c72b0;stroke:#4c72b0;\" x=\"244.789376\" xlink:href=\"#m7403277aaa\" y=\"106.872144\"/>\r\n     <use style=\"fill:#4c72b0;stroke:#4c72b0;\" x=\"245.154442\" xlink:href=\"#m7403277aaa\" y=\"106.667382\"/>\r\n     <use style=\"fill:#4c72b0;stroke:#4c72b0;\" x=\"245.520398\" xlink:href=\"#m7403277aaa\" y=\"106.296472\"/>\r\n     <use style=\"fill:#4c72b0;stroke:#4c72b0;\" x=\"245.887267\" xlink:href=\"#m7403277aaa\" y=\"106.142413\"/>\r\n     <use style=\"fill:#4c72b0;stroke:#4c72b0;\" x=\"246.255071\" xlink:href=\"#m7403277aaa\" y=\"105.991474\"/>\r\n     <use style=\"fill:#4c72b0;stroke:#4c72b0;\" x=\"246.623834\" xlink:href=\"#m7403277aaa\" y=\"105.91152\"/>\r\n     <use style=\"fill:#4c72b0;stroke:#4c72b0;\" x=\"246.993578\" xlink:href=\"#m7403277aaa\" y=\"105.863154\"/>\r\n     <use style=\"fill:#4c72b0;stroke:#4c72b0;\" x=\"247.364328\" xlink:href=\"#m7403277aaa\" y=\"105.838583\"/>\r\n     <use style=\"fill:#4c72b0;stroke:#4c72b0;\" x=\"247.736108\" xlink:href=\"#m7403277aaa\" y=\"105.611202\"/>\r\n     <use style=\"fill:#4c72b0;stroke:#4c72b0;\" x=\"248.108942\" xlink:href=\"#m7403277aaa\" y=\"105.369388\"/>\r\n     <use style=\"fill:#4c72b0;stroke:#4c72b0;\" x=\"248.482856\" xlink:href=\"#m7403277aaa\" y=\"105.053861\"/>\r\n     <use style=\"fill:#4c72b0;stroke:#4c72b0;\" x=\"248.857875\" xlink:href=\"#m7403277aaa\" y=\"105.021489\"/>\r\n     <use style=\"fill:#4c72b0;stroke:#4c72b0;\" x=\"249.234025\" xlink:href=\"#m7403277aaa\" y=\"104.87523\"/>\r\n     <use style=\"fill:#4c72b0;stroke:#4c72b0;\" x=\"249.611331\" xlink:href=\"#m7403277aaa\" y=\"104.866261\"/>\r\n     <use style=\"fill:#4c72b0;stroke:#4c72b0;\" x=\"249.989822\" xlink:href=\"#m7403277aaa\" y=\"104.749254\"/>\r\n     <use style=\"fill:#4c72b0;stroke:#4c72b0;\" x=\"250.369525\" xlink:href=\"#m7403277aaa\" y=\"104.688799\"/>\r\n     <use style=\"fill:#4c72b0;stroke:#4c72b0;\" x=\"250.750467\" xlink:href=\"#m7403277aaa\" y=\"104.653698\"/>\r\n     <use style=\"fill:#4c72b0;stroke:#4c72b0;\" x=\"251.132676\" xlink:href=\"#m7403277aaa\" y=\"104.477405\"/>\r\n     <use style=\"fill:#4c72b0;stroke:#4c72b0;\" x=\"251.516183\" xlink:href=\"#m7403277aaa\" y=\"103.600638\"/>\r\n     <use style=\"fill:#4c72b0;stroke:#4c72b0;\" x=\"251.901016\" xlink:href=\"#m7403277aaa\" y=\"103.11701\"/>\r\n     <use style=\"fill:#4c72b0;stroke:#4c72b0;\" x=\"252.287206\" xlink:href=\"#m7403277aaa\" y=\"102.571758\"/>\r\n     <use style=\"fill:#4c72b0;stroke:#4c72b0;\" x=\"252.674783\" xlink:href=\"#m7403277aaa\" y=\"102.393519\"/>\r\n     <use style=\"fill:#4c72b0;stroke:#4c72b0;\" x=\"253.063779\" xlink:href=\"#m7403277aaa\" y=\"101.569792\"/>\r\n     <use style=\"fill:#4c72b0;stroke:#4c72b0;\" x=\"253.454225\" xlink:href=\"#m7403277aaa\" y=\"101.35723\"/>\r\n     <use style=\"fill:#4c72b0;stroke:#4c72b0;\" x=\"253.846156\" xlink:href=\"#m7403277aaa\" y=\"101.335779\"/>\r\n     <use style=\"fill:#4c72b0;stroke:#4c72b0;\" x=\"254.239603\" xlink:href=\"#m7403277aaa\" y=\"101.322129\"/>\r\n     <use style=\"fill:#4c72b0;stroke:#4c72b0;\" x=\"254.634602\" xlink:href=\"#m7403277aaa\" y=\"100.726175\"/>\r\n     <use style=\"fill:#4c72b0;stroke:#4c72b0;\" x=\"255.031187\" xlink:href=\"#m7403277aaa\" y=\"100.473831\"/>\r\n     <use style=\"fill:#4c72b0;stroke:#4c72b0;\" x=\"255.429394\" xlink:href=\"#m7403277aaa\" y=\"100.391925\"/>\r\n     <use style=\"fill:#4c72b0;stroke:#4c72b0;\" x=\"255.82926\" xlink:href=\"#m7403277aaa\" y=\"100.378275\"/>\r\n     <use style=\"fill:#4c72b0;stroke:#4c72b0;\" x=\"256.230822\" xlink:href=\"#m7403277aaa\" y=\"100.315868\"/>\r\n     <use style=\"fill:#4c72b0;stroke:#4c72b0;\" x=\"256.634118\" xlink:href=\"#m7403277aaa\" y=\"100.284279\"/>\r\n     <use style=\"fill:#4c72b0;stroke:#4c72b0;\" x=\"257.039188\" xlink:href=\"#m7403277aaa\" y=\"100.276087\"/>\r\n     <use style=\"fill:#4c72b0;stroke:#4c72b0;\" x=\"257.446072\" xlink:href=\"#m7403277aaa\" y=\"100.097457\"/>\r\n     <use style=\"fill:#4c72b0;stroke:#4c72b0;\" x=\"257.85481\" xlink:href=\"#m7403277aaa\" y=\"99.819373\"/>\r\n     <use style=\"fill:#4c72b0;stroke:#4c72b0;\" x=\"258.265446\" xlink:href=\"#m7403277aaa\" y=\"99.344714\"/>\r\n     <use style=\"fill:#4c72b0;stroke:#4c72b0;\" x=\"258.678021\" xlink:href=\"#m7403277aaa\" y=\"99.121231\"/>\r\n     <use style=\"fill:#4c72b0;stroke:#4c72b0;\" x=\"259.092581\" xlink:href=\"#m7403277aaa\" y=\"98.855237\"/>\r\n     <use style=\"fill:#4c72b0;stroke:#4c72b0;\" x=\"259.509172\" xlink:href=\"#m7403277aaa\" y=\"98.829497\"/>\r\n     <use style=\"fill:#4c72b0;stroke:#4c72b0;\" x=\"259.927838\" xlink:href=\"#m7403277aaa\" y=\"98.615375\"/>\r\n     <use style=\"fill:#4c72b0;stroke:#4c72b0;\" x=\"260.34863\" xlink:href=\"#m7403277aaa\" y=\"98.480814\"/>\r\n     <use style=\"fill:#4c72b0;stroke:#4c72b0;\" x=\"260.771595\" xlink:href=\"#m7403277aaa\" y=\"98.324418\"/>\r\n     <use style=\"fill:#4c72b0;stroke:#4c72b0;\" x=\"261.196784\" xlink:href=\"#m7403277aaa\" y=\"97.971838\"/>\r\n     <use style=\"fill:#4c72b0;stroke:#4c72b0;\" x=\"261.62425\" xlink:href=\"#m7403277aaa\" y=\"97.832597\"/>\r\n     <use style=\"fill:#4c72b0;stroke:#4c72b0;\" x=\"262.054044\" xlink:href=\"#m7403277aaa\" y=\"97.506149\"/>\r\n     <use style=\"fill:#4c72b0;stroke:#4c72b0;\" x=\"262.486224\" xlink:href=\"#m7403277aaa\" y=\"97.354433\"/>\r\n     <use style=\"fill:#4c72b0;stroke:#4c72b0;\" x=\"262.920843\" xlink:href=\"#m7403277aaa\" y=\"96.894207\"/>\r\n     <use style=\"fill:#4c72b0;stroke:#4c72b0;\" x=\"263.357962\" xlink:href=\"#m7403277aaa\" y=\"96.831023\"/>\r\n     <use style=\"fill:#4c72b0;stroke:#4c72b0;\" x=\"263.797639\" xlink:href=\"#m7403277aaa\" y=\"96.823222\"/>\r\n     <use style=\"fill:#4c72b0;stroke:#4c72b0;\" x=\"264.239936\" xlink:href=\"#m7403277aaa\" y=\"96.81659\"/>\r\n     <use style=\"fill:#4c72b0;stroke:#4c72b0;\" x=\"264.684916\" xlink:href=\"#m7403277aaa\" y=\"96.812301\"/>\r\n     <use style=\"fill:#4c72b0;stroke:#4c72b0;\" x=\"265.132645\" xlink:href=\"#m7403277aaa\" y=\"96.58024\"/>\r\n     <use style=\"fill:#4c72b0;stroke:#4c72b0;\" x=\"265.58319\" xlink:href=\"#m7403277aaa\" y=\"96.490533\"/>\r\n     <use style=\"fill:#4c72b0;stroke:#4c72b0;\" x=\"266.036621\" xlink:href=\"#m7403277aaa\" y=\"96.213618\"/>\r\n     <use style=\"fill:#4c72b0;stroke:#4c72b0;\" x=\"266.493009\" xlink:href=\"#m7403277aaa\" y=\"95.985454\"/>\r\n     <use style=\"fill:#4c72b0;stroke:#4c72b0;\" x=\"266.952429\" xlink:href=\"#m7403277aaa\" y=\"95.974924\"/>\r\n     <use style=\"fill:#4c72b0;stroke:#4c72b0;\" x=\"267.414956\" xlink:href=\"#m7403277aaa\" y=\"95.909789\"/>\r\n     <use style=\"fill:#4c72b0;stroke:#4c72b0;\" x=\"267.880669\" xlink:href=\"#m7403277aaa\" y=\"95.868056\"/>\r\n     <use style=\"fill:#4c72b0;stroke:#4c72b0;\" x=\"268.349651\" xlink:href=\"#m7403277aaa\" y=\"95.708539\"/>\r\n     <use style=\"fill:#4c72b0;stroke:#4c72b0;\" x=\"268.821986\" xlink:href=\"#m7403277aaa\" y=\"95.369609\"/>\r\n     <use style=\"fill:#4c72b0;stroke:#4c72b0;\" x=\"269.297761\" xlink:href=\"#m7403277aaa\" y=\"95.073972\"/>\r\n     <use style=\"fill:#4c72b0;stroke:#4c72b0;\" x=\"269.777066\" xlink:href=\"#m7403277aaa\" y=\"95.049792\"/>\r\n     <use style=\"fill:#4c72b0;stroke:#4c72b0;\" x=\"270.259995\" xlink:href=\"#m7403277aaa\" y=\"94.846591\"/>\r\n     <use style=\"fill:#4c72b0;stroke:#4c72b0;\" x=\"270.746645\" xlink:href=\"#m7403277aaa\" y=\"94.686291\"/>\r\n     <use style=\"fill:#4c72b0;stroke:#4c72b0;\" x=\"271.237117\" xlink:href=\"#m7403277aaa\" y=\"94.403135\"/>\r\n     <use style=\"fill:#4c72b0;stroke:#4c72b0;\" x=\"271.731514\" xlink:href=\"#m7403277aaa\" y=\"94.166002\"/>\r\n     <use style=\"fill:#4c72b0;stroke:#4c72b0;\" x=\"272.229946\" xlink:href=\"#m7403277aaa\" y=\"93.968258\"/>\r\n     <use style=\"fill:#4c72b0;stroke:#4c72b0;\" x=\"272.732524\" xlink:href=\"#m7403277aaa\" y=\"93.845402\"/>\r\n     <use style=\"fill:#4c72b0;stroke:#4c72b0;\" x=\"273.239365\" xlink:href=\"#m7403277aaa\" y=\"93.568487\"/>\r\n     <use style=\"fill:#4c72b0;stroke:#4c72b0;\" x=\"273.75059\" xlink:href=\"#m7403277aaa\" y=\"93.525585\"/>\r\n     <use style=\"fill:#4c72b0;stroke:#4c72b0;\" x=\"274.266326\" xlink:href=\"#m7403277aaa\" y=\"93.426909\"/>\r\n     <use style=\"fill:#4c72b0;stroke:#4c72b0;\" x=\"274.786704\" xlink:href=\"#m7403277aaa\" y=\"93.387128\"/>\r\n     <use style=\"fill:#4c72b0;stroke:#4c72b0;\" x=\"275.31186\" xlink:href=\"#m7403277aaa\" y=\"93.270898\"/>\r\n     <use style=\"fill:#4c72b0;stroke:#4c72b0;\" x=\"275.841938\" xlink:href=\"#m7403277aaa\" y=\"93.063408\"/>\r\n     <use style=\"fill:#4c72b0;stroke:#4c72b0;\" x=\"276.377085\" xlink:href=\"#m7403277aaa\" y=\"93.050535\"/>\r\n     <use style=\"fill:#4c72b0;stroke:#4c72b0;\" x=\"276.917457\" xlink:href=\"#m7403277aaa\" y=\"92.841876\"/>\r\n     <use style=\"fill:#4c72b0;stroke:#4c72b0;\" x=\"277.463215\" xlink:href=\"#m7403277aaa\" y=\"92.151534\"/>\r\n     <use style=\"fill:#4c72b0;stroke:#4c72b0;\" x=\"278.014529\" xlink:href=\"#m7403277aaa\" y=\"90.885135\"/>\r\n     <use style=\"fill:#4c72b0;stroke:#4c72b0;\" x=\"278.571574\" xlink:href=\"#m7403277aaa\" y=\"90.877334\"/>\r\n     <use style=\"fill:#4c72b0;stroke:#4c72b0;\" x=\"279.134537\" xlink:href=\"#m7403277aaa\" y=\"90.825848\"/>\r\n     <use style=\"fill:#4c72b0;stroke:#4c72b0;\" x=\"279.703611\" xlink:href=\"#m7403277aaa\" y=\"90.672572\"/>\r\n     <use style=\"fill:#4c72b0;stroke:#4c72b0;\" x=\"280.278998\" xlink:href=\"#m7403277aaa\" y=\"90.101189\"/>\r\n     <use style=\"fill:#4c72b0;stroke:#4c72b0;\" x=\"280.860911\" xlink:href=\"#m7403277aaa\" y=\"90.09534\"/>\r\n     <use style=\"fill:#4c72b0;stroke:#4c72b0;\" x=\"281.449575\" xlink:href=\"#m7403277aaa\" y=\"89.661246\"/>\r\n     <use style=\"fill:#4c72b0;stroke:#4c72b0;\" x=\"282.045223\" xlink:href=\"#m7403277aaa\" y=\"89.440882\"/>\r\n     <use style=\"fill:#4c72b0;stroke:#4c72b0;\" x=\"282.648102\" xlink:href=\"#m7403277aaa\" y=\"89.342598\"/>\r\n     <use style=\"fill:#4c72b0;stroke:#4c72b0;\" x=\"283.258473\" xlink:href=\"#m7403277aaa\" y=\"89.140956\"/>\r\n     <use style=\"fill:#4c72b0;stroke:#4c72b0;\" x=\"283.876608\" xlink:href=\"#m7403277aaa\" y=\"88.751324\"/>\r\n     <use style=\"fill:#4c72b0;stroke:#4c72b0;\" x=\"284.502797\" xlink:href=\"#m7403277aaa\" y=\"87.494279\"/>\r\n     <use style=\"fill:#4c72b0;stroke:#4c72b0;\" x=\"285.137344\" xlink:href=\"#m7403277aaa\" y=\"87.438119\"/>\r\n     <use style=\"fill:#4c72b0;stroke:#4c72b0;\" x=\"285.780571\" xlink:href=\"#m7403277aaa\" y=\"87.263778\"/>\r\n     <use style=\"fill:#4c72b0;stroke:#4c72b0;\" x=\"286.432819\" xlink:href=\"#m7403277aaa\" y=\"86.997784\"/>\r\n     <use style=\"fill:#4c72b0;stroke:#4c72b0;\" x=\"287.094448\" xlink:href=\"#m7403277aaa\" y=\"86.588261\"/>\r\n     <use style=\"fill:#4c72b0;stroke:#4c72b0;\" x=\"287.765842\" xlink:href=\"#m7403277aaa\" y=\"86.58046\"/>\r\n     <use style=\"fill:#4c72b0;stroke:#4c72b0;\" x=\"288.447408\" xlink:href=\"#m7403277aaa\" y=\"86.417431\"/>\r\n     <use style=\"fill:#4c72b0;stroke:#4c72b0;\" x=\"289.139576\" xlink:href=\"#m7403277aaa\" y=\"86.367898\"/>\r\n     <use style=\"fill:#4c72b0;stroke:#4c72b0;\" x=\"289.842807\" xlink:href=\"#m7403277aaa\" y=\"86.339815\"/>\r\n     <use style=\"fill:#4c72b0;stroke:#4c72b0;\" x=\"290.557593\" xlink:href=\"#m7403277aaa\" y=\"86.234121\"/>\r\n     <use style=\"fill:#4c72b0;stroke:#4c72b0;\" x=\"291.284456\" xlink:href=\"#m7403277aaa\" y=\"86.05081\"/>\r\n     <use style=\"fill:#4c72b0;stroke:#4c72b0;\" x=\"292.023957\" xlink:href=\"#m7403277aaa\" y=\"86.004005\"/>\r\n     <use style=\"fill:#4c72b0;stroke:#4c72b0;\" x=\"292.776697\" xlink:href=\"#m7403277aaa\" y=\"85.519599\"/>\r\n     <use style=\"fill:#4c72b0;stroke:#4c72b0;\" x=\"293.54332\" xlink:href=\"#m7403277aaa\" y=\"84.961866\"/>\r\n     <use style=\"fill:#4c72b0;stroke:#4c72b0;\" x=\"294.324517\" xlink:href=\"#m7403277aaa\" y=\"83.635403\"/>\r\n     <use style=\"fill:#4c72b0;stroke:#4c72b0;\" x=\"295.121036\" xlink:href=\"#m7403277aaa\" y=\"83.605368\"/>\r\n     <use style=\"fill:#4c72b0;stroke:#4c72b0;\" x=\"295.933682\" xlink:href=\"#m7403277aaa\" y=\"83.274631\"/>\r\n     <use style=\"fill:#4c72b0;stroke:#4c72b0;\" x=\"296.763324\" xlink:href=\"#m7403277aaa\" y=\"83.255132\"/>\r\n     <use style=\"fill:#4c72b0;stroke:#4c72b0;\" x=\"297.610908\" xlink:href=\"#m7403277aaa\" y=\"83.08976\"/>\r\n     <use style=\"fill:#4c72b0;stroke:#4c72b0;\" x=\"298.477459\" xlink:href=\"#m7403277aaa\" y=\"82.109636\"/>\r\n     <use style=\"fill:#4c72b0;stroke:#4c72b0;\" x=\"299.364093\" xlink:href=\"#m7403277aaa\" y=\"82.051133\"/>\r\n     <use style=\"fill:#4c72b0;stroke:#4c72b0;\" x=\"300.272031\" xlink:href=\"#m7403277aaa\" y=\"82.051133\"/>\r\n     <use style=\"fill:#4c72b0;stroke:#4c72b0;\" x=\"301.20261\" xlink:href=\"#m7403277aaa\" y=\"81.895514\"/>\r\n     <use style=\"fill:#4c72b0;stroke:#4c72b0;\" x=\"302.157296\" xlink:href=\"#m7403277aaa\" y=\"81.191131\"/>\r\n     <use style=\"fill:#4c72b0;stroke:#4c72b0;\" x=\"303.137709\" xlink:href=\"#m7403277aaa\" y=\"81.138868\"/>\r\n     <use style=\"fill:#4c72b0;stroke:#4c72b0;\" x=\"304.145635\" xlink:href=\"#m7403277aaa\" y=\"80.671624\"/>\r\n     <use style=\"fill:#4c72b0;stroke:#4c72b0;\" x=\"305.183061\" xlink:href=\"#m7403277aaa\" y=\"80.341272\"/>\r\n     <use style=\"fill:#4c72b0;stroke:#4c72b0;\" x=\"306.252199\" xlink:href=\"#m7403277aaa\" y=\"79.817085\"/>\r\n     <use style=\"fill:#4c72b0;stroke:#4c72b0;\" x=\"307.355525\" xlink:href=\"#m7403277aaa\" y=\"79.767943\"/>\r\n     <use style=\"fill:#4c72b0;stroke:#4c72b0;\" x=\"308.495821\" xlink:href=\"#m7403277aaa\" y=\"78.397012\"/>\r\n     <use style=\"fill:#4c72b0;stroke:#4c72b0;\" x=\"309.676231\" xlink:href=\"#m7403277aaa\" y=\"77.907927\"/>\r\n     <use style=\"fill:#4c72b0;stroke:#4c72b0;\" x=\"310.900329\" xlink:href=\"#m7403277aaa\" y=\"77.394655\"/>\r\n     <use style=\"fill:#4c72b0;stroke:#4c72b0;\" x=\"312.172194\" xlink:href=\"#m7403277aaa\" y=\"77.192237\"/>\r\n     <use style=\"fill:#4c72b0;stroke:#4c72b0;\" x=\"313.496524\" xlink:href=\"#m7403277aaa\" y=\"77.094338\"/>\r\n     <use style=\"fill:#4c72b0;stroke:#4c72b0;\" x=\"314.878757\" xlink:href=\"#m7403277aaa\" y=\"77.012046\"/>\r\n     <use style=\"fill:#4c72b0;stroke:#4c72b0;\" x=\"316.325247\" xlink:href=\"#m7403277aaa\" y=\"76.471083\"/>\r\n     <use style=\"fill:#4c72b0;stroke:#4c72b0;\" x=\"317.843479\" xlink:href=\"#m7403277aaa\" y=\"76.089643\"/>\r\n     <use style=\"fill:#4c72b0;stroke:#4c72b0;\" x=\"319.442363\" xlink:href=\"#m7403277aaa\" y=\"75.446106\"/>\r\n     <use style=\"fill:#4c72b0;stroke:#4c72b0;\" x=\"321.132621\" xlink:href=\"#m7403277aaa\" y=\"73.878998\"/>\r\n     <use style=\"fill:#4c72b0;stroke:#4c72b0;\" x=\"322.927323\" xlink:href=\"#m7403277aaa\" y=\"73.150827\"/>\r\n     <use style=\"fill:#4c72b0;stroke:#4c72b0;\" x=\"324.842644\" xlink:href=\"#m7403277aaa\" y=\"72.111417\"/>\r\n     <use style=\"fill:#4c72b0;stroke:#4c72b0;\" x=\"326.898935\" xlink:href=\"#m7403277aaa\" y=\"71.256487\"/>\r\n     <use style=\"fill:#4c72b0;stroke:#4c72b0;\" x=\"329.122333\" xlink:href=\"#m7403277aaa\" y=\"69.723702\"/>\r\n     <use style=\"fill:#4c72b0;stroke:#4c72b0;\" x=\"331.547212\" xlink:href=\"#m7403277aaa\" y=\"69.273223\"/>\r\n     <use style=\"fill:#4c72b0;stroke:#4c72b0;\" x=\"334.220116\" xlink:href=\"#m7403277aaa\" y=\"68.910504\"/>\r\n     <use style=\"fill:#4c72b0;stroke:#4c72b0;\" x=\"337.206385\" xlink:href=\"#m7403277aaa\" y=\"68.500981\"/>\r\n     <use style=\"fill:#4c72b0;stroke:#4c72b0;\" x=\"340.602055\" xlink:href=\"#m7403277aaa\" y=\"67.555959\"/>\r\n     <use style=\"fill:#4c72b0;stroke:#4c72b0;\" x=\"344.557117\" xlink:href=\"#m7403277aaa\" y=\"66.556722\"/>\r\n     <use style=\"fill:#4c72b0;stroke:#4c72b0;\" x=\"349.326382\" xlink:href=\"#m7403277aaa\" y=\"66.256404\"/>\r\n     <use style=\"fill:#4c72b0;stroke:#4c72b0;\" x=\"355.400498\" xlink:href=\"#m7403277aaa\" y=\"65.357403\"/>\r\n     <use style=\"fill:#4c72b0;stroke:#4c72b0;\" x=\"363.945258\" xlink:href=\"#m7403277aaa\" y=\"62.754005\"/>\r\n     <use style=\"fill:#4c72b0;stroke:#4c72b0;\" x=\"379.087912\" xlink:href=\"#m7403277aaa\" y=\"54.289354\"/>\r\n    </g>\r\n   </g>\r\n   <g id=\"line2d_17\">\r\n    <path clip-path=\"url(#p0d0aa6ce6e)\" d=\"M 74.724276 209.981517 \r\nL 379.087912 31.673011 \r\nL 379.087912 31.673011 \r\n\" style=\"fill:none;stroke:#c44e52;stroke-linecap:round;stroke-width:1.5;\"/>\r\n   </g>\r\n   <g id=\"patch_3\">\r\n    <path d=\"M 59.506094 239.229375 \r\nL 59.506094 21.789375 \r\n\" style=\"fill:none;stroke:#ffffff;stroke-linecap:square;stroke-linejoin:miter;stroke-width:1.25;\"/>\r\n   </g>\r\n   <g id=\"patch_4\">\r\n    <path d=\"M 394.306094 239.229375 \r\nL 394.306094 21.789375 \r\n\" style=\"fill:none;stroke:#ffffff;stroke-linecap:square;stroke-linejoin:miter;stroke-width:1.25;\"/>\r\n   </g>\r\n   <g id=\"patch_5\">\r\n    <path d=\"M 59.506094 239.229375 \r\nL 394.306094 239.229375 \r\n\" style=\"fill:none;stroke:#ffffff;stroke-linecap:square;stroke-linejoin:miter;stroke-width:1.25;\"/>\r\n   </g>\r\n   <g id=\"patch_6\">\r\n    <path d=\"M 59.506094 21.789375 \r\nL 394.306094 21.789375 \r\n\" style=\"fill:none;stroke:#ffffff;stroke-linecap:square;stroke-linejoin:miter;stroke-width:1.25;\"/>\r\n   </g>\r\n   <g id=\"text_18\">\r\n    <!-- Probability Plot -->\r\n    <g style=\"fill:#262626;\" transform=\"translate(186.887969 15.789375)scale(0.12 -0.12)\">\r\n     <defs>\r\n      <path d=\"M 7.71875 0 \r\nL 7.71875 71.578125 \r\nL 34.71875 71.578125 \r\nQ 41.84375 71.578125 45.609375 70.90625 \r\nQ 50.875 70.015625 54.4375 67.546875 \r\nQ 58.015625 65.09375 60.1875 60.640625 \r\nQ 62.359375 56.203125 62.359375 50.875 \r\nQ 62.359375 41.75 56.546875 35.421875 \r\nQ 50.734375 29.109375 35.546875 29.109375 \r\nL 17.1875 29.109375 \r\nL 17.1875 0 \r\nz\r\nM 17.1875 37.546875 \r\nL 35.6875 37.546875 \r\nQ 44.875 37.546875 48.734375 40.96875 \r\nQ 52.59375 44.390625 52.59375 50.59375 \r\nQ 52.59375 55.078125 50.3125 58.265625 \r\nQ 48.046875 61.46875 44.34375 62.5 \r\nQ 41.9375 63.140625 35.5 63.140625 \r\nL 17.1875 63.140625 \r\nz\r\n\" id=\"ArialMT-80\"/>\r\n      <path d=\"M 14.703125 0 \r\nL 6.546875 0 \r\nL 6.546875 71.578125 \r\nL 15.328125 71.578125 \r\nL 15.328125 46.046875 \r\nQ 20.90625 53.03125 29.546875 53.03125 \r\nQ 34.328125 53.03125 38.59375 51.09375 \r\nQ 42.875 49.171875 45.625 45.671875 \r\nQ 48.390625 42.1875 49.953125 37.25 \r\nQ 51.515625 32.328125 51.515625 26.703125 \r\nQ 51.515625 13.375 44.921875 6.09375 \r\nQ 38.328125 -1.171875 29.109375 -1.171875 \r\nQ 19.921875 -1.171875 14.703125 6.5 \r\nz\r\nM 14.59375 26.3125 \r\nQ 14.59375 17 17.140625 12.84375 \r\nQ 21.296875 6.0625 28.375 6.0625 \r\nQ 34.125 6.0625 38.328125 11.0625 \r\nQ 42.53125 16.0625 42.53125 25.984375 \r\nQ 42.53125 36.140625 38.5 40.96875 \r\nQ 34.46875 45.796875 28.765625 45.796875 \r\nQ 23 45.796875 18.796875 40.796875 \r\nQ 14.59375 35.796875 14.59375 26.3125 \r\nz\r\n\" id=\"ArialMT-98\"/>\r\n      <path d=\"M 6.203125 -19.96875 \r\nL 5.21875 -11.71875 \r\nQ 8.109375 -12.5 10.25 -12.5 \r\nQ 13.1875 -12.5 14.9375 -11.515625 \r\nQ 16.703125 -10.546875 17.828125 -8.796875 \r\nQ 18.65625 -7.46875 20.515625 -2.25 \r\nQ 20.75 -1.515625 21.296875 -0.09375 \r\nL 1.609375 51.859375 \r\nL 11.078125 51.859375 \r\nL 21.875 21.828125 \r\nQ 23.96875 16.109375 25.640625 9.8125 \r\nQ 27.15625 15.875 29.25 21.625 \r\nL 40.328125 51.859375 \r\nL 49.125 51.859375 \r\nL 29.390625 -0.875 \r\nQ 26.21875 -9.421875 24.46875 -12.640625 \r\nQ 22.125 -17 19.09375 -19.015625 \r\nQ 16.0625 -21.046875 11.859375 -21.046875 \r\nQ 9.328125 -21.046875 6.203125 -19.96875 \r\nz\r\n\" id=\"ArialMT-121\"/>\r\n     </defs>\r\n     <use xlink:href=\"#ArialMT-80\"/>\r\n     <use x=\"66.699219\" xlink:href=\"#ArialMT-114\"/>\r\n     <use x=\"100\" xlink:href=\"#ArialMT-111\"/>\r\n     <use x=\"155.615234\" xlink:href=\"#ArialMT-98\"/>\r\n     <use x=\"211.230469\" xlink:href=\"#ArialMT-97\"/>\r\n     <use x=\"266.845703\" xlink:href=\"#ArialMT-98\"/>\r\n     <use x=\"322.460938\" xlink:href=\"#ArialMT-105\"/>\r\n     <use x=\"344.677734\" xlink:href=\"#ArialMT-108\"/>\r\n     <use x=\"366.894531\" xlink:href=\"#ArialMT-105\"/>\r\n     <use x=\"389.111328\" xlink:href=\"#ArialMT-116\"/>\r\n     <use x=\"416.894531\" xlink:href=\"#ArialMT-121\"/>\r\n     <use x=\"466.894531\" xlink:href=\"#ArialMT-32\"/>\r\n     <use x=\"494.677734\" xlink:href=\"#ArialMT-80\"/>\r\n     <use x=\"561.376953\" xlink:href=\"#ArialMT-108\"/>\r\n     <use x=\"583.59375\" xlink:href=\"#ArialMT-111\"/>\r\n     <use x=\"639.208984\" xlink:href=\"#ArialMT-116\"/>\r\n    </g>\r\n   </g>\r\n  </g>\r\n </g>\r\n <defs>\r\n  <clipPath id=\"p0d0aa6ce6e\">\r\n   <rect height=\"217.44\" width=\"334.8\" x=\"59.506094\" y=\"21.789375\"/>\r\n  </clipPath>\r\n </defs>\r\n</svg>\r\n",
      "image/png": "[encoded data removed]"
     },
     "metadata": {}
    }
   ],
   "source": [
    "fig1 = plt.figure()\n",
    "ax1 = fig1.add_subplot(111)\n",
    "res = stats.probplot(results1.resid, dist=stats.norm, plot=ax1)\n",
    "plt.show()"
   ]
  },
  {
   "cell_type": "code",
   "execution_count": 26,
   "metadata": {},
   "outputs": [
    {
     "output_type": "display_data",
     "data": {
      "text/plain": "<Figure size 432x288 with 1 Axes>",
      "image/svg+xml": "<?xml version=\"1.0\" encoding=\"utf-8\" standalone=\"no\"?>\r\n<!DOCTYPE svg PUBLIC \"-//W3C//DTD SVG 1.1//EN\"\r\n  \"http://www.w3.org/Graphics/SVG/1.1/DTD/svg11.dtd\">\r\n<!-- Created with matplotlib (https://matplotlib.org/) -->\r\n<svg height=\"280.963594pt\" version=\"1.1\" viewBox=\"0 0 401.506094 280.963594\" width=\"401.506094pt\" xmlns=\"http://www.w3.org/2000/svg\" xmlns:xlink=\"http://www.w3.org/1999/xlink\">\r\n <metadata>\r\n  <rdf:RDF xmlns:cc=\"http://creativecommons.org/ns#\" xmlns:dc=\"http://purl.org/dc/elements/1.1/\" xmlns:rdf=\"http://www.w3.org/1999/02/22-rdf-syntax-ns#\">\r\n   <cc:Work>\r\n    <dc:type rdf:resource=\"http://purl.org/dc/dcmitype/StillImage\"/>\r\n    <dc:date>2021-06-10T20:27:14.467608</dc:date>\r\n    <dc:format>image/svg+xml</dc:format>\r\n    <dc:creator>\r\n     <cc:Agent>\r\n      <dc:title>Matplotlib v3.3.2, https://matplotlib.org/</dc:title>\r\n     </cc:Agent>\r\n    </dc:creator>\r\n   </cc:Work>\r\n  </rdf:RDF>\r\n </metadata>\r\n <defs>\r\n  <style type=\"text/css\">*{stroke-linecap:butt;stroke-linejoin:round;}</style>\r\n </defs>\r\n <g id=\"figure_1\">\r\n  <g id=\"patch_1\">\r\n   <path d=\"M 0 280.963594 \r\nL 401.506094 280.963594 \r\nL 401.506094 0 \r\nL 0 0 \r\nz\r\n\" style=\"fill:#ffffff;\"/>\r\n  </g>\r\n  <g id=\"axes_1\">\r\n   <g id=\"patch_2\">\r\n    <path d=\"M 59.506094 239.229375 \r\nL 394.306094 239.229375 \r\nL 394.306094 21.789375 \r\nL 59.506094 21.789375 \r\nz\r\n\" style=\"fill:#eaeaf2;\"/>\r\n   </g>\r\n   <g id=\"matplotlib.axis_1\">\r\n    <g id=\"xtick_1\">\r\n     <g id=\"line2d_1\">\r\n      <path clip-path=\"url(#pe048d75bf4)\" d=\"M 69.920042 239.229375 \r\nL 69.920042 21.789375 \r\n\" style=\"fill:none;stroke:#ffffff;stroke-linecap:round;\"/>\r\n     </g>\r\n     <g id=\"text_1\">\r\n      <!-- −3 -->\r\n      <g style=\"fill:#262626;\" transform=\"translate(63.649182 256.602969)scale(0.11 -0.11)\">\r\n       <defs>\r\n        <path d=\"M 52.828125 31.203125 \r\nL 5.5625 31.203125 \r\nL 5.5625 39.40625 \r\nL 52.828125 39.40625 \r\nz\r\n\" id=\"ArialMT-8722\"/>\r\n        <path d=\"M 4.203125 18.890625 \r\nL 12.984375 20.0625 \r\nQ 14.5 12.59375 18.140625 9.296875 \r\nQ 21.78125 6 27 6 \r\nQ 33.203125 6 37.46875 10.296875 \r\nQ 41.75 14.59375 41.75 20.953125 \r\nQ 41.75 27 37.796875 30.921875 \r\nQ 33.84375 34.859375 27.734375 34.859375 \r\nQ 25.25 34.859375 21.53125 33.890625 \r\nL 22.515625 41.609375 \r\nQ 23.390625 41.5 23.921875 41.5 \r\nQ 29.546875 41.5 34.03125 44.421875 \r\nQ 38.53125 47.359375 38.53125 53.46875 \r\nQ 38.53125 58.296875 35.25 61.46875 \r\nQ 31.984375 64.65625 26.8125 64.65625 \r\nQ 21.6875 64.65625 18.265625 61.421875 \r\nQ 14.84375 58.203125 13.875 51.765625 \r\nL 5.078125 53.328125 \r\nQ 6.6875 62.15625 12.390625 67.015625 \r\nQ 18.109375 71.875 26.609375 71.875 \r\nQ 32.46875 71.875 37.390625 69.359375 \r\nQ 42.328125 66.84375 44.9375 62.5 \r\nQ 47.5625 58.15625 47.5625 53.265625 \r\nQ 47.5625 48.640625 45.0625 44.828125 \r\nQ 42.578125 41.015625 37.703125 38.765625 \r\nQ 44.046875 37.3125 47.5625 32.6875 \r\nQ 51.078125 28.078125 51.078125 21.140625 \r\nQ 51.078125 11.765625 44.234375 5.25 \r\nQ 37.40625 -1.265625 26.953125 -1.265625 \r\nQ 17.53125 -1.265625 11.296875 4.34375 \r\nQ 5.078125 9.96875 4.203125 18.890625 \r\nz\r\n\" id=\"ArialMT-51\"/>\r\n       </defs>\r\n       <use xlink:href=\"#ArialMT-8722\"/>\r\n       <use x=\"58.398438\" xlink:href=\"#ArialMT-51\"/>\r\n      </g>\r\n     </g>\r\n    </g>\r\n    <g id=\"xtick_2\">\r\n     <g id=\"line2d_2\">\r\n      <path clip-path=\"url(#pe048d75bf4)\" d=\"M 122.248726 239.229375 \r\nL 122.248726 21.789375 \r\n\" style=\"fill:none;stroke:#ffffff;stroke-linecap:round;\"/>\r\n     </g>\r\n     <g id=\"text_2\">\r\n      <!-- −2 -->\r\n      <g style=\"fill:#262626;\" transform=\"translate(115.977866 256.602969)scale(0.11 -0.11)\">\r\n       <defs>\r\n        <path d=\"M 50.34375 8.453125 \r\nL 50.34375 0 \r\nL 3.03125 0 \r\nQ 2.9375 3.171875 4.046875 6.109375 \r\nQ 5.859375 10.9375 9.828125 15.625 \r\nQ 13.8125 20.3125 21.34375 26.46875 \r\nQ 33.015625 36.03125 37.109375 41.625 \r\nQ 41.21875 47.21875 41.21875 52.203125 \r\nQ 41.21875 57.421875 37.46875 61 \r\nQ 33.734375 64.59375 27.734375 64.59375 \r\nQ 21.390625 64.59375 17.578125 60.78125 \r\nQ 13.765625 56.984375 13.71875 50.25 \r\nL 4.6875 51.171875 \r\nQ 5.609375 61.28125 11.65625 66.578125 \r\nQ 17.71875 71.875 27.9375 71.875 \r\nQ 38.234375 71.875 44.234375 66.15625 \r\nQ 50.25 60.453125 50.25 52 \r\nQ 50.25 47.703125 48.484375 43.546875 \r\nQ 46.734375 39.40625 42.65625 34.8125 \r\nQ 38.578125 30.21875 29.109375 22.21875 \r\nQ 21.1875 15.578125 18.9375 13.203125 \r\nQ 16.703125 10.84375 15.234375 8.453125 \r\nz\r\n\" id=\"ArialMT-50\"/>\r\n       </defs>\r\n       <use xlink:href=\"#ArialMT-8722\"/>\r\n       <use x=\"58.398438\" xlink:href=\"#ArialMT-50\"/>\r\n      </g>\r\n     </g>\r\n    </g>\r\n    <g id=\"xtick_3\">\r\n     <g id=\"line2d_3\">\r\n      <path clip-path=\"url(#pe048d75bf4)\" d=\"M 174.57741 239.229375 \r\nL 174.57741 21.789375 \r\n\" style=\"fill:none;stroke:#ffffff;stroke-linecap:round;\"/>\r\n     </g>\r\n     <g id=\"text_3\">\r\n      <!-- −1 -->\r\n      <g style=\"fill:#262626;\" transform=\"translate(168.30655 256.602969)scale(0.11 -0.11)\">\r\n       <defs>\r\n        <path d=\"M 37.25 0 \r\nL 28.46875 0 \r\nL 28.46875 56 \r\nQ 25.296875 52.984375 20.140625 49.953125 \r\nQ 14.984375 46.921875 10.890625 45.40625 \r\nL 10.890625 53.90625 \r\nQ 18.265625 57.375 23.78125 62.296875 \r\nQ 29.296875 67.234375 31.59375 71.875 \r\nL 37.25 71.875 \r\nz\r\n\" id=\"ArialMT-49\"/>\r\n       </defs>\r\n       <use xlink:href=\"#ArialMT-8722\"/>\r\n       <use x=\"58.398438\" xlink:href=\"#ArialMT-49\"/>\r\n      </g>\r\n     </g>\r\n    </g>\r\n    <g id=\"xtick_4\">\r\n     <g id=\"line2d_4\">\r\n      <path clip-path=\"url(#pe048d75bf4)\" d=\"M 226.906094 239.229375 \r\nL 226.906094 21.789375 \r\n\" style=\"fill:none;stroke:#ffffff;stroke-linecap:round;\"/>\r\n     </g>\r\n     <g id=\"text_4\">\r\n      <!-- 0 -->\r\n      <g style=\"fill:#262626;\" transform=\"translate(223.847578 256.602969)scale(0.11 -0.11)\">\r\n       <defs>\r\n        <path d=\"M 4.15625 35.296875 \r\nQ 4.15625 48 6.765625 55.734375 \r\nQ 9.375 63.484375 14.515625 67.671875 \r\nQ 19.671875 71.875 27.484375 71.875 \r\nQ 33.25 71.875 37.59375 69.546875 \r\nQ 41.9375 67.234375 44.765625 62.859375 \r\nQ 47.609375 58.5 49.21875 52.21875 \r\nQ 50.828125 45.953125 50.828125 35.296875 \r\nQ 50.828125 22.703125 48.234375 14.96875 \r\nQ 45.65625 7.234375 40.5 3 \r\nQ 35.359375 -1.21875 27.484375 -1.21875 \r\nQ 17.140625 -1.21875 11.234375 6.203125 \r\nQ 4.15625 15.140625 4.15625 35.296875 \r\nz\r\nM 13.1875 35.296875 \r\nQ 13.1875 17.671875 17.3125 11.828125 \r\nQ 21.4375 6 27.484375 6 \r\nQ 33.546875 6 37.671875 11.859375 \r\nQ 41.796875 17.71875 41.796875 35.296875 \r\nQ 41.796875 52.984375 37.671875 58.78125 \r\nQ 33.546875 64.59375 27.390625 64.59375 \r\nQ 21.34375 64.59375 17.71875 59.46875 \r\nQ 13.1875 52.9375 13.1875 35.296875 \r\nz\r\n\" id=\"ArialMT-48\"/>\r\n       </defs>\r\n       <use xlink:href=\"#ArialMT-48\"/>\r\n      </g>\r\n     </g>\r\n    </g>\r\n    <g id=\"xtick_5\">\r\n     <g id=\"line2d_5\">\r\n      <path clip-path=\"url(#pe048d75bf4)\" d=\"M 279.234778 239.229375 \r\nL 279.234778 21.789375 \r\n\" style=\"fill:none;stroke:#ffffff;stroke-linecap:round;\"/>\r\n     </g>\r\n     <g id=\"text_5\">\r\n      <!-- 1 -->\r\n      <g style=\"fill:#262626;\" transform=\"translate(276.176262 256.602969)scale(0.11 -0.11)\">\r\n       <use xlink:href=\"#ArialMT-49\"/>\r\n      </g>\r\n     </g>\r\n    </g>\r\n    <g id=\"xtick_6\">\r\n     <g id=\"line2d_6\">\r\n      <path clip-path=\"url(#pe048d75bf4)\" d=\"M 331.563462 239.229375 \r\nL 331.563462 21.789375 \r\n\" style=\"fill:none;stroke:#ffffff;stroke-linecap:round;\"/>\r\n     </g>\r\n     <g id=\"text_6\">\r\n      <!-- 2 -->\r\n      <g style=\"fill:#262626;\" transform=\"translate(328.504946 256.602969)scale(0.11 -0.11)\">\r\n       <use xlink:href=\"#ArialMT-50\"/>\r\n      </g>\r\n     </g>\r\n    </g>\r\n    <g id=\"xtick_7\">\r\n     <g id=\"line2d_7\">\r\n      <path clip-path=\"url(#pe048d75bf4)\" d=\"M 383.892146 239.229375 \r\nL 383.892146 21.789375 \r\n\" style=\"fill:none;stroke:#ffffff;stroke-linecap:round;\"/>\r\n     </g>\r\n     <g id=\"text_7\">\r\n      <!-- 3 -->\r\n      <g style=\"fill:#262626;\" transform=\"translate(380.83363 256.602969)scale(0.11 -0.11)\">\r\n       <use xlink:href=\"#ArialMT-51\"/>\r\n      </g>\r\n     </g>\r\n    </g>\r\n    <g id=\"text_8\">\r\n     <!-- Theoretical quantiles -->\r\n     <g style=\"fill:#262626;\" transform=\"translate(171.544844 271.378594)scale(0.12 -0.12)\">\r\n      <defs>\r\n       <path d=\"M 25.921875 0 \r\nL 25.921875 63.140625 \r\nL 2.34375 63.140625 \r\nL 2.34375 71.578125 \r\nL 59.078125 71.578125 \r\nL 59.078125 63.140625 \r\nL 35.40625 63.140625 \r\nL 35.40625 0 \r\nz\r\n\" id=\"ArialMT-84\"/>\r\n       <path d=\"M 6.59375 0 \r\nL 6.59375 71.578125 \r\nL 15.375 71.578125 \r\nL 15.375 45.90625 \r\nQ 21.53125 53.03125 30.90625 53.03125 \r\nQ 36.671875 53.03125 40.921875 50.75 \r\nQ 45.171875 48.484375 47 44.484375 \r\nQ 48.828125 40.484375 48.828125 32.859375 \r\nL 48.828125 0 \r\nL 40.046875 0 \r\nL 40.046875 32.859375 \r\nQ 40.046875 39.453125 37.1875 42.453125 \r\nQ 34.328125 45.453125 29.109375 45.453125 \r\nQ 25.203125 45.453125 21.75 43.421875 \r\nQ 18.3125 41.40625 16.84375 37.9375 \r\nQ 15.375 34.46875 15.375 28.375 \r\nL 15.375 0 \r\nz\r\n\" id=\"ArialMT-104\"/>\r\n       <path d=\"M 42.09375 16.703125 \r\nL 51.171875 15.578125 \r\nQ 49.03125 7.625 43.21875 3.21875 \r\nQ 37.40625 -1.171875 28.375 -1.171875 \r\nQ 17 -1.171875 10.328125 5.828125 \r\nQ 3.65625 12.84375 3.65625 25.484375 \r\nQ 3.65625 38.578125 10.390625 45.796875 \r\nQ 17.140625 53.03125 27.875 53.03125 \r\nQ 38.28125 53.03125 44.875 45.953125 \r\nQ 51.46875 38.875 51.46875 26.03125 \r\nQ 51.46875 25.25 51.421875 23.6875 \r\nL 12.75 23.6875 \r\nQ 13.234375 15.140625 17.578125 10.59375 \r\nQ 21.921875 6.0625 28.421875 6.0625 \r\nQ 33.25 6.0625 36.671875 8.59375 \r\nQ 40.09375 11.140625 42.09375 16.703125 \r\nz\r\nM 13.234375 30.90625 \r\nL 42.1875 30.90625 \r\nQ 41.609375 37.453125 38.875 40.71875 \r\nQ 34.671875 45.796875 27.984375 45.796875 \r\nQ 21.921875 45.796875 17.796875 41.75 \r\nQ 13.671875 37.703125 13.234375 30.90625 \r\nz\r\n\" id=\"ArialMT-101\"/>\r\n       <path d=\"M 3.328125 25.921875 \r\nQ 3.328125 40.328125 11.328125 47.265625 \r\nQ 18.015625 53.03125 27.640625 53.03125 \r\nQ 38.328125 53.03125 45.109375 46.015625 \r\nQ 51.90625 39.015625 51.90625 26.65625 \r\nQ 51.90625 16.65625 48.90625 10.90625 \r\nQ 45.90625 5.171875 40.15625 2 \r\nQ 34.421875 -1.171875 27.640625 -1.171875 \r\nQ 16.75 -1.171875 10.03125 5.8125 \r\nQ 3.328125 12.796875 3.328125 25.921875 \r\nz\r\nM 12.359375 25.921875 \r\nQ 12.359375 15.96875 16.703125 11.015625 \r\nQ 21.046875 6.0625 27.640625 6.0625 \r\nQ 34.1875 6.0625 38.53125 11.03125 \r\nQ 42.875 16.015625 42.875 26.21875 \r\nQ 42.875 35.84375 38.5 40.796875 \r\nQ 34.125 45.75 27.640625 45.75 \r\nQ 21.046875 45.75 16.703125 40.8125 \r\nQ 12.359375 35.890625 12.359375 25.921875 \r\nz\r\n\" id=\"ArialMT-111\"/>\r\n       <path d=\"M 6.5 0 \r\nL 6.5 51.859375 \r\nL 14.40625 51.859375 \r\nL 14.40625 44 \r\nQ 17.4375 49.515625 20 51.265625 \r\nQ 22.5625 53.03125 25.640625 53.03125 \r\nQ 30.078125 53.03125 34.671875 50.203125 \r\nL 31.640625 42.046875 \r\nQ 28.421875 43.953125 25.203125 43.953125 \r\nQ 22.3125 43.953125 20.015625 42.21875 \r\nQ 17.71875 40.484375 16.75 37.40625 \r\nQ 15.28125 32.71875 15.28125 27.15625 \r\nL 15.28125 0 \r\nz\r\n\" id=\"ArialMT-114\"/>\r\n       <path d=\"M 25.78125 7.859375 \r\nL 27.046875 0.09375 \r\nQ 23.34375 -0.6875 20.40625 -0.6875 \r\nQ 15.625 -0.6875 12.984375 0.828125 \r\nQ 10.359375 2.34375 9.28125 4.8125 \r\nQ 8.203125 7.28125 8.203125 15.1875 \r\nL 8.203125 45.015625 \r\nL 1.765625 45.015625 \r\nL 1.765625 51.859375 \r\nL 8.203125 51.859375 \r\nL 8.203125 64.703125 \r\nL 16.9375 69.96875 \r\nL 16.9375 51.859375 \r\nL 25.78125 51.859375 \r\nL 25.78125 45.015625 \r\nL 16.9375 45.015625 \r\nL 16.9375 14.703125 \r\nQ 16.9375 10.9375 17.40625 9.859375 \r\nQ 17.875 8.796875 18.921875 8.15625 \r\nQ 19.96875 7.515625 21.921875 7.515625 \r\nQ 23.390625 7.515625 25.78125 7.859375 \r\nz\r\n\" id=\"ArialMT-116\"/>\r\n       <path d=\"M 6.640625 61.46875 \r\nL 6.640625 71.578125 \r\nL 15.4375 71.578125 \r\nL 15.4375 61.46875 \r\nz\r\nM 6.640625 0 \r\nL 6.640625 51.859375 \r\nL 15.4375 51.859375 \r\nL 15.4375 0 \r\nz\r\n\" id=\"ArialMT-105\"/>\r\n       <path d=\"M 40.4375 19 \r\nL 49.078125 17.875 \r\nQ 47.65625 8.9375 41.8125 3.875 \r\nQ 35.984375 -1.171875 27.484375 -1.171875 \r\nQ 16.84375 -1.171875 10.375 5.78125 \r\nQ 3.90625 12.75 3.90625 25.734375 \r\nQ 3.90625 34.125 6.6875 40.421875 \r\nQ 9.46875 46.734375 15.15625 49.875 \r\nQ 20.84375 53.03125 27.546875 53.03125 \r\nQ 35.984375 53.03125 41.359375 48.75 \r\nQ 46.734375 44.484375 48.25 36.625 \r\nL 39.703125 35.296875 \r\nQ 38.484375 40.53125 35.375 43.15625 \r\nQ 32.28125 45.796875 27.875 45.796875 \r\nQ 21.234375 45.796875 17.078125 41.03125 \r\nQ 12.9375 36.28125 12.9375 25.984375 \r\nQ 12.9375 15.53125 16.9375 10.796875 \r\nQ 20.953125 6.0625 27.390625 6.0625 \r\nQ 32.5625 6.0625 36.03125 9.234375 \r\nQ 39.5 12.40625 40.4375 19 \r\nz\r\n\" id=\"ArialMT-99\"/>\r\n       <path d=\"M 40.4375 6.390625 \r\nQ 35.546875 2.25 31.03125 0.53125 \r\nQ 26.515625 -1.171875 21.34375 -1.171875 \r\nQ 12.796875 -1.171875 8.203125 3 \r\nQ 3.609375 7.171875 3.609375 13.671875 \r\nQ 3.609375 17.484375 5.34375 20.625 \r\nQ 7.078125 23.78125 9.890625 25.6875 \r\nQ 12.703125 27.59375 16.21875 28.5625 \r\nQ 18.796875 29.25 24.03125 29.890625 \r\nQ 34.671875 31.15625 39.703125 32.90625 \r\nQ 39.75 34.71875 39.75 35.203125 \r\nQ 39.75 40.578125 37.25 42.78125 \r\nQ 33.890625 45.75 27.25 45.75 \r\nQ 21.046875 45.75 18.09375 43.578125 \r\nQ 15.140625 41.40625 13.71875 35.890625 \r\nL 5.125 37.0625 \r\nQ 6.296875 42.578125 8.984375 45.96875 \r\nQ 11.671875 49.359375 16.75 51.1875 \r\nQ 21.828125 53.03125 28.515625 53.03125 \r\nQ 35.15625 53.03125 39.296875 51.46875 \r\nQ 43.453125 49.90625 45.40625 47.53125 \r\nQ 47.359375 45.171875 48.140625 41.546875 \r\nQ 48.578125 39.3125 48.578125 33.453125 \r\nL 48.578125 21.734375 \r\nQ 48.578125 9.46875 49.140625 6.21875 \r\nQ 49.703125 2.984375 51.375 0 \r\nL 42.1875 0 \r\nQ 40.828125 2.734375 40.4375 6.390625 \r\nz\r\nM 39.703125 26.03125 \r\nQ 34.90625 24.078125 25.34375 22.703125 \r\nQ 19.921875 21.921875 17.671875 20.9375 \r\nQ 15.4375 19.96875 14.203125 18.09375 \r\nQ 12.984375 16.21875 12.984375 13.921875 \r\nQ 12.984375 10.40625 15.640625 8.0625 \r\nQ 18.3125 5.71875 23.4375 5.71875 \r\nQ 28.515625 5.71875 32.46875 7.9375 \r\nQ 36.421875 10.15625 38.28125 14.015625 \r\nQ 39.703125 17 39.703125 22.796875 \r\nz\r\n\" id=\"ArialMT-97\"/>\r\n       <path d=\"M 6.390625 0 \r\nL 6.390625 71.578125 \r\nL 15.1875 71.578125 \r\nL 15.1875 0 \r\nz\r\n\" id=\"ArialMT-108\"/>\r\n       <path id=\"ArialMT-32\"/>\r\n       <path d=\"M 39.65625 -19.875 \r\nL 39.65625 5.515625 \r\nQ 37.59375 2.640625 33.90625 0.734375 \r\nQ 30.21875 -1.171875 26.078125 -1.171875 \r\nQ 16.84375 -1.171875 10.171875 6.203125 \r\nQ 3.515625 13.578125 3.515625 26.421875 \r\nQ 3.515625 34.234375 6.21875 40.421875 \r\nQ 8.9375 46.625 14.078125 49.828125 \r\nQ 19.234375 53.03125 25.390625 53.03125 \r\nQ 35.015625 53.03125 40.53125 44.921875 \r\nL 40.53125 51.859375 \r\nL 48.4375 51.859375 \r\nL 48.4375 -19.875 \r\nz\r\nM 12.546875 26.078125 \r\nQ 12.546875 16.0625 16.75 11.0625 \r\nQ 20.953125 6.0625 26.8125 6.0625 \r\nQ 32.421875 6.0625 36.46875 10.8125 \r\nQ 40.53125 15.578125 40.53125 25.296875 \r\nQ 40.53125 35.640625 36.25 40.859375 \r\nQ 31.984375 46.09375 26.21875 46.09375 \r\nQ 20.515625 46.09375 16.53125 41.234375 \r\nQ 12.546875 36.375 12.546875 26.078125 \r\nz\r\n\" id=\"ArialMT-113\"/>\r\n       <path d=\"M 40.578125 0 \r\nL 40.578125 7.625 \r\nQ 34.515625 -1.171875 24.125 -1.171875 \r\nQ 19.53125 -1.171875 15.546875 0.578125 \r\nQ 11.578125 2.34375 9.640625 5 \r\nQ 7.71875 7.671875 6.9375 11.53125 \r\nQ 6.390625 14.109375 6.390625 19.734375 \r\nL 6.390625 51.859375 \r\nL 15.1875 51.859375 \r\nL 15.1875 23.09375 \r\nQ 15.1875 16.21875 15.71875 13.8125 \r\nQ 16.546875 10.359375 19.234375 8.375 \r\nQ 21.921875 6.390625 25.875 6.390625 \r\nQ 29.828125 6.390625 33.296875 8.421875 \r\nQ 36.765625 10.453125 38.203125 13.9375 \r\nQ 39.65625 17.4375 39.65625 24.078125 \r\nL 39.65625 51.859375 \r\nL 48.4375 51.859375 \r\nL 48.4375 0 \r\nz\r\n\" id=\"ArialMT-117\"/>\r\n       <path d=\"M 6.59375 0 \r\nL 6.59375 51.859375 \r\nL 14.5 51.859375 \r\nL 14.5 44.484375 \r\nQ 20.21875 53.03125 31 53.03125 \r\nQ 35.6875 53.03125 39.625 51.34375 \r\nQ 43.5625 49.65625 45.515625 46.921875 \r\nQ 47.46875 44.1875 48.25 40.4375 \r\nQ 48.734375 37.984375 48.734375 31.890625 \r\nL 48.734375 0 \r\nL 39.9375 0 \r\nL 39.9375 31.546875 \r\nQ 39.9375 36.921875 38.90625 39.578125 \r\nQ 37.890625 42.234375 35.28125 43.8125 \r\nQ 32.671875 45.40625 29.15625 45.40625 \r\nQ 23.53125 45.40625 19.453125 41.84375 \r\nQ 15.375 38.28125 15.375 28.328125 \r\nL 15.375 0 \r\nz\r\n\" id=\"ArialMT-110\"/>\r\n       <path d=\"M 3.078125 15.484375 \r\nL 11.765625 16.84375 \r\nQ 12.5 11.625 15.84375 8.84375 \r\nQ 19.1875 6.0625 25.203125 6.0625 \r\nQ 31.25 6.0625 34.171875 8.515625 \r\nQ 37.109375 10.984375 37.109375 14.3125 \r\nQ 37.109375 17.28125 34.515625 19 \r\nQ 32.71875 20.171875 25.53125 21.96875 \r\nQ 15.875 24.421875 12.140625 26.203125 \r\nQ 8.40625 27.984375 6.46875 31.125 \r\nQ 4.546875 34.28125 4.546875 38.09375 \r\nQ 4.546875 41.546875 6.125 44.5 \r\nQ 7.71875 47.46875 10.453125 49.421875 \r\nQ 12.5 50.921875 16.03125 51.96875 \r\nQ 19.578125 53.03125 23.640625 53.03125 \r\nQ 29.734375 53.03125 34.34375 51.265625 \r\nQ 38.96875 49.515625 41.15625 46.5 \r\nQ 43.359375 43.5 44.1875 38.484375 \r\nL 35.59375 37.3125 \r\nQ 35.015625 41.3125 32.203125 43.546875 \r\nQ 29.390625 45.796875 24.265625 45.796875 \r\nQ 18.21875 45.796875 15.625 43.796875 \r\nQ 13.03125 41.796875 13.03125 39.109375 \r\nQ 13.03125 37.40625 14.109375 36.03125 \r\nQ 15.1875 34.625 17.484375 33.6875 \r\nQ 18.796875 33.203125 25.25 31.453125 \r\nQ 34.578125 28.953125 38.25 27.359375 \r\nQ 41.9375 25.78125 44.03125 22.75 \r\nQ 46.140625 19.734375 46.140625 15.234375 \r\nQ 46.140625 10.84375 43.578125 6.953125 \r\nQ 41.015625 3.078125 36.171875 0.953125 \r\nQ 31.34375 -1.171875 25.25 -1.171875 \r\nQ 15.140625 -1.171875 9.84375 3.03125 \r\nQ 4.546875 7.234375 3.078125 15.484375 \r\nz\r\n\" id=\"ArialMT-115\"/>\r\n      </defs>\r\n      <use xlink:href=\"#ArialMT-84\"/>\r\n      <use x=\"61.083984\" xlink:href=\"#ArialMT-104\"/>\r\n      <use x=\"116.699219\" xlink:href=\"#ArialMT-101\"/>\r\n      <use x=\"172.314453\" xlink:href=\"#ArialMT-111\"/>\r\n      <use x=\"227.929688\" xlink:href=\"#ArialMT-114\"/>\r\n      <use x=\"261.230469\" xlink:href=\"#ArialMT-101\"/>\r\n      <use x=\"316.845703\" xlink:href=\"#ArialMT-116\"/>\r\n      <use x=\"344.628906\" xlink:href=\"#ArialMT-105\"/>\r\n      <use x=\"366.845703\" xlink:href=\"#ArialMT-99\"/>\r\n      <use x=\"416.845703\" xlink:href=\"#ArialMT-97\"/>\r\n      <use x=\"472.460938\" xlink:href=\"#ArialMT-108\"/>\r\n      <use x=\"494.677734\" xlink:href=\"#ArialMT-32\"/>\r\n      <use x=\"522.460938\" xlink:href=\"#ArialMT-113\"/>\r\n      <use x=\"578.076172\" xlink:href=\"#ArialMT-117\"/>\r\n      <use x=\"633.691406\" xlink:href=\"#ArialMT-97\"/>\r\n      <use x=\"689.306641\" xlink:href=\"#ArialMT-110\"/>\r\n      <use x=\"744.921875\" xlink:href=\"#ArialMT-116\"/>\r\n      <use x=\"772.705078\" xlink:href=\"#ArialMT-105\"/>\r\n      <use x=\"794.921875\" xlink:href=\"#ArialMT-108\"/>\r\n      <use x=\"817.138672\" xlink:href=\"#ArialMT-101\"/>\r\n      <use x=\"872.753906\" xlink:href=\"#ArialMT-115\"/>\r\n     </g>\r\n    </g>\r\n   </g>\r\n   <g id=\"matplotlib.axis_2\">\r\n    <g id=\"ytick_1\">\r\n     <g id=\"line2d_8\">\r\n      <path clip-path=\"url(#pe048d75bf4)\" d=\"M 59.506094 228.823102 \r\nL 394.306094 228.823102 \r\n\" style=\"fill:none;stroke:#ffffff;stroke-linecap:round;\"/>\r\n     </g>\r\n     <g id=\"text_9\">\r\n      <!-- −0.20 -->\r\n      <g style=\"fill:#262626;\" transform=\"translate(22.174375 232.759899)scale(0.11 -0.11)\">\r\n       <defs>\r\n        <path d=\"M 9.078125 0 \r\nL 9.078125 10.015625 \r\nL 19.09375 10.015625 \r\nL 19.09375 0 \r\nz\r\n\" id=\"ArialMT-46\"/>\r\n       </defs>\r\n       <use xlink:href=\"#ArialMT-8722\"/>\r\n       <use x=\"58.398438\" xlink:href=\"#ArialMT-48\"/>\r\n       <use x=\"114.013672\" xlink:href=\"#ArialMT-46\"/>\r\n       <use x=\"141.796875\" xlink:href=\"#ArialMT-50\"/>\r\n       <use x=\"197.412109\" xlink:href=\"#ArialMT-48\"/>\r\n      </g>\r\n     </g>\r\n    </g>\r\n    <g id=\"ytick_2\">\r\n     <g id=\"line2d_9\">\r\n      <path clip-path=\"url(#pe048d75bf4)\" d=\"M 59.506094 204.24467 \r\nL 394.306094 204.24467 \r\n\" style=\"fill:none;stroke:#ffffff;stroke-linecap:round;\"/>\r\n     </g>\r\n     <g id=\"text_10\">\r\n      <!-- −0.15 -->\r\n      <g style=\"fill:#262626;\" transform=\"translate(22.174375 208.181467)scale(0.11 -0.11)\">\r\n       <defs>\r\n        <path d=\"M 4.15625 18.75 \r\nL 13.375 19.53125 \r\nQ 14.40625 12.796875 18.140625 9.390625 \r\nQ 21.875 6 27.15625 6 \r\nQ 33.5 6 37.890625 10.78125 \r\nQ 42.28125 15.578125 42.28125 23.484375 \r\nQ 42.28125 31 38.0625 35.34375 \r\nQ 33.84375 39.703125 27 39.703125 \r\nQ 22.75 39.703125 19.328125 37.765625 \r\nQ 15.921875 35.84375 13.96875 32.765625 \r\nL 5.71875 33.84375 \r\nL 12.640625 70.609375 \r\nL 48.25 70.609375 \r\nL 48.25 62.203125 \r\nL 19.671875 62.203125 \r\nL 15.828125 42.96875 \r\nQ 22.265625 47.46875 29.34375 47.46875 \r\nQ 38.71875 47.46875 45.15625 40.96875 \r\nQ 51.609375 34.46875 51.609375 24.265625 \r\nQ 51.609375 14.546875 45.953125 7.46875 \r\nQ 39.0625 -1.21875 27.15625 -1.21875 \r\nQ 17.390625 -1.21875 11.203125 4.25 \r\nQ 5.03125 9.71875 4.15625 18.75 \r\nz\r\n\" id=\"ArialMT-53\"/>\r\n       </defs>\r\n       <use xlink:href=\"#ArialMT-8722\"/>\r\n       <use x=\"58.398438\" xlink:href=\"#ArialMT-48\"/>\r\n       <use x=\"114.013672\" xlink:href=\"#ArialMT-46\"/>\r\n       <use x=\"141.796875\" xlink:href=\"#ArialMT-49\"/>\r\n       <use x=\"197.412109\" xlink:href=\"#ArialMT-53\"/>\r\n      </g>\r\n     </g>\r\n    </g>\r\n    <g id=\"ytick_3\">\r\n     <g id=\"line2d_10\">\r\n      <path clip-path=\"url(#pe048d75bf4)\" d=\"M 59.506094 179.666238 \r\nL 394.306094 179.666238 \r\n\" style=\"fill:none;stroke:#ffffff;stroke-linecap:round;\"/>\r\n     </g>\r\n     <g id=\"text_11\">\r\n      <!-- −0.10 -->\r\n      <g style=\"fill:#262626;\" transform=\"translate(22.174375 183.603035)scale(0.11 -0.11)\">\r\n       <use xlink:href=\"#ArialMT-8722\"/>\r\n       <use x=\"58.398438\" xlink:href=\"#ArialMT-48\"/>\r\n       <use x=\"114.013672\" xlink:href=\"#ArialMT-46\"/>\r\n       <use x=\"141.796875\" xlink:href=\"#ArialMT-49\"/>\r\n       <use x=\"197.412109\" xlink:href=\"#ArialMT-48\"/>\r\n      </g>\r\n     </g>\r\n    </g>\r\n    <g id=\"ytick_4\">\r\n     <g id=\"line2d_11\">\r\n      <path clip-path=\"url(#pe048d75bf4)\" d=\"M 59.506094 155.087807 \r\nL 394.306094 155.087807 \r\n\" style=\"fill:none;stroke:#ffffff;stroke-linecap:round;\"/>\r\n     </g>\r\n     <g id=\"text_12\">\r\n      <!-- −0.05 -->\r\n      <g style=\"fill:#262626;\" transform=\"translate(22.174375 159.024604)scale(0.11 -0.11)\">\r\n       <use xlink:href=\"#ArialMT-8722\"/>\r\n       <use x=\"58.398438\" xlink:href=\"#ArialMT-48\"/>\r\n       <use x=\"114.013672\" xlink:href=\"#ArialMT-46\"/>\r\n       <use x=\"141.796875\" xlink:href=\"#ArialMT-48\"/>\r\n       <use x=\"197.412109\" xlink:href=\"#ArialMT-53\"/>\r\n      </g>\r\n     </g>\r\n    </g>\r\n    <g id=\"ytick_5\">\r\n     <g id=\"line2d_12\">\r\n      <path clip-path=\"url(#pe048d75bf4)\" d=\"M 59.506094 130.509375 \r\nL 394.306094 130.509375 \r\n\" style=\"fill:none;stroke:#ffffff;stroke-linecap:round;\"/>\r\n     </g>\r\n     <g id=\"text_13\">\r\n      <!-- 0.00 -->\r\n      <g style=\"fill:#262626;\" transform=\"translate(28.599063 134.446172)scale(0.11 -0.11)\">\r\n       <use xlink:href=\"#ArialMT-48\"/>\r\n       <use x=\"55.615234\" xlink:href=\"#ArialMT-46\"/>\r\n       <use x=\"83.398438\" xlink:href=\"#ArialMT-48\"/>\r\n       <use x=\"139.013672\" xlink:href=\"#ArialMT-48\"/>\r\n      </g>\r\n     </g>\r\n    </g>\r\n    <g id=\"ytick_6\">\r\n     <g id=\"line2d_13\">\r\n      <path clip-path=\"url(#pe048d75bf4)\" d=\"M 59.506094 105.930943 \r\nL 394.306094 105.930943 \r\n\" style=\"fill:none;stroke:#ffffff;stroke-linecap:round;\"/>\r\n     </g>\r\n     <g id=\"text_14\">\r\n      <!-- 0.05 -->\r\n      <g style=\"fill:#262626;\" transform=\"translate(28.599063 109.86774)scale(0.11 -0.11)\">\r\n       <use xlink:href=\"#ArialMT-48\"/>\r\n       <use x=\"55.615234\" xlink:href=\"#ArialMT-46\"/>\r\n       <use x=\"83.398438\" xlink:href=\"#ArialMT-48\"/>\r\n       <use x=\"139.013672\" xlink:href=\"#ArialMT-53\"/>\r\n      </g>\r\n     </g>\r\n    </g>\r\n    <g id=\"ytick_7\">\r\n     <g id=\"line2d_14\">\r\n      <path clip-path=\"url(#pe048d75bf4)\" d=\"M 59.506094 81.352512 \r\nL 394.306094 81.352512 \r\n\" style=\"fill:none;stroke:#ffffff;stroke-linecap:round;\"/>\r\n     </g>\r\n     <g id=\"text_15\">\r\n      <!-- 0.10 -->\r\n      <g style=\"fill:#262626;\" transform=\"translate(28.599063 85.289308)scale(0.11 -0.11)\">\r\n       <use xlink:href=\"#ArialMT-48\"/>\r\n       <use x=\"55.615234\" xlink:href=\"#ArialMT-46\"/>\r\n       <use x=\"83.398438\" xlink:href=\"#ArialMT-49\"/>\r\n       <use x=\"139.013672\" xlink:href=\"#ArialMT-48\"/>\r\n      </g>\r\n     </g>\r\n    </g>\r\n    <g id=\"ytick_8\">\r\n     <g id=\"line2d_15\">\r\n      <path clip-path=\"url(#pe048d75bf4)\" d=\"M 59.506094 56.77408 \r\nL 394.306094 56.77408 \r\n\" style=\"fill:none;stroke:#ffffff;stroke-linecap:round;\"/>\r\n     </g>\r\n     <g id=\"text_16\">\r\n      <!-- 0.15 -->\r\n      <g style=\"fill:#262626;\" transform=\"translate(28.599063 60.710877)scale(0.11 -0.11)\">\r\n       <use xlink:href=\"#ArialMT-48\"/>\r\n       <use x=\"55.615234\" xlink:href=\"#ArialMT-46\"/>\r\n       <use x=\"83.398438\" xlink:href=\"#ArialMT-49\"/>\r\n       <use x=\"139.013672\" xlink:href=\"#ArialMT-53\"/>\r\n      </g>\r\n     </g>\r\n    </g>\r\n    <g id=\"ytick_9\">\r\n     <g id=\"line2d_16\">\r\n      <path clip-path=\"url(#pe048d75bf4)\" d=\"M 59.506094 32.195648 \r\nL 394.306094 32.195648 \r\n\" style=\"fill:none;stroke:#ffffff;stroke-linecap:round;\"/>\r\n     </g>\r\n     <g id=\"text_17\">\r\n      <!-- 0.20 -->\r\n      <g style=\"fill:#262626;\" transform=\"translate(28.599063 36.132445)scale(0.11 -0.11)\">\r\n       <use xlink:href=\"#ArialMT-48\"/>\r\n       <use x=\"55.615234\" xlink:href=\"#ArialMT-46\"/>\r\n       <use x=\"83.398438\" xlink:href=\"#ArialMT-50\"/>\r\n       <use x=\"139.013672\" xlink:href=\"#ArialMT-48\"/>\r\n      </g>\r\n     </g>\r\n    </g>\r\n    <g id=\"text_18\">\r\n     <!-- Ordered Values -->\r\n     <g style=\"fill:#262626;\" transform=\"translate(15.789375 172.0875)rotate(-90)scale(0.12 -0.12)\">\r\n      <defs>\r\n       <path d=\"M 4.828125 34.859375 \r\nQ 4.828125 52.6875 14.390625 62.765625 \r\nQ 23.96875 72.859375 39.109375 72.859375 \r\nQ 49.03125 72.859375 56.984375 68.109375 \r\nQ 64.9375 63.375 69.109375 54.90625 \r\nQ 73.296875 46.4375 73.296875 35.6875 \r\nQ 73.296875 24.8125 68.890625 16.21875 \r\nQ 64.5 7.625 56.4375 3.203125 \r\nQ 48.390625 -1.21875 39.0625 -1.21875 \r\nQ 28.953125 -1.21875 20.984375 3.65625 \r\nQ 13.03125 8.546875 8.921875 16.984375 \r\nQ 4.828125 25.4375 4.828125 34.859375 \r\nz\r\nM 14.59375 34.71875 \r\nQ 14.59375 21.78125 21.546875 14.328125 \r\nQ 28.515625 6.890625 39.015625 6.890625 \r\nQ 49.703125 6.890625 56.609375 14.40625 \r\nQ 63.53125 21.921875 63.53125 35.75 \r\nQ 63.53125 44.484375 60.578125 51 \r\nQ 57.625 57.515625 51.921875 61.109375 \r\nQ 46.234375 64.703125 39.15625 64.703125 \r\nQ 29.109375 64.703125 21.84375 57.78125 \r\nQ 14.59375 50.875 14.59375 34.71875 \r\nz\r\n\" id=\"ArialMT-79\"/>\r\n       <path d=\"M 40.234375 0 \r\nL 40.234375 6.546875 \r\nQ 35.296875 -1.171875 25.734375 -1.171875 \r\nQ 19.53125 -1.171875 14.328125 2.25 \r\nQ 9.125 5.671875 6.265625 11.796875 \r\nQ 3.421875 17.921875 3.421875 25.875 \r\nQ 3.421875 33.640625 6 39.96875 \r\nQ 8.59375 46.296875 13.765625 49.65625 \r\nQ 18.953125 53.03125 25.34375 53.03125 \r\nQ 30.03125 53.03125 33.6875 51.046875 \r\nQ 37.359375 49.078125 39.65625 45.90625 \r\nL 39.65625 71.578125 \r\nL 48.390625 71.578125 \r\nL 48.390625 0 \r\nz\r\nM 12.453125 25.875 \r\nQ 12.453125 15.921875 16.640625 10.984375 \r\nQ 20.84375 6.0625 26.5625 6.0625 \r\nQ 32.328125 6.0625 36.34375 10.765625 \r\nQ 40.375 15.484375 40.375 25.140625 \r\nQ 40.375 35.796875 36.265625 40.765625 \r\nQ 32.171875 45.75 26.171875 45.75 \r\nQ 20.3125 45.75 16.375 40.96875 \r\nQ 12.453125 36.1875 12.453125 25.875 \r\nz\r\n\" id=\"ArialMT-100\"/>\r\n       <path d=\"M 28.171875 0 \r\nL 0.4375 71.578125 \r\nL 10.6875 71.578125 \r\nL 29.296875 19.578125 \r\nQ 31.546875 13.328125 33.0625 7.859375 \r\nQ 34.71875 13.71875 36.921875 19.578125 \r\nL 56.25 71.578125 \r\nL 65.921875 71.578125 \r\nL 37.890625 0 \r\nz\r\n\" id=\"ArialMT-86\"/>\r\n      </defs>\r\n      <use xlink:href=\"#ArialMT-79\"/>\r\n      <use x=\"77.783203\" xlink:href=\"#ArialMT-114\"/>\r\n      <use x=\"111.083984\" xlink:href=\"#ArialMT-100\"/>\r\n      <use x=\"166.699219\" xlink:href=\"#ArialMT-101\"/>\r\n      <use x=\"222.314453\" xlink:href=\"#ArialMT-114\"/>\r\n      <use x=\"255.615234\" xlink:href=\"#ArialMT-101\"/>\r\n      <use x=\"311.230469\" xlink:href=\"#ArialMT-100\"/>\r\n      <use x=\"366.845703\" xlink:href=\"#ArialMT-32\"/>\r\n      <use x=\"394.628906\" xlink:href=\"#ArialMT-86\"/>\r\n      <use x=\"453.953125\" xlink:href=\"#ArialMT-97\"/>\r\n      <use x=\"509.568359\" xlink:href=\"#ArialMT-108\"/>\r\n      <use x=\"531.785156\" xlink:href=\"#ArialMT-117\"/>\r\n      <use x=\"587.400391\" xlink:href=\"#ArialMT-101\"/>\r\n      <use x=\"643.015625\" xlink:href=\"#ArialMT-115\"/>\r\n     </g>\r\n    </g>\r\n   </g>\r\n   <g id=\"line2d_17\">\r\n    <defs>\r\n     <path d=\"M 0 3 \r\nC 0.795609 3 1.55874 2.683901 2.12132 2.12132 \r\nC 2.683901 1.55874 3 0.795609 3 0 \r\nC 3 -0.795609 2.683901 -1.55874 2.12132 -2.12132 \r\nC 1.55874 -2.683901 0.795609 -3 0 -3 \r\nC -0.795609 -3 -1.55874 -2.683901 -2.12132 -2.12132 \r\nC -2.683901 -1.55874 -3 -0.795609 -3 0 \r\nC -3 0.795609 -2.683901 1.55874 -2.12132 2.12132 \r\nC -1.55874 2.683901 -0.795609 3 0 3 \r\nz\r\n\" id=\"mbad1d91599\" style=\"stroke:#4c72b0;\"/>\r\n    </defs>\r\n    <g clip-path=\"url(#pe048d75bf4)\">\r\n     <use style=\"fill:#4c72b0;stroke:#4c72b0;\" x=\"74.724276\" xlink:href=\"#mbad1d91599\" y=\"226.579568\"/>\r\n     <use style=\"fill:#4c72b0;stroke:#4c72b0;\" x=\"89.86693\" xlink:href=\"#mbad1d91599\" y=\"222.076223\"/>\r\n     <use style=\"fill:#4c72b0;stroke:#4c72b0;\" x=\"98.41169\" xlink:href=\"#mbad1d91599\" y=\"219.830852\"/>\r\n     <use style=\"fill:#4c72b0;stroke:#4c72b0;\" x=\"104.485805\" xlink:href=\"#mbad1d91599\" y=\"219.233948\"/>\r\n     <use style=\"fill:#4c72b0;stroke:#4c72b0;\" x=\"109.25507\" xlink:href=\"#mbad1d91599\" y=\"216.586139\"/>\r\n     <use style=\"fill:#4c72b0;stroke:#4c72b0;\" x=\"113.210133\" xlink:href=\"#mbad1d91599\" y=\"207.825234\"/>\r\n     <use style=\"fill:#4c72b0;stroke:#4c72b0;\" x=\"116.605803\" xlink:href=\"#mbad1d91599\" y=\"206.722356\"/>\r\n     <use style=\"fill:#4c72b0;stroke:#4c72b0;\" x=\"119.592071\" xlink:href=\"#mbad1d91599\" y=\"205.567259\"/>\r\n     <use style=\"fill:#4c72b0;stroke:#4c72b0;\" x=\"122.264975\" xlink:href=\"#mbad1d91599\" y=\"204.982959\"/>\r\n     <use style=\"fill:#4c72b0;stroke:#4c72b0;\" x=\"124.689854\" xlink:href=\"#mbad1d91599\" y=\"204.386054\"/>\r\n     <use style=\"fill:#4c72b0;stroke:#4c72b0;\" x=\"126.913252\" xlink:href=\"#mbad1d91599\" y=\"203.568574\"/>\r\n     <use style=\"fill:#4c72b0;stroke:#4c72b0;\" x=\"128.969544\" xlink:href=\"#mbad1d91599\" y=\"201.414135\"/>\r\n     <use style=\"fill:#4c72b0;stroke:#4c72b0;\" x=\"130.884864\" xlink:href=\"#mbad1d91599\" y=\"200.635367\"/>\r\n     <use style=\"fill:#4c72b0;stroke:#4c72b0;\" x=\"132.679567\" xlink:href=\"#mbad1d91599\" y=\"200.297752\"/>\r\n     <use style=\"fill:#4c72b0;stroke:#4c72b0;\" x=\"134.369824\" xlink:href=\"#mbad1d91599\" y=\"198.948189\"/>\r\n     <use style=\"fill:#4c72b0;stroke:#4c72b0;\" x=\"135.968708\" xlink:href=\"#mbad1d91599\" y=\"198.766326\"/>\r\n     <use style=\"fill:#4c72b0;stroke:#4c72b0;\" x=\"137.48694\" xlink:href=\"#mbad1d91599\" y=\"197.481585\"/>\r\n     <use style=\"fill:#4c72b0;stroke:#4c72b0;\" x=\"138.93343\" xlink:href=\"#mbad1d91599\" y=\"197.455477\"/>\r\n     <use style=\"fill:#4c72b0;stroke:#4c72b0;\" x=\"140.315664\" xlink:href=\"#mbad1d91599\" y=\"196.949503\"/>\r\n     <use style=\"fill:#4c72b0;stroke:#4c72b0;\" x=\"141.639993\" xlink:href=\"#mbad1d91599\" y=\"196.144627\"/>\r\n     <use style=\"fill:#4c72b0;stroke:#4c72b0;\" x=\"142.911859\" xlink:href=\"#mbad1d91599\" y=\"193.146598\"/>\r\n     <use style=\"fill:#4c72b0;stroke:#4c72b0;\" x=\"144.135956\" xlink:href=\"#mbad1d91599\" y=\"189.278872\"/>\r\n     <use style=\"fill:#4c72b0;stroke:#4c72b0;\" x=\"145.316367\" xlink:href=\"#mbad1d91599\" y=\"188.214706\"/>\r\n     <use style=\"fill:#4c72b0;stroke:#4c72b0;\" x=\"146.456663\" xlink:href=\"#mbad1d91599\" y=\"187.05961\"/>\r\n     <use style=\"fill:#4c72b0;stroke:#4c72b0;\" x=\"147.559988\" xlink:href=\"#mbad1d91599\" y=\"185.839692\"/>\r\n     <use style=\"fill:#4c72b0;stroke:#4c72b0;\" x=\"148.629126\" xlink:href=\"#mbad1d91599\" y=\"185.216678\"/>\r\n     <use style=\"fill:#4c72b0;stroke:#4c72b0;\" x=\"149.666552\" xlink:href=\"#mbad1d91599\" y=\"184.879062\"/>\r\n     <use style=\"fill:#4c72b0;stroke:#4c72b0;\" x=\"150.674479\" xlink:href=\"#mbad1d91599\" y=\"184.619773\"/>\r\n     <use style=\"fill:#4c72b0;stroke:#4c72b0;\" x=\"151.654891\" xlink:href=\"#mbad1d91599\" y=\"183.905828\"/>\r\n     <use style=\"fill:#4c72b0;stroke:#4c72b0;\" x=\"152.609578\" xlink:href=\"#mbad1d91599\" y=\"183.50339\"/>\r\n     <use style=\"fill:#4c72b0;stroke:#4c72b0;\" x=\"153.540156\" xlink:href=\"#mbad1d91599\" y=\"181.971965\"/>\r\n     <use style=\"fill:#4c72b0;stroke:#4c72b0;\" x=\"154.448094\" xlink:href=\"#mbad1d91599\" y=\"181.907143\"/>\r\n     <use style=\"fill:#4c72b0;stroke:#4c72b0;\" x=\"155.334729\" xlink:href=\"#mbad1d91599\" y=\"180.596293\"/>\r\n     <use style=\"fill:#4c72b0;stroke:#4c72b0;\" x=\"156.201279\" xlink:href=\"#mbad1d91599\" y=\"180.349608\"/>\r\n     <use style=\"fill:#4c72b0;stroke:#4c72b0;\" x=\"157.048863\" xlink:href=\"#mbad1d91599\" y=\"179.350265\"/>\r\n     <use style=\"fill:#4c72b0;stroke:#4c72b0;\" x=\"157.878506\" xlink:href=\"#mbad1d91599\" y=\"178.506676\"/>\r\n     <use style=\"fill:#4c72b0;stroke:#4c72b0;\" x=\"158.691151\" xlink:href=\"#mbad1d91599\" y=\"177.909771\"/>\r\n     <use style=\"fill:#4c72b0;stroke:#4c72b0;\" x=\"159.48767\" xlink:href=\"#mbad1d91599\" y=\"175.57347\"/>\r\n     <use style=\"fill:#4c72b0;stroke:#4c72b0;\" x=\"160.268868\" xlink:href=\"#mbad1d91599\" y=\"175.015278\"/>\r\n     <use style=\"fill:#4c72b0;stroke:#4c72b0;\" x=\"161.03549\" xlink:href=\"#mbad1d91599\" y=\"174.548018\"/>\r\n     <use style=\"fill:#4c72b0;stroke:#4c72b0;\" x=\"161.78823\" xlink:href=\"#mbad1d91599\" y=\"174.509305\"/>\r\n     <use style=\"fill:#4c72b0;stroke:#4c72b0;\" x=\"162.527732\" xlink:href=\"#mbad1d91599\" y=\"174.418374\"/>\r\n     <use style=\"fill:#4c72b0;stroke:#4c72b0;\" x=\"163.254595\" xlink:href=\"#mbad1d91599\" y=\"173.639606\"/>\r\n     <use style=\"fill:#4c72b0;stroke:#4c72b0;\" x=\"163.96938\" xlink:href=\"#mbad1d91599\" y=\"173.574784\"/>\r\n     <use style=\"fill:#4c72b0;stroke:#4c72b0;\" x=\"164.672612\" xlink:href=\"#mbad1d91599\" y=\"172.640264\"/>\r\n     <use style=\"fill:#4c72b0;stroke:#4c72b0;\" x=\"165.36478\" xlink:href=\"#mbad1d91599\" y=\"171.991141\"/>\r\n     <use style=\"fill:#4c72b0;stroke:#4c72b0;\" x=\"166.046345\" xlink:href=\"#mbad1d91599\" y=\"171.121443\"/>\r\n     <use style=\"fill:#4c72b0;stroke:#4c72b0;\" x=\"166.717739\" xlink:href=\"#mbad1d91599\" y=\"170.459716\"/>\r\n     <use style=\"fill:#4c72b0;stroke:#4c72b0;\" x=\"167.379369\" xlink:href=\"#mbad1d91599\" y=\"169.953742\"/>\r\n     <use style=\"fill:#4c72b0;stroke:#4c72b0;\" x=\"168.031617\" xlink:href=\"#mbad1d91599\" y=\"169.057935\"/>\r\n     <use style=\"fill:#4c72b0;stroke:#4c72b0;\" x=\"168.674844\" xlink:href=\"#mbad1d91599\" y=\"168.954399\"/>\r\n     <use style=\"fill:#4c72b0;stroke:#4c72b0;\" x=\"169.309391\" xlink:href=\"#mbad1d91599\" y=\"168.92829\"/>\r\n     <use style=\"fill:#4c72b0;stroke:#4c72b0;\" x=\"169.935579\" xlink:href=\"#mbad1d91599\" y=\"168.590674\"/>\r\n     <use style=\"fill:#4c72b0;stroke:#4c72b0;\" x=\"170.553715\" xlink:href=\"#mbad1d91599\" y=\"167.734481\"/>\r\n     <use style=\"fill:#4c72b0;stroke:#4c72b0;\" x=\"171.164085\" xlink:href=\"#mbad1d91599\" y=\"166.955713\"/>\r\n     <use style=\"fill:#4c72b0;stroke:#4c72b0;\" x=\"171.766965\" xlink:href=\"#mbad1d91599\" y=\"166.747742\"/>\r\n     <use style=\"fill:#4c72b0;stroke:#4c72b0;\" x=\"172.362613\" xlink:href=\"#mbad1d91599\" y=\"166.553275\"/>\r\n     <use style=\"fill:#4c72b0;stroke:#4c72b0;\" x=\"172.951276\" xlink:href=\"#mbad1d91599\" y=\"165.930262\"/>\r\n     <use style=\"fill:#4c72b0;stroke:#4c72b0;\" x=\"173.53319\" xlink:href=\"#mbad1d91599\" y=\"165.839331\"/>\r\n     <use style=\"fill:#4c72b0;stroke:#4c72b0;\" x=\"174.108577\" xlink:href=\"#mbad1d91599\" y=\"165.800617\"/>\r\n     <use style=\"fill:#4c72b0;stroke:#4c72b0;\" x=\"174.67765\" xlink:href=\"#mbad1d91599\" y=\"165.48911\"/>\r\n     <use style=\"fill:#4c72b0;stroke:#4c72b0;\" x=\"175.240613\" xlink:href=\"#mbad1d91599\" y=\"165.151495\"/>\r\n     <use style=\"fill:#4c72b0;stroke:#4c72b0;\" x=\"175.797659\" xlink:href=\"#mbad1d91599\" y=\"164.969632\"/>\r\n     <use style=\"fill:#4c72b0;stroke:#4c72b0;\" x=\"176.348972\" xlink:href=\"#mbad1d91599\" y=\"162.997055\"/>\r\n     <use style=\"fill:#4c72b0;stroke:#4c72b0;\" x=\"176.894731\" xlink:href=\"#mbad1d91599\" y=\"162.997055\"/>\r\n     <use style=\"fill:#4c72b0;stroke:#4c72b0;\" x=\"177.435102\" xlink:href=\"#mbad1d91599\" y=\"162.841302\"/>\r\n     <use style=\"fill:#4c72b0;stroke:#4c72b0;\" x=\"177.970249\" xlink:href=\"#mbad1d91599\" y=\"162.555904\"/>\r\n     <use style=\"fill:#4c72b0;stroke:#4c72b0;\" x=\"178.500327\" xlink:href=\"#mbad1d91599\" y=\"161.868068\"/>\r\n     <use style=\"fill:#4c72b0;stroke:#4c72b0;\" x=\"179.025483\" xlink:href=\"#mbad1d91599\" y=\"161.400808\"/>\r\n     <use style=\"fill:#4c72b0;stroke:#4c72b0;\" x=\"179.545861\" xlink:href=\"#mbad1d91599\" y=\"161.309877\"/>\r\n     <use style=\"fill:#4c72b0;stroke:#4c72b0;\" x=\"180.061597\" xlink:href=\"#mbad1d91599\" y=\"160.401465\"/>\r\n     <use style=\"fill:#4c72b0;stroke:#4c72b0;\" x=\"180.572823\" xlink:href=\"#mbad1d91599\" y=\"160.375356\"/>\r\n     <use style=\"fill:#4c72b0;stroke:#4c72b0;\" x=\"181.079664\" xlink:href=\"#mbad1d91599\" y=\"159.402122\"/>\r\n     <use style=\"fill:#4c72b0;stroke:#4c72b0;\" x=\"181.582242\" xlink:href=\"#mbad1d91599\" y=\"159.311191\"/>\r\n     <use style=\"fill:#4c72b0;stroke:#4c72b0;\" x=\"182.080673\" xlink:href=\"#mbad1d91599\" y=\"159.064506\"/>\r\n     <use style=\"fill:#4c72b0;stroke:#4c72b0;\" x=\"182.575071\" xlink:href=\"#mbad1d91599\" y=\"158.662068\"/>\r\n     <use style=\"fill:#4c72b0;stroke:#4c72b0;\" x=\"183.065542\" xlink:href=\"#mbad1d91599\" y=\"156.572451\"/>\r\n     <use style=\"fill:#4c72b0;stroke:#4c72b0;\" x=\"183.552193\" xlink:href=\"#mbad1d91599\" y=\"156.468916\"/>\r\n     <use style=\"fill:#4c72b0;stroke:#4c72b0;\" x=\"184.035122\" xlink:href=\"#mbad1d91599\" y=\"156.1313\"/>\r\n     <use style=\"fill:#4c72b0;stroke:#4c72b0;\" x=\"184.514427\" xlink:href=\"#mbad1d91599\" y=\"155.19678\"/>\r\n     <use style=\"fill:#4c72b0;stroke:#4c72b0;\" x=\"184.990202\" xlink:href=\"#mbad1d91599\" y=\"154.794342\"/>\r\n     <use style=\"fill:#4c72b0;stroke:#4c72b0;\" x=\"185.462536\" xlink:href=\"#mbad1d91599\" y=\"154.70341\"/>\r\n     <use style=\"fill:#4c72b0;stroke:#4c72b0;\" x=\"185.931518\" xlink:href=\"#mbad1d91599\" y=\"154.599875\"/>\r\n     <use style=\"fill:#4c72b0;stroke:#4c72b0;\" x=\"186.397232\" xlink:href=\"#mbad1d91599\" y=\"153.353847\"/>\r\n     <use style=\"fill:#4c72b0;stroke:#4c72b0;\" x=\"186.859759\" xlink:href=\"#mbad1d91599\" y=\"153.327738\"/>\r\n     <use style=\"fill:#4c72b0;stroke:#4c72b0;\" x=\"187.319178\" xlink:href=\"#mbad1d91599\" y=\"152.951409\"/>\r\n     <use style=\"fill:#4c72b0;stroke:#4c72b0;\" x=\"187.775566\" xlink:href=\"#mbad1d91599\" y=\"151.913353\"/>\r\n     <use style=\"fill:#4c72b0;stroke:#4c72b0;\" x=\"188.228997\" xlink:href=\"#mbad1d91599\" y=\"151.861135\"/>\r\n     <use style=\"fill:#4c72b0;stroke:#4c72b0;\" x=\"188.679542\" xlink:href=\"#mbad1d91599\" y=\"151.796313\"/>\r\n     <use style=\"fill:#4c72b0;stroke:#4c72b0;\" x=\"189.127272\" xlink:href=\"#mbad1d91599\" y=\"151.705382\"/>\r\n     <use style=\"fill:#4c72b0;stroke:#4c72b0;\" x=\"189.572252\" xlink:href=\"#mbad1d91599\" y=\"149.226831\"/>\r\n     <use style=\"fill:#4c72b0;stroke:#4c72b0;\" x=\"190.014549\" xlink:href=\"#mbad1d91599\" y=\"148.889216\"/>\r\n     <use style=\"fill:#4c72b0;stroke:#4c72b0;\" x=\"190.454226\" xlink:href=\"#mbad1d91599\" y=\"148.772176\"/>\r\n     <use style=\"fill:#4c72b0;stroke:#4c72b0;\" x=\"190.891344\" xlink:href=\"#mbad1d91599\" y=\"148.759571\"/>\r\n     <use style=\"fill:#4c72b0;stroke:#4c72b0;\" x=\"191.325964\" xlink:href=\"#mbad1d91599\" y=\"148.759571\"/>\r\n     <use style=\"fill:#4c72b0;stroke:#4c72b0;\" x=\"191.758143\" xlink:href=\"#mbad1d91599\" y=\"148.642531\"/>\r\n     <use style=\"fill:#4c72b0;stroke:#4c72b0;\" x=\"192.187938\" xlink:href=\"#mbad1d91599\" y=\"147.954695\"/>\r\n     <use style=\"fill:#4c72b0;stroke:#4c72b0;\" x=\"192.615403\" xlink:href=\"#mbad1d91599\" y=\"147.422613\"/>\r\n     <use style=\"fill:#4c72b0;stroke:#4c72b0;\" x=\"193.040593\" xlink:href=\"#mbad1d91599\" y=\"147.137215\"/>\r\n     <use style=\"fill:#4c72b0;stroke:#4c72b0;\" x=\"193.463558\" xlink:href=\"#mbad1d91599\" y=\"146.579023\"/>\r\n     <use style=\"fill:#4c72b0;stroke:#4c72b0;\" x=\"193.884349\" xlink:href=\"#mbad1d91599\" y=\"146.202694\"/>\r\n     <use style=\"fill:#4c72b0;stroke:#4c72b0;\" x=\"194.303016\" xlink:href=\"#mbad1d91599\" y=\"145.735434\"/>\r\n     <use style=\"fill:#4c72b0;stroke:#4c72b0;\" x=\"194.719606\" xlink:href=\"#mbad1d91599\" y=\"145.332996\"/>\r\n     <use style=\"fill:#4c72b0;stroke:#4c72b0;\" x=\"195.134166\" xlink:href=\"#mbad1d91599\" y=\"145.332996\"/>\r\n     <use style=\"fill:#4c72b0;stroke:#4c72b0;\" x=\"195.546742\" xlink:href=\"#mbad1d91599\" y=\"145.242065\"/>\r\n     <use style=\"fill:#4c72b0;stroke:#4c72b0;\" x=\"195.957377\" xlink:href=\"#mbad1d91599\" y=\"144.800913\"/>\r\n     <use style=\"fill:#4c72b0;stroke:#4c72b0;\" x=\"196.366116\" xlink:href=\"#mbad1d91599\" y=\"144.709982\"/>\r\n     <use style=\"fill:#4c72b0;stroke:#4c72b0;\" x=\"196.772999\" xlink:href=\"#mbad1d91599\" y=\"144.489406\"/>\r\n     <use style=\"fill:#4c72b0;stroke:#4c72b0;\" x=\"197.178069\" xlink:href=\"#mbad1d91599\" y=\"144.359762\"/>\r\n     <use style=\"fill:#4c72b0;stroke:#4c72b0;\" x=\"197.581365\" xlink:href=\"#mbad1d91599\" y=\"143.736748\"/>\r\n     <use style=\"fill:#4c72b0;stroke:#4c72b0;\" x=\"197.982927\" xlink:href=\"#mbad1d91599\" y=\"143.516172\"/>\r\n     <use style=\"fill:#4c72b0;stroke:#4c72b0;\" x=\"198.382793\" xlink:href=\"#mbad1d91599\" y=\"143.490064\"/>\r\n     <use style=\"fill:#4c72b0;stroke:#4c72b0;\" x=\"198.781\" xlink:href=\"#mbad1d91599\" y=\"143.463955\"/>\r\n     <use style=\"fill:#4c72b0;stroke:#4c72b0;\" x=\"199.177585\" xlink:href=\"#mbad1d91599\" y=\"143.360419\"/>\r\n     <use style=\"fill:#4c72b0;stroke:#4c72b0;\" x=\"199.572584\" xlink:href=\"#mbad1d91599\" y=\"143.178557\"/>\r\n     <use style=\"fill:#4c72b0;stroke:#4c72b0;\" x=\"199.966032\" xlink:href=\"#mbad1d91599\" y=\"143.113734\"/>\r\n     <use style=\"fill:#4c72b0;stroke:#4c72b0;\" x=\"200.357962\" xlink:href=\"#mbad1d91599\" y=\"142.840941\"/>\r\n     <use style=\"fill:#4c72b0;stroke:#4c72b0;\" x=\"200.748409\" xlink:href=\"#mbad1d91599\" y=\"142.776119\"/>\r\n     <use style=\"fill:#4c72b0;stroke:#4c72b0;\" x=\"201.137405\" xlink:href=\"#mbad1d91599\" y=\"142.646474\"/>\r\n     <use style=\"fill:#4c72b0;stroke:#4c72b0;\" x=\"201.524982\" xlink:href=\"#mbad1d91599\" y=\"142.646474\"/>\r\n     <use style=\"fill:#4c72b0;stroke:#4c72b0;\" x=\"201.911171\" xlink:href=\"#mbad1d91599\" y=\"142.334967\"/>\r\n     <use style=\"fill:#4c72b0;stroke:#4c72b0;\" x=\"202.296004\" xlink:href=\"#mbad1d91599\" y=\"142.02346\"/>\r\n     <use style=\"fill:#4c72b0;stroke:#4c72b0;\" x=\"202.679511\" xlink:href=\"#mbad1d91599\" y=\"141.867707\"/>\r\n     <use style=\"fill:#4c72b0;stroke:#4c72b0;\" x=\"203.061721\" xlink:href=\"#mbad1d91599\" y=\"141.711954\"/>\r\n     <use style=\"fill:#4c72b0;stroke:#4c72b0;\" x=\"203.442663\" xlink:href=\"#mbad1d91599\" y=\"141.270802\"/>\r\n     <use style=\"fill:#4c72b0;stroke:#4c72b0;\" x=\"203.822365\" xlink:href=\"#mbad1d91599\" y=\"141.062831\"/>\r\n     <use style=\"fill:#4c72b0;stroke:#4c72b0;\" x=\"204.200856\" xlink:href=\"#mbad1d91599\" y=\"140.647788\"/>\r\n     <use style=\"fill:#4c72b0;stroke:#4c72b0;\" x=\"204.578163\" xlink:href=\"#mbad1d91599\" y=\"140.647788\"/>\r\n     <use style=\"fill:#4c72b0;stroke:#4c72b0;\" x=\"204.954313\" xlink:href=\"#mbad1d91599\" y=\"140.556857\"/>\r\n     <use style=\"fill:#4c72b0;stroke:#4c72b0;\" x=\"205.329331\" xlink:href=\"#mbad1d91599\" y=\"140.465926\"/>\r\n     <use style=\"fill:#4c72b0;stroke:#4c72b0;\" x=\"205.703245\" xlink:href=\"#mbad1d91599\" y=\"140.465926\"/>\r\n     <use style=\"fill:#4c72b0;stroke:#4c72b0;\" x=\"206.076079\" xlink:href=\"#mbad1d91599\" y=\"140.336282\"/>\r\n     <use style=\"fill:#4c72b0;stroke:#4c72b0;\" x=\"206.447859\" xlink:href=\"#mbad1d91599\" y=\"140.336282\"/>\r\n     <use style=\"fill:#4c72b0;stroke:#4c72b0;\" x=\"206.818609\" xlink:href=\"#mbad1d91599\" y=\"140.336282\"/>\r\n     <use style=\"fill:#4c72b0;stroke:#4c72b0;\" x=\"207.188354\" xlink:href=\"#mbad1d91599\" y=\"140.310173\"/>\r\n     <use style=\"fill:#4c72b0;stroke:#4c72b0;\" x=\"207.557116\" xlink:href=\"#mbad1d91599\" y=\"140.180528\"/>\r\n     <use style=\"fill:#4c72b0;stroke:#4c72b0;\" x=\"207.92492\" xlink:href=\"#mbad1d91599\" y=\"140.024775\"/>\r\n     <use style=\"fill:#4c72b0;stroke:#4c72b0;\" x=\"208.291789\" xlink:href=\"#mbad1d91599\" y=\"140.024775\"/>\r\n     <use style=\"fill:#4c72b0;stroke:#4c72b0;\" x=\"208.657745\" xlink:href=\"#mbad1d91599\" y=\"139.869021\"/>\r\n     <use style=\"fill:#4c72b0;stroke:#4c72b0;\" x=\"209.022811\" xlink:href=\"#mbad1d91599\" y=\"139.713268\"/>\r\n     <use style=\"fill:#4c72b0;stroke:#4c72b0;\" x=\"209.387009\" xlink:href=\"#mbad1d91599\" y=\"139.090254\"/>\r\n     <use style=\"fill:#4c72b0;stroke:#4c72b0;\" x=\"209.75036\" xlink:href=\"#mbad1d91599\" y=\"138.869678\"/>\r\n     <use style=\"fill:#4c72b0;stroke:#4c72b0;\" x=\"210.112885\" xlink:href=\"#mbad1d91599\" y=\"138.778747\"/>\r\n     <use style=\"fill:#4c72b0;stroke:#4c72b0;\" x=\"210.474607\" xlink:href=\"#mbad1d91599\" y=\"138.584281\"/>\r\n     <use style=\"fill:#4c72b0;stroke:#4c72b0;\" x=\"210.835545\" xlink:href=\"#mbad1d91599\" y=\"138.493349\"/>\r\n     <use style=\"fill:#4c72b0;stroke:#4c72b0;\" x=\"211.19572\" xlink:href=\"#mbad1d91599\" y=\"138.428527\"/>\r\n     <use style=\"fill:#4c72b0;stroke:#4c72b0;\" x=\"211.555152\" xlink:href=\"#mbad1d91599\" y=\"138.402418\"/>\r\n     <use style=\"fill:#4c72b0;stroke:#4c72b0;\" x=\"211.913861\" xlink:href=\"#mbad1d91599\" y=\"138.246665\"/>\r\n     <use style=\"fill:#4c72b0;stroke:#4c72b0;\" x=\"212.271868\" xlink:href=\"#mbad1d91599\" y=\"137.961267\"/>\r\n     <use style=\"fill:#4c72b0;stroke:#4c72b0;\" x=\"212.62919\" xlink:href=\"#mbad1d91599\" y=\"137.64976\"/>\r\n     <use style=\"fill:#4c72b0;stroke:#4c72b0;\" x=\"212.985849\" xlink:href=\"#mbad1d91599\" y=\"137.494007\"/>\r\n     <use style=\"fill:#4c72b0;stroke:#4c72b0;\" x=\"213.341861\" xlink:href=\"#mbad1d91599\" y=\"137.467898\"/>\r\n     <use style=\"fill:#4c72b0;stroke:#4c72b0;\" x=\"213.697247\" xlink:href=\"#mbad1d91599\" y=\"137.312144\"/>\r\n     <use style=\"fill:#4c72b0;stroke:#4c72b0;\" x=\"214.052025\" xlink:href=\"#mbad1d91599\" y=\"137.312144\"/>\r\n     <use style=\"fill:#4c72b0;stroke:#4c72b0;\" x=\"214.406213\" xlink:href=\"#mbad1d91599\" y=\"136.403733\"/>\r\n     <use style=\"fill:#4c72b0;stroke:#4c72b0;\" x=\"214.759829\" xlink:href=\"#mbad1d91599\" y=\"136.403733\"/>\r\n     <use style=\"fill:#4c72b0;stroke:#4c72b0;\" x=\"215.112891\" xlink:href=\"#mbad1d91599\" y=\"135.806828\"/>\r\n     <use style=\"fill:#4c72b0;stroke:#4c72b0;\" x=\"215.465418\" xlink:href=\"#mbad1d91599\" y=\"135.443103\"/>\r\n     <use style=\"fill:#4c72b0;stroke:#4c72b0;\" x=\"215.817425\" xlink:href=\"#mbad1d91599\" y=\"135.313458\"/>\r\n     <use style=\"fill:#4c72b0;stroke:#4c72b0;\" x=\"216.168932\" xlink:href=\"#mbad1d91599\" y=\"135.183814\"/>\r\n     <use style=\"fill:#4c72b0;stroke:#4c72b0;\" x=\"216.519955\" xlink:href=\"#mbad1d91599\" y=\"135.157705\"/>\r\n     <use style=\"fill:#4c72b0;stroke:#4c72b0;\" x=\"216.870511\" xlink:href=\"#mbad1d91599\" y=\"134.807485\"/>\r\n     <use style=\"fill:#4c72b0;stroke:#4c72b0;\" x=\"217.220618\" xlink:href=\"#mbad1d91599\" y=\"134.690445\"/>\r\n     <use style=\"fill:#4c72b0;stroke:#4c72b0;\" x=\"217.570291\" xlink:href=\"#mbad1d91599\" y=\"134.405047\"/>\r\n     <use style=\"fill:#4c72b0;stroke:#4c72b0;\" x=\"217.919548\" xlink:href=\"#mbad1d91599\" y=\"134.352829\"/>\r\n     <use style=\"fill:#4c72b0;stroke:#4c72b0;\" x=\"218.268405\" xlink:href=\"#mbad1d91599\" y=\"134.340225\"/>\r\n     <use style=\"fill:#4c72b0;stroke:#4c72b0;\" x=\"218.616879\" xlink:href=\"#mbad1d91599\" y=\"134.223184\"/>\r\n     <use style=\"fill:#4c72b0;stroke:#4c72b0;\" x=\"218.964985\" xlink:href=\"#mbad1d91599\" y=\"134.09354\"/>\r\n     <use style=\"fill:#4c72b0;stroke:#4c72b0;\" x=\"219.312741\" xlink:href=\"#mbad1d91599\" y=\"134.067431\"/>\r\n     <use style=\"fill:#4c72b0;stroke:#4c72b0;\" x=\"219.660161\" xlink:href=\"#mbad1d91599\" y=\"133.62628\"/>\r\n     <use style=\"fill:#4c72b0;stroke:#4c72b0;\" x=\"220.007262\" xlink:href=\"#mbad1d91599\" y=\"133.13291\"/>\r\n     <use style=\"fill:#4c72b0;stroke:#4c72b0;\" x=\"220.35406\" xlink:href=\"#mbad1d91599\" y=\"132.509897\"/>\r\n     <use style=\"fill:#4c72b0;stroke:#4c72b0;\" x=\"220.700571\" xlink:href=\"#mbad1d91599\" y=\"132.19839\"/>\r\n     <use style=\"fill:#4c72b0;stroke:#4c72b0;\" x=\"221.046809\" xlink:href=\"#mbad1d91599\" y=\"132.185786\"/>\r\n     <use style=\"fill:#4c72b0;stroke:#4c72b0;\" x=\"221.392792\" xlink:href=\"#mbad1d91599\" y=\"132.003923\"/>\r\n     <use style=\"fill:#4c72b0;stroke:#4c72b0;\" x=\"221.738533\" xlink:href=\"#mbad1d91599\" y=\"131.822061\"/>\r\n     <use style=\"fill:#4c72b0;stroke:#4c72b0;\" x=\"222.084049\" xlink:href=\"#mbad1d91599\" y=\"131.407018\"/>\r\n     <use style=\"fill:#4c72b0;stroke:#4c72b0;\" x=\"222.429355\" xlink:href=\"#mbad1d91599\" y=\"131.225156\"/>\r\n     <use style=\"fill:#4c72b0;stroke:#4c72b0;\" x=\"222.774466\" xlink:href=\"#mbad1d91599\" y=\"130.939758\"/>\r\n     <use style=\"fill:#4c72b0;stroke:#4c72b0;\" x=\"223.119397\" xlink:href=\"#mbad1d91599\" y=\"130.939758\"/>\r\n     <use style=\"fill:#4c72b0;stroke:#4c72b0;\" x=\"223.464164\" xlink:href=\"#mbad1d91599\" y=\"130.913649\"/>\r\n     <use style=\"fill:#4c72b0;stroke:#4c72b0;\" x=\"223.808782\" xlink:href=\"#mbad1d91599\" y=\"130.913649\"/>\r\n     <use style=\"fill:#4c72b0;stroke:#4c72b0;\" x=\"224.153265\" xlink:href=\"#mbad1d91599\" y=\"130.913649\"/>\r\n     <use style=\"fill:#4c72b0;stroke:#4c72b0;\" x=\"224.497629\" xlink:href=\"#mbad1d91599\" y=\"130.472498\"/>\r\n     <use style=\"fill:#4c72b0;stroke:#4c72b0;\" x=\"224.841889\" xlink:href=\"#mbad1d91599\" y=\"130.160991\"/>\r\n     <use style=\"fill:#4c72b0;stroke:#4c72b0;\" x=\"225.186059\" xlink:href=\"#mbad1d91599\" y=\"129.161648\"/>\r\n     <use style=\"fill:#4c72b0;stroke:#4c72b0;\" x=\"225.530155\" xlink:href=\"#mbad1d91599\" y=\"129.10943\"/>\r\n     <use style=\"fill:#4c72b0;stroke:#4c72b0;\" x=\"225.874192\" xlink:href=\"#mbad1d91599\" y=\"129.070717\"/>\r\n     <use style=\"fill:#4c72b0;stroke:#4c72b0;\" x=\"226.218184\" xlink:href=\"#mbad1d91599\" y=\"128.914963\"/>\r\n     <use style=\"fill:#4c72b0;stroke:#4c72b0;\" x=\"226.562146\" xlink:href=\"#mbad1d91599\" y=\"128.694388\"/>\r\n     <use style=\"fill:#4c72b0;stroke:#4c72b0;\" x=\"226.906094\" xlink:href=\"#mbad1d91599\" y=\"128.447703\"/>\r\n     <use style=\"fill:#4c72b0;stroke:#4c72b0;\" x=\"227.250041\" xlink:href=\"#mbad1d91599\" y=\"128.447703\"/>\r\n     <use style=\"fill:#4c72b0;stroke:#4c72b0;\" x=\"227.594003\" xlink:href=\"#mbad1d91599\" y=\"128.447703\"/>\r\n     <use style=\"fill:#4c72b0;stroke:#4c72b0;\" x=\"227.937995\" xlink:href=\"#mbad1d91599\" y=\"128.447703\"/>\r\n     <use style=\"fill:#4c72b0;stroke:#4c72b0;\" x=\"228.282032\" xlink:href=\"#mbad1d91599\" y=\"128.29195\"/>\r\n     <use style=\"fill:#4c72b0;stroke:#4c72b0;\" x=\"228.626128\" xlink:href=\"#mbad1d91599\" y=\"128.265841\"/>\r\n     <use style=\"fill:#4c72b0;stroke:#4c72b0;\" x=\"228.970299\" xlink:href=\"#mbad1d91599\" y=\"127.954334\"/>\r\n     <use style=\"fill:#4c72b0;stroke:#4c72b0;\" x=\"229.314558\" xlink:href=\"#mbad1d91599\" y=\"127.824689\"/>\r\n     <use style=\"fill:#4c72b0;stroke:#4c72b0;\" x=\"229.658922\" xlink:href=\"#mbad1d91599\" y=\"127.318716\"/>\r\n     <use style=\"fill:#4c72b0;stroke:#4c72b0;\" x=\"230.003406\" xlink:href=\"#mbad1d91599\" y=\"126.449018\"/>\r\n     <use style=\"fill:#4c72b0;stroke:#4c72b0;\" x=\"230.348023\" xlink:href=\"#mbad1d91599\" y=\"126.228442\"/>\r\n     <use style=\"fill:#4c72b0;stroke:#4c72b0;\" x=\"230.69279\" xlink:href=\"#mbad1d91599\" y=\"125.916935\"/>\r\n     <use style=\"fill:#4c72b0;stroke:#4c72b0;\" x=\"231.037722\" xlink:href=\"#mbad1d91599\" y=\"125.605428\"/>\r\n     <use style=\"fill:#4c72b0;stroke:#4c72b0;\" x=\"231.382833\" xlink:href=\"#mbad1d91599\" y=\"125.384852\"/>\r\n     <use style=\"fill:#4c72b0;stroke:#4c72b0;\" x=\"231.728138\" xlink:href=\"#mbad1d91599\" y=\"124.982414\"/>\r\n     <use style=\"fill:#4c72b0;stroke:#4c72b0;\" x=\"232.073654\" xlink:href=\"#mbad1d91599\" y=\"124.826661\"/>\r\n     <use style=\"fill:#4c72b0;stroke:#4c72b0;\" x=\"232.419396\" xlink:href=\"#mbad1d91599\" y=\"124.697016\"/>\r\n     <use style=\"fill:#4c72b0;stroke:#4c72b0;\" x=\"232.765378\" xlink:href=\"#mbad1d91599\" y=\"124.670908\"/>\r\n     <use style=\"fill:#4c72b0;stroke:#4c72b0;\" x=\"233.111617\" xlink:href=\"#mbad1d91599\" y=\"124.047894\"/>\r\n     <use style=\"fill:#4c72b0;stroke:#4c72b0;\" x=\"233.458127\" xlink:href=\"#mbad1d91599\" y=\"123.866031\"/>\r\n     <use style=\"fill:#4c72b0;stroke:#4c72b0;\" x=\"233.804925\" xlink:href=\"#mbad1d91599\" y=\"123.762496\"/>\r\n     <use style=\"fill:#4c72b0;stroke:#4c72b0;\" x=\"234.152026\" xlink:href=\"#mbad1d91599\" y=\"123.762496\"/>\r\n     <use style=\"fill:#4c72b0;stroke:#4c72b0;\" x=\"234.499447\" xlink:href=\"#mbad1d91599\" y=\"123.230413\"/>\r\n     <use style=\"fill:#4c72b0;stroke:#4c72b0;\" x=\"234.847202\" xlink:href=\"#mbad1d91599\" y=\"123.230413\"/>\r\n     <use style=\"fill:#4c72b0;stroke:#4c72b0;\" x=\"235.195308\" xlink:href=\"#mbad1d91599\" y=\"123.139482\"/>\r\n     <use style=\"fill:#4c72b0;stroke:#4c72b0;\" x=\"235.543782\" xlink:href=\"#mbad1d91599\" y=\"122.95762\"/>\r\n     <use style=\"fill:#4c72b0;stroke:#4c72b0;\" x=\"235.892639\" xlink:href=\"#mbad1d91599\" y=\"122.866689\"/>\r\n     <use style=\"fill:#4c72b0;stroke:#4c72b0;\" x=\"236.241896\" xlink:href=\"#mbad1d91599\" y=\"122.827975\"/>\r\n     <use style=\"fill:#4c72b0;stroke:#4c72b0;\" x=\"236.59157\" xlink:href=\"#mbad1d91599\" y=\"122.672222\"/>\r\n     <use style=\"fill:#4c72b0;stroke:#4c72b0;\" x=\"236.941676\" xlink:href=\"#mbad1d91599\" y=\"122.516468\"/>\r\n     <use style=\"fill:#4c72b0;stroke:#4c72b0;\" x=\"237.292232\" xlink:href=\"#mbad1d91599\" y=\"122.516468\"/>\r\n     <use style=\"fill:#4c72b0;stroke:#4c72b0;\" x=\"237.643255\" xlink:href=\"#mbad1d91599\" y=\"122.360715\"/>\r\n     <use style=\"fill:#4c72b0;stroke:#4c72b0;\" x=\"237.994762\" xlink:href=\"#mbad1d91599\" y=\"122.295893\"/>\r\n     <use style=\"fill:#4c72b0;stroke:#4c72b0;\" x=\"238.34677\" xlink:href=\"#mbad1d91599\" y=\"121.958277\"/>\r\n     <use style=\"fill:#4c72b0;stroke:#4c72b0;\" x=\"238.699296\" xlink:href=\"#mbad1d91599\" y=\"121.893455\"/>\r\n     <use style=\"fill:#4c72b0;stroke:#4c72b0;\" x=\"239.052359\" xlink:href=\"#mbad1d91599\" y=\"121.737701\"/>\r\n     <use style=\"fill:#4c72b0;stroke:#4c72b0;\" x=\"239.405975\" xlink:href=\"#mbad1d91599\" y=\"121.426194\"/>\r\n     <use style=\"fill:#4c72b0;stroke:#4c72b0;\" x=\"239.760163\" xlink:href=\"#mbad1d91599\" y=\"121.114688\"/>\r\n     <use style=\"fill:#4c72b0;stroke:#4c72b0;\" x=\"240.11494\" xlink:href=\"#mbad1d91599\" y=\"120.985043\"/>\r\n     <use style=\"fill:#4c72b0;stroke:#4c72b0;\" x=\"240.470326\" xlink:href=\"#mbad1d91599\" y=\"120.920221\"/>\r\n     <use style=\"fill:#4c72b0;stroke:#4c72b0;\" x=\"240.826339\" xlink:href=\"#mbad1d91599\" y=\"120.777072\"/>\r\n     <use style=\"fill:#4c72b0;stroke:#4c72b0;\" x=\"241.182997\" xlink:href=\"#mbad1d91599\" y=\"120.764467\"/>\r\n     <use style=\"fill:#4c72b0;stroke:#4c72b0;\" x=\"241.54032\" xlink:href=\"#mbad1d91599\" y=\"120.582605\"/>\r\n     <use style=\"fill:#4c72b0;stroke:#4c72b0;\" x=\"241.898326\" xlink:href=\"#mbad1d91599\" y=\"120.362029\"/>\r\n     <use style=\"fill:#4c72b0;stroke:#4c72b0;\" x=\"242.257036\" xlink:href=\"#mbad1d91599\" y=\"120.271098\"/>\r\n     <use style=\"fill:#4c72b0;stroke:#4c72b0;\" x=\"242.616468\" xlink:href=\"#mbad1d91599\" y=\"120.206276\"/>\r\n     <use style=\"fill:#4c72b0;stroke:#4c72b0;\" x=\"242.976643\" xlink:href=\"#mbad1d91599\" y=\"120.206276\"/>\r\n     <use style=\"fill:#4c72b0;stroke:#4c72b0;\" x=\"243.337581\" xlink:href=\"#mbad1d91599\" y=\"120.180167\"/>\r\n     <use style=\"fill:#4c72b0;stroke:#4c72b0;\" x=\"243.699302\" xlink:href=\"#mbad1d91599\" y=\"120.141454\"/>\r\n     <use style=\"fill:#4c72b0;stroke:#4c72b0;\" x=\"244.061828\" xlink:href=\"#mbad1d91599\" y=\"119.362687\"/>\r\n     <use style=\"fill:#4c72b0;stroke:#4c72b0;\" x=\"244.425179\" xlink:href=\"#mbad1d91599\" y=\"119.362687\"/>\r\n     <use style=\"fill:#4c72b0;stroke:#4c72b0;\" x=\"244.789376\" xlink:href=\"#mbad1d91599\" y=\"119.206933\"/>\r\n     <use style=\"fill:#4c72b0;stroke:#4c72b0;\" x=\"245.154442\" xlink:href=\"#mbad1d91599\" y=\"119.206933\"/>\r\n     <use style=\"fill:#4c72b0;stroke:#4c72b0;\" x=\"245.520398\" xlink:href=\"#mbad1d91599\" y=\"118.895426\"/>\r\n     <use style=\"fill:#4c72b0;stroke:#4c72b0;\" x=\"245.887267\" xlink:href=\"#mbad1d91599\" y=\"118.492988\"/>\r\n     <use style=\"fill:#4c72b0;stroke:#4c72b0;\" x=\"246.255071\" xlink:href=\"#mbad1d91599\" y=\"118.428166\"/>\r\n     <use style=\"fill:#4c72b0;stroke:#4c72b0;\" x=\"246.623834\" xlink:href=\"#mbad1d91599\" y=\"118.428166\"/>\r\n     <use style=\"fill:#4c72b0;stroke:#4c72b0;\" x=\"246.993578\" xlink:href=\"#mbad1d91599\" y=\"118.428166\"/>\r\n     <use style=\"fill:#4c72b0;stroke:#4c72b0;\" x=\"247.364328\" xlink:href=\"#mbad1d91599\" y=\"118.272413\"/>\r\n     <use style=\"fill:#4c72b0;stroke:#4c72b0;\" x=\"247.736108\" xlink:href=\"#mbad1d91599\" y=\"118.246304\"/>\r\n     <use style=\"fill:#4c72b0;stroke:#4c72b0;\" x=\"248.108942\" xlink:href=\"#mbad1d91599\" y=\"117.960906\"/>\r\n     <use style=\"fill:#4c72b0;stroke:#4c72b0;\" x=\"248.482856\" xlink:href=\"#mbad1d91599\" y=\"117.831261\"/>\r\n     <use style=\"fill:#4c72b0;stroke:#4c72b0;\" x=\"248.857875\" xlink:href=\"#mbad1d91599\" y=\"116.896741\"/>\r\n     <use style=\"fill:#4c72b0;stroke:#4c72b0;\" x=\"249.234025\" xlink:href=\"#mbad1d91599\" y=\"116.585234\"/>\r\n     <use style=\"fill:#4c72b0;stroke:#4c72b0;\" x=\"249.611331\" xlink:href=\"#mbad1d91599\" y=\"116.42948\"/>\r\n     <use style=\"fill:#4c72b0;stroke:#4c72b0;\" x=\"249.989822\" xlink:href=\"#mbad1d91599\" y=\"116.117973\"/>\r\n     <use style=\"fill:#4c72b0;stroke:#4c72b0;\" x=\"250.369525\" xlink:href=\"#mbad1d91599\" y=\"115.806467\"/>\r\n     <use style=\"fill:#4c72b0;stroke:#4c72b0;\" x=\"250.750467\" xlink:href=\"#mbad1d91599\" y=\"115.741644\"/>\r\n     <use style=\"fill:#4c72b0;stroke:#4c72b0;\" x=\"251.132676\" xlink:href=\"#mbad1d91599\" y=\"115.49496\"/>\r\n     <use style=\"fill:#4c72b0;stroke:#4c72b0;\" x=\"251.516183\" xlink:href=\"#mbad1d91599\" y=\"115.49496\"/>\r\n     <use style=\"fill:#4c72b0;stroke:#4c72b0;\" x=\"251.901016\" xlink:href=\"#mbad1d91599\" y=\"115.339206\"/>\r\n     <use style=\"fill:#4c72b0;stroke:#4c72b0;\" x=\"252.287206\" xlink:href=\"#mbad1d91599\" y=\"115.313097\"/>\r\n     <use style=\"fill:#4c72b0;stroke:#4c72b0;\" x=\"252.674783\" xlink:href=\"#mbad1d91599\" y=\"115.274384\"/>\r\n     <use style=\"fill:#4c72b0;stroke:#4c72b0;\" x=\"253.063779\" xlink:href=\"#mbad1d91599\" y=\"115.027699\"/>\r\n     <use style=\"fill:#4c72b0;stroke:#4c72b0;\" x=\"253.454225\" xlink:href=\"#mbad1d91599\" y=\"114.871946\"/>\r\n     <use style=\"fill:#4c72b0;stroke:#4c72b0;\" x=\"253.846156\" xlink:href=\"#mbad1d91599\" y=\"114.521726\"/>\r\n     <use style=\"fill:#4c72b0;stroke:#4c72b0;\" x=\"254.239603\" xlink:href=\"#mbad1d91599\" y=\"114.404686\"/>\r\n     <use style=\"fill:#4c72b0;stroke:#4c72b0;\" x=\"254.634602\" xlink:href=\"#mbad1d91599\" y=\"113.898712\"/>\r\n     <use style=\"fill:#4c72b0;stroke:#4c72b0;\" x=\"255.031187\" xlink:href=\"#mbad1d91599\" y=\"113.742959\"/>\r\n     <use style=\"fill:#4c72b0;stroke:#4c72b0;\" x=\"255.429394\" xlink:href=\"#mbad1d91599\" y=\"112.964191\"/>\r\n     <use style=\"fill:#4c72b0;stroke:#4c72b0;\" x=\"255.82926\" xlink:href=\"#mbad1d91599\" y=\"112.808438\"/>\r\n     <use style=\"fill:#4c72b0;stroke:#4c72b0;\" x=\"256.230822\" xlink:href=\"#mbad1d91599\" y=\"112.717507\"/>\r\n     <use style=\"fill:#4c72b0;stroke:#4c72b0;\" x=\"256.634118\" xlink:href=\"#mbad1d91599\" y=\"112.561753\"/>\r\n     <use style=\"fill:#4c72b0;stroke:#4c72b0;\" x=\"257.039188\" xlink:href=\"#mbad1d91599\" y=\"112.367287\"/>\r\n     <use style=\"fill:#4c72b0;stroke:#4c72b0;\" x=\"257.446072\" xlink:href=\"#mbad1d91599\" y=\"112.341178\"/>\r\n     <use style=\"fill:#4c72b0;stroke:#4c72b0;\" x=\"257.85481\" xlink:href=\"#mbad1d91599\" y=\"112.120602\"/>\r\n     <use style=\"fill:#4c72b0;stroke:#4c72b0;\" x=\"258.265446\" xlink:href=\"#mbad1d91599\" y=\"111.847809\"/>\r\n     <use style=\"fill:#4c72b0;stroke:#4c72b0;\" x=\"258.678021\" xlink:href=\"#mbad1d91599\" y=\"111.718164\"/>\r\n     <use style=\"fill:#4c72b0;stroke:#4c72b0;\" x=\"259.092581\" xlink:href=\"#mbad1d91599\" y=\"111.497588\"/>\r\n     <use style=\"fill:#4c72b0;stroke:#4c72b0;\" x=\"259.509172\" xlink:href=\"#mbad1d91599\" y=\"111.367944\"/>\r\n     <use style=\"fill:#4c72b0;stroke:#4c72b0;\" x=\"259.927838\" xlink:href=\"#mbad1d91599\" y=\"111.250904\"/>\r\n     <use style=\"fill:#4c72b0;stroke:#4c72b0;\" x=\"260.34863\" xlink:href=\"#mbad1d91599\" y=\"110.939397\"/>\r\n     <use style=\"fill:#4c72b0;stroke:#4c72b0;\" x=\"260.771595\" xlink:href=\"#mbad1d91599\" y=\"110.004876\"/>\r\n     <use style=\"fill:#4c72b0;stroke:#4c72b0;\" x=\"261.196784\" xlink:href=\"#mbad1d91599\" y=\"110.004876\"/>\r\n     <use style=\"fill:#4c72b0;stroke:#4c72b0;\" x=\"261.62425\" xlink:href=\"#mbad1d91599\" y=\"109.407972\"/>\r\n     <use style=\"fill:#4c72b0;stroke:#4c72b0;\" x=\"262.054044\" xlink:href=\"#mbad1d91599\" y=\"109.252218\"/>\r\n     <use style=\"fill:#4c72b0;stroke:#4c72b0;\" x=\"262.486224\" xlink:href=\"#mbad1d91599\" y=\"109.226109\"/>\r\n     <use style=\"fill:#4c72b0;stroke:#4c72b0;\" x=\"262.920843\" xlink:href=\"#mbad1d91599\" y=\"108.097122\"/>\r\n     <use style=\"fill:#4c72b0;stroke:#4c72b0;\" x=\"263.357962\" xlink:href=\"#mbad1d91599\" y=\"107.850437\"/>\r\n     <use style=\"fill:#4c72b0;stroke:#4c72b0;\" x=\"263.797639\" xlink:href=\"#mbad1d91599\" y=\"107.850437\"/>\r\n     <use style=\"fill:#4c72b0;stroke:#4c72b0;\" x=\"264.239936\" xlink:href=\"#mbad1d91599\" y=\"107.500217\"/>\r\n     <use style=\"fill:#4c72b0;stroke:#4c72b0;\" x=\"264.684916\" xlink:href=\"#mbad1d91599\" y=\"107.032957\"/>\r\n     <use style=\"fill:#4c72b0;stroke:#4c72b0;\" x=\"265.132645\" xlink:href=\"#mbad1d91599\" y=\"107.006848\"/>\r\n     <use style=\"fill:#4c72b0;stroke:#4c72b0;\" x=\"265.58319\" xlink:href=\"#mbad1d91599\" y=\"106.877203\"/>\r\n     <use style=\"fill:#4c72b0;stroke:#4c72b0;\" x=\"266.036621\" xlink:href=\"#mbad1d91599\" y=\"106.877203\"/>\r\n     <use style=\"fill:#4c72b0;stroke:#4c72b0;\" x=\"266.493009\" xlink:href=\"#mbad1d91599\" y=\"106.007505\"/>\r\n     <use style=\"fill:#4c72b0;stroke:#4c72b0;\" x=\"266.952429\" xlink:href=\"#mbad1d91599\" y=\"105.981396\"/>\r\n     <use style=\"fill:#4c72b0;stroke:#4c72b0;\" x=\"267.414956\" xlink:href=\"#mbad1d91599\" y=\"105.786929\"/>\r\n     <use style=\"fill:#4c72b0;stroke:#4c72b0;\" x=\"267.880669\" xlink:href=\"#mbad1d91599\" y=\"105.475422\"/>\r\n     <use style=\"fill:#4c72b0;stroke:#4c72b0;\" x=\"268.349651\" xlink:href=\"#mbad1d91599\" y=\"105.475422\"/>\r\n     <use style=\"fill:#4c72b0;stroke:#4c72b0;\" x=\"268.821986\" xlink:href=\"#mbad1d91599\" y=\"105.072984\"/>\r\n     <use style=\"fill:#4c72b0;stroke:#4c72b0;\" x=\"269.297761\" xlink:href=\"#mbad1d91599\" y=\"104.852409\"/>\r\n     <use style=\"fill:#4c72b0;stroke:#4c72b0;\" x=\"269.777066\" xlink:href=\"#mbad1d91599\" y=\"104.567011\"/>\r\n     <use style=\"fill:#4c72b0;stroke:#4c72b0;\" x=\"270.259995\" xlink:href=\"#mbad1d91599\" y=\"104.514793\"/>\r\n     <use style=\"fill:#4c72b0;stroke:#4c72b0;\" x=\"270.746645\" xlink:href=\"#mbad1d91599\" y=\"104.034928\"/>\r\n     <use style=\"fill:#4c72b0;stroke:#4c72b0;\" x=\"271.237117\" xlink:href=\"#mbad1d91599\" y=\"103.450628\"/>\r\n     <use style=\"fill:#4c72b0;stroke:#4c72b0;\" x=\"271.731514\" xlink:href=\"#mbad1d91599\" y=\"103.385806\"/>\r\n     <use style=\"fill:#4c72b0;stroke:#4c72b0;\" x=\"272.229946\" xlink:href=\"#mbad1d91599\" y=\"103.320983\"/>\r\n     <use style=\"fill:#4c72b0;stroke:#4c72b0;\" x=\"272.732524\" xlink:href=\"#mbad1d91599\" y=\"103.320983\"/>\r\n     <use style=\"fill:#4c72b0;stroke:#4c72b0;\" x=\"273.239365\" xlink:href=\"#mbad1d91599\" y=\"103.294874\"/>\r\n     <use style=\"fill:#4c72b0;stroke:#4c72b0;\" x=\"273.75059\" xlink:href=\"#mbad1d91599\" y=\"102.944654\"/>\r\n     <use style=\"fill:#4c72b0;stroke:#4c72b0;\" x=\"274.266326\" xlink:href=\"#mbad1d91599\" y=\"102.853723\"/>\r\n     <use style=\"fill:#4c72b0;stroke:#4c72b0;\" x=\"274.786704\" xlink:href=\"#mbad1d91599\" y=\"102.516107\"/>\r\n     <use style=\"fill:#4c72b0;stroke:#4c72b0;\" x=\"275.31186\" xlink:href=\"#mbad1d91599\" y=\"102.386463\"/>\r\n     <use style=\"fill:#4c72b0;stroke:#4c72b0;\" x=\"275.841938\" xlink:href=\"#mbad1d91599\" y=\"100.945969\"/>\r\n     <use style=\"fill:#4c72b0;stroke:#4c72b0;\" x=\"276.377085\" xlink:href=\"#mbad1d91599\" y=\"100.91986\"/>\r\n     <use style=\"fill:#4c72b0;stroke:#4c72b0;\" x=\"276.917457\" xlink:href=\"#mbad1d91599\" y=\"100.478708\"/>\r\n     <use style=\"fill:#4c72b0;stroke:#4c72b0;\" x=\"277.463215\" xlink:href=\"#mbad1d91599\" y=\"100.07627\"/>\r\n     <use style=\"fill:#4c72b0;stroke:#4c72b0;\" x=\"278.014529\" xlink:href=\"#mbad1d91599\" y=\"99.855695\"/>\r\n     <use style=\"fill:#4c72b0;stroke:#4c72b0;\" x=\"278.571574\" xlink:href=\"#mbad1d91599\" y=\"99.699941\"/>\r\n     <use style=\"fill:#4c72b0;stroke:#4c72b0;\" x=\"279.134537\" xlink:href=\"#mbad1d91599\" y=\"99.544188\"/>\r\n     <use style=\"fill:#4c72b0;stroke:#4c72b0;\" x=\"279.703611\" xlink:href=\"#mbad1d91599\" y=\"98.765421\"/>\r\n     <use style=\"fill:#4c72b0;stroke:#4c72b0;\" x=\"280.278998\" xlink:href=\"#mbad1d91599\" y=\"98.453914\"/>\r\n     <use style=\"fill:#4c72b0;stroke:#4c72b0;\" x=\"280.860911\" xlink:href=\"#mbad1d91599\" y=\"98.077585\"/>\r\n     <use style=\"fill:#4c72b0;stroke:#4c72b0;\" x=\"281.449575\" xlink:href=\"#mbad1d91599\" y=\"97.94794\"/>\r\n     <use style=\"fill:#4c72b0;stroke:#4c72b0;\" x=\"282.045223\" xlink:href=\"#mbad1d91599\" y=\"96.701913\"/>\r\n     <use style=\"fill:#4c72b0;stroke:#4c72b0;\" x=\"282.648102\" xlink:href=\"#mbad1d91599\" y=\"95.987968\"/>\r\n     <use style=\"fill:#4c72b0;stroke:#4c72b0;\" x=\"283.258473\" xlink:href=\"#mbad1d91599\" y=\"95.961859\"/>\r\n     <use style=\"fill:#4c72b0;stroke:#4c72b0;\" x=\"283.876608\" xlink:href=\"#mbad1d91599\" y=\"95.300132\"/>\r\n     <use style=\"fill:#4c72b0;stroke:#4c72b0;\" x=\"284.502797\" xlink:href=\"#mbad1d91599\" y=\"95.144378\"/>\r\n     <use style=\"fill:#4c72b0;stroke:#4c72b0;\" x=\"285.137344\" xlink:href=\"#mbad1d91599\" y=\"95.014734\"/>\r\n     <use style=\"fill:#4c72b0;stroke:#4c72b0;\" x=\"285.780571\" xlink:href=\"#mbad1d91599\" y=\"94.832871\"/>\r\n     <use style=\"fill:#4c72b0;stroke:#4c72b0;\" x=\"286.432819\" xlink:href=\"#mbad1d91599\" y=\"94.235967\"/>\r\n     <use style=\"fill:#4c72b0;stroke:#4c72b0;\" x=\"287.094448\" xlink:href=\"#mbad1d91599\" y=\"94.080213\"/>\r\n     <use style=\"fill:#4c72b0;stroke:#4c72b0;\" x=\"287.765842\" xlink:href=\"#mbad1d91599\" y=\"93.651666\"/>\r\n     <use style=\"fill:#4c72b0;stroke:#4c72b0;\" x=\"288.447408\" xlink:href=\"#mbad1d91599\" y=\"92.834186\"/>\r\n     <use style=\"fill:#4c72b0;stroke:#4c72b0;\" x=\"289.139576\" xlink:href=\"#mbad1d91599\" y=\"92.366926\"/>\r\n     <use style=\"fill:#4c72b0;stroke:#4c72b0;\" x=\"289.842807\" xlink:href=\"#mbad1d91599\" y=\"92.211172\"/>\r\n     <use style=\"fill:#4c72b0;stroke:#4c72b0;\" x=\"290.557593\" xlink:href=\"#mbad1d91599\" y=\"92.211172\"/>\r\n     <use style=\"fill:#4c72b0;stroke:#4c72b0;\" x=\"291.284456\" xlink:href=\"#mbad1d91599\" y=\"91.250543\"/>\r\n     <use style=\"fill:#4c72b0;stroke:#4c72b0;\" x=\"292.023957\" xlink:href=\"#mbad1d91599\" y=\"91.120898\"/>\r\n     <use style=\"fill:#4c72b0;stroke:#4c72b0;\" x=\"292.776697\" xlink:href=\"#mbad1d91599\" y=\"90.459171\"/>\r\n     <use style=\"fill:#4c72b0;stroke:#4c72b0;\" x=\"293.54332\" xlink:href=\"#mbad1d91599\" y=\"89.991911\"/>\r\n     <use style=\"fill:#4c72b0;stroke:#4c72b0;\" x=\"294.324517\" xlink:href=\"#mbad1d91599\" y=\"89.874871\"/>\r\n     <use style=\"fill:#4c72b0;stroke:#4c72b0;\" x=\"295.121036\" xlink:href=\"#mbad1d91599\" y=\"88.745883\"/>\r\n     <use style=\"fill:#4c72b0;stroke:#4c72b0;\" x=\"295.933682\" xlink:href=\"#mbad1d91599\" y=\"86.591444\"/>\r\n     <use style=\"fill:#4c72b0;stroke:#4c72b0;\" x=\"296.763324\" xlink:href=\"#mbad1d91599\" y=\"85.345417\"/>\r\n     <use style=\"fill:#4c72b0;stroke:#4c72b0;\" x=\"297.610908\" xlink:href=\"#mbad1d91599\" y=\"84.722403\"/>\r\n     <use style=\"fill:#4c72b0;stroke:#4c72b0;\" x=\"298.477459\" xlink:href=\"#mbad1d91599\" y=\"84.060676\"/>\r\n     <use style=\"fill:#4c72b0;stroke:#4c72b0;\" x=\"299.364093\" xlink:href=\"#mbad1d91599\" y=\"82.970402\"/>\r\n     <use style=\"fill:#4c72b0;stroke:#4c72b0;\" x=\"300.272031\" xlink:href=\"#mbad1d91599\" y=\"82.256457\"/>\r\n     <use style=\"fill:#4c72b0;stroke:#4c72b0;\" x=\"301.20261\" xlink:href=\"#mbad1d91599\" y=\"81.47769\"/>\r\n     <use style=\"fill:#4c72b0;stroke:#4c72b0;\" x=\"302.157296\" xlink:href=\"#mbad1d91599\" y=\"81.412868\"/>\r\n     <use style=\"fill:#4c72b0;stroke:#4c72b0;\" x=\"303.137709\" xlink:href=\"#mbad1d91599\" y=\"80.192949\"/>\r\n     <use style=\"fill:#4c72b0;stroke:#4c72b0;\" x=\"304.145635\" xlink:href=\"#mbad1d91599\" y=\"79.855333\"/>\r\n     <use style=\"fill:#4c72b0;stroke:#4c72b0;\" x=\"305.183061\" xlink:href=\"#mbad1d91599\" y=\"78.323908\"/>\r\n     <use style=\"fill:#4c72b0;stroke:#4c72b0;\" x=\"306.252199\" xlink:href=\"#mbad1d91599\" y=\"76.390045\"/>\r\n     <use style=\"fill:#4c72b0;stroke:#4c72b0;\" x=\"307.355525\" xlink:href=\"#mbad1d91599\" y=\"76.2604\"/>\r\n     <use style=\"fill:#4c72b0;stroke:#4c72b0;\" x=\"308.495821\" xlink:href=\"#mbad1d91599\" y=\"75.546455\"/>\r\n     <use style=\"fill:#4c72b0;stroke:#4c72b0;\" x=\"309.676231\" xlink:href=\"#mbad1d91599\" y=\"75.32588\"/>\r\n     <use style=\"fill:#4c72b0;stroke:#4c72b0;\" x=\"310.900329\" xlink:href=\"#mbad1d91599\" y=\"75.234948\"/>\r\n     <use style=\"fill:#4c72b0;stroke:#4c72b0;\" x=\"312.172194\" xlink:href=\"#mbad1d91599\" y=\"74.858619\"/>\r\n     <use style=\"fill:#4c72b0;stroke:#4c72b0;\" x=\"313.496524\" xlink:href=\"#mbad1d91599\" y=\"74.417468\"/>\r\n     <use style=\"fill:#4c72b0;stroke:#4c72b0;\" x=\"314.878757\" xlink:href=\"#mbad1d91599\" y=\"72.639358\"/>\r\n     <use style=\"fill:#4c72b0;stroke:#4c72b0;\" x=\"316.325247\" xlink:href=\"#mbad1d91599\" y=\"72.23692\"/>\r\n     <use style=\"fill:#4c72b0;stroke:#4c72b0;\" x=\"317.843479\" xlink:href=\"#mbad1d91599\" y=\"71.860591\"/>\r\n     <use style=\"fill:#4c72b0;stroke:#4c72b0;\" x=\"319.442363\" xlink:href=\"#mbad1d91599\" y=\"71.419439\"/>\r\n     <use style=\"fill:#4c72b0;stroke:#4c72b0;\" x=\"321.132621\" xlink:href=\"#mbad1d91599\" y=\"69.926727\"/>\r\n     <use style=\"fill:#4c72b0;stroke:#4c72b0;\" x=\"322.927323\" xlink:href=\"#mbad1d91599\" y=\"66.928699\"/>\r\n     <use style=\"fill:#4c72b0;stroke:#4c72b0;\" x=\"324.842644\" xlink:href=\"#mbad1d91599\" y=\"65.838425\"/>\r\n     <use style=\"fill:#4c72b0;stroke:#4c72b0;\" x=\"326.898935\" xlink:href=\"#mbad1d91599\" y=\"65.617849\"/>\r\n     <use style=\"fill:#4c72b0;stroke:#4c72b0;\" x=\"329.122333\" xlink:href=\"#mbad1d91599\" y=\"65.553027\"/>\r\n     <use style=\"fill:#4c72b0;stroke:#4c72b0;\" x=\"331.547212\" xlink:href=\"#mbad1d91599\" y=\"65.306342\"/>\r\n     <use style=\"fill:#4c72b0;stroke:#4c72b0;\" x=\"334.220116\" xlink:href=\"#mbad1d91599\" y=\"65.176698\"/>\r\n     <use style=\"fill:#4c72b0;stroke:#4c72b0;\" x=\"337.206385\" xlink:href=\"#mbad1d91599\" y=\"62.373136\"/>\r\n     <use style=\"fill:#4c72b0;stroke:#4c72b0;\" x=\"340.602055\" xlink:href=\"#mbad1d91599\" y=\"57.66182\"/>\r\n     <use style=\"fill:#4c72b0;stroke:#4c72b0;\" x=\"344.557117\" xlink:href=\"#mbad1d91599\" y=\"55.481272\"/>\r\n     <use style=\"fill:#4c72b0;stroke:#4c72b0;\" x=\"349.326382\" xlink:href=\"#mbad1d91599\" y=\"53.197188\"/>\r\n     <use style=\"fill:#4c72b0;stroke:#4c72b0;\" x=\"355.400498\" xlink:href=\"#mbad1d91599\" y=\"52.665106\"/>\r\n     <use style=\"fill:#4c72b0;stroke:#4c72b0;\" x=\"363.945258\" xlink:href=\"#mbad1d91599\" y=\"48.30401\"/>\r\n     <use style=\"fill:#4c72b0;stroke:#4c72b0;\" x=\"379.087912\" xlink:href=\"#mbad1d91599\" y=\"41.464363\"/>\r\n    </g>\r\n   </g>\r\n   <g id=\"line2d_18\">\r\n    <path clip-path=\"url(#pe048d75bf4)\" d=\"M 74.724276 229.345739 \r\nL 379.087912 31.673011 \r\nL 379.087912 31.673011 \r\n\" style=\"fill:none;stroke:#c44e52;stroke-linecap:round;stroke-width:1.5;\"/>\r\n   </g>\r\n   <g id=\"patch_3\">\r\n    <path d=\"M 59.506094 239.229375 \r\nL 59.506094 21.789375 \r\n\" style=\"fill:none;stroke:#ffffff;stroke-linecap:square;stroke-linejoin:miter;stroke-width:1.25;\"/>\r\n   </g>\r\n   <g id=\"patch_4\">\r\n    <path d=\"M 394.306094 239.229375 \r\nL 394.306094 21.789375 \r\n\" style=\"fill:none;stroke:#ffffff;stroke-linecap:square;stroke-linejoin:miter;stroke-width:1.25;\"/>\r\n   </g>\r\n   <g id=\"patch_5\">\r\n    <path d=\"M 59.506094 239.229375 \r\nL 394.306094 239.229375 \r\n\" style=\"fill:none;stroke:#ffffff;stroke-linecap:square;stroke-linejoin:miter;stroke-width:1.25;\"/>\r\n   </g>\r\n   <g id=\"patch_6\">\r\n    <path d=\"M 59.506094 21.789375 \r\nL 394.306094 21.789375 \r\n\" style=\"fill:none;stroke:#ffffff;stroke-linecap:square;stroke-linejoin:miter;stroke-width:1.25;\"/>\r\n   </g>\r\n   <g id=\"text_19\">\r\n    <!-- Probability Plot -->\r\n    <g style=\"fill:#262626;\" transform=\"translate(186.887969 15.789375)scale(0.12 -0.12)\">\r\n     <defs>\r\n      <path d=\"M 7.71875 0 \r\nL 7.71875 71.578125 \r\nL 34.71875 71.578125 \r\nQ 41.84375 71.578125 45.609375 70.90625 \r\nQ 50.875 70.015625 54.4375 67.546875 \r\nQ 58.015625 65.09375 60.1875 60.640625 \r\nQ 62.359375 56.203125 62.359375 50.875 \r\nQ 62.359375 41.75 56.546875 35.421875 \r\nQ 50.734375 29.109375 35.546875 29.109375 \r\nL 17.1875 29.109375 \r\nL 17.1875 0 \r\nz\r\nM 17.1875 37.546875 \r\nL 35.6875 37.546875 \r\nQ 44.875 37.546875 48.734375 40.96875 \r\nQ 52.59375 44.390625 52.59375 50.59375 \r\nQ 52.59375 55.078125 50.3125 58.265625 \r\nQ 48.046875 61.46875 44.34375 62.5 \r\nQ 41.9375 63.140625 35.5 63.140625 \r\nL 17.1875 63.140625 \r\nz\r\n\" id=\"ArialMT-80\"/>\r\n      <path d=\"M 14.703125 0 \r\nL 6.546875 0 \r\nL 6.546875 71.578125 \r\nL 15.328125 71.578125 \r\nL 15.328125 46.046875 \r\nQ 20.90625 53.03125 29.546875 53.03125 \r\nQ 34.328125 53.03125 38.59375 51.09375 \r\nQ 42.875 49.171875 45.625 45.671875 \r\nQ 48.390625 42.1875 49.953125 37.25 \r\nQ 51.515625 32.328125 51.515625 26.703125 \r\nQ 51.515625 13.375 44.921875 6.09375 \r\nQ 38.328125 -1.171875 29.109375 -1.171875 \r\nQ 19.921875 -1.171875 14.703125 6.5 \r\nz\r\nM 14.59375 26.3125 \r\nQ 14.59375 17 17.140625 12.84375 \r\nQ 21.296875 6.0625 28.375 6.0625 \r\nQ 34.125 6.0625 38.328125 11.0625 \r\nQ 42.53125 16.0625 42.53125 25.984375 \r\nQ 42.53125 36.140625 38.5 40.96875 \r\nQ 34.46875 45.796875 28.765625 45.796875 \r\nQ 23 45.796875 18.796875 40.796875 \r\nQ 14.59375 35.796875 14.59375 26.3125 \r\nz\r\n\" id=\"ArialMT-98\"/>\r\n      <path d=\"M 6.203125 -19.96875 \r\nL 5.21875 -11.71875 \r\nQ 8.109375 -12.5 10.25 -12.5 \r\nQ 13.1875 -12.5 14.9375 -11.515625 \r\nQ 16.703125 -10.546875 17.828125 -8.796875 \r\nQ 18.65625 -7.46875 20.515625 -2.25 \r\nQ 20.75 -1.515625 21.296875 -0.09375 \r\nL 1.609375 51.859375 \r\nL 11.078125 51.859375 \r\nL 21.875 21.828125 \r\nQ 23.96875 16.109375 25.640625 9.8125 \r\nQ 27.15625 15.875 29.25 21.625 \r\nL 40.328125 51.859375 \r\nL 49.125 51.859375 \r\nL 29.390625 -0.875 \r\nQ 26.21875 -9.421875 24.46875 -12.640625 \r\nQ 22.125 -17 19.09375 -19.015625 \r\nQ 16.0625 -21.046875 11.859375 -21.046875 \r\nQ 9.328125 -21.046875 6.203125 -19.96875 \r\nz\r\n\" id=\"ArialMT-121\"/>\r\n     </defs>\r\n     <use xlink:href=\"#ArialMT-80\"/>\r\n     <use x=\"66.699219\" xlink:href=\"#ArialMT-114\"/>\r\n     <use x=\"100\" xlink:href=\"#ArialMT-111\"/>\r\n     <use x=\"155.615234\" xlink:href=\"#ArialMT-98\"/>\r\n     <use x=\"211.230469\" xlink:href=\"#ArialMT-97\"/>\r\n     <use x=\"266.845703\" xlink:href=\"#ArialMT-98\"/>\r\n     <use x=\"322.460938\" xlink:href=\"#ArialMT-105\"/>\r\n     <use x=\"344.677734\" xlink:href=\"#ArialMT-108\"/>\r\n     <use x=\"366.894531\" xlink:href=\"#ArialMT-105\"/>\r\n     <use x=\"389.111328\" xlink:href=\"#ArialMT-116\"/>\r\n     <use x=\"416.894531\" xlink:href=\"#ArialMT-121\"/>\r\n     <use x=\"466.894531\" xlink:href=\"#ArialMT-32\"/>\r\n     <use x=\"494.677734\" xlink:href=\"#ArialMT-80\"/>\r\n     <use x=\"561.376953\" xlink:href=\"#ArialMT-108\"/>\r\n     <use x=\"583.59375\" xlink:href=\"#ArialMT-111\"/>\r\n     <use x=\"639.208984\" xlink:href=\"#ArialMT-116\"/>\r\n    </g>\r\n   </g>\r\n  </g>\r\n </g>\r\n <defs>\r\n  <clipPath id=\"pe048d75bf4\">\r\n   <rect height=\"217.44\" width=\"334.8\" x=\"59.506094\" y=\"21.789375\"/>\r\n  </clipPath>\r\n </defs>\r\n</svg>\r\n",
      "image/png": "[encoded data removed]"
     },
     "metadata": {}
    }
   ],
   "source": [
    "fig2 = plt.figure()\n",
    "ax2 = fig2.add_subplot(111)\n",
    "res = stats.probplot(results2.resid, dist=stats.norm, plot=ax2)\n",
    "plt.show()"
   ]
  },
  {
   "source": [
    "### Residual Analysis\n",
    "Based on the histograms and probability plots above, the residuals appear to be fairly normally distributed. There are a few outliers in the Tenure chart, and there does appear to be some share to residuals that differs from the normal distribution. Given that the skew is relatively minor and we are performing univariate regression, the normality of the residuals is considered sufficient."
   ],
   "cell_type": "markdown",
   "metadata": {}
  },
  {
   "cell_type": "markdown",
   "metadata": {},
   "source": [
    "# Q5: Business Insights\n",
    "\n",
    "How do you interpret the results of the regressions?\n",
    "\n",
    "What do you recommend based on this analysis?"
   ]
  },
  {
   "source": [
    "## Insights\n",
    "Based on the regressions, it is clear that tenure has a significant impact on satisfaction, with employees who stay with the company being more satisfied. It is possible that there is a confounding variable in this situation that less satisfied employees are more likely to leave, and therefore satisfied employees are more likely to stay with the company.\n",
    "\n",
    "That being said, the data does suggest that the company should invest in employee retention efforts and initiatives, which are likely to improve satisfaction. These two factors are likely to have a complementary effect, where satisfaction improves retention which in turn increases satisfaction."
   ],
   "cell_type": "markdown",
   "metadata": {}
  },
  {
   "cell_type": "code",
   "execution_count": 28,
   "metadata": {},
   "outputs": [
    {
     "output_type": "stream",
     "name": "stderr",
     "text": [
      "[NbConvertApp] Converting notebook Loantronic_Regression.ipynb to html\n[NbConvertApp] Writing 722306 bytes to Loantronic_Regression.html\n"
     ]
    }
   ],
   "source": [
    "!jupyter nbconvert --to html --template full Loantronic_Regression.ipynb"
   ]
  }
 ],
 "metadata": {
  "kernelspec": {
   "name": "python3",
   "display_name": "Python 3.8.3 64-bit ('base': conda)"
  },
  "language_info": {
   "codemirror_mode": {
    "name": "ipython",
    "version": 3
   },
   "file_extension": ".py",
   "mimetype": "text/x-python",
   "name": "python",
   "nbconvert_exporter": "python",
   "pygments_lexer": "ipython3",
   "version": "3.8.3"
  },
  "interpreter": {
   "hash": "41e6209773aa37b74ace5eba6f1445f0bd28eaed78a9306a587800345dc110dd"
  }
 },
 "nbformat": 4,
 "nbformat_minor": 4
}